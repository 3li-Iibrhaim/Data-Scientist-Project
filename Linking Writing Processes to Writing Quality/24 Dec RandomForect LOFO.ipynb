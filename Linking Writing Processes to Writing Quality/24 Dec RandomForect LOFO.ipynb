{
 "cells": [
  {
   "cell_type": "code",
   "execution_count": 1,
   "id": "06595bb5",
   "metadata": {},
   "outputs": [
    {
     "name": "stderr",
     "output_type": "stream",
     "text": [
      "C:\\Users\\ai\\Desktop\\env\\Lib\\site-packages\\lofo\\lofo_importance.py:3: TqdmExperimentalWarning: Using `tqdm.autonotebook.tqdm` in notebook mode. Use `tqdm.tqdm` instead to force console mode (e.g. in jupyter console)\n",
      "  from tqdm.autonotebook import tqdm\n"
     ]
    }
   ],
   "source": [
    "from lofo import LOFOImportance, Dataset, plot_importance\n",
    "import warnings\n",
    "warnings.simplefilter('ignore')\n",
    "\n",
    "# pd.set_option('display.max_rows', 300)\n",
    "import polars as pl\n",
    "import pandas as pd\n",
    "import numpy as np\n",
    "from sklearn.preprocessing import StandardScaler, MinMaxScaler\n",
    "from sklearn.linear_model import Ridge, LinearRegression, Lasso, ElasticNet\n",
    "from sklearn.ensemble import RandomForestRegressor\n",
    "\n",
    "from sklearn.svm import SVR\n",
    "from scipy.stats import linregress\n",
    "from scipy.stats import entropy\n",
    "\n",
    "\n",
    "import gc\n",
    "import re\n",
    "pd.set_option('display.max_columns', 50)\n",
    "\n",
    "from lightgbm import LGBMRegressor\n",
    "from sklearn.model_selection import KFold, StratifiedKFold, GroupKFold\n",
    "\n",
    "from sklearn.preprocessing import LabelEncoder\n",
    "from sklearn.model_selection import KFold, StratifiedKFold, GroupKFold\n",
    "from sklearn.metrics import mean_squared_error\n",
    "\n",
    "from lofo import LOFOImportance, Dataset, plot_importance\n",
    "import lightgbm as lgb"
   ]
  },
  {
   "cell_type": "code",
   "execution_count": 3,
   "id": "30eb39fc",
   "metadata": {},
   "outputs": [
    {
     "data": {
      "text/plain": [
       "(2471, 916)"
      ]
     },
     "execution_count": 3,
     "metadata": {},
     "output_type": "execute_result"
    }
   ],
   "source": [
    "train_feats = pd.read_csv('train_916_feature.csv')\n",
    "train_feats.shape"
   ]
  },
  {
   "cell_type": "code",
   "execution_count": 4,
   "id": "7bd0509c",
   "metadata": {},
   "outputs": [
    {
     "data": {
      "text/plain": [
       "(2471, 993)"
      ]
     },
     "execution_count": 4,
     "metadata": {},
     "output_type": "execute_result"
    }
   ],
   "source": [
    "for dt in [train_feats]:\n",
    "    dt['sent_len_ge_50_count_IKI_ median_Divid'] = dt['sent_len_ge_50_count'] / (dt['IKI_median'] + 1)\n",
    "    dt['sent_word_count_mean_paragraph_word_count_mean_Divid'] = dt['sent_word_count_mean'] / (dt['paragraph_word_count_mean'] + 1)\n",
    "    dt['sent_word_count_mean_cursor_position_diff_Enter_sum_Divid'] = dt['sent_word_count_mean']/dt['cursor_position_diff_Enter_sum'] + 1\n",
    "    dt['down_event_8_cnt_cursor_position_diff_Enter_sum_Divid'] = dt['down_event_8_cnt'] / (dt['cursor_position_diff_Enter_sum'] + 1)\n",
    "    dt['down_event_8_cnt_pauses_1_sec_Divid'] = dt['down_event_8_cnt'] / (dt['pauses_1_sec'] + 1)\n",
    "    dt['word_count_diff_Input_mean_sent_len_std_Divid'] = dt['word_count_diff_Input_mean'] / (dt['sent_len_std'] + 1)\n",
    "    dt['word_count_diff_Input_mean_paragraph_word_count_mean_Divid'] = dt['word_count_diff_Input_mean'] / (dt['paragraph_word_count_mean'] + 1)\n",
    "    dt['word_count_diff_Input_mean_cursor_position_diff_Enter_sum_Divid'] = dt['word_count_diff_Input_mean'] / (dt['cursor_position_diff_Enter_sum'] + 1)\n",
    "    dt['sent_len_std_cursor_position_diff_Leftclick_max_Divid'] = dt['sent_len_std'] / (dt['cursor_position_diff_Leftclick_max'] + 1)\n",
    "    dt['sent_len_std_cursor_position_diff_Enter_sum_Divid'] = dt['sent_len_std'] / (dt['cursor_position_diff_Enter_sum'] + 1)\n",
    "    dt['IKI_ median_sent_len_std_Divid'] = dt['IKI_median'] / (dt['sent_len_std'] + 1)\n",
    "    dt['paragraph_word_count_mean_pauses_1_sec_Divid'] = dt['paragraph_word_count_mean'] / (dt['pauses_1_sec'] + 1)\n",
    "    dt['word_len_max_IKI_ median_Divid'] = dt['word_len_max'] / (dt['IKI_median'] + 1)\n",
    "    dt['word_len_max_pauses_1_sec_Divid'] = dt['word_len_max'] / (dt['pauses_1_sec'] + 1)\n",
    "    dt['input_word_length_mean_IKI_ median_Divid'] = dt['input_word_length_mean'] / (dt['IKI_median'] + 1)\n",
    "    dt['input_word_length_mean_cursor_position_diff_Enter_sum_Divid'] = dt['input_word_length_mean'] / (dt['cursor_position_diff_Enter_sum'] + 1)\n",
    "    \n",
    "    dt['sent_len_ge_50_count_time_diff_Input_mean_Div'] = dt['sent_len_ge_50_count'] / (dt['time_diff_Input_mean'] + 1)\n",
    "    dt['P-bursts_count_time_diff_Input_mean_Div'] = dt['P-bursts_count'] / (dt['time_diff_Input_mean'] + 1)\n",
    "    dt['pauses_1_sec_P-bursts_count_Divv'] = dt['pauses_1_sec'] / (dt['P-bursts_count'] + 1)\n",
    "    dt['P-bursts_count_time_diff_abostrove_max_Div'] = dt['P-bursts_count'] / (dt['time_diff_abostrove_max'] + 1)\n",
    "    dt['text_change_4_cnt_sent_len_ge_50_count_Div'] = dt['text_change_4_cnt'] / (dt['sent_len_ge_50_count'] + 1)\n",
    "    dt['down_event_5_cnt_sent_len_ge_50_count_Div'] = dt['down_event_5_cnt'] / (dt['sent_len_ge_50_count'] + 1)\n",
    "    dt['P-bursts_median_sent_len_ge_50_count_Div'] = dt['P-bursts_median'] / (dt['sent_len_ge_50_count'] + 1)\n",
    "\n",
    "\n",
    "\n",
    "    dt['sent_len_std_cursor_position_diff_Enter_sum_Div'] = dt['sent_len_std'] / (dt['cursor_position_diff_Enter_sum'] + 1)\n",
    "    dt['sent_len_std_time_diff_Backspace_median_Div'] = dt['sent_len_std'] / (dt['time_diff_Backspace_median'] + 1)\n",
    "    dt['cursor_position_diff_Enter_sum_time_diff_Backspace_median_Div'] = dt['cursor_position_diff_Enter_sum'] / dt['time_diff_Backspace_median']\n",
    "    dt['text_change_3_cnt_time_diff_Backspace_median_Div'] = dt['text_change_3_cnt'] / (dt['time_diff_Backspace_median'] + 1)\n",
    "    dt['word_len_kurt_cursor_position_diff_Enter_sum_Div'] = dt['word_len_kurt'] / (dt['cursor_position_diff_Enter_sum'] + 1)\n",
    "    dt['sent_len_median_cursor_position_diff_Enter_sum_Div'] = dt['sent_len_median'] / (dt['cursor_position_diff_Enter_sum'] + 1)\n",
    "    dt['sent_len_median_time_diff_Backspace_median_Div'] = dt['sent_len_median'] / (dt['time_diff_Backspace_median'] + 1)\n",
    "    dt['sent_len_median_paragraph_count_Div'] = dt['sent_len_median'] / (dt['paragraph_count'] + 1)\n",
    "    dt['word_count_diff_Input_mean_sent_len_median_Div'] = dt['word_count_diff_Input_mean'] / (dt['sent_len_median'] + 1)\n",
    "    dt['word_count_diff_Input_mean_text_change_3_cnt_Div'] = dt['word_count_diff_Input_mean'] / (dt['text_change_3_cnt'] + 1)\n",
    "    dt['word_count_diff_Input_mean_word_len_max_Div'] = dt['word_count_diff_Input_mean'] / (dt['word_len_max'] + 1)\n",
    "    dt['word_count_diff_Input_mean_paragraph_count_Div'] = dt['word_count_diff_Input_mean'] / (dt['paragraph_count'] + 1)\n",
    "    dt['text_change_3_cnt_paragraph_len_last_Div'] = dt['text_change_3_cnt'] / (dt['paragraph_len_last'] + 1)\n",
    "\n",
    "    dt['word_len_std_word_count_diff_Input_mean_MUl'] = dt['word_len_std'] * dt['word_count_diff_Input_mean']\n",
    "    dt['word_len_ge_5_count_IKI_median_MUl'] = dt['word_len_ge_5_count'] * dt['IKI_median']\n",
    "    dt['time_diff_Remove/Cut_median_word_len_std_DIVV'] = dt['time_diff_Remove/Cut_median'] / (dt['word_len_std'] +1)\n",
    "    dt['text_change_3_cnt_punct_cnt_DIVV'] = dt['text_change_3_cnt'] / (dt['punct_cnt'] +1)\n",
    "    \n",
    "\n",
    "    for one, two in [(9,10),(8,9),(7,8), (6,7),(5,6),(4,5)]:\n",
    "        \n",
    "        dt[f'word_len_ge_{one}_count_word_len_ge_{two}_count_SUBB'] = dt[f'word_len_ge_{one}_count'] - dt[f'word_len_ge_{two}_count']\n",
    "        dt[f'word_len_ge_{one}_count_word_len_ge_{two}_count_MULT'] = dt[f'word_len_ge_{one}_count'] + dt[f'word_len_ge_{two}_count']\n",
    "\n",
    "    for o,t in [(1,3), (2,3),(2,1)]:\n",
    "        dt[f'pauses_{o}_sec_pauses_{t}_sec_DIVV'] = dt[f'pauses_{o}_sec'] / (dt[f'pauses_{t}_sec'] + 1)\n",
    "        dt[f'pauses_{o}_sec_pauses_{t}_sec_SUB'] = np.abs(dt[f'pauses_{o}_sec'] - dt[f'pauses_{t}_sec'])\n",
    "        \n",
    "  \n",
    "    dt['IKI_median_sent_len_ge_80_count_MULT'] = dt['IKI_median'] * dt['sent_len_ge_80_count']\n",
    "    dt['IKI_median_change_3_cnt_MULT'] = dt['IKI_median'] * dt['text_change_3_cnt']\n",
    "    dt['IKI_median_word_len_std_MULT'] = dt['IKI_median'] * dt['word_len_std']\n",
    "    dt['IKI_median_paragraph_len_max_MULT'] = dt['IKI_median'] * dt['paragraph_len_max']\n",
    "    dt['IKI_median_pauses_half_sec_MULT'] = dt['IKI_median'] * dt['pauses_half_sec']\n",
    "    \n",
    "    dt['pauses_half_sec_word_len_mean_MULT'] = dt['pauses_half_sec'] / (dt['word_len_mean'] +1)\n",
    "    dt['pauses_half_sec_sent_word_count_first_MULT'] = dt['pauses_half_sec'] / (dt['sent_word_count_first'] +1)\n",
    "    \n",
    "    dt['pauses_half_sec_word_len_mean_MULT'] = dt['pauses_half_sec'] * dt['word_len_mean'] \n",
    "    dt['pauses_half_sec_sent_word_count_first_MULT'] = dt['pauses_half_sec'] * dt['sent_word_count_first'] \n",
    "    \n",
    "    dt['word_len_sem_pauses_1_half_sec_MULT'] = dt['word_len_sem'] * dt['pauses_1_half_sec']\n",
    "    dt['word_len_sem_text_change_3_cnt_MULT'] = dt['word_len_sem'] * dt['text_change_3_cnt']\n",
    "    dt['word_len_sem_sent_len_ge_75_count_MULT'] = dt['word_len_sem'] * dt['sent_len_ge_75_count']\n",
    "    \n",
    "    dt['inter_key_median_lantency_sent_len_ge_80_count_MULT'] = dt['inter_key_median_lantency'] * dt['sent_len_ge_80_count']\n",
    "    dt['inter_key_median_lantency_text_change_3_cnt_MULT'] = dt['inter_key_median_lantency'] * dt['text_change_3_cnt']\n",
    "    \n",
    "    dt['sd_keystrokes_180s_sent_word_count_max_DIV'] = dt['sd_keystrokes_180s'] / (dt['sent_word_count_max'] +1)\n",
    "    dt['sd_keystrokes_180s_mean_keystrokes_5s_DIV'] = dt['sd_keystrokes_180s'] / (dt['mean_keystrokes_5s'] +1)\n",
    "    dt['sd_keystrokes_180s_paragraph_word_count_q1_DIV'] = dt['sd_keystrokes_180s'] / (dt['paragraph_word_count_q1'] +1)\n",
    "    dt['sd_keystrokes_180s_60s_extrema_per_user_DIV'] = dt['sd_keystrokes_180s'] /( dt['60s_extrema_per_user'] +1)\n",
    "    \n",
    "    dt['Percentage_of_I_bursts_activity_2_cnt_DIVV'] = dt['Percentage_of_I_bursts'] / (dt['activity_2_cnt'] +1)\n",
    "    dt['Percentage_of_I_bursts_sent_len_median_DIVV'] = dt['Percentage_of_I_bursts'] / (dt['sent_len_median'] +1)\n",
    "    dt['Percentage_of_I_bursts_paragraph_word_count_median_DIVV'] = dt['Percentage_of_I_bursts'] / (dt['paragraph_word_count_median'] +1)\n",
    "    \n",
    "train_feats.shape"
   ]
  },
  {
   "cell_type": "code",
   "execution_count": 5,
   "id": "d3163b31",
   "metadata": {},
   "outputs": [
    {
     "name": "stdout",
     "output_type": "stream",
     "text": [
      "97 FEATURES hase one value will be deleted .\n",
      "142 FEATURES  will be deleted\n"
     ]
    }
   ],
   "source": [
    "   # drop unique feature\n",
    "unique_feature = []\n",
    "for col in train_feats.columns:\n",
    "    if (train_feats[col].value_counts().count() ==1):\n",
    "        unique_feature.append(col)\n",
    "        \n",
    "columns_no_dublicated = (train_feats.copy().T.drop_duplicates().T).columns\n",
    "dublicate_columns = np.setdiff1d( train_feats.columns, columns_no_dublicated)\n",
    "# doplicate featurs\n",
    "# train_feats.drop(unique_feature,axis=1,inplace=True)\n",
    "print(f'{len(unique_feature)} FEATURES hase one value will be deleted .')\n",
    "print(f'{len(dublicate_columns)} FEATURES  will be deleted')\n",
    "\n",
    "train_feats = train_feats.drop(unique_feature, axis=1)\n",
    "train_feats = train_feats.drop([col for col in dublicate_columns if col not in unique_feature],axis=1)"
   ]
  },
  {
   "cell_type": "code",
   "execution_count": 6,
   "id": "6f34a85e",
   "metadata": {},
   "outputs": [
    {
     "data": {
      "text/plain": [
       "(2471, 806)"
      ]
     },
     "execution_count": 6,
     "metadata": {},
     "output_type": "execute_result"
    }
   ],
   "source": [
    "train_feats.shape"
   ]
  },
  {
   "cell_type": "code",
   "execution_count": 7,
   "id": "def571af",
   "metadata": {},
   "outputs": [
    {
     "name": "stdout",
     "output_type": "stream",
     "text": [
      "FEATURES :  789\n"
     ]
    }
   ],
   "source": [
    "# drop this also calumns have value counts 2000\n",
    "# not_include_feature = [col for col in features if train_feats[col].value_counts().isin(np.arange(2470, 2000,-1)).any()]\n",
    "\n",
    "feature_names = [col for col in train_feats.columns if col not in ['score','id', 'essay', 'word', 'sent', 'paragraph']]\n",
    "\n",
    "# Prepare DataFrame for modelling\n",
    "\n",
    "inf_columns = [col for col in feature_names if np.isinf(train_feats[col]).sum() > 0]\n",
    "\n",
    "feature_names = [col for col in feature_names if col not in inf_columns]\n",
    "\n",
    "# # Na\n",
    "# na_values = [col for col in feature_names if train_feats[col].isna().sum() > 2000]\n",
    "\n",
    "# feature_names = [col for col in feature_names if col not in na_values]\n",
    "print('FEATURES : ', len(feature_names))"
   ]
  },
  {
   "cell_type": "code",
   "execution_count": 8,
   "id": "98e93512",
   "metadata": {
    "scrolled": false
   },
   "outputs": [
    {
     "name": "stdout",
     "output_type": "stream",
     "text": [
      "['activity_0_cnt', 'activity_1_cnt', 'activity_2_cnt', 'activity_3_cnt', 'activity_4_cnt', 'text_change_0_cnt', 'text_change_1_cnt', 'text_change_2_cnt', 'text_change_3_cnt', 'text_change_4_cnt', 'text_change_5_cnt', 'text_change_6_cnt', 'text_change_7_cnt', 'text_change_8_cnt', 'text_change_9_cnt', 'text_change_10_cnt', 'text_change_11_cnt', 'text_change_12_cnt', 'text_change_13_cnt', 'down_event_0_cnt', 'down_event_1_cnt', 'down_event_2_cnt', 'down_event_3_cnt', 'down_event_4_cnt', 'down_event_5_cnt', 'down_event_6_cnt', 'down_event_7_cnt', 'down_event_8_cnt', 'down_event_9_cnt', 'down_event_10_cnt', 'down_event_11_cnt', 'down_event_12_cnt', 'down_event_13_cnt', 'down_event_14_cnt', 'down_event_15_cnt', 'up_event_0_cnt', 'input_word_length_median', 'input_word_length_skew', 'down_time_mean', 'up_time_mean', 'down_time_std', 'up_time_std', 'cursor_position_std', 'word_count_std', 'down_time_median', 'up_time_median', 'action_time_median', 'cursor_position_median', 'word_count_median', 'down_time_min', 'up_time_min', 'word_count_min', 'down_time_max', 'down_time_quantile', 'up_time_quantile', 'activity', 'down_event', 'up_event', 'text_change', 'inter_key_largest_lantency', 'inter_key_median_lantency', 'mean_pause_time', 'std_pause_time', 'total_pause_time', 'pauses_half_sec', 'pauses_1_sec', 'pauses_1_half_sec', 'pauses_2_sec', 'pauses_3_sec', 'P-bursts_mean', 'P-bursts_std', 'P-bursts_count', 'P-bursts_median', 'P-bursts_max', 'P-bursts_first', 'P-bursts_last', 'R-bursts_mean', 'R-bursts_std', 'R-bursts_median', 'R-bursts_max', 'R-bursts_first', 'R-bursts_last', 'keys_per_second', 'product_to_keys', 'event_id_max', 'up_time_max', 'action_time_max', 'action_time_min', 'action_time_mean', 'action_time_std', 'action_time_sem', 'action_time_sum', 'action_time_skew', 'action_time_<function NDFrame._add_numeric_operations.<locals>.kurt at 0x000000AF92C74FE0>', 'cursor_position_nunique', 'cursor_position_max', 'cursor_position_sem', 'cursor_position_mean', 'word_count_nunique', 'word_count_max', 'word_count_sem', 'word_count_mean', 'action_time_gap_1_max', 'action_time_gap_1_min', 'action_time_gap_1_mean', 'action_time_gap_1_std', 'action_time_gap_1_sum', 'action_time_gap_2_max', 'action_time_gap_2_min', 'action_time_gap_2_mean', 'action_time_gap_2_std', 'action_time_gap_2_sum', 'action_time_gap_3_max', 'action_time_gap_3_min', 'action_time_gap_3_mean', 'action_time_gap_3_std', 'action_time_gap_3_sum', 'action_time_gap_5_max', 'action_time_gap_5_min', 'action_time_gap_5_mean', 'action_time_gap_5_std', 'action_time_gap_5_sum', 'action_time_gap_10_max', 'action_time_gap_10_min', 'action_time_gap_10_mean', 'action_time_gap_10_std', 'action_time_gap_10_sum', 'action_time_gap_20_max', 'action_time_gap_20_min', 'action_time_gap_20_mean', 'action_time_gap_20_std', 'action_time_gap_20_sum', 'action_time_gap_50_max', 'action_time_gap_50_min', 'action_time_gap_50_mean', 'action_time_gap_50_std', 'action_time_gap_50_sum', 'action_time_gap_100_max', 'action_time_gap_100_min', 'action_time_gap_100_mean', 'action_time_gap_100_std', 'action_time_gap_100_sum', 'cursor_position_change_1_max', 'cursor_position_change_1_mean', 'cursor_position_change_1_std', 'cursor_position_change_1_sum', 'cursor_position_change_2_max', 'cursor_position_change_2_mean', 'cursor_position_change_2_std', 'cursor_position_change_2_sum', 'cursor_position_change_3_max', 'cursor_position_change_3_mean', 'cursor_position_change_3_std', 'cursor_position_change_3_sum', 'cursor_position_change_5_max', 'cursor_position_change_5_mean', 'cursor_position_change_5_std', 'cursor_position_change_5_sum', 'cursor_position_change_10_max', 'cursor_position_change_10_mean', 'cursor_position_change_10_std', 'cursor_position_change_10_sum', 'cursor_position_change_20_max', 'cursor_position_change_20_mean', 'cursor_position_change_20_std', 'cursor_position_change_20_sum', 'cursor_position_change_50_max', 'cursor_position_change_50_mean', 'cursor_position_change_50_std', 'cursor_position_change_50_sum', 'cursor_position_change_100_max', 'cursor_position_change_100_mean', 'cursor_position_change_100_std', 'cursor_position_change_100_sum', 'word_count_change_1_max', 'word_count_change_1_mean', 'word_count_change_1_std', 'word_count_change_1_sum', 'word_count_change_2_max', 'word_count_change_2_mean', 'word_count_change_2_std', 'word_count_change_2_sum', 'word_count_change_3_max', 'word_count_change_3_mean', 'word_count_change_3_std', 'word_count_change_3_sum', 'word_count_change_5_max', 'word_count_change_5_mean', 'word_count_change_5_std', 'word_count_change_5_sum', 'word_count_change_10_max', 'word_count_change_10_mean', 'word_count_change_10_std', 'word_count_change_10_sum', 'word_count_change_20_max', 'word_count_change_20_mean', 'word_count_change_20_std', 'word_count_change_20_sum', 'word_count_change_50_max', 'word_count_change_50_mean', 'word_count_change_50_std', 'word_count_change_50_sum', 'word_count_change_100_max', 'word_count_change_100_mean', 'word_count_change_100_std', 'word_count_change_100_sum', 'punct_cnt', 'input_word_count', 'input_word_length_mean', 'input_word_length_max', 'input_word_length_std', 'word_time_ratio', 'word_event_ratio', 'event_time_ratio', 'time_diff_q_std', 'time_diff_Space_std', 'time_diff_Backspace_std', 'time_diff_Shift_std', 'time_diff_ArrowRight_std', 'time_diff_Leftclick_std', 'time_diff_ArrowLeft_std', 'time_diff_dot_std', 'time_diff_comma_std', 'time_diff_ArrowDown_std', 'time_diff_ArrowUp_std', 'time_diff_Enter_std', 'time_diff_CapsLock_std', 'time_diff_abostrove_std', 'time_diff_Delete_std', 'time_diff_Unidentified_std', 'time_diff_q_mean', 'time_diff_Space_mean', 'time_diff_Backspace_mean', 'time_diff_Shift_mean', 'time_diff_ArrowRight_mean', 'time_diff_Leftclick_mean', 'time_diff_ArrowLeft_mean', 'time_diff_dot_mean', 'time_diff_comma_mean', 'time_diff_ArrowDown_mean', 'time_diff_ArrowUp_mean', 'time_diff_Enter_mean', 'time_diff_CapsLock_mean', 'time_diff_abostrove_mean', 'time_diff_Delete_mean', 'time_diff_Unidentified_mean', 'time_diff_q_sum', 'time_diff_Space_sum', 'time_diff_Backspace_sum', 'time_diff_Shift_sum', 'time_diff_ArrowRight_sum', 'time_diff_Leftclick_sum', 'time_diff_ArrowLeft_sum', 'time_diff_dot_sum', 'time_diff_comma_sum', 'time_diff_ArrowDown_sum', 'time_diff_ArrowUp_sum', 'time_diff_Enter_sum', 'time_diff_CapsLock_sum', 'time_diff_abostrove_sum', 'time_diff_Delete_sum', 'time_diff_Unidentified_sum', 'time_diff_q_median', 'time_diff_Space_median', 'time_diff_Backspace_median', 'time_diff_Shift_median', 'time_diff_ArrowRight_median', 'time_diff_Leftclick_median', 'time_diff_ArrowLeft_median', 'time_diff_dot_median', 'time_diff_comma_median', 'time_diff_ArrowDown_median', 'time_diff_ArrowUp_median', 'time_diff_Enter_median', 'time_diff_CapsLock_median', 'time_diff_abostrove_median', 'time_diff_Delete_median', 'time_diff_Unidentified_median', 'time_diff_q_max', 'time_diff_Space_max', 'time_diff_Backspace_max', 'time_diff_Shift_max', 'time_diff_ArrowRight_max', 'time_diff_Leftclick_max', 'time_diff_ArrowLeft_max', 'time_diff_dot_max', 'time_diff_comma_max', 'time_diff_ArrowDown_max', 'time_diff_ArrowUp_max', 'time_diff_Enter_max', 'time_diff_CapsLock_max', 'time_diff_abostrove_max', 'time_diff_Delete_max', 'time_diff_Unidentified_max', 'cursor_position_diff_q_std', 'cursor_position_diff_Space_std', 'cursor_position_diff_Backspace_std', 'cursor_position_diff_Shift_std', 'cursor_position_diff_ArrowRight_std', 'cursor_position_diff_Leftclick_std', 'cursor_position_diff_ArrowLeft_std', 'cursor_position_diff_dot_std', 'cursor_position_diff_comma_std', 'cursor_position_diff_ArrowDown_std', 'cursor_position_diff_ArrowUp_std', 'cursor_position_diff_Enter_std', 'cursor_position_diff_abostrove_std', 'cursor_position_diff_Delete_std', 'cursor_position_diff_q_mean', 'cursor_position_diff_Space_mean', 'cursor_position_diff_Backspace_mean', 'cursor_position_diff_Shift_mean', 'cursor_position_diff_ArrowRight_mean', 'cursor_position_diff_Leftclick_mean', 'cursor_position_diff_ArrowLeft_mean', 'cursor_position_diff_dot_mean', 'cursor_position_diff_comma_mean', 'cursor_position_diff_ArrowDown_mean', 'cursor_position_diff_ArrowUp_mean', 'cursor_position_diff_Enter_mean', 'cursor_position_diff_abostrove_mean', 'cursor_position_diff_Delete_mean', 'cursor_position_diff_q_sum', 'cursor_position_diff_Space_sum', 'cursor_position_diff_Backspace_sum', 'cursor_position_diff_Shift_sum', 'cursor_position_diff_ArrowRight_sum', 'cursor_position_diff_Leftclick_sum', 'cursor_position_diff_ArrowLeft_sum', 'cursor_position_diff_dot_sum', 'cursor_position_diff_comma_sum', 'cursor_position_diff_ArrowDown_sum', 'cursor_position_diff_ArrowUp_sum', 'cursor_position_diff_Enter_sum', 'cursor_position_diff_abostrove_sum', 'cursor_position_diff_Delete_sum', 'cursor_position_diff_ArrowRight_median', 'cursor_position_diff_Leftclick_median', 'cursor_position_diff_ArrowLeft_median', 'cursor_position_diff_ArrowDown_median', 'cursor_position_diff_ArrowUp_median', 'cursor_position_diff_abostrove_median', 'cursor_position_diff_Delete_median', 'cursor_position_diff_Space_max', 'cursor_position_diff_Backspace_max', 'cursor_position_diff_Shift_max', 'cursor_position_diff_ArrowRight_max', 'cursor_position_diff_Leftclick_max', 'cursor_position_diff_ArrowLeft_max', 'cursor_position_diff_dot_max', 'cursor_position_diff_ArrowDown_max', 'cursor_position_diff_ArrowUp_max', 'cursor_position_diff_Enter_max', 'cursor_position_diff_Delete_max', 'word_count_diff_q_std', 'word_count_diff_Space_std', 'word_count_diff_Backspace_std', 'word_count_diff_Leftclick_std', 'word_count_diff_dot_std', 'word_count_diff_comma_std', 'word_count_diff_Enter_std', 'word_count_diff_abostrove_std', 'word_count_diff_Delete_std', 'word_count_diff_q_mean', 'word_count_diff_Space_mean', 'word_count_diff_Backspace_mean', 'word_count_diff_Leftclick_mean', 'word_count_diff_dot_mean', 'word_count_diff_comma_mean', 'word_count_diff_Enter_mean', 'word_count_diff_abostrove_mean', 'word_count_diff_Delete_mean', 'word_count_diff_q_sum', 'word_count_diff_Space_sum', 'word_count_diff_Backspace_sum', 'word_count_diff_Leftclick_sum', 'word_count_diff_dot_sum', 'word_count_diff_comma_sum', 'word_count_diff_Enter_sum', 'word_count_diff_abostrove_sum', 'word_count_diff_Delete_sum', 'word_count_diff_Space_median', 'word_count_diff_Delete_median', 'word_count_diff_Space_max', 'word_count_diff_Leftclick_max', 'word_count_diff_Delete_max', 'time_diff_Input_std', 'time_diff_Remove/Cut_std', 'time_diff_Nonproduction_std', 'time_diff_Replace_std', 'time_diff_Paste_std', 'time_diff_Input_mean', 'time_diff_Remove/Cut_mean', 'time_diff_Nonproduction_mean', 'time_diff_Replace_mean', 'time_diff_Paste_mean', 'time_diff_Input_sum', 'time_diff_Remove/Cut_sum', 'time_diff_Nonproduction_sum', 'time_diff_Replace_sum', 'time_diff_Paste_sum', 'time_diff_Input_median', 'time_diff_Remove/Cut_median', 'time_diff_Nonproduction_median', 'time_diff_Replace_median', 'time_diff_Paste_median', 'time_diff_Input_max', 'time_diff_Remove/Cut_max', 'time_diff_Nonproduction_max', 'time_diff_Replace_max', 'time_diff_Paste_max', 'cursor_position_diff_Input_std', 'cursor_position_diff_Remove/Cut_std', 'cursor_position_diff_Nonproduction_std', 'cursor_position_diff_Replace_std', 'cursor_position_diff_Paste_std', 'cursor_position_diff_Input_mean', 'cursor_position_diff_Remove/Cut_mean', 'cursor_position_diff_Nonproduction_mean', 'cursor_position_diff_Replace_mean', 'cursor_position_diff_Paste_mean', 'cursor_position_diff_Input_sum', 'cursor_position_diff_Remove/Cut_sum', 'cursor_position_diff_Nonproduction_sum', 'cursor_position_diff_Replace_sum', 'cursor_position_diff_Paste_sum', 'cursor_position_diff_Remove/Cut_median', 'cursor_position_diff_Nonproduction_median', 'cursor_position_diff_Replace_median', 'cursor_position_diff_Paste_median', 'cursor_position_diff_Input_max', 'cursor_position_diff_Remove/Cut_max', 'cursor_position_diff_Nonproduction_max', 'cursor_position_diff_Replace_max', 'cursor_position_diff_Paste_max', 'word_count_diff_Input_std', 'word_count_diff_Remove/Cut_std', 'word_count_diff_Replace_std', 'word_count_diff_Paste_std', 'word_count_diff_Input_mean', 'word_count_diff_Remove/Cut_mean', 'word_count_diff_Replace_mean', 'word_count_diff_Paste_mean', 'word_count_diff_Input_sum', 'word_count_diff_Remove/Cut_sum', 'word_count_diff_Replace_sum', 'word_count_diff_Paste_sum', 'word_count_diff_Replace_median', 'word_count_diff_Paste_median', 'word_count_diff_Replace_max', 'word_count_diff_Paste_max', 'word_len_count', 'word_len_mean', 'word_len_std', 'word_len_min', 'word_len_max', 'word_len_first', 'word_len_last', 'word_len_sem', 'word_len_q1', 'word_len_median', 'word_len_q3', 'word_len_skew', 'word_len_kurt', 'word_len_sum', 'word_len_ge_2_count', 'word_len_ge_3_count', 'word_len_ge_4_count', 'word_len_ge_5_count', 'word_len_ge_6_count', 'word_len_ge_7_count', 'word_len_ge_8_count', 'word_len_ge_9_count', 'word_len_ge_10_count', 'word_len_ge_11_count', 'word_len_ge_12_count', 'word_len_ge_13_count', 'word_len_ge_14_count', 'word_len_ge_15_count', 'sent_count', 'sent_len_mean', 'sent_len_std', 'sent_len_min', 'sent_len_max', 'sent_len_first', 'sent_len_last', 'sent_len_sem', 'sent_len_q1', 'sent_len_median', 'sent_len_q3', 'sent_len_skew', 'sent_len_kurt', 'sent_len_sum', 'sent_word_count_mean', 'sent_word_count_std', 'sent_word_count_min', 'sent_word_count_max', 'sent_word_count_first', 'sent_word_count_last', 'sent_word_count_sem', 'sent_word_count_q1', 'sent_word_count_median', 'sent_word_count_q3', 'sent_word_count_skew', 'sent_word_count_kurt', 'sent_word_count_sum', 'sent_len_ge_15_count', 'sent_len_ge_50_count', 'sent_len_ge_60_count', 'sent_len_ge_75_count', 'sent_len_ge_80_count', 'sent_len_ge_120_count', 'sent_len_ge_150_count', 'sent_len_ge_180_count', 'sent_len_ge_100_count', 'paragraph_count', 'paragraph_len_mean', 'paragraph_len_std', 'paragraph_len_min', 'paragraph_len_max', 'paragraph_len_first', 'paragraph_len_last', 'paragraph_len_sem', 'paragraph_len_q1', 'paragraph_len_median', 'paragraph_len_q3', 'paragraph_len_skew', 'paragraph_len_kurt', 'paragraph_len_sum', 'paragraph_word_count_mean', 'paragraph_word_count_std', 'paragraph_word_count_min', 'paragraph_word_count_max', 'paragraph_word_count_first', 'paragraph_word_count_last', 'paragraph_word_count_sem', 'paragraph_word_count_q1', 'paragraph_word_count_median', 'paragraph_word_count_q3', 'paragraph_word_count_skew', 'paragraph_word_count_kurt', 'paragraph_word_count_sum', 'word_len_ge_6_count_mp', 'word_len_ge_6_count_mt', 'word_len_ge_6_count_mi', 'word_len_ge_6_count_md', 'initial_pause_time', 'total_time', 'IKI_mean', 'IKI_median', 'IKI_max', 'IKI_std', 'IKI_sum', 'IKI_skew', 'IKI_bw_letter_mean', 'IKI_bw_letter_sum', 'IKI_bw_letter_max', 'IKI_bw_letter_min', 'IKI_bw_letter_skew', 'Total_Number_of_pause', 'Number_of_Pause_bw_word', 'Number_of_backspaces', 'backspacing_time_mean', 'backspacing_time_std', 'backspacing_time_max', 'backspacing_time_sum', 'backspacing_time_skew', 'backspacing_time_count', 'long_pauses_count', 'long_pauses_sum', 'long_pauses_std', 'long_pauses_mean', 'percentage_long_pauses', 'Number of Revesions', 'Number of revisions Backspace 2 word', 'Number of revisions Remove/Cut 2 word', 'Number of revisions Backspace 3 word', 'Number of revisions Remove/Cut 3 word', 'Number of revisions Backspace 4 word', 'Number of revisions Remove/Cut 4 word', 'Number of revisions Backspace 5 word', 'Number of revisions Remove/Cut 5 word', 'Number of revisions Backspace 10 word', 'Number of revisions Remove/Cut 10 word', 'Number of revisions Backspace 14 word', 'Number of revisions Remove/Cut 14 word', 'Number of revisions Backspace 50 word', 'Number of revisions Remove/Cut 50 word', 'leading-edge revisions_max', 'leading-edge revisions_sum', 'leading-edge revisions_std', 'leading-edge revisions_mean', 'leading-edge revisions_count', 'sequence_of_backspaces_mean', 'sequence_of_backspaces_std', 'sequence_of_backspaces_sum', 'sequence_of_backspaces_max', 'sequence_of_backspaces_min', 'number_of_characters', 'number_of_characters_at_leading_edg', 'num_bursts', 'max_chars_per_burst', 'mean_chars_per_burst', 'std_chars_per_burst', 'num_revision_bursts', 'Percentage_of_R_bursts', 'num_insertion_bursts', 'Percentage_of_I_bursts', 'sd_keystrokes_5s', 'mean_keystrokes_5s', 'max_keystrokes_5s', 'min_keystrokes_5s', 'median_keystrokes_5s', 'sd_keystrokes_8s', 'mean_keystrokes_8s', 'max_keystrokes_8s', 'min_keystrokes_8s', 'median_keystrokes_8s', 'sd_keystrokes_10s', 'mean_keystrokes_10s', 'max_keystrokes_10s', 'min_keystrokes_10s', 'median_keystrokes_10s', 'sd_keystrokes_15s', 'mean_keystrokes_15s', 'max_keystrokes_15s', 'min_keystrokes_15s', 'median_keystrokes_15s', 'sd_keystrokes_30s', 'mean_keystrokes_30s', 'max_keystrokes_30s', 'min_keystrokes_30s', 'median_keystrokes_30s', 'sd_keystrokes_45s', 'mean_keystrokes_45s', 'max_keystrokes_45s', 'min_keystrokes_45s', 'median_keystrokes_45s', 'sd_keystrokes_60s', 'mean_keystrokes_60s', 'max_keystrokes_60s', 'min_keystrokes_60s', 'median_keystrokes_60s', 'sd_keystrokes_80s', 'mean_keystrokes_80s', 'max_keystrokes_80s', 'min_keystrokes_80s', 'median_keystrokes_80s', 'sd_keystrokes_120s', 'mean_keystrokes_120s', 'max_keystrokes_120s', 'min_keystrokes_120s', 'median_keystrokes_120s', 'sd_keystrokes_180s', 'mean_keystrokes_180s', 'max_keystrokes_180s', 'min_keystrokes_180s', 'median_keystrokes_180s', 'slope_keystrokes_4s', 'slope_keystrokes_5s', 'slope_keystrokes_8s', 'slope_keystrokes_10s', 'slope_keystrokes_15s', 'slope_keystrokes_20s', 'slope_keystrokes_25s', 'slope_keystrokes_30s', 'slope_keystrokes_60s', 'slope_keystrokes_80s', 'entropy_keystrokes_5s', 'entropy_keystrokes_8s', 'entropy_keystrokes_10s', 'entropy_keystrokes_15s', 'entropy_keystrokes_25s', 'entropy_keystrokes_30s', 'entropy_keystrokes_45s', 'entropy_keystrokes_60s', '3s_extrema_per_user', '5s_extrema_per_user', '8s_extrema_per_user', '10s_extrema_per_user', '15s_extrema_per_user', '30s_extrema_per_user', '40s_extrema_per_user', '50s_extrema_per_user', '60s_extrema_per_user', '3_distance_stats_mean', '3_distance_stats_std', '3_distance_stats_sum', '3_distance_stats_max', '5_distance_stats_sum', '8_distance_stats_sum', '10_distance_stats_mean', '10_distance_stats_std', '10_distance_stats_sum', '10_distance_stats_max', '15_distance_stats_mean', '15_distance_stats_std', '15_distance_stats_sum', '15_distance_stats_max', '20_distance_stats_mean', '20_distance_stats_std', '20_distance_stats_sum', '20_distance_stats_max', '30_distance_stats_mean', '30_distance_stats_std', '30_distance_stats_sum', '30_distance_stats_max', '40_distance_stats_mean', '40_distance_stats_std', '40_distance_stats_sum', '40_distance_stats_max', '50_distance_stats_mean', '50_distance_stats_std', '50_distance_stats_sum', '50_distance_stats_max', '60_distance_stats_mean', '60_distance_stats_std', '60_distance_stats_sum', '60_distance_stats_max', '80_distance_stats_mean', '80_distance_stats_std', '80_distance_stats_sum', '80_distance_stats_max', 'sent_len_ge_50_count_IKI_ median_Divid', 'sent_word_count_mean_paragraph_word_count_mean_Divid', 'down_event_8_cnt_pauses_1_sec_Divid', 'word_count_diff_Input_mean_sent_len_std_Divid', 'word_count_diff_Input_mean_paragraph_word_count_mean_Divid', 'IKI_ median_sent_len_std_Divid', 'paragraph_word_count_mean_pauses_1_sec_Divid', 'word_len_max_IKI_ median_Divid', 'word_len_max_pauses_1_sec_Divid', 'input_word_length_mean_IKI_ median_Divid', 'sent_len_ge_50_count_time_diff_Input_mean_Div', 'P-bursts_count_time_diff_Input_mean_Div', 'pauses_1_sec_P-bursts_count_Divv', 'text_change_4_cnt_sent_len_ge_50_count_Div', 'down_event_5_cnt_sent_len_ge_50_count_Div', 'P-bursts_median_sent_len_ge_50_count_Div', 'sent_len_std_time_diff_Backspace_median_Div', 'text_change_3_cnt_time_diff_Backspace_median_Div', 'sent_len_median_time_diff_Backspace_median_Div', 'sent_len_median_paragraph_count_Div', 'word_count_diff_Input_mean_sent_len_median_Div', 'word_count_diff_Input_mean_text_change_3_cnt_Div', 'word_count_diff_Input_mean_word_len_max_Div', 'word_count_diff_Input_mean_paragraph_count_Div', 'text_change_3_cnt_paragraph_len_last_Div', 'word_len_std_word_count_diff_Input_mean_MUl', 'word_len_ge_5_count_IKI_median_MUl', 'time_diff_Remove/Cut_median_word_len_std_DIVV', 'text_change_3_cnt_punct_cnt_DIVV', 'word_len_ge_9_count_word_len_ge_10_count_SUBB', 'word_len_ge_9_count_word_len_ge_10_count_MULT', 'word_len_ge_8_count_word_len_ge_9_count_SUBB', 'word_len_ge_8_count_word_len_ge_9_count_MULT', 'word_len_ge_7_count_word_len_ge_8_count_SUBB', 'word_len_ge_7_count_word_len_ge_8_count_MULT', 'word_len_ge_6_count_word_len_ge_7_count_SUBB', 'word_len_ge_6_count_word_len_ge_7_count_MULT', 'word_len_ge_5_count_word_len_ge_6_count_SUBB', 'word_len_ge_5_count_word_len_ge_6_count_MULT', 'word_len_ge_4_count_word_len_ge_5_count_SUBB', 'word_len_ge_4_count_word_len_ge_5_count_MULT', 'pauses_1_sec_pauses_3_sec_DIVV', 'pauses_1_sec_pauses_3_sec_SUB', 'pauses_2_sec_pauses_3_sec_DIVV', 'pauses_2_sec_pauses_3_sec_SUB', 'pauses_2_sec_pauses_1_sec_DIVV', 'pauses_2_sec_pauses_1_sec_SUB', 'IKI_median_sent_len_ge_80_count_MULT', 'IKI_median_change_3_cnt_MULT', 'IKI_median_word_len_std_MULT', 'IKI_median_paragraph_len_max_MULT', 'IKI_median_pauses_half_sec_MULT', 'pauses_half_sec_word_len_mean_MULT', 'pauses_half_sec_sent_word_count_first_MULT', 'word_len_sem_pauses_1_half_sec_MULT', 'word_len_sem_text_change_3_cnt_MULT', 'word_len_sem_sent_len_ge_75_count_MULT', 'inter_key_median_lantency_sent_len_ge_80_count_MULT', 'inter_key_median_lantency_text_change_3_cnt_MULT', 'sd_keystrokes_180s_sent_word_count_max_DIV', 'sd_keystrokes_180s_mean_keystrokes_5s_DIV', 'sd_keystrokes_180s_paragraph_word_count_q1_DIV', 'sd_keystrokes_180s_60s_extrema_per_user_DIV', 'Percentage_of_I_bursts_activity_2_cnt_DIVV', 'Percentage_of_I_bursts_sent_len_median_DIVV', 'Percentage_of_I_bursts_paragraph_word_count_median_DIVV']\n"
     ]
    }
   ],
   "source": [
    "print(feature_names)"
   ]
  },
  {
   "cell_type": "code",
   "execution_count": 9,
   "id": "0337147b",
   "metadata": {},
   "outputs": [
    {
     "data": {
      "text/plain": [
       "0        218.650155\n",
       "1        318.756986\n",
       "2        447.265001\n",
       "3          7.249040\n",
       "4         12.709323\n",
       "           ...     \n",
       "2466    1385.103205\n",
       "2467     292.128436\n",
       "2468      21.515363\n",
       "2469     180.915739\n",
       "2470     314.955334\n",
       "Name: action_time_<function NDFrame._add_numeric_operations.<locals>.kurt at 0x000000AF92C74FE0>, Length: 2471, dtype: float64"
      ]
     },
     "execution_count": 9,
     "metadata": {},
     "output_type": "execute_result"
    }
   ],
   "source": [
    "train_feats['action_time_<function NDFrame._add_numeric_operations.<locals>.kurt at 0x000000AF92C74FE0>']"
   ]
  },
  {
   "cell_type": "code",
   "execution_count": null,
   "id": "a02ed92d",
   "metadata": {},
   "outputs": [],
   "source": [
    "# train_feats[feature_names] = np.log1p(train_feats[feature_names])\n",
    "train_feats.fillna(0,inplace=True)"
   ]
  },
  {
   "cell_type": "code",
   "execution_count": null,
   "id": "0f6dff8a",
   "metadata": {},
   "outputs": [],
   "source": [
    "inf_columns = [col for col in feature_names if np.isinf(train_feats[col]).sum() > 0]\n",
    "\n",
    "feature_names = [col for col in feature_names if col not in inf_columns]"
   ]
  },
  {
   "cell_type": "code",
   "execution_count": null,
   "id": "d4b55f7a",
   "metadata": {},
   "outputs": [],
   "source": []
  },
  {
   "cell_type": "code",
   "execution_count": null,
   "id": "390eb712",
   "metadata": {},
   "outputs": [],
   "source": [
    "features = pd.read_csv('24 Dec RandomForestRegression LOFO.csv')\n",
    "feature_names = features[features.importance_mean>=0].feature"
   ]
  },
  {
   "cell_type": "code",
   "execution_count": null,
   "id": "79d337e1",
   "metadata": {},
   "outputs": [],
   "source": [
    "dataset = Dataset(df=train_feats, target=\"score\", features=feature_names)"
   ]
  },
  {
   "cell_type": "code",
   "execution_count": null,
   "id": "07b32a29",
   "metadata": {},
   "outputs": [],
   "source": [
    "print('Number of Feature: ',len(dataset.feature_names))\n",
    "print('Number of Group: ',len(dataset.feature_groups))"
   ]
  },
  {
   "cell_type": "code",
   "execution_count": null,
   "id": "1097be4b",
   "metadata": {},
   "outputs": [],
   "source": [
    "# rfr = RandomForestRegressor(n_jobs=-1,n_estimators=10)\n",
    "rfr = RandomForestRegressor(n_estimators=20,\n",
    "                                      max_depth=7,\n",
    "                                      n_jobs=-1,\n",
    "                                      verbose=0,\n",
    "                                      min_samples_leaf=4,\n",
    "                                      max_features = 0.65,\n",
    "                                      random_state=42)\n",
    "\n",
    "cv = KFold(n_splits=4, shuffle=True, random_state=42)\n",
    "lofo_imp = LOFOImportance(dataset, cv=cv, scoring=\"neg_mean_squared_error\", model= rfr)"
   ]
  },
  {
   "cell_type": "code",
   "execution_count": null,
   "id": "3723d2d8",
   "metadata": {},
   "outputs": [],
   "source": [
    "# get the mean and standard deviation of the importances in pandas format\n",
    "importance_df = lofo_imp.get_importance()"
   ]
  },
  {
   "cell_type": "code",
   "execution_count": null,
   "id": "ea014e91",
   "metadata": {},
   "outputs": [],
   "source": [
    "importance_df.to_csv('24 Dec RandomForestRegression LOFO_5.csv',index=False)"
   ]
  },
  {
   "cell_type": "code",
   "execution_count": null,
   "id": "754865d6",
   "metadata": {},
   "outputs": [],
   "source": [
    "plot_importance(importance_df[:50])"
   ]
  },
  {
   "cell_type": "code",
   "execution_count": 7,
   "id": "c324f9f7",
   "metadata": {},
   "outputs": [
    {
     "data": {
      "text/plain": [
       "182"
      ]
     },
     "execution_count": 7,
     "metadata": {},
     "output_type": "execute_result"
    }
   ],
   "source": [
    "features = pd.read_csv('24 Dec RandomForestRegression LOFO.csv')\n",
    "feature_names = features[features.importance_mean>=0].feature\n",
    "len(feature_names)"
   ]
  },
  {
   "cell_type": "code",
   "execution_count": 10,
   "id": "2302d02c",
   "metadata": {},
   "outputs": [
    {
     "name": "stdout",
     "output_type": "stream",
     "text": [
      "['cursor_position_diff_ArrowDown_std', 'word_len_ge_4_count_word_len_ge_5_count_MULT', 'word_count_diff_Paste_median', 'down_event_5_cnt_sent_len_ge_50_count_Div', 'backspacing_time_max', 'sent_len_ge_50_count_time_diff_Input_mean_Div', 'cursor_position_change_5_sum', 'cursor_position_diff_ArrowUp_max', 'mean_keystrokes_120s', 'num_revision_bursts', 'time_diff_Shift_max', 'time_diff_dot_max', 'cursor_position_diff_ArrowDown_max', 'action_time_gap_50_sum', 'word_len_ge_6_count_md', 'num_insertion_bursts', 'cursor_position_diff_Remove/Cut_median', 'cursor_position_diff_Leftclick_sum', 'action_time_gap_10_mean', 'Number of revisions Remove/Cut 10 word', 'word_count_sem', 'cursor_position_change_5_std', 'text_change_8_cnt', 'cursor_position_diff_Remove/Cut_mean', 'down_event_6_cnt', 'cursor_position_diff_ArrowRight_mean', 'word_count_diff_comma_sum', 'time_diff_Unidentified_max', 'leading-edge revisions_mean', 'time_diff_comma_std', 'cursor_position_median', 'time_diff_ArrowDown_median', 'time_diff_ArrowLeft_max', 'cursor_position_diff_Leftclick_mean', 'cursor_position_diff_Input_sum', 'time_diff_Unidentified_mean', 'action_time_gap_5_mean', 'time_diff_Nonproduction_mean', 'down_time_min', 'time_diff_Nonproduction_median', 'down_event_2_cnt', 'IKI_sum', 'sent_word_count_skew', 'down_event_14_cnt', 'cursor_position_diff_ArrowLeft_sum', 'Number of revisions Backspace 14 word', 'inter_key_median_lantency_text_change_3_cnt_MULT', 'std_pause_time', 'sd_keystrokes_120s', 'sent_len_skew', 'inter_key_median_lantency', 'action_time_gap_20_mean', 'word_count_diff_Paste_std', 'cursor_position_diff_Space_mean', 'word_count_diff_Enter_std', 'Percentage_of_I_bursts_paragraph_word_count_median_DIVV', 'word_count_change_50_std', 'word_len_last', '10_distance_stats_max', '80_distance_stats_std', 'action_time_gap_50_min', 'sent_len_first', 'time_diff_Space_std', 'word_count_diff_Delete_median', 'cursor_position_diff_Input_max', 'word_count_change_5_std', 'cursor_position_diff_ArrowRight_std', 'down_event_12_cnt', 'action_time_std', 'time_diff_Input_sum', '30_distance_stats_sum', 'text_change_12_cnt', 'time_diff_abostrove_sum', 'sent_len_median_time_diff_Backspace_median_Div', 'backspacing_time_skew', 'word_len_ge_8_count_word_len_ge_9_count_MULT', 'word_len_mean', 'word_count_diff_Paste_max', 'action_time_sum', 'down_event_11_cnt', 'P-bursts_count', 'word_count_mean', 'time_diff_Shift_sum', 'time_diff_ArrowUp_sum', 'time_diff_dot_median', 'cursor_position_diff_dot_std', 'cursor_position_diff_Input_mean', '3_distance_stats_sum', 'Number of revisions Backspace 3 word', '10s_extrema_per_user', 'word_count_diff_abostrove_mean', 'mean_keystrokes_80s', '80_distance_stats_sum', 'median_keystrokes_10s', 'time_diff_Enter_median', '10_distance_stats_mean', 'paragraph_len_sum', 'time_diff_Nonproduction_std', 'down_event_8_cnt_pauses_1_sec_Divid', 'text_change_4_cnt', 'word_count_diff_Replace_sum', 'action_time_gap_5_std', 'cursor_position_change_10_sum', 'word_count_diff_Replace_mean', 'sent_word_count_sem', 'P-bursts_max', 'time_diff_Input_max', 'slope_keystrokes_80s', 'time_diff_Nonproduction_sum', 'leading-edge revisions_max', 'time_diff_Remove/Cut_std', 'cursor_position_change_1_sum', 'word_count_diff_Input_mean_paragraph_word_count_mean_Divid', 'mean_keystrokes_60s', 'input_word_length_skew', 'sent_len_ge_50_count', 'word_count_change_1_max', 'cursor_position_diff_Leftclick_max', 'entropy_keystrokes_5s', 'word_count_diff_Space_sum', '40_distance_stats_std', 'time_diff_Shift_std', 'paragraph_len_q1', 'cursor_position_diff_Paste_median', 'time_diff_ArrowDown_max', 'IKI_median_pauses_half_sec_MULT', 'word_len_sem_pauses_1_half_sec_MULT', 'cursor_position_diff_Shift_mean', 'sequence_of_backspaces_sum', 'action_time_gap_1_max', 'cursor_position_sem', 'paragraph_len_mean', 'number_of_characters', 'word_count_median', 'word_len_ge_9_count_word_len_ge_10_count_SUBB', 'word_count_change_3_mean', 'median_keystrokes_30s', 'word_count_diff_dot_sum', 'word_count_diff_Remove/Cut_sum', 'cursor_position_change_2_max', 'cursor_position_change_2_sum', '30_distance_stats_mean', 'cursor_position_diff_Backspace_mean', 'text_change', 'min_keystrokes_5s', 'action_time_gap_20_sum', 'word_count_diff_Leftclick_std', 'time_diff_ArrowDown_std', 'long_pauses_sum', 'sent_len_std_time_diff_Backspace_median_Div', '80_distance_stats_max', '50_distance_stats_mean', 'word_len_sem', 'time_diff_abostrove_median', 'cursor_position_diff_Nonproduction_mean', 'word_len_q1', 'sequence_of_backspaces_std', 'word_len_ge_4_count', 'Number of revisions Remove/Cut 14 word', 'max_chars_per_burst', 'input_word_length_mean', 'sent_len_ge_100_count', 'paragraph_len_median', 'up_time_quantile', 'time_diff_Shift_median', 'pauses_half_sec_sent_word_count_first_MULT', 'cursor_position_diff_ArrowDown_median', 'word_count_diff_comma_std', 'sent_word_count_mean', 'cursor_position_diff_ArrowLeft_median', 'word_count_diff_q_mean', 'pauses_3_sec', 'sent_len_max', 'word_len_ge_10_count', 'time_diff_Unidentified_sum', 'paragraph_word_count_min', 'cursor_position_change_100_max', 'word_count_change_1_sum', 'word_len_ge_7_count_word_len_ge_8_count_SUBB', '40_distance_stats_mean', 'cursor_position_diff_Backspace_sum', 'word_len_sem_sent_len_ge_75_count_MULT']\n"
     ]
    }
   ],
   "source": [
    "print(list(feature_names))"
   ]
  },
  {
   "cell_type": "code",
   "execution_count": null,
   "id": "58f92705",
   "metadata": {},
   "outputs": [],
   "source": []
  }
 ],
 "metadata": {
  "kernelspec": {
   "display_name": "Python 3 (ipykernel)",
   "language": "python",
   "name": "python3"
  },
  "language_info": {
   "codemirror_mode": {
    "name": "ipython",
    "version": 3
   },
   "file_extension": ".py",
   "mimetype": "text/x-python",
   "name": "python",
   "nbconvert_exporter": "python",
   "pygments_lexer": "ipython3",
   "version": "3.11.3"
  }
 },
 "nbformat": 4,
 "nbformat_minor": 5
}
