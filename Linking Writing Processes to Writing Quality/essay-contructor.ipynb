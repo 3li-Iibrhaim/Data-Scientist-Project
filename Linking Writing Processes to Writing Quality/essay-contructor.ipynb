{
 "cells": [
  {
   "cell_type": "code",
   "execution_count": 1,
   "id": "e792403a",
   "metadata": {
    "_cell_guid": "b1076dfc-b9ad-4769-8c92-a6c4dae69d19",
    "_uuid": "8f2839f25d086af736a60e9eeb907d3b93b6e0e5",
    "execution": {
     "iopub.execute_input": "2023-10-17T02:53:37.191432Z",
     "iopub.status.busy": "2023-10-17T02:53:37.190716Z",
     "iopub.status.idle": "2023-10-17T02:53:37.568477Z",
     "shell.execute_reply": "2023-10-17T02:53:37.567121Z"
    },
    "papermill": {
     "duration": 0.384758,
     "end_time": "2023-10-17T02:53:37.571067",
     "exception": false,
     "start_time": "2023-10-17T02:53:37.186309",
     "status": "completed"
    },
    "tags": []
   },
   "outputs": [],
   "source": [
    "import numpy as np\n",
    "import pandas as pd"
   ]
  },
  {
   "cell_type": "code",
   "execution_count": 2,
   "id": "274628f8",
   "metadata": {
    "execution": {
     "iopub.execute_input": "2023-10-17T02:53:37.581248Z",
     "iopub.status.busy": "2023-10-17T02:53:37.580735Z",
     "iopub.status.idle": "2023-10-17T02:53:51.326704Z",
     "shell.execute_reply": "2023-10-17T02:53:51.325239Z"
    },
    "papermill": {
     "duration": 13.753919,
     "end_time": "2023-10-17T02:53:51.329131",
     "exception": false,
     "start_time": "2023-10-17T02:53:37.575212",
     "status": "completed"
    },
    "tags": []
   },
   "outputs": [],
   "source": [
    "traindf = pd.read_csv('/kaggle/input/linking-writing-processes-to-writing-quality/train_logs.csv')"
   ]
  },
  {
   "cell_type": "code",
   "execution_count": 3,
   "id": "f70d8318",
   "metadata": {
    "execution": {
     "iopub.execute_input": "2023-10-17T02:53:51.335525Z",
     "iopub.status.busy": "2023-10-17T02:53:51.335116Z",
     "iopub.status.idle": "2023-10-17T02:53:51.351435Z",
     "shell.execute_reply": "2023-10-17T02:53:51.350309Z"
    },
    "papermill": {
     "duration": 0.022382,
     "end_time": "2023-10-17T02:53:51.353732",
     "exception": false,
     "start_time": "2023-10-17T02:53:51.331350",
     "status": "completed"
    },
    "tags": []
   },
   "outputs": [],
   "source": [
    "def getEssays(df):\n",
    "    # Copy required columns\n",
    "    textInputDf = df[['id', 'activity', 'cursor_position', 'text_change']].copy()\n",
    "    \n",
    "    # Get rid of text inputs that make no change\n",
    "    # Note: Shift was unpreditcable so ignored\n",
    "    textInputDf = textInputDf[textInputDf.activity != 'Nonproduction']\n",
    "\n",
    "    # Get how much each Id there is\n",
    "    valCountsArr = textInputDf['id'].value_counts(sort=False).values\n",
    "\n",
    "    # Holds the final index of the previous Id\n",
    "    lastIndex = 0\n",
    "\n",
    "    # Holds all the essays\n",
    "    essaySeries = pd.Series()\n",
    "\n",
    "    # Fills essay series with essays\n",
    "    for index, valCount in enumerate(valCountsArr):\n",
    "\n",
    "        # Indexes down_time at current Id\n",
    "        currTextInput = textInputDf[['activity', 'cursor_position', 'text_change']].iloc[lastIndex : lastIndex + valCount]\n",
    "\n",
    "        # Update the last index\n",
    "        lastIndex += valCount\n",
    "\n",
    "        # Where the essay content will be stored\n",
    "        essayText = \"\"\n",
    "\n",
    "        \n",
    "        # Produces the essay\n",
    "        for Input in currTextInput.values:\n",
    "            \n",
    "            # Input[0] = activity\n",
    "            # Input[2] = cursor_position\n",
    "            # Input[3] = text_change\n",
    "            \n",
    "            # If activity = Replace\n",
    "            if Input[0] == 'Replace':\n",
    "                # splits text_change at ' => '\n",
    "                replaceTxt = Input[2].split(' => ')\n",
    "                \n",
    "                # DONT TOUCH\n",
    "                essayText = essayText[:Input[1] - len(replaceTxt[1])] + replaceTxt[1] + essayText[Input[1] - len(replaceTxt[1]) + len(replaceTxt[0]):]\n",
    "                continue\n",
    "\n",
    "                \n",
    "            # If activity = Paste    \n",
    "            if Input[0] == 'Paste':\n",
    "                # DONT TOUCH\n",
    "                essayText = essayText[:Input[1] - len(Input[2])] + Input[2] + essayText[Input[1] - len(Input[2]):]\n",
    "                continue\n",
    "\n",
    "                \n",
    "            # If activity = Remove/Cut\n",
    "            if Input[0] == 'Remove/Cut':\n",
    "                # DONT TOUCH\n",
    "                essayText = essayText[:Input[1]] + essayText[Input[1] + len(Input[2]):]\n",
    "                continue\n",
    "\n",
    "                \n",
    "            # If activity = Move...\n",
    "            if \"M\" in Input[0]:\n",
    "                # Gets rid of the \"Move from to\" text\n",
    "                croppedTxt = Input[0][10:]\n",
    "                \n",
    "                # Splits cropped text by ' To '\n",
    "                splitTxt = croppedTxt.split(' To ')\n",
    "                \n",
    "                # Splits split text again by ', ' for each item\n",
    "                valueArr = [item.split(', ') for item in splitTxt]\n",
    "                \n",
    "                # Move from [2, 4] To [5, 7] = (2, 4, 5, 7)\n",
    "                moveData = (int(valueArr[0][0][1:]), int(valueArr[0][1][:-1]), int(valueArr[1][0][1:]), int(valueArr[1][1][:-1]))\n",
    "\n",
    "                # Skip if someone manages to activiate this by moving to same place\n",
    "                if moveData[0] != moveData[2]:\n",
    "                    # Check if they move text forward in essay (they are different)\n",
    "                    if moveData[0] < moveData[2]:\n",
    "                        # DONT TOUCH\n",
    "                        essayText = essayText[:moveData[0]] + essayText[moveData[1]:moveData[3]] + essayText[moveData[0]:moveData[1]] + essayText[moveData[3]:]\n",
    "                    else:\n",
    "                        # DONT TOUCH\n",
    "                        essayText = essayText[:moveData[2]] + essayText[moveData[0]:moveData[1]] + essayText[moveData[2]:moveData[0]] + essayText[moveData[1]:]\n",
    "                continue\n",
    "                \n",
    "                \n",
    "            # If just input\n",
    "            # DONT TOUCH\n",
    "            essayText = essayText[:Input[1] - len(Input[2])] + Input[2] + essayText[Input[1] - len(Input[2]):]\n",
    "\n",
    "            \n",
    "        # Sets essay at index  \n",
    "        essaySeries[index] = essayText\n",
    "     \n",
    "    \n",
    "    # Sets essay series index to the ids\n",
    "    essaySeries.index =  textInputDf['id'].unique()\n",
    "    \n",
    "    \n",
    "    # Returns the essay series\n",
    "    return essaySeries"
   ]
  },
  {
   "cell_type": "code",
   "execution_count": 4,
   "id": "257a0b6e",
   "metadata": {
    "execution": {
     "iopub.execute_input": "2023-10-17T02:53:51.359638Z",
     "iopub.status.busy": "2023-10-17T02:53:51.359124Z",
     "iopub.status.idle": "2023-10-17T03:03:55.733698Z",
     "shell.execute_reply": "2023-10-17T03:03:55.732618Z"
    },
    "papermill": {
     "duration": 604.382887,
     "end_time": "2023-10-17T03:03:55.738741",
     "exception": false,
     "start_time": "2023-10-17T02:53:51.355854",
     "status": "completed"
    },
    "tags": []
   },
   "outputs": [
    {
     "name": "stdout",
     "output_type": "stream",
     "text": [
      "CPU times: user 5min 59s, sys: 4min 4s, total: 10min 4s\n",
      "Wall time: 10min 4s\n"
     ]
    }
   ],
   "source": [
    "%%time\n",
    "essays = getEssays(traindf)"
   ]
  },
  {
   "cell_type": "code",
   "execution_count": 5,
   "id": "bb6de14f",
   "metadata": {
    "execution": {
     "iopub.execute_input": "2023-10-17T03:03:55.744476Z",
     "iopub.status.busy": "2023-10-17T03:03:55.744152Z",
     "iopub.status.idle": "2023-10-17T03:03:55.748991Z",
     "shell.execute_reply": "2023-10-17T03:03:55.747933Z"
    },
    "papermill": {
     "duration": 0.010466,
     "end_time": "2023-10-17T03:03:55.751327",
     "exception": false,
     "start_time": "2023-10-17T03:03:55.740861",
     "status": "completed"
    },
    "tags": []
   },
   "outputs": [
    {
     "name": "stdout",
     "output_type": "stream",
     "text": [
      "qqqqqqqqq qq qqqqq qq qqqq qqqq.  qqqqqq qqq qqqq qqqqqq qq qq qqqqq qq qqqq qqqqq qq qqqqqqqqq qqqqq qqqq qqqqq qqq qqqqqqqqq qqqqqqqqq qqqq.  qqqqqq qqq qqqqq qqq qqqqqqqqqqq qq qqq qqqqqqqqqq qqqqq, qqq qqqqq qqqqqq qq qq qqqq qqq qqqqqq qqqqqqq qq qqq qqqqqqqqqqq.  qqqqqqqq qq qqqqqqqqqq qqqq qqqq qqqqqqqqq qqq qqqqqqq qq qqqqqq qqqq qqq qqq qq qqqqqqqqq qq qq qqq qqqqq qqqqq qq qqq.\n",
      "\n",
      "qq qq qqqq qqqq qqq qqqqqqqqq qqq qqqqqqq qq qqq qqqqq qqqqq, qq qq qqqqqq qqq qqq qqqqqqqq qqqqq qq qqq qqqqqqqqqqq qq qqqqqqqqq.  qqqqqqqqq qq qqq qqqqqqqq qqqq qq qqqq qq qqqqqqq qqqqq qqqqq, qqq qqqqqq qqqqq qqqqq qqq qqq qq qqq qqqqqqq qqqqqqq qqqq.  qqqq qqqqq qqqqq qqqq qqqq'qq qqqqq qqqqqqqqq qqqqq qqqqqqq qqqqqqq qqqqqqqqqq, qqqq qq qqqqqqqqqq qqqqqqq qqq qqqqqqq; qqqqqqq, qqqqq qqqqqqqq qqqqqq qqqqqqq qqqqqqq qqq qqqqq qqq qqq qqq qqqqqqq.  qqqq qqqqqqqqq qqqq qqq qqqq qqqq qqqqq qqqqqqqqqq qqqq qqqqq qqqqq.  qqq qqqqqqqqqq qq qqqqqqqq q qqqqqq, qqqqqqqq qqqq qqqq qqqqqqqqqq, qqq. qq qqqqq qq qqqqq qqqqqqq qqqqqqqqq qq qq qqqq qqqqqqq. \n",
      "\n",
      "qqqq qqq qqqqqq qqqqqqqqqq qqqqqqqqq qqqqq, qqqqqq qqqqq qqq qqqqqq qqqq qq qqqqqq qqqqqqq qqqqq qqq qqqqqqqqq qqqq qqq qqqqq qq qqq.  qq qqqqq qqqqqqq qqq qqqqq qq qqqqqq qqq qqqqqq qqqqq qqq qqqqq qq qqqqqqqq qqqqqqqq qq qqqqqqqqq qqqq qq qqqq qq qqqqqq.  qqqqqqqq qq qqq qqqqqqqqqqq qq qqqqqqqq, qqq qqqqqqq qqqqqqqqq qqqqqq qq qqqqqq, qqqq qqqqq qq qq qqqqqq qq qqqq qqqq qqqqqqqqq.  qq qq qqq qqqqqqqqq qqqq qqq qq qqqqqq qqqqqqqq qq qqqqqqqq qq qqq qqq qqqqqqqq qqqqqqqqq.  \n"
     ]
    }
   ],
   "source": [
    "print(essays[0])"
   ]
  }
 ],
 "metadata": {
  "kernelspec": {
   "display_name": "Python 3 (ipykernel)",
   "language": "python",
   "name": "python3"
  },
  "language_info": {
   "codemirror_mode": {
    "name": "ipython",
    "version": 3
   },
   "file_extension": ".py",
   "mimetype": "text/x-python",
   "name": "python",
   "nbconvert_exporter": "python",
   "pygments_lexer": "ipython3",
   "version": "3.11.3"
  },
  "papermill": {
   "default_parameters": {},
   "duration": 622.362115,
   "end_time": "2023-10-17T03:03:56.373798",
   "environment_variables": {},
   "exception": null,
   "input_path": "__notebook__.ipynb",
   "output_path": "__notebook__.ipynb",
   "parameters": {},
   "start_time": "2023-10-17T02:53:34.011683",
   "version": "2.4.0"
  }
 },
 "nbformat": 4,
 "nbformat_minor": 5
}
