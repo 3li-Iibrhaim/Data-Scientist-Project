{
 "cells": [
  {
   "cell_type": "code",
   "execution_count": 145,
   "id": "85b0140d",
   "metadata": {},
   "outputs": [],
   "source": [
    "import numpy as np\n",
    "import pandas as pd\n",
    "import matplotlib.pyplot as plt"
   ]
  },
  {
   "cell_type": "code",
   "execution_count": 338,
   "id": "dde58a8c",
   "metadata": {},
   "outputs": [],
   "source": [
    "from sklearn.model_selection import train_test_split"
   ]
  },
  {
   "cell_type": "code",
   "execution_count": 16,
   "id": "5e2d66e5",
   "metadata": {},
   "outputs": [],
   "source": [
    "df = pd.read_csv('train.csv')"
   ]
  },
  {
   "cell_type": "code",
   "execution_count": 54,
   "id": "f84f7b70",
   "metadata": {},
   "outputs": [],
   "source": [
    "test = pd.read_csv('test.csv')"
   ]
  },
  {
   "cell_type": "code",
   "execution_count": 17,
   "id": "4b382569",
   "metadata": {},
   "outputs": [],
   "source": [
    "from sklearn.preprocessing import LabelEncoder"
   ]
  },
  {
   "cell_type": "code",
   "execution_count": 38,
   "id": "b0b9f969",
   "metadata": {},
   "outputs": [],
   "source": [
    "from sklearn.metrics import confusion_matrix"
   ]
  },
  {
   "cell_type": "code",
   "execution_count": 39,
   "id": "a4d4aac9",
   "metadata": {},
   "outputs": [],
   "source": [
    "from sklearn.metrics import accuracy_score"
   ]
  },
  {
   "cell_type": "code",
   "execution_count": 344,
   "id": "af7d3d5a",
   "metadata": {},
   "outputs": [],
   "source": [
    "from sklearn.metrics import classification_report"
   ]
  },
  {
   "cell_type": "code",
   "execution_count": 409,
   "id": "671436d5",
   "metadata": {},
   "outputs": [],
   "source": [
    "from sklearn.metrics import mean_absolute_error,mean_squared_error"
   ]
  },
  {
   "cell_type": "code",
   "execution_count": 18,
   "id": "68d4d177",
   "metadata": {},
   "outputs": [],
   "source": [
    "def preprocessing(data):\n",
    "    enc = LabelEncoder()\n",
    "    data.smoking_status = enc.fit_transform(data.smoking_status)\n",
    "    data.gender = enc.fit_transform(data.gender)\n",
    "    data.ever_married = enc.fit_transform(data.ever_married)\n",
    "    data.work_type = enc.fit_transform(data.work_type)\n",
    "    data.Residence_type = enc.fit_transform(data.Residence_type)\n",
    "    return data"
   ]
  },
  {
   "cell_type": "code",
   "execution_count": 55,
   "id": "2338ccd0",
   "metadata": {},
   "outputs": [],
   "source": [
    "test = preprocessing(test)"
   ]
  },
  {
   "cell_type": "code",
   "execution_count": 57,
   "id": "f8f3f541",
   "metadata": {},
   "outputs": [],
   "source": [
    "test = test.drop('id',axis=1)"
   ]
  },
  {
   "cell_type": "code",
   "execution_count": 19,
   "id": "2ce639ce",
   "metadata": {},
   "outputs": [],
   "source": [
    "df = preprocessing(df)"
   ]
  },
  {
   "cell_type": "code",
   "execution_count": 21,
   "id": "f17a467d",
   "metadata": {},
   "outputs": [
    {
     "data": {
      "text/html": [
       "<div>\n",
       "<style scoped>\n",
       "    .dataframe tbody tr th:only-of-type {\n",
       "        vertical-align: middle;\n",
       "    }\n",
       "\n",
       "    .dataframe tbody tr th {\n",
       "        vertical-align: top;\n",
       "    }\n",
       "\n",
       "    .dataframe thead th {\n",
       "        text-align: right;\n",
       "    }\n",
       "</style>\n",
       "<table border=\"1\" class=\"dataframe\">\n",
       "  <thead>\n",
       "    <tr style=\"text-align: right;\">\n",
       "      <th></th>\n",
       "      <th>id</th>\n",
       "      <th>gender</th>\n",
       "      <th>age</th>\n",
       "      <th>hypertension</th>\n",
       "      <th>heart_disease</th>\n",
       "      <th>ever_married</th>\n",
       "      <th>work_type</th>\n",
       "      <th>Residence_type</th>\n",
       "      <th>avg_glucose_level</th>\n",
       "      <th>bmi</th>\n",
       "      <th>smoking_status</th>\n",
       "      <th>stroke</th>\n",
       "    </tr>\n",
       "  </thead>\n",
       "  <tbody>\n",
       "    <tr>\n",
       "      <th>0</th>\n",
       "      <td>0</td>\n",
       "      <td>1</td>\n",
       "      <td>28.0</td>\n",
       "      <td>0</td>\n",
       "      <td>0</td>\n",
       "      <td>1</td>\n",
       "      <td>2</td>\n",
       "      <td>1</td>\n",
       "      <td>79.53</td>\n",
       "      <td>31.1</td>\n",
       "      <td>2</td>\n",
       "      <td>0</td>\n",
       "    </tr>\n",
       "    <tr>\n",
       "      <th>1</th>\n",
       "      <td>1</td>\n",
       "      <td>1</td>\n",
       "      <td>33.0</td>\n",
       "      <td>0</td>\n",
       "      <td>0</td>\n",
       "      <td>1</td>\n",
       "      <td>2</td>\n",
       "      <td>0</td>\n",
       "      <td>78.44</td>\n",
       "      <td>23.9</td>\n",
       "      <td>1</td>\n",
       "      <td>0</td>\n",
       "    </tr>\n",
       "    <tr>\n",
       "      <th>2</th>\n",
       "      <td>2</td>\n",
       "      <td>0</td>\n",
       "      <td>42.0</td>\n",
       "      <td>0</td>\n",
       "      <td>0</td>\n",
       "      <td>1</td>\n",
       "      <td>2</td>\n",
       "      <td>0</td>\n",
       "      <td>103.00</td>\n",
       "      <td>40.3</td>\n",
       "      <td>0</td>\n",
       "      <td>0</td>\n",
       "    </tr>\n",
       "    <tr>\n",
       "      <th>3</th>\n",
       "      <td>3</td>\n",
       "      <td>1</td>\n",
       "      <td>56.0</td>\n",
       "      <td>0</td>\n",
       "      <td>0</td>\n",
       "      <td>1</td>\n",
       "      <td>2</td>\n",
       "      <td>1</td>\n",
       "      <td>64.87</td>\n",
       "      <td>28.8</td>\n",
       "      <td>2</td>\n",
       "      <td>0</td>\n",
       "    </tr>\n",
       "    <tr>\n",
       "      <th>4</th>\n",
       "      <td>4</td>\n",
       "      <td>0</td>\n",
       "      <td>24.0</td>\n",
       "      <td>0</td>\n",
       "      <td>0</td>\n",
       "      <td>0</td>\n",
       "      <td>2</td>\n",
       "      <td>0</td>\n",
       "      <td>73.36</td>\n",
       "      <td>28.8</td>\n",
       "      <td>2</td>\n",
       "      <td>0</td>\n",
       "    </tr>\n",
       "  </tbody>\n",
       "</table>\n",
       "</div>"
      ],
      "text/plain": [
       "   id  gender   age  hypertension  heart_disease  ever_married  work_type  \\\n",
       "0   0       1  28.0             0              0             1          2   \n",
       "1   1       1  33.0             0              0             1          2   \n",
       "2   2       0  42.0             0              0             1          2   \n",
       "3   3       1  56.0             0              0             1          2   \n",
       "4   4       0  24.0             0              0             0          2   \n",
       "\n",
       "   Residence_type  avg_glucose_level   bmi  smoking_status  stroke  \n",
       "0               1              79.53  31.1               2       0  \n",
       "1               0              78.44  23.9               1       0  \n",
       "2               0             103.00  40.3               0       0  \n",
       "3               1              64.87  28.8               2       0  \n",
       "4               0              73.36  28.8               2       0  "
      ]
     },
     "execution_count": 21,
     "metadata": {},
     "output_type": "execute_result"
    }
   ],
   "source": [
    "df.head()"
   ]
  },
  {
   "cell_type": "code",
   "execution_count": 23,
   "id": "de6241dc",
   "metadata": {},
   "outputs": [],
   "source": [
    "X = df.drop(['id','stroke'],axis=1)\n",
    "y = df['stroke']"
   ]
  },
  {
   "cell_type": "code",
   "execution_count": 24,
   "id": "145c0f70",
   "metadata": {},
   "outputs": [],
   "source": [
    "X_train,X_test,y_train,y_test = train_test_split(X,y,random_state=42)"
   ]
  },
  {
   "cell_type": "code",
   "execution_count": 28,
   "id": "14af37de",
   "metadata": {},
   "outputs": [],
   "source": [
    "from sklearn.preprocessing import StandardScaler\n",
    "sc = StandardScaler()"
   ]
  },
  {
   "cell_type": "code",
   "execution_count": 29,
   "id": "97d19e04",
   "metadata": {},
   "outputs": [],
   "source": [
    "x_train = sc.fit_transform(X_train)\n",
    "x_test = sc.transform(X_test)"
   ]
  },
  {
   "cell_type": "markdown",
   "id": "52dc90ad",
   "metadata": {},
   "source": [
    "# 1- Light Gm Model"
   ]
  },
  {
   "cell_type": "code",
   "execution_count": 30,
   "id": "066030e1",
   "metadata": {},
   "outputs": [],
   "source": [
    "import lightgbm as lgb"
   ]
  },
  {
   "cell_type": "code",
   "execution_count": 32,
   "id": "27eb5738",
   "metadata": {},
   "outputs": [
    {
     "name": "stdout",
     "output_type": "stream",
     "text": [
      "[LightGBM] [Info] Number of positive: 473, number of negative: 11005\n",
      "[LightGBM] [Warning] Auto-choosing row-wise multi-threading, the overhead of testing was 0.001137 seconds.\n",
      "You can set `force_row_wise=true` to remove the overhead.\n",
      "And if memory is not enough, you can set `force_col_wise=true`.\n",
      "[LightGBM] [Info] Total Bins 641\n",
      "[LightGBM] [Info] Number of data points in the train set: 11478, number of used features: 10\n",
      "[LightGBM] [Info] [binary:BoostFromScore]: pavg=0.041209 -> initscore=-3.147010\n",
      "[LightGBM] [Info] Start training from score -3.147010\n"
     ]
    }
   ],
   "source": [
    "d_train = lgb.Dataset(x_train, label=y_train)\n",
    "params = {}\n",
    "params['learning_rate'] = 0.003\n",
    "params['boosting_type'] = 'gbdt'\n",
    "params['objective'] = 'binary'\n",
    "params['metric'] = 'binary_logloss'\n",
    "params['sub_feature'] = 0.5\n",
    "params['num_leaves'] = 10\n",
    "params['min_data'] = 50\n",
    "params['max_depth'] = 10\n",
    "clf = lgb.train(params, d_train, 100)"
   ]
  },
  {
   "cell_type": "code",
   "execution_count": 49,
   "id": "fd71fe7d",
   "metadata": {},
   "outputs": [],
   "source": [
    "#Prediction\n",
    "y_pred1=clf.predict(x_test)#convert into binary values\n",
    "for i in range(0,99):\n",
    "    if y_pred1[i]>=.5:       # setting threshold to .5\n",
    "       y_pred1[i]=1\n",
    "    else:  \n",
    "       y_pred1[i]=0"
   ]
  },
  {
   "cell_type": "code",
   "execution_count": null,
   "id": "13ff33e6",
   "metadata": {},
   "outputs": [],
   "source": []
  },
  {
   "cell_type": "code",
   "execution_count": 50,
   "id": "098abe48",
   "metadata": {},
   "outputs": [
    {
     "ename": "ValueError",
     "evalue": "Classification metrics can't handle a mix of continuous and binary targets",
     "output_type": "error",
     "traceback": [
      "\u001b[1;31m---------------------------------------------------------------------------\u001b[0m",
      "\u001b[1;31mValueError\u001b[0m                                Traceback (most recent call last)",
      "Cell \u001b[1;32mIn [50], line 3\u001b[0m\n\u001b[0;32m      1\u001b[0m \u001b[38;5;66;03m#Confusion matrixfrom sklearn.metrics import confusion_matrix\u001b[39;00m\n\u001b[0;32m      2\u001b[0m \u001b[38;5;66;03m# cm = confusion_matrix(y_test, y_pred1)#Accuracyfrom sklearn.metrics import accuracy_score\u001b[39;00m\n\u001b[1;32m----> 3\u001b[0m accuracy\u001b[38;5;241m=\u001b[39m\u001b[43maccuracy_score\u001b[49m\u001b[43m(\u001b[49m\u001b[43my_pred1\u001b[49m\u001b[43m,\u001b[49m\u001b[43my_test\u001b[49m\u001b[43m)\u001b[49m\n",
      "File \u001b[1;32m~\\miniconda3\\envs\\tf\\lib\\site-packages\\sklearn\\metrics\\_classification.py:211\u001b[0m, in \u001b[0;36maccuracy_score\u001b[1;34m(y_true, y_pred, normalize, sample_weight)\u001b[0m\n\u001b[0;32m    145\u001b[0m \u001b[38;5;124;03m\"\"\"Accuracy classification score.\u001b[39;00m\n\u001b[0;32m    146\u001b[0m \n\u001b[0;32m    147\u001b[0m \u001b[38;5;124;03mIn multilabel classification, this function computes subset accuracy:\u001b[39;00m\n\u001b[1;32m   (...)\u001b[0m\n\u001b[0;32m    207\u001b[0m \u001b[38;5;124;03m0.5\u001b[39;00m\n\u001b[0;32m    208\u001b[0m \u001b[38;5;124;03m\"\"\"\u001b[39;00m\n\u001b[0;32m    210\u001b[0m \u001b[38;5;66;03m# Compute accuracy for each possible representation\u001b[39;00m\n\u001b[1;32m--> 211\u001b[0m y_type, y_true, y_pred \u001b[38;5;241m=\u001b[39m \u001b[43m_check_targets\u001b[49m\u001b[43m(\u001b[49m\u001b[43my_true\u001b[49m\u001b[43m,\u001b[49m\u001b[43m \u001b[49m\u001b[43my_pred\u001b[49m\u001b[43m)\u001b[49m\n\u001b[0;32m    212\u001b[0m check_consistent_length(y_true, y_pred, sample_weight)\n\u001b[0;32m    213\u001b[0m \u001b[38;5;28;01mif\u001b[39;00m y_type\u001b[38;5;241m.\u001b[39mstartswith(\u001b[38;5;124m\"\u001b[39m\u001b[38;5;124mmultilabel\u001b[39m\u001b[38;5;124m\"\u001b[39m):\n",
      "File \u001b[1;32m~\\miniconda3\\envs\\tf\\lib\\site-packages\\sklearn\\metrics\\_classification.py:93\u001b[0m, in \u001b[0;36m_check_targets\u001b[1;34m(y_true, y_pred)\u001b[0m\n\u001b[0;32m     90\u001b[0m     y_type \u001b[38;5;241m=\u001b[39m {\u001b[38;5;124m\"\u001b[39m\u001b[38;5;124mmulticlass\u001b[39m\u001b[38;5;124m\"\u001b[39m}\n\u001b[0;32m     92\u001b[0m \u001b[38;5;28;01mif\u001b[39;00m \u001b[38;5;28mlen\u001b[39m(y_type) \u001b[38;5;241m>\u001b[39m \u001b[38;5;241m1\u001b[39m:\n\u001b[1;32m---> 93\u001b[0m     \u001b[38;5;28;01mraise\u001b[39;00m \u001b[38;5;167;01mValueError\u001b[39;00m(\n\u001b[0;32m     94\u001b[0m         \u001b[38;5;124m\"\u001b[39m\u001b[38;5;124mClassification metrics can\u001b[39m\u001b[38;5;124m'\u001b[39m\u001b[38;5;124mt handle a mix of \u001b[39m\u001b[38;5;132;01m{0}\u001b[39;00m\u001b[38;5;124m and \u001b[39m\u001b[38;5;132;01m{1}\u001b[39;00m\u001b[38;5;124m targets\u001b[39m\u001b[38;5;124m\"\u001b[39m\u001b[38;5;241m.\u001b[39mformat(\n\u001b[0;32m     95\u001b[0m             type_true, type_pred\n\u001b[0;32m     96\u001b[0m         )\n\u001b[0;32m     97\u001b[0m     )\n\u001b[0;32m     99\u001b[0m \u001b[38;5;66;03m# We can't have more than one value on y_type => The set is no more needed\u001b[39;00m\n\u001b[0;32m    100\u001b[0m y_type \u001b[38;5;241m=\u001b[39m y_type\u001b[38;5;241m.\u001b[39mpop()\n",
      "\u001b[1;31mValueError\u001b[0m: Classification metrics can't handle a mix of continuous and binary targets"
     ]
    }
   ],
   "source": [
    "#Confusion matrixfrom sklearn.metrics import confusion_matrix\n",
    "cm = confusion_matrix(y_test, y_pred1)#Accuracyfrom sklearn.metrics import accuracy_score\n",
    "accuracy=accuracy_score(y_pred1,y_test)"
   ]
  },
  {
   "cell_type": "code",
   "execution_count": 51,
   "id": "5bbcc85a",
   "metadata": {},
   "outputs": [
    {
     "data": {
      "text/plain": [
       "(0.0, 0.1442311181070891)"
      ]
     },
     "execution_count": 51,
     "metadata": {},
     "output_type": "execute_result"
    }
   ],
   "source": [
    "y_pred1.min(),y_pred1.max()"
   ]
  },
  {
   "cell_type": "code",
   "execution_count": 45,
   "id": "58816ee9",
   "metadata": {},
   "outputs": [],
   "source": [
    "y_pred=clf.predict(x_test)"
   ]
  },
  {
   "cell_type": "code",
   "execution_count": 52,
   "id": "51e83a95",
   "metadata": {},
   "outputs": [
    {
     "data": {
      "text/plain": [
       "(0.03178909380464554, 0.1442311181070891)"
      ]
     },
     "execution_count": 52,
     "metadata": {},
     "output_type": "execute_result"
    }
   ],
   "source": [
    "y_pred.min(), y_pred.max()"
   ]
  },
  {
   "cell_type": "code",
   "execution_count": 60,
   "id": "2525cdd6",
   "metadata": {},
   "outputs": [],
   "source": [
    "sub = pd.read_csv('sample_submission.csv')"
   ]
  },
  {
   "cell_type": "code",
   "execution_count": 61,
   "id": "ab8349d5",
   "metadata": {},
   "outputs": [],
   "source": [
    "#Prediction\n",
    "test_pred1=clf.predict(test)#convert into binary values\n",
    "for i in range(0,99):\n",
    "    if test_pred1[i]>=.5:       # setting threshold to .5\n",
    "       test_pred1[i]=1\n",
    "    else:  \n",
    "       test_pred1[i]=0"
   ]
  },
  {
   "cell_type": "code",
   "execution_count": 62,
   "id": "d9eec019",
   "metadata": {},
   "outputs": [],
   "source": [
    "sub['stroke'] = test_pred1"
   ]
  },
  {
   "cell_type": "code",
   "execution_count": 63,
   "id": "e31b41d7",
   "metadata": {},
   "outputs": [],
   "source": [
    "sub.to_csv('sub2.csv',index=False)"
   ]
  },
  {
   "cell_type": "code",
   "execution_count": 64,
   "id": "6aab3004",
   "metadata": {},
   "outputs": [],
   "source": [
    "test_pred2 = clf.predict(test)"
   ]
  },
  {
   "cell_type": "code",
   "execution_count": 65,
   "id": "1df00d6b",
   "metadata": {},
   "outputs": [],
   "source": [
    "sub['stroke'] = test_pred2"
   ]
  },
  {
   "cell_type": "code",
   "execution_count": 66,
   "id": "0c43fc16",
   "metadata": {},
   "outputs": [],
   "source": [
    "sub.to_csv('sub3.csv',index=False)"
   ]
  },
  {
   "cell_type": "code",
   "execution_count": 67,
   "id": "0af29a3a",
   "metadata": {},
   "outputs": [],
   "source": [
    "import lightgbm as lgb"
   ]
  },
  {
   "cell_type": "markdown",
   "id": "cf5b606f",
   "metadata": {},
   "source": [
    "# Neural Network"
   ]
  },
  {
   "cell_type": "code",
   "execution_count": 81,
   "id": "83e6d9ba",
   "metadata": {},
   "outputs": [],
   "source": [
    "import tensorflow as tf"
   ]
  },
  {
   "cell_type": "code",
   "execution_count": 84,
   "id": "5f9b6bd4",
   "metadata": {},
   "outputs": [
    {
     "data": {
      "text/plain": [
       "((15304, 10), (15304,))"
      ]
     },
     "execution_count": 84,
     "metadata": {},
     "output_type": "execute_result"
    }
   ],
   "source": [
    "X.shape, y.shape"
   ]
  },
  {
   "cell_type": "code",
   "execution_count": null,
   "id": "deffb210",
   "metadata": {},
   "outputs": [],
   "source": []
  },
  {
   "cell_type": "code",
   "execution_count": 119,
   "id": "25529512",
   "metadata": {},
   "outputs": [
    {
     "name": "stdout",
     "output_type": "stream",
     "text": [
      "Epoch 1/5\n",
      "479/479 [==============================] - 2s 2ms/step - loss: 4.1707 - accuracy: 0.4255\n",
      "Epoch 2/5\n",
      "479/479 [==============================] - 1s 2ms/step - loss: 0.4768 - accuracy: 0.8529\n",
      "Epoch 3/5\n",
      "479/479 [==============================] - 1s 2ms/step - loss: 0.3260 - accuracy: 0.9274\n",
      "Epoch 4/5\n",
      "479/479 [==============================] - 1s 2ms/step - loss: 0.2683 - accuracy: 0.9522\n",
      "Epoch 5/5\n",
      "479/479 [==============================] - 1s 2ms/step - loss: 0.2349 - accuracy: 0.9573\n"
     ]
    },
    {
     "data": {
      "text/plain": [
       "<keras.callbacks.History at 0xbbd804b220>"
      ]
     },
     "execution_count": 119,
     "metadata": {},
     "output_type": "execute_result"
    }
   ],
   "source": [
    "# Set random seed\n",
    "tf.random.set_seed(42)\n",
    "\n",
    "# 1. Create the model using the Sequential API\n",
    "model_1 = tf.keras.Sequential([\n",
    "  tf.keras.layers.Dense(1),\n",
    "    tf.keras.layers.Dense(1),\n",
    "    tf.keras.layers.Dense(1,activation='sigmoid')])\n",
    "\n",
    "# 2. Compile the model\n",
    "model_1.compile(loss=tf.keras.losses.BinaryCrossentropy(), # binary since we are working with 2 clases (0 & 1)\n",
    "                optimizer=tf.keras.optimizers.Adam(),\n",
    "                metrics=['accuracy'])\n",
    "\n",
    "# 3. Fit the model\n",
    "model_1.fit(X, y, epochs=5)"
   ]
  },
  {
   "cell_type": "code",
   "execution_count": 120,
   "id": "16f4b91d",
   "metadata": {},
   "outputs": [
    {
     "name": "stdout",
     "output_type": "stream",
     "text": [
      "319/319 [==============================] - 1s 1ms/step\n"
     ]
    }
   ],
   "source": [
    "pred3 = model_1.predict(test)"
   ]
  },
  {
   "cell_type": "code",
   "execution_count": 121,
   "id": "156abcb8",
   "metadata": {},
   "outputs": [
    {
     "data": {
      "text/plain": [
       "(0.00024858394, 0.7938197)"
      ]
     },
     "execution_count": 121,
     "metadata": {},
     "output_type": "execute_result"
    }
   ],
   "source": [
    "pred3.min(), pred3.max()"
   ]
  },
  {
   "cell_type": "code",
   "execution_count": 123,
   "id": "773f4e84",
   "metadata": {},
   "outputs": [],
   "source": [
    "sub['stroke'] = pred3"
   ]
  },
  {
   "cell_type": "code",
   "execution_count": 124,
   "id": "03dc12ec",
   "metadata": {},
   "outputs": [],
   "source": [
    "sub.to_csv('sub4.csv',index=False)"
   ]
  },
  {
   "cell_type": "code",
   "execution_count": 125,
   "id": "a44ea2cc",
   "metadata": {},
   "outputs": [
    {
     "name": "stdout",
     "output_type": "stream",
     "text": [
      "479/479 [==============================] - 1s 2ms/step - loss: 0.2237 - accuracy: 0.9582\n"
     ]
    },
    {
     "data": {
      "text/plain": [
       "[0.22372373938560486, 0.958180844783783]"
      ]
     },
     "execution_count": 125,
     "metadata": {},
     "output_type": "execute_result"
    }
   ],
   "source": [
    "# Evaluate the model\n",
    "model_1.evaluate(X, y)"
   ]
  },
  {
   "cell_type": "code",
   "execution_count": 333,
   "id": "e37a098e",
   "metadata": {
    "scrolled": false
   },
   "outputs": [
    {
     "name": "stdout",
     "output_type": "stream",
     "text": [
      "Epoch 1/5\n"
     ]
    },
    {
     "name": "stderr",
     "output_type": "stream",
     "text": [
      "C:\\Users\\ali\\miniconda3\\envs\\tf\\lib\\site-packages\\keras\\optimizers\\optimizer_v2\\adam.py:110: UserWarning: The `lr` argument is deprecated, use `learning_rate` instead.\n",
      "  super(Adam, self).__init__(name, **kwargs)\n"
     ]
    },
    {
     "name": "stdout",
     "output_type": "stream",
     "text": [
      "479/479 [==============================] - 4s 4ms/step - loss: 0.7021 - accuracy: 0.9544\n",
      "Epoch 2/5\n",
      "479/479 [==============================] - 2s 4ms/step - loss: 0.6370 - accuracy: 0.9587\n",
      "Epoch 3/5\n",
      "479/479 [==============================] - 2s 4ms/step - loss: 0.6370 - accuracy: 0.9587\n",
      "Epoch 4/5\n",
      "479/479 [==============================] - 2s 4ms/step - loss: 0.6370 - accuracy: 0.9587\n",
      "Epoch 5/5\n",
      "479/479 [==============================] - 2s 4ms/step - loss: 0.6370 - accuracy: 0.9587\n"
     ]
    }
   ],
   "source": [
    "tf.random.set_seed(42)\n",
    "\n",
    "# Create the model (same as model_7)\n",
    "model_2 = tf.keras.Sequential([\n",
    "    tf.keras.layers.Dense(10,activation='linear'),\n",
    "    tf.keras.layers.Dense(10,activation='linear'),\n",
    "    tf.keras.layers.Dense(10,activation='linear'),\n",
    "    tf.keras.layers.Dense(10,activation='linear'),\n",
    "    tf.keras.layers.Dense(10,activation='linear'),\n",
    "    tf.keras.layers.Dense(10,activation='linear'),\n",
    "    tf.keras.layers.Dense(10,activation='linear'),\n",
    "    tf.keras.layers.Dense(10,activation='linear'),\n",
    "    tf.keras.layers.Dense(10,activation='linear'),\n",
    "    tf.keras.layers.Dense(10,activation='linear'),\n",
    "    tf.keras.layers.Dense(10,activation='linear'),\n",
    "    tf.keras.layers.Dense(10,activation='linear'),\n",
    "    tf.keras.layers.Dense(10,activation='linear'),\n",
    "  tf.keras.layers.Dense(10,activation='linear'), # hidden layer 1, using \"relu\" for activation (same as tf.keras.activations.relu)\n",
    "#     tf.keras.layers.Dense(1,),\n",
    "  tf.keras.layers.Dense(1,activation='relu') # output layer, using 'sigmoid' for the output\n",
    "])\n",
    "\n",
    "# Compile the model\n",
    "model_2.compile(loss=tf.keras.losses.binary_crossentropy,\n",
    "                optimizer=tf.keras.optimizers.Adam(lr=0.01), # increase learning rate from 0.001 to 0.01 for faster learning\n",
    "                metrics=['accuracy'])\n",
    "\n",
    "# Fit the model\n",
    "history = model_2.fit(X, y, epochs=5)"
   ]
  },
  {
   "cell_type": "code",
   "execution_count": 331,
   "id": "01b19416",
   "metadata": {},
   "outputs": [
    {
     "name": "stdout",
     "output_type": "stream",
     "text": [
      "319/319 [==============================] - 1s 2ms/step\n",
      "319/319 [==============================] - 1s 2ms/step\n"
     ]
    },
    {
     "data": {
      "text/plain": [
       "(1.6248418e-08, 0.14738698)"
      ]
     },
     "execution_count": 331,
     "metadata": {},
     "output_type": "execute_result"
    }
   ],
   "source": [
    "(model_2.predict(test)).min(), (model_2.predict(test)).max()"
   ]
  },
  {
   "cell_type": "code",
   "execution_count": 284,
   "id": "2f8dbbfb",
   "metadata": {},
   "outputs": [
    {
     "data": {
      "text/plain": [
       "(-0.0840460817668595, 0.3877009737947089)"
      ]
     },
     "execution_count": 284,
     "metadata": {},
     "output_type": "execute_result"
    }
   ],
   "source": [
    "sub1['stroke'].min() , sub1['stroke'].max()"
   ]
  },
  {
   "cell_type": "code",
   "execution_count": 301,
   "id": "e181a830",
   "metadata": {},
   "outputs": [
    {
     "data": {
      "text/plain": [
       "Text(0.5, 1.0, 'Model_8 training curves')"
      ]
     },
     "execution_count": 301,
     "metadata": {},
     "output_type": "execute_result"
    },
    {
     "data": {
      "image/png": "[encoded data removed]",
      "text/plain": [
       "<Figure size 640x480 with 1 Axes>"
      ]
     },
     "metadata": {},
     "output_type": "display_data"
    }
   ],
   "source": [
    "# Plot the loss curves\n",
    "pd.DataFrame(history.history).plot()\n",
    "plt.title(\"Model_8 training curves\")"
   ]
  },
  {
   "cell_type": "code",
   "execution_count": 254,
   "id": "5a4c8370",
   "metadata": {},
   "outputs": [
    {
     "data": {
      "text/plain": [
       "(-0.0840460817668595, 0.3877009737947089)"
      ]
     },
     "execution_count": 254,
     "metadata": {},
     "output_type": "execute_result"
    }
   ],
   "source": [
    "sub1['stroke'].min(), sub1['stroke'].max()"
   ]
  },
  {
   "cell_type": "code",
   "execution_count": 270,
   "id": "9cca5d9f",
   "metadata": {},
   "outputs": [
    {
     "data": {
      "text/html": [
       "<div>\n",
       "<style scoped>\n",
       "    .dataframe tbody tr th:only-of-type {\n",
       "        vertical-align: middle;\n",
       "    }\n",
       "\n",
       "    .dataframe tbody tr th {\n",
       "        vertical-align: top;\n",
       "    }\n",
       "\n",
       "    .dataframe thead th {\n",
       "        text-align: right;\n",
       "    }\n",
       "</style>\n",
       "<table border=\"1\" class=\"dataframe\">\n",
       "  <thead>\n",
       "    <tr style=\"text-align: right;\">\n",
       "      <th></th>\n",
       "      <th>id</th>\n",
       "      <th>stroke</th>\n",
       "    </tr>\n",
       "  </thead>\n",
       "  <tbody>\n",
       "  </tbody>\n",
       "</table>\n",
       "</div>"
      ],
      "text/plain": [
       "Empty DataFrame\n",
       "Columns: [id, stroke]\n",
       "Index: []"
      ]
     },
     "execution_count": 270,
     "metadata": {},
     "output_type": "execute_result"
    }
   ],
   "source": [
    "sub[sub['stroke']<0]"
   ]
  },
  {
   "cell_type": "code",
   "execution_count": 309,
   "id": "e1f65427",
   "metadata": {},
   "outputs": [
    {
     "name": "stdout",
     "output_type": "stream",
     "text": [
      "319/319 [==============================] - 1s 2ms/step\n"
     ]
    },
    {
     "data": {
      "text/plain": [
       "count    10204.000000\n",
       "mean        -0.014654\n",
       "std          0.010416\n",
       "min         -0.014881\n",
       "25%         -0.014881\n",
       "50%         -0.014881\n",
       "75%         -0.014881\n",
       "max          0.805348\n",
       "Name: stroke, dtype: float64"
      ]
     },
     "execution_count": 309,
     "metadata": {},
     "output_type": "execute_result"
    }
   ],
   "source": [
    "sub['stroke'] = model_2.predict(test)\n",
    "sub['stroke'].describe()"
   ]
  },
  {
   "cell_type": "code",
   "execution_count": 212,
   "id": "a42cc8b8",
   "metadata": {},
   "outputs": [],
   "source": [
    "sub.to_csv('sub5.csv',index=False)"
   ]
  },
  {
   "cell_type": "code",
   "execution_count": 264,
   "id": "b77575bf",
   "metadata": {},
   "outputs": [
    {
     "data": {
      "text/plain": [
       "count    10204.000000\n",
       "mean         0.041977\n",
       "std          0.064143\n",
       "min         -0.084046\n",
       "25%         -0.004406\n",
       "50%          0.027692\n",
       "75%          0.072049\n",
       "max          0.387701\n",
       "Name: stroke, dtype: float64"
      ]
     },
     "execution_count": 264,
     "metadata": {},
     "output_type": "execute_result"
    }
   ],
   "source": [
    "sub1['stroke'].describe()"
   ]
  },
  {
   "cell_type": "code",
   "execution_count": 128,
   "id": "6bb9fcb7",
   "metadata": {},
   "outputs": [
    {
     "data": {
      "text/plain": [
       "(0.00023067843, 0.19862467)"
      ]
     },
     "execution_count": 128,
     "metadata": {},
     "output_type": "execute_result"
    }
   ],
   "source": [
    "pred4.min(), pred4.max()"
   ]
  },
  {
   "cell_type": "code",
   "execution_count": null,
   "id": "0ed2345e",
   "metadata": {},
   "outputs": [],
   "source": [
    "# Split data into train and test sets\n",
    "X_train, y_train = X[:800], y[:800] # 80% of the data for the training set\n",
    "X_test, y_test = X[800:], y[800:] # 20% of the data for the test set\n",
    "\n",
    "# Check the shapes of the data\n",
    "X_train.shape, X_test.shape # 800 examples in the training set, 200 examples in the test set "
   ]
  },
  {
   "cell_type": "code",
   "execution_count": 133,
   "id": "51aeca34",
   "metadata": {},
   "outputs": [],
   "source": [
    "sub1 = pd.read_csv('sub1.csv')"
   ]
  },
  {
   "cell_type": "code",
   "execution_count": 134,
   "id": "3b945bf1",
   "metadata": {},
   "outputs": [
    {
     "data": {
      "text/plain": [
       "(-0.0840460817668595, 0.3877009737947089)"
      ]
     },
     "execution_count": 134,
     "metadata": {},
     "output_type": "execute_result"
    }
   ],
   "source": [
    "sub1['stroke'].min() , sub1['stroke'].max()"
   ]
  },
  {
   "cell_type": "code",
   "execution_count": 135,
   "id": "68fe164a",
   "metadata": {},
   "outputs": [
    {
     "data": {
      "text/plain": [
       "(0.0, 0.1417601846084031)"
      ]
     },
     "execution_count": 135,
     "metadata": {},
     "output_type": "execute_result"
    }
   ],
   "source": [
    "sub2 = pd.read_csv('sub2.csv')\n",
    "sub2['stroke'].min() , sub2['stroke'].max()"
   ]
  },
  {
   "cell_type": "code",
   "execution_count": 137,
   "id": "938054b9",
   "metadata": {},
   "outputs": [
    {
     "data": {
      "text/plain": [
       "(0.0436382263854501, 0.1417601846084031)"
      ]
     },
     "execution_count": 137,
     "metadata": {},
     "output_type": "execute_result"
    }
   ],
   "source": [
    "sub3 = pd.read_csv('sub3.csv')\n",
    "sub3['stroke'].min() , sub3['stroke'].max()"
   ]
  },
  {
   "cell_type": "code",
   "execution_count": 138,
   "id": "07f65700",
   "metadata": {},
   "outputs": [
    {
     "data": {
      "text/plain": [
       "(0.00024858394, 0.1417601846084031)"
      ]
     },
     "execution_count": 138,
     "metadata": {},
     "output_type": "execute_result"
    }
   ],
   "source": [
    "sub4 = pd.read_csv('sub4.csv')\n",
    "sub4['stroke'].min() , sub2['stroke'].max()"
   ]
  },
  {
   "cell_type": "markdown",
   "id": "0b29a2d1",
   "metadata": {},
   "source": [
    "## Split Test Train Set"
   ]
  },
  {
   "cell_type": "code",
   "execution_count": 139,
   "id": "f2e750d0",
   "metadata": {
    "scrolled": true
   },
   "outputs": [
    {
     "data": {
      "text/plain": [
       "((11478, 10), (3826, 10), (11478,), (3826,))"
      ]
     },
     "execution_count": 139,
     "metadata": {},
     "output_type": "execute_result"
    }
   ],
   "source": [
    "X_train.shape, X_test.shape, y_train.shape, y_test.shape"
   ]
  },
  {
   "cell_type": "code",
   "execution_count": 141,
   "id": "fc552107",
   "metadata": {},
   "outputs": [
    {
     "data": {
      "text/plain": [
       "((15304, 10), (15304,))"
      ]
     },
     "execution_count": 141,
     "metadata": {},
     "output_type": "execute_result"
    }
   ],
   "source": [
    "X.shape, y.shape"
   ]
  },
  {
   "cell_type": "code",
   "execution_count": 142,
   "id": "2751a3a1",
   "metadata": {},
   "outputs": [
    {
     "data": {
      "text/plain": [
       "(3826, 11478)"
      ]
     },
     "execution_count": 142,
     "metadata": {},
     "output_type": "execute_result"
    }
   ],
   "source": [
    "15304-11478 , 15304-3826"
   ]
  },
  {
   "cell_type": "code",
   "execution_count": 143,
   "id": "a71f761d",
   "metadata": {},
   "outputs": [
    {
     "data": {
      "text/plain": [
       "((11478, 10), (3826, 10))"
      ]
     },
     "execution_count": 143,
     "metadata": {},
     "output_type": "execute_result"
    }
   ],
   "source": [
    "# Split data into train and test sets\n",
    "X_train, y_train = X[:11478], y[:11478] # 80% of the data for the training set\n",
    "X_test, y_test = X[11478:], y[11478:] # 20% of the data for the test set\n",
    "\n",
    "# Check the shapes of the data\n",
    "X_train.shape, X_test.shape # 800 examples in the training set, 200 examples in the test set "
   ]
  },
  {
   "cell_type": "markdown",
   "id": "29b19b5f",
   "metadata": {},
   "source": [
    "# Check Overfiting"
   ]
  },
  {
   "cell_type": "code",
   "execution_count": 156,
   "id": "158a478c",
   "metadata": {},
   "outputs": [
    {
     "data": {
      "text/plain": [
       "Text(0.5, 1.0, 'Model_8 training curves')"
      ]
     },
     "execution_count": 156,
     "metadata": {},
     "output_type": "execute_result"
    },
    {
     "data": {
      "image/png": "[encoded data removed]",
      "text/plain": [
       "<Figure size 640x480 with 1 Axes>"
      ]
     },
     "metadata": {},
     "output_type": "display_data"
    }
   ],
   "source": [
    "# Plot the loss curves\n",
    "pd.DataFrame(history.history).plot()\n",
    "plt.title(\"Model_8 training curves\")"
   ]
  },
  {
   "cell_type": "code",
   "execution_count": 213,
   "id": "a6c7058e",
   "metadata": {},
   "outputs": [],
   "source": [
    "## ToMorrow i will Continuo this damp"
   ]
  },
  {
   "cell_type": "markdown",
   "id": "b5c4ebae",
   "metadata": {},
   "source": [
    "## knn"
   ]
  },
  {
   "cell_type": "code",
   "execution_count": 347,
   "id": "9429701a",
   "metadata": {},
   "outputs": [],
   "source": [
    "from sklearn.neighbors import KNeighborsClassifier\n",
    "from sklearn.neighbors import KNeighborsRegressor"
   ]
  },
  {
   "cell_type": "code",
   "execution_count": 336,
   "id": "ecc7efe2",
   "metadata": {},
   "outputs": [],
   "source": [
    "X = df.drop(['id','stroke'],axis=1)"
   ]
  },
  {
   "cell_type": "code",
   "execution_count": 337,
   "id": "8f60ce02",
   "metadata": {},
   "outputs": [],
   "source": [
    "y = df.stroke"
   ]
  },
  {
   "cell_type": "code",
   "execution_count": 339,
   "id": "cc3d9aab",
   "metadata": {},
   "outputs": [],
   "source": [
    "X_train, X_test,y_train,y_test = train_test_split(X,y,random_state=42)"
   ]
  },
  {
   "cell_type": "code",
   "execution_count": 341,
   "id": "66e57648",
   "metadata": {},
   "outputs": [],
   "source": [
    "knnc = KNeighborsClassifier()"
   ]
  },
  {
   "cell_type": "code",
   "execution_count": 342,
   "id": "7d00b601",
   "metadata": {},
   "outputs": [
    {
     "data": {
      "text/plain": [
       "KNeighborsClassifier(n_neighbors=2)"
      ]
     },
     "execution_count": 342,
     "metadata": {},
     "output_type": "execute_result"
    }
   ],
   "source": [
    "knnc.fit(X_train,y_train)"
   ]
  },
  {
   "cell_type": "code",
   "execution_count": 343,
   "id": "4aada6e7",
   "metadata": {},
   "outputs": [
    {
     "data": {
      "text/plain": [
       "0.9560899111343439"
      ]
     },
     "execution_count": 343,
     "metadata": {},
     "output_type": "execute_result"
    }
   ],
   "source": [
    "knnc.score(X_test,y_test)"
   ]
  },
  {
   "cell_type": "code",
   "execution_count": 345,
   "id": "183208a0",
   "metadata": {},
   "outputs": [
    {
     "name": "stdout",
     "output_type": "stream",
     "text": [
      "              precision    recall  f1-score   support\n",
      "\n",
      "           0       0.96      1.00      0.98      3667\n",
      "           1       0.30      0.04      0.08       159\n",
      "\n",
      "    accuracy                           0.96      3826\n",
      "   macro avg       0.63      0.52      0.53      3826\n",
      "weighted avg       0.93      0.96      0.94      3826\n",
      "\n"
     ]
    }
   ],
   "source": [
    "print(classification_report(y_test,knnc.predict(X_test)))"
   ]
  },
  {
   "cell_type": "code",
   "execution_count": 375,
   "id": "b6c338f3",
   "metadata": {},
   "outputs": [],
   "source": [
    "knnr = KNeighborsRegressor(leaf_size=100)"
   ]
  },
  {
   "cell_type": "code",
   "execution_count": 376,
   "id": "1dd317c2",
   "metadata": {},
   "outputs": [
    {
     "data": {
      "text/plain": [
       "KNeighborsRegressor(leaf_size=100)"
      ]
     },
     "execution_count": 376,
     "metadata": {},
     "output_type": "execute_result"
    }
   ],
   "source": [
    "knnr.fit(X_train,y_train)"
   ]
  },
  {
   "cell_type": "code",
   "execution_count": 377,
   "id": "cd793e41",
   "metadata": {},
   "outputs": [
    {
     "data": {
      "text/plain": [
       "0.008611429835709616"
      ]
     },
     "execution_count": 377,
     "metadata": {},
     "output_type": "execute_result"
    }
   ],
   "source": [
    "knnr.score(X_test,y_test)"
   ]
  },
  {
   "cell_type": "code",
   "execution_count": 374,
   "id": "5e018459",
   "metadata": {},
   "outputs": [
    {
     "ename": "ValueError",
     "evalue": "Classification metrics can't handle a mix of binary and continuous targets",
     "output_type": "error",
     "traceback": [
      "\u001b[1;31m---------------------------------------------------------------------------\u001b[0m",
      "\u001b[1;31mValueError\u001b[0m                                Traceback (most recent call last)",
      "Cell \u001b[1;32mIn [374], line 1\u001b[0m\n\u001b[1;32m----> 1\u001b[0m \u001b[38;5;28mprint\u001b[39m(\u001b[43mclassification_report\u001b[49m\u001b[43m(\u001b[49m\u001b[43my_test\u001b[49m\u001b[43m,\u001b[49m\u001b[43mknnr\u001b[49m\u001b[38;5;241;43m.\u001b[39;49m\u001b[43mpredict\u001b[49m\u001b[43m(\u001b[49m\u001b[43mX_test\u001b[49m\u001b[43m)\u001b[49m\u001b[43m)\u001b[49m)\n",
      "File \u001b[1;32m~\\miniconda3\\envs\\tf\\lib\\site-packages\\sklearn\\metrics\\_classification.py:2110\u001b[0m, in \u001b[0;36mclassification_report\u001b[1;34m(y_true, y_pred, labels, target_names, sample_weight, digits, output_dict, zero_division)\u001b[0m\n\u001b[0;32m   1998\u001b[0m \u001b[38;5;28;01mdef\u001b[39;00m \u001b[38;5;21mclassification_report\u001b[39m(\n\u001b[0;32m   1999\u001b[0m     y_true,\n\u001b[0;32m   2000\u001b[0m     y_pred,\n\u001b[1;32m   (...)\u001b[0m\n\u001b[0;32m   2007\u001b[0m     zero_division\u001b[38;5;241m=\u001b[39m\u001b[38;5;124m\"\u001b[39m\u001b[38;5;124mwarn\u001b[39m\u001b[38;5;124m\"\u001b[39m,\n\u001b[0;32m   2008\u001b[0m ):\n\u001b[0;32m   2009\u001b[0m     \u001b[38;5;124;03m\"\"\"Build a text report showing the main classification metrics.\u001b[39;00m\n\u001b[0;32m   2010\u001b[0m \n\u001b[0;32m   2011\u001b[0m \u001b[38;5;124;03m    Read more in the :ref:`User Guide <classification_report>`.\u001b[39;00m\n\u001b[1;32m   (...)\u001b[0m\n\u001b[0;32m   2107\u001b[0m \u001b[38;5;124;03m    <BLANKLINE>\u001b[39;00m\n\u001b[0;32m   2108\u001b[0m \u001b[38;5;124;03m    \"\"\"\u001b[39;00m\n\u001b[1;32m-> 2110\u001b[0m     y_type, y_true, y_pred \u001b[38;5;241m=\u001b[39m _check_targets(y_true, y_pred)\n\u001b[0;32m   2112\u001b[0m     \u001b[38;5;28;01mif\u001b[39;00m labels \u001b[38;5;129;01mis\u001b[39;00m \u001b[38;5;28;01mNone\u001b[39;00m:\n\u001b[0;32m   2113\u001b[0m         labels \u001b[38;5;241m=\u001b[39m unique_labels(y_true, y_pred)\n",
      "File \u001b[1;32m~\\miniconda3\\envs\\tf\\lib\\site-packages\\sklearn\\metrics\\_classification.py:93\u001b[0m, in \u001b[0;36m_check_targets\u001b[1;34m(y_true, y_pred)\u001b[0m\n\u001b[0;32m     90\u001b[0m     y_type \u001b[38;5;241m=\u001b[39m {\u001b[38;5;124m\"\u001b[39m\u001b[38;5;124mmulticlass\u001b[39m\u001b[38;5;124m\"\u001b[39m}\n\u001b[0;32m     92\u001b[0m \u001b[38;5;28;01mif\u001b[39;00m \u001b[38;5;28mlen\u001b[39m(y_type) \u001b[38;5;241m>\u001b[39m \u001b[38;5;241m1\u001b[39m:\n\u001b[1;32m---> 93\u001b[0m     \u001b[38;5;28;01mraise\u001b[39;00m \u001b[38;5;167;01mValueError\u001b[39;00m(\n\u001b[0;32m     94\u001b[0m         \u001b[38;5;124m\"\u001b[39m\u001b[38;5;124mClassification metrics can\u001b[39m\u001b[38;5;124m'\u001b[39m\u001b[38;5;124mt handle a mix of \u001b[39m\u001b[38;5;132;01m{0}\u001b[39;00m\u001b[38;5;124m and \u001b[39m\u001b[38;5;132;01m{1}\u001b[39;00m\u001b[38;5;124m targets\u001b[39m\u001b[38;5;124m\"\u001b[39m\u001b[38;5;241m.\u001b[39mformat(\n\u001b[0;32m     95\u001b[0m             type_true, type_pred\n\u001b[0;32m     96\u001b[0m         )\n\u001b[0;32m     97\u001b[0m     )\n\u001b[0;32m     99\u001b[0m \u001b[38;5;66;03m# We can't have more than one value on y_type => The set is no more needed\u001b[39;00m\n\u001b[0;32m    100\u001b[0m y_type \u001b[38;5;241m=\u001b[39m y_type\u001b[38;5;241m.\u001b[39mpop()\n",
      "\u001b[1;31mValueError\u001b[0m: Classification metrics can't handle a mix of binary and continuous targets"
     ]
    }
   ],
   "source": [
    "print(classification_report(y_test,knnr.predict(X_test)))"
   ]
  },
  {
   "cell_type": "markdown",
   "id": "28dd4bcb",
   "metadata": {},
   "source": [
    "# SVC"
   ]
  },
  {
   "cell_type": "code",
   "execution_count": 380,
   "id": "99f7e932",
   "metadata": {},
   "outputs": [],
   "source": [
    "from sklearn.svm import SVC\n",
    "from sklearn.pipeline import make_pipeline"
   ]
  },
  {
   "cell_type": "code",
   "execution_count": 384,
   "id": "fd036b3f",
   "metadata": {},
   "outputs": [],
   "source": [
    "clf = make_pipeline(StandardScaler(), SVC(gamma='auto',class_weight='balanced'))"
   ]
  },
  {
   "cell_type": "code",
   "execution_count": 385,
   "id": "65e01e37",
   "metadata": {},
   "outputs": [
    {
     "data": {
      "text/plain": [
       "Pipeline(steps=[('standardscaler', StandardScaler()),\n",
       "                ('svc', SVC(class_weight='balanced', gamma='auto'))])"
      ]
     },
     "execution_count": 385,
     "metadata": {},
     "output_type": "execute_result"
    }
   ],
   "source": [
    "clf.fit(X_train, y_train)"
   ]
  },
  {
   "cell_type": "code",
   "execution_count": 386,
   "id": "84fa576d",
   "metadata": {},
   "outputs": [
    {
     "data": {
      "text/plain": [
       "0.799790904338735"
      ]
     },
     "execution_count": 386,
     "metadata": {},
     "output_type": "execute_result"
    }
   ],
   "source": [
    "clf.score(X_test,y_test)"
   ]
  },
  {
   "cell_type": "code",
   "execution_count": 388,
   "id": "b4e3a8ea",
   "metadata": {},
   "outputs": [
    {
     "name": "stdout",
     "output_type": "stream",
     "text": [
      "              precision    recall  f1-score   support\n",
      "\n",
      "           0       0.99      0.80      0.88      3667\n",
      "           1       0.14      0.76      0.24       159\n",
      "\n",
      "    accuracy                           0.80      3826\n",
      "   macro avg       0.56      0.78      0.56      3826\n",
      "weighted avg       0.95      0.80      0.86      3826\n",
      "\n"
     ]
    }
   ],
   "source": [
    "print(classification_report(y_test,clf.predict(X_test)))"
   ]
  },
  {
   "cell_type": "markdown",
   "id": "1758f124",
   "metadata": {},
   "source": [
    "## Logistic Regresion"
   ]
  },
  {
   "cell_type": "code",
   "execution_count": 389,
   "id": "0a6faceb",
   "metadata": {},
   "outputs": [],
   "source": [
    "from sklearn.linear_model import LogisticRegression"
   ]
  },
  {
   "cell_type": "code",
   "execution_count": 391,
   "id": "887fb268",
   "metadata": {},
   "outputs": [],
   "source": [
    "lr = LogisticRegression()"
   ]
  },
  {
   "cell_type": "code",
   "execution_count": 392,
   "id": "b262d024",
   "metadata": {},
   "outputs": [
    {
     "name": "stderr",
     "output_type": "stream",
     "text": [
      "C:\\Users\\ali\\miniconda3\\envs\\tf\\lib\\site-packages\\sklearn\\linear_model\\_logistic.py:814: ConvergenceWarning: lbfgs failed to converge (status=1):\n",
      "STOP: TOTAL NO. of ITERATIONS REACHED LIMIT.\n",
      "\n",
      "Increase the number of iterations (max_iter) or scale the data as shown in:\n",
      "    https://scikit-learn.org/stable/modules/preprocessing.html\n",
      "Please also refer to the documentation for alternative solver options:\n",
      "    https://scikit-learn.org/stable/modules/linear_model.html#logistic-regression\n",
      "  n_iter_i = _check_optimize_result(\n"
     ]
    },
    {
     "data": {
      "text/plain": [
       "LogisticRegression()"
      ]
     },
     "execution_count": 392,
     "metadata": {},
     "output_type": "execute_result"
    }
   ],
   "source": [
    "lr.fit(X_train,y_train)"
   ]
  },
  {
   "cell_type": "code",
   "execution_count": 393,
   "id": "676557c1",
   "metadata": {},
   "outputs": [
    {
     "data": {
      "text/plain": [
       "0.9568740198640878"
      ]
     },
     "execution_count": 393,
     "metadata": {},
     "output_type": "execute_result"
    }
   ],
   "source": [
    "lr.score(X_test,y_test)"
   ]
  },
  {
   "cell_type": "markdown",
   "id": "9e1e3340",
   "metadata": {},
   "source": [
    "## Sklearn Documention"
   ]
  },
  {
   "cell_type": "code",
   "execution_count": 395,
   "id": "398b2fc3",
   "metadata": {},
   "outputs": [],
   "source": [
    "from sklearn.datasets import make_classification\n",
    "from sklearn.linear_model import LogisticRegression\n",
    "from sklearn.model_selection import train_test_split\n",
    "from sklearn.pipeline import make_pipeline\n",
    "from sklearn.preprocessing import StandardScaler"
   ]
  },
  {
   "cell_type": "code",
   "execution_count": 396,
   "id": "4d45e42a",
   "metadata": {},
   "outputs": [
    {
     "data": {
      "text/plain": [
       "0.96"
      ]
     },
     "execution_count": 396,
     "metadata": {},
     "output_type": "execute_result"
    }
   ],
   "source": [
    "X, y = make_classification(random_state=42)\n",
    "X_train, X_test, y_train, y_test = train_test_split(X, y, random_state=42)\n",
    "pipe = make_pipeline(StandardScaler(), LogisticRegression())\n",
    "pipe.fit(X_train, y_train)  # apply scaling on training data\n",
    "pipe.score(X_test, y_test)  # apply scaling on testing data, without leaking training data."
   ]
  },
  {
   "cell_type": "markdown",
   "id": "122eed9f",
   "metadata": {},
   "source": [
    "## Leanier Regresion"
   ]
  },
  {
   "cell_type": "code",
   "execution_count": 397,
   "id": "68e05f62",
   "metadata": {},
   "outputs": [],
   "source": [
    "from sklearn.linear_model import LinearRegression"
   ]
  },
  {
   "cell_type": "code",
   "execution_count": 398,
   "id": "9855cc7f",
   "metadata": {},
   "outputs": [],
   "source": [
    "X = df.drop(['id','stroke'],axis=1)\n",
    "y = df.stroke\n",
    "X_train, X_test,y_train,y_test = train_test_split(X,y,random_state=42)"
   ]
  },
  {
   "cell_type": "code",
   "execution_count": 422,
   "id": "f58c7ec0",
   "metadata": {},
   "outputs": [],
   "source": [
    "lr = LinearRegression()"
   ]
  },
  {
   "cell_type": "code",
   "execution_count": 423,
   "id": "c6bc31d2",
   "metadata": {},
   "outputs": [
    {
     "data": {
      "text/plain": [
       "LinearRegression()"
      ]
     },
     "execution_count": 423,
     "metadata": {},
     "output_type": "execute_result"
    }
   ],
   "source": [
    "lr.fit(X_train,y_train)"
   ]
  },
  {
   "cell_type": "code",
   "execution_count": 421,
   "id": "f528892f",
   "metadata": {},
   "outputs": [
    {
     "data": {
      "text/plain": [
       "0.10257615790674046"
      ]
     },
     "execution_count": 421,
     "metadata": {},
     "output_type": "execute_result"
    }
   ],
   "source": [
    "lr.score(X_test,y_test)"
   ]
  },
  {
   "cell_type": "code",
   "execution_count": 405,
   "id": "09da204a",
   "metadata": {},
   "outputs": [],
   "source": [
    "lrpred = lr.predict(X_test)"
   ]
  },
  {
   "cell_type": "code",
   "execution_count": 407,
   "id": "13705814",
   "metadata": {},
   "outputs": [
    {
     "data": {
      "text/plain": [
       "(-0.08166571829994987, 0.3977152833229828)"
      ]
     },
     "execution_count": 407,
     "metadata": {},
     "output_type": "execute_result"
    }
   ],
   "source": [
    "lrpred.min(), lrpred.max()"
   ]
  },
  {
   "cell_type": "code",
   "execution_count": 417,
   "id": "f81e392c",
   "metadata": {},
   "outputs": [
    {
     "data": {
      "text/plain": [
       "0.08326135355496907"
      ]
     },
     "execution_count": 417,
     "metadata": {},
     "output_type": "execute_result"
    }
   ],
   "source": [
    "mean_absolute_error(y_test,lr.predict(X_test))"
   ]
  },
  {
   "cell_type": "code",
   "execution_count": 418,
   "id": "0cf5796b",
   "metadata": {},
   "outputs": [
    {
     "data": {
      "text/plain": [
       "0.08286495419116649"
      ]
     },
     "execution_count": 418,
     "metadata": {},
     "output_type": "execute_result"
    }
   ],
   "source": [
    "mean_absolute_error(y_train,lr.predict(X_train))"
   ]
  },
  {
   "cell_type": "code",
   "execution_count": 424,
   "id": "932e69ba",
   "metadata": {},
   "outputs": [],
   "source": [
    "model = make_pipeline(StandardScaler(with_mean=False), LinearRegression())"
   ]
  },
  {
   "cell_type": "code",
   "execution_count": 425,
   "id": "56423fe1",
   "metadata": {},
   "outputs": [
    {
     "data": {
      "text/plain": [
       "Pipeline(steps=[('standardscaler', StandardScaler(with_mean=False)),\n",
       "                ('linearregression', LinearRegression())])"
      ]
     },
     "execution_count": 425,
     "metadata": {},
     "output_type": "execute_result"
    }
   ],
   "source": [
    "model.fit(X_train,y_train)"
   ]
  },
  {
   "cell_type": "code",
   "execution_count": 427,
   "id": "fdb736bf",
   "metadata": {},
   "outputs": [
    {
     "data": {
      "text/plain": [
       "0.08326135355496905"
      ]
     },
     "execution_count": 427,
     "metadata": {},
     "output_type": "execute_result"
    }
   ],
   "source": [
    "mean_absolute_error(y_test,model.predict(X_test))"
   ]
  },
  {
   "cell_type": "code",
   "execution_count": 429,
   "id": "cd83d5ca",
   "metadata": {},
   "outputs": [],
   "source": [
    "pred6 = model.predict(test)"
   ]
  },
  {
   "cell_type": "code",
   "execution_count": 431,
   "id": "4a75daf5",
   "metadata": {},
   "outputs": [],
   "source": [
    "sub['stroke'] = pred6"
   ]
  },
  {
   "cell_type": "code",
   "execution_count": 432,
   "id": "cafe61d4",
   "metadata": {},
   "outputs": [],
   "source": [
    "sub.to_csv('sub6.csv',index=False)"
   ]
  },
  {
   "cell_type": "markdown",
   "id": "7ee1517e",
   "metadata": {},
   "source": [
    "# Outlier"
   ]
  },
  {
   "cell_type": "code",
   "execution_count": 435,
   "id": "1eb7142a",
   "metadata": {},
   "outputs": [
    {
     "data": {
      "text/plain": [
       "heart_disease        6.316649\n",
       "stroke               4.611121\n",
       "hypertension         4.143196\n",
       "avg_glucose_level    3.037242\n",
       "bmi                  0.713051\n",
       "gender               0.483809\n",
       "Residence_type       0.003137\n",
       "id                   0.000000\n",
       "age                 -0.103579\n",
       "smoking_status      -0.120047\n",
       "work_type           -0.196099\n",
       "ever_married        -0.764840\n",
       "dtype: float64"
      ]
     },
     "execution_count": 435,
     "metadata": {},
     "output_type": "execute_result"
    }
   ],
   "source": [
    "df.skew().sort_values(ascending=False)"
   ]
  },
  {
   "cell_type": "code",
   "execution_count": 438,
   "id": "2adee09e",
   "metadata": {},
   "outputs": [
    {
     "data": {
      "text/plain": [
       "heart_disease        6.316649\n",
       "hypertension         4.143196\n",
       "avg_glucose_level    3.037242\n",
       "bmi                  0.713051\n",
       "gender               0.483809\n",
       "Residence_type       0.003137\n",
       "age                 -0.103579\n",
       "smoking_status      -0.120047\n",
       "work_type           -0.196099\n",
       "ever_married        -0.764840\n",
       "dtype: float64"
      ]
     },
     "execution_count": 438,
     "metadata": {},
     "output_type": "execute_result"
    }
   ],
   "source": [
    "X.skew().sort_values(ascending=False)"
   ]
  },
  {
   "cell_type": "code",
   "execution_count": 439,
   "id": "a2feb358",
   "metadata": {},
   "outputs": [
    {
     "data": {
      "text/plain": [
       "0        0\n",
       "1        0\n",
       "2        0\n",
       "3        0\n",
       "4        0\n",
       "        ..\n",
       "15299    0\n",
       "15300    1\n",
       "15301    0\n",
       "15302    0\n",
       "15303    0\n",
       "Name: hypertension, Length: 15304, dtype: int64"
      ]
     },
     "execution_count": 439,
     "metadata": {},
     "output_type": "execute_result"
    }
   ],
   "source": [
    "df.hypertension"
   ]
  },
  {
   "cell_type": "code",
   "execution_count": 440,
   "id": "26a342b0",
   "metadata": {},
   "outputs": [
    {
     "name": "stdout",
     "output_type": "stream",
     "text": [
      "Number of mislabeled points out of a total 3826 points : 358\n"
     ]
    }
   ],
   "source": [
    "from sklearn.naive_bayes import GaussianNB\n",
    "# X, y = load_iris(return_X_y=True)\n",
    "# X_train, X_test, y_train, y_test = train_test_split(X, y, test_size=0.5, random_state=0)\n",
    "gnb = GaussianNB()\n",
    "y_pred = gnb.fit(X_train, y_train).predict(X_test)\n",
    "print(\"Number of mislabeled points out of a total %d points : %d\"\n",
    "      % (X_test.shape[0], (y_test != y_pred).sum()))"
   ]
  },
  {
   "cell_type": "code",
   "execution_count": 441,
   "id": "2f0f2b83",
   "metadata": {},
   "outputs": [
    {
     "data": {
      "text/plain": [
       "0.9064296915838996"
      ]
     },
     "execution_count": 441,
     "metadata": {},
     "output_type": "execute_result"
    }
   ],
   "source": [
    "gnb.fit(X_train, y_train)\n",
    "gnb.score(X_test,y_test)"
   ]
  },
  {
   "cell_type": "code",
   "execution_count": 444,
   "id": "d281f41a",
   "metadata": {},
   "outputs": [],
   "source": [
    "y_pred = gnb.fit(X_train, y_train).predict(test)"
   ]
  },
  {
   "cell_type": "code",
   "execution_count": 445,
   "id": "4e6cc77c",
   "metadata": {},
   "outputs": [],
   "source": [
    "sub['stroke'] = y_pred"
   ]
  },
  {
   "cell_type": "code",
   "execution_count": 446,
   "id": "44cad99e",
   "metadata": {},
   "outputs": [],
   "source": [
    "sub.to_csv('sub7.csv',index=False)"
   ]
  },
  {
   "cell_type": "code",
   "execution_count": 453,
   "id": "f975884b",
   "metadata": {},
   "outputs": [
    {
     "data": {
      "text/plain": [
       "9.357030841610037"
      ]
     },
     "execution_count": 453,
     "metadata": {},
     "output_type": "execute_result"
    }
   ],
   "source": [
    "(358/3826) *100"
   ]
  },
  {
   "cell_type": "code",
   "execution_count": 451,
   "id": "d73ef130",
   "metadata": {},
   "outputs": [
    {
     "data": {
      "text/plain": [
       "10204"
      ]
     },
     "execution_count": 451,
     "metadata": {},
     "output_type": "execute_result"
    }
   ],
   "source": [
    "len(sub)"
   ]
  },
  {
   "cell_type": "code",
   "execution_count": 454,
   "id": "a1d3a605",
   "metadata": {},
   "outputs": [],
   "source": [
    "## Waoooo Ensampling Model"
   ]
  },
  {
   "cell_type": "code",
   "execution_count": null,
   "id": "e11c0ee8",
   "metadata": {},
   "outputs": [],
   "source": []
  }
 ],
 "metadata": {
  "kernelspec": {
   "display_name": "Python 3 (ipykernel)",
   "language": "python",
   "name": "python3"
  },
  "language_info": {
   "codemirror_mode": {
    "name": "ipython",
    "version": 3
   },
   "file_extension": ".py",
   "mimetype": "text/x-python",
   "name": "python",
   "nbconvert_exporter": "python",
   "pygments_lexer": "ipython3",
   "version": "3.10.8"
  }
 },
 "nbformat": 4,
 "nbformat_minor": 5
}
