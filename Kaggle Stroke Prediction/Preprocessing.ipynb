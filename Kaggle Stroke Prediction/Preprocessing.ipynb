{
 "cells": [
  {
   "cell_type": "markdown",
   "id": "959ab739",
   "metadata": {},
   "source": [
    "# Outlier"
   ]
  },
  {
   "cell_type": "code",
   "execution_count": 42,
   "id": "518421a3",
   "metadata": {},
   "outputs": [],
   "source": [
    "import pandas as pd\n",
    "import matplotlib.pyplot as plt\n",
    "import numpy as np\n",
    "from scipy import stats\n",
    "from sklearn.preprocessing import LabelEncoder"
   ]
  },
  {
   "cell_type": "code",
   "execution_count": 61,
   "id": "551cbef4",
   "metadata": {},
   "outputs": [],
   "source": [
    "df = pd.read_csv('train.csv')"
   ]
  },
  {
   "cell_type": "code",
   "execution_count": 47,
   "id": "0f93a8a3",
   "metadata": {},
   "outputs": [
    {
     "data": {
      "text/plain": [
       "heart_disease        6.316649\n",
       "stroke               4.611121\n",
       "hypertension         4.143196\n",
       "avg_glucose_level    3.037242\n",
       "bmi                  0.713051\n",
       "id                   0.000000\n",
       "age                 -0.103579\n",
       "dtype: float64"
      ]
     },
     "execution_count": 47,
     "metadata": {},
     "output_type": "execute_result"
    }
   ],
   "source": [
    "df.skew(numeric_only=True).sort_values(ascending=False)"
   ]
  },
  {
   "cell_type": "code",
   "execution_count": 48,
   "id": "93e5e474",
   "metadata": {},
   "outputs": [
    {
     "data": {
      "text/plain": [
       "93.88     33\n",
       "85.84     33\n",
       "77.55     32\n",
       "72.49     31\n",
       "73.00     31\n",
       "          ..\n",
       "229.92     1\n",
       "61.12      1\n",
       "86.66      1\n",
       "116.14     1\n",
       "77.65      1\n",
       "Name: avg_glucose_level, Length: 3740, dtype: int64"
      ]
     },
     "execution_count": 48,
     "metadata": {},
     "output_type": "execute_result"
    }
   ],
   "source": [
    "df.avg_glucose_level.value_counts()"
   ]
  },
  {
   "cell_type": "code",
   "execution_count": 49,
   "id": "ba568f9f",
   "metadata": {},
   "outputs": [],
   "source": [
    "crm_boxcox = stats.boxcox(df['avg_glucose_level'])[0]\n",
    "crm_boxcox = pd.Series(crm_boxcox)"
   ]
  },
  {
   "cell_type": "code",
   "execution_count": 50,
   "id": "504f4a70",
   "metadata": {},
   "outputs": [],
   "source": [
    "df['avg_glucose_level'] = crm_boxcox"
   ]
  },
  {
   "cell_type": "code",
   "execution_count": 51,
   "id": "711f360f",
   "metadata": {},
   "outputs": [
    {
     "data": {
      "text/plain": [
       "heart_disease        6.316649\n",
       "stroke               4.611121\n",
       "hypertension         4.143196\n",
       "bmi                  0.713051\n",
       "id                   0.000000\n",
       "avg_glucose_level   -0.060614\n",
       "age                 -0.103579\n",
       "dtype: float64"
      ]
     },
     "execution_count": 51,
     "metadata": {},
     "output_type": "execute_result"
    }
   ],
   "source": [
    "df.skew(numeric_only=True).sort_values(ascending=False)"
   ]
  },
  {
   "cell_type": "code",
   "execution_count": 52,
   "id": "3f474c0b",
   "metadata": {},
   "outputs": [],
   "source": [
    "crm_boxcox = stats.boxcox(df['bmi'])[0]\n",
    "crm_boxcox = pd.Series(crm_boxcox)"
   ]
  },
  {
   "cell_type": "code",
   "execution_count": 53,
   "id": "da4ec6df",
   "metadata": {},
   "outputs": [],
   "source": [
    "df['bmi'] = crm_boxcox"
   ]
  },
  {
   "cell_type": "code",
   "execution_count": 54,
   "id": "919bb77c",
   "metadata": {},
   "outputs": [
    {
     "data": {
      "text/plain": [
       "heart_disease        6.316649\n",
       "stroke               4.611121\n",
       "hypertension         4.143196\n",
       "bmi                  0.001450\n",
       "id                   0.000000\n",
       "avg_glucose_level   -0.060614\n",
       "age                 -0.103579\n",
       "dtype: float64"
      ]
     },
     "execution_count": 54,
     "metadata": {},
     "output_type": "execute_result"
    }
   ],
   "source": [
    "df.skew(numeric_only=True).sort_values(ascending=False)"
   ]
  },
  {
   "cell_type": "code",
   "execution_count": 56,
   "id": "9fef7168",
   "metadata": {},
   "outputs": [
    {
     "data": {
      "text/plain": [
       "0    14672\n",
       "1      632\n",
       "Name: stroke, dtype: int64"
      ]
     },
     "execution_count": 56,
     "metadata": {},
     "output_type": "execute_result"
    }
   ],
   "source": [
    "df.stroke.value_counts()"
   ]
  },
  {
   "cell_type": "code",
   "execution_count": 57,
   "id": "dd9c9055",
   "metadata": {},
   "outputs": [
    {
     "data": {
      "text/plain": [
       "0            0\n",
       "1            1\n",
       "2            2\n",
       "3            3\n",
       "4            4\n",
       "         ...  \n",
       "15299    15299\n",
       "15300    15300\n",
       "15301    15301\n",
       "15302    15302\n",
       "15303    15303\n",
       "Name: id, Length: 15304, dtype: int64"
      ]
     },
     "execution_count": 57,
     "metadata": {},
     "output_type": "execute_result"
    }
   ],
   "source": [
    "df.pop('id')"
   ]
  },
  {
   "cell_type": "code",
   "execution_count": 43,
   "id": "cf015e2b",
   "metadata": {},
   "outputs": [],
   "source": [
    "def preprocessing(data):\n",
    "    enc = LabelEncoder()\n",
    "    data.smoking_status = enc.fit_transform(data.smoking_status)\n",
    "    data.gender = enc.fit_transform(data.gender)\n",
    "    data.ever_married = enc.fit_transform(data.ever_married)\n",
    "    data.work_type = enc.fit_transform(data.work_type)\n",
    "    data.Residence_type = enc.fit_transform(data.Residence_type)\n",
    "    return data"
   ]
  },
  {
   "cell_type": "code",
   "execution_count": 44,
   "id": "77cad6c2",
   "metadata": {},
   "outputs": [],
   "source": [
    "from sklearn.linear_model import LinearRegression"
   ]
  },
  {
   "cell_type": "code",
   "execution_count": 68,
   "id": "b87e5b87",
   "metadata": {},
   "outputs": [],
   "source": [
    "from sklearn.model_selection import train_test_split\n",
    "df = preprocessing(df)\n",
    "X = df.drop(['stroke','id'],axis=1)\n",
    "y = df['stroke']\n",
    "X_train,X_test,y_train,y_test = train_test_split(X,y,random_state=42)"
   ]
  },
  {
   "cell_type": "code",
   "execution_count": 69,
   "id": "9e13e12d",
   "metadata": {},
   "outputs": [],
   "source": [
    "lr = LinearRegression()"
   ]
  },
  {
   "cell_type": "code",
   "execution_count": 70,
   "id": "18ed662e",
   "metadata": {},
   "outputs": [
    {
     "data": {
      "text/plain": [
       "0.10257615790674035"
      ]
     },
     "execution_count": 70,
     "metadata": {},
     "output_type": "execute_result"
    }
   ],
   "source": [
    "lr.fit(X_train,y_train)\n",
    "lr.score(X_test,y_test)"
   ]
  },
  {
   "cell_type": "code",
   "execution_count": 71,
   "id": "081fcc91",
   "metadata": {},
   "outputs": [
    {
     "ename": "NameError",
     "evalue": "name 'pred' is not defined",
     "output_type": "error",
     "traceback": [
      "\u001b[1;31m---------------------------------------------------------------------------\u001b[0m",
      "\u001b[1;31mNameError\u001b[0m                                 Traceback (most recent call last)",
      "Cell \u001b[1;32mIn [71], line 1\u001b[0m\n\u001b[1;32m----> 1\u001b[0m \u001b[43mpred\u001b[49m\n",
      "\u001b[1;31mNameError\u001b[0m: name 'pred' is not defined"
     ]
    }
   ],
   "source": [
    "pred"
   ]
  },
  {
   "cell_type": "code",
   "execution_count": null,
   "id": "3d81097a",
   "metadata": {},
   "outputs": [],
   "source": []
  }
 ],
 "metadata": {
  "kernelspec": {
   "display_name": "Python 3 (ipykernel)",
   "language": "python",
   "name": "python3"
  },
  "language_info": {
   "codemirror_mode": {
    "name": "ipython",
    "version": 3
   },
   "file_extension": ".py",
   "mimetype": "text/x-python",
   "name": "python",
   "nbconvert_exporter": "python",
   "pygments_lexer": "ipython3",
   "version": "3.10.8"
  }
 },
 "nbformat": 4,
 "nbformat_minor": 5
}
