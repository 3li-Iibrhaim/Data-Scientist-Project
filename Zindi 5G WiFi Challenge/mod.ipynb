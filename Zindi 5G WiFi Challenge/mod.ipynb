{
 "cells": [
  {
   "cell_type": "code",
   "execution_count": 1,
   "id": "39bacb5d",
   "metadata": {},
   "outputs": [],
   "source": [
    "import pandas as pd\n",
    "import matplotlib.pyplot as plt\n",
    "import seaborn as sns\n",
    "import numpy as np\n",
    "from scipy import stats"
   ]
  },
  {
   "cell_type": "code",
   "execution_count": 2,
   "id": "145cf577",
   "metadata": {},
   "outputs": [],
   "source": [
    "df = pd.read_csv('nice.csv')"
   ]
  },
  {
   "cell_type": "code",
   "execution_count": 3,
   "id": "3fc83bf3",
   "metadata": {},
   "outputs": [
    {
     "data": {
      "text/html": [
       "<div>\n",
       "<style scoped>\n",
       "    .dataframe tbody tr th:only-of-type {\n",
       "        vertical-align: middle;\n",
       "    }\n",
       "\n",
       "    .dataframe tbody tr th {\n",
       "        vertical-align: top;\n",
       "    }\n",
       "\n",
       "    .dataframe thead th {\n",
       "        text-align: right;\n",
       "    }\n",
       "</style>\n",
       "<table border=\"1\" class=\"dataframe\">\n",
       "  <thead>\n",
       "    <tr style=\"text-align: right;\">\n",
       "      <th></th>\n",
       "      <th>Deployment</th>\n",
       "      <th>STA</th>\n",
       "      <th>Ap</th>\n",
       "      <th>RSSI</th>\n",
       "      <th>TXOP</th>\n",
       "      <th>Target</th>\n",
       "    </tr>\n",
       "  </thead>\n",
       "  <tbody>\n",
       "    <tr>\n",
       "      <th>0</th>\n",
       "      <td>9391</td>\n",
       "      <td>7</td>\n",
       "      <td>7</td>\n",
       "      <td>-63.71</td>\n",
       "      <td>1</td>\n",
       "      <td>108</td>\n",
       "    </tr>\n",
       "    <tr>\n",
       "      <th>1</th>\n",
       "      <td>9391</td>\n",
       "      <td>2</td>\n",
       "      <td>2</td>\n",
       "      <td>-67.19</td>\n",
       "      <td>1</td>\n",
       "      <td>0</td>\n",
       "    </tr>\n",
       "    <tr>\n",
       "      <th>2</th>\n",
       "      <td>9391</td>\n",
       "      <td>1</td>\n",
       "      <td>1</td>\n",
       "      <td>-64.87</td>\n",
       "      <td>1</td>\n",
       "      <td>30</td>\n",
       "    </tr>\n",
       "    <tr>\n",
       "      <th>3</th>\n",
       "      <td>9391</td>\n",
       "      <td>5</td>\n",
       "      <td>5</td>\n",
       "      <td>-66.72</td>\n",
       "      <td>1</td>\n",
       "      <td>54</td>\n",
       "    </tr>\n",
       "    <tr>\n",
       "      <th>4</th>\n",
       "      <td>9391</td>\n",
       "      <td>6</td>\n",
       "      <td>6</td>\n",
       "      <td>-65.12</td>\n",
       "      <td>2</td>\n",
       "      <td>156</td>\n",
       "    </tr>\n",
       "  </tbody>\n",
       "</table>\n",
       "</div>"
      ],
      "text/plain": [
       "   Deployment  STA  Ap   RSSI  TXOP  Target\n",
       "0        9391    7   7 -63.71     1     108\n",
       "1        9391    2   2 -67.19     1       0\n",
       "2        9391    1   1 -64.87     1      30\n",
       "3        9391    5   5 -66.72     1      54\n",
       "4        9391    6   6 -65.12     2     156"
      ]
     },
     "execution_count": 3,
     "metadata": {},
     "output_type": "execute_result"
    }
   ],
   "source": [
    "df.head()"
   ]
  },
  {
   "cell_type": "code",
   "execution_count": 4,
   "id": "d58cf2ab",
   "metadata": {},
   "outputs": [
    {
     "name": "stdout",
     "output_type": "stream",
     "text": [
      "<class 'pandas.core.frame.DataFrame'>\n",
      "RangeIndex: 1749596 entries, 0 to 1749595\n",
      "Data columns (total 6 columns):\n",
      " #   Column      Dtype  \n",
      "---  ------      -----  \n",
      " 0   Deployment  int64  \n",
      " 1   STA         int64  \n",
      " 2   Ap          int64  \n",
      " 3   RSSI        float64\n",
      " 4   TXOP        int64  \n",
      " 5   Target      int64  \n",
      "dtypes: float64(1), int64(5)\n",
      "memory usage: 80.1 MB\n"
     ]
    }
   ],
   "source": [
    "df.info()"
   ]
  },
  {
   "cell_type": "code",
   "execution_count": 5,
   "id": "10a8b7bd",
   "metadata": {},
   "outputs": [
    {
     "data": {
      "text/html": [
       "<div>\n",
       "<style scoped>\n",
       "    .dataframe tbody tr th:only-of-type {\n",
       "        vertical-align: middle;\n",
       "    }\n",
       "\n",
       "    .dataframe tbody tr th {\n",
       "        vertical-align: top;\n",
       "    }\n",
       "\n",
       "    .dataframe thead th {\n",
       "        text-align: right;\n",
       "    }\n",
       "</style>\n",
       "<table border=\"1\" class=\"dataframe\">\n",
       "  <thead>\n",
       "    <tr style=\"text-align: right;\">\n",
       "      <th></th>\n",
       "      <th>Deployment</th>\n",
       "      <th>STA</th>\n",
       "      <th>Ap</th>\n",
       "      <th>RSSI</th>\n",
       "      <th>TXOP</th>\n",
       "      <th>Target</th>\n",
       "    </tr>\n",
       "  </thead>\n",
       "  <tbody>\n",
       "    <tr>\n",
       "      <th>count</th>\n",
       "      <td>1.749596e+06</td>\n",
       "      <td>1.749596e+06</td>\n",
       "      <td>1.749596e+06</td>\n",
       "      <td>1749596.00</td>\n",
       "      <td>1.749596e+06</td>\n",
       "      <td>1.749596e+06</td>\n",
       "    </tr>\n",
       "    <tr>\n",
       "      <th>mean</th>\n",
       "      <td>5.027274e+03</td>\n",
       "      <td>1.396399e+01</td>\n",
       "      <td>5.000423e+00</td>\n",
       "      <td>inf</td>\n",
       "      <td>5.050169e+01</td>\n",
       "      <td>1.180081e+02</td>\n",
       "    </tr>\n",
       "    <tr>\n",
       "      <th>std</th>\n",
       "      <td>2.893117e+03</td>\n",
       "      <td>1.071264e+01</td>\n",
       "      <td>2.581193e+00</td>\n",
       "      <td>NaN</td>\n",
       "      <td>2.886510e+01</td>\n",
       "      <td>1.010131e+02</td>\n",
       "    </tr>\n",
       "    <tr>\n",
       "      <th>min</th>\n",
       "      <td>1.000000e+00</td>\n",
       "      <td>1.000000e+00</td>\n",
       "      <td>1.000000e+00</td>\n",
       "      <td>-70.63</td>\n",
       "      <td>1.000000e+00</td>\n",
       "      <td>0.000000e+00</td>\n",
       "    </tr>\n",
       "    <tr>\n",
       "      <th>25%</th>\n",
       "      <td>2.537000e+03</td>\n",
       "      <td>5.000000e+00</td>\n",
       "      <td>3.000000e+00</td>\n",
       "      <td>-66.55</td>\n",
       "      <td>2.600000e+01</td>\n",
       "      <td>5.400000e+01</td>\n",
       "    </tr>\n",
       "    <tr>\n",
       "      <th>50%</th>\n",
       "      <td>5.040000e+03</td>\n",
       "      <td>1.100000e+01</td>\n",
       "      <td>5.000000e+00</td>\n",
       "      <td>-64.87</td>\n",
       "      <td>5.100000e+01</td>\n",
       "      <td>7.800000e+01</td>\n",
       "    </tr>\n",
       "    <tr>\n",
       "      <th>75%</th>\n",
       "      <td>7.531000e+03</td>\n",
       "      <td>2.100000e+01</td>\n",
       "      <td>7.000000e+00</td>\n",
       "      <td>-62.11</td>\n",
       "      <td>7.600000e+01</td>\n",
       "      <td>1.560000e+02</td>\n",
       "    </tr>\n",
       "    <tr>\n",
       "      <th>max</th>\n",
       "      <td>1.000000e+04</td>\n",
       "      <td>4.500000e+01</td>\n",
       "      <td>9.000000e+00</td>\n",
       "      <td>inf</td>\n",
       "      <td>1.000000e+02</td>\n",
       "      <td>4.320000e+02</td>\n",
       "    </tr>\n",
       "  </tbody>\n",
       "</table>\n",
       "</div>"
      ],
      "text/plain": [
       "         Deployment           STA            Ap        RSSI          TXOP  \\\n",
       "count  1.749596e+06  1.749596e+06  1.749596e+06  1749596.00  1.749596e+06   \n",
       "mean   5.027274e+03  1.396399e+01  5.000423e+00         inf  5.050169e+01   \n",
       "std    2.893117e+03  1.071264e+01  2.581193e+00         NaN  2.886510e+01   \n",
       "min    1.000000e+00  1.000000e+00  1.000000e+00      -70.63  1.000000e+00   \n",
       "25%    2.537000e+03  5.000000e+00  3.000000e+00      -66.55  2.600000e+01   \n",
       "50%    5.040000e+03  1.100000e+01  5.000000e+00      -64.87  5.100000e+01   \n",
       "75%    7.531000e+03  2.100000e+01  7.000000e+00      -62.11  7.600000e+01   \n",
       "max    1.000000e+04  4.500000e+01  9.000000e+00         inf  1.000000e+02   \n",
       "\n",
       "             Target  \n",
       "count  1.749596e+06  \n",
       "mean   1.180081e+02  \n",
       "std    1.010131e+02  \n",
       "min    0.000000e+00  \n",
       "25%    5.400000e+01  \n",
       "50%    7.800000e+01  \n",
       "75%    1.560000e+02  \n",
       "max    4.320000e+02  "
      ]
     },
     "execution_count": 5,
     "metadata": {},
     "output_type": "execute_result"
    }
   ],
   "source": [
    "df.describe()"
   ]
  },
  {
   "cell_type": "code",
   "execution_count": 6,
   "id": "c55391be",
   "metadata": {},
   "outputs": [
    {
     "data": {
      "text/plain": [
       "Deployment    0\n",
       "STA           0\n",
       "Ap            0\n",
       "RSSI          0\n",
       "TXOP          0\n",
       "Target        0\n",
       "dtype: int64"
      ]
     },
     "execution_count": 6,
     "metadata": {},
     "output_type": "execute_result"
    }
   ],
   "source": [
    "df.isna().sum()"
   ]
  },
  {
   "cell_type": "code",
   "execution_count": 7,
   "id": "c9307b5c",
   "metadata": {},
   "outputs": [
    {
     "data": {
      "text/plain": [
       "Deployment    7000\n",
       "STA             45\n",
       "Ap               9\n",
       "RSSI            20\n",
       "TXOP           100\n",
       "Target          13\n",
       "dtype: int64"
      ]
     },
     "execution_count": 7,
     "metadata": {},
     "output_type": "execute_result"
    }
   ],
   "source": [
    "df.nunique()"
   ]
  },
  {
   "cell_type": "code",
   "execution_count": 8,
   "id": "2b275a36",
   "metadata": {},
   "outputs": [
    {
     "data": {
      "text/plain": [
       "-66.55    174066\n",
       "-65.58    141856\n",
       "-62.57    139987\n",
       "-64.87    139641\n",
       "-63.71    139513\n",
       "-59.56    139078\n",
       "-67.19     71107\n",
       "-58.59     70940\n",
       "-55.58     70911\n",
       "-64.61     70600\n",
       "-67.88     70591\n",
       "-69.12     70081\n",
       "-66.72     70037\n",
       "-65.12     69994\n",
       "-61.60     69600\n",
       "-67.62     69026\n",
       "-62.11     69008\n",
       "-52.57     68324\n",
       "-70.63     17763\n",
       " inf       17473\n",
       "Name: RSSI, dtype: int64"
      ]
     },
     "execution_count": 8,
     "metadata": {},
     "output_type": "execute_result"
    }
   ],
   "source": [
    "df['RSSI'].value_counts()"
   ]
  },
  {
   "cell_type": "code",
   "execution_count": 9,
   "id": "2e09d96e",
   "metadata": {},
   "outputs": [
    {
     "data": {
      "text/plain": [
       "(-70.63, 753)"
      ]
     },
     "execution_count": 9,
     "metadata": {},
     "output_type": "execute_result"
    }
   ],
   "source": [
    "df['RSSI'].min(), df['RSSI'].argmax()"
   ]
  },
  {
   "cell_type": "code",
   "execution_count": 10,
   "id": "51813fdc",
   "metadata": {},
   "outputs": [
    {
     "data": {
      "text/plain": [
       "inf"
      ]
     },
     "execution_count": 10,
     "metadata": {},
     "output_type": "execute_result"
    }
   ],
   "source": [
    "df['RSSI'].max()"
   ]
  },
  {
   "cell_type": "code",
   "execution_count": 11,
   "id": "ad80b775",
   "metadata": {},
   "outputs": [
    {
     "data": {
      "text/plain": [
       "753        432\n",
       "766        432\n",
       "786        432\n",
       "821        432\n",
       "851        432\n",
       "          ... \n",
       "1748245    432\n",
       "1748270    432\n",
       "1748317    432\n",
       "1748343    432\n",
       "1748370    432\n",
       "Name: Target, Length: 17473, dtype: int64"
      ]
     },
     "execution_count": 11,
     "metadata": {},
     "output_type": "execute_result"
    }
   ],
   "source": [
    "df[df.RSSI==df['RSSI'].max()]['Target']"
   ]
  },
  {
   "cell_type": "code",
   "execution_count": 12,
   "id": "50263fe5",
   "metadata": {},
   "outputs": [],
   "source": [
    "df.RSSI = df.RSSI.replace({df['RSSI'].max(): -1})"
   ]
  },
  {
   "cell_type": "code",
   "execution_count": 13,
   "id": "4bdca421",
   "metadata": {},
   "outputs": [
    {
     "data": {
      "text/plain": [
       "count    1.749596e+06\n",
       "mean     1.396399e+01\n",
       "std      1.071264e+01\n",
       "min      1.000000e+00\n",
       "25%      5.000000e+00\n",
       "50%      1.100000e+01\n",
       "75%      2.100000e+01\n",
       "max      4.500000e+01\n",
       "Name: STA, dtype: float64"
      ]
     },
     "execution_count": 13,
     "metadata": {},
     "output_type": "execute_result"
    }
   ],
   "source": [
    "df['STA'].describe()"
   ]
  },
  {
   "cell_type": "code",
   "execution_count": 14,
   "id": "a818d703",
   "metadata": {},
   "outputs": [
    {
     "data": {
      "text/plain": [
       "count    1.749596e+06\n",
       "mean     1.180081e+02\n",
       "std      1.010131e+02\n",
       "min      0.000000e+00\n",
       "25%      5.400000e+01\n",
       "50%      7.800000e+01\n",
       "75%      1.560000e+02\n",
       "max      4.320000e+02\n",
       "Name: Target, dtype: float64"
      ]
     },
     "execution_count": 14,
     "metadata": {},
     "output_type": "execute_result"
    }
   ],
   "source": [
    "df['Target'].describe()"
   ]
  },
  {
   "cell_type": "code",
   "execution_count": 15,
   "id": "9c66c5f1",
   "metadata": {},
   "outputs": [
    {
     "data": {
      "text/plain": [
       "1.2104242177666074"
      ]
     },
     "execution_count": 15,
     "metadata": {},
     "output_type": "execute_result"
    }
   ],
   "source": [
    "df['Target'].skew()"
   ]
  },
  {
   "cell_type": "markdown",
   "id": "04b4c38b",
   "metadata": {},
   "source": [
    "# BaseLine Model"
   ]
  },
  {
   "cell_type": "code",
   "execution_count": 17,
   "id": "51e7b904",
   "metadata": {},
   "outputs": [],
   "source": [
    "from sklearn.linear_model import LogisticRegression"
   ]
  },
  {
   "cell_type": "code",
   "execution_count": 18,
   "id": "39c99f99",
   "metadata": {},
   "outputs": [],
   "source": [
    "from sklearn.metrics import mean_absolute_error\n",
    "from sklearn.metrics import mean_squared_error"
   ]
  },
  {
   "cell_type": "code",
   "execution_count": 19,
   "id": "669b414e",
   "metadata": {},
   "outputs": [],
   "source": [
    "from sklearn.model_selection import train_test_split"
   ]
  },
  {
   "cell_type": "code",
   "execution_count": 20,
   "id": "987714b7",
   "metadata": {},
   "outputs": [],
   "source": [
    "log = LogisticRegression()"
   ]
  },
  {
   "cell_type": "code",
   "execution_count": 21,
   "id": "626f53f4",
   "metadata": {},
   "outputs": [],
   "source": [
    "X = df.drop('Target',axis=1)"
   ]
  },
  {
   "cell_type": "code",
   "execution_count": 22,
   "id": "c1b37562",
   "metadata": {},
   "outputs": [],
   "source": [
    "y = df['Target']"
   ]
  },
  {
   "cell_type": "code",
   "execution_count": 23,
   "id": "306afd62",
   "metadata": {},
   "outputs": [],
   "source": [
    "X_train ,X_test, y_train, y_test = train_test_split(X,y,random_state=23)"
   ]
  },
  {
   "cell_type": "code",
   "execution_count": 24,
   "id": "e8b6cf2c",
   "metadata": {
    "scrolled": true
   },
   "outputs": [
    {
     "name": "stderr",
     "output_type": "stream",
     "text": [
      "C:\\Users\\ali\\miniconda3\\envs\\tf\\lib\\site-packages\\sklearn\\linear_model\\_logistic.py:814: ConvergenceWarning: lbfgs failed to converge (status=1):\n",
      "STOP: TOTAL NO. of ITERATIONS REACHED LIMIT.\n",
      "\n",
      "Increase the number of iterations (max_iter) or scale the data as shown in:\n",
      "    https://scikit-learn.org/stable/modules/preprocessing.html\n",
      "Please also refer to the documentation for alternative solver options:\n",
      "    https://scikit-learn.org/stable/modules/linear_model.html#logistic-regression\n",
      "  n_iter_i = _check_optimize_result(\n"
     ]
    },
    {
     "data": {
      "text/plain": [
       "LogisticRegression()"
      ]
     },
     "execution_count": 24,
     "metadata": {},
     "output_type": "execute_result"
    }
   ],
   "source": [
    "log.fit(X_train,y_train)"
   ]
  },
  {
   "cell_type": "code",
   "execution_count": 25,
   "id": "a8b77ce2",
   "metadata": {},
   "outputs": [
    {
     "data": {
      "text/plain": [
       "(10889.579354319512, 10859.263427671302)"
      ]
     },
     "execution_count": 25,
     "metadata": {},
     "output_type": "execute_result"
    }
   ],
   "source": [
    "mean_squared_error(y_train,log.predict(X_train)) ,mean_squared_error(y_test,log.predict(X_test))"
   ]
  },
  {
   "cell_type": "code",
   "execution_count": 26,
   "id": "ae33b2d4",
   "metadata": {},
   "outputs": [
    {
     "data": {
      "text/plain": [
       "0.2186333302088025"
      ]
     },
     "execution_count": 26,
     "metadata": {},
     "output_type": "execute_result"
    }
   ],
   "source": [
    "log.score(X_test,y_test)"
   ]
  },
  {
   "cell_type": "code",
   "execution_count": 27,
   "id": "b912488f",
   "metadata": {},
   "outputs": [
    {
     "data": {
      "text/html": [
       "<div>\n",
       "<style scoped>\n",
       "    .dataframe tbody tr th:only-of-type {\n",
       "        vertical-align: middle;\n",
       "    }\n",
       "\n",
       "    .dataframe tbody tr th {\n",
       "        vertical-align: top;\n",
       "    }\n",
       "\n",
       "    .dataframe thead th {\n",
       "        text-align: right;\n",
       "    }\n",
       "</style>\n",
       "<table border=\"1\" class=\"dataframe\">\n",
       "  <thead>\n",
       "    <tr style=\"text-align: right;\">\n",
       "      <th></th>\n",
       "      <th>Deployment</th>\n",
       "      <th>STA</th>\n",
       "      <th>Ap</th>\n",
       "      <th>RSSI</th>\n",
       "      <th>TXOP</th>\n",
       "    </tr>\n",
       "  </thead>\n",
       "  <tbody>\n",
       "    <tr>\n",
       "      <th>1728649</th>\n",
       "      <td>3958</td>\n",
       "      <td>2</td>\n",
       "      <td>2</td>\n",
       "      <td>-65.12</td>\n",
       "      <td>57</td>\n",
       "    </tr>\n",
       "    <tr>\n",
       "      <th>364412</th>\n",
       "      <td>5987</td>\n",
       "      <td>2</td>\n",
       "      <td>1</td>\n",
       "      <td>-52.57</td>\n",
       "      <td>75</td>\n",
       "    </tr>\n",
       "    <tr>\n",
       "      <th>288374</th>\n",
       "      <td>7951</td>\n",
       "      <td>4</td>\n",
       "      <td>1</td>\n",
       "      <td>-69.12</td>\n",
       "      <td>86</td>\n",
       "    </tr>\n",
       "    <tr>\n",
       "      <th>111630</th>\n",
       "      <td>9583</td>\n",
       "      <td>9</td>\n",
       "      <td>9</td>\n",
       "      <td>-69.12</td>\n",
       "      <td>52</td>\n",
       "    </tr>\n",
       "    <tr>\n",
       "      <th>1351768</th>\n",
       "      <td>2324</td>\n",
       "      <td>4</td>\n",
       "      <td>1</td>\n",
       "      <td>-59.56</td>\n",
       "      <td>76</td>\n",
       "    </tr>\n",
       "    <tr>\n",
       "      <th>...</th>\n",
       "      <td>...</td>\n",
       "      <td>...</td>\n",
       "      <td>...</td>\n",
       "      <td>...</td>\n",
       "      <td>...</td>\n",
       "    </tr>\n",
       "    <tr>\n",
       "      <th>18589</th>\n",
       "      <td>9363</td>\n",
       "      <td>1</td>\n",
       "      <td>1</td>\n",
       "      <td>-65.12</td>\n",
       "      <td>57</td>\n",
       "    </tr>\n",
       "    <tr>\n",
       "      <th>177269</th>\n",
       "      <td>9788</td>\n",
       "      <td>7</td>\n",
       "      <td>7</td>\n",
       "      <td>-67.19</td>\n",
       "      <td>68</td>\n",
       "    </tr>\n",
       "    <tr>\n",
       "      <th>1118651</th>\n",
       "      <td>4545</td>\n",
       "      <td>14</td>\n",
       "      <td>7</td>\n",
       "      <td>-61.60</td>\n",
       "      <td>22</td>\n",
       "    </tr>\n",
       "    <tr>\n",
       "      <th>1409485</th>\n",
       "      <td>2743</td>\n",
       "      <td>1</td>\n",
       "      <td>1</td>\n",
       "      <td>-59.56</td>\n",
       "      <td>61</td>\n",
       "    </tr>\n",
       "    <tr>\n",
       "      <th>938155</th>\n",
       "      <td>738</td>\n",
       "      <td>18</td>\n",
       "      <td>4</td>\n",
       "      <td>-67.88</td>\n",
       "      <td>89</td>\n",
       "    </tr>\n",
       "  </tbody>\n",
       "</table>\n",
       "<p>437399 rows × 5 columns</p>\n",
       "</div>"
      ],
      "text/plain": [
       "         Deployment  STA  Ap   RSSI  TXOP\n",
       "1728649        3958    2   2 -65.12    57\n",
       "364412         5987    2   1 -52.57    75\n",
       "288374         7951    4   1 -69.12    86\n",
       "111630         9583    9   9 -69.12    52\n",
       "1351768        2324    4   1 -59.56    76\n",
       "...             ...  ...  ..    ...   ...\n",
       "18589          9363    1   1 -65.12    57\n",
       "177269         9788    7   7 -67.19    68\n",
       "1118651        4545   14   7 -61.60    22\n",
       "1409485        2743    1   1 -59.56    61\n",
       "938155          738   18   4 -67.88    89\n",
       "\n",
       "[437399 rows x 5 columns]"
      ]
     },
     "execution_count": 27,
     "metadata": {},
     "output_type": "execute_result"
    }
   ],
   "source": [
    "X_test"
   ]
  },
  {
   "cell_type": "code",
   "execution_count": 28,
   "id": "afaa1ab7",
   "metadata": {},
   "outputs": [],
   "source": [
    "test= pd.read_csv('nicetest.csv')"
   ]
  },
  {
   "cell_type": "code",
   "execution_count": 29,
   "id": "5228b53d",
   "metadata": {},
   "outputs": [],
   "source": [
    "test.RSSI = test.RSSI.replace({test['RSSI'].max(): -1})"
   ]
  },
  {
   "cell_type": "code",
   "execution_count": 30,
   "id": "00da4f7c",
   "metadata": {
    "scrolled": true
   },
   "outputs": [],
   "source": [
    "pred = log.predict(test)"
   ]
  },
  {
   "cell_type": "code",
   "execution_count": 31,
   "id": "f5d2de76",
   "metadata": {},
   "outputs": [],
   "source": [
    "# Deployment10000_TXOP100_AP3_STA9\n",
    "\n",
    "df['ID']='Deployment'+df['Deployment'].astype(str)+'_'+'TXOP'+df['TXOP'].astype(str)+'_'+'AP'+df['Ap'].astype(str)+'_'+'STA'+df['STA'].astype(str)"
   ]
  },
  {
   "cell_type": "code",
   "execution_count": 32,
   "id": "60ff5f16",
   "metadata": {},
   "outputs": [],
   "source": [
    "test['ID']='Deployment'+test['Deployment'].astype(str)+'_'+'TXOP'+test['TXOP'].astype(str)+'_'+'AP'+test['Ap'].astype(str)+'_'+'STA'+test['STA'].astype(str)"
   ]
  },
  {
   "cell_type": "code",
   "execution_count": 33,
   "id": "6d9f1a7c",
   "metadata": {},
   "outputs": [],
   "source": [
    "submit  = pd.DataFrame(test['ID'])"
   ]
  },
  {
   "cell_type": "code",
   "execution_count": 34,
   "id": "f19e8d06",
   "metadata": {},
   "outputs": [],
   "source": [
    "submit['Target'] = pred"
   ]
  },
  {
   "cell_type": "code",
   "execution_count": 35,
   "id": "07978e7e",
   "metadata": {},
   "outputs": [
    {
     "data": {
      "text/html": [
       "<div>\n",
       "<style scoped>\n",
       "    .dataframe tbody tr th:only-of-type {\n",
       "        vertical-align: middle;\n",
       "    }\n",
       "\n",
       "    .dataframe tbody tr th {\n",
       "        vertical-align: top;\n",
       "    }\n",
       "\n",
       "    .dataframe thead th {\n",
       "        text-align: right;\n",
       "    }\n",
       "</style>\n",
       "<table border=\"1\" class=\"dataframe\">\n",
       "  <thead>\n",
       "    <tr style=\"text-align: right;\">\n",
       "      <th></th>\n",
       "      <th>ID</th>\n",
       "      <th>Target</th>\n",
       "    </tr>\n",
       "  </thead>\n",
       "  <tbody>\n",
       "    <tr>\n",
       "      <th>0</th>\n",
       "      <td>Deployment9373_TXOP1_AP9_STA35</td>\n",
       "      <td>78</td>\n",
       "    </tr>\n",
       "    <tr>\n",
       "      <th>1</th>\n",
       "      <td>Deployment9373_TXOP2_AP4_STA13</td>\n",
       "      <td>78</td>\n",
       "    </tr>\n",
       "    <tr>\n",
       "      <th>2</th>\n",
       "      <td>Deployment9373_TXOP2_AP1_STA3</td>\n",
       "      <td>78</td>\n",
       "    </tr>\n",
       "    <tr>\n",
       "      <th>3</th>\n",
       "      <td>Deployment9373_TXOP2_AP3_STA9</td>\n",
       "      <td>78</td>\n",
       "    </tr>\n",
       "    <tr>\n",
       "      <th>4</th>\n",
       "      <td>Deployment9373_TXOP3_AP4_STA14</td>\n",
       "      <td>78</td>\n",
       "    </tr>\n",
       "  </tbody>\n",
       "</table>\n",
       "</div>"
      ],
      "text/plain": [
       "                               ID  Target\n",
       "0  Deployment9373_TXOP1_AP9_STA35      78\n",
       "1  Deployment9373_TXOP2_AP4_STA13      78\n",
       "2   Deployment9373_TXOP2_AP1_STA3      78\n",
       "3   Deployment9373_TXOP2_AP3_STA9      78\n",
       "4  Deployment9373_TXOP3_AP4_STA14      78"
      ]
     },
     "execution_count": 35,
     "metadata": {},
     "output_type": "execute_result"
    }
   ],
   "source": [
    "submit.head()"
   ]
  },
  {
   "cell_type": "code",
   "execution_count": 36,
   "id": "23f21bff",
   "metadata": {},
   "outputs": [],
   "source": [
    "# submit.to_csv('1sub.csv',index=False)"
   ]
  },
  {
   "cell_type": "code",
   "execution_count": 37,
   "id": "0f9bf31b",
   "metadata": {},
   "outputs": [],
   "source": [
    "# lets try  Hyper Parameter Model"
   ]
  },
  {
   "cell_type": "markdown",
   "id": "6fb374ed",
   "metadata": {},
   "source": [
    "# LightGDM"
   ]
  },
  {
   "cell_type": "code",
   "execution_count": 42,
   "id": "87cc4ea8",
   "metadata": {},
   "outputs": [],
   "source": [
    "import lightgbm as ltb"
   ]
  },
  {
   "cell_type": "markdown",
   "id": "ce0e16b0",
   "metadata": {},
   "source": [
    "## 3- K-Nearest Neighbors"
   ]
  },
  {
   "cell_type": "code",
   "execution_count": 43,
   "id": "7665ac96",
   "metadata": {},
   "outputs": [],
   "source": [
    "from sklearn.neighbors import KNeighborsClassifier"
   ]
  },
  {
   "cell_type": "code",
   "execution_count": 44,
   "id": "c67baa84",
   "metadata": {},
   "outputs": [],
   "source": [
    "neigh = KNeighborsClassifier()"
   ]
  },
  {
   "cell_type": "code",
   "execution_count": 45,
   "id": "6bc83505",
   "metadata": {},
   "outputs": [],
   "source": [
    "# neigh.fit(X_train, y_train)"
   ]
  },
  {
   "cell_type": "code",
   "execution_count": 46,
   "id": "259104fb",
   "metadata": {},
   "outputs": [],
   "source": [
    "# mean_squared_error(y_train,neigh.predict(X_train)) ,mean_squared_error(y_test,neigh.predict(X_test))"
   ]
  },
  {
   "cell_type": "markdown",
   "id": "add93791",
   "metadata": {},
   "source": [
    "# EDA"
   ]
  },
  {
   "cell_type": "code",
   "execution_count": 47,
   "id": "44127152",
   "metadata": {},
   "outputs": [],
   "source": [
    "df = pd.read_csv('nice.csv')"
   ]
  },
  {
   "cell_type": "code",
   "execution_count": 48,
   "id": "21b241e4",
   "metadata": {
    "scrolled": true
   },
   "outputs": [
    {
     "data": {
      "text/plain": [
       "Deployment    7000\n",
       "STA             45\n",
       "Ap               9\n",
       "RSSI            20\n",
       "TXOP           100\n",
       "Target          13\n",
       "dtype: int64"
      ]
     },
     "execution_count": 48,
     "metadata": {},
     "output_type": "execute_result"
    }
   ],
   "source": [
    "df.nunique()"
   ]
  },
  {
   "cell_type": "markdown",
   "id": "d721b301",
   "metadata": {},
   "source": [
    "# Target"
   ]
  },
  {
   "cell_type": "code",
   "execution_count": 49,
   "id": "91abf21e",
   "metadata": {},
   "outputs": [
    {
     "data": {
      "text/plain": [
       "(0, 432, 118.00812644747701, 78.0)"
      ]
     },
     "execution_count": 49,
     "metadata": {},
     "output_type": "execute_result"
    }
   ],
   "source": [
    "df['Target'].min() , df['Target'].max()  ,df['Target'].mean() ,df['Target'].median() "
   ]
  },
  {
   "cell_type": "code",
   "execution_count": 50,
   "id": "740e48d5",
   "metadata": {},
   "outputs": [
    {
     "data": {
      "text/plain": [
       "<AxesSubplot:xlabel='Target', ylabel='count'>"
      ]
     },
     "execution_count": 50,
     "metadata": {},
     "output_type": "execute_result"
    },
    {
     "data": {
      "image/png": "[encoded data removed]",
      "text/plain": [
       "<Figure size 640x480 with 1 Axes>"
      ]
     },
     "metadata": {},
     "output_type": "display_data"
    }
   ],
   "source": [
    "sns.countplot(x=\"Target\" ,#, Show count of observations\n",
    "data=df,\n",
    "palette=\"Greens_d\")"
   ]
  },
  {
   "cell_type": "code",
   "execution_count": 51,
   "id": "5b53491b",
   "metadata": {},
   "outputs": [
    {
     "data": {
      "text/plain": [
       "0          2.033424\n",
       "1              -inf\n",
       "2          1.477121\n",
       "3          1.732394\n",
       "4          2.193125\n",
       "             ...   \n",
       "1749591    2.494155\n",
       "1749592        -inf\n",
       "1749593    2.193125\n",
       "1749594    1.477121\n",
       "1749595        -inf\n",
       "Name: Target, Length: 1749596, dtype: float64"
      ]
     },
     "execution_count": 51,
     "metadata": {},
     "output_type": "execute_result"
    }
   ],
   "source": [
    "df['Target'].apply(np.log10)"
   ]
  },
  {
   "cell_type": "code",
   "execution_count": 52,
   "id": "6f4b4ad8",
   "metadata": {},
   "outputs": [
    {
     "data": {
      "text/plain": [
       "Deployment        0\n",
       "STA               0\n",
       "Ap                0\n",
       "RSSI          17473\n",
       "TXOP              0\n",
       "Target            0\n",
       "dtype: int64"
      ]
     },
     "execution_count": 52,
     "metadata": {},
     "output_type": "execute_result"
    }
   ],
   "source": [
    "np.isinf(df).sum()"
   ]
  },
  {
   "cell_type": "code",
   "execution_count": 56,
   "id": "e412b74d",
   "metadata": {
    "scrolled": true
   },
   "outputs": [],
   "source": [
    "# np.isinf(test).sum()"
   ]
  },
  {
   "cell_type": "markdown",
   "id": "8e8bcdae",
   "metadata": {},
   "source": [
    "\n",
    "#### 1- ifinit value\n",
    "### 2- imputation\n",
    "## 3- outlier\n",
    "# 4- hyperparameter"
   ]
  },
  {
   "cell_type": "markdown",
   "id": "349af320",
   "metadata": {},
   "source": [
    "but first must ..."
   ]
  },
  {
   "cell_type": "code",
   "execution_count": 57,
   "id": "e54f49ac",
   "metadata": {},
   "outputs": [],
   "source": [
    "inf = df['RSSI'].max()"
   ]
  },
  {
   "cell_type": "code",
   "execution_count": 58,
   "id": "585340f7",
   "metadata": {},
   "outputs": [
    {
     "data": {
      "text/plain": [
       "Deployment    1638\n",
       "STA             45\n",
       "Ap               9\n",
       "RSSI             1\n",
       "TXOP           100\n",
       "Target           1\n",
       "dtype: int64"
      ]
     },
     "execution_count": 58,
     "metadata": {},
     "output_type": "execute_result"
    }
   ],
   "source": [
    "df[df.RSSI==inf].nunique()"
   ]
  },
  {
   "cell_type": "code",
   "execution_count": 59,
   "id": "7e618009",
   "metadata": {},
   "outputs": [
    {
     "data": {
      "text/plain": [
       "count    17473.000000\n",
       "mean        13.909804\n",
       "std         10.613727\n",
       "min          1.000000\n",
       "25%          6.000000\n",
       "50%         11.000000\n",
       "75%         20.000000\n",
       "max         45.000000\n",
       "Name: STA, dtype: float64"
      ]
     },
     "execution_count": 59,
     "metadata": {},
     "output_type": "execute_result"
    }
   ],
   "source": [
    "df[df.RSSI==inf]['STA'].describe()"
   ]
  },
  {
   "cell_type": "code",
   "execution_count": 60,
   "id": "65c7fafa",
   "metadata": {},
   "outputs": [
    {
     "data": {
      "text/plain": [
       "count    17473.0\n",
       "mean       432.0\n",
       "std          0.0\n",
       "min        432.0\n",
       "25%        432.0\n",
       "50%        432.0\n",
       "75%        432.0\n",
       "max        432.0\n",
       "Name: Target, dtype: float64"
      ]
     },
     "execution_count": 60,
     "metadata": {},
     "output_type": "execute_result"
    }
   ],
   "source": [
    "df[df.RSSI==inf]['Target'].describe()"
   ]
  },
  {
   "cell_type": "code",
   "execution_count": 61,
   "id": "3602ce50",
   "metadata": {},
   "outputs": [
    {
     "data": {
      "text/plain": [
       "array([108,   0,  30,  54, 156,  78, 258, 234, 210, 312, 348, 432, 390],\n",
       "      dtype=int64)"
      ]
     },
     "execution_count": 61,
     "metadata": {},
     "output_type": "execute_result"
    }
   ],
   "source": [
    "(df['Target'].unique())"
   ]
  },
  {
   "cell_type": "code",
   "execution_count": 62,
   "id": "449f50f1",
   "metadata": {},
   "outputs": [
    {
     "data": {
      "text/plain": [
       "<bound method NDFrame._add_numeric_operations.<locals>.min of 1         -67.19\n",
       "17        -66.72\n",
       "22        -66.55\n",
       "26        -67.19\n",
       "30        -67.19\n",
       "           ...  \n",
       "1749573   -64.87\n",
       "1749575   -66.55\n",
       "1749579   -67.62\n",
       "1749592   -64.87\n",
       "1749595   -67.62\n",
       "Name: RSSI, Length: 220912, dtype: float64>"
      ]
     },
     "execution_count": 62,
     "metadata": {},
     "output_type": "execute_result"
    }
   ],
   "source": [
    "df[df['Target']==0]['RSSI'].min"
   ]
  },
  {
   "cell_type": "code",
   "execution_count": 63,
   "id": "4e36a8ab",
   "metadata": {},
   "outputs": [
    {
     "data": {
      "text/plain": [
       "208       -55.58\n",
       "231       -55.58\n",
       "257       -52.57\n",
       "264       -55.58\n",
       "283       -52.57\n",
       "           ...  \n",
       "1749048   -55.58\n",
       "1749103   -52.57\n",
       "1749104   -52.57\n",
       "1749520   -52.57\n",
       "1749582   -52.57\n",
       "Name: RSSI, Length: 31652, dtype: float64"
      ]
     },
     "execution_count": 63,
     "metadata": {},
     "output_type": "execute_result"
    }
   ],
   "source": [
    "df[df['Target']==432]['RSSI']"
   ]
  },
  {
   "cell_type": "code",
   "execution_count": 64,
   "id": "1ff0fae7",
   "metadata": {},
   "outputs": [
    {
     "data": {
      "text/plain": [
       "(-55.58, inf)"
      ]
     },
     "execution_count": 64,
     "metadata": {},
     "output_type": "execute_result"
    }
   ],
   "source": [
    "df[df['Target']==432]['RSSI'].min() , df[df['Target']==432]['RSSI'].max()"
   ]
  },
  {
   "cell_type": "code",
   "execution_count": 65,
   "id": "2292867b",
   "metadata": {},
   "outputs": [
    {
     "data": {
      "text/plain": [
       "(-59.56, -52.57)"
      ]
     },
     "execution_count": 65,
     "metadata": {},
     "output_type": "execute_result"
    }
   ],
   "source": [
    "df[df['Target']==390]['RSSI'].min() , df[df['Target']==390]['RSSI'].max()"
   ]
  },
  {
   "cell_type": "code",
   "execution_count": 66,
   "id": "37737c30",
   "metadata": {},
   "outputs": [
    {
     "data": {
      "text/plain": [
       "(-63.71, -52.57)"
      ]
     },
     "execution_count": 66,
     "metadata": {},
     "output_type": "execute_result"
    }
   ],
   "source": [
    "df[df['Target']==348]['RSSI'].min() , df[df['Target']==348]['RSSI'].max()"
   ]
  },
  {
   "cell_type": "code",
   "execution_count": 67,
   "id": "09982450",
   "metadata": {},
   "outputs": [
    {
     "data": {
      "text/plain": [
       "(-65.12, -52.57)"
      ]
     },
     "execution_count": 67,
     "metadata": {},
     "output_type": "execute_result"
    }
   ],
   "source": [
    "df[df['Target']==312]['RSSI'].min() , df[df['Target']==312]['RSSI'].max()"
   ]
  },
  {
   "cell_type": "code",
   "execution_count": 68,
   "id": "a350c9cb",
   "metadata": {},
   "outputs": [
    {
     "data": {
      "text/plain": [
       "(-69.12, -52.57)"
      ]
     },
     "execution_count": 68,
     "metadata": {},
     "output_type": "execute_result"
    }
   ],
   "source": [
    "df[df['Target']==258]['RSSI'].min() , df[df['Target']==258]['RSSI'].max()"
   ]
  },
  {
   "cell_type": "code",
   "execution_count": 69,
   "id": "97d5bb96",
   "metadata": {},
   "outputs": [
    {
     "data": {
      "text/plain": [
       "(-70.63, -52.57)"
      ]
     },
     "execution_count": 69,
     "metadata": {},
     "output_type": "execute_result"
    }
   ],
   "source": [
    "df[df['Target']==234]['RSSI'].min() , df[df['Target']==234]['RSSI'].max()"
   ]
  },
  {
   "cell_type": "code",
   "execution_count": 70,
   "id": "56680682",
   "metadata": {},
   "outputs": [
    {
     "data": {
      "text/plain": [
       "(-67.88, -52.57)"
      ]
     },
     "execution_count": 70,
     "metadata": {},
     "output_type": "execute_result"
    }
   ],
   "source": [
    "df[df['Target']==210]['RSSI'].min() , df[df['Target']==210]['RSSI'].max()"
   ]
  },
  {
   "cell_type": "code",
   "execution_count": 71,
   "id": "b6964383",
   "metadata": {
    "scrolled": true
   },
   "outputs": [
    {
     "data": {
      "text/plain": [
       "(-70.63, -52.57)"
      ]
     },
     "execution_count": 71,
     "metadata": {},
     "output_type": "execute_result"
    }
   ],
   "source": [
    "df[df['Target']==156]['RSSI'].min() , df[df['Target']==156]['RSSI'].max()"
   ]
  },
  {
   "cell_type": "code",
   "execution_count": 72,
   "id": "8f4ea4eb",
   "metadata": {},
   "outputs": [
    {
     "data": {
      "text/plain": [
       "(-70.63, -52.57)"
      ]
     },
     "execution_count": 72,
     "metadata": {},
     "output_type": "execute_result"
    }
   ],
   "source": [
    "df[df['Target']==108]['RSSI'].min() , df[df['Target']==108]['RSSI'].max()"
   ]
  },
  {
   "cell_type": "code",
   "execution_count": 73,
   "id": "988b39d3",
   "metadata": {},
   "outputs": [
    {
     "data": {
      "text/plain": [
       "(-70.63, -55.58)"
      ]
     },
     "execution_count": 73,
     "metadata": {},
     "output_type": "execute_result"
    }
   ],
   "source": [
    "df[df['Target']==78]['RSSI'].min() , df[df['Target']==78]['RSSI'].max()"
   ]
  },
  {
   "cell_type": "code",
   "execution_count": 74,
   "id": "a5b06d95",
   "metadata": {},
   "outputs": [
    {
     "data": {
      "text/plain": [
       "(-70.63, -58.59)"
      ]
     },
     "execution_count": 74,
     "metadata": {},
     "output_type": "execute_result"
    }
   ],
   "source": [
    "df[df['Target']==54]['RSSI'].min() , df[df['Target']==54]['RSSI'].max()"
   ]
  },
  {
   "cell_type": "code",
   "execution_count": 75,
   "id": "b1fd4550",
   "metadata": {},
   "outputs": [
    {
     "data": {
      "text/plain": [
       "(-70.63, -61.6)"
      ]
     },
     "execution_count": 75,
     "metadata": {},
     "output_type": "execute_result"
    }
   ],
   "source": [
    "df[df['Target']==30]['RSSI'].min() , df[df['Target']==30]['RSSI'].max()"
   ]
  },
  {
   "cell_type": "code",
   "execution_count": 76,
   "id": "f01f8e60",
   "metadata": {},
   "outputs": [
    {
     "data": {
      "text/plain": [
       "(-70.63, -63.71)"
      ]
     },
     "execution_count": 76,
     "metadata": {},
     "output_type": "execute_result"
    }
   ],
   "source": [
    "df[df['Target']==0]['RSSI'].min() , df[df['Target']==0]['RSSI'].max()"
   ]
  },
  {
   "cell_type": "code",
   "execution_count": 77,
   "id": "51238eb4",
   "metadata": {},
   "outputs": [],
   "source": [
    "df.RSSI = df.RSSI.replace({df['RSSI'].max(): -52.57})"
   ]
  },
  {
   "cell_type": "code",
   "execution_count": 78,
   "id": "b015fc05",
   "metadata": {},
   "outputs": [],
   "source": [
    "sns.set()"
   ]
  },
  {
   "cell_type": "code",
   "execution_count": 79,
   "id": "f96aff2e",
   "metadata": {},
   "outputs": [
    {
     "data": {
      "image/png": "[encoded data removed]",
      "text/plain": [
       "<Figure size 1000x1000 with 1 Axes>"
      ]
     },
     "metadata": {},
     "output_type": "display_data"
    }
   ],
   "source": [
    "fig, axis = plt.subplots(figsize=(10,10))\n",
    "sns.countplot(y = 'RSSI', \n",
    "data=df,\n",
    "color=\"b\");"
   ]
  },
  {
   "cell_type": "code",
   "execution_count": 80,
   "id": "a6fbb237",
   "metadata": {},
   "outputs": [
    {
     "data": {
      "image/png": "[encoded data removed]",
      "text/plain": [
       "<Figure size 1000x500 with 1 Axes>"
      ]
     },
     "metadata": {},
     "output_type": "display_data"
    }
   ],
   "source": [
    "fig, axis = plt.subplots(figsize=(10,5))\n",
    "sns.countplot(x = 'Target', \n",
    "data=df,\n",
    "color=\"g\");"
   ]
  },
  {
   "cell_type": "code",
   "execution_count": 81,
   "id": "5f440592",
   "metadata": {},
   "outputs": [
    {
     "data": {
      "text/plain": [
       "(118.00812644747701, 78.0)"
      ]
     },
     "execution_count": 81,
     "metadata": {},
     "output_type": "execute_result"
    }
   ],
   "source": [
    "df['Target'].mean() , df['Target'].median()"
   ]
  },
  {
   "cell_type": "code",
   "execution_count": 82,
   "id": "3ffaaf55",
   "metadata": {},
   "outputs": [
    {
     "data": {
      "text/plain": [
       "1.2104242177666074"
      ]
     },
     "execution_count": 82,
     "metadata": {},
     "output_type": "execute_result"
    }
   ],
   "source": [
    "df['Target'].skew()"
   ]
  },
  {
   "cell_type": "code",
   "execution_count": 83,
   "id": "de471f46",
   "metadata": {},
   "outputs": [
    {
     "data": {
      "text/plain": [
       "Target        1.210424\n",
       "RSSI          1.063678\n",
       "STA           0.893935\n",
       "TXOP          0.000187\n",
       "Ap           -0.000781\n",
       "Deployment   -0.016790\n",
       "dtype: float64"
      ]
     },
     "execution_count": 83,
     "metadata": {},
     "output_type": "execute_result"
    }
   ],
   "source": [
    "df.skew().sort_values(ascending=False)"
   ]
  },
  {
   "cell_type": "code",
   "execution_count": 84,
   "id": "5bfd5343",
   "metadata": {},
   "outputs": [
    {
     "name": "stderr",
     "output_type": "stream",
     "text": [
      "C:\\Users\\ali\\miniconda3\\envs\\tf\\lib\\site-packages\\pandas\\core\\arraylike.py:402: RuntimeWarning: divide by zero encountered in log\n",
      "  result = getattr(ufunc, method)(*inputs, **kwargs)\n"
     ]
    },
    {
     "data": {
      "text/plain": [
       "nan"
      ]
     },
     "execution_count": 84,
     "metadata": {},
     "output_type": "execute_result"
    }
   ],
   "source": [
    "np.log(df['Target']).skew()"
   ]
  },
  {
   "cell_type": "code",
   "execution_count": 85,
   "id": "47ea62ce",
   "metadata": {},
   "outputs": [
    {
     "data": {
      "image/png": "[encoded data removed]",
      "text/plain": [
       "<Figure size 1200x600 with 1 Axes>"
      ]
     },
     "metadata": {},
     "output_type": "display_data"
    }
   ],
   "source": [
    "fig, ax = plt.subplots(figsize=(12,6))\n",
    "res = stats.probplot(df['Target'],  plot=ax,rvalue=True)"
   ]
  },
  {
   "cell_type": "code",
   "execution_count": 86,
   "id": "b8b8be03",
   "metadata": {
    "scrolled": true
   },
   "outputs": [
    {
     "data": {
      "text/plain": [
       "13"
      ]
     },
     "execution_count": 86,
     "metadata": {},
     "output_type": "execute_result"
    }
   ],
   "source": [
    "df['Target'].nunique()"
   ]
  },
  {
   "cell_type": "markdown",
   "id": "6e72c453",
   "metadata": {},
   "source": [
    "# it is Classification Problem!?"
   ]
  },
  {
   "cell_type": "code",
   "execution_count": 87,
   "id": "21639bcf",
   "metadata": {},
   "outputs": [],
   "source": [
    "from sklearn.ensemble import RandomForestRegressor"
   ]
  },
  {
   "cell_type": "code",
   "execution_count": 88,
   "id": "e6b60e0d",
   "metadata": {},
   "outputs": [],
   "source": [
    "from sklearn.ensemble import RandomForestClassifier"
   ]
  },
  {
   "cell_type": "code",
   "execution_count": 89,
   "id": "ed606a80",
   "metadata": {},
   "outputs": [],
   "source": [
    "from sklearn.neighbors import KNeighborsClassifier"
   ]
  },
  {
   "cell_type": "code",
   "execution_count": 90,
   "id": "f0a2e1f1",
   "metadata": {},
   "outputs": [],
   "source": [
    "neigh = KNeighborsClassifier()"
   ]
  },
  {
   "cell_type": "code",
   "execution_count": 91,
   "id": "8ae78d4f",
   "metadata": {},
   "outputs": [],
   "source": [
    "# neigh.fit(X_train, y_train)"
   ]
  },
  {
   "cell_type": "code",
   "execution_count": 92,
   "id": "7e2f97c3",
   "metadata": {},
   "outputs": [],
   "source": [
    "# mean_squared_error(y_train,neigh.predict(X_train)) ,mean_squared_error(y_test,neigh.predict(X_test))"
   ]
  },
  {
   "cell_type": "code",
   "execution_count": 93,
   "id": "1a68ce10",
   "metadata": {},
   "outputs": [],
   "source": [
    "# neigh.score(X_test,y_test)"
   ]
  },
  {
   "cell_type": "code",
   "execution_count": 94,
   "id": "39a48a66",
   "metadata": {},
   "outputs": [],
   "source": [
    "X = df.drop(['Target','Deployment','Ap'],axis=1)\n",
    "y = df['Target']\n",
    "X_train, X_test, y_trai,y_test = train_test_split(X,y,random_state=42)"
   ]
  },
  {
   "cell_type": "code",
   "execution_count": 95,
   "id": "d8f399d3",
   "metadata": {},
   "outputs": [],
   "source": [
    "# neigh.fit(X_train, y_train)"
   ]
  },
  {
   "cell_type": "code",
   "execution_count": 96,
   "id": "23612d2c",
   "metadata": {},
   "outputs": [],
   "source": [
    "# neigh.score(X_test,y_test)"
   ]
  },
  {
   "cell_type": "code",
   "execution_count": 97,
   "id": "da5af595",
   "metadata": {},
   "outputs": [],
   "source": [
    "# rfc = RandomForestClassifier(max_depth=2, random_state=42)\n",
    "# rfc.fit(X_train, y_train)\n",
    "# rfc.score(X_test,y_test)"
   ]
  },
  {
   "cell_type": "code",
   "execution_count": 98,
   "id": "9a13a925",
   "metadata": {},
   "outputs": [],
   "source": [
    "test= pd.read_csv('nicetest.csv')"
   ]
  },
  {
   "cell_type": "code",
   "execution_count": 99,
   "id": "7b12e73c",
   "metadata": {},
   "outputs": [],
   "source": [
    "test.RSSI = test.RSSI.replace({test['RSSI'].max(): -52.57})"
   ]
  },
  {
   "cell_type": "code",
   "execution_count": 100,
   "id": "861a37f9",
   "metadata": {},
   "outputs": [],
   "source": [
    "td = test.drop(['Deployment','Ap'],axis=1)"
   ]
  },
  {
   "cell_type": "code",
   "execution_count": 103,
   "id": "9ad4fd78",
   "metadata": {},
   "outputs": [],
   "source": [
    "submit['Target'] =pred"
   ]
  },
  {
   "cell_type": "code",
   "execution_count": 104,
   "id": "4bd1a212",
   "metadata": {},
   "outputs": [],
   "source": [
    "# submit.to_csv('sub2.csv',index=False)"
   ]
  },
  {
   "cell_type": "code",
   "execution_count": 105,
   "id": "3f624762",
   "metadata": {},
   "outputs": [
    {
     "data": {
      "text/html": [
       "<div>\n",
       "<style scoped>\n",
       "    .dataframe tbody tr th:only-of-type {\n",
       "        vertical-align: middle;\n",
       "    }\n",
       "\n",
       "    .dataframe tbody tr th {\n",
       "        vertical-align: top;\n",
       "    }\n",
       "\n",
       "    .dataframe thead th {\n",
       "        text-align: right;\n",
       "    }\n",
       "</style>\n",
       "<table border=\"1\" class=\"dataframe\">\n",
       "  <thead>\n",
       "    <tr style=\"text-align: right;\">\n",
       "      <th></th>\n",
       "      <th>Deployment</th>\n",
       "      <th>STA</th>\n",
       "      <th>Ap</th>\n",
       "      <th>RSSI</th>\n",
       "      <th>TXOP</th>\n",
       "      <th>Target</th>\n",
       "    </tr>\n",
       "  </thead>\n",
       "  <tbody>\n",
       "    <tr>\n",
       "      <th>0</th>\n",
       "      <td>9391</td>\n",
       "      <td>7</td>\n",
       "      <td>7</td>\n",
       "      <td>-63.71</td>\n",
       "      <td>1</td>\n",
       "      <td>108</td>\n",
       "    </tr>\n",
       "    <tr>\n",
       "      <th>1</th>\n",
       "      <td>9391</td>\n",
       "      <td>2</td>\n",
       "      <td>2</td>\n",
       "      <td>-67.19</td>\n",
       "      <td>1</td>\n",
       "      <td>0</td>\n",
       "    </tr>\n",
       "    <tr>\n",
       "      <th>2</th>\n",
       "      <td>9391</td>\n",
       "      <td>1</td>\n",
       "      <td>1</td>\n",
       "      <td>-64.87</td>\n",
       "      <td>1</td>\n",
       "      <td>30</td>\n",
       "    </tr>\n",
       "    <tr>\n",
       "      <th>3</th>\n",
       "      <td>9391</td>\n",
       "      <td>5</td>\n",
       "      <td>5</td>\n",
       "      <td>-66.72</td>\n",
       "      <td>1</td>\n",
       "      <td>54</td>\n",
       "    </tr>\n",
       "    <tr>\n",
       "      <th>4</th>\n",
       "      <td>9391</td>\n",
       "      <td>6</td>\n",
       "      <td>6</td>\n",
       "      <td>-65.12</td>\n",
       "      <td>2</td>\n",
       "      <td>156</td>\n",
       "    </tr>\n",
       "    <tr>\n",
       "      <th>...</th>\n",
       "      <td>...</td>\n",
       "      <td>...</td>\n",
       "      <td>...</td>\n",
       "      <td>...</td>\n",
       "      <td>...</td>\n",
       "      <td>...</td>\n",
       "    </tr>\n",
       "    <tr>\n",
       "      <th>1749591</th>\n",
       "      <td>3934</td>\n",
       "      <td>2</td>\n",
       "      <td>1</td>\n",
       "      <td>-65.12</td>\n",
       "      <td>99</td>\n",
       "      <td>312</td>\n",
       "    </tr>\n",
       "    <tr>\n",
       "      <th>1749592</th>\n",
       "      <td>3934</td>\n",
       "      <td>9</td>\n",
       "      <td>5</td>\n",
       "      <td>-64.87</td>\n",
       "      <td>100</td>\n",
       "      <td>0</td>\n",
       "    </tr>\n",
       "    <tr>\n",
       "      <th>1749593</th>\n",
       "      <td>3934</td>\n",
       "      <td>3</td>\n",
       "      <td>2</td>\n",
       "      <td>-52.57</td>\n",
       "      <td>100</td>\n",
       "      <td>156</td>\n",
       "    </tr>\n",
       "    <tr>\n",
       "      <th>1749594</th>\n",
       "      <td>3934</td>\n",
       "      <td>7</td>\n",
       "      <td>4</td>\n",
       "      <td>-66.72</td>\n",
       "      <td>100</td>\n",
       "      <td>30</td>\n",
       "    </tr>\n",
       "    <tr>\n",
       "      <th>1749595</th>\n",
       "      <td>3934</td>\n",
       "      <td>15</td>\n",
       "      <td>8</td>\n",
       "      <td>-67.62</td>\n",
       "      <td>100</td>\n",
       "      <td>0</td>\n",
       "    </tr>\n",
       "  </tbody>\n",
       "</table>\n",
       "<p>1749596 rows × 6 columns</p>\n",
       "</div>"
      ],
      "text/plain": [
       "         Deployment  STA  Ap   RSSI  TXOP  Target\n",
       "0              9391    7   7 -63.71     1     108\n",
       "1              9391    2   2 -67.19     1       0\n",
       "2              9391    1   1 -64.87     1      30\n",
       "3              9391    5   5 -66.72     1      54\n",
       "4              9391    6   6 -65.12     2     156\n",
       "...             ...  ...  ..    ...   ...     ...\n",
       "1749591        3934    2   1 -65.12    99     312\n",
       "1749592        3934    9   5 -64.87   100       0\n",
       "1749593        3934    3   2 -52.57   100     156\n",
       "1749594        3934    7   4 -66.72   100      30\n",
       "1749595        3934   15   8 -67.62   100       0\n",
       "\n",
       "[1749596 rows x 6 columns]"
      ]
     },
     "execution_count": 105,
     "metadata": {},
     "output_type": "execute_result"
    }
   ],
   "source": [
    "df"
   ]
  },
  {
   "cell_type": "code",
   "execution_count": 106,
   "id": "aa76c3fa",
   "metadata": {},
   "outputs": [
    {
     "data": {
      "text/html": [
       "<div>\n",
       "<style scoped>\n",
       "    .dataframe tbody tr th:only-of-type {\n",
       "        vertical-align: middle;\n",
       "    }\n",
       "\n",
       "    .dataframe tbody tr th {\n",
       "        vertical-align: top;\n",
       "    }\n",
       "\n",
       "    .dataframe thead th {\n",
       "        text-align: right;\n",
       "    }\n",
       "</style>\n",
       "<table border=\"1\" class=\"dataframe\">\n",
       "  <thead>\n",
       "    <tr style=\"text-align: right;\">\n",
       "      <th></th>\n",
       "      <th>Deployment</th>\n",
       "      <th>STA</th>\n",
       "      <th>Ap</th>\n",
       "      <th>RSSI</th>\n",
       "      <th>TXOP</th>\n",
       "    </tr>\n",
       "  </thead>\n",
       "  <tbody>\n",
       "    <tr>\n",
       "      <th>0</th>\n",
       "      <td>9373</td>\n",
       "      <td>35</td>\n",
       "      <td>9</td>\n",
       "      <td>-69.12</td>\n",
       "      <td>1</td>\n",
       "    </tr>\n",
       "    <tr>\n",
       "      <th>1</th>\n",
       "      <td>9373</td>\n",
       "      <td>13</td>\n",
       "      <td>4</td>\n",
       "      <td>-64.87</td>\n",
       "      <td>2</td>\n",
       "    </tr>\n",
       "    <tr>\n",
       "      <th>2</th>\n",
       "      <td>9373</td>\n",
       "      <td>3</td>\n",
       "      <td>1</td>\n",
       "      <td>-67.19</td>\n",
       "      <td>2</td>\n",
       "    </tr>\n",
       "    <tr>\n",
       "      <th>3</th>\n",
       "      <td>9373</td>\n",
       "      <td>9</td>\n",
       "      <td>3</td>\n",
       "      <td>-63.71</td>\n",
       "      <td>2</td>\n",
       "    </tr>\n",
       "    <tr>\n",
       "      <th>4</th>\n",
       "      <td>9373</td>\n",
       "      <td>14</td>\n",
       "      <td>4</td>\n",
       "      <td>-65.58</td>\n",
       "      <td>3</td>\n",
       "    </tr>\n",
       "    <tr>\n",
       "      <th>...</th>\n",
       "      <td>...</td>\n",
       "      <td>...</td>\n",
       "      <td>...</td>\n",
       "      <td>...</td>\n",
       "      <td>...</td>\n",
       "    </tr>\n",
       "    <tr>\n",
       "      <th>749919</th>\n",
       "      <td>5144</td>\n",
       "      <td>5</td>\n",
       "      <td>3</td>\n",
       "      <td>-63.71</td>\n",
       "      <td>98</td>\n",
       "    </tr>\n",
       "    <tr>\n",
       "      <th>749920</th>\n",
       "      <td>5144</td>\n",
       "      <td>17</td>\n",
       "      <td>9</td>\n",
       "      <td>-65.58</td>\n",
       "      <td>99</td>\n",
       "    </tr>\n",
       "    <tr>\n",
       "      <th>749921</th>\n",
       "      <td>5144</td>\n",
       "      <td>5</td>\n",
       "      <td>3</td>\n",
       "      <td>-63.71</td>\n",
       "      <td>99</td>\n",
       "    </tr>\n",
       "    <tr>\n",
       "      <th>749922</th>\n",
       "      <td>5144</td>\n",
       "      <td>7</td>\n",
       "      <td>4</td>\n",
       "      <td>-69.12</td>\n",
       "      <td>100</td>\n",
       "    </tr>\n",
       "    <tr>\n",
       "      <th>749923</th>\n",
       "      <td>5144</td>\n",
       "      <td>16</td>\n",
       "      <td>8</td>\n",
       "      <td>-64.61</td>\n",
       "      <td>100</td>\n",
       "    </tr>\n",
       "  </tbody>\n",
       "</table>\n",
       "<p>749924 rows × 5 columns</p>\n",
       "</div>"
      ],
      "text/plain": [
       "        Deployment  STA  Ap   RSSI  TXOP\n",
       "0             9373   35   9 -69.12     1\n",
       "1             9373   13   4 -64.87     2\n",
       "2             9373    3   1 -67.19     2\n",
       "3             9373    9   3 -63.71     2\n",
       "4             9373   14   4 -65.58     3\n",
       "...            ...  ...  ..    ...   ...\n",
       "749919        5144    5   3 -63.71    98\n",
       "749920        5144   17   9 -65.58    99\n",
       "749921        5144    5   3 -63.71    99\n",
       "749922        5144    7   4 -69.12   100\n",
       "749923        5144   16   8 -64.61   100\n",
       "\n",
       "[749924 rows x 5 columns]"
      ]
     },
     "execution_count": 106,
     "metadata": {},
     "output_type": "execute_result"
    }
   ],
   "source": [
    "test"
   ]
  },
  {
   "cell_type": "code",
   "execution_count": 107,
   "id": "2f5f8842",
   "metadata": {},
   "outputs": [
    {
     "data": {
      "text/html": [
       "<div>\n",
       "<style scoped>\n",
       "    .dataframe tbody tr th:only-of-type {\n",
       "        vertical-align: middle;\n",
       "    }\n",
       "\n",
       "    .dataframe tbody tr th {\n",
       "        vertical-align: top;\n",
       "    }\n",
       "\n",
       "    .dataframe thead th {\n",
       "        text-align: right;\n",
       "    }\n",
       "</style>\n",
       "<table border=\"1\" class=\"dataframe\">\n",
       "  <thead>\n",
       "    <tr style=\"text-align: right;\">\n",
       "      <th></th>\n",
       "      <th>Deployment</th>\n",
       "      <th>STA</th>\n",
       "      <th>Ap</th>\n",
       "      <th>RSSI</th>\n",
       "      <th>TXOP</th>\n",
       "      <th>Target</th>\n",
       "    </tr>\n",
       "  </thead>\n",
       "  <tbody>\n",
       "    <tr>\n",
       "      <th>0</th>\n",
       "      <td>9391</td>\n",
       "      <td>7</td>\n",
       "      <td>7</td>\n",
       "      <td>-63.71</td>\n",
       "      <td>1</td>\n",
       "      <td>108</td>\n",
       "    </tr>\n",
       "    <tr>\n",
       "      <th>1</th>\n",
       "      <td>9391</td>\n",
       "      <td>2</td>\n",
       "      <td>2</td>\n",
       "      <td>-67.19</td>\n",
       "      <td>1</td>\n",
       "      <td>0</td>\n",
       "    </tr>\n",
       "    <tr>\n",
       "      <th>2</th>\n",
       "      <td>9391</td>\n",
       "      <td>1</td>\n",
       "      <td>1</td>\n",
       "      <td>-64.87</td>\n",
       "      <td>1</td>\n",
       "      <td>30</td>\n",
       "    </tr>\n",
       "    <tr>\n",
       "      <th>3</th>\n",
       "      <td>9391</td>\n",
       "      <td>5</td>\n",
       "      <td>5</td>\n",
       "      <td>-66.72</td>\n",
       "      <td>1</td>\n",
       "      <td>54</td>\n",
       "    </tr>\n",
       "    <tr>\n",
       "      <th>4</th>\n",
       "      <td>9391</td>\n",
       "      <td>6</td>\n",
       "      <td>6</td>\n",
       "      <td>-65.12</td>\n",
       "      <td>2</td>\n",
       "      <td>156</td>\n",
       "    </tr>\n",
       "  </tbody>\n",
       "</table>\n",
       "</div>"
      ],
      "text/plain": [
       "   Deployment  STA  Ap   RSSI  TXOP  Target\n",
       "0        9391    7   7 -63.71     1     108\n",
       "1        9391    2   2 -67.19     1       0\n",
       "2        9391    1   1 -64.87     1      30\n",
       "3        9391    5   5 -66.72     1      54\n",
       "4        9391    6   6 -65.12     2     156"
      ]
     },
     "execution_count": 107,
     "metadata": {},
     "output_type": "execute_result"
    }
   ],
   "source": [
    "df.head()"
   ]
  },
  {
   "cell_type": "code",
   "execution_count": 108,
   "id": "5770ee0c",
   "metadata": {},
   "outputs": [
    {
     "data": {
      "text/html": [
       "<div>\n",
       "<style scoped>\n",
       "    .dataframe tbody tr th:only-of-type {\n",
       "        vertical-align: middle;\n",
       "    }\n",
       "\n",
       "    .dataframe tbody tr th {\n",
       "        vertical-align: top;\n",
       "    }\n",
       "\n",
       "    .dataframe thead th {\n",
       "        text-align: right;\n",
       "    }\n",
       "</style>\n",
       "<table border=\"1\" class=\"dataframe\">\n",
       "  <thead>\n",
       "    <tr style=\"text-align: right;\">\n",
       "      <th></th>\n",
       "      <th>Deployment</th>\n",
       "      <th>STA</th>\n",
       "      <th>Ap</th>\n",
       "      <th>RSSI</th>\n",
       "      <th>TXOP</th>\n",
       "      <th>Target</th>\n",
       "    </tr>\n",
       "  </thead>\n",
       "  <tbody>\n",
       "    <tr>\n",
       "      <th>0</th>\n",
       "      <td>9391</td>\n",
       "      <td>7</td>\n",
       "      <td>7</td>\n",
       "      <td>-63.71</td>\n",
       "      <td>1</td>\n",
       "      <td>108</td>\n",
       "    </tr>\n",
       "    <tr>\n",
       "      <th>13</th>\n",
       "      <td>9391</td>\n",
       "      <td>7</td>\n",
       "      <td>7</td>\n",
       "      <td>-63.71</td>\n",
       "      <td>6</td>\n",
       "      <td>234</td>\n",
       "    </tr>\n",
       "    <tr>\n",
       "      <th>14</th>\n",
       "      <td>9391</td>\n",
       "      <td>7</td>\n",
       "      <td>7</td>\n",
       "      <td>-63.71</td>\n",
       "      <td>7</td>\n",
       "      <td>78</td>\n",
       "    </tr>\n",
       "    <tr>\n",
       "      <th>18</th>\n",
       "      <td>9391</td>\n",
       "      <td>7</td>\n",
       "      <td>7</td>\n",
       "      <td>-63.71</td>\n",
       "      <td>8</td>\n",
       "      <td>156</td>\n",
       "    </tr>\n",
       "    <tr>\n",
       "      <th>29</th>\n",
       "      <td>9391</td>\n",
       "      <td>7</td>\n",
       "      <td>7</td>\n",
       "      <td>-63.71</td>\n",
       "      <td>12</td>\n",
       "      <td>108</td>\n",
       "    </tr>\n",
       "    <tr>\n",
       "      <th>...</th>\n",
       "      <td>...</td>\n",
       "      <td>...</td>\n",
       "      <td>...</td>\n",
       "      <td>...</td>\n",
       "      <td>...</td>\n",
       "      <td>...</td>\n",
       "    </tr>\n",
       "    <tr>\n",
       "      <th>1743883</th>\n",
       "      <td>5150</td>\n",
       "      <td>7</td>\n",
       "      <td>7</td>\n",
       "      <td>-63.71</td>\n",
       "      <td>67</td>\n",
       "      <td>108</td>\n",
       "    </tr>\n",
       "    <tr>\n",
       "      <th>1743893</th>\n",
       "      <td>5150</td>\n",
       "      <td>7</td>\n",
       "      <td>7</td>\n",
       "      <td>-63.71</td>\n",
       "      <td>70</td>\n",
       "      <td>156</td>\n",
       "    </tr>\n",
       "    <tr>\n",
       "      <th>1743929</th>\n",
       "      <td>5150</td>\n",
       "      <td>7</td>\n",
       "      <td>7</td>\n",
       "      <td>-63.71</td>\n",
       "      <td>85</td>\n",
       "      <td>210</td>\n",
       "    </tr>\n",
       "    <tr>\n",
       "      <th>1743935</th>\n",
       "      <td>5150</td>\n",
       "      <td>7</td>\n",
       "      <td>7</td>\n",
       "      <td>-63.71</td>\n",
       "      <td>88</td>\n",
       "      <td>210</td>\n",
       "    </tr>\n",
       "    <tr>\n",
       "      <th>1743959</th>\n",
       "      <td>5150</td>\n",
       "      <td>7</td>\n",
       "      <td>7</td>\n",
       "      <td>-63.71</td>\n",
       "      <td>97</td>\n",
       "      <td>156</td>\n",
       "    </tr>\n",
       "  </tbody>\n",
       "</table>\n",
       "<p>2882 rows × 6 columns</p>\n",
       "</div>"
      ],
      "text/plain": [
       "         Deployment  STA  Ap   RSSI  TXOP  Target\n",
       "0              9391    7   7 -63.71     1     108\n",
       "13             9391    7   7 -63.71     6     234\n",
       "14             9391    7   7 -63.71     7      78\n",
       "18             9391    7   7 -63.71     8     156\n",
       "29             9391    7   7 -63.71    12     108\n",
       "...             ...  ...  ..    ...   ...     ...\n",
       "1743883        5150    7   7 -63.71    67     108\n",
       "1743893        5150    7   7 -63.71    70     156\n",
       "1743929        5150    7   7 -63.71    85     210\n",
       "1743935        5150    7   7 -63.71    88     210\n",
       "1743959        5150    7   7 -63.71    97     156\n",
       "\n",
       "[2882 rows x 6 columns]"
      ]
     },
     "execution_count": 108,
     "metadata": {},
     "output_type": "execute_result"
    }
   ],
   "source": [
    "df[(df['STA']==7) &(df['Ap']==7)&(df['RSSI']==-63.71)]"
   ]
  },
  {
   "cell_type": "code",
   "execution_count": 109,
   "id": "3ad9c52f",
   "metadata": {},
   "outputs": [
    {
     "data": {
      "text/html": [
       "<div>\n",
       "<style scoped>\n",
       "    .dataframe tbody tr th:only-of-type {\n",
       "        vertical-align: middle;\n",
       "    }\n",
       "\n",
       "    .dataframe tbody tr th {\n",
       "        vertical-align: top;\n",
       "    }\n",
       "\n",
       "    .dataframe thead th {\n",
       "        text-align: right;\n",
       "    }\n",
       "</style>\n",
       "<table border=\"1\" class=\"dataframe\">\n",
       "  <thead>\n",
       "    <tr style=\"text-align: right;\">\n",
       "      <th></th>\n",
       "      <th>Deployment</th>\n",
       "      <th>STA</th>\n",
       "      <th>Ap</th>\n",
       "      <th>RSSI</th>\n",
       "      <th>TXOP</th>\n",
       "      <th>Target</th>\n",
       "    </tr>\n",
       "  </thead>\n",
       "  <tbody>\n",
       "  </tbody>\n",
       "</table>\n",
       "</div>"
      ],
      "text/plain": [
       "Empty DataFrame\n",
       "Columns: [Deployment, STA, Ap, RSSI, TXOP, Target]\n",
       "Index: []"
      ]
     },
     "execution_count": 109,
     "metadata": {},
     "output_type": "execute_result"
    }
   ],
   "source": [
    "df[(df['STA']==7) &(df['Ap']==7)&(df['RSSI']==63.71)& df['TXOP']==1]"
   ]
  },
  {
   "cell_type": "code",
   "execution_count": 111,
   "id": "598da226",
   "metadata": {},
   "outputs": [
    {
     "data": {
      "text/plain": [
       "13"
      ]
     },
     "execution_count": 111,
     "metadata": {},
     "output_type": "execute_result"
    }
   ],
   "source": [
    "df['Target'].nunique()"
   ]
  },
  {
   "cell_type": "code",
   "execution_count": 112,
   "id": "f5e62a57",
   "metadata": {},
   "outputs": [
    {
     "data": {
      "text/plain": [
       "7791    287\n",
       "9846    286\n",
       "6571    286\n",
       "157     285\n",
       "1442    284\n",
       "       ... \n",
       "5693    215\n",
       "4357    215\n",
       "5780    214\n",
       "7721    214\n",
       "8692    211\n",
       "Name: Deployment, Length: 7000, dtype: int64"
      ]
     },
     "execution_count": 112,
     "metadata": {},
     "output_type": "execute_result"
    }
   ],
   "source": [
    "df['Deployment'].value_counts()"
   ]
  },
  {
   "cell_type": "code",
   "execution_count": 113,
   "id": "f2cfb163",
   "metadata": {},
   "outputs": [
    {
     "data": {
      "text/html": [
       "<div>\n",
       "<style scoped>\n",
       "    .dataframe tbody tr th:only-of-type {\n",
       "        vertical-align: middle;\n",
       "    }\n",
       "\n",
       "    .dataframe tbody tr th {\n",
       "        vertical-align: top;\n",
       "    }\n",
       "\n",
       "    .dataframe thead th {\n",
       "        text-align: right;\n",
       "    }\n",
       "</style>\n",
       "<table border=\"1\" class=\"dataframe\">\n",
       "  <thead>\n",
       "    <tr style=\"text-align: right;\">\n",
       "      <th></th>\n",
       "      <th>STA</th>\n",
       "      <th>Ap</th>\n",
       "      <th>RSSI</th>\n",
       "      <th>TXOP</th>\n",
       "      <th>Target</th>\n",
       "    </tr>\n",
       "    <tr>\n",
       "      <th>Deployment</th>\n",
       "      <th></th>\n",
       "      <th></th>\n",
       "      <th></th>\n",
       "      <th></th>\n",
       "      <th></th>\n",
       "    </tr>\n",
       "  </thead>\n",
       "  <tbody>\n",
       "    <tr>\n",
       "      <th>1</th>\n",
       "      <td>18</td>\n",
       "      <td>9</td>\n",
       "      <td>-52.57</td>\n",
       "      <td>100</td>\n",
       "      <td>432</td>\n",
       "    </tr>\n",
       "    <tr>\n",
       "      <th>3</th>\n",
       "      <td>18</td>\n",
       "      <td>9</td>\n",
       "      <td>-52.57</td>\n",
       "      <td>100</td>\n",
       "      <td>432</td>\n",
       "    </tr>\n",
       "    <tr>\n",
       "      <th>4</th>\n",
       "      <td>18</td>\n",
       "      <td>9</td>\n",
       "      <td>-52.57</td>\n",
       "      <td>100</td>\n",
       "      <td>432</td>\n",
       "    </tr>\n",
       "    <tr>\n",
       "      <th>7</th>\n",
       "      <td>45</td>\n",
       "      <td>9</td>\n",
       "      <td>-52.57</td>\n",
       "      <td>100</td>\n",
       "      <td>432</td>\n",
       "    </tr>\n",
       "    <tr>\n",
       "      <th>8</th>\n",
       "      <td>45</td>\n",
       "      <td>9</td>\n",
       "      <td>-52.57</td>\n",
       "      <td>100</td>\n",
       "      <td>390</td>\n",
       "    </tr>\n",
       "    <tr>\n",
       "      <th>...</th>\n",
       "      <td>...</td>\n",
       "      <td>...</td>\n",
       "      <td>...</td>\n",
       "      <td>...</td>\n",
       "      <td>...</td>\n",
       "    </tr>\n",
       "    <tr>\n",
       "      <th>9994</th>\n",
       "      <td>36</td>\n",
       "      <td>9</td>\n",
       "      <td>-52.57</td>\n",
       "      <td>100</td>\n",
       "      <td>432</td>\n",
       "    </tr>\n",
       "    <tr>\n",
       "      <th>9995</th>\n",
       "      <td>27</td>\n",
       "      <td>9</td>\n",
       "      <td>-55.58</td>\n",
       "      <td>100</td>\n",
       "      <td>432</td>\n",
       "    </tr>\n",
       "    <tr>\n",
       "      <th>9997</th>\n",
       "      <td>9</td>\n",
       "      <td>9</td>\n",
       "      <td>-58.59</td>\n",
       "      <td>100</td>\n",
       "      <td>390</td>\n",
       "    </tr>\n",
       "    <tr>\n",
       "      <th>9998</th>\n",
       "      <td>45</td>\n",
       "      <td>9</td>\n",
       "      <td>-52.57</td>\n",
       "      <td>100</td>\n",
       "      <td>432</td>\n",
       "    </tr>\n",
       "    <tr>\n",
       "      <th>10000</th>\n",
       "      <td>36</td>\n",
       "      <td>9</td>\n",
       "      <td>-52.57</td>\n",
       "      <td>100</td>\n",
       "      <td>390</td>\n",
       "    </tr>\n",
       "  </tbody>\n",
       "</table>\n",
       "<p>7000 rows × 5 columns</p>\n",
       "</div>"
      ],
      "text/plain": [
       "            STA  Ap   RSSI  TXOP  Target\n",
       "Deployment                              \n",
       "1            18   9 -52.57   100     432\n",
       "3            18   9 -52.57   100     432\n",
       "4            18   9 -52.57   100     432\n",
       "7            45   9 -52.57   100     432\n",
       "8            45   9 -52.57   100     390\n",
       "...         ...  ..    ...   ...     ...\n",
       "9994         36   9 -52.57   100     432\n",
       "9995         27   9 -55.58   100     432\n",
       "9997          9   9 -58.59   100     390\n",
       "9998         45   9 -52.57   100     432\n",
       "10000        36   9 -52.57   100     390\n",
       "\n",
       "[7000 rows x 5 columns]"
      ]
     },
     "execution_count": 113,
     "metadata": {},
     "output_type": "execute_result"
    }
   ],
   "source": [
    "df.groupby(['Deployment']).max()"
   ]
  },
  {
   "cell_type": "code",
   "execution_count": 114,
   "id": "b5a028d7",
   "metadata": {},
   "outputs": [],
   "source": [
    "asdf = df.groupby(['Deployment']).max()"
   ]
  },
  {
   "cell_type": "code",
   "execution_count": 115,
   "id": "618db0b8",
   "metadata": {},
   "outputs": [
    {
     "data": {
      "text/plain": [
       "Deployment\n",
       "1        18\n",
       "3        18\n",
       "4        18\n",
       "7        45\n",
       "8        45\n",
       "         ..\n",
       "9994     36\n",
       "9995     27\n",
       "9997      9\n",
       "9998     45\n",
       "10000    36\n",
       "Name: STA, Length: 7000, dtype: int64"
      ]
     },
     "execution_count": 115,
     "metadata": {},
     "output_type": "execute_result"
    }
   ],
   "source": [
    "asdf['STA']"
   ]
  },
  {
   "cell_type": "code",
   "execution_count": 116,
   "id": "455fb54b",
   "metadata": {},
   "outputs": [],
   "source": [
    "mp = asdf['STA'].to_dict()"
   ]
  },
  {
   "cell_type": "code",
   "execution_count": 117,
   "id": "5e86b66b",
   "metadata": {
    "scrolled": true
   },
   "outputs": [
    {
     "data": {
      "text/plain": [
       "45"
      ]
     },
     "execution_count": 117,
     "metadata": {},
     "output_type": "execute_result"
    }
   ],
   "source": [
    "mp[8]"
   ]
  },
  {
   "cell_type": "code",
   "execution_count": 118,
   "id": "3207d8d6",
   "metadata": {},
   "outputs": [
    {
     "data": {
      "text/plain": [
       "array([9391, 9391, 9391, ..., 3934, 3934, 3934], dtype=int64)"
      ]
     },
     "execution_count": 118,
     "metadata": {},
     "output_type": "execute_result"
    }
   ],
   "source": [
    "daf = np.array(df['Deployment'])\n",
    "daf"
   ]
  },
  {
   "cell_type": "code",
   "execution_count": 119,
   "id": "6a8c8d02",
   "metadata": {},
   "outputs": [],
   "source": [
    "# [n for n in daf]"
   ]
  },
  {
   "cell_type": "code",
   "execution_count": 177,
   "id": "351184dd",
   "metadata": {},
   "outputs": [],
   "source": [
    "# [mp[n] for n in daf]"
   ]
  },
  {
   "cell_type": "code",
   "execution_count": 121,
   "id": "e1f8e324",
   "metadata": {},
   "outputs": [
    {
     "data": {
      "text/html": [
       "<div>\n",
       "<style scoped>\n",
       "    .dataframe tbody tr th:only-of-type {\n",
       "        vertical-align: middle;\n",
       "    }\n",
       "\n",
       "    .dataframe tbody tr th {\n",
       "        vertical-align: top;\n",
       "    }\n",
       "\n",
       "    .dataframe thead th {\n",
       "        text-align: right;\n",
       "    }\n",
       "</style>\n",
       "<table border=\"1\" class=\"dataframe\">\n",
       "  <thead>\n",
       "    <tr style=\"text-align: right;\">\n",
       "      <th></th>\n",
       "      <th>STA</th>\n",
       "      <th>Ap</th>\n",
       "      <th>RSSI</th>\n",
       "      <th>TXOP</th>\n",
       "      <th>Target</th>\n",
       "    </tr>\n",
       "    <tr>\n",
       "      <th>Deployment</th>\n",
       "      <th></th>\n",
       "      <th></th>\n",
       "      <th></th>\n",
       "      <th></th>\n",
       "      <th></th>\n",
       "    </tr>\n",
       "  </thead>\n",
       "  <tbody>\n",
       "    <tr>\n",
       "      <th>3612</th>\n",
       "      <td>45</td>\n",
       "      <td>9</td>\n",
       "      <td>16</td>\n",
       "      <td>100</td>\n",
       "      <td>13</td>\n",
       "    </tr>\n",
       "  </tbody>\n",
       "</table>\n",
       "</div>"
      ],
      "text/plain": [
       "            STA  Ap  RSSI  TXOP  Target\n",
       "Deployment                             \n",
       "3612         45   9    16   100      13"
      ]
     },
     "execution_count": 121,
     "metadata": {},
     "output_type": "execute_result"
    }
   ],
   "source": [
    "df[df['Deployment']==3612].groupby(['Deployment']).nunique()"
   ]
  },
  {
   "cell_type": "code",
   "execution_count": 122,
   "id": "baf5659d",
   "metadata": {},
   "outputs": [
    {
     "data": {
      "text/plain": [
       "27"
      ]
     },
     "execution_count": 122,
     "metadata": {},
     "output_type": "execute_result"
    }
   ],
   "source": [
    "df[df['Deployment']==1953]['STA'].nunique()"
   ]
  },
  {
   "cell_type": "code",
   "execution_count": 123,
   "id": "08e10144",
   "metadata": {},
   "outputs": [
    {
     "data": {
      "text/plain": [
       "Deployment  STA\n",
       "9391        5      35\n",
       "            2      30\n",
       "            7      30\n",
       "            9      30\n",
       "            1      28\n",
       "            4      26\n",
       "            6      25\n",
       "            8      23\n",
       "            3      18\n",
       "Name: STA, dtype: int64"
      ]
     },
     "execution_count": 123,
     "metadata": {},
     "output_type": "execute_result"
    }
   ],
   "source": [
    "df[df['Deployment']==9391].groupby(['Deployment'])['STA'].value_counts()"
   ]
  },
  {
   "cell_type": "code",
   "execution_count": 124,
   "id": "e68d8124",
   "metadata": {},
   "outputs": [
    {
     "data": {
      "text/plain": [
       "245"
      ]
     },
     "execution_count": 124,
     "metadata": {},
     "output_type": "execute_result"
    }
   ],
   "source": [
    "35 + 30 +30+30+28+26+25+23+18"
   ]
  },
  {
   "cell_type": "code",
   "execution_count": 125,
   "id": "74da4d65",
   "metadata": {},
   "outputs": [
    {
     "data": {
      "text/plain": [
       "245"
      ]
     },
     "execution_count": 125,
     "metadata": {},
     "output_type": "execute_result"
    }
   ],
   "source": [
    "len(df[df['Deployment']==9391])"
   ]
  },
  {
   "cell_type": "code",
   "execution_count": 126,
   "id": "93841036",
   "metadata": {},
   "outputs": [],
   "source": [
    "lsm = df.groupby(['Deployment']).max()"
   ]
  },
  {
   "cell_type": "code",
   "execution_count": 127,
   "id": "c26c4d66",
   "metadata": {},
   "outputs": [
    {
     "data": {
      "text/plain": [
       "Deployment\n",
       "1        18\n",
       "3        18\n",
       "4        18\n",
       "7        45\n",
       "8        45\n",
       "         ..\n",
       "9994     36\n",
       "9995     27\n",
       "9997      9\n",
       "9998     45\n",
       "10000    36\n",
       "Name: STA, Length: 7000, dtype: int64"
      ]
     },
     "execution_count": 127,
     "metadata": {},
     "output_type": "execute_result"
    }
   ],
   "source": [
    "lsm['STA']"
   ]
  },
  {
   "cell_type": "code",
   "execution_count": 128,
   "id": "1e90db2b",
   "metadata": {},
   "outputs": [],
   "source": [
    "msl = lsm['STA'].to_dict()"
   ]
  },
  {
   "cell_type": "code",
   "execution_count": 129,
   "id": "9279e87e",
   "metadata": {},
   "outputs": [],
   "source": [
    "dep = np.array(df['Deployment'])"
   ]
  },
  {
   "cell_type": "code",
   "execution_count": 130,
   "id": "04127a0d",
   "metadata": {},
   "outputs": [],
   "source": [
    "# 1- Last Station Max()\n",
    "lstm = [msl[n] for n in dep]"
   ]
  },
  {
   "cell_type": "code",
   "execution_count": 131,
   "id": "6a020d98",
   "metadata": {},
   "outputs": [],
   "source": [
    "usn = df.groupby(['Deployment']).nunique()"
   ]
  },
  {
   "cell_type": "code",
   "execution_count": 132,
   "id": "260af186",
   "metadata": {},
   "outputs": [
    {
     "data": {
      "text/plain": [
       "6771"
      ]
     },
     "execution_count": 132,
     "metadata": {},
     "output_type": "execute_result"
    }
   ],
   "source": [
    "(usn['STA'] == lsm['STA']).sum()"
   ]
  },
  {
   "cell_type": "code",
   "execution_count": 133,
   "id": "3aa2859a",
   "metadata": {},
   "outputs": [],
   "source": [
    "nsu = usn['STA'].to_dict()"
   ]
  },
  {
   "cell_type": "code",
   "execution_count": 134,
   "id": "c6f2d595",
   "metadata": {},
   "outputs": [],
   "source": [
    "# 2- number of activae STA per AP\n",
    "uns = [nsu[n] for n in dep]"
   ]
  },
  {
   "cell_type": "code",
   "execution_count": 135,
   "id": "5ec2c6b2",
   "metadata": {},
   "outputs": [
    {
     "data": {
      "text/plain": [
       "Deployment  STA\n",
       "1           10     18\n",
       "            11     17\n",
       "            2      16\n",
       "            5      16\n",
       "            8      15\n",
       "                   ..\n",
       "10000       8       4\n",
       "            16      4\n",
       "            23      4\n",
       "            7       3\n",
       "            34      3\n",
       "Name: STA, Length: 188147, dtype: int64"
      ]
     },
     "execution_count": 135,
     "metadata": {},
     "output_type": "execute_result"
    }
   ],
   "source": [
    "df.groupby(['Deployment'])['STA'].value_counts()"
   ]
  },
  {
   "cell_type": "code",
   "execution_count": 136,
   "id": "11f44d3a",
   "metadata": {},
   "outputs": [],
   "source": [
    "ioqa = df.groupby(['Deployment'])['STA'].value_counts()"
   ]
  },
  {
   "cell_type": "code",
   "execution_count": 176,
   "id": "67a1d08f",
   "metadata": {},
   "outputs": [],
   "source": [
    "# ioqa.to_dict()"
   ]
  },
  {
   "cell_type": "code",
   "execution_count": 175,
   "id": "adee169f",
   "metadata": {
    "scrolled": true
   },
   "outputs": [],
   "source": [
    "# (ioqa.to_dict()).values()"
   ]
  },
  {
   "cell_type": "code",
   "execution_count": null,
   "id": "5d60fb6a",
   "metadata": {},
   "outputs": [],
   "source": [
    "df[(df['STA']==7) &(df['Ap']==7)&(df['RSSI']==63.71)& (df['TXOP']==1) & (df['stavlq']==30)]['Target'].nunique()"
   ]
  },
  {
   "cell_type": "code",
   "execution_count": 139,
   "id": "6317685f",
   "metadata": {},
   "outputs": [
    {
     "data": {
      "text/plain": [
       "15"
      ]
     },
     "execution_count": 139,
     "metadata": {},
     "output_type": "execute_result"
    }
   ],
   "source": [
    "ioqa[(4,1)]"
   ]
  },
  {
   "cell_type": "code",
   "execution_count": 140,
   "id": "e08fecde",
   "metadata": {},
   "outputs": [],
   "source": [
    "# [ioqa[(n,1)] for n in dep]"
   ]
  },
  {
   "cell_type": "code",
   "execution_count": 141,
   "id": "a7e251c6",
   "metadata": {},
   "outputs": [],
   "source": [
    "dep = np.array(df['Deployment'])"
   ]
  },
  {
   "cell_type": "code",
   "execution_count": 142,
   "id": "91db7d1c",
   "metadata": {},
   "outputs": [
    {
     "data": {
      "text/plain": [
       "array([[9391,    7],\n",
       "       [9391,    2],\n",
       "       [9391,    1],\n",
       "       ...,\n",
       "       [3934,    3],\n",
       "       [3934,    7],\n",
       "       [3934,   15]], dtype=int64)"
      ]
     },
     "execution_count": 142,
     "metadata": {},
     "output_type": "execute_result"
    }
   ],
   "source": [
    "ped = np.array(df[['Deployment','STA']])\n",
    "ped"
   ]
  },
  {
   "cell_type": "code",
   "execution_count": 143,
   "id": "398ce996",
   "metadata": {},
   "outputs": [],
   "source": [
    "# 3 how many this staion used for each deployment\n",
    "aqoi = [ioqa[(n,m)] for n,m in ped]"
   ]
  },
  {
   "cell_type": "code",
   "execution_count": 144,
   "id": "8f0fad4a",
   "metadata": {},
   "outputs": [],
   "source": [
    "\n",
    "df['stamax'] = lstm\n",
    "df['staunique'] = uns\n",
    "df['stavlq'] = aqoi"
   ]
  },
  {
   "cell_type": "code",
   "execution_count": 145,
   "id": "27d14a48",
   "metadata": {
    "scrolled": true
   },
   "outputs": [
    {
     "data": {
      "text/html": [
       "<div>\n",
       "<style scoped>\n",
       "    .dataframe tbody tr th:only-of-type {\n",
       "        vertical-align: middle;\n",
       "    }\n",
       "\n",
       "    .dataframe tbody tr th {\n",
       "        vertical-align: top;\n",
       "    }\n",
       "\n",
       "    .dataframe thead th {\n",
       "        text-align: right;\n",
       "    }\n",
       "</style>\n",
       "<table border=\"1\" class=\"dataframe\">\n",
       "  <thead>\n",
       "    <tr style=\"text-align: right;\">\n",
       "      <th></th>\n",
       "      <th>Deployment</th>\n",
       "      <th>STA</th>\n",
       "      <th>Ap</th>\n",
       "      <th>RSSI</th>\n",
       "      <th>TXOP</th>\n",
       "      <th>Target</th>\n",
       "      <th>stamax</th>\n",
       "      <th>staunique</th>\n",
       "      <th>stavlq</th>\n",
       "    </tr>\n",
       "  </thead>\n",
       "  <tbody>\n",
       "    <tr>\n",
       "      <th>0</th>\n",
       "      <td>9391</td>\n",
       "      <td>7</td>\n",
       "      <td>7</td>\n",
       "      <td>-63.71</td>\n",
       "      <td>1</td>\n",
       "      <td>108</td>\n",
       "      <td>9</td>\n",
       "      <td>9</td>\n",
       "      <td>30</td>\n",
       "    </tr>\n",
       "    <tr>\n",
       "      <th>1</th>\n",
       "      <td>9391</td>\n",
       "      <td>2</td>\n",
       "      <td>2</td>\n",
       "      <td>-67.19</td>\n",
       "      <td>1</td>\n",
       "      <td>0</td>\n",
       "      <td>9</td>\n",
       "      <td>9</td>\n",
       "      <td>30</td>\n",
       "    </tr>\n",
       "    <tr>\n",
       "      <th>2</th>\n",
       "      <td>9391</td>\n",
       "      <td>1</td>\n",
       "      <td>1</td>\n",
       "      <td>-64.87</td>\n",
       "      <td>1</td>\n",
       "      <td>30</td>\n",
       "      <td>9</td>\n",
       "      <td>9</td>\n",
       "      <td>28</td>\n",
       "    </tr>\n",
       "    <tr>\n",
       "      <th>3</th>\n",
       "      <td>9391</td>\n",
       "      <td>5</td>\n",
       "      <td>5</td>\n",
       "      <td>-66.72</td>\n",
       "      <td>1</td>\n",
       "      <td>54</td>\n",
       "      <td>9</td>\n",
       "      <td>9</td>\n",
       "      <td>35</td>\n",
       "    </tr>\n",
       "    <tr>\n",
       "      <th>4</th>\n",
       "      <td>9391</td>\n",
       "      <td>6</td>\n",
       "      <td>6</td>\n",
       "      <td>-65.12</td>\n",
       "      <td>2</td>\n",
       "      <td>156</td>\n",
       "      <td>9</td>\n",
       "      <td>9</td>\n",
       "      <td>25</td>\n",
       "    </tr>\n",
       "  </tbody>\n",
       "</table>\n",
       "</div>"
      ],
      "text/plain": [
       "   Deployment  STA  Ap   RSSI  TXOP  Target  stamax  staunique  stavlq\n",
       "0        9391    7   7 -63.71     1     108       9          9      30\n",
       "1        9391    2   2 -67.19     1       0       9          9      30\n",
       "2        9391    1   1 -64.87     1      30       9          9      28\n",
       "3        9391    5   5 -66.72     1      54       9          9      35\n",
       "4        9391    6   6 -65.12     2     156       9          9      25"
      ]
     },
     "execution_count": 145,
     "metadata": {},
     "output_type": "execute_result"
    }
   ],
   "source": [
    "df.head()"
   ]
  },
  {
   "cell_type": "code",
   "execution_count": 146,
   "id": "84cdc13d",
   "metadata": {},
   "outputs": [],
   "source": [
    "df['RSSI'] = df['RSSI']*-1"
   ]
  },
  {
   "cell_type": "code",
   "execution_count": 147,
   "id": "e558638c",
   "metadata": {},
   "outputs": [],
   "source": [
    "X = df.drop(['Target','Deployment','TXOP','Ap','stamax'],axis=1)[:10000]\n",
    "y = df['Target'][:10000]\n",
    "X_train, X_test, y_train,y_test = train_test_split(X,y,random_state=42)"
   ]
  },
  {
   "cell_type": "code",
   "execution_count": 148,
   "id": "96b48f14",
   "metadata": {},
   "outputs": [
    {
     "data": {
      "text/plain": [
       "0.276"
      ]
     },
     "execution_count": 148,
     "metadata": {},
     "output_type": "execute_result"
    }
   ],
   "source": [
    "rfc = RandomForestClassifier()\n",
    "rfc.fit(X_train, y_train)\n",
    "rfc.score(X_test,y_test)"
   ]
  },
  {
   "cell_type": "code",
   "execution_count": 149,
   "id": "e4e2504d",
   "metadata": {},
   "outputs": [
    {
     "data": {
      "text/plain": [
       "0.13133810597622997"
      ]
     },
     "execution_count": 149,
     "metadata": {},
     "output_type": "execute_result"
    }
   ],
   "source": [
    "rfc = RandomForestRegressor()\n",
    "rfc.fit(X_train, y_train)\n",
    "rfc.score(X_test,y_test)"
   ]
  },
  {
   "cell_type": "code",
   "execution_count": 150,
   "id": "287eeaf2",
   "metadata": {},
   "outputs": [],
   "source": [
    "model = ltb.LGBMClassifier()"
   ]
  },
  {
   "cell_type": "code",
   "execution_count": 151,
   "id": "ba638569",
   "metadata": {
    "scrolled": true
   },
   "outputs": [
    {
     "data": {
      "text/plain": [
       "0.2848"
      ]
     },
     "execution_count": 151,
     "metadata": {},
     "output_type": "execute_result"
    }
   ],
   "source": [
    "model.fit(X_train,y_train)\n",
    "model.score(X_test,y_test)"
   ]
  },
  {
   "cell_type": "code",
   "execution_count": 152,
   "id": "3d1fafa5",
   "metadata": {},
   "outputs": [
    {
     "data": {
      "text/plain": [
       "(59.9664, 76.416)"
      ]
     },
     "execution_count": 152,
     "metadata": {},
     "output_type": "execute_result"
    }
   ],
   "source": [
    "mean_absolute_error(y_train,model.predict(X_train)) ,mean_absolute_error(y_test,model.predict(X_test))"
   ]
  },
  {
   "cell_type": "code",
   "execution_count": null,
   "id": "c0bfd0f5",
   "metadata": {},
   "outputs": [],
   "source": []
  },
  {
   "cell_type": "code",
   "execution_count": 153,
   "id": "2773dccb",
   "metadata": {},
   "outputs": [
    {
     "data": {
      "text/html": [
       "<div>\n",
       "<style scoped>\n",
       "    .dataframe tbody tr th:only-of-type {\n",
       "        vertical-align: middle;\n",
       "    }\n",
       "\n",
       "    .dataframe tbody tr th {\n",
       "        vertical-align: top;\n",
       "    }\n",
       "\n",
       "    .dataframe thead th {\n",
       "        text-align: right;\n",
       "    }\n",
       "</style>\n",
       "<table border=\"1\" class=\"dataframe\">\n",
       "  <thead>\n",
       "    <tr style=\"text-align: right;\">\n",
       "      <th></th>\n",
       "      <th>Deployment</th>\n",
       "      <th>STA</th>\n",
       "      <th>Ap</th>\n",
       "      <th>RSSI</th>\n",
       "      <th>TXOP</th>\n",
       "      <th>Target</th>\n",
       "      <th>stamax</th>\n",
       "      <th>staunique</th>\n",
       "      <th>stavlq</th>\n",
       "    </tr>\n",
       "  </thead>\n",
       "  <tbody>\n",
       "    <tr>\n",
       "      <th>2</th>\n",
       "      <td>9391</td>\n",
       "      <td>1</td>\n",
       "      <td>1</td>\n",
       "      <td>64.87</td>\n",
       "      <td>1</td>\n",
       "      <td>30</td>\n",
       "      <td>9</td>\n",
       "      <td>9</td>\n",
       "      <td>28</td>\n",
       "    </tr>\n",
       "    <tr>\n",
       "      <th>6</th>\n",
       "      <td>9391</td>\n",
       "      <td>1</td>\n",
       "      <td>1</td>\n",
       "      <td>64.87</td>\n",
       "      <td>2</td>\n",
       "      <td>54</td>\n",
       "      <td>9</td>\n",
       "      <td>9</td>\n",
       "      <td>28</td>\n",
       "    </tr>\n",
       "    <tr>\n",
       "      <th>20</th>\n",
       "      <td>9391</td>\n",
       "      <td>1</td>\n",
       "      <td>1</td>\n",
       "      <td>64.87</td>\n",
       "      <td>8</td>\n",
       "      <td>54</td>\n",
       "      <td>9</td>\n",
       "      <td>9</td>\n",
       "      <td>28</td>\n",
       "    </tr>\n",
       "    <tr>\n",
       "      <th>27</th>\n",
       "      <td>9391</td>\n",
       "      <td>1</td>\n",
       "      <td>1</td>\n",
       "      <td>64.87</td>\n",
       "      <td>11</td>\n",
       "      <td>30</td>\n",
       "      <td>9</td>\n",
       "      <td>9</td>\n",
       "      <td>28</td>\n",
       "    </tr>\n",
       "    <tr>\n",
       "      <th>42</th>\n",
       "      <td>9391</td>\n",
       "      <td>1</td>\n",
       "      <td>1</td>\n",
       "      <td>64.87</td>\n",
       "      <td>16</td>\n",
       "      <td>54</td>\n",
       "      <td>9</td>\n",
       "      <td>9</td>\n",
       "      <td>28</td>\n",
       "    </tr>\n",
       "    <tr>\n",
       "      <th>...</th>\n",
       "      <td>...</td>\n",
       "      <td>...</td>\n",
       "      <td>...</td>\n",
       "      <td>...</td>\n",
       "      <td>...</td>\n",
       "      <td>...</td>\n",
       "      <td>...</td>\n",
       "      <td>...</td>\n",
       "      <td>...</td>\n",
       "    </tr>\n",
       "    <tr>\n",
       "      <th>1749502</th>\n",
       "      <td>3934</td>\n",
       "      <td>1</td>\n",
       "      <td>1</td>\n",
       "      <td>63.71</td>\n",
       "      <td>60</td>\n",
       "      <td>30</td>\n",
       "      <td>18</td>\n",
       "      <td>18</td>\n",
       "      <td>18</td>\n",
       "    </tr>\n",
       "    <tr>\n",
       "      <th>1749507</th>\n",
       "      <td>3934</td>\n",
       "      <td>1</td>\n",
       "      <td>1</td>\n",
       "      <td>63.71</td>\n",
       "      <td>62</td>\n",
       "      <td>234</td>\n",
       "      <td>18</td>\n",
       "      <td>18</td>\n",
       "      <td>18</td>\n",
       "    </tr>\n",
       "    <tr>\n",
       "      <th>1749517</th>\n",
       "      <td>3934</td>\n",
       "      <td>1</td>\n",
       "      <td>1</td>\n",
       "      <td>63.71</td>\n",
       "      <td>66</td>\n",
       "      <td>0</td>\n",
       "      <td>18</td>\n",
       "      <td>18</td>\n",
       "      <td>18</td>\n",
       "    </tr>\n",
       "    <tr>\n",
       "      <th>1749527</th>\n",
       "      <td>3934</td>\n",
       "      <td>1</td>\n",
       "      <td>1</td>\n",
       "      <td>63.71</td>\n",
       "      <td>70</td>\n",
       "      <td>30</td>\n",
       "      <td>18</td>\n",
       "      <td>18</td>\n",
       "      <td>18</td>\n",
       "    </tr>\n",
       "    <tr>\n",
       "      <th>1749534</th>\n",
       "      <td>3934</td>\n",
       "      <td>1</td>\n",
       "      <td>1</td>\n",
       "      <td>63.71</td>\n",
       "      <td>72</td>\n",
       "      <td>156</td>\n",
       "      <td>18</td>\n",
       "      <td>18</td>\n",
       "      <td>18</td>\n",
       "    </tr>\n",
       "  </tbody>\n",
       "</table>\n",
       "<p>89794 rows × 9 columns</p>\n",
       "</div>"
      ],
      "text/plain": [
       "         Deployment  STA  Ap   RSSI  TXOP  Target  stamax  staunique  stavlq\n",
       "2              9391    1   1  64.87     1      30       9          9      28\n",
       "6              9391    1   1  64.87     2      54       9          9      28\n",
       "20             9391    1   1  64.87     8      54       9          9      28\n",
       "27             9391    1   1  64.87    11      30       9          9      28\n",
       "42             9391    1   1  64.87    16      54       9          9      28\n",
       "...             ...  ...  ..    ...   ...     ...     ...        ...     ...\n",
       "1749502        3934    1   1  63.71    60      30      18         18      18\n",
       "1749507        3934    1   1  63.71    62     234      18         18      18\n",
       "1749517        3934    1   1  63.71    66       0      18         18      18\n",
       "1749527        3934    1   1  63.71    70      30      18         18      18\n",
       "1749534        3934    1   1  63.71    72     156      18         18      18\n",
       "\n",
       "[89794 rows x 9 columns]"
      ]
     },
     "execution_count": 153,
     "metadata": {},
     "output_type": "execute_result"
    }
   ],
   "source": [
    "df[(df['STA']==1) & (df['Ap']==1)]"
   ]
  },
  {
   "cell_type": "code",
   "execution_count": 154,
   "id": "911432d2",
   "metadata": {
    "scrolled": true
   },
   "outputs": [
    {
     "data": {
      "text/plain": [
       "Deployment    7000\n",
       "STA             45\n",
       "Ap               9\n",
       "RSSI            19\n",
       "TXOP           100\n",
       "Target          13\n",
       "stamax           8\n",
       "staunique       10\n",
       "stavlq          45\n",
       "dtype: int64"
      ]
     },
     "execution_count": 154,
     "metadata": {},
     "output_type": "execute_result"
    }
   ],
   "source": [
    "df.nunique()"
   ]
  },
  {
   "cell_type": "code",
   "execution_count": 155,
   "id": "71f5ce39",
   "metadata": {},
   "outputs": [],
   "source": [
    "test['RSSI'] = test['RSSI']*-1"
   ]
  },
  {
   "cell_type": "code",
   "execution_count": 156,
   "id": "9ac603f6",
   "metadata": {},
   "outputs": [],
   "source": [
    "dept = np.array(test['Deployment'])"
   ]
  },
  {
   "cell_type": "code",
   "execution_count": 157,
   "id": "c2e476c5",
   "metadata": {},
   "outputs": [],
   "source": [
    "lsmt = test.groupby(['Deployment']).max()"
   ]
  },
  {
   "cell_type": "code",
   "execution_count": 158,
   "id": "0d7bec0a",
   "metadata": {},
   "outputs": [],
   "source": [
    "mslt = lsmt['STA'].to_dict()"
   ]
  },
  {
   "cell_type": "code",
   "execution_count": 159,
   "id": "51ff718b",
   "metadata": {},
   "outputs": [],
   "source": [
    "# 1- Last Station Max()\n",
    "lstmt = [mslt[n] for n in dept]"
   ]
  },
  {
   "cell_type": "code",
   "execution_count": 160,
   "id": "4359cc27",
   "metadata": {},
   "outputs": [],
   "source": [
    "usnt = test.groupby(['Deployment']).nunique()"
   ]
  },
  {
   "cell_type": "code",
   "execution_count": 161,
   "id": "3d26a3ba",
   "metadata": {},
   "outputs": [],
   "source": [
    "nsut = usnt['STA'].to_dict()"
   ]
  },
  {
   "cell_type": "code",
   "execution_count": 162,
   "id": "0526ac09",
   "metadata": {},
   "outputs": [],
   "source": [
    "# 2- number of activae STA per AP\n",
    "unst = [nsut[n] for n in dept]"
   ]
  },
  {
   "cell_type": "code",
   "execution_count": 163,
   "id": "3b15d22a",
   "metadata": {},
   "outputs": [],
   "source": [
    "ioqat = test.groupby(['Deployment'])['STA'].value_counts()"
   ]
  },
  {
   "cell_type": "code",
   "execution_count": 164,
   "id": "397eb296",
   "metadata": {},
   "outputs": [
    {
     "data": {
      "text/plain": [
       "array([[9373,   35],\n",
       "       [9373,   13],\n",
       "       [9373,    3],\n",
       "       ...,\n",
       "       [5144,    5],\n",
       "       [5144,    7],\n",
       "       [5144,   16]], dtype=int64)"
      ]
     },
     "execution_count": 164,
     "metadata": {},
     "output_type": "execute_result"
    }
   ],
   "source": [
    "pedt = np.array(test[['Deployment','STA']])\n",
    "pedt"
   ]
  },
  {
   "cell_type": "code",
   "execution_count": 165,
   "id": "8d14400e",
   "metadata": {},
   "outputs": [],
   "source": [
    "# 3 how many this staion used for each deployment\n",
    "aqoit = [ioqat[(n,m)] for n,m in pedt]"
   ]
  },
  {
   "cell_type": "code",
   "execution_count": 166,
   "id": "71be9f4f",
   "metadata": {},
   "outputs": [],
   "source": [
    "test['stamax'] = lstmt\n",
    "test['staunique'] = unst\n",
    "test['stavlq'] = aqoit"
   ]
  },
  {
   "cell_type": "code",
   "execution_count": 172,
   "id": "29ebf78c",
   "metadata": {},
   "outputs": [],
   "source": [
    "pred3 = rfc.predict(test.drop(['Deployment','TXOP','Ap','stamax'],axis=1))"
   ]
  },
  {
   "cell_type": "code",
   "execution_count": 173,
   "id": "797aeb95",
   "metadata": {},
   "outputs": [],
   "source": [
    "pred4 = model.predict(test.drop(['Deployment','TXOP','Ap','stamax'],axis=1))"
   ]
  },
  {
   "cell_type": "code",
   "execution_count": 184,
   "id": "85af2147",
   "metadata": {},
   "outputs": [
    {
     "data": {
      "text/plain": [
       "748858"
      ]
     },
     "execution_count": 184,
     "metadata": {},
     "output_type": "execute_result"
    }
   ],
   "source": [
    "(pred3 !=pred4).sum()"
   ]
  },
  {
   "cell_type": "code",
   "execution_count": 169,
   "id": "e4fc4090",
   "metadata": {},
   "outputs": [],
   "source": [
    "submit['Target'] = pred4"
   ]
  },
  {
   "cell_type": "code",
   "execution_count": 170,
   "id": "09e1f2dd",
   "metadata": {},
   "outputs": [
    {
     "data": {
      "text/html": [
       "<div>\n",
       "<style scoped>\n",
       "    .dataframe tbody tr th:only-of-type {\n",
       "        vertical-align: middle;\n",
       "    }\n",
       "\n",
       "    .dataframe tbody tr th {\n",
       "        vertical-align: top;\n",
       "    }\n",
       "\n",
       "    .dataframe thead th {\n",
       "        text-align: right;\n",
       "    }\n",
       "</style>\n",
       "<table border=\"1\" class=\"dataframe\">\n",
       "  <thead>\n",
       "    <tr style=\"text-align: right;\">\n",
       "      <th></th>\n",
       "      <th>ID</th>\n",
       "      <th>Target</th>\n",
       "    </tr>\n",
       "  </thead>\n",
       "  <tbody>\n",
       "    <tr>\n",
       "      <th>0</th>\n",
       "      <td>Deployment9373_TXOP1_AP9_STA35</td>\n",
       "      <td>258</td>\n",
       "    </tr>\n",
       "    <tr>\n",
       "      <th>1</th>\n",
       "      <td>Deployment9373_TXOP2_AP4_STA13</td>\n",
       "      <td>108</td>\n",
       "    </tr>\n",
       "    <tr>\n",
       "      <th>2</th>\n",
       "      <td>Deployment9373_TXOP2_AP1_STA3</td>\n",
       "      <td>78</td>\n",
       "    </tr>\n",
       "    <tr>\n",
       "      <th>3</th>\n",
       "      <td>Deployment9373_TXOP2_AP3_STA9</td>\n",
       "      <td>108</td>\n",
       "    </tr>\n",
       "    <tr>\n",
       "      <th>4</th>\n",
       "      <td>Deployment9373_TXOP3_AP4_STA14</td>\n",
       "      <td>30</td>\n",
       "    </tr>\n",
       "  </tbody>\n",
       "</table>\n",
       "</div>"
      ],
      "text/plain": [
       "                               ID  Target\n",
       "0  Deployment9373_TXOP1_AP9_STA35     258\n",
       "1  Deployment9373_TXOP2_AP4_STA13     108\n",
       "2   Deployment9373_TXOP2_AP1_STA3      78\n",
       "3   Deployment9373_TXOP2_AP3_STA9     108\n",
       "4  Deployment9373_TXOP3_AP4_STA14      30"
      ]
     },
     "execution_count": 170,
     "metadata": {},
     "output_type": "execute_result"
    }
   ],
   "source": [
    "submit.head()"
   ]
  },
  {
   "cell_type": "code",
   "execution_count": null,
   "id": "837f9310",
   "metadata": {},
   "outputs": [],
   "source": [
    "# submit.to_csv('sub3.csv',index=False)"
   ]
  },
  {
   "cell_type": "code",
   "execution_count": 196,
   "id": "a5cd06f7",
   "metadata": {},
   "outputs": [],
   "source": [
    "df = df[df['Target']!=0]"
   ]
  },
  {
   "cell_type": "code",
   "execution_count": 221,
   "id": "54b77562",
   "metadata": {
    "scrolled": true
   },
   "outputs": [],
   "source": [
    "X = df.drop(['Target','Deployment'],axis=1)\n",
    "y = df['Target']\n",
    "X_train, X_test, y_train,y_test = train_test_split(X,y,random_state=42)"
   ]
  },
  {
   "cell_type": "code",
   "execution_count": 222,
   "id": "fe478254",
   "metadata": {},
   "outputs": [
    {
     "name": "stdout",
     "output_type": "stream",
     "text": [
      "Train score: 0.82\n",
      "Test  score: 0.21\n"
     ]
    }
   ],
   "source": [
    "rfc = RandomForestClassifier()\n",
    "rfc.fit(X_train, y_train)\n",
    "# rfc.score(X_test,y_test)\n",
    "print('fitting done..')\n",
    "print(f'Train score: {round(rfc.score(X_train,y_train),2)}')\n",
    "print(f'Test  score: {round(rfc.score(X_test,y_test),2)}')"
   ]
  },
  {
   "cell_type": "code",
   "execution_count": 223,
   "id": "73e88f7e",
   "metadata": {},
   "outputs": [],
   "source": [
    "df.to_csv('riae.csv',index=False)"
   ]
  },
  {
   "cell_type": "code",
   "execution_count": 225,
   "id": "fa17a391",
   "metadata": {},
   "outputs": [
    {
     "data": {
      "text/html": [
       "<div>\n",
       "<style scoped>\n",
       "    .dataframe tbody tr th:only-of-type {\n",
       "        vertical-align: middle;\n",
       "    }\n",
       "\n",
       "    .dataframe tbody tr th {\n",
       "        vertical-align: top;\n",
       "    }\n",
       "\n",
       "    .dataframe thead th {\n",
       "        text-align: right;\n",
       "    }\n",
       "</style>\n",
       "<table border=\"1\" class=\"dataframe\">\n",
       "  <thead>\n",
       "    <tr style=\"text-align: right;\">\n",
       "      <th></th>\n",
       "      <th>Deployment</th>\n",
       "      <th>STA</th>\n",
       "      <th>Ap</th>\n",
       "      <th>RSSI</th>\n",
       "      <th>TXOP</th>\n",
       "      <th>Target</th>\n",
       "      <th>stamax</th>\n",
       "      <th>staunique</th>\n",
       "      <th>stavlq</th>\n",
       "    </tr>\n",
       "  </thead>\n",
       "  <tbody>\n",
       "    <tr>\n",
       "      <th>1654925</th>\n",
       "      <td>1</td>\n",
       "      <td>8</td>\n",
       "      <td>4</td>\n",
       "      <td>62.11</td>\n",
       "      <td>1</td>\n",
       "      <td>348</td>\n",
       "      <td>18</td>\n",
       "      <td>18</td>\n",
       "      <td>15</td>\n",
       "    </tr>\n",
       "    <tr>\n",
       "      <th>1654928</th>\n",
       "      <td>1</td>\n",
       "      <td>12</td>\n",
       "      <td>6</td>\n",
       "      <td>59.56</td>\n",
       "      <td>2</td>\n",
       "      <td>108</td>\n",
       "      <td>18</td>\n",
       "      <td>18</td>\n",
       "      <td>11</td>\n",
       "    </tr>\n",
       "    <tr>\n",
       "      <th>1654929</th>\n",
       "      <td>1</td>\n",
       "      <td>15</td>\n",
       "      <td>8</td>\n",
       "      <td>70.63</td>\n",
       "      <td>2</td>\n",
       "      <td>30</td>\n",
       "      <td>18</td>\n",
       "      <td>18</td>\n",
       "      <td>12</td>\n",
       "    </tr>\n",
       "    <tr>\n",
       "      <th>1654930</th>\n",
       "      <td>1</td>\n",
       "      <td>8</td>\n",
       "      <td>4</td>\n",
       "      <td>62.11</td>\n",
       "      <td>3</td>\n",
       "      <td>348</td>\n",
       "      <td>18</td>\n",
       "      <td>18</td>\n",
       "      <td>15</td>\n",
       "    </tr>\n",
       "    <tr>\n",
       "      <th>1654931</th>\n",
       "      <td>1</td>\n",
       "      <td>8</td>\n",
       "      <td>4</td>\n",
       "      <td>62.11</td>\n",
       "      <td>4</td>\n",
       "      <td>234</td>\n",
       "      <td>18</td>\n",
       "      <td>18</td>\n",
       "      <td>15</td>\n",
       "    </tr>\n",
       "    <tr>\n",
       "      <th>...</th>\n",
       "      <td>...</td>\n",
       "      <td>...</td>\n",
       "      <td>...</td>\n",
       "      <td>...</td>\n",
       "      <td>...</td>\n",
       "      <td>...</td>\n",
       "      <td>...</td>\n",
       "      <td>...</td>\n",
       "      <td>...</td>\n",
       "    </tr>\n",
       "    <tr>\n",
       "      <th>1655150</th>\n",
       "      <td>1</td>\n",
       "      <td>2</td>\n",
       "      <td>1</td>\n",
       "      <td>52.57</td>\n",
       "      <td>97</td>\n",
       "      <td>348</td>\n",
       "      <td>18</td>\n",
       "      <td>18</td>\n",
       "      <td>16</td>\n",
       "    </tr>\n",
       "    <tr>\n",
       "      <th>1655151</th>\n",
       "      <td>1</td>\n",
       "      <td>11</td>\n",
       "      <td>6</td>\n",
       "      <td>65.58</td>\n",
       "      <td>97</td>\n",
       "      <td>156</td>\n",
       "      <td>18</td>\n",
       "      <td>18</td>\n",
       "      <td>17</td>\n",
       "    </tr>\n",
       "    <tr>\n",
       "      <th>1655152</th>\n",
       "      <td>1</td>\n",
       "      <td>11</td>\n",
       "      <td>6</td>\n",
       "      <td>65.58</td>\n",
       "      <td>98</td>\n",
       "      <td>258</td>\n",
       "      <td>18</td>\n",
       "      <td>18</td>\n",
       "      <td>17</td>\n",
       "    </tr>\n",
       "    <tr>\n",
       "      <th>1655153</th>\n",
       "      <td>1</td>\n",
       "      <td>17</td>\n",
       "      <td>9</td>\n",
       "      <td>67.19</td>\n",
       "      <td>99</td>\n",
       "      <td>78</td>\n",
       "      <td>18</td>\n",
       "      <td>18</td>\n",
       "      <td>14</td>\n",
       "    </tr>\n",
       "    <tr>\n",
       "      <th>1655155</th>\n",
       "      <td>1</td>\n",
       "      <td>13</td>\n",
       "      <td>7</td>\n",
       "      <td>64.87</td>\n",
       "      <td>100</td>\n",
       "      <td>312</td>\n",
       "      <td>18</td>\n",
       "      <td>18</td>\n",
       "      <td>14</td>\n",
       "    </tr>\n",
       "  </tbody>\n",
       "</table>\n",
       "<p>198 rows × 9 columns</p>\n",
       "</div>"
      ],
      "text/plain": [
       "         Deployment  STA  Ap   RSSI  TXOP  Target  stamax  staunique  stavlq\n",
       "1654925           1    8   4  62.11     1     348      18         18      15\n",
       "1654928           1   12   6  59.56     2     108      18         18      11\n",
       "1654929           1   15   8  70.63     2      30      18         18      12\n",
       "1654930           1    8   4  62.11     3     348      18         18      15\n",
       "1654931           1    8   4  62.11     4     234      18         18      15\n",
       "...             ...  ...  ..    ...   ...     ...     ...        ...     ...\n",
       "1655150           1    2   1  52.57    97     348      18         18      16\n",
       "1655151           1   11   6  65.58    97     156      18         18      17\n",
       "1655152           1   11   6  65.58    98     258      18         18      17\n",
       "1655153           1   17   9  67.19    99      78      18         18      14\n",
       "1655155           1   13   7  64.87   100     312      18         18      14\n",
       "\n",
       "[198 rows x 9 columns]"
      ]
     },
     "execution_count": 225,
     "metadata": {},
     "output_type": "execute_result"
    }
   ],
   "source": [
    "df[df['Deployment']==1]"
   ]
  },
  {
   "cell_type": "code",
   "execution_count": null,
   "id": "27806fd5",
   "metadata": {},
   "outputs": [],
   "source": []
  }
 ],
 "metadata": {
  "kernelspec": {
   "display_name": "Python 3 (ipykernel)",
   "language": "python",
   "name": "python3"
  },
  "language_info": {
   "codemirror_mode": {
    "name": "ipython",
    "version": 3
   },
   "file_extension": ".py",
   "mimetype": "text/x-python",
   "name": "python",
   "nbconvert_exporter": "python",
   "pygments_lexer": "ipython3",
   "version": "3.10.8"
  }
 },
 "nbformat": 4,
 "nbformat_minor": 5
}
