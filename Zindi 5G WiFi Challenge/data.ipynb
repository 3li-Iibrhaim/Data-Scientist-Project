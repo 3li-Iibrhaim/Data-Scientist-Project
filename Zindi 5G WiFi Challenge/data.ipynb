{
 "cells": [
  {
   "cell_type": "code",
   "execution_count": 1,
   "id": "13d35d8e",
   "metadata": {},
   "outputs": [],
   "source": [
    "import pandas as pd\n",
    "import numpy as np"
   ]
  },
  {
   "cell_type": "code",
   "execution_count": 2,
   "id": "1de0f14b",
   "metadata": {},
   "outputs": [],
   "source": [
    "df = pd.read_csv('Train.csv')"
   ]
  },
  {
   "cell_type": "code",
   "execution_count": 3,
   "id": "8dbc40d8",
   "metadata": {},
   "outputs": [],
   "source": [
    "df_target = pd.read_csv('TrainTargets.csv')"
   ]
  },
  {
   "cell_type": "code",
   "execution_count": 4,
   "id": "61ee150d",
   "metadata": {},
   "outputs": [],
   "source": [
    "td = pd.read_csv('Test.csv')"
   ]
  },
  {
   "cell_type": "code",
   "execution_count": 5,
   "id": "8dee5bd5",
   "metadata": {},
   "outputs": [],
   "source": [
    "sub = pd.read_csv('SampleSubmission.csv')"
   ]
  },
  {
   "cell_type": "code",
   "execution_count": 6,
   "id": "970cea87",
   "metadata": {},
   "outputs": [
    {
     "data": {
      "text/html": [
       "<div>\n",
       "<style scoped>\n",
       "    .dataframe tbody tr th:only-of-type {\n",
       "        vertical-align: middle;\n",
       "    }\n",
       "\n",
       "    .dataframe tbody tr th {\n",
       "        vertical-align: top;\n",
       "    }\n",
       "\n",
       "    .dataframe thead th {\n",
       "        text-align: right;\n",
       "    }\n",
       "</style>\n",
       "<table border=\"1\" class=\"dataframe\">\n",
       "  <thead>\n",
       "    <tr style=\"text-align: right;\">\n",
       "      <th></th>\n",
       "      <th>Unnamed: 0</th>\n",
       "      <th>AP1</th>\n",
       "      <th>AP2</th>\n",
       "      <th>AP3</th>\n",
       "      <th>AP4</th>\n",
       "      <th>AP5</th>\n",
       "      <th>AP6</th>\n",
       "      <th>AP7</th>\n",
       "      <th>AP8</th>\n",
       "      <th>AP9</th>\n",
       "      <th>TP1</th>\n",
       "      <th>TP2</th>\n",
       "      <th>TP3</th>\n",
       "      <th>TP4</th>\n",
       "      <th>TP5</th>\n",
       "      <th>TP6</th>\n",
       "      <th>TP7</th>\n",
       "      <th>TP8</th>\n",
       "      <th>TP9</th>\n",
       "      <th>Deployment</th>\n",
       "    </tr>\n",
       "  </thead>\n",
       "  <tbody>\n",
       "    <tr>\n",
       "      <th>0</th>\n",
       "      <td>STA1</td>\n",
       "      <td>-64.87</td>\n",
       "      <td>-75.67</td>\n",
       "      <td>-85.98</td>\n",
       "      <td>-68.34</td>\n",
       "      <td>-77.09</td>\n",
       "      <td>-86.38</td>\n",
       "      <td>-83.07</td>\n",
       "      <td>-85.13</td>\n",
       "      <td>-89.73</td>\n",
       "      <td>NaN</td>\n",
       "      <td>NaN</td>\n",
       "      <td>NaN</td>\n",
       "      <td>NaN</td>\n",
       "      <td>NaN</td>\n",
       "      <td>NaN</td>\n",
       "      <td>NaN</td>\n",
       "      <td>NaN</td>\n",
       "      <td>NaN</td>\n",
       "      <td>9391</td>\n",
       "    </tr>\n",
       "    <tr>\n",
       "      <th>1</th>\n",
       "      <td>STA2</td>\n",
       "      <td>-79.89</td>\n",
       "      <td>-67.19</td>\n",
       "      <td>-75.01</td>\n",
       "      <td>-79.89</td>\n",
       "      <td>-67.19</td>\n",
       "      <td>-75.01</td>\n",
       "      <td>-85.82</td>\n",
       "      <td>-82.19</td>\n",
       "      <td>-83.96</td>\n",
       "      <td>NaN</td>\n",
       "      <td>NaN</td>\n",
       "      <td>NaN</td>\n",
       "      <td>NaN</td>\n",
       "      <td>NaN</td>\n",
       "      <td>NaN</td>\n",
       "      <td>NaN</td>\n",
       "      <td>NaN</td>\n",
       "      <td>NaN</td>\n",
       "      <td>9391</td>\n",
       "    </tr>\n",
       "    <tr>\n",
       "      <th>2</th>\n",
       "      <td>STA3</td>\n",
       "      <td>-87.19</td>\n",
       "      <td>-77.41</td>\n",
       "      <td>-55.58</td>\n",
       "      <td>-88.46</td>\n",
       "      <td>-81.24</td>\n",
       "      <td>-74.39</td>\n",
       "      <td>-91.72</td>\n",
       "      <td>-87.85</td>\n",
       "      <td>-85.67</td>\n",
       "      <td>NaN</td>\n",
       "      <td>NaN</td>\n",
       "      <td>NaN</td>\n",
       "      <td>NaN</td>\n",
       "      <td>NaN</td>\n",
       "      <td>NaN</td>\n",
       "      <td>NaN</td>\n",
       "      <td>NaN</td>\n",
       "      <td>NaN</td>\n",
       "      <td>9391</td>\n",
       "    </tr>\n",
       "    <tr>\n",
       "      <th>3</th>\n",
       "      <td>STA4</td>\n",
       "      <td>-81.35</td>\n",
       "      <td>-82.71</td>\n",
       "      <td>-87.90</td>\n",
       "      <td>-66.55</td>\n",
       "      <td>-72.62</td>\n",
       "      <td>-84.37</td>\n",
       "      <td>-69.83</td>\n",
       "      <td>-74.66</td>\n",
       "      <td>-84.86</td>\n",
       "      <td>NaN</td>\n",
       "      <td>NaN</td>\n",
       "      <td>NaN</td>\n",
       "      <td>NaN</td>\n",
       "      <td>NaN</td>\n",
       "      <td>NaN</td>\n",
       "      <td>NaN</td>\n",
       "      <td>NaN</td>\n",
       "      <td>NaN</td>\n",
       "      <td>9391</td>\n",
       "    </tr>\n",
       "    <tr>\n",
       "      <th>4</th>\n",
       "      <td>STA5</td>\n",
       "      <td>-85.33</td>\n",
       "      <td>-82.09</td>\n",
       "      <td>-84.40</td>\n",
       "      <td>-78.77</td>\n",
       "      <td>-66.72</td>\n",
       "      <td>-76.34</td>\n",
       "      <td>-78.77</td>\n",
       "      <td>-66.72</td>\n",
       "      <td>-76.34</td>\n",
       "      <td>NaN</td>\n",
       "      <td>NaN</td>\n",
       "      <td>NaN</td>\n",
       "      <td>NaN</td>\n",
       "      <td>NaN</td>\n",
       "      <td>NaN</td>\n",
       "      <td>NaN</td>\n",
       "      <td>NaN</td>\n",
       "      <td>NaN</td>\n",
       "      <td>9391</td>\n",
       "    </tr>\n",
       "  </tbody>\n",
       "</table>\n",
       "</div>"
      ],
      "text/plain": [
       "  Unnamed: 0    AP1    AP2    AP3    AP4    AP5    AP6    AP7    AP8    AP9  \\\n",
       "0       STA1 -64.87 -75.67 -85.98 -68.34 -77.09 -86.38 -83.07 -85.13 -89.73   \n",
       "1       STA2 -79.89 -67.19 -75.01 -79.89 -67.19 -75.01 -85.82 -82.19 -83.96   \n",
       "2       STA3 -87.19 -77.41 -55.58 -88.46 -81.24 -74.39 -91.72 -87.85 -85.67   \n",
       "3       STA4 -81.35 -82.71 -87.90 -66.55 -72.62 -84.37 -69.83 -74.66 -84.86   \n",
       "4       STA5 -85.33 -82.09 -84.40 -78.77 -66.72 -76.34 -78.77 -66.72 -76.34   \n",
       "\n",
       "   TP1  TP2  TP3  TP4  TP5  TP6  TP7  TP8  TP9  Deployment  \n",
       "0  NaN  NaN  NaN  NaN  NaN  NaN  NaN  NaN  NaN        9391  \n",
       "1  NaN  NaN  NaN  NaN  NaN  NaN  NaN  NaN  NaN        9391  \n",
       "2  NaN  NaN  NaN  NaN  NaN  NaN  NaN  NaN  NaN        9391  \n",
       "3  NaN  NaN  NaN  NaN  NaN  NaN  NaN  NaN  NaN        9391  \n",
       "4  NaN  NaN  NaN  NaN  NaN  NaN  NaN  NaN  NaN        9391  "
      ]
     },
     "execution_count": 6,
     "metadata": {},
     "output_type": "execute_result"
    }
   ],
   "source": [
    "df.head()"
   ]
  },
  {
   "cell_type": "code",
   "execution_count": 7,
   "id": "5a0f25e8",
   "metadata": {},
   "outputs": [
    {
     "data": {
      "text/html": [
       "<div>\n",
       "<style scoped>\n",
       "    .dataframe tbody tr th:only-of-type {\n",
       "        vertical-align: middle;\n",
       "    }\n",
       "\n",
       "    .dataframe tbody tr th {\n",
       "        vertical-align: top;\n",
       "    }\n",
       "\n",
       "    .dataframe thead th {\n",
       "        text-align: right;\n",
       "    }\n",
       "</style>\n",
       "<table border=\"1\" class=\"dataframe\">\n",
       "  <thead>\n",
       "    <tr style=\"text-align: right;\">\n",
       "      <th></th>\n",
       "      <th>ID</th>\n",
       "      <th>Target</th>\n",
       "    </tr>\n",
       "  </thead>\n",
       "  <tbody>\n",
       "    <tr>\n",
       "      <th>0</th>\n",
       "      <td>Deployment10000_TXOP100_AP3_STA9</td>\n",
       "      <td>108.0</td>\n",
       "    </tr>\n",
       "    <tr>\n",
       "      <th>1</th>\n",
       "      <td>Deployment10000_TXOP100_AP4_STA13</td>\n",
       "      <td>348.0</td>\n",
       "    </tr>\n",
       "    <tr>\n",
       "      <th>2</th>\n",
       "      <td>Deployment10000_TXOP100_AP9_STA36</td>\n",
       "      <td>210.0</td>\n",
       "    </tr>\n",
       "    <tr>\n",
       "      <th>3</th>\n",
       "      <td>Deployment10000_TXOP10_AP3_STA11</td>\n",
       "      <td>156.0</td>\n",
       "    </tr>\n",
       "    <tr>\n",
       "      <th>4</th>\n",
       "      <td>Deployment10000_TXOP10_AP7_STA25</td>\n",
       "      <td>0.0</td>\n",
       "    </tr>\n",
       "  </tbody>\n",
       "</table>\n",
       "</div>"
      ],
      "text/plain": [
       "                                  ID  Target\n",
       "0   Deployment10000_TXOP100_AP3_STA9   108.0\n",
       "1  Deployment10000_TXOP100_AP4_STA13   348.0\n",
       "2  Deployment10000_TXOP100_AP9_STA36   210.0\n",
       "3   Deployment10000_TXOP10_AP3_STA11   156.0\n",
       "4   Deployment10000_TXOP10_AP7_STA25     0.0"
      ]
     },
     "execution_count": 7,
     "metadata": {},
     "output_type": "execute_result"
    }
   ],
   "source": [
    "df_target.head()"
   ]
  },
  {
   "cell_type": "code",
   "execution_count": 8,
   "id": "908c4a30",
   "metadata": {},
   "outputs": [
    {
     "data": {
      "text/html": [
       "<div>\n",
       "<style scoped>\n",
       "    .dataframe tbody tr th:only-of-type {\n",
       "        vertical-align: middle;\n",
       "    }\n",
       "\n",
       "    .dataframe tbody tr th {\n",
       "        vertical-align: top;\n",
       "    }\n",
       "\n",
       "    .dataframe thead th {\n",
       "        text-align: right;\n",
       "    }\n",
       "</style>\n",
       "<table border=\"1\" class=\"dataframe\">\n",
       "  <thead>\n",
       "    <tr style=\"text-align: right;\">\n",
       "      <th></th>\n",
       "      <th>ID</th>\n",
       "      <th>Target</th>\n",
       "    </tr>\n",
       "  </thead>\n",
       "  <tbody>\n",
       "    <tr>\n",
       "      <th>0</th>\n",
       "      <td>Deployment1000_TXOP100_AP6_STA17</td>\n",
       "      <td>0</td>\n",
       "    </tr>\n",
       "    <tr>\n",
       "      <th>1</th>\n",
       "      <td>Deployment1000_TXOP10_AP6_STA17</td>\n",
       "      <td>0</td>\n",
       "    </tr>\n",
       "    <tr>\n",
       "      <th>2</th>\n",
       "      <td>Deployment1000_TXOP10_AP8_STA23</td>\n",
       "      <td>0</td>\n",
       "    </tr>\n",
       "    <tr>\n",
       "      <th>3</th>\n",
       "      <td>Deployment1000_TXOP11_AP1_STA3</td>\n",
       "      <td>0</td>\n",
       "    </tr>\n",
       "    <tr>\n",
       "      <th>4</th>\n",
       "      <td>Deployment1000_TXOP12_AP2_STA5</td>\n",
       "      <td>0</td>\n",
       "    </tr>\n",
       "  </tbody>\n",
       "</table>\n",
       "</div>"
      ],
      "text/plain": [
       "                                 ID  Target\n",
       "0  Deployment1000_TXOP100_AP6_STA17       0\n",
       "1   Deployment1000_TXOP10_AP6_STA17       0\n",
       "2   Deployment1000_TXOP10_AP8_STA23       0\n",
       "3    Deployment1000_TXOP11_AP1_STA3       0\n",
       "4    Deployment1000_TXOP12_AP2_STA5       0"
      ]
     },
     "execution_count": 8,
     "metadata": {},
     "output_type": "execute_result"
    }
   ],
   "source": [
    "sub.head()"
   ]
  },
  {
   "cell_type": "code",
   "execution_count": 9,
   "id": "5d62e7f8",
   "metadata": {},
   "outputs": [
    {
     "name": "stdout",
     "output_type": "stream",
     "text": [
      "<class 'pandas.core.frame.DataFrame'>\n",
      "RangeIndex: 888397 entries, 0 to 888396\n",
      "Data columns (total 20 columns):\n",
      " #   Column      Non-Null Count   Dtype  \n",
      "---  ------      --------------   -----  \n",
      " 0   Unnamed: 0  888397 non-null  object \n",
      " 1   AP1         888397 non-null  float64\n",
      " 2   AP2         888397 non-null  float64\n",
      " 3   AP3         888397 non-null  float64\n",
      " 4   AP4         888397 non-null  float64\n",
      " 5   AP5         888397 non-null  float64\n",
      " 6   AP6         888397 non-null  float64\n",
      " 7   AP7         888397 non-null  float64\n",
      " 8   AP8         888397 non-null  float64\n",
      " 9   AP9         888397 non-null  float64\n",
      " 10  TP1         700000 non-null  float64\n",
      " 11  TP2         700000 non-null  float64\n",
      " 12  TP3         700000 non-null  float64\n",
      " 13  TP4         700000 non-null  float64\n",
      " 14  TP5         700000 non-null  float64\n",
      " 15  TP6         700000 non-null  float64\n",
      " 16  TP7         700000 non-null  float64\n",
      " 17  TP8         700000 non-null  float64\n",
      " 18  TP9         700000 non-null  float64\n",
      " 19  Deployment  888397 non-null  int64  \n",
      "dtypes: float64(18), int64(1), object(1)\n",
      "memory usage: 135.6+ MB\n"
     ]
    }
   ],
   "source": [
    "df.info()"
   ]
  },
  {
   "cell_type": "code",
   "execution_count": 10,
   "id": "bb1bd916",
   "metadata": {},
   "outputs": [
    {
     "name": "stdout",
     "output_type": "stream",
     "text": [
      "<class 'pandas.core.frame.DataFrame'>\n",
      "RangeIndex: 1749596 entries, 0 to 1749595\n",
      "Data columns (total 2 columns):\n",
      " #   Column  Dtype  \n",
      "---  ------  -----  \n",
      " 0   ID      object \n",
      " 1   Target  float64\n",
      "dtypes: float64(1), object(1)\n",
      "memory usage: 26.7+ MB\n"
     ]
    }
   ],
   "source": [
    "df_target.info()"
   ]
  },
  {
   "cell_type": "code",
   "execution_count": 11,
   "id": "e83ee232",
   "metadata": {},
   "outputs": [
    {
     "name": "stdout",
     "output_type": "stream",
     "text": [
      "<class 'pandas.core.frame.DataFrame'>\n",
      "RangeIndex: 382008 entries, 0 to 382007\n",
      "Data columns (total 11 columns):\n",
      " #   Column      Non-Null Count   Dtype  \n",
      "---  ------      --------------   -----  \n",
      " 0   Unnamed: 0  382008 non-null  object \n",
      " 1   AP1         382008 non-null  float64\n",
      " 2   AP2         382008 non-null  float64\n",
      " 3   AP3         382008 non-null  float64\n",
      " 4   AP4         382008 non-null  float64\n",
      " 5   AP5         382008 non-null  float64\n",
      " 6   AP6         382008 non-null  float64\n",
      " 7   AP7         382008 non-null  float64\n",
      " 8   AP8         382008 non-null  float64\n",
      " 9   AP9         382008 non-null  float64\n",
      " 10  Deployment  382008 non-null  int64  \n",
      "dtypes: float64(9), int64(1), object(1)\n",
      "memory usage: 32.1+ MB\n"
     ]
    }
   ],
   "source": [
    "td.info()"
   ]
  },
  {
   "cell_type": "code",
   "execution_count": 12,
   "id": "65da577d",
   "metadata": {},
   "outputs": [
    {
     "name": "stdout",
     "output_type": "stream",
     "text": [
      "<class 'pandas.core.frame.DataFrame'>\n",
      "RangeIndex: 749924 entries, 0 to 749923\n",
      "Data columns (total 2 columns):\n",
      " #   Column  Non-Null Count   Dtype \n",
      "---  ------  --------------   ----- \n",
      " 0   ID      749924 non-null  object\n",
      " 1   Target  749924 non-null  int64 \n",
      "dtypes: int64(1), object(1)\n",
      "memory usage: 11.4+ MB\n"
     ]
    }
   ],
   "source": [
    "sub.info()"
   ]
  },
  {
   "cell_type": "markdown",
   "id": "e65f2d0e",
   "metadata": {},
   "source": [
    "# First most Prepare the Data"
   ]
  },
  {
   "cell_type": "markdown",
   "id": "1875105e",
   "metadata": {},
   "source": [
    "the first thing i most made a Data frame from\\\n",
    "`Deployment Txop Ap STA RSSI`"
   ]
  },
  {
   "cell_type": "markdown",
   "id": "b8feed58",
   "metadata": {},
   "source": [
    " **lets do the following**\n",
    "* make a data frame from deployment toxp ap sta rssi\n",
    "* make sample data from big data set"
   ]
  },
  {
   "cell_type": "code",
   "execution_count": 13,
   "id": "81c6e942",
   "metadata": {},
   "outputs": [],
   "source": [
    "dftest = df[:18]"
   ]
  },
  {
   "cell_type": "code",
   "execution_count": 14,
   "id": "34600e1e",
   "metadata": {},
   "outputs": [
    {
     "data": {
      "text/html": [
       "<div>\n",
       "<style scoped>\n",
       "    .dataframe tbody tr th:only-of-type {\n",
       "        vertical-align: middle;\n",
       "    }\n",
       "\n",
       "    .dataframe tbody tr th {\n",
       "        vertical-align: top;\n",
       "    }\n",
       "\n",
       "    .dataframe thead th {\n",
       "        text-align: right;\n",
       "    }\n",
       "</style>\n",
       "<table border=\"1\" class=\"dataframe\">\n",
       "  <thead>\n",
       "    <tr style=\"text-align: right;\">\n",
       "      <th></th>\n",
       "      <th>Unnamed: 0</th>\n",
       "      <th>AP1</th>\n",
       "      <th>AP2</th>\n",
       "      <th>AP3</th>\n",
       "      <th>AP4</th>\n",
       "      <th>AP5</th>\n",
       "      <th>AP6</th>\n",
       "      <th>AP7</th>\n",
       "      <th>AP8</th>\n",
       "      <th>AP9</th>\n",
       "      <th>TP1</th>\n",
       "      <th>TP2</th>\n",
       "      <th>TP3</th>\n",
       "      <th>TP4</th>\n",
       "      <th>TP5</th>\n",
       "      <th>TP6</th>\n",
       "      <th>TP7</th>\n",
       "      <th>TP8</th>\n",
       "      <th>TP9</th>\n",
       "      <th>Deployment</th>\n",
       "    </tr>\n",
       "  </thead>\n",
       "  <tbody>\n",
       "    <tr>\n",
       "      <th>0</th>\n",
       "      <td>STA1</td>\n",
       "      <td>-64.87</td>\n",
       "      <td>-75.67</td>\n",
       "      <td>-85.98</td>\n",
       "      <td>-68.34</td>\n",
       "      <td>-77.09</td>\n",
       "      <td>-86.38</td>\n",
       "      <td>-83.07</td>\n",
       "      <td>-85.13</td>\n",
       "      <td>-89.73</td>\n",
       "      <td>NaN</td>\n",
       "      <td>NaN</td>\n",
       "      <td>NaN</td>\n",
       "      <td>NaN</td>\n",
       "      <td>NaN</td>\n",
       "      <td>NaN</td>\n",
       "      <td>NaN</td>\n",
       "      <td>NaN</td>\n",
       "      <td>NaN</td>\n",
       "      <td>9391</td>\n",
       "    </tr>\n",
       "    <tr>\n",
       "      <th>1</th>\n",
       "      <td>STA2</td>\n",
       "      <td>-79.89</td>\n",
       "      <td>-67.19</td>\n",
       "      <td>-75.01</td>\n",
       "      <td>-79.89</td>\n",
       "      <td>-67.19</td>\n",
       "      <td>-75.01</td>\n",
       "      <td>-85.82</td>\n",
       "      <td>-82.19</td>\n",
       "      <td>-83.96</td>\n",
       "      <td>NaN</td>\n",
       "      <td>NaN</td>\n",
       "      <td>NaN</td>\n",
       "      <td>NaN</td>\n",
       "      <td>NaN</td>\n",
       "      <td>NaN</td>\n",
       "      <td>NaN</td>\n",
       "      <td>NaN</td>\n",
       "      <td>NaN</td>\n",
       "      <td>9391</td>\n",
       "    </tr>\n",
       "    <tr>\n",
       "      <th>2</th>\n",
       "      <td>STA3</td>\n",
       "      <td>-87.19</td>\n",
       "      <td>-77.41</td>\n",
       "      <td>-55.58</td>\n",
       "      <td>-88.46</td>\n",
       "      <td>-81.24</td>\n",
       "      <td>-74.39</td>\n",
       "      <td>-91.72</td>\n",
       "      <td>-87.85</td>\n",
       "      <td>-85.67</td>\n",
       "      <td>NaN</td>\n",
       "      <td>NaN</td>\n",
       "      <td>NaN</td>\n",
       "      <td>NaN</td>\n",
       "      <td>NaN</td>\n",
       "      <td>NaN</td>\n",
       "      <td>NaN</td>\n",
       "      <td>NaN</td>\n",
       "      <td>NaN</td>\n",
       "      <td>9391</td>\n",
       "    </tr>\n",
       "    <tr>\n",
       "      <th>3</th>\n",
       "      <td>STA4</td>\n",
       "      <td>-81.35</td>\n",
       "      <td>-82.71</td>\n",
       "      <td>-87.90</td>\n",
       "      <td>-66.55</td>\n",
       "      <td>-72.62</td>\n",
       "      <td>-84.37</td>\n",
       "      <td>-69.83</td>\n",
       "      <td>-74.66</td>\n",
       "      <td>-84.86</td>\n",
       "      <td>NaN</td>\n",
       "      <td>NaN</td>\n",
       "      <td>NaN</td>\n",
       "      <td>NaN</td>\n",
       "      <td>NaN</td>\n",
       "      <td>NaN</td>\n",
       "      <td>NaN</td>\n",
       "      <td>NaN</td>\n",
       "      <td>NaN</td>\n",
       "      <td>9391</td>\n",
       "    </tr>\n",
       "    <tr>\n",
       "      <th>4</th>\n",
       "      <td>STA5</td>\n",
       "      <td>-85.33</td>\n",
       "      <td>-82.09</td>\n",
       "      <td>-84.40</td>\n",
       "      <td>-78.77</td>\n",
       "      <td>-66.72</td>\n",
       "      <td>-76.34</td>\n",
       "      <td>-78.77</td>\n",
       "      <td>-66.72</td>\n",
       "      <td>-76.34</td>\n",
       "      <td>NaN</td>\n",
       "      <td>NaN</td>\n",
       "      <td>NaN</td>\n",
       "      <td>NaN</td>\n",
       "      <td>NaN</td>\n",
       "      <td>NaN</td>\n",
       "      <td>NaN</td>\n",
       "      <td>NaN</td>\n",
       "      <td>NaN</td>\n",
       "      <td>9391</td>\n",
       "    </tr>\n",
       "  </tbody>\n",
       "</table>\n",
       "</div>"
      ],
      "text/plain": [
       "  Unnamed: 0    AP1    AP2    AP3    AP4    AP5    AP6    AP7    AP8    AP9  \\\n",
       "0       STA1 -64.87 -75.67 -85.98 -68.34 -77.09 -86.38 -83.07 -85.13 -89.73   \n",
       "1       STA2 -79.89 -67.19 -75.01 -79.89 -67.19 -75.01 -85.82 -82.19 -83.96   \n",
       "2       STA3 -87.19 -77.41 -55.58 -88.46 -81.24 -74.39 -91.72 -87.85 -85.67   \n",
       "3       STA4 -81.35 -82.71 -87.90 -66.55 -72.62 -84.37 -69.83 -74.66 -84.86   \n",
       "4       STA5 -85.33 -82.09 -84.40 -78.77 -66.72 -76.34 -78.77 -66.72 -76.34   \n",
       "\n",
       "   TP1  TP2  TP3  TP4  TP5  TP6  TP7  TP8  TP9  Deployment  \n",
       "0  NaN  NaN  NaN  NaN  NaN  NaN  NaN  NaN  NaN        9391  \n",
       "1  NaN  NaN  NaN  NaN  NaN  NaN  NaN  NaN  NaN        9391  \n",
       "2  NaN  NaN  NaN  NaN  NaN  NaN  NaN  NaN  NaN        9391  \n",
       "3  NaN  NaN  NaN  NaN  NaN  NaN  NaN  NaN  NaN        9391  \n",
       "4  NaN  NaN  NaN  NaN  NaN  NaN  NaN  NaN  NaN        9391  "
      ]
     },
     "execution_count": 14,
     "metadata": {},
     "output_type": "execute_result"
    }
   ],
   "source": [
    "dftest.head()"
   ]
  },
  {
   "cell_type": "code",
   "execution_count": 15,
   "id": "c721c5be",
   "metadata": {
    "scrolled": true
   },
   "outputs": [],
   "source": [
    "df_ali = pd.DataFrame(dftest['Deployment'][:9])"
   ]
  },
  {
   "cell_type": "code",
   "execution_count": 16,
   "id": "24f1898e",
   "metadata": {},
   "outputs": [],
   "source": [
    "df_ali['STA'] = np.arange(1,10)"
   ]
  },
  {
   "cell_type": "code",
   "execution_count": 17,
   "id": "df0f3c37",
   "metadata": {},
   "outputs": [],
   "source": [
    "df_ali['Ap'] = np.arange(1,10)"
   ]
  },
  {
   "cell_type": "markdown",
   "id": "8e73b69b",
   "metadata": {},
   "source": [
    "**Creating** `RSSI` "
   ]
  },
  {
   "cell_type": "code",
   "execution_count": 18,
   "id": "544d19c6",
   "metadata": {},
   "outputs": [],
   "source": [
    "df_ali['RSSI'] = np.random.randint(0,64,9)"
   ]
  },
  {
   "cell_type": "code",
   "execution_count": 19,
   "id": "c194ca50",
   "metadata": {},
   "outputs": [],
   "source": [
    "df_ali['TPXO'] = np.arange(9)"
   ]
  },
  {
   "cell_type": "code",
   "execution_count": 20,
   "id": "8b680bd5",
   "metadata": {},
   "outputs": [],
   "source": [
    "df_ali['Target'] = np.random.randint(1,255,9)"
   ]
  },
  {
   "cell_type": "code",
   "execution_count": 21,
   "id": "5143fe71",
   "metadata": {},
   "outputs": [],
   "source": [
    "df_ali['Number of STA'] = len(df_ali['STA'])"
   ]
  },
  {
   "cell_type": "code",
   "execution_count": 22,
   "id": "d73c77c8",
   "metadata": {},
   "outputs": [
    {
     "data": {
      "text/html": [
       "<div>\n",
       "<style scoped>\n",
       "    .dataframe tbody tr th:only-of-type {\n",
       "        vertical-align: middle;\n",
       "    }\n",
       "\n",
       "    .dataframe tbody tr th {\n",
       "        vertical-align: top;\n",
       "    }\n",
       "\n",
       "    .dataframe thead th {\n",
       "        text-align: right;\n",
       "    }\n",
       "</style>\n",
       "<table border=\"1\" class=\"dataframe\">\n",
       "  <thead>\n",
       "    <tr style=\"text-align: right;\">\n",
       "      <th></th>\n",
       "      <th>Deployment</th>\n",
       "      <th>STA</th>\n",
       "      <th>Ap</th>\n",
       "      <th>RSSI</th>\n",
       "      <th>TPXO</th>\n",
       "      <th>Target</th>\n",
       "      <th>Number of STA</th>\n",
       "    </tr>\n",
       "  </thead>\n",
       "  <tbody>\n",
       "    <tr>\n",
       "      <th>0</th>\n",
       "      <td>9391</td>\n",
       "      <td>1</td>\n",
       "      <td>1</td>\n",
       "      <td>7</td>\n",
       "      <td>0</td>\n",
       "      <td>44</td>\n",
       "      <td>9</td>\n",
       "    </tr>\n",
       "    <tr>\n",
       "      <th>1</th>\n",
       "      <td>9391</td>\n",
       "      <td>2</td>\n",
       "      <td>2</td>\n",
       "      <td>55</td>\n",
       "      <td>1</td>\n",
       "      <td>222</td>\n",
       "      <td>9</td>\n",
       "    </tr>\n",
       "    <tr>\n",
       "      <th>2</th>\n",
       "      <td>9391</td>\n",
       "      <td>3</td>\n",
       "      <td>3</td>\n",
       "      <td>39</td>\n",
       "      <td>2</td>\n",
       "      <td>166</td>\n",
       "      <td>9</td>\n",
       "    </tr>\n",
       "    <tr>\n",
       "      <th>3</th>\n",
       "      <td>9391</td>\n",
       "      <td>4</td>\n",
       "      <td>4</td>\n",
       "      <td>27</td>\n",
       "      <td>3</td>\n",
       "      <td>107</td>\n",
       "      <td>9</td>\n",
       "    </tr>\n",
       "    <tr>\n",
       "      <th>4</th>\n",
       "      <td>9391</td>\n",
       "      <td>5</td>\n",
       "      <td>5</td>\n",
       "      <td>57</td>\n",
       "      <td>4</td>\n",
       "      <td>11</td>\n",
       "      <td>9</td>\n",
       "    </tr>\n",
       "    <tr>\n",
       "      <th>5</th>\n",
       "      <td>9391</td>\n",
       "      <td>6</td>\n",
       "      <td>6</td>\n",
       "      <td>47</td>\n",
       "      <td>5</td>\n",
       "      <td>212</td>\n",
       "      <td>9</td>\n",
       "    </tr>\n",
       "    <tr>\n",
       "      <th>6</th>\n",
       "      <td>9391</td>\n",
       "      <td>7</td>\n",
       "      <td>7</td>\n",
       "      <td>15</td>\n",
       "      <td>6</td>\n",
       "      <td>75</td>\n",
       "      <td>9</td>\n",
       "    </tr>\n",
       "    <tr>\n",
       "      <th>7</th>\n",
       "      <td>9391</td>\n",
       "      <td>8</td>\n",
       "      <td>8</td>\n",
       "      <td>9</td>\n",
       "      <td>7</td>\n",
       "      <td>201</td>\n",
       "      <td>9</td>\n",
       "    </tr>\n",
       "    <tr>\n",
       "      <th>8</th>\n",
       "      <td>9391</td>\n",
       "      <td>9</td>\n",
       "      <td>9</td>\n",
       "      <td>16</td>\n",
       "      <td>8</td>\n",
       "      <td>57</td>\n",
       "      <td>9</td>\n",
       "    </tr>\n",
       "  </tbody>\n",
       "</table>\n",
       "</div>"
      ],
      "text/plain": [
       "   Deployment  STA  Ap  RSSI  TPXO  Target  Number of STA\n",
       "0        9391    1   1     7     0      44              9\n",
       "1        9391    2   2    55     1     222              9\n",
       "2        9391    3   3    39     2     166              9\n",
       "3        9391    4   4    27     3     107              9\n",
       "4        9391    5   5    57     4      11              9\n",
       "5        9391    6   6    47     5     212              9\n",
       "6        9391    7   7    15     6      75              9\n",
       "7        9391    8   8     9     7     201              9\n",
       "8        9391    9   9    16     8      57              9"
      ]
     },
     "execution_count": 22,
     "metadata": {},
     "output_type": "execute_result"
    }
   ],
   "source": [
    "df_ali"
   ]
  },
  {
   "cell_type": "markdown",
   "id": "82028145",
   "metadata": {},
   "source": [
    "yes Now lets Creatting ali data set from small data apove\\\n",
    "step by step"
   ]
  },
  {
   "cell_type": "code",
   "execution_count": 23,
   "id": "c9b3fba4",
   "metadata": {
    "scrolled": false
   },
   "outputs": [
    {
     "data": {
      "text/html": [
       "<div>\n",
       "<style scoped>\n",
       "    .dataframe tbody tr th:only-of-type {\n",
       "        vertical-align: middle;\n",
       "    }\n",
       "\n",
       "    .dataframe tbody tr th {\n",
       "        vertical-align: top;\n",
       "    }\n",
       "\n",
       "    .dataframe thead th {\n",
       "        text-align: right;\n",
       "    }\n",
       "</style>\n",
       "<table border=\"1\" class=\"dataframe\">\n",
       "  <thead>\n",
       "    <tr style=\"text-align: right;\">\n",
       "      <th></th>\n",
       "      <th>Unnamed: 0</th>\n",
       "      <th>AP1</th>\n",
       "      <th>AP2</th>\n",
       "      <th>AP3</th>\n",
       "      <th>AP4</th>\n",
       "      <th>AP5</th>\n",
       "      <th>AP6</th>\n",
       "      <th>AP7</th>\n",
       "      <th>AP8</th>\n",
       "      <th>AP9</th>\n",
       "      <th>TP1</th>\n",
       "      <th>TP2</th>\n",
       "      <th>TP3</th>\n",
       "      <th>TP4</th>\n",
       "      <th>TP5</th>\n",
       "      <th>TP6</th>\n",
       "      <th>TP7</th>\n",
       "      <th>TP8</th>\n",
       "      <th>TP9</th>\n",
       "      <th>Deployment</th>\n",
       "    </tr>\n",
       "  </thead>\n",
       "  <tbody>\n",
       "    <tr>\n",
       "      <th>0</th>\n",
       "      <td>STA1</td>\n",
       "      <td>-64.87</td>\n",
       "      <td>-75.67</td>\n",
       "      <td>-85.98</td>\n",
       "      <td>-68.34</td>\n",
       "      <td>-77.09</td>\n",
       "      <td>-86.38</td>\n",
       "      <td>-83.07</td>\n",
       "      <td>-85.13</td>\n",
       "      <td>-89.73</td>\n",
       "      <td>NaN</td>\n",
       "      <td>NaN</td>\n",
       "      <td>NaN</td>\n",
       "      <td>NaN</td>\n",
       "      <td>NaN</td>\n",
       "      <td>NaN</td>\n",
       "      <td>NaN</td>\n",
       "      <td>NaN</td>\n",
       "      <td>NaN</td>\n",
       "      <td>9391</td>\n",
       "    </tr>\n",
       "    <tr>\n",
       "      <th>1</th>\n",
       "      <td>STA2</td>\n",
       "      <td>-79.89</td>\n",
       "      <td>-67.19</td>\n",
       "      <td>-75.01</td>\n",
       "      <td>-79.89</td>\n",
       "      <td>-67.19</td>\n",
       "      <td>-75.01</td>\n",
       "      <td>-85.82</td>\n",
       "      <td>-82.19</td>\n",
       "      <td>-83.96</td>\n",
       "      <td>NaN</td>\n",
       "      <td>NaN</td>\n",
       "      <td>NaN</td>\n",
       "      <td>NaN</td>\n",
       "      <td>NaN</td>\n",
       "      <td>NaN</td>\n",
       "      <td>NaN</td>\n",
       "      <td>NaN</td>\n",
       "      <td>NaN</td>\n",
       "      <td>9391</td>\n",
       "    </tr>\n",
       "    <tr>\n",
       "      <th>2</th>\n",
       "      <td>STA3</td>\n",
       "      <td>-87.19</td>\n",
       "      <td>-77.41</td>\n",
       "      <td>-55.58</td>\n",
       "      <td>-88.46</td>\n",
       "      <td>-81.24</td>\n",
       "      <td>-74.39</td>\n",
       "      <td>-91.72</td>\n",
       "      <td>-87.85</td>\n",
       "      <td>-85.67</td>\n",
       "      <td>NaN</td>\n",
       "      <td>NaN</td>\n",
       "      <td>NaN</td>\n",
       "      <td>NaN</td>\n",
       "      <td>NaN</td>\n",
       "      <td>NaN</td>\n",
       "      <td>NaN</td>\n",
       "      <td>NaN</td>\n",
       "      <td>NaN</td>\n",
       "      <td>9391</td>\n",
       "    </tr>\n",
       "    <tr>\n",
       "      <th>3</th>\n",
       "      <td>STA4</td>\n",
       "      <td>-81.35</td>\n",
       "      <td>-82.71</td>\n",
       "      <td>-87.90</td>\n",
       "      <td>-66.55</td>\n",
       "      <td>-72.62</td>\n",
       "      <td>-84.37</td>\n",
       "      <td>-69.83</td>\n",
       "      <td>-74.66</td>\n",
       "      <td>-84.86</td>\n",
       "      <td>NaN</td>\n",
       "      <td>NaN</td>\n",
       "      <td>NaN</td>\n",
       "      <td>NaN</td>\n",
       "      <td>NaN</td>\n",
       "      <td>NaN</td>\n",
       "      <td>NaN</td>\n",
       "      <td>NaN</td>\n",
       "      <td>NaN</td>\n",
       "      <td>9391</td>\n",
       "    </tr>\n",
       "    <tr>\n",
       "      <th>4</th>\n",
       "      <td>STA5</td>\n",
       "      <td>-85.33</td>\n",
       "      <td>-82.09</td>\n",
       "      <td>-84.40</td>\n",
       "      <td>-78.77</td>\n",
       "      <td>-66.72</td>\n",
       "      <td>-76.34</td>\n",
       "      <td>-78.77</td>\n",
       "      <td>-66.72</td>\n",
       "      <td>-76.34</td>\n",
       "      <td>NaN</td>\n",
       "      <td>NaN</td>\n",
       "      <td>NaN</td>\n",
       "      <td>NaN</td>\n",
       "      <td>NaN</td>\n",
       "      <td>NaN</td>\n",
       "      <td>NaN</td>\n",
       "      <td>NaN</td>\n",
       "      <td>NaN</td>\n",
       "      <td>9391</td>\n",
       "    </tr>\n",
       "    <tr>\n",
       "      <th>5</th>\n",
       "      <td>STA6</td>\n",
       "      <td>-90.66</td>\n",
       "      <td>-85.15</td>\n",
       "      <td>-80.28</td>\n",
       "      <td>-88.69</td>\n",
       "      <td>-80.28</td>\n",
       "      <td>-65.12</td>\n",
       "      <td>-89.23</td>\n",
       "      <td>-81.82</td>\n",
       "      <td>-71.76</td>\n",
       "      <td>NaN</td>\n",
       "      <td>NaN</td>\n",
       "      <td>NaN</td>\n",
       "      <td>NaN</td>\n",
       "      <td>NaN</td>\n",
       "      <td>NaN</td>\n",
       "      <td>NaN</td>\n",
       "      <td>NaN</td>\n",
       "      <td>NaN</td>\n",
       "      <td>9391</td>\n",
       "    </tr>\n",
       "    <tr>\n",
       "      <th>6</th>\n",
       "      <td>STA7</td>\n",
       "      <td>-85.04</td>\n",
       "      <td>-88.02</td>\n",
       "      <td>-92.19</td>\n",
       "      <td>-73.51</td>\n",
       "      <td>-82.33</td>\n",
       "      <td>-89.43</td>\n",
       "      <td>-63.71</td>\n",
       "      <td>-80.06</td>\n",
       "      <td>-88.61</td>\n",
       "      <td>NaN</td>\n",
       "      <td>NaN</td>\n",
       "      <td>NaN</td>\n",
       "      <td>NaN</td>\n",
       "      <td>NaN</td>\n",
       "      <td>NaN</td>\n",
       "      <td>NaN</td>\n",
       "      <td>NaN</td>\n",
       "      <td>NaN</td>\n",
       "      <td>9391</td>\n",
       "    </tr>\n",
       "    <tr>\n",
       "      <th>7</th>\n",
       "      <td>STA8</td>\n",
       "      <td>-87.85</td>\n",
       "      <td>-85.67</td>\n",
       "      <td>-87.19</td>\n",
       "      <td>-81.24</td>\n",
       "      <td>-74.39</td>\n",
       "      <td>-79.56</td>\n",
       "      <td>-77.41</td>\n",
       "      <td>-55.58</td>\n",
       "      <td>-74.39</td>\n",
       "      <td>NaN</td>\n",
       "      <td>NaN</td>\n",
       "      <td>NaN</td>\n",
       "      <td>NaN</td>\n",
       "      <td>NaN</td>\n",
       "      <td>NaN</td>\n",
       "      <td>NaN</td>\n",
       "      <td>NaN</td>\n",
       "      <td>NaN</td>\n",
       "      <td>9391</td>\n",
       "    </tr>\n",
       "    <tr>\n",
       "      <th>8</th>\n",
       "      <td>STA9</td>\n",
       "      <td>-94.79</td>\n",
       "      <td>-91.90</td>\n",
       "      <td>-90.02</td>\n",
       "      <td>-91.71</td>\n",
       "      <td>-86.82</td>\n",
       "      <td>-82.58</td>\n",
       "      <td>-89.53</td>\n",
       "      <td>-81.92</td>\n",
       "      <td>-69.12</td>\n",
       "      <td>NaN</td>\n",
       "      <td>NaN</td>\n",
       "      <td>NaN</td>\n",
       "      <td>NaN</td>\n",
       "      <td>NaN</td>\n",
       "      <td>NaN</td>\n",
       "      <td>NaN</td>\n",
       "      <td>NaN</td>\n",
       "      <td>NaN</td>\n",
       "      <td>9391</td>\n",
       "    </tr>\n",
       "    <tr>\n",
       "      <th>9</th>\n",
       "      <td>TXOP1</td>\n",
       "      <td>1.00</td>\n",
       "      <td>2.00</td>\n",
       "      <td>0.00</td>\n",
       "      <td>0.00</td>\n",
       "      <td>5.00</td>\n",
       "      <td>0.00</td>\n",
       "      <td>7.00</td>\n",
       "      <td>0.00</td>\n",
       "      <td>0.00</td>\n",
       "      <td>30.0</td>\n",
       "      <td>0.0</td>\n",
       "      <td>0.0</td>\n",
       "      <td>0.0</td>\n",
       "      <td>54.0</td>\n",
       "      <td>0.0</td>\n",
       "      <td>108.0</td>\n",
       "      <td>0.0</td>\n",
       "      <td>0.0</td>\n",
       "      <td>9391</td>\n",
       "    </tr>\n",
       "    <tr>\n",
       "      <th>10</th>\n",
       "      <td>TXOP2</td>\n",
       "      <td>1.00</td>\n",
       "      <td>2.00</td>\n",
       "      <td>0.00</td>\n",
       "      <td>0.00</td>\n",
       "      <td>0.00</td>\n",
       "      <td>6.00</td>\n",
       "      <td>0.00</td>\n",
       "      <td>0.00</td>\n",
       "      <td>0.00</td>\n",
       "      <td>54.0</td>\n",
       "      <td>30.0</td>\n",
       "      <td>0.0</td>\n",
       "      <td>0.0</td>\n",
       "      <td>0.0</td>\n",
       "      <td>156.0</td>\n",
       "      <td>0.0</td>\n",
       "      <td>0.0</td>\n",
       "      <td>0.0</td>\n",
       "      <td>9391</td>\n",
       "    </tr>\n",
       "    <tr>\n",
       "      <th>11</th>\n",
       "      <td>TXOP3</td>\n",
       "      <td>0.00</td>\n",
       "      <td>2.00</td>\n",
       "      <td>0.00</td>\n",
       "      <td>0.00</td>\n",
       "      <td>0.00</td>\n",
       "      <td>6.00</td>\n",
       "      <td>0.00</td>\n",
       "      <td>0.00</td>\n",
       "      <td>0.00</td>\n",
       "      <td>0.0</td>\n",
       "      <td>30.0</td>\n",
       "      <td>0.0</td>\n",
       "      <td>0.0</td>\n",
       "      <td>0.0</td>\n",
       "      <td>156.0</td>\n",
       "      <td>0.0</td>\n",
       "      <td>0.0</td>\n",
       "      <td>0.0</td>\n",
       "      <td>9391</td>\n",
       "    </tr>\n",
       "    <tr>\n",
       "      <th>12</th>\n",
       "      <td>TXOP4</td>\n",
       "      <td>0.00</td>\n",
       "      <td>0.00</td>\n",
       "      <td>3.00</td>\n",
       "      <td>0.00</td>\n",
       "      <td>0.00</td>\n",
       "      <td>6.00</td>\n",
       "      <td>0.00</td>\n",
       "      <td>0.00</td>\n",
       "      <td>0.00</td>\n",
       "      <td>0.0</td>\n",
       "      <td>0.0</td>\n",
       "      <td>156.0</td>\n",
       "      <td>0.0</td>\n",
       "      <td>0.0</td>\n",
       "      <td>78.0</td>\n",
       "      <td>0.0</td>\n",
       "      <td>0.0</td>\n",
       "      <td>0.0</td>\n",
       "      <td>9391</td>\n",
       "    </tr>\n",
       "    <tr>\n",
       "      <th>13</th>\n",
       "      <td>TXOP5</td>\n",
       "      <td>0.00</td>\n",
       "      <td>0.00</td>\n",
       "      <td>0.00</td>\n",
       "      <td>0.00</td>\n",
       "      <td>5.00</td>\n",
       "      <td>0.00</td>\n",
       "      <td>0.00</td>\n",
       "      <td>0.00</td>\n",
       "      <td>0.00</td>\n",
       "      <td>0.0</td>\n",
       "      <td>0.0</td>\n",
       "      <td>0.0</td>\n",
       "      <td>0.0</td>\n",
       "      <td>258.0</td>\n",
       "      <td>0.0</td>\n",
       "      <td>0.0</td>\n",
       "      <td>0.0</td>\n",
       "      <td>0.0</td>\n",
       "      <td>9391</td>\n",
       "    </tr>\n",
       "    <tr>\n",
       "      <th>14</th>\n",
       "      <td>TXOP6</td>\n",
       "      <td>0.00</td>\n",
       "      <td>0.00</td>\n",
       "      <td>0.00</td>\n",
       "      <td>0.00</td>\n",
       "      <td>0.00</td>\n",
       "      <td>6.00</td>\n",
       "      <td>7.00</td>\n",
       "      <td>0.00</td>\n",
       "      <td>0.00</td>\n",
       "      <td>0.0</td>\n",
       "      <td>0.0</td>\n",
       "      <td>0.0</td>\n",
       "      <td>0.0</td>\n",
       "      <td>0.0</td>\n",
       "      <td>156.0</td>\n",
       "      <td>234.0</td>\n",
       "      <td>0.0</td>\n",
       "      <td>0.0</td>\n",
       "      <td>9391</td>\n",
       "    </tr>\n",
       "    <tr>\n",
       "      <th>15</th>\n",
       "      <td>TXOP7</td>\n",
       "      <td>0.00</td>\n",
       "      <td>0.00</td>\n",
       "      <td>0.00</td>\n",
       "      <td>0.00</td>\n",
       "      <td>5.00</td>\n",
       "      <td>0.00</td>\n",
       "      <td>7.00</td>\n",
       "      <td>8.00</td>\n",
       "      <td>9.00</td>\n",
       "      <td>0.0</td>\n",
       "      <td>0.0</td>\n",
       "      <td>0.0</td>\n",
       "      <td>0.0</td>\n",
       "      <td>0.0</td>\n",
       "      <td>0.0</td>\n",
       "      <td>78.0</td>\n",
       "      <td>78.0</td>\n",
       "      <td>54.0</td>\n",
       "      <td>9391</td>\n",
       "    </tr>\n",
       "    <tr>\n",
       "      <th>16</th>\n",
       "      <td>TXOP8</td>\n",
       "      <td>1.00</td>\n",
       "      <td>2.00</td>\n",
       "      <td>0.00</td>\n",
       "      <td>0.00</td>\n",
       "      <td>0.00</td>\n",
       "      <td>0.00</td>\n",
       "      <td>7.00</td>\n",
       "      <td>0.00</td>\n",
       "      <td>0.00</td>\n",
       "      <td>54.0</td>\n",
       "      <td>54.0</td>\n",
       "      <td>0.0</td>\n",
       "      <td>0.0</td>\n",
       "      <td>0.0</td>\n",
       "      <td>0.0</td>\n",
       "      <td>156.0</td>\n",
       "      <td>0.0</td>\n",
       "      <td>0.0</td>\n",
       "      <td>9391</td>\n",
       "    </tr>\n",
       "    <tr>\n",
       "      <th>17</th>\n",
       "      <td>TXOP9</td>\n",
       "      <td>0.00</td>\n",
       "      <td>0.00</td>\n",
       "      <td>3.00</td>\n",
       "      <td>4.00</td>\n",
       "      <td>5.00</td>\n",
       "      <td>6.00</td>\n",
       "      <td>0.00</td>\n",
       "      <td>0.00</td>\n",
       "      <td>0.00</td>\n",
       "      <td>0.0</td>\n",
       "      <td>0.0</td>\n",
       "      <td>108.0</td>\n",
       "      <td>0.0</td>\n",
       "      <td>30.0</td>\n",
       "      <td>78.0</td>\n",
       "      <td>0.0</td>\n",
       "      <td>0.0</td>\n",
       "      <td>0.0</td>\n",
       "      <td>9391</td>\n",
       "    </tr>\n",
       "  </tbody>\n",
       "</table>\n",
       "</div>"
      ],
      "text/plain": [
       "   Unnamed: 0    AP1    AP2    AP3    AP4    AP5    AP6    AP7    AP8    AP9  \\\n",
       "0        STA1 -64.87 -75.67 -85.98 -68.34 -77.09 -86.38 -83.07 -85.13 -89.73   \n",
       "1        STA2 -79.89 -67.19 -75.01 -79.89 -67.19 -75.01 -85.82 -82.19 -83.96   \n",
       "2        STA3 -87.19 -77.41 -55.58 -88.46 -81.24 -74.39 -91.72 -87.85 -85.67   \n",
       "3        STA4 -81.35 -82.71 -87.90 -66.55 -72.62 -84.37 -69.83 -74.66 -84.86   \n",
       "4        STA5 -85.33 -82.09 -84.40 -78.77 -66.72 -76.34 -78.77 -66.72 -76.34   \n",
       "5        STA6 -90.66 -85.15 -80.28 -88.69 -80.28 -65.12 -89.23 -81.82 -71.76   \n",
       "6        STA7 -85.04 -88.02 -92.19 -73.51 -82.33 -89.43 -63.71 -80.06 -88.61   \n",
       "7        STA8 -87.85 -85.67 -87.19 -81.24 -74.39 -79.56 -77.41 -55.58 -74.39   \n",
       "8        STA9 -94.79 -91.90 -90.02 -91.71 -86.82 -82.58 -89.53 -81.92 -69.12   \n",
       "9       TXOP1   1.00   2.00   0.00   0.00   5.00   0.00   7.00   0.00   0.00   \n",
       "10      TXOP2   1.00   2.00   0.00   0.00   0.00   6.00   0.00   0.00   0.00   \n",
       "11      TXOP3   0.00   2.00   0.00   0.00   0.00   6.00   0.00   0.00   0.00   \n",
       "12      TXOP4   0.00   0.00   3.00   0.00   0.00   6.00   0.00   0.00   0.00   \n",
       "13      TXOP5   0.00   0.00   0.00   0.00   5.00   0.00   0.00   0.00   0.00   \n",
       "14      TXOP6   0.00   0.00   0.00   0.00   0.00   6.00   7.00   0.00   0.00   \n",
       "15      TXOP7   0.00   0.00   0.00   0.00   5.00   0.00   7.00   8.00   9.00   \n",
       "16      TXOP8   1.00   2.00   0.00   0.00   0.00   0.00   7.00   0.00   0.00   \n",
       "17      TXOP9   0.00   0.00   3.00   4.00   5.00   6.00   0.00   0.00   0.00   \n",
       "\n",
       "     TP1   TP2    TP3  TP4    TP5    TP6    TP7   TP8   TP9  Deployment  \n",
       "0    NaN   NaN    NaN  NaN    NaN    NaN    NaN   NaN   NaN        9391  \n",
       "1    NaN   NaN    NaN  NaN    NaN    NaN    NaN   NaN   NaN        9391  \n",
       "2    NaN   NaN    NaN  NaN    NaN    NaN    NaN   NaN   NaN        9391  \n",
       "3    NaN   NaN    NaN  NaN    NaN    NaN    NaN   NaN   NaN        9391  \n",
       "4    NaN   NaN    NaN  NaN    NaN    NaN    NaN   NaN   NaN        9391  \n",
       "5    NaN   NaN    NaN  NaN    NaN    NaN    NaN   NaN   NaN        9391  \n",
       "6    NaN   NaN    NaN  NaN    NaN    NaN    NaN   NaN   NaN        9391  \n",
       "7    NaN   NaN    NaN  NaN    NaN    NaN    NaN   NaN   NaN        9391  \n",
       "8    NaN   NaN    NaN  NaN    NaN    NaN    NaN   NaN   NaN        9391  \n",
       "9   30.0   0.0    0.0  0.0   54.0    0.0  108.0   0.0   0.0        9391  \n",
       "10  54.0  30.0    0.0  0.0    0.0  156.0    0.0   0.0   0.0        9391  \n",
       "11   0.0  30.0    0.0  0.0    0.0  156.0    0.0   0.0   0.0        9391  \n",
       "12   0.0   0.0  156.0  0.0    0.0   78.0    0.0   0.0   0.0        9391  \n",
       "13   0.0   0.0    0.0  0.0  258.0    0.0    0.0   0.0   0.0        9391  \n",
       "14   0.0   0.0    0.0  0.0    0.0  156.0  234.0   0.0   0.0        9391  \n",
       "15   0.0   0.0    0.0  0.0    0.0    0.0   78.0  78.0  54.0        9391  \n",
       "16  54.0  54.0    0.0  0.0    0.0    0.0  156.0   0.0   0.0        9391  \n",
       "17   0.0   0.0  108.0  0.0   30.0   78.0    0.0   0.0   0.0        9391  "
      ]
     },
     "execution_count": 23,
     "metadata": {},
     "output_type": "execute_result"
    }
   ],
   "source": [
    "dftest.head(20)"
   ]
  },
  {
   "cell_type": "code",
   "execution_count": 24,
   "id": "447cf15c",
   "metadata": {},
   "outputs": [],
   "source": [
    "# dftest[dftest['Unnamed: 0'].str.contains(\"TXO\")]"
   ]
  },
  {
   "cell_type": "markdown",
   "id": "36cf382f",
   "metadata": {},
   "source": [
    "## 2- Creating `Station` Columns (STA)"
   ]
  },
  {
   "cell_type": "code",
   "execution_count": 25,
   "id": "d778a4fe",
   "metadata": {},
   "outputs": [],
   "source": [
    "mk = dftest[dftest['Unnamed: 0'].str.contains(\"TXOP\")][['AP1' ,'AP2','AP3','AP4','AP5','AP6','AP7','AP8','AP9']]"
   ]
  },
  {
   "cell_type": "code",
   "execution_count": 26,
   "id": "267346bf",
   "metadata": {
    "scrolled": true
   },
   "outputs": [
    {
     "data": {
      "text/plain": [
       "array([[1, 2, 0, 0, 5, 0, 7, 0, 0],\n",
       "       [1, 2, 0, 0, 0, 6, 0, 0, 0],\n",
       "       [0, 2, 0, 0, 0, 6, 0, 0, 0],\n",
       "       [0, 0, 3, 0, 0, 6, 0, 0, 0],\n",
       "       [0, 0, 0, 0, 5, 0, 0, 0, 0],\n",
       "       [0, 0, 0, 0, 0, 6, 7, 0, 0],\n",
       "       [0, 0, 0, 0, 5, 0, 7, 8, 9],\n",
       "       [1, 2, 0, 0, 0, 0, 7, 0, 0],\n",
       "       [0, 0, 3, 4, 5, 6, 0, 0, 0]])"
      ]
     },
     "execution_count": 26,
     "metadata": {},
     "output_type": "execute_result"
    }
   ],
   "source": [
    "io = np.array(mk,dtype=int)\n",
    "io"
   ]
  },
  {
   "cell_type": "code",
   "execution_count": 27,
   "id": "d2aef225",
   "metadata": {},
   "outputs": [
    {
     "data": {
      "text/plain": [
       "array([1, 2, 5, 7, 1, 2, 6, 2, 6, 3, 6, 5, 6, 7, 5, 7, 8, 9, 1, 2, 7, 3,\n",
       "       4, 5, 6])"
      ]
     },
     "execution_count": 27,
     "metadata": {},
     "output_type": "execute_result"
    }
   ],
   "source": [
    "oi = io[np.where(io!=0)]\n",
    "\n",
    "oi"
   ]
  },
  {
   "cell_type": "code",
   "execution_count": 28,
   "id": "ed239e05",
   "metadata": {},
   "outputs": [
    {
     "data": {
      "text/plain": [
       "25"
      ]
     },
     "execution_count": 28,
     "metadata": {},
     "output_type": "execute_result"
    }
   ],
   "source": [
    "len(io[np.where(io!=0)])"
   ]
  },
  {
   "cell_type": "code",
   "execution_count": 29,
   "id": "a3a6c1fe",
   "metadata": {
    "scrolled": true
   },
   "outputs": [
    {
     "data": {
      "text/plain": [
       "25"
      ]
     },
     "execution_count": 29,
     "metadata": {},
     "output_type": "execute_result"
    }
   ],
   "source": [
    "len(oi)"
   ]
  },
  {
   "cell_type": "code",
   "execution_count": 30,
   "id": "20cafa77",
   "metadata": {},
   "outputs": [],
   "source": [
    "df_ali = pd.DataFrame(oi,columns=['SAT'])"
   ]
  },
  {
   "cell_type": "code",
   "execution_count": 31,
   "id": "6008295f",
   "metadata": {},
   "outputs": [
    {
     "data": {
      "text/html": [
       "<div>\n",
       "<style scoped>\n",
       "    .dataframe tbody tr th:only-of-type {\n",
       "        vertical-align: middle;\n",
       "    }\n",
       "\n",
       "    .dataframe tbody tr th {\n",
       "        vertical-align: top;\n",
       "    }\n",
       "\n",
       "    .dataframe thead th {\n",
       "        text-align: right;\n",
       "    }\n",
       "</style>\n",
       "<table border=\"1\" class=\"dataframe\">\n",
       "  <thead>\n",
       "    <tr style=\"text-align: right;\">\n",
       "      <th></th>\n",
       "      <th>SAT</th>\n",
       "    </tr>\n",
       "  </thead>\n",
       "  <tbody>\n",
       "    <tr>\n",
       "      <th>0</th>\n",
       "      <td>1</td>\n",
       "    </tr>\n",
       "    <tr>\n",
       "      <th>1</th>\n",
       "      <td>2</td>\n",
       "    </tr>\n",
       "    <tr>\n",
       "      <th>2</th>\n",
       "      <td>5</td>\n",
       "    </tr>\n",
       "    <tr>\n",
       "      <th>3</th>\n",
       "      <td>7</td>\n",
       "    </tr>\n",
       "    <tr>\n",
       "      <th>4</th>\n",
       "      <td>1</td>\n",
       "    </tr>\n",
       "  </tbody>\n",
       "</table>\n",
       "</div>"
      ],
      "text/plain": [
       "   SAT\n",
       "0    1\n",
       "1    2\n",
       "2    5\n",
       "3    7\n",
       "4    1"
      ]
     },
     "execution_count": 31,
     "metadata": {},
     "output_type": "execute_result"
    }
   ],
   "source": [
    "df_ali.head()"
   ]
  },
  {
   "cell_type": "markdown",
   "id": "b393f6f1",
   "metadata": {},
   "source": [
    "## 3- Creating `Access Point` Columns (AP)"
   ]
  },
  {
   "cell_type": "code",
   "execution_count": 32,
   "id": "d909e900",
   "metadata": {},
   "outputs": [
    {
     "data": {
      "text/plain": [
       "array([1, 2, 3, 4, 5, 6, 7, 8, 9])"
      ]
     },
     "execution_count": 32,
     "metadata": {},
     "output_type": "execute_result"
    }
   ],
   "source": [
    "num = np.arange(1,10)\n",
    "num"
   ]
  },
  {
   "cell_type": "code",
   "execution_count": 33,
   "id": "2297f20d",
   "metadata": {},
   "outputs": [],
   "source": [
    "ap = np.array([num for n in range(len(mk))])"
   ]
  },
  {
   "cell_type": "code",
   "execution_count": 34,
   "id": "d0d5fcde",
   "metadata": {},
   "outputs": [
    {
     "data": {
      "text/plain": [
       "array([[1, 2, 3, 4, 5, 6, 7, 8, 9],\n",
       "       [1, 2, 3, 4, 5, 6, 7, 8, 9],\n",
       "       [1, 2, 3, 4, 5, 6, 7, 8, 9],\n",
       "       [1, 2, 3, 4, 5, 6, 7, 8, 9],\n",
       "       [1, 2, 3, 4, 5, 6, 7, 8, 9],\n",
       "       [1, 2, 3, 4, 5, 6, 7, 8, 9],\n",
       "       [1, 2, 3, 4, 5, 6, 7, 8, 9],\n",
       "       [1, 2, 3, 4, 5, 6, 7, 8, 9],\n",
       "       [1, 2, 3, 4, 5, 6, 7, 8, 9]])"
      ]
     },
     "execution_count": 34,
     "metadata": {},
     "output_type": "execute_result"
    }
   ],
   "source": [
    "ap"
   ]
  },
  {
   "cell_type": "code",
   "execution_count": 35,
   "id": "8932c322",
   "metadata": {},
   "outputs": [
    {
     "data": {
      "text/plain": [
       "array([1, 2, 5, 7, 1, 2, 6, 2, 6, 3, 6, 5, 6, 7, 5, 7, 8, 9, 1, 2, 7, 3,\n",
       "       4, 5, 6])"
      ]
     },
     "execution_count": 35,
     "metadata": {},
     "output_type": "execute_result"
    }
   ],
   "source": [
    "pa = ap[np.where(io!=0)]\n",
    "pa"
   ]
  },
  {
   "cell_type": "code",
   "execution_count": 36,
   "id": "aa2467af",
   "metadata": {},
   "outputs": [],
   "source": [
    "df_ali['AP'] = pa"
   ]
  },
  {
   "cell_type": "markdown",
   "id": "8f2d0abe",
   "metadata": {},
   "source": [
    "## 4- Creating `Received Signal Strength Indicator` Columns (RSSI)"
   ]
  },
  {
   "cell_type": "code",
   "execution_count": 37,
   "id": "3e443a82",
   "metadata": {},
   "outputs": [
    {
     "data": {
      "text/html": [
       "<div>\n",
       "<style scoped>\n",
       "    .dataframe tbody tr th:only-of-type {\n",
       "        vertical-align: middle;\n",
       "    }\n",
       "\n",
       "    .dataframe tbody tr th {\n",
       "        vertical-align: top;\n",
       "    }\n",
       "\n",
       "    .dataframe thead th {\n",
       "        text-align: right;\n",
       "    }\n",
       "</style>\n",
       "<table border=\"1\" class=\"dataframe\">\n",
       "  <thead>\n",
       "    <tr style=\"text-align: right;\">\n",
       "      <th></th>\n",
       "      <th>Unnamed: 0</th>\n",
       "      <th>AP1</th>\n",
       "      <th>AP2</th>\n",
       "      <th>AP3</th>\n",
       "      <th>AP4</th>\n",
       "      <th>AP5</th>\n",
       "      <th>AP6</th>\n",
       "      <th>AP7</th>\n",
       "      <th>AP8</th>\n",
       "      <th>AP9</th>\n",
       "    </tr>\n",
       "  </thead>\n",
       "  <tbody>\n",
       "    <tr>\n",
       "      <th>0</th>\n",
       "      <td>STA1</td>\n",
       "      <td>-64.87</td>\n",
       "      <td>-75.67</td>\n",
       "      <td>-85.98</td>\n",
       "      <td>-68.34</td>\n",
       "      <td>-77.09</td>\n",
       "      <td>-86.38</td>\n",
       "      <td>-83.07</td>\n",
       "      <td>-85.13</td>\n",
       "      <td>-89.73</td>\n",
       "    </tr>\n",
       "    <tr>\n",
       "      <th>1</th>\n",
       "      <td>STA2</td>\n",
       "      <td>-79.89</td>\n",
       "      <td>-67.19</td>\n",
       "      <td>-75.01</td>\n",
       "      <td>-79.89</td>\n",
       "      <td>-67.19</td>\n",
       "      <td>-75.01</td>\n",
       "      <td>-85.82</td>\n",
       "      <td>-82.19</td>\n",
       "      <td>-83.96</td>\n",
       "    </tr>\n",
       "    <tr>\n",
       "      <th>2</th>\n",
       "      <td>STA3</td>\n",
       "      <td>-87.19</td>\n",
       "      <td>-77.41</td>\n",
       "      <td>-55.58</td>\n",
       "      <td>-88.46</td>\n",
       "      <td>-81.24</td>\n",
       "      <td>-74.39</td>\n",
       "      <td>-91.72</td>\n",
       "      <td>-87.85</td>\n",
       "      <td>-85.67</td>\n",
       "    </tr>\n",
       "    <tr>\n",
       "      <th>3</th>\n",
       "      <td>STA4</td>\n",
       "      <td>-81.35</td>\n",
       "      <td>-82.71</td>\n",
       "      <td>-87.90</td>\n",
       "      <td>-66.55</td>\n",
       "      <td>-72.62</td>\n",
       "      <td>-84.37</td>\n",
       "      <td>-69.83</td>\n",
       "      <td>-74.66</td>\n",
       "      <td>-84.86</td>\n",
       "    </tr>\n",
       "    <tr>\n",
       "      <th>4</th>\n",
       "      <td>STA5</td>\n",
       "      <td>-85.33</td>\n",
       "      <td>-82.09</td>\n",
       "      <td>-84.40</td>\n",
       "      <td>-78.77</td>\n",
       "      <td>-66.72</td>\n",
       "      <td>-76.34</td>\n",
       "      <td>-78.77</td>\n",
       "      <td>-66.72</td>\n",
       "      <td>-76.34</td>\n",
       "    </tr>\n",
       "    <tr>\n",
       "      <th>5</th>\n",
       "      <td>STA6</td>\n",
       "      <td>-90.66</td>\n",
       "      <td>-85.15</td>\n",
       "      <td>-80.28</td>\n",
       "      <td>-88.69</td>\n",
       "      <td>-80.28</td>\n",
       "      <td>-65.12</td>\n",
       "      <td>-89.23</td>\n",
       "      <td>-81.82</td>\n",
       "      <td>-71.76</td>\n",
       "    </tr>\n",
       "    <tr>\n",
       "      <th>6</th>\n",
       "      <td>STA7</td>\n",
       "      <td>-85.04</td>\n",
       "      <td>-88.02</td>\n",
       "      <td>-92.19</td>\n",
       "      <td>-73.51</td>\n",
       "      <td>-82.33</td>\n",
       "      <td>-89.43</td>\n",
       "      <td>-63.71</td>\n",
       "      <td>-80.06</td>\n",
       "      <td>-88.61</td>\n",
       "    </tr>\n",
       "    <tr>\n",
       "      <th>7</th>\n",
       "      <td>STA8</td>\n",
       "      <td>-87.85</td>\n",
       "      <td>-85.67</td>\n",
       "      <td>-87.19</td>\n",
       "      <td>-81.24</td>\n",
       "      <td>-74.39</td>\n",
       "      <td>-79.56</td>\n",
       "      <td>-77.41</td>\n",
       "      <td>-55.58</td>\n",
       "      <td>-74.39</td>\n",
       "    </tr>\n",
       "    <tr>\n",
       "      <th>8</th>\n",
       "      <td>STA9</td>\n",
       "      <td>-94.79</td>\n",
       "      <td>-91.90</td>\n",
       "      <td>-90.02</td>\n",
       "      <td>-91.71</td>\n",
       "      <td>-86.82</td>\n",
       "      <td>-82.58</td>\n",
       "      <td>-89.53</td>\n",
       "      <td>-81.92</td>\n",
       "      <td>-69.12</td>\n",
       "    </tr>\n",
       "  </tbody>\n",
       "</table>\n",
       "</div>"
      ],
      "text/plain": [
       "  Unnamed: 0    AP1    AP2    AP3    AP4    AP5    AP6    AP7    AP8    AP9\n",
       "0       STA1 -64.87 -75.67 -85.98 -68.34 -77.09 -86.38 -83.07 -85.13 -89.73\n",
       "1       STA2 -79.89 -67.19 -75.01 -79.89 -67.19 -75.01 -85.82 -82.19 -83.96\n",
       "2       STA3 -87.19 -77.41 -55.58 -88.46 -81.24 -74.39 -91.72 -87.85 -85.67\n",
       "3       STA4 -81.35 -82.71 -87.90 -66.55 -72.62 -84.37 -69.83 -74.66 -84.86\n",
       "4       STA5 -85.33 -82.09 -84.40 -78.77 -66.72 -76.34 -78.77 -66.72 -76.34\n",
       "5       STA6 -90.66 -85.15 -80.28 -88.69 -80.28 -65.12 -89.23 -81.82 -71.76\n",
       "6       STA7 -85.04 -88.02 -92.19 -73.51 -82.33 -89.43 -63.71 -80.06 -88.61\n",
       "7       STA8 -87.85 -85.67 -87.19 -81.24 -74.39 -79.56 -77.41 -55.58 -74.39\n",
       "8       STA9 -94.79 -91.90 -90.02 -91.71 -86.82 -82.58 -89.53 -81.92 -69.12"
      ]
     },
     "execution_count": 37,
     "metadata": {},
     "output_type": "execute_result"
    }
   ],
   "source": [
    "dftest[dftest['Unnamed: 0'].str.contains(\"STA\")][['Unnamed: 0','AP1' ,'AP2','AP3','AP4','AP5','AP6','AP7','AP8','AP9']]"
   ]
  },
  {
   "cell_type": "code",
   "execution_count": 38,
   "id": "89ee279c",
   "metadata": {},
   "outputs": [],
   "source": [
    "# int(dftest['AP4'].loc[((dftest['Unnamed: 0'] == 'STA2'))][1])"
   ]
  },
  {
   "cell_type": "code",
   "execution_count": 39,
   "id": "e735b697",
   "metadata": {},
   "outputs": [],
   "source": [
    "df_ali['RSSI'] = df_ali.apply(lambda row: float(dftest[f'AP{int(row.AP)}'].loc[((dftest['Unnamed: 0'] == f'STA{int(row.SAT)}'))]) ,axis=1)"
   ]
  },
  {
   "cell_type": "code",
   "execution_count": 40,
   "id": "6ea029bc",
   "metadata": {},
   "outputs": [],
   "source": [
    "df_ali.AP = df_ali.AP.apply(np.int64)\n",
    "df_ali.SAT = df_ali.SAT.apply(np.int64)"
   ]
  },
  {
   "cell_type": "code",
   "execution_count": 41,
   "id": "3f0be122",
   "metadata": {},
   "outputs": [
    {
     "data": {
      "text/html": [
       "<div>\n",
       "<style scoped>\n",
       "    .dataframe tbody tr th:only-of-type {\n",
       "        vertical-align: middle;\n",
       "    }\n",
       "\n",
       "    .dataframe tbody tr th {\n",
       "        vertical-align: top;\n",
       "    }\n",
       "\n",
       "    .dataframe thead th {\n",
       "        text-align: right;\n",
       "    }\n",
       "</style>\n",
       "<table border=\"1\" class=\"dataframe\">\n",
       "  <thead>\n",
       "    <tr style=\"text-align: right;\">\n",
       "      <th></th>\n",
       "      <th>SAT</th>\n",
       "      <th>AP</th>\n",
       "      <th>RSSI</th>\n",
       "    </tr>\n",
       "  </thead>\n",
       "  <tbody>\n",
       "    <tr>\n",
       "      <th>0</th>\n",
       "      <td>1</td>\n",
       "      <td>1</td>\n",
       "      <td>-64.87</td>\n",
       "    </tr>\n",
       "    <tr>\n",
       "      <th>1</th>\n",
       "      <td>2</td>\n",
       "      <td>2</td>\n",
       "      <td>-67.19</td>\n",
       "    </tr>\n",
       "    <tr>\n",
       "      <th>2</th>\n",
       "      <td>5</td>\n",
       "      <td>5</td>\n",
       "      <td>-66.72</td>\n",
       "    </tr>\n",
       "    <tr>\n",
       "      <th>3</th>\n",
       "      <td>7</td>\n",
       "      <td>7</td>\n",
       "      <td>-63.71</td>\n",
       "    </tr>\n",
       "    <tr>\n",
       "      <th>4</th>\n",
       "      <td>1</td>\n",
       "      <td>1</td>\n",
       "      <td>-64.87</td>\n",
       "    </tr>\n",
       "  </tbody>\n",
       "</table>\n",
       "</div>"
      ],
      "text/plain": [
       "   SAT  AP   RSSI\n",
       "0    1   1 -64.87\n",
       "1    2   2 -67.19\n",
       "2    5   5 -66.72\n",
       "3    7   7 -63.71\n",
       "4    1   1 -64.87"
      ]
     },
     "execution_count": 41,
     "metadata": {},
     "output_type": "execute_result"
    }
   ],
   "source": [
    "df_ali.head()"
   ]
  },
  {
   "cell_type": "markdown",
   "id": "942577b9",
   "metadata": {},
   "source": [
    "# with numpy"
   ]
  },
  {
   "cell_type": "code",
   "execution_count": 42,
   "id": "a0df7853",
   "metadata": {},
   "outputs": [],
   "source": [
    "dfrrsi = dftest[dftest['Unnamed: 0'].str.contains(\"STA\")][['AP1' ,'AP2','AP3','AP4','AP5','AP6','AP7','AP8','AP9','Deployment']]\n"
   ]
  },
  {
   "cell_type": "code",
   "execution_count": 43,
   "id": "d944af7a",
   "metadata": {},
   "outputs": [],
   "source": [
    "# df_ali = df_ali.drop('RSSI',axis=1)"
   ]
  },
  {
   "cell_type": "code",
   "execution_count": 44,
   "id": "9e8549f3",
   "metadata": {},
   "outputs": [],
   "source": [
    "df_alinp = np.array(df_ali)\n",
    "dftestnp = np.array(dftest)\n",
    "dfrrsinp = np.array(dfrrsi)"
   ]
  },
  {
   "cell_type": "code",
   "execution_count": 45,
   "id": "3b2a089c",
   "metadata": {},
   "outputs": [
    {
     "data": {
      "text/plain": [
       "array([[ -64.87,  -75.67,  -85.98,  -68.34,  -77.09,  -86.38,  -83.07,\n",
       "         -85.13,  -89.73, 9391.  ],\n",
       "       [ -79.89,  -67.19,  -75.01,  -79.89,  -67.19,  -75.01,  -85.82,\n",
       "         -82.19,  -83.96, 9391.  ],\n",
       "       [ -87.19,  -77.41,  -55.58,  -88.46,  -81.24,  -74.39,  -91.72,\n",
       "         -87.85,  -85.67, 9391.  ],\n",
       "       [ -81.35,  -82.71,  -87.9 ,  -66.55,  -72.62,  -84.37,  -69.83,\n",
       "         -74.66,  -84.86, 9391.  ],\n",
       "       [ -85.33,  -82.09,  -84.4 ,  -78.77,  -66.72,  -76.34,  -78.77,\n",
       "         -66.72,  -76.34, 9391.  ],\n",
       "       [ -90.66,  -85.15,  -80.28,  -88.69,  -80.28,  -65.12,  -89.23,\n",
       "         -81.82,  -71.76, 9391.  ],\n",
       "       [ -85.04,  -88.02,  -92.19,  -73.51,  -82.33,  -89.43,  -63.71,\n",
       "         -80.06,  -88.61, 9391.  ],\n",
       "       [ -87.85,  -85.67,  -87.19,  -81.24,  -74.39,  -79.56,  -77.41,\n",
       "         -55.58,  -74.39, 9391.  ],\n",
       "       [ -94.79,  -91.9 ,  -90.02,  -91.71,  -86.82,  -82.58,  -89.53,\n",
       "         -81.92,  -69.12, 9391.  ]])"
      ]
     },
     "execution_count": 45,
     "metadata": {},
     "output_type": "execute_result"
    }
   ],
   "source": [
    "dfrrsinp"
   ]
  },
  {
   "cell_type": "code",
   "execution_count": 46,
   "id": "b6ce6170",
   "metadata": {},
   "outputs": [
    {
     "data": {
      "text/plain": [
       "array([[1., 1.],\n",
       "       [2., 2.],\n",
       "       [5., 5.],\n",
       "       [7., 7.],\n",
       "       [1., 1.],\n",
       "       [2., 2.],\n",
       "       [6., 6.],\n",
       "       [2., 2.],\n",
       "       [6., 6.],\n",
       "       [3., 3.],\n",
       "       [6., 6.],\n",
       "       [5., 5.],\n",
       "       [6., 6.],\n",
       "       [7., 7.],\n",
       "       [5., 5.],\n",
       "       [7., 7.],\n",
       "       [8., 8.],\n",
       "       [9., 9.],\n",
       "       [1., 1.],\n",
       "       [2., 2.],\n",
       "       [7., 7.],\n",
       "       [3., 3.],\n",
       "       [4., 4.],\n",
       "       [5., 5.],\n",
       "       [6., 6.]])"
      ]
     },
     "execution_count": 46,
     "metadata": {},
     "output_type": "execute_result"
    }
   ],
   "source": [
    "dfrrsinp[1][1]\n",
    "# np.isin()\n",
    "\n",
    "df_alinp\n",
    "df_alinp[:, : 2]"
   ]
  },
  {
   "cell_type": "code",
   "execution_count": 47,
   "id": "2835a928",
   "metadata": {},
   "outputs": [],
   "source": [
    "a = dfrrsinp"
   ]
  },
  {
   "cell_type": "code",
   "execution_count": 48,
   "id": "25416348",
   "metadata": {},
   "outputs": [
    {
     "data": {
      "text/plain": [
       "(array([0, 0, 0, 0, 0, 0, 0, 0, 0, 0, 1, 1, 1, 1, 1, 1, 1, 1, 1, 1, 2, 2,\n",
       "        2, 2, 2, 2, 2, 2, 2, 2, 3, 3, 3, 3, 3, 3, 3, 3, 3, 3, 4, 4, 4, 4,\n",
       "        4, 4, 4, 4, 4, 4, 5, 5, 5, 5, 5, 5, 5, 5, 5, 5, 6, 6, 6, 6, 6, 6,\n",
       "        6, 6, 6, 6, 7, 7, 7, 7, 7, 7, 7, 7, 7, 7, 8, 8, 8, 8, 8, 8, 8, 8,\n",
       "        8, 8], dtype=int64),\n",
       " array([0, 1, 2, 3, 4, 5, 6, 7, 8, 9, 0, 1, 2, 3, 4, 5, 6, 7, 8, 9, 0, 1,\n",
       "        2, 3, 4, 5, 6, 7, 8, 9, 0, 1, 2, 3, 4, 5, 6, 7, 8, 9, 0, 1, 2, 3,\n",
       "        4, 5, 6, 7, 8, 9, 0, 1, 2, 3, 4, 5, 6, 7, 8, 9, 0, 1, 2, 3, 4, 5,\n",
       "        6, 7, 8, 9, 0, 1, 2, 3, 4, 5, 6, 7, 8, 9, 0, 1, 2, 3, 4, 5, 6, 7,\n",
       "        8, 9], dtype=int64))"
      ]
     },
     "execution_count": 48,
     "metadata": {},
     "output_type": "execute_result"
    }
   ],
   "source": [
    "dfrrsinp[:, :][0][1]\n",
    "np.where(a,)"
   ]
  },
  {
   "cell_type": "markdown",
   "id": "981a8f57",
   "metadata": {},
   "source": [
    "## 5- Creating `Transmit Opportunity ` Columns (TPOX)"
   ]
  },
  {
   "cell_type": "code",
   "execution_count": 49,
   "id": "dde47fab",
   "metadata": {
    "scrolled": true
   },
   "outputs": [
    {
     "data": {
      "text/plain": [
       "((9, 9), 9)"
      ]
     },
     "execution_count": 49,
     "metadata": {},
     "output_type": "execute_result"
    }
   ],
   "source": [
    "io.shape, io.shape[1] "
   ]
  },
  {
   "cell_type": "code",
   "execution_count": 50,
   "id": "2d105d60",
   "metadata": {},
   "outputs": [
    {
     "data": {
      "text/plain": [
       "array([[1, 2, 0, 0, 5, 0, 7, 0, 0],\n",
       "       [1, 2, 0, 0, 0, 6, 0, 0, 0],\n",
       "       [0, 2, 0, 0, 0, 6, 0, 0, 0],\n",
       "       [0, 0, 3, 0, 0, 6, 0, 0, 0],\n",
       "       [0, 0, 0, 0, 5, 0, 0, 0, 0],\n",
       "       [0, 0, 0, 0, 0, 6, 7, 0, 0],\n",
       "       [0, 0, 0, 0, 5, 0, 7, 8, 9],\n",
       "       [1, 2, 0, 0, 0, 0, 7, 0, 0],\n",
       "       [0, 0, 3, 4, 5, 6, 0, 0, 0]])"
      ]
     },
     "execution_count": 50,
     "metadata": {},
     "output_type": "execute_result"
    }
   ],
   "source": [
    "io"
   ]
  },
  {
   "cell_type": "code",
   "execution_count": 51,
   "id": "06182dbc",
   "metadata": {},
   "outputs": [],
   "source": [
    "we = np.array([np.full(9,n) for n in range(1,io.shape[1]+1)])"
   ]
  },
  {
   "cell_type": "code",
   "execution_count": 52,
   "id": "3e284695",
   "metadata": {},
   "outputs": [],
   "source": [
    "Txo = we[np.where(io!=0)]"
   ]
  },
  {
   "cell_type": "code",
   "execution_count": 53,
   "id": "4b280144",
   "metadata": {},
   "outputs": [],
   "source": [
    "df_ali['TXOP'] = Txo"
   ]
  },
  {
   "cell_type": "code",
   "execution_count": 54,
   "id": "561f124b",
   "metadata": {},
   "outputs": [
    {
     "data": {
      "text/html": [
       "<div>\n",
       "<style scoped>\n",
       "    .dataframe tbody tr th:only-of-type {\n",
       "        vertical-align: middle;\n",
       "    }\n",
       "\n",
       "    .dataframe tbody tr th {\n",
       "        vertical-align: top;\n",
       "    }\n",
       "\n",
       "    .dataframe thead th {\n",
       "        text-align: right;\n",
       "    }\n",
       "</style>\n",
       "<table border=\"1\" class=\"dataframe\">\n",
       "  <thead>\n",
       "    <tr style=\"text-align: right;\">\n",
       "      <th></th>\n",
       "      <th>SAT</th>\n",
       "      <th>AP</th>\n",
       "      <th>RSSI</th>\n",
       "      <th>TXOP</th>\n",
       "    </tr>\n",
       "  </thead>\n",
       "  <tbody>\n",
       "    <tr>\n",
       "      <th>0</th>\n",
       "      <td>1</td>\n",
       "      <td>1</td>\n",
       "      <td>-64.87</td>\n",
       "      <td>1</td>\n",
       "    </tr>\n",
       "    <tr>\n",
       "      <th>1</th>\n",
       "      <td>2</td>\n",
       "      <td>2</td>\n",
       "      <td>-67.19</td>\n",
       "      <td>1</td>\n",
       "    </tr>\n",
       "    <tr>\n",
       "      <th>2</th>\n",
       "      <td>5</td>\n",
       "      <td>5</td>\n",
       "      <td>-66.72</td>\n",
       "      <td>1</td>\n",
       "    </tr>\n",
       "    <tr>\n",
       "      <th>3</th>\n",
       "      <td>7</td>\n",
       "      <td>7</td>\n",
       "      <td>-63.71</td>\n",
       "      <td>1</td>\n",
       "    </tr>\n",
       "    <tr>\n",
       "      <th>4</th>\n",
       "      <td>1</td>\n",
       "      <td>1</td>\n",
       "      <td>-64.87</td>\n",
       "      <td>2</td>\n",
       "    </tr>\n",
       "  </tbody>\n",
       "</table>\n",
       "</div>"
      ],
      "text/plain": [
       "   SAT  AP   RSSI  TXOP\n",
       "0    1   1 -64.87     1\n",
       "1    2   2 -67.19     1\n",
       "2    5   5 -66.72     1\n",
       "3    7   7 -63.71     1\n",
       "4    1   1 -64.87     2"
      ]
     },
     "execution_count": 54,
     "metadata": {},
     "output_type": "execute_result"
    }
   ],
   "source": [
    "df_ali.head()"
   ]
  },
  {
   "cell_type": "markdown",
   "id": "d97a11f8",
   "metadata": {},
   "source": [
    "## Creat a Target TP"
   ]
  },
  {
   "cell_type": "code",
   "execution_count": 55,
   "id": "510a0bf1",
   "metadata": {},
   "outputs": [],
   "source": [
    "cx = np.array(dftest[dftest['Unnamed: 0'].str.contains(\"TXOP\")][['TP1' ,'TP2','TP3','TP4','TP5','TP6','TP7','TP8','TP9']],dtype =int)"
   ]
  },
  {
   "cell_type": "code",
   "execution_count": 56,
   "id": "139997e4",
   "metadata": {},
   "outputs": [],
   "source": [
    "ps = cx[np.where(io!=0)]"
   ]
  },
  {
   "cell_type": "code",
   "execution_count": 57,
   "id": "5ea8c76a",
   "metadata": {},
   "outputs": [
    {
     "data": {
      "text/plain": [
       "25"
      ]
     },
     "execution_count": 57,
     "metadata": {},
     "output_type": "execute_result"
    }
   ],
   "source": [
    "len(ps)"
   ]
  },
  {
   "cell_type": "code",
   "execution_count": 58,
   "id": "345fbe57",
   "metadata": {},
   "outputs": [],
   "source": [
    "df_ali['Target'] = ps"
   ]
  },
  {
   "cell_type": "code",
   "execution_count": 59,
   "id": "44de8cb7",
   "metadata": {},
   "outputs": [
    {
     "data": {
      "text/html": [
       "<div>\n",
       "<style scoped>\n",
       "    .dataframe tbody tr th:only-of-type {\n",
       "        vertical-align: middle;\n",
       "    }\n",
       "\n",
       "    .dataframe tbody tr th {\n",
       "        vertical-align: top;\n",
       "    }\n",
       "\n",
       "    .dataframe thead th {\n",
       "        text-align: right;\n",
       "    }\n",
       "</style>\n",
       "<table border=\"1\" class=\"dataframe\">\n",
       "  <thead>\n",
       "    <tr style=\"text-align: right;\">\n",
       "      <th></th>\n",
       "      <th>SAT</th>\n",
       "      <th>AP</th>\n",
       "      <th>RSSI</th>\n",
       "      <th>TXOP</th>\n",
       "      <th>Target</th>\n",
       "    </tr>\n",
       "  </thead>\n",
       "  <tbody>\n",
       "    <tr>\n",
       "      <th>0</th>\n",
       "      <td>1</td>\n",
       "      <td>1</td>\n",
       "      <td>-64.87</td>\n",
       "      <td>1</td>\n",
       "      <td>30</td>\n",
       "    </tr>\n",
       "    <tr>\n",
       "      <th>1</th>\n",
       "      <td>2</td>\n",
       "      <td>2</td>\n",
       "      <td>-67.19</td>\n",
       "      <td>1</td>\n",
       "      <td>0</td>\n",
       "    </tr>\n",
       "    <tr>\n",
       "      <th>2</th>\n",
       "      <td>5</td>\n",
       "      <td>5</td>\n",
       "      <td>-66.72</td>\n",
       "      <td>1</td>\n",
       "      <td>54</td>\n",
       "    </tr>\n",
       "    <tr>\n",
       "      <th>3</th>\n",
       "      <td>7</td>\n",
       "      <td>7</td>\n",
       "      <td>-63.71</td>\n",
       "      <td>1</td>\n",
       "      <td>108</td>\n",
       "    </tr>\n",
       "    <tr>\n",
       "      <th>4</th>\n",
       "      <td>1</td>\n",
       "      <td>1</td>\n",
       "      <td>-64.87</td>\n",
       "      <td>2</td>\n",
       "      <td>54</td>\n",
       "    </tr>\n",
       "  </tbody>\n",
       "</table>\n",
       "</div>"
      ],
      "text/plain": [
       "   SAT  AP   RSSI  TXOP  Target\n",
       "0    1   1 -64.87     1      30\n",
       "1    2   2 -67.19     1       0\n",
       "2    5   5 -66.72     1      54\n",
       "3    7   7 -63.71     1     108\n",
       "4    1   1 -64.87     2      54"
      ]
     },
     "execution_count": 59,
     "metadata": {},
     "output_type": "execute_result"
    }
   ],
   "source": [
    "df_ali.head()"
   ]
  },
  {
   "cell_type": "markdown",
   "id": "c03178db",
   "metadata": {},
   "source": [
    "# WondorFull"
   ]
  },
  {
   "cell_type": "code",
   "execution_count": 60,
   "id": "77ceacef",
   "metadata": {},
   "outputs": [],
   "source": [
    "df_ali.to_csv('fdafsda.csv',index=False)"
   ]
  },
  {
   "cell_type": "markdown",
   "id": "aa663e87",
   "metadata": {},
   "source": [
    "# Huge DATA SET"
   ]
  },
  {
   "cell_type": "markdown",
   "id": "9bb84d3f",
   "metadata": {},
   "source": [
    "# `STA`"
   ]
  },
  {
   "cell_type": "code",
   "execution_count": 61,
   "id": "9300b416",
   "metadata": {},
   "outputs": [
    {
     "data": {
      "text/html": [
       "<div>\n",
       "<style scoped>\n",
       "    .dataframe tbody tr th:only-of-type {\n",
       "        vertical-align: middle;\n",
       "    }\n",
       "\n",
       "    .dataframe tbody tr th {\n",
       "        vertical-align: top;\n",
       "    }\n",
       "\n",
       "    .dataframe thead th {\n",
       "        text-align: right;\n",
       "    }\n",
       "</style>\n",
       "<table border=\"1\" class=\"dataframe\">\n",
       "  <thead>\n",
       "    <tr style=\"text-align: right;\">\n",
       "      <th></th>\n",
       "      <th>AP1</th>\n",
       "      <th>AP2</th>\n",
       "      <th>AP3</th>\n",
       "      <th>AP4</th>\n",
       "      <th>AP5</th>\n",
       "      <th>AP6</th>\n",
       "      <th>AP7</th>\n",
       "      <th>AP8</th>\n",
       "      <th>AP9</th>\n",
       "    </tr>\n",
       "  </thead>\n",
       "  <tbody>\n",
       "    <tr>\n",
       "      <th>9</th>\n",
       "      <td>1.0</td>\n",
       "      <td>2.0</td>\n",
       "      <td>0.0</td>\n",
       "      <td>0.0</td>\n",
       "      <td>5.0</td>\n",
       "      <td>0.0</td>\n",
       "      <td>7.0</td>\n",
       "      <td>0.0</td>\n",
       "      <td>0.0</td>\n",
       "    </tr>\n",
       "    <tr>\n",
       "      <th>10</th>\n",
       "      <td>1.0</td>\n",
       "      <td>2.0</td>\n",
       "      <td>0.0</td>\n",
       "      <td>0.0</td>\n",
       "      <td>0.0</td>\n",
       "      <td>6.0</td>\n",
       "      <td>0.0</td>\n",
       "      <td>0.0</td>\n",
       "      <td>0.0</td>\n",
       "    </tr>\n",
       "    <tr>\n",
       "      <th>11</th>\n",
       "      <td>0.0</td>\n",
       "      <td>2.0</td>\n",
       "      <td>0.0</td>\n",
       "      <td>0.0</td>\n",
       "      <td>0.0</td>\n",
       "      <td>6.0</td>\n",
       "      <td>0.0</td>\n",
       "      <td>0.0</td>\n",
       "      <td>0.0</td>\n",
       "    </tr>\n",
       "    <tr>\n",
       "      <th>12</th>\n",
       "      <td>0.0</td>\n",
       "      <td>0.0</td>\n",
       "      <td>3.0</td>\n",
       "      <td>0.0</td>\n",
       "      <td>0.0</td>\n",
       "      <td>6.0</td>\n",
       "      <td>0.0</td>\n",
       "      <td>0.0</td>\n",
       "      <td>0.0</td>\n",
       "    </tr>\n",
       "    <tr>\n",
       "      <th>13</th>\n",
       "      <td>0.0</td>\n",
       "      <td>0.0</td>\n",
       "      <td>0.0</td>\n",
       "      <td>0.0</td>\n",
       "      <td>5.0</td>\n",
       "      <td>0.0</td>\n",
       "      <td>0.0</td>\n",
       "      <td>0.0</td>\n",
       "      <td>0.0</td>\n",
       "    </tr>\n",
       "  </tbody>\n",
       "</table>\n",
       "</div>"
      ],
      "text/plain": [
       "    AP1  AP2  AP3  AP4  AP5  AP6  AP7  AP8  AP9\n",
       "9   1.0  2.0  0.0  0.0  5.0  0.0  7.0  0.0  0.0\n",
       "10  1.0  2.0  0.0  0.0  0.0  6.0  0.0  0.0  0.0\n",
       "11  0.0  2.0  0.0  0.0  0.0  6.0  0.0  0.0  0.0\n",
       "12  0.0  0.0  3.0  0.0  0.0  6.0  0.0  0.0  0.0\n",
       "13  0.0  0.0  0.0  0.0  5.0  0.0  0.0  0.0  0.0"
      ]
     },
     "execution_count": 61,
     "metadata": {},
     "output_type": "execute_result"
    }
   ],
   "source": [
    "km = df[df['Unnamed: 0'].str.contains(\"TXOP\")][['AP1' ,'AP2','AP3','AP4','AP5','AP6','AP7','AP8','AP9']]\n",
    "km.head()"
   ]
  },
  {
   "cell_type": "code",
   "execution_count": 62,
   "id": "460da538",
   "metadata": {},
   "outputs": [
    {
     "data": {
      "text/plain": [
       "array([[ 1,  2,  0, ...,  7,  0,  0],\n",
       "       [ 1,  2,  0, ...,  0,  0,  0],\n",
       "       [ 0,  2,  0, ...,  0,  0,  0],\n",
       "       ...,\n",
       "       [ 2,  0,  6, ...,  0,  0,  0],\n",
       "       [ 2,  0,  0, ...,  0,  0,  0],\n",
       "       [ 0,  3,  0, ...,  0, 15,  0]])"
      ]
     },
     "execution_count": 62,
     "metadata": {},
     "output_type": "execute_result"
    }
   ],
   "source": [
    "hf = np.array(km,dtype=int)\n",
    "hf"
   ]
  },
  {
   "cell_type": "code",
   "execution_count": 63,
   "id": "bdc61534",
   "metadata": {},
   "outputs": [],
   "source": [
    "fh = hf[np.where(hf!=0)]"
   ]
  },
  {
   "cell_type": "code",
   "execution_count": 64,
   "id": "c2e4b6fe",
   "metadata": {},
   "outputs": [
    {
     "data": {
      "text/plain": [
       "700000"
      ]
     },
     "execution_count": 64,
     "metadata": {},
     "output_type": "execute_result"
    }
   ],
   "source": [
    "len(hf)"
   ]
  },
  {
   "cell_type": "code",
   "execution_count": 65,
   "id": "486809d3",
   "metadata": {},
   "outputs": [
    {
     "data": {
      "text/plain": [
       "1749596"
      ]
     },
     "execution_count": 65,
     "metadata": {},
     "output_type": "execute_result"
    }
   ],
   "source": [
    "len(fh)"
   ]
  },
  {
   "cell_type": "markdown",
   "id": "bd72e359",
   "metadata": {},
   "source": [
    "# `AP`"
   ]
  },
  {
   "cell_type": "code",
   "execution_count": 66,
   "id": "562db9c0",
   "metadata": {},
   "outputs": [],
   "source": [
    "fap= np.array([num for n in range(len(km))])"
   ]
  },
  {
   "cell_type": "code",
   "execution_count": 67,
   "id": "7a2d1489",
   "metadata": {},
   "outputs": [],
   "source": [
    "paf = fap[np.where(hf!=0)]"
   ]
  },
  {
   "cell_type": "code",
   "execution_count": 68,
   "id": "9ca4d75b",
   "metadata": {
    "scrolled": true
   },
   "outputs": [
    {
     "data": {
      "text/plain": [
       "1749596"
      ]
     },
     "execution_count": 68,
     "metadata": {},
     "output_type": "execute_result"
    }
   ],
   "source": [
    "len(paf)"
   ]
  },
  {
   "cell_type": "code",
   "execution_count": 69,
   "id": "c1ce0e3b",
   "metadata": {},
   "outputs": [],
   "source": [
    "dffull = pd.DataFrame({\"STA\":fh,\"AP\":paf})"
   ]
  },
  {
   "cell_type": "code",
   "execution_count": 70,
   "id": "f1dba8c6",
   "metadata": {},
   "outputs": [],
   "source": [
    "dffull.STA = dffull.STA.apply(np.int64)\n",
    "dffull.AP = dffull.AP.apply(np.int64)"
   ]
  },
  {
   "cell_type": "code",
   "execution_count": 71,
   "id": "fcdfbd4c",
   "metadata": {},
   "outputs": [],
   "source": [
    "dffull['Deployment'] = 9391"
   ]
  },
  {
   "cell_type": "markdown",
   "id": "b7716cc4",
   "metadata": {},
   "source": [
    "# `RSSI`"
   ]
  },
  {
   "cell_type": "code",
   "execution_count": 72,
   "id": "a13ee3fc",
   "metadata": {
    "scrolled": true
   },
   "outputs": [
    {
     "data": {
      "text/html": [
       "<div>\n",
       "<style scoped>\n",
       "    .dataframe tbody tr th:only-of-type {\n",
       "        vertical-align: middle;\n",
       "    }\n",
       "\n",
       "    .dataframe tbody tr th {\n",
       "        vertical-align: top;\n",
       "    }\n",
       "\n",
       "    .dataframe thead th {\n",
       "        text-align: right;\n",
       "    }\n",
       "</style>\n",
       "<table border=\"1\" class=\"dataframe\">\n",
       "  <thead>\n",
       "    <tr style=\"text-align: right;\">\n",
       "      <th></th>\n",
       "      <th>STA</th>\n",
       "      <th>AP</th>\n",
       "      <th>Deployment</th>\n",
       "    </tr>\n",
       "  </thead>\n",
       "  <tbody>\n",
       "    <tr>\n",
       "      <th>0</th>\n",
       "      <td>1</td>\n",
       "      <td>1</td>\n",
       "      <td>9391</td>\n",
       "    </tr>\n",
       "    <tr>\n",
       "      <th>1</th>\n",
       "      <td>2</td>\n",
       "      <td>2</td>\n",
       "      <td>9391</td>\n",
       "    </tr>\n",
       "    <tr>\n",
       "      <th>2</th>\n",
       "      <td>5</td>\n",
       "      <td>5</td>\n",
       "      <td>9391</td>\n",
       "    </tr>\n",
       "    <tr>\n",
       "      <th>3</th>\n",
       "      <td>7</td>\n",
       "      <td>7</td>\n",
       "      <td>9391</td>\n",
       "    </tr>\n",
       "    <tr>\n",
       "      <th>4</th>\n",
       "      <td>1</td>\n",
       "      <td>1</td>\n",
       "      <td>9391</td>\n",
       "    </tr>\n",
       "  </tbody>\n",
       "</table>\n",
       "</div>"
      ],
      "text/plain": [
       "   STA  AP  Deployment\n",
       "0    1   1        9391\n",
       "1    2   2        9391\n",
       "2    5   5        9391\n",
       "3    7   7        9391\n",
       "4    1   1        9391"
      ]
     },
     "execution_count": 72,
     "metadata": {},
     "output_type": "execute_result"
    }
   ],
   "source": [
    "dffull.head()"
   ]
  },
  {
   "cell_type": "code",
   "execution_count": 73,
   "id": "9472888b",
   "metadata": {},
   "outputs": [],
   "source": [
    "a = (np.array(dffull['AP']))-1\n",
    "b = (np.array(dffull['STA']))-1"
   ]
  },
  {
   "cell_type": "code",
   "execution_count": 74,
   "id": "d03ae54d",
   "metadata": {},
   "outputs": [],
   "source": [
    "uj = np.array(dftest[dftest['Unnamed: 0'].str.contains(\"STA\")][['AP1' ,'AP2','AP3','AP4','AP5','AP6','AP7','AP8','AP9']])"
   ]
  },
  {
   "cell_type": "code",
   "execution_count": 75,
   "id": "49617628",
   "metadata": {},
   "outputs": [
    {
     "data": {
      "text/plain": [
       "array([[-64.87, -75.67, -85.98, -68.34, -77.09, -86.38, -83.07, -85.13,\n",
       "        -89.73],\n",
       "       [-79.89, -67.19, -75.01, -79.89, -67.19, -75.01, -85.82, -82.19,\n",
       "        -83.96],\n",
       "       [-87.19, -77.41, -55.58, -88.46, -81.24, -74.39, -91.72, -87.85,\n",
       "        -85.67],\n",
       "       [-81.35, -82.71, -87.9 , -66.55, -72.62, -84.37, -69.83, -74.66,\n",
       "        -84.86],\n",
       "       [-85.33, -82.09, -84.4 , -78.77, -66.72, -76.34, -78.77, -66.72,\n",
       "        -76.34],\n",
       "       [-90.66, -85.15, -80.28, -88.69, -80.28, -65.12, -89.23, -81.82,\n",
       "        -71.76],\n",
       "       [-85.04, -88.02, -92.19, -73.51, -82.33, -89.43, -63.71, -80.06,\n",
       "        -88.61],\n",
       "       [-87.85, -85.67, -87.19, -81.24, -74.39, -79.56, -77.41, -55.58,\n",
       "        -74.39],\n",
       "       [-94.79, -91.9 , -90.02, -91.71, -86.82, -82.58, -89.53, -81.92,\n",
       "        -69.12]])"
      ]
     },
     "execution_count": 75,
     "metadata": {},
     "output_type": "execute_result"
    }
   ],
   "source": [
    "uj"
   ]
  },
  {
   "cell_type": "code",
   "execution_count": 76,
   "id": "035ad8c9",
   "metadata": {},
   "outputs": [
    {
     "data": {
      "text/plain": [
       "-66.55"
      ]
     },
     "execution_count": 76,
     "metadata": {},
     "output_type": "execute_result"
    }
   ],
   "source": [
    "uj[3][3]"
   ]
  },
  {
   "cell_type": "code",
   "execution_count": 77,
   "id": "f0fe052f",
   "metadata": {},
   "outputs": [],
   "source": [
    "def preprocess(data,is_train=True):\n",
    "\n",
    "  dep=data['Deployment'].unique()\n",
    "  rows=[]\n",
    "  for dd in dep:\n",
    "    df=data[data.Deployment==dd]\n",
    "    \n",
    "    toxp_map=dict()\n",
    "    rssi_map=dict()\n",
    "    flag=0\n",
    "    for i, j in df.iterrows():\n",
    "        if('STA' in j[0]):\n",
    "          rssi_map[j[0]]={f'AP{i}':j[i] for i in range(1,10)}\n",
    "        else:\n",
    "          toxp_map[j[0]]={(j.index[i],'STA'+str(int(j[i]))) for i in range(1,10)}\n",
    "\n",
    "    \n",
    "    for exp,elems in toxp_map.items():\n",
    "      rows1=[]\n",
    "      for e in elems:\n",
    "        row=[dd,exp]\n",
    "        if(e[-1]!='STA0'):\n",
    "          row.extend([e[0],e[1],rssi_map[e[-1]][e[0]]])\n",
    "          rows.append(row)\n",
    "  \n",
    "\n",
    "      #rows.extend(rows1)\n",
    "    \n",
    "  data=pd.DataFrame(rows)\n",
    "  data.columns = ['Deployment','TXOP','mainAP','mainSTA','mainRSSI']\n",
    "  data['ID']='Deployment'+data['Deployment'].astype(str)+'_'+data['TXOP']+'_'+data['mainAP']+'_'+data['mainSTA']\n",
    "  if(is_train):\n",
    "    tt=pd.read_csv('TrainTargets.csv')\n",
    "    data=pd.merge(data,tt,on='ID')\n",
    "  \n",
    "  \n",
    "  return data\n",
    "  \n",
    "\n",
    "\n",
    "\n",
    "\n",
    "\n",
    "     \n"
   ]
  },
  {
   "cell_type": "code",
   "execution_count": 78,
   "id": "bc66651e",
   "metadata": {},
   "outputs": [],
   "source": [
    "train = pd.read_csv('Train.csv')"
   ]
  },
  {
   "cell_type": "code",
   "execution_count": 79,
   "id": "8af1c818",
   "metadata": {},
   "outputs": [],
   "source": [
    "train_df = preprocess(train)"
   ]
  },
  {
   "cell_type": "code",
   "execution_count": 80,
   "id": "202cb261",
   "metadata": {},
   "outputs": [
    {
     "data": {
      "text/html": [
       "<div>\n",
       "<style scoped>\n",
       "    .dataframe tbody tr th:only-of-type {\n",
       "        vertical-align: middle;\n",
       "    }\n",
       "\n",
       "    .dataframe tbody tr th {\n",
       "        vertical-align: top;\n",
       "    }\n",
       "\n",
       "    .dataframe thead th {\n",
       "        text-align: right;\n",
       "    }\n",
       "</style>\n",
       "<table border=\"1\" class=\"dataframe\">\n",
       "  <thead>\n",
       "    <tr style=\"text-align: right;\">\n",
       "      <th></th>\n",
       "      <th>Deployment</th>\n",
       "      <th>TXOP</th>\n",
       "      <th>mainAP</th>\n",
       "      <th>mainSTA</th>\n",
       "      <th>mainRSSI</th>\n",
       "      <th>ID</th>\n",
       "      <th>Target</th>\n",
       "    </tr>\n",
       "  </thead>\n",
       "  <tbody>\n",
       "    <tr>\n",
       "      <th>0</th>\n",
       "      <td>9391</td>\n",
       "      <td>TXOP1</td>\n",
       "      <td>AP1</td>\n",
       "      <td>STA1</td>\n",
       "      <td>-64.87</td>\n",
       "      <td>Deployment9391_TXOP1_AP1_STA1</td>\n",
       "      <td>30.0</td>\n",
       "    </tr>\n",
       "    <tr>\n",
       "      <th>1</th>\n",
       "      <td>9391</td>\n",
       "      <td>TXOP1</td>\n",
       "      <td>AP7</td>\n",
       "      <td>STA7</td>\n",
       "      <td>-63.71</td>\n",
       "      <td>Deployment9391_TXOP1_AP7_STA7</td>\n",
       "      <td>108.0</td>\n",
       "    </tr>\n",
       "    <tr>\n",
       "      <th>2</th>\n",
       "      <td>9391</td>\n",
       "      <td>TXOP1</td>\n",
       "      <td>AP2</td>\n",
       "      <td>STA2</td>\n",
       "      <td>-67.19</td>\n",
       "      <td>Deployment9391_TXOP1_AP2_STA2</td>\n",
       "      <td>0.0</td>\n",
       "    </tr>\n",
       "    <tr>\n",
       "      <th>3</th>\n",
       "      <td>9391</td>\n",
       "      <td>TXOP1</td>\n",
       "      <td>AP5</td>\n",
       "      <td>STA5</td>\n",
       "      <td>-66.72</td>\n",
       "      <td>Deployment9391_TXOP1_AP5_STA5</td>\n",
       "      <td>54.0</td>\n",
       "    </tr>\n",
       "    <tr>\n",
       "      <th>4</th>\n",
       "      <td>9391</td>\n",
       "      <td>TXOP2</td>\n",
       "      <td>AP6</td>\n",
       "      <td>STA6</td>\n",
       "      <td>-65.12</td>\n",
       "      <td>Deployment9391_TXOP2_AP6_STA6</td>\n",
       "      <td>156.0</td>\n",
       "    </tr>\n",
       "  </tbody>\n",
       "</table>\n",
       "</div>"
      ],
      "text/plain": [
       "   Deployment   TXOP mainAP mainSTA  mainRSSI                             ID  \\\n",
       "0        9391  TXOP1    AP1    STA1    -64.87  Deployment9391_TXOP1_AP1_STA1   \n",
       "1        9391  TXOP1    AP7    STA7    -63.71  Deployment9391_TXOP1_AP7_STA7   \n",
       "2        9391  TXOP1    AP2    STA2    -67.19  Deployment9391_TXOP1_AP2_STA2   \n",
       "3        9391  TXOP1    AP5    STA5    -66.72  Deployment9391_TXOP1_AP5_STA5   \n",
       "4        9391  TXOP2    AP6    STA6    -65.12  Deployment9391_TXOP2_AP6_STA6   \n",
       "\n",
       "   Target  \n",
       "0    30.0  \n",
       "1   108.0  \n",
       "2     0.0  \n",
       "3    54.0  \n",
       "4   156.0  "
      ]
     },
     "execution_count": 80,
     "metadata": {},
     "output_type": "execute_result"
    }
   ],
   "source": [
    "train_df.head()"
   ]
  },
  {
   "cell_type": "code",
   "execution_count": 81,
   "id": "f0d4f25b",
   "metadata": {},
   "outputs": [],
   "source": [
    "AP = np.char.lstrip(np.array(train_df['mainAP']).astype(str),'AP')\n",
    "STA = np.char.lstrip(np.array(train_df['mainSTA']).astype(str),'STA')\n",
    "TXOP = np.char.lstrip(np.array(train_df['TXOP']).astype(str),'TXOP')\n",
    "Target = np.array(train_df['Target']).astype(int)\n",
    "Deployment = np.array(train_df['Deployment'])\n",
    "RSSI = np.array(train_df['mainRSSI'])"
   ]
  },
  {
   "cell_type": "code",
   "execution_count": 82,
   "id": "fbbedf43",
   "metadata": {},
   "outputs": [
    {
     "data": {
      "text/plain": [
       "array([9391, 9391, 9391, ..., 3934, 3934, 3934], dtype=int64)"
      ]
     },
     "execution_count": 82,
     "metadata": {},
     "output_type": "execute_result"
    }
   ],
   "source": [
    "np.array(train_df['Deployment'])"
   ]
  },
  {
   "cell_type": "code",
   "execution_count": 83,
   "id": "97bf95fb",
   "metadata": {},
   "outputs": [],
   "source": [
    "frame = {'Deployment':Deployment\n",
    "        ,'STA':STA\n",
    "        ,'Ap':AP\n",
    "        ,'RSSI':RSSI\n",
    "        ,'TXOP':TXOP\n",
    "        ,'Target':Target}"
   ]
  },
  {
   "cell_type": "code",
   "execution_count": 84,
   "id": "cf7a2f31",
   "metadata": {},
   "outputs": [],
   "source": [
    "nice = pd.DataFrame(frame)"
   ]
  },
  {
   "cell_type": "code",
   "execution_count": 85,
   "id": "5caf05e7",
   "metadata": {},
   "outputs": [],
   "source": [
    "# nice.to_csv('nice.csv',index=False)"
   ]
  },
  {
   "cell_type": "code",
   "execution_count": 86,
   "id": "6bafb618",
   "metadata": {},
   "outputs": [],
   "source": [
    "td = pd.read_csv('Test.csv')"
   ]
  },
  {
   "cell_type": "code",
   "execution_count": 87,
   "id": "f93627c5",
   "metadata": {},
   "outputs": [],
   "source": [
    "test = preprocess(td,False)"
   ]
  },
  {
   "cell_type": "code",
   "execution_count": 88,
   "id": "60e54c57",
   "metadata": {},
   "outputs": [
    {
     "data": {
      "text/html": [
       "<div>\n",
       "<style scoped>\n",
       "    .dataframe tbody tr th:only-of-type {\n",
       "        vertical-align: middle;\n",
       "    }\n",
       "\n",
       "    .dataframe tbody tr th {\n",
       "        vertical-align: top;\n",
       "    }\n",
       "\n",
       "    .dataframe thead th {\n",
       "        text-align: right;\n",
       "    }\n",
       "</style>\n",
       "<table border=\"1\" class=\"dataframe\">\n",
       "  <thead>\n",
       "    <tr style=\"text-align: right;\">\n",
       "      <th></th>\n",
       "      <th>Deployment</th>\n",
       "      <th>TXOP</th>\n",
       "      <th>mainAP</th>\n",
       "      <th>mainSTA</th>\n",
       "      <th>mainRSSI</th>\n",
       "      <th>ID</th>\n",
       "    </tr>\n",
       "  </thead>\n",
       "  <tbody>\n",
       "    <tr>\n",
       "      <th>0</th>\n",
       "      <td>9373</td>\n",
       "      <td>TXOP1</td>\n",
       "      <td>AP9</td>\n",
       "      <td>STA35</td>\n",
       "      <td>-69.12</td>\n",
       "      <td>Deployment9373_TXOP1_AP9_STA35</td>\n",
       "    </tr>\n",
       "    <tr>\n",
       "      <th>1</th>\n",
       "      <td>9373</td>\n",
       "      <td>TXOP2</td>\n",
       "      <td>AP4</td>\n",
       "      <td>STA13</td>\n",
       "      <td>-64.87</td>\n",
       "      <td>Deployment9373_TXOP2_AP4_STA13</td>\n",
       "    </tr>\n",
       "    <tr>\n",
       "      <th>2</th>\n",
       "      <td>9373</td>\n",
       "      <td>TXOP2</td>\n",
       "      <td>AP3</td>\n",
       "      <td>STA9</td>\n",
       "      <td>-63.71</td>\n",
       "      <td>Deployment9373_TXOP2_AP3_STA9</td>\n",
       "    </tr>\n",
       "    <tr>\n",
       "      <th>3</th>\n",
       "      <td>9373</td>\n",
       "      <td>TXOP2</td>\n",
       "      <td>AP1</td>\n",
       "      <td>STA3</td>\n",
       "      <td>-67.19</td>\n",
       "      <td>Deployment9373_TXOP2_AP1_STA3</td>\n",
       "    </tr>\n",
       "    <tr>\n",
       "      <th>4</th>\n",
       "      <td>9373</td>\n",
       "      <td>TXOP3</td>\n",
       "      <td>AP4</td>\n",
       "      <td>STA14</td>\n",
       "      <td>-65.58</td>\n",
       "      <td>Deployment9373_TXOP3_AP4_STA14</td>\n",
       "    </tr>\n",
       "  </tbody>\n",
       "</table>\n",
       "</div>"
      ],
      "text/plain": [
       "   Deployment   TXOP mainAP mainSTA  mainRSSI                              ID\n",
       "0        9373  TXOP1    AP9   STA35    -69.12  Deployment9373_TXOP1_AP9_STA35\n",
       "1        9373  TXOP2    AP4   STA13    -64.87  Deployment9373_TXOP2_AP4_STA13\n",
       "2        9373  TXOP2    AP3    STA9    -63.71   Deployment9373_TXOP2_AP3_STA9\n",
       "3        9373  TXOP2    AP1    STA3    -67.19   Deployment9373_TXOP2_AP1_STA3\n",
       "4        9373  TXOP3    AP4   STA14    -65.58  Deployment9373_TXOP3_AP4_STA14"
      ]
     },
     "execution_count": 88,
     "metadata": {},
     "output_type": "execute_result"
    }
   ],
   "source": [
    "test.head()"
   ]
  },
  {
   "cell_type": "code",
   "execution_count": 89,
   "id": "83bfdd21",
   "metadata": {},
   "outputs": [],
   "source": [
    "AP = np.char.lstrip(np.array(test['mainAP']).astype(str),'AP')\n",
    "STA = np.char.lstrip(np.array(test['mainSTA']).astype(str),'STA')\n",
    "TXOP = np.char.lstrip(np.array(test['TXOP']).astype(str),'TXOP')\n",
    "# Target = np.array(train_df['Target']).astype(int)\n",
    "Deployment = np.array(test['Deployment'])\n",
    "RSSI = np.array(test['mainRSSI'])"
   ]
  },
  {
   "cell_type": "code",
   "execution_count": 90,
   "id": "0ff7ecc2",
   "metadata": {},
   "outputs": [],
   "source": [
    "frame = {'Deployment':Deployment\n",
    "        ,'STA':STA\n",
    "        ,'Ap':AP\n",
    "        ,'RSSI':RSSI\n",
    "        ,'TXOP':TXOP}"
   ]
  },
  {
   "cell_type": "code",
   "execution_count": 91,
   "id": "f3a8608e",
   "metadata": {},
   "outputs": [],
   "source": [
    "nicetest = pd.DataFrame(frame)"
   ]
  },
  {
   "cell_type": "code",
   "execution_count": 92,
   "id": "dd87ea70",
   "metadata": {},
   "outputs": [],
   "source": [
    "# nicetest.to_csv('nicetest.csv',index=False)"
   ]
  },
  {
   "cell_type": "code",
   "execution_count": 93,
   "id": "2dddea24",
   "metadata": {},
   "outputs": [
    {
     "data": {
      "text/html": [
       "<div>\n",
       "<style scoped>\n",
       "    .dataframe tbody tr th:only-of-type {\n",
       "        vertical-align: middle;\n",
       "    }\n",
       "\n",
       "    .dataframe tbody tr th {\n",
       "        vertical-align: top;\n",
       "    }\n",
       "\n",
       "    .dataframe thead th {\n",
       "        text-align: right;\n",
       "    }\n",
       "</style>\n",
       "<table border=\"1\" class=\"dataframe\">\n",
       "  <thead>\n",
       "    <tr style=\"text-align: right;\">\n",
       "      <th></th>\n",
       "      <th>Deployment</th>\n",
       "      <th>STA</th>\n",
       "      <th>Ap</th>\n",
       "      <th>RSSI</th>\n",
       "      <th>TXOP</th>\n",
       "    </tr>\n",
       "  </thead>\n",
       "  <tbody>\n",
       "    <tr>\n",
       "      <th>0</th>\n",
       "      <td>9373</td>\n",
       "      <td>35</td>\n",
       "      <td>9</td>\n",
       "      <td>-69.12</td>\n",
       "      <td>1</td>\n",
       "    </tr>\n",
       "    <tr>\n",
       "      <th>1</th>\n",
       "      <td>9373</td>\n",
       "      <td>13</td>\n",
       "      <td>4</td>\n",
       "      <td>-64.87</td>\n",
       "      <td>2</td>\n",
       "    </tr>\n",
       "    <tr>\n",
       "      <th>2</th>\n",
       "      <td>9373</td>\n",
       "      <td>9</td>\n",
       "      <td>3</td>\n",
       "      <td>-63.71</td>\n",
       "      <td>2</td>\n",
       "    </tr>\n",
       "    <tr>\n",
       "      <th>3</th>\n",
       "      <td>9373</td>\n",
       "      <td>3</td>\n",
       "      <td>1</td>\n",
       "      <td>-67.19</td>\n",
       "      <td>2</td>\n",
       "    </tr>\n",
       "    <tr>\n",
       "      <th>4</th>\n",
       "      <td>9373</td>\n",
       "      <td>14</td>\n",
       "      <td>4</td>\n",
       "      <td>-65.58</td>\n",
       "      <td>3</td>\n",
       "    </tr>\n",
       "    <tr>\n",
       "      <th>...</th>\n",
       "      <td>...</td>\n",
       "      <td>...</td>\n",
       "      <td>...</td>\n",
       "      <td>...</td>\n",
       "      <td>...</td>\n",
       "    </tr>\n",
       "    <tr>\n",
       "      <th>749919</th>\n",
       "      <td>5144</td>\n",
       "      <td>5</td>\n",
       "      <td>3</td>\n",
       "      <td>-63.71</td>\n",
       "      <td>98</td>\n",
       "    </tr>\n",
       "    <tr>\n",
       "      <th>749920</th>\n",
       "      <td>5144</td>\n",
       "      <td>5</td>\n",
       "      <td>3</td>\n",
       "      <td>-63.71</td>\n",
       "      <td>99</td>\n",
       "    </tr>\n",
       "    <tr>\n",
       "      <th>749921</th>\n",
       "      <td>5144</td>\n",
       "      <td>17</td>\n",
       "      <td>9</td>\n",
       "      <td>-65.58</td>\n",
       "      <td>99</td>\n",
       "    </tr>\n",
       "    <tr>\n",
       "      <th>749922</th>\n",
       "      <td>5144</td>\n",
       "      <td>16</td>\n",
       "      <td>8</td>\n",
       "      <td>-64.61</td>\n",
       "      <td>100</td>\n",
       "    </tr>\n",
       "    <tr>\n",
       "      <th>749923</th>\n",
       "      <td>5144</td>\n",
       "      <td>7</td>\n",
       "      <td>4</td>\n",
       "      <td>-69.12</td>\n",
       "      <td>100</td>\n",
       "    </tr>\n",
       "  </tbody>\n",
       "</table>\n",
       "<p>749924 rows × 5 columns</p>\n",
       "</div>"
      ],
      "text/plain": [
       "        Deployment STA Ap   RSSI TXOP\n",
       "0             9373  35  9 -69.12    1\n",
       "1             9373  13  4 -64.87    2\n",
       "2             9373   9  3 -63.71    2\n",
       "3             9373   3  1 -67.19    2\n",
       "4             9373  14  4 -65.58    3\n",
       "...            ...  .. ..    ...  ...\n",
       "749919        5144   5  3 -63.71   98\n",
       "749920        5144   5  3 -63.71   99\n",
       "749921        5144  17  9 -65.58   99\n",
       "749922        5144  16  8 -64.61  100\n",
       "749923        5144   7  4 -69.12  100\n",
       "\n",
       "[749924 rows x 5 columns]"
      ]
     },
     "execution_count": 93,
     "metadata": {},
     "output_type": "execute_result"
    }
   ],
   "source": [
    "nicetest"
   ]
  },
  {
   "cell_type": "code",
   "execution_count": 94,
   "id": "8457ecba",
   "metadata": {},
   "outputs": [
    {
     "data": {
      "text/html": [
       "<div>\n",
       "<style scoped>\n",
       "    .dataframe tbody tr th:only-of-type {\n",
       "        vertical-align: middle;\n",
       "    }\n",
       "\n",
       "    .dataframe tbody tr th {\n",
       "        vertical-align: top;\n",
       "    }\n",
       "\n",
       "    .dataframe thead th {\n",
       "        text-align: right;\n",
       "    }\n",
       "</style>\n",
       "<table border=\"1\" class=\"dataframe\">\n",
       "  <thead>\n",
       "    <tr style=\"text-align: right;\">\n",
       "      <th></th>\n",
       "      <th>Unnamed: 0</th>\n",
       "      <th>AP1</th>\n",
       "      <th>AP2</th>\n",
       "      <th>AP3</th>\n",
       "      <th>AP4</th>\n",
       "      <th>AP5</th>\n",
       "      <th>AP6</th>\n",
       "      <th>AP7</th>\n",
       "      <th>AP8</th>\n",
       "      <th>AP9</th>\n",
       "      <th>TP1</th>\n",
       "      <th>TP2</th>\n",
       "      <th>TP3</th>\n",
       "      <th>TP4</th>\n",
       "      <th>TP5</th>\n",
       "      <th>TP6</th>\n",
       "      <th>TP7</th>\n",
       "      <th>TP8</th>\n",
       "      <th>TP9</th>\n",
       "      <th>Deployment</th>\n",
       "    </tr>\n",
       "  </thead>\n",
       "  <tbody>\n",
       "    <tr>\n",
       "      <th>0</th>\n",
       "      <td>STA1</td>\n",
       "      <td>-64.87</td>\n",
       "      <td>-75.67</td>\n",
       "      <td>-85.98</td>\n",
       "      <td>-68.34</td>\n",
       "      <td>-77.09</td>\n",
       "      <td>-86.38</td>\n",
       "      <td>-83.07</td>\n",
       "      <td>-85.13</td>\n",
       "      <td>-89.73</td>\n",
       "      <td>NaN</td>\n",
       "      <td>NaN</td>\n",
       "      <td>NaN</td>\n",
       "      <td>NaN</td>\n",
       "      <td>NaN</td>\n",
       "      <td>NaN</td>\n",
       "      <td>NaN</td>\n",
       "      <td>NaN</td>\n",
       "      <td>NaN</td>\n",
       "      <td>9391</td>\n",
       "    </tr>\n",
       "    <tr>\n",
       "      <th>1</th>\n",
       "      <td>STA2</td>\n",
       "      <td>-79.89</td>\n",
       "      <td>-67.19</td>\n",
       "      <td>-75.01</td>\n",
       "      <td>-79.89</td>\n",
       "      <td>-67.19</td>\n",
       "      <td>-75.01</td>\n",
       "      <td>-85.82</td>\n",
       "      <td>-82.19</td>\n",
       "      <td>-83.96</td>\n",
       "      <td>NaN</td>\n",
       "      <td>NaN</td>\n",
       "      <td>NaN</td>\n",
       "      <td>NaN</td>\n",
       "      <td>NaN</td>\n",
       "      <td>NaN</td>\n",
       "      <td>NaN</td>\n",
       "      <td>NaN</td>\n",
       "      <td>NaN</td>\n",
       "      <td>9391</td>\n",
       "    </tr>\n",
       "    <tr>\n",
       "      <th>2</th>\n",
       "      <td>STA3</td>\n",
       "      <td>-87.19</td>\n",
       "      <td>-77.41</td>\n",
       "      <td>-55.58</td>\n",
       "      <td>-88.46</td>\n",
       "      <td>-81.24</td>\n",
       "      <td>-74.39</td>\n",
       "      <td>-91.72</td>\n",
       "      <td>-87.85</td>\n",
       "      <td>-85.67</td>\n",
       "      <td>NaN</td>\n",
       "      <td>NaN</td>\n",
       "      <td>NaN</td>\n",
       "      <td>NaN</td>\n",
       "      <td>NaN</td>\n",
       "      <td>NaN</td>\n",
       "      <td>NaN</td>\n",
       "      <td>NaN</td>\n",
       "      <td>NaN</td>\n",
       "      <td>9391</td>\n",
       "    </tr>\n",
       "    <tr>\n",
       "      <th>3</th>\n",
       "      <td>STA4</td>\n",
       "      <td>-81.35</td>\n",
       "      <td>-82.71</td>\n",
       "      <td>-87.90</td>\n",
       "      <td>-66.55</td>\n",
       "      <td>-72.62</td>\n",
       "      <td>-84.37</td>\n",
       "      <td>-69.83</td>\n",
       "      <td>-74.66</td>\n",
       "      <td>-84.86</td>\n",
       "      <td>NaN</td>\n",
       "      <td>NaN</td>\n",
       "      <td>NaN</td>\n",
       "      <td>NaN</td>\n",
       "      <td>NaN</td>\n",
       "      <td>NaN</td>\n",
       "      <td>NaN</td>\n",
       "      <td>NaN</td>\n",
       "      <td>NaN</td>\n",
       "      <td>9391</td>\n",
       "    </tr>\n",
       "    <tr>\n",
       "      <th>4</th>\n",
       "      <td>STA5</td>\n",
       "      <td>-85.33</td>\n",
       "      <td>-82.09</td>\n",
       "      <td>-84.40</td>\n",
       "      <td>-78.77</td>\n",
       "      <td>-66.72</td>\n",
       "      <td>-76.34</td>\n",
       "      <td>-78.77</td>\n",
       "      <td>-66.72</td>\n",
       "      <td>-76.34</td>\n",
       "      <td>NaN</td>\n",
       "      <td>NaN</td>\n",
       "      <td>NaN</td>\n",
       "      <td>NaN</td>\n",
       "      <td>NaN</td>\n",
       "      <td>NaN</td>\n",
       "      <td>NaN</td>\n",
       "      <td>NaN</td>\n",
       "      <td>NaN</td>\n",
       "      <td>9391</td>\n",
       "    </tr>\n",
       "  </tbody>\n",
       "</table>\n",
       "</div>"
      ],
      "text/plain": [
       "  Unnamed: 0    AP1    AP2    AP3    AP4    AP5    AP6    AP7    AP8    AP9  \\\n",
       "0       STA1 -64.87 -75.67 -85.98 -68.34 -77.09 -86.38 -83.07 -85.13 -89.73   \n",
       "1       STA2 -79.89 -67.19 -75.01 -79.89 -67.19 -75.01 -85.82 -82.19 -83.96   \n",
       "2       STA3 -87.19 -77.41 -55.58 -88.46 -81.24 -74.39 -91.72 -87.85 -85.67   \n",
       "3       STA4 -81.35 -82.71 -87.90 -66.55 -72.62 -84.37 -69.83 -74.66 -84.86   \n",
       "4       STA5 -85.33 -82.09 -84.40 -78.77 -66.72 -76.34 -78.77 -66.72 -76.34   \n",
       "\n",
       "   TP1  TP2  TP3  TP4  TP5  TP6  TP7  TP8  TP9  Deployment  \n",
       "0  NaN  NaN  NaN  NaN  NaN  NaN  NaN  NaN  NaN        9391  \n",
       "1  NaN  NaN  NaN  NaN  NaN  NaN  NaN  NaN  NaN        9391  \n",
       "2  NaN  NaN  NaN  NaN  NaN  NaN  NaN  NaN  NaN        9391  \n",
       "3  NaN  NaN  NaN  NaN  NaN  NaN  NaN  NaN  NaN        9391  \n",
       "4  NaN  NaN  NaN  NaN  NaN  NaN  NaN  NaN  NaN        9391  "
      ]
     },
     "execution_count": 94,
     "metadata": {},
     "output_type": "execute_result"
    }
   ],
   "source": [
    "df.head()"
   ]
  }
 ],
 "metadata": {
  "kernelspec": {
   "display_name": "Python 3 (ipykernel)",
   "language": "python",
   "name": "python3"
  },
  "language_info": {
   "codemirror_mode": {
    "name": "ipython",
    "version": 3
   },
   "file_extension": ".py",
   "mimetype": "text/x-python",
   "name": "python",
   "nbconvert_exporter": "python",
   "pygments_lexer": "ipython3",
   "version": "3.10.8"
  }
 },
 "nbformat": 4,
 "nbformat_minor": 5
}
