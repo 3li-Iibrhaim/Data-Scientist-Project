{
 "cells": [
  {
   "cell_type": "code",
   "execution_count": 1,
   "id": "17a81da6",
   "metadata": {
    "_cell_guid": "b1076dfc-b9ad-4769-8c92-a6c4dae69d19",
    "_uuid": "8f2839f25d086af736a60e9eeb907d3b93b6e0e5",
    "execution": {
     "iopub.execute_input": "2023-03-10T03:45:14.626510Z",
     "iopub.status.busy": "2023-03-10T03:45:14.625813Z",
     "iopub.status.idle": "2023-03-10T03:45:14.653976Z",
     "shell.execute_reply": "2023-03-10T03:45:14.652270Z"
    },
    "papermill": {
     "duration": 0.039703,
     "end_time": "2023-03-10T03:45:14.658113",
     "exception": false,
     "start_time": "2023-03-10T03:45:14.618410",
     "status": "completed"
    },
    "tags": []
   },
   "outputs": [
    {
     "name": "stdout",
     "output_type": "stream",
     "text": [
      "/kaggle/input/financialresilience1234/SampleSubmission.csv\n",
      "/kaggle/input/financialresilience1234/Train.csv\n",
      "/kaggle/input/financialresilience1234/VariableDefinitions.csv\n",
      "/kaggle/input/financialresilience1234/Test.csv\n"
     ]
    }
   ],
   "source": [
    "# This Python 3 environment comes with many helpful analytics libraries installed\n",
    "# It is defined by the kaggle/python Docker image: https://github.com/kaggle/docker-python\n",
    "# For example, here's several helpful packages to load\n",
    "\n",
    "import numpy as np # linear algebra\n",
    "import pandas as pd # data processing, CSV file I/O (e.g. pd.read_csv)\n",
    "\n",
    "# Input data files are available in the read-only \"../input/\" directory\n",
    "# For example, running this (by clicking run or pressing Shift+Enter) will list all files under the input directory\n",
    "\n",
    "import os\n",
    "for dirname, _, filenames in os.walk('/kaggle/input'):\n",
    "    for filename in filenames:\n",
    "        print(os.path.join(dirname, filename))\n",
    "\n",
    "# You can write up to 20GB to the current directory (/kaggle/working/) that gets preserved as output when you create a version using \"Save & Run All\" \n",
    "# You can also write temporary files to /kaggle/temp/, but they won't be saved outside of the current session"
   ]
  },
  {
   "cell_type": "code",
   "execution_count": 2,
   "id": "a47c2fd5",
   "metadata": {
    "execution": {
     "iopub.execute_input": "2023-03-10T03:45:14.667508Z",
     "iopub.status.busy": "2023-03-10T03:45:14.667022Z",
     "iopub.status.idle": "2023-03-10T03:45:16.607350Z",
     "shell.execute_reply": "2023-03-10T03:45:16.606014Z"
    },
    "papermill": {
     "duration": 1.949115,
     "end_time": "2023-03-10T03:45:16.610865",
     "exception": false,
     "start_time": "2023-03-10T03:45:14.661750",
     "status": "completed"
    },
    "tags": []
   },
   "outputs": [],
   "source": [
    "import pandas as pd\n",
    "import matplotlib.pyplot as plt\n",
    "import numpy as np\n",
    "import seaborn as sns\n",
    "\n",
    "from sklearn import metrics\n",
    "\n",
    "from sklearn.ensemble import RandomForestRegressor\n",
    "\n",
    "from sklearn.ensemble import RandomForestClassifier\n",
    "from sklearn.metrics import mean_absolute_error\n",
    "\n",
    "from sklearn.model_selection import train_test_split\n",
    "\n",
    "from sklearn.impute import SimpleImputer\n",
    "\n",
    "from mlxtend.preprocessing import minmax_scaling\n",
    "# for Box-Cox Transformation\n",
    "from scipy import stats\n",
    "\n",
    "from sklearn.metrics import roc_auc_score"
   ]
  },
  {
   "cell_type": "code",
   "execution_count": 3,
   "id": "34756ccc",
   "metadata": {
    "execution": {
     "iopub.execute_input": "2023-03-10T03:45:16.619411Z",
     "iopub.status.busy": "2023-03-10T03:45:16.618894Z",
     "iopub.status.idle": "2023-03-10T03:45:17.726456Z",
     "shell.execute_reply": "2023-03-10T03:45:17.724863Z"
    },
    "papermill": {
     "duration": 1.115821,
     "end_time": "2023-03-10T03:45:17.730051",
     "exception": false,
     "start_time": "2023-03-10T03:45:16.614230",
     "status": "completed"
    },
    "tags": []
   },
   "outputs": [],
   "source": [
    "df = pd.read_csv('/kaggle/input/financialresilience1234/Train.csv')\n",
    "submission = pd.read_csv('/kaggle/input/financialresilience1234/SampleSubmission.csv')\n",
    "test = pd.read_csv('/kaggle/input/financialresilience1234/Test.csv')\n",
    "variable = pd.read_csv('/kaggle/input/financialresilience1234/VariableDefinitions.csv')"
   ]
  },
  {
   "cell_type": "code",
   "execution_count": 4,
   "id": "8c178eb7",
   "metadata": {
    "execution": {
     "iopub.execute_input": "2023-03-10T03:45:17.740271Z",
     "iopub.status.busy": "2023-03-10T03:45:17.738921Z",
     "iopub.status.idle": "2023-03-10T03:45:17.752027Z",
     "shell.execute_reply": "2023-03-10T03:45:17.750440Z"
    },
    "papermill": {
     "duration": 0.021946,
     "end_time": "2023-03-10T03:45:17.755764",
     "exception": false,
     "start_time": "2023-03-10T03:45:17.733818",
     "status": "completed"
    },
    "tags": []
   },
   "outputs": [],
   "source": [
    "def preprocess(train,test):\n",
    "    #catogiry\n",
    "    \n",
    "    cat_columns = train.select_dtypes(include=['object'])\n",
    "    cat_columns = cat_columns.fillna('East Asia').replace({'Taiwan, China':'Taiwan'})\n",
    "    \n",
    "    train.loc[:,['country','region']]  = cat_columns[['country','region']]\n",
    "    test.loc[:,['country','region']]  = cat_columns[['country','region']]\n",
    "    \n",
    "    #normalizaiont population\n",
    "    original_data = train.population\n",
    "    normalized_data = stats.boxcox(original_data)\n",
    "    df.population = normalized_data[0]\n",
    "    #scaled \n",
    "#     scaled_data = minmax_scaling(df.population, columns=[0])\n",
    "#     df.population = normalized_data[0]\n",
    "\n",
    "# Fill in the median below: imputation\n",
    "    smimpute = SimpleImputer(strategy='median')\n",
    "    numeric_data = train.select_dtypes(exclude=['object'])\n",
    "    imputed_with_median = pd.DataFrame(smimpute.fit_transform(numeric_data),columns=numeric_data.columns)\n",
    "    train.loc[:,numeric_data.columns] = imputed_with_median\n",
    "\n",
    "    \n",
    "    numeric_datat = test.select_dtypes(exclude=['object'])\n",
    "    imputed_with_mediant = pd.DataFrame(smimpute.fit_transform(numeric_datat),columns=numeric_datat.columns)\n",
    "    test.loc[:,numeric_datat.columns] = imputed_with_mediant\n",
    "    \n",
    "    return train,test"
   ]
  },
  {
   "cell_type": "code",
   "execution_count": 5,
   "id": "bd83a5bd",
   "metadata": {
    "execution": {
     "iopub.execute_input": "2023-03-10T03:45:17.766840Z",
     "iopub.status.busy": "2023-03-10T03:45:17.765878Z",
     "iopub.status.idle": "2023-03-10T03:45:18.721766Z",
     "shell.execute_reply": "2023-03-10T03:45:18.720280Z"
    },
    "papermill": {
     "duration": 0.965178,
     "end_time": "2023-03-10T03:45:18.725021",
     "exception": false,
     "start_time": "2023-03-10T03:45:17.759843",
     "status": "completed"
    },
    "tags": []
   },
   "outputs": [],
   "source": [
    "train,test = preprocess(df.copy(),test.copy())"
   ]
  },
  {
   "cell_type": "code",
   "execution_count": 6,
   "id": "48e61363",
   "metadata": {
    "execution": {
     "iopub.execute_input": "2023-03-10T03:45:18.734051Z",
     "iopub.status.busy": "2023-03-10T03:45:18.732861Z",
     "iopub.status.idle": "2023-03-10T03:45:21.647631Z",
     "shell.execute_reply": "2023-03-10T03:45:21.645887Z"
    },
    "papermill": {
     "duration": 2.922261,
     "end_time": "2023-03-10T03:45:21.650567",
     "exception": false,
     "start_time": "2023-03-10T03:45:18.728306",
     "status": "completed"
    },
    "tags": []
   },
   "outputs": [],
   "source": [
    "train.to_csv('train1.csv')\n",
    "test.to_csv('test1.csv')"
   ]
  },
  {
   "cell_type": "code",
   "execution_count": null,
   "id": "cb205fbf",
   "metadata": {
    "papermill": {
     "duration": 0.003257,
     "end_time": "2023-03-10T03:45:21.658217",
     "exception": false,
     "start_time": "2023-03-10T03:45:21.654960",
     "status": "completed"
    },
    "tags": []
   },
   "outputs": [],
   "source": []
  }
 ],
 "metadata": {
  "kernelspec": {
   "display_name": "Python 3 (ipykernel)",
   "language": "python",
   "name": "python3"
  },
  "language_info": {
   "codemirror_mode": {
    "name": "ipython",
    "version": 3
   },
   "file_extension": ".py",
   "mimetype": "text/x-python",
   "name": "python",
   "nbconvert_exporter": "python",
   "pygments_lexer": "ipython3",
   "version": "3.10.9"
  },
  "papermill": {
   "default_parameters": {},
   "duration": 19.111602,
   "end_time": "2023-03-10T03:45:22.788831",
   "environment_variables": {},
   "exception": null,
   "input_path": "__notebook__.ipynb",
   "output_path": "__notebook__.ipynb",
   "parameters": {},
   "start_time": "2023-03-10T03:45:03.677229",
   "version": "2.4.0"
  }
 },
 "nbformat": 4,
 "nbformat_minor": 5
}
