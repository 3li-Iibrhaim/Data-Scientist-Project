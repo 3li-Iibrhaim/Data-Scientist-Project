{
 "cells": [
  {
   "cell_type": "code",
   "execution_count": 255,
   "metadata": {
    "_cell_guid": "b1076dfc-b9ad-4769-8c92-a6c4dae69d19",
    "_uuid": "8f2839f25d086af736a60e9eeb907d3b93b6e0e5",
    "execution": {
     "iopub.execute_input": "2023-03-11T08:27:14.576281Z",
     "iopub.status.busy": "2023-03-11T08:27:14.575766Z",
     "iopub.status.idle": "2023-03-11T08:27:14.590522Z",
     "shell.execute_reply": "2023-03-11T08:27:14.589071Z",
     "shell.execute_reply.started": "2023-03-11T08:27:14.576232Z"
    }
   },
   "outputs": [],
   "source": [
    "import pandas as pd\n",
    "import matplotlib.pyplot as plt\n",
    "import numpy as np\n",
    "import seaborn as sns\n",
    "\n",
    "from sklearn import metrics\n",
    "import catboost as cb\n",
    "from sklearn.ensemble import RandomForestRegressor\n",
    "\n",
    "from sklearn.ensemble import RandomForestClassifier\n",
    "from sklearn.metrics import mean_absolute_error\n",
    "\n",
    "from sklearn.model_selection import train_test_split\n",
    "\n",
    "from sklearn.impute import SimpleImputer\n",
    "\n",
    "from mlxtend.preprocessing import minmax_scaling\n",
    "# for Box-Cox Transformation\n",
    "from scipy import stats\n",
    "import xgboost as xgb\n",
    "from sklearn.metrics import roc_auc_score\n",
    "\n",
    "from sklearn import preprocessing\n",
    "import lightgbm as lgbm\n",
    "from sklearn.model_selection import train_test_split, GridSearchCV\n",
    "from sklearn.model_selection import cross_val_score\n",
    "from sklearn.preprocessing import OneHotEncoder\n",
    "\n",
    "from sklearn.linear_model import LogisticRegression\n",
    "from sklearn.svm import SVC\n",
    "from sklearn.ensemble import AdaBoostClassifier\n",
    "from sklearn.neighbors import KNeighborsClassifier\n",
    "\n",
    "\n",
    "\n",
    "from sklearn.svm import SVC\n",
    "from sklearn.pipeline import make_pipeline\n",
    "\n",
    "\n",
    "from sklearn.tree import DecisionTreeClassifier\n",
    "from sklearn.ensemble import RandomForestClassifier\n",
    "from sklearn.preprocessing import StandardScaler\n",
    "import warnings \n",
    "from sklearn.linear_model import LinearRegression\n",
    "from sklearn import linear_model\n",
    "warnings.filterwarnings('ignore')"
   ]
  },
  {
   "cell_type": "code",
   "execution_count": 6,
   "metadata": {
    "execution": {
     "iopub.execute_input": "2023-03-11T05:49:24.371020Z",
     "iopub.status.busy": "2023-03-11T05:49:24.370104Z",
     "iopub.status.idle": "2023-03-11T05:49:25.088843Z",
     "shell.execute_reply": "2023-03-11T05:49:25.087665Z",
     "shell.execute_reply.started": "2023-03-11T05:49:24.370970Z"
    }
   },
   "outputs": [],
   "source": [
    "train = pd.read_csv('/kaggle/input/alidata/final_train.csv')\n",
    "test = pd.read_csv('/kaggle/input/alidata/final_test.csv')\n",
    "submition = pd.read_csv('/kaggle/input/financialresilience1234/SampleSubmission.csv')"
   ]
  },
  {
   "cell_type": "code",
   "execution_count": 7,
   "metadata": {
    "execution": {
     "iopub.execute_input": "2023-03-11T05:49:26.273159Z",
     "iopub.status.busy": "2023-03-11T05:49:26.272749Z",
     "iopub.status.idle": "2023-03-11T05:49:26.566600Z",
     "shell.execute_reply": "2023-03-11T05:49:26.565546Z",
     "shell.execute_reply.started": "2023-03-11T05:49:26.273125Z"
    }
   },
   "outputs": [],
   "source": [
    "df = pd.read_csv('/kaggle/input/financialresilience1234/Train.csv')\n",
    "y = df.target"
   ]
  },
  {
   "cell_type": "code",
   "execution_count": 8,
   "metadata": {
    "execution": {
     "iopub.execute_input": "2023-03-11T05:49:26.961656Z",
     "iopub.status.busy": "2023-03-11T05:49:26.961289Z",
     "iopub.status.idle": "2023-03-11T05:49:27.103313Z",
     "shell.execute_reply": "2023-03-11T05:49:27.102160Z",
     "shell.execute_reply.started": "2023-03-11T05:49:26.961623Z"
    }
   },
   "outputs": [],
   "source": [
    "train.drop([\"Q2\"],axis=1,inplace=True)\n",
    "train.drop([\"Q3\"],axis=1,inplace=True)\n",
    "train.drop([\"Q4\"],axis=1,inplace=True)\n",
    "train.drop([\"Q5\"],axis=1,inplace=True)\n",
    "train.drop([\"Q8\"],axis=1,inplace=True)\n",
    "train.drop([\"Q9\"],axis=1,inplace=True)\n",
    "train.drop([\"Q20\"],axis=1,inplace=True)\n",
    "train.drop([\"Q21\"],axis=1,inplace=True)\n",
    "train.drop([\"Q23\"],axis=1,inplace=True)\n",
    "train.drop([\"Q28\"],axis=1,inplace=True)\n",
    "test.drop([\"Q2\"],axis=1,inplace=True)\n",
    "test.drop([\"Q3\"],axis=1,inplace=True)\n",
    "test.drop([\"Q4\"],axis=1,inplace=True)\n",
    "test.drop([\"Q5\"],axis=1,inplace=True)\n",
    "test.drop([\"Q8\"],axis=1,inplace=True)\n",
    "test.drop([\"Q9\"],axis=1,inplace=True)\n",
    "test.drop([\"Q20\"],axis=1,inplace=True)\n",
    "test.drop([\"Q21\"],axis=1,inplace=True)\n",
    "test.drop([\"Q23\"],axis=1,inplace=True)\n",
    "test.drop([\"Q28\"],axis=1,inplace=True)\n",
    "train.drop([\"owns_mobile\"], axis=1, inplace=True)\n",
    "\n",
    "ntrain = train.shape[0] # to be used to split train and test set from the combined dataframe\n",
    "\n",
    "all_data = pd.concat((train, test)).reset_index(drop=True)\n",
    "\n",
    "all_data[\"debit_card\"]=all_data[\"Q1\"]+all_data[\"Q6\"]\n",
    "all_data[\"got_savings\"]=all_data[\"Q11\"]+all_data[\"Q12\"]+all_data[\"Q13a\"]+all_data[\"Q22\"]\n",
    "all_data[\"borrowed\"]=all_data[\"Q16\"]+all_data[\"Q14\"]+all_data[\"Q15\"]+all_data[\"Q17a\"]+all_data[\"Q17b\"]\n",
    "all_data[\"given\"]=all_data[\"Q19\"]\n",
    "all_data[\"benefit\"]=all_data[\"Q24\"]+all_data[\"Q25\"]+all_data[\"Q26\"]\n",
    "\n",
    "all_data[\"internet_access\"]=all_data[\"Q10a\"]+all_data[\"Q10b\"]\n",
    "all_data.drop([\"Q10b\",\"Q10a\",\"Q27\"], axis=1, inplace=True)\n",
    "\n",
    "all_data.drop([\"Q6\",\"Q11\",\"Q12\",\"Q13a\",\"Q22\",\"Q16\",\"Q14\",\"Q15\",\"Q17a\",\"Q17b\",\"Q19\",\"Q24\",\"Q25\",\"Q26\",\"Q1\"], axis=1, inplace=True)\n",
    "\n",
    "all_data.drop([\"owns_mobile\"], axis=1, inplace=True)\n",
    "\n",
    "#all_data['ID']=all_IDs[\"ID\"]\n",
    "#all_data.drop([\"internet_access\"], axis=1, inplace=True)\n",
    "all_data.drop([\"region\"], axis=1, inplace=True)\n",
    "\n",
    "\n",
    "train = all_data[:ntrain]\n",
    "test = all_data[ntrain:]"
   ]
  },
  {
   "cell_type": "code",
   "execution_count": 9,
   "metadata": {
    "execution": {
     "iopub.execute_input": "2023-03-11T05:50:39.244618Z",
     "iopub.status.busy": "2023-03-11T05:50:39.243694Z",
     "iopub.status.idle": "2023-03-11T05:50:39.249640Z",
     "shell.execute_reply": "2023-03-11T05:50:39.248243Z",
     "shell.execute_reply.started": "2023-03-11T05:50:39.244581Z"
    }
   },
   "outputs": [],
   "source": [
    "#train data scaling\n",
    "from sklearn.preprocessing import StandardScaler\n",
    "\n",
    "scaler = StandardScaler()"
   ]
  },
  {
   "cell_type": "code",
   "execution_count": 11,
   "metadata": {
    "execution": {
     "iopub.execute_input": "2023-03-11T05:50:47.052054Z",
     "iopub.status.busy": "2023-03-11T05:50:47.051090Z",
     "iopub.status.idle": "2023-03-11T05:50:47.071927Z",
     "shell.execute_reply": "2023-03-11T05:50:47.070928Z",
     "shell.execute_reply.started": "2023-03-11T05:50:47.051993Z"
    }
   },
   "outputs": [],
   "source": [
    "scaled_train_data=scaler.fit_transform(train, y=y)\n",
    "scaled_test_data=scaler.transform(test)"
   ]
  },
  {
   "cell_type": "code",
   "execution_count": 26,
   "metadata": {
    "execution": {
     "iopub.execute_input": "2023-03-11T05:53:58.814761Z",
     "iopub.status.busy": "2023-03-11T05:53:58.813624Z",
     "iopub.status.idle": "2023-03-11T05:53:58.833285Z",
     "shell.execute_reply": "2023-03-11T05:53:58.832350Z",
     "shell.execute_reply.started": "2023-03-11T05:53:58.814716Z"
    }
   },
   "outputs": [],
   "source": [
    "# seed = 7\n",
    "# test_size = 0.33\n",
    "# X_train, X_test, y_train, y_test = train_test_split(scaled_train_data, y, test_size=test_size, random_state=seed)\n",
    "\n",
    "seed = 7\n",
    "test_size = 0.33\n",
    "X_train, X_test, y_train, y_test = train_test_split(train, y, test_size=test_size, random_state=seed)"
   ]
  },
  {
   "cell_type": "code",
   "execution_count": 27,
   "metadata": {
    "execution": {
     "iopub.execute_input": "2023-03-11T05:53:59.102598Z",
     "iopub.status.busy": "2023-03-11T05:53:59.101657Z",
     "iopub.status.idle": "2023-03-11T05:53:59.135155Z",
     "shell.execute_reply": "2023-03-11T05:53:59.134017Z",
     "shell.execute_reply.started": "2023-03-11T05:53:59.102561Z"
    }
   },
   "outputs": [
    {
     "data": {
      "text/plain": [
       "0.6451295980581964"
      ]
     },
     "execution_count": 27,
     "metadata": {},
     "output_type": "execute_result"
    }
   ],
   "source": [
    "from sklearn.naive_bayes import GaussianNB\n",
    "# X, y = load_iris(return_X_y=True)\n",
    "# X_train, X_test, y_train, y_test = train_test_split(X, y, test_size=0.5, random_state=0)\n",
    "gnb = GaussianNB()\n",
    "\n",
    "gnb.fit(X_train, y_train)\n",
    "gnb.score(X_test,y_test)"
   ]
  },
  {
   "cell_type": "code",
   "execution_count": 28,
   "metadata": {
    "execution": {
     "iopub.execute_input": "2023-03-11T05:54:00.385039Z",
     "iopub.status.busy": "2023-03-11T05:54:00.383838Z",
     "iopub.status.idle": "2023-03-11T05:54:00.390932Z",
     "shell.execute_reply": "2023-03-11T05:54:00.389301Z",
     "shell.execute_reply.started": "2023-03-11T05:54:00.384989Z"
    }
   },
   "outputs": [],
   "source": [
    "lr = LinearRegression()"
   ]
  },
  {
   "cell_type": "code",
   "execution_count": 29,
   "metadata": {
    "execution": {
     "iopub.execute_input": "2023-03-11T05:54:00.775034Z",
     "iopub.status.busy": "2023-03-11T05:54:00.774115Z",
     "iopub.status.idle": "2023-03-11T05:54:00.797069Z",
     "shell.execute_reply": "2023-03-11T05:54:00.795754Z",
     "shell.execute_reply.started": "2023-03-11T05:54:00.774986Z"
    }
   },
   "outputs": [
    {
     "data": {
      "text/plain": [
       "LinearRegression()"
      ]
     },
     "execution_count": 29,
     "metadata": {},
     "output_type": "execute_result"
    }
   ],
   "source": [
    "lr.fit(X_train,y_train)"
   ]
  },
  {
   "cell_type": "code",
   "execution_count": 30,
   "metadata": {
    "execution": {
     "iopub.execute_input": "2023-03-11T05:54:02.525653Z",
     "iopub.status.busy": "2023-03-11T05:54:02.525067Z",
     "iopub.status.idle": "2023-03-11T05:54:02.535942Z",
     "shell.execute_reply": "2023-03-11T05:54:02.534821Z",
     "shell.execute_reply.started": "2023-03-11T05:54:02.525616Z"
    }
   },
   "outputs": [
    {
     "data": {
      "text/plain": [
       "0.2000077907300779"
      ]
     },
     "execution_count": 30,
     "metadata": {},
     "output_type": "execute_result"
    }
   ],
   "source": [
    "lr.score(X_test,y_test)"
   ]
  },
  {
   "cell_type": "code",
   "execution_count": 38,
   "metadata": {
    "execution": {
     "iopub.execute_input": "2023-03-11T05:54:54.584635Z",
     "iopub.status.busy": "2023-03-11T05:54:54.584270Z",
     "iopub.status.idle": "2023-03-11T05:54:54.599763Z",
     "shell.execute_reply": "2023-03-11T05:54:54.598860Z",
     "shell.execute_reply.started": "2023-03-11T05:54:54.584602Z"
    }
   },
   "outputs": [
    {
     "data": {
      "text/plain": [
       "0"
      ]
     },
     "execution_count": 38,
     "metadata": {},
     "output_type": "execute_result"
    }
   ],
   "source": [
    "gnb.predict(test).max()"
   ]
  },
  {
   "cell_type": "code",
   "execution_count": 48,
   "metadata": {
    "execution": {
     "iopub.execute_input": "2023-03-11T06:06:07.525496Z",
     "iopub.status.busy": "2023-03-11T06:06:07.525018Z",
     "iopub.status.idle": "2023-03-11T06:06:07.531478Z",
     "shell.execute_reply": "2023-03-11T06:06:07.530308Z",
     "shell.execute_reply.started": "2023-03-11T06:06:07.525456Z"
    }
   },
   "outputs": [],
   "source": [
    "from sklearn.model_selection import KFold, StratifiedKFold, RepeatedStratifiedKFold\n",
    "from sklearn.linear_model import LassoCV"
   ]
  },
  {
   "cell_type": "code",
   "execution_count": 51,
   "metadata": {
    "execution": {
     "iopub.execute_input": "2023-03-11T06:06:28.474103Z",
     "iopub.status.busy": "2023-03-11T06:06:28.473713Z",
     "iopub.status.idle": "2023-03-11T06:09:14.484442Z",
     "shell.execute_reply": "2023-03-11T06:09:14.480684Z",
     "shell.execute_reply.started": "2023-03-11T06:06:28.474069Z"
    }
   },
   "outputs": [
    {
     "name": "stdout",
     "output_type": "stream",
     "text": [
      "Best val auc:  0.7689\n",
      "Best val auc:  0.7646\n",
      "Best val auc:  0.7686\n",
      "Best val auc:  0.7646\n",
      "Best val auc:  0.7547\n",
      "Best val auc:  0.7737\n",
      "Best val auc:  0.7679\n",
      "Best val auc:  0.7591\n",
      "Best val auc:  0.7567\n",
      "Best val auc:  0.7592\n",
      "Best val auc:  0.7714\n",
      "Best val auc:  0.7707\n",
      "Best val auc:  0.7639\n",
      "Best val auc:  0.7644\n",
      "Best val auc:  0.7763\n",
      "Best val auc:  0.7729\n",
      "Best val auc:  0.7521\n",
      "Best val auc:  0.7735\n",
      "Best val auc:  0.7594\n",
      "Best val auc:  0.7666\n",
      "mean scores:  0.7655\n"
     ]
    }
   ],
   "source": [
    "preds = []\n",
    "scores = []\n",
    "\n",
    "skf = StratifiedKFold(n_splits=20, random_state=42, shuffle=True)\n",
    "\n",
    "model_params = {\n",
    "    'precompute': 'auto',\n",
    "    'fit_intercept': True,\n",
    "    'max_iter': 100000,\n",
    "    'verbose': False,\n",
    "    'eps': 1e-04, \n",
    "    'n_alphas': 1000,\n",
    "    'n_jobs': -1,\n",
    "}\n",
    "\n",
    "for train_index, test_index in skf.split(train, y):\n",
    "    X_train, X_valid = train.iloc[train_index], train.iloc[test_index]\n",
    "    y_train, y_valid = y.iloc[train_index], y.iloc[test_index]\n",
    "    \n",
    "    model = LassoCV(**model_params)\n",
    "    \n",
    "    model.fit(X_train, y_train)\n",
    "    preds.append(model.predict(X_test))\n",
    "    s = roc_auc_score(y_valid, model.predict(X_valid))\n",
    "    print(f'Best val auc: {s: .4f}')\n",
    "    scores.append(s)\n",
    "    \n",
    "print(f'mean scores: {np.mean(scores): .4f}')"
   ]
  },
  {
   "cell_type": "markdown",
   "metadata": {},
   "source": [
    "# CatBoost"
   ]
  },
  {
   "cell_type": "code",
   "execution_count": 52,
   "metadata": {
    "execution": {
     "iopub.execute_input": "2023-03-11T06:10:01.496887Z",
     "iopub.status.busy": "2023-03-11T06:10:01.495778Z",
     "iopub.status.idle": "2023-03-11T06:10:01.502127Z",
     "shell.execute_reply": "2023-03-11T06:10:01.501057Z",
     "shell.execute_reply.started": "2023-03-11T06:10:01.496844Z"
    }
   },
   "outputs": [],
   "source": [
    "def sigmoid(z):\n",
    "    return 1 / (1 + np.exp(-z))"
   ]
  },
  {
   "cell_type": "code",
   "execution_count": null,
   "metadata": {
    "execution": {
     "iopub.status.busy": "2023-03-11T06:15:31.047550Z",
     "iopub.status.idle": "2023-03-11T06:15:31.048190Z",
     "shell.execute_reply": "2023-03-11T06:15:31.047949Z",
     "shell.execute_reply.started": "2023-03-11T06:15:31.047906Z"
    }
   },
   "outputs": [],
   "source": [
    "print('ali')"
   ]
  },
  {
   "cell_type": "code",
   "execution_count": 57,
   "metadata": {
    "execution": {
     "iopub.execute_input": "2023-03-11T06:17:04.965671Z",
     "iopub.status.busy": "2023-03-11T06:17:04.965280Z",
     "iopub.status.idle": "2023-03-11T06:17:05.637289Z",
     "shell.execute_reply": "2023-03-11T06:17:05.636220Z",
     "shell.execute_reply.started": "2023-03-11T06:17:04.965637Z"
    }
   },
   "outputs": [],
   "source": [
    "df = pd.read_csv('/kaggle/input/alidata/final_train.csv')\n",
    "td = pd.read_csv('/kaggle/input/alidata/final_test.csv')"
   ]
  },
  {
   "cell_type": "code",
   "execution_count": 59,
   "metadata": {
    "execution": {
     "iopub.execute_input": "2023-03-11T06:17:24.682498Z",
     "iopub.status.busy": "2023-03-11T06:17:24.681821Z",
     "iopub.status.idle": "2023-03-11T06:17:24.689187Z",
     "shell.execute_reply": "2023-03-11T06:17:24.688049Z",
     "shell.execute_reply.started": "2023-03-11T06:17:24.682459Z"
    }
   },
   "outputs": [
    {
     "data": {
      "text/plain": [
       "True"
      ]
     },
     "execution_count": 59,
     "metadata": {},
     "output_type": "execute_result"
    }
   ],
   "source": [
    "(len(df))==len(train)"
   ]
  },
  {
   "cell_type": "code",
   "execution_count": 97,
   "metadata": {
    "execution": {
     "iopub.execute_input": "2023-03-11T06:45:36.450236Z",
     "iopub.status.busy": "2023-03-11T06:45:36.449275Z",
     "iopub.status.idle": "2023-03-11T06:45:36.457361Z",
     "shell.execute_reply": "2023-03-11T06:45:36.456334Z",
     "shell.execute_reply.started": "2023-03-11T06:45:36.450200Z"
    }
   },
   "outputs": [
    {
     "data": {
      "text/plain": [
       "(Index(['country', 'population', 'age', 'debit_card', 'got_savings', 'borrowed',\n",
       "        'given', 'benefit', 'internet_access'],\n",
       "       dtype='object'),\n",
       " Index(['country', 'region', 'population', 'age', 'Q1', 'Q2', 'Q3', 'Q4', 'Q5',\n",
       "        'Q6', 'Q8', 'Q9', 'Q10a', 'Q10b', 'Q11', 'Q12', 'Q13a', 'Q14', 'Q15',\n",
       "        'Q16', 'Q17a', 'Q17b', 'Q19', 'Q20', 'Q21', 'Q22', 'Q23', 'Q24', 'Q25',\n",
       "        'Q26', 'Q27', 'owns_mobile', 'Q28'],\n",
       "       dtype='object'))"
      ]
     },
     "execution_count": 97,
     "metadata": {},
     "output_type": "execute_result"
    }
   ],
   "source": [
    "train.columns,df.columns"
   ]
  },
  {
   "cell_type": "code",
   "execution_count": 98,
   "metadata": {
    "execution": {
     "iopub.execute_input": "2023-03-11T06:46:19.716363Z",
     "iopub.status.busy": "2023-03-11T06:46:19.715633Z",
     "iopub.status.idle": "2023-03-11T06:46:19.722990Z",
     "shell.execute_reply": "2023-03-11T06:46:19.721330Z",
     "shell.execute_reply.started": "2023-03-11T06:46:19.716324Z"
    }
   },
   "outputs": [],
   "source": [
    "q = ['Q1', 'Q2', 'Q3', 'Q4', 'Q5',\n",
    "        'Q6', 'Q8', 'Q9', 'Q10a', 'Q10b', 'Q11', 'Q12', 'Q13a', 'Q14', 'Q15',\n",
    "        'Q16', 'Q17a', 'Q17b', 'Q19', 'Q20', 'Q21', 'Q22', 'Q23', 'Q24', 'Q25',\n",
    "        'Q26', 'Q27']"
   ]
  },
  {
   "cell_type": "code",
   "execution_count": 129,
   "metadata": {
    "execution": {
     "iopub.execute_input": "2023-03-11T06:55:58.319642Z",
     "iopub.status.busy": "2023-03-11T06:55:58.319081Z",
     "iopub.status.idle": "2023-03-11T06:55:58.367037Z",
     "shell.execute_reply": "2023-03-11T06:55:58.366050Z",
     "shell.execute_reply.started": "2023-03-11T06:55:58.319580Z"
    }
   },
   "outputs": [
    {
     "data": {
      "text/html": [
       "<div>\n",
       "<style scoped>\n",
       "    .dataframe tbody tr th:only-of-type {\n",
       "        vertical-align: middle;\n",
       "    }\n",
       "\n",
       "    .dataframe tbody tr th {\n",
       "        vertical-align: top;\n",
       "    }\n",
       "\n",
       "    .dataframe thead th {\n",
       "        text-align: right;\n",
       "    }\n",
       "</style>\n",
       "<table border=\"1\" class=\"dataframe\">\n",
       "  <thead>\n",
       "    <tr style=\"text-align: right;\">\n",
       "      <th></th>\n",
       "      <th>Q1</th>\n",
       "      <th>Q2</th>\n",
       "      <th>Q3</th>\n",
       "      <th>Q4</th>\n",
       "      <th>Q5</th>\n",
       "      <th>Q6</th>\n",
       "      <th>Q8</th>\n",
       "      <th>Q9</th>\n",
       "      <th>Q10a</th>\n",
       "      <th>Q10b</th>\n",
       "      <th>...</th>\n",
       "      <th>Q17b</th>\n",
       "      <th>Q19</th>\n",
       "      <th>Q20</th>\n",
       "      <th>Q21</th>\n",
       "      <th>Q22</th>\n",
       "      <th>Q23</th>\n",
       "      <th>Q24</th>\n",
       "      <th>Q25</th>\n",
       "      <th>Q26</th>\n",
       "      <th>Q27</th>\n",
       "    </tr>\n",
       "  </thead>\n",
       "  <tbody>\n",
       "    <tr>\n",
       "      <th>0</th>\n",
       "      <td>0.463494</td>\n",
       "      <td>0.462482</td>\n",
       "      <td>0.468711</td>\n",
       "      <td>0.635905</td>\n",
       "      <td>0.627106</td>\n",
       "      <td>0.815513</td>\n",
       "      <td>0.749355</td>\n",
       "      <td>0.741729</td>\n",
       "      <td>0.521591</td>\n",
       "      <td>0.372149</td>\n",
       "      <td>...</td>\n",
       "      <td>0.596714</td>\n",
       "      <td>0.485135</td>\n",
       "      <td>0.511531</td>\n",
       "      <td>0.476220</td>\n",
       "      <td>0.714582</td>\n",
       "      <td>0.783209</td>\n",
       "      <td>0.579284</td>\n",
       "      <td>0.574065</td>\n",
       "      <td>0.522594</td>\n",
       "      <td>0.684246</td>\n",
       "    </tr>\n",
       "    <tr>\n",
       "      <th>1</th>\n",
       "      <td>0.463494</td>\n",
       "      <td>0.462482</td>\n",
       "      <td>0.468711</td>\n",
       "      <td>0.435747</td>\n",
       "      <td>0.435747</td>\n",
       "      <td>0.526127</td>\n",
       "      <td>0.428313</td>\n",
       "      <td>0.428313</td>\n",
       "      <td>0.521591</td>\n",
       "      <td>0.521672</td>\n",
       "      <td>...</td>\n",
       "      <td>0.596714</td>\n",
       "      <td>0.485135</td>\n",
       "      <td>0.511531</td>\n",
       "      <td>0.476220</td>\n",
       "      <td>0.508177</td>\n",
       "      <td>0.507631</td>\n",
       "      <td>0.579284</td>\n",
       "      <td>0.574065</td>\n",
       "      <td>0.522594</td>\n",
       "      <td>0.470778</td>\n",
       "    </tr>\n",
       "    <tr>\n",
       "      <th>2</th>\n",
       "      <td>0.724670</td>\n",
       "      <td>0.730990</td>\n",
       "      <td>0.773343</td>\n",
       "      <td>0.635905</td>\n",
       "      <td>0.627106</td>\n",
       "      <td>0.526127</td>\n",
       "      <td>0.518637</td>\n",
       "      <td>0.531898</td>\n",
       "      <td>0.521591</td>\n",
       "      <td>0.521672</td>\n",
       "      <td>...</td>\n",
       "      <td>0.596714</td>\n",
       "      <td>0.485135</td>\n",
       "      <td>0.511531</td>\n",
       "      <td>0.476220</td>\n",
       "      <td>0.508177</td>\n",
       "      <td>0.507631</td>\n",
       "      <td>0.579284</td>\n",
       "      <td>0.643645</td>\n",
       "      <td>0.522594</td>\n",
       "      <td>0.655313</td>\n",
       "    </tr>\n",
       "    <tr>\n",
       "      <th>3</th>\n",
       "      <td>0.724670</td>\n",
       "      <td>0.730990</td>\n",
       "      <td>0.773343</td>\n",
       "      <td>0.809158</td>\n",
       "      <td>0.627106</td>\n",
       "      <td>0.815513</td>\n",
       "      <td>0.749355</td>\n",
       "      <td>0.741729</td>\n",
       "      <td>0.800941</td>\n",
       "      <td>0.825926</td>\n",
       "      <td>...</td>\n",
       "      <td>0.596714</td>\n",
       "      <td>0.747652</td>\n",
       "      <td>0.747652</td>\n",
       "      <td>0.660487</td>\n",
       "      <td>0.714582</td>\n",
       "      <td>0.691060</td>\n",
       "      <td>0.604052</td>\n",
       "      <td>0.643645</td>\n",
       "      <td>0.747652</td>\n",
       "      <td>0.684246</td>\n",
       "    </tr>\n",
       "    <tr>\n",
       "      <th>4</th>\n",
       "      <td>0.724670</td>\n",
       "      <td>0.730990</td>\n",
       "      <td>0.773343</td>\n",
       "      <td>0.635905</td>\n",
       "      <td>0.627106</td>\n",
       "      <td>0.526127</td>\n",
       "      <td>0.518637</td>\n",
       "      <td>0.741729</td>\n",
       "      <td>0.521591</td>\n",
       "      <td>0.521672</td>\n",
       "      <td>...</td>\n",
       "      <td>0.535388</td>\n",
       "      <td>0.485135</td>\n",
       "      <td>0.601296</td>\n",
       "      <td>0.476220</td>\n",
       "      <td>0.508177</td>\n",
       "      <td>0.507631</td>\n",
       "      <td>0.579284</td>\n",
       "      <td>0.574065</td>\n",
       "      <td>0.522594</td>\n",
       "      <td>0.470778</td>\n",
       "    </tr>\n",
       "    <tr>\n",
       "      <th>...</th>\n",
       "      <td>...</td>\n",
       "      <td>...</td>\n",
       "      <td>...</td>\n",
       "      <td>...</td>\n",
       "      <td>...</td>\n",
       "      <td>...</td>\n",
       "      <td>...</td>\n",
       "      <td>...</td>\n",
       "      <td>...</td>\n",
       "      <td>...</td>\n",
       "      <td>...</td>\n",
       "      <td>...</td>\n",
       "      <td>...</td>\n",
       "      <td>...</td>\n",
       "      <td>...</td>\n",
       "      <td>...</td>\n",
       "      <td>...</td>\n",
       "      <td>...</td>\n",
       "      <td>...</td>\n",
       "      <td>...</td>\n",
       "      <td>...</td>\n",
       "    </tr>\n",
       "    <tr>\n",
       "      <th>44938</th>\n",
       "      <td>0.724670</td>\n",
       "      <td>0.730990</td>\n",
       "      <td>0.773343</td>\n",
       "      <td>0.635905</td>\n",
       "      <td>0.795387</td>\n",
       "      <td>0.815513</td>\n",
       "      <td>0.749355</td>\n",
       "      <td>0.741729</td>\n",
       "      <td>0.521591</td>\n",
       "      <td>0.521672</td>\n",
       "      <td>...</td>\n",
       "      <td>0.596714</td>\n",
       "      <td>0.485135</td>\n",
       "      <td>0.511531</td>\n",
       "      <td>0.660487</td>\n",
       "      <td>0.508177</td>\n",
       "      <td>0.507631</td>\n",
       "      <td>0.579284</td>\n",
       "      <td>0.574065</td>\n",
       "      <td>0.522594</td>\n",
       "      <td>0.470778</td>\n",
       "    </tr>\n",
       "    <tr>\n",
       "      <th>44939</th>\n",
       "      <td>0.724670</td>\n",
       "      <td>0.730990</td>\n",
       "      <td>0.629663</td>\n",
       "      <td>0.635905</td>\n",
       "      <td>0.627106</td>\n",
       "      <td>0.526127</td>\n",
       "      <td>0.518637</td>\n",
       "      <td>0.531898</td>\n",
       "      <td>0.521591</td>\n",
       "      <td>0.521672</td>\n",
       "      <td>...</td>\n",
       "      <td>0.596714</td>\n",
       "      <td>0.485135</td>\n",
       "      <td>0.601296</td>\n",
       "      <td>0.660487</td>\n",
       "      <td>0.714582</td>\n",
       "      <td>0.691060</td>\n",
       "      <td>0.579284</td>\n",
       "      <td>0.574065</td>\n",
       "      <td>0.522594</td>\n",
       "      <td>0.684246</td>\n",
       "    </tr>\n",
       "    <tr>\n",
       "      <th>44940</th>\n",
       "      <td>0.463494</td>\n",
       "      <td>0.462482</td>\n",
       "      <td>0.468711</td>\n",
       "      <td>0.435747</td>\n",
       "      <td>0.435747</td>\n",
       "      <td>0.526127</td>\n",
       "      <td>0.428313</td>\n",
       "      <td>0.428313</td>\n",
       "      <td>0.521591</td>\n",
       "      <td>0.521672</td>\n",
       "      <td>...</td>\n",
       "      <td>0.535388</td>\n",
       "      <td>0.485135</td>\n",
       "      <td>0.601296</td>\n",
       "      <td>0.476220</td>\n",
       "      <td>0.508177</td>\n",
       "      <td>0.507631</td>\n",
       "      <td>0.579284</td>\n",
       "      <td>0.574065</td>\n",
       "      <td>0.522594</td>\n",
       "      <td>0.655313</td>\n",
       "    </tr>\n",
       "    <tr>\n",
       "      <th>44941</th>\n",
       "      <td>0.463494</td>\n",
       "      <td>0.462482</td>\n",
       "      <td>0.468711</td>\n",
       "      <td>0.435747</td>\n",
       "      <td>0.435747</td>\n",
       "      <td>0.526127</td>\n",
       "      <td>0.428313</td>\n",
       "      <td>0.428313</td>\n",
       "      <td>0.521591</td>\n",
       "      <td>0.521672</td>\n",
       "      <td>...</td>\n",
       "      <td>0.535388</td>\n",
       "      <td>0.718690</td>\n",
       "      <td>0.511531</td>\n",
       "      <td>0.660487</td>\n",
       "      <td>0.508177</td>\n",
       "      <td>0.507631</td>\n",
       "      <td>0.579284</td>\n",
       "      <td>0.574065</td>\n",
       "      <td>0.522594</td>\n",
       "      <td>0.470778</td>\n",
       "    </tr>\n",
       "    <tr>\n",
       "      <th>44942</th>\n",
       "      <td>0.463494</td>\n",
       "      <td>0.462482</td>\n",
       "      <td>0.468711</td>\n",
       "      <td>0.435747</td>\n",
       "      <td>0.435747</td>\n",
       "      <td>0.526127</td>\n",
       "      <td>0.428313</td>\n",
       "      <td>0.428313</td>\n",
       "      <td>0.521591</td>\n",
       "      <td>0.521672</td>\n",
       "      <td>...</td>\n",
       "      <td>0.596714</td>\n",
       "      <td>0.485135</td>\n",
       "      <td>0.511531</td>\n",
       "      <td>0.660487</td>\n",
       "      <td>0.508177</td>\n",
       "      <td>0.507631</td>\n",
       "      <td>0.579284</td>\n",
       "      <td>0.574065</td>\n",
       "      <td>0.522594</td>\n",
       "      <td>0.470778</td>\n",
       "    </tr>\n",
       "  </tbody>\n",
       "</table>\n",
       "<p>44943 rows × 27 columns</p>\n",
       "</div>"
      ],
      "text/plain": [
       "             Q1        Q2        Q3        Q4        Q5        Q6        Q8  \\\n",
       "0      0.463494  0.462482  0.468711  0.635905  0.627106  0.815513  0.749355   \n",
       "1      0.463494  0.462482  0.468711  0.435747  0.435747  0.526127  0.428313   \n",
       "2      0.724670  0.730990  0.773343  0.635905  0.627106  0.526127  0.518637   \n",
       "3      0.724670  0.730990  0.773343  0.809158  0.627106  0.815513  0.749355   \n",
       "4      0.724670  0.730990  0.773343  0.635905  0.627106  0.526127  0.518637   \n",
       "...         ...       ...       ...       ...       ...       ...       ...   \n",
       "44938  0.724670  0.730990  0.773343  0.635905  0.795387  0.815513  0.749355   \n",
       "44939  0.724670  0.730990  0.629663  0.635905  0.627106  0.526127  0.518637   \n",
       "44940  0.463494  0.462482  0.468711  0.435747  0.435747  0.526127  0.428313   \n",
       "44941  0.463494  0.462482  0.468711  0.435747  0.435747  0.526127  0.428313   \n",
       "44942  0.463494  0.462482  0.468711  0.435747  0.435747  0.526127  0.428313   \n",
       "\n",
       "             Q9      Q10a      Q10b  ...      Q17b       Q19       Q20  \\\n",
       "0      0.741729  0.521591  0.372149  ...  0.596714  0.485135  0.511531   \n",
       "1      0.428313  0.521591  0.521672  ...  0.596714  0.485135  0.511531   \n",
       "2      0.531898  0.521591  0.521672  ...  0.596714  0.485135  0.511531   \n",
       "3      0.741729  0.800941  0.825926  ...  0.596714  0.747652  0.747652   \n",
       "4      0.741729  0.521591  0.521672  ...  0.535388  0.485135  0.601296   \n",
       "...         ...       ...       ...  ...       ...       ...       ...   \n",
       "44938  0.741729  0.521591  0.521672  ...  0.596714  0.485135  0.511531   \n",
       "44939  0.531898  0.521591  0.521672  ...  0.596714  0.485135  0.601296   \n",
       "44940  0.428313  0.521591  0.521672  ...  0.535388  0.485135  0.601296   \n",
       "44941  0.428313  0.521591  0.521672  ...  0.535388  0.718690  0.511531   \n",
       "44942  0.428313  0.521591  0.521672  ...  0.596714  0.485135  0.511531   \n",
       "\n",
       "            Q21       Q22       Q23       Q24       Q25       Q26       Q27  \n",
       "0      0.476220  0.714582  0.783209  0.579284  0.574065  0.522594  0.684246  \n",
       "1      0.476220  0.508177  0.507631  0.579284  0.574065  0.522594  0.470778  \n",
       "2      0.476220  0.508177  0.507631  0.579284  0.643645  0.522594  0.655313  \n",
       "3      0.660487  0.714582  0.691060  0.604052  0.643645  0.747652  0.684246  \n",
       "4      0.476220  0.508177  0.507631  0.579284  0.574065  0.522594  0.470778  \n",
       "...         ...       ...       ...       ...       ...       ...       ...  \n",
       "44938  0.660487  0.508177  0.507631  0.579284  0.574065  0.522594  0.470778  \n",
       "44939  0.660487  0.714582  0.691060  0.579284  0.574065  0.522594  0.684246  \n",
       "44940  0.476220  0.508177  0.507631  0.579284  0.574065  0.522594  0.655313  \n",
       "44941  0.660487  0.508177  0.507631  0.579284  0.574065  0.522594  0.470778  \n",
       "44942  0.660487  0.508177  0.507631  0.579284  0.574065  0.522594  0.470778  \n",
       "\n",
       "[44943 rows x 27 columns]"
      ]
     },
     "execution_count": 129,
     "metadata": {},
     "output_type": "execute_result"
    }
   ],
   "source": [
    "td[q]"
   ]
  },
  {
   "cell_type": "code",
   "execution_count": 100,
   "metadata": {
    "execution": {
     "iopub.execute_input": "2023-03-11T06:46:40.646500Z",
     "iopub.status.busy": "2023-03-11T06:46:40.645767Z",
     "iopub.status.idle": "2023-03-11T06:46:40.681316Z",
     "shell.execute_reply": "2023-03-11T06:46:40.680236Z",
     "shell.execute_reply.started": "2023-03-11T06:46:40.646464Z"
    }
   },
   "outputs": [],
   "source": [
    "full_concat = pd.concat([df[q],train],axis=1)\n",
    "test_concat = pd.concat([td[q] ,test],axis=1)"
   ]
  },
  {
   "cell_type": "code",
   "execution_count": 130,
   "metadata": {
    "execution": {
     "iopub.execute_input": "2023-03-11T06:56:10.435088Z",
     "iopub.status.busy": "2023-03-11T06:56:10.434330Z",
     "iopub.status.idle": "2023-03-11T06:56:10.465484Z",
     "shell.execute_reply": "2023-03-11T06:56:10.464447Z",
     "shell.execute_reply.started": "2023-03-11T06:56:10.435041Z"
    }
   },
   "outputs": [],
   "source": [
    "test_concat = pd.concat([td[q],test],axis=1)"
   ]
  },
  {
   "cell_type": "code",
   "execution_count": 162,
   "metadata": {
    "execution": {
     "iopub.execute_input": "2023-03-11T07:06:53.698854Z",
     "iopub.status.busy": "2023-03-11T07:06:53.698478Z",
     "iopub.status.idle": "2023-03-11T07:06:53.715242Z",
     "shell.execute_reply": "2023-03-11T07:06:53.713990Z",
     "shell.execute_reply.started": "2023-03-11T07:06:53.698819Z"
    }
   },
   "outputs": [],
   "source": [
    "test_concat = pd.concat([td[q].reset_index(drop=True), test.reset_index(drop=True)], axis=1)"
   ]
  },
  {
   "cell_type": "code",
   "execution_count": 103,
   "metadata": {
    "execution": {
     "iopub.execute_input": "2023-03-11T06:47:15.931720Z",
     "iopub.status.busy": "2023-03-11T06:47:15.931067Z",
     "iopub.status.idle": "2023-03-11T06:47:15.967066Z",
     "shell.execute_reply": "2023-03-11T06:47:15.966033Z",
     "shell.execute_reply.started": "2023-03-11T06:47:15.931686Z"
    }
   },
   "outputs": [],
   "source": [
    "seed = 7\n",
    "test_size = 0.33\n",
    "X_train, X_test, y_train, y_test = train_test_split(full_concat, y, test_size=test_size, random_state=seed)"
   ]
  },
  {
   "cell_type": "code",
   "execution_count": 76,
   "metadata": {
    "execution": {
     "iopub.execute_input": "2023-03-11T06:24:12.149328Z",
     "iopub.status.busy": "2023-03-11T06:24:12.148965Z",
     "iopub.status.idle": "2023-03-11T06:33:59.469343Z",
     "shell.execute_reply": "2023-03-11T06:33:59.467877Z",
     "shell.execute_reply.started": "2023-03-11T06:24:12.149296Z"
    }
   },
   "outputs": [
    {
     "name": "stdout",
     "output_type": "stream",
     "text": [
      "Best val auc:  0.7892\n",
      "Best val auc:  0.7810\n",
      "Best val auc:  0.7808\n",
      "Best val auc:  0.7795\n",
      "Best val auc:  0.7713\n",
      "Best val auc:  0.7899\n",
      "Best val auc:  0.7805\n",
      "Best val auc:  0.7756\n",
      "Best val auc:  0.7661\n",
      "Best val auc:  0.7756\n",
      "Best val auc:  0.7850\n",
      "Best val auc:  0.7865\n",
      "Best val auc:  0.7809\n",
      "Best val auc:  0.7862\n",
      "Best val auc:  0.7926\n",
      "Best val auc:  0.7911\n",
      "Best val auc:  0.7672\n",
      "Best val auc:  0.7835\n",
      "Best val auc:  0.7729\n",
      "Best val auc:  0.7847\n",
      "mean scores:  0.7810\n"
     ]
    }
   ],
   "source": [
    "preds = []\n",
    "scores = []\n",
    "\n",
    "skf = StratifiedKFold(n_splits=20, random_state=42, shuffle=True)\n",
    "\n",
    "model_params = {\n",
    "    'precompute': 'auto',\n",
    "    'fit_intercept': True,\n",
    "    'max_iter': 100000,\n",
    "    'verbose': False,\n",
    "    'eps': 1e-04, \n",
    "    'n_alphas': 1000,\n",
    "    'n_jobs': -1,\n",
    "}\n",
    "\n",
    "for train_index, test_index in skf.split(full_concat, y):\n",
    "    X_train, X_valid = full_concat.iloc[train_index], full_concat.iloc[test_index]\n",
    "    y_train, y_valid = y.iloc[train_index], y.iloc[test_index]\n",
    "    \n",
    "    model = LassoCV(**model_params)\n",
    "    \n",
    "    model.fit(X_train, y_train)\n",
    "    preds.append(model.predict(X_test))\n",
    "    s = roc_auc_score(y_valid, model.predict(X_valid))\n",
    "    print(f'Best val auc: {s: .4f}')\n",
    "    scores.append(s)\n",
    "    \n",
    "print(f'mean scores: {np.mean(scores): .4f}')"
   ]
  },
  {
   "cell_type": "code",
   "execution_count": 78,
   "metadata": {
    "execution": {
     "iopub.execute_input": "2023-03-11T06:38:11.855658Z",
     "iopub.status.busy": "2023-03-11T06:38:11.854719Z",
     "iopub.status.idle": "2023-03-11T06:38:11.861921Z",
     "shell.execute_reply": "2023-03-11T06:38:11.860484Z",
     "shell.execute_reply.started": "2023-03-11T06:38:11.855608Z"
    }
   },
   "outputs": [],
   "source": [
    "from scipy.stats import rankdata"
   ]
  },
  {
   "cell_type": "code",
   "execution_count": 79,
   "metadata": {
    "execution": {
     "iopub.execute_input": "2023-03-11T06:38:15.166979Z",
     "iopub.status.busy": "2023-03-11T06:38:15.166504Z",
     "iopub.status.idle": "2023-03-11T06:38:15.282406Z",
     "shell.execute_reply": "2023-03-11T06:38:15.281280Z",
     "shell.execute_reply.started": "2023-03-11T06:38:15.166932Z"
    }
   },
   "outputs": [],
   "source": [
    "rankpreds = []\n",
    "\n",
    "for pred in preds:\n",
    "    rankpred = rankdata(pred)\n",
    "    rankpreds.append(rankpred)\n",
    "\n",
    "finalrank = np.average(np.array(rankpreds), axis=0) / len(X_test)"
   ]
  },
  {
   "cell_type": "code",
   "execution_count": 82,
   "metadata": {
    "execution": {
     "iopub.execute_input": "2023-03-11T06:40:09.652862Z",
     "iopub.status.busy": "2023-03-11T06:40:09.652266Z",
     "iopub.status.idle": "2023-03-11T06:40:09.657805Z",
     "shell.execute_reply": "2023-03-11T06:40:09.656547Z",
     "shell.execute_reply.started": "2023-03-11T06:40:09.652826Z"
    }
   },
   "outputs": [],
   "source": [
    "# submition['targeg'] = finalrank"
   ]
  },
  {
   "cell_type": "code",
   "execution_count": 92,
   "metadata": {
    "execution": {
     "iopub.execute_input": "2023-03-11T06:44:30.755728Z",
     "iopub.status.busy": "2023-03-11T06:44:30.755041Z",
     "iopub.status.idle": "2023-03-11T06:44:30.777553Z",
     "shell.execute_reply": "2023-03-11T06:44:30.776305Z",
     "shell.execute_reply.started": "2023-03-11T06:44:30.755691Z"
    }
   },
   "outputs": [
    {
     "data": {
      "text/html": [
       "<div>\n",
       "<style scoped>\n",
       "    .dataframe tbody tr th:only-of-type {\n",
       "        vertical-align: middle;\n",
       "    }\n",
       "\n",
       "    .dataframe tbody tr th {\n",
       "        vertical-align: top;\n",
       "    }\n",
       "\n",
       "    .dataframe thead th {\n",
       "        text-align: right;\n",
       "    }\n",
       "</style>\n",
       "<table border=\"1\" class=\"dataframe\">\n",
       "  <thead>\n",
       "    <tr style=\"text-align: right;\">\n",
       "      <th></th>\n",
       "      <th>country</th>\n",
       "      <th>population</th>\n",
       "      <th>age</th>\n",
       "      <th>debit_card</th>\n",
       "      <th>got_savings</th>\n",
       "      <th>borrowed</th>\n",
       "      <th>given</th>\n",
       "      <th>benefit</th>\n",
       "      <th>internet_access</th>\n",
       "    </tr>\n",
       "  </thead>\n",
       "  <tbody>\n",
       "    <tr>\n",
       "      <th>0</th>\n",
       "      <td>0.478657</td>\n",
       "      <td>2.836511</td>\n",
       "      <td>66.0</td>\n",
       "      <td>0.989621</td>\n",
       "      <td>2.079791</td>\n",
       "      <td>2.696864</td>\n",
       "      <td>0.485135</td>\n",
       "      <td>1.700711</td>\n",
       "      <td>1.043263</td>\n",
       "    </tr>\n",
       "    <tr>\n",
       "      <th>1</th>\n",
       "      <td>0.829662</td>\n",
       "      <td>2.730439</td>\n",
       "      <td>44.0</td>\n",
       "      <td>0.989621</td>\n",
       "      <td>2.408512</td>\n",
       "      <td>3.029042</td>\n",
       "      <td>0.485135</td>\n",
       "      <td>1.675943</td>\n",
       "      <td>1.043263</td>\n",
       "    </tr>\n",
       "    <tr>\n",
       "      <th>2</th>\n",
       "      <td>0.478657</td>\n",
       "      <td>2.836511</td>\n",
       "      <td>29.0</td>\n",
       "      <td>1.250797</td>\n",
       "      <td>2.286197</td>\n",
       "      <td>2.890727</td>\n",
       "      <td>0.485135</td>\n",
       "      <td>1.675943</td>\n",
       "      <td>1.043263</td>\n",
       "    </tr>\n",
       "    <tr>\n",
       "      <th>3</th>\n",
       "      <td>0.871612</td>\n",
       "      <td>2.846823</td>\n",
       "      <td>44.0</td>\n",
       "      <td>1.250797</td>\n",
       "      <td>2.906658</td>\n",
       "      <td>3.029042</td>\n",
       "      <td>0.747652</td>\n",
       "      <td>1.925770</td>\n",
       "      <td>1.626868</td>\n",
       "    </tr>\n",
       "    <tr>\n",
       "      <th>4</th>\n",
       "      <td>0.216374</td>\n",
       "      <td>2.909528</td>\n",
       "      <td>36.0</td>\n",
       "      <td>0.989621</td>\n",
       "      <td>2.079791</td>\n",
       "      <td>2.890727</td>\n",
       "      <td>0.485135</td>\n",
       "      <td>1.700711</td>\n",
       "      <td>1.322613</td>\n",
       "    </tr>\n",
       "    <tr>\n",
       "      <th>...</th>\n",
       "      <td>...</td>\n",
       "      <td>...</td>\n",
       "      <td>...</td>\n",
       "      <td>...</td>\n",
       "      <td>...</td>\n",
       "      <td>...</td>\n",
       "      <td>...</td>\n",
       "      <td>...</td>\n",
       "      <td>...</td>\n",
       "    </tr>\n",
       "    <tr>\n",
       "      <th>104862</th>\n",
       "      <td>0.452849</td>\n",
       "      <td>3.028820</td>\n",
       "      <td>48.0</td>\n",
       "      <td>0.989621</td>\n",
       "      <td>2.079791</td>\n",
       "      <td>2.890727</td>\n",
       "      <td>0.485135</td>\n",
       "      <td>1.675943</td>\n",
       "      <td>1.043263</td>\n",
       "    </tr>\n",
       "    <tr>\n",
       "      <th>104863</th>\n",
       "      <td>0.753890</td>\n",
       "      <td>2.753077</td>\n",
       "      <td>16.0</td>\n",
       "      <td>1.250797</td>\n",
       "      <td>2.614918</td>\n",
       "      <td>2.890727</td>\n",
       "      <td>0.747652</td>\n",
       "      <td>1.925770</td>\n",
       "      <td>1.626868</td>\n",
       "    </tr>\n",
       "    <tr>\n",
       "      <th>104864</th>\n",
       "      <td>0.455587</td>\n",
       "      <td>2.627547</td>\n",
       "      <td>53.0</td>\n",
       "      <td>1.250797</td>\n",
       "      <td>2.079791</td>\n",
       "      <td>2.890727</td>\n",
       "      <td>0.747652</td>\n",
       "      <td>1.901002</td>\n",
       "      <td>1.043263</td>\n",
       "    </tr>\n",
       "    <tr>\n",
       "      <th>104865</th>\n",
       "      <td>0.889855</td>\n",
       "      <td>2.895362</td>\n",
       "      <td>50.0</td>\n",
       "      <td>0.989621</td>\n",
       "      <td>2.573029</td>\n",
       "      <td>2.890727</td>\n",
       "      <td>0.747652</td>\n",
       "      <td>1.901002</td>\n",
       "      <td>1.043263</td>\n",
       "    </tr>\n",
       "    <tr>\n",
       "      <th>104866</th>\n",
       "      <td>0.750385</td>\n",
       "      <td>2.894946</td>\n",
       "      <td>60.0</td>\n",
       "      <td>0.989621</td>\n",
       "      <td>2.286197</td>\n",
       "      <td>2.890727</td>\n",
       "      <td>0.485135</td>\n",
       "      <td>1.700711</td>\n",
       "      <td>1.043263</td>\n",
       "    </tr>\n",
       "  </tbody>\n",
       "</table>\n",
       "<p>104867 rows × 9 columns</p>\n",
       "</div>"
      ],
      "text/plain": [
       "         country  population   age  debit_card  got_savings  borrowed  \\\n",
       "0       0.478657    2.836511  66.0    0.989621     2.079791  2.696864   \n",
       "1       0.829662    2.730439  44.0    0.989621     2.408512  3.029042   \n",
       "2       0.478657    2.836511  29.0    1.250797     2.286197  2.890727   \n",
       "3       0.871612    2.846823  44.0    1.250797     2.906658  3.029042   \n",
       "4       0.216374    2.909528  36.0    0.989621     2.079791  2.890727   \n",
       "...          ...         ...   ...         ...          ...       ...   \n",
       "104862  0.452849    3.028820  48.0    0.989621     2.079791  2.890727   \n",
       "104863  0.753890    2.753077  16.0    1.250797     2.614918  2.890727   \n",
       "104864  0.455587    2.627547  53.0    1.250797     2.079791  2.890727   \n",
       "104865  0.889855    2.895362  50.0    0.989621     2.573029  2.890727   \n",
       "104866  0.750385    2.894946  60.0    0.989621     2.286197  2.890727   \n",
       "\n",
       "           given   benefit  internet_access  \n",
       "0       0.485135  1.700711         1.043263  \n",
       "1       0.485135  1.675943         1.043263  \n",
       "2       0.485135  1.675943         1.043263  \n",
       "3       0.747652  1.925770         1.626868  \n",
       "4       0.485135  1.700711         1.322613  \n",
       "...          ...       ...              ...  \n",
       "104862  0.485135  1.675943         1.043263  \n",
       "104863  0.747652  1.925770         1.626868  \n",
       "104864  0.747652  1.901002         1.043263  \n",
       "104865  0.747652  1.901002         1.043263  \n",
       "104866  0.485135  1.700711         1.043263  \n",
       "\n",
       "[104867 rows x 9 columns]"
      ]
     },
     "execution_count": 92,
     "metadata": {},
     "output_type": "execute_result"
    }
   ],
   "source": []
  },
  {
   "cell_type": "code",
   "execution_count": 105,
   "metadata": {
    "execution": {
     "iopub.execute_input": "2023-03-11T06:47:37.956452Z",
     "iopub.status.busy": "2023-03-11T06:47:37.955736Z",
     "iopub.status.idle": "2023-03-11T06:47:38.077112Z",
     "shell.execute_reply": "2023-03-11T06:47:38.075942Z",
     "shell.execute_reply.started": "2023-03-11T06:47:37.956410Z"
    }
   },
   "outputs": [],
   "source": [
    "# Created the Xgboost specific DMatrix data format from the numpy array to optimise memory consumption\n",
    "dtrain = xgb.DMatrix(X_train, y_train)\n",
    "dvalid = xgb.DMatrix(X_test, label=y)"
   ]
  },
  {
   "cell_type": "code",
   "execution_count": 113,
   "metadata": {
    "execution": {
     "iopub.execute_input": "2023-03-11T06:50:22.595219Z",
     "iopub.status.busy": "2023-03-11T06:50:22.594852Z",
     "iopub.status.idle": "2023-03-11T06:50:22.604455Z",
     "shell.execute_reply": "2023-03-11T06:50:22.603455Z",
     "shell.execute_reply.started": "2023-03-11T06:50:22.595188Z"
    }
   },
   "outputs": [],
   "source": [
    "def objective(trial):\n",
    "    \n",
    "# params specifies the XGBoost hyperparameters to be tuned\n",
    "    params = {\n",
    "        'n_estimators': trial.suggest_int('n_estimators', 400, 600),\n",
    "        'max_depth': trial.suggest_int('max_depth', 10, 20),\n",
    "        'learning_rate': trial.suggest_uniform('learning_rate', 0.01, .1),\n",
    "        'subsample': trial.suggest_uniform('subsample', 0.50, 1),\n",
    "        'colsample_bytree': trial.suggest_uniform('colsample_bytree', 0.50, 1),\n",
    "        'gamma': trial.suggest_int('gamma', 0, 10),\n",
    "        'tree_method': 'gpu_hist',  \n",
    "        'objective': 'binary:logistic'\n",
    "    }\n",
    "    \n",
    "    bst = xgb.train(params, dtrain)\n",
    "    preds = bst.predict(dvalid)\n",
    "    pred_labels = np.rint(preds)\n",
    "# trials will be evaluated based on their accuracy on the test set\n",
    "    accuracy = roc_auc_score(y_test, pred_labels)\n",
    "    return accuracy"
   ]
  },
  {
   "cell_type": "code",
   "execution_count": 114,
   "metadata": {
    "execution": {
     "iopub.execute_input": "2023-03-11T06:50:22.849899Z",
     "iopub.status.busy": "2023-03-11T06:50:22.848908Z",
     "iopub.status.idle": "2023-03-11T06:50:22.854984Z",
     "shell.execute_reply": "2023-03-11T06:50:22.853751Z",
     "shell.execute_reply.started": "2023-03-11T06:50:22.849853Z"
    }
   },
   "outputs": [],
   "source": [
    "import optuna"
   ]
  },
  {
   "cell_type": "code",
   "execution_count": 115,
   "metadata": {
    "execution": {
     "iopub.execute_input": "2023-03-11T06:50:23.524823Z",
     "iopub.status.busy": "2023-03-11T06:50:23.523884Z",
     "iopub.status.idle": "2023-03-11T06:50:25.989431Z",
     "shell.execute_reply": "2023-03-11T06:50:25.987937Z",
     "shell.execute_reply.started": "2023-03-11T06:50:23.524751Z"
    }
   },
   "outputs": [
    {
     "name": "stderr",
     "output_type": "stream",
     "text": [
      "\u001b[32m[I 2023-03-11 06:50:23,527]\u001b[0m A new study created in memory with name: no-name-0f4cef97-7dd9-4868-8be3-2f2d8251ccb3\u001b[0m\n"
     ]
    },
    {
     "name": "stdout",
     "output_type": "stream",
     "text": [
      "[06:50:23] WARNING: ../src/learner.cc:627: \n",
      "Parameters: { \"n_estimators\" } might not be used.\n",
      "\n",
      "  This could be a false alarm, with some parameters getting used by language bindings but\n",
      "  then being mistakenly passed down to XGBoost core, or some parameter actually being used\n",
      "  but getting flagged wrongly here. Please open an issue if you find any such cases.\n",
      "\n",
      "\n"
     ]
    },
    {
     "name": "stderr",
     "output_type": "stream",
     "text": [
      "\u001b[32m[I 2023-03-11 06:50:24,606]\u001b[0m Trial 0 finished with value: 0.7064224818916403 and parameters: {'n_estimators': 458, 'max_depth': 14, 'learning_rate': 0.03408503403182764, 'subsample': 0.757275945226354, 'colsample_bytree': 0.8940870774446547, 'gamma': 2}. Best is trial 0 with value: 0.7064224818916403.\u001b[0m\n"
     ]
    },
    {
     "name": "stdout",
     "output_type": "stream",
     "text": [
      "[06:50:24] WARNING: ../src/learner.cc:627: \n",
      "Parameters: { \"n_estimators\" } might not be used.\n",
      "\n",
      "  This could be a false alarm, with some parameters getting used by language bindings but\n",
      "  then being mistakenly passed down to XGBoost core, or some parameter actually being used\n",
      "  but getting flagged wrongly here. Please open an issue if you find any such cases.\n",
      "\n",
      "\n"
     ]
    },
    {
     "name": "stderr",
     "output_type": "stream",
     "text": [
      "\u001b[32m[I 2023-03-11 06:50:25,010]\u001b[0m Trial 1 finished with value: 0.7080083083701739 and parameters: {'n_estimators': 520, 'max_depth': 14, 'learning_rate': 0.09821063058816826, 'subsample': 0.5681121353767837, 'colsample_bytree': 0.6216767820397509, 'gamma': 3}. Best is trial 0 with value: 0.7064224818916403.\u001b[0m\n"
     ]
    },
    {
     "name": "stdout",
     "output_type": "stream",
     "text": [
      "[06:50:25] WARNING: ../src/learner.cc:627: \n",
      "Parameters: { \"n_estimators\" } might not be used.\n",
      "\n",
      "  This could be a false alarm, with some parameters getting used by language bindings but\n",
      "  then being mistakenly passed down to XGBoost core, or some parameter actually being used\n",
      "  but getting flagged wrongly here. Please open an issue if you find any such cases.\n",
      "\n",
      "\n"
     ]
    },
    {
     "name": "stderr",
     "output_type": "stream",
     "text": [
      "\u001b[32m[I 2023-03-11 06:50:25,476]\u001b[0m Trial 2 finished with value: 0.7061367192735473 and parameters: {'n_estimators': 503, 'max_depth': 17, 'learning_rate': 0.06844339938380291, 'subsample': 0.9627237658908697, 'colsample_bytree': 0.6823673314982888, 'gamma': 4}. Best is trial 2 with value: 0.7061367192735473.\u001b[0m\n",
      "\u001b[32m[I 2023-03-11 06:50:25,680]\u001b[0m Trial 3 finished with value: 0.7015786263252413 and parameters: {'n_estimators': 413, 'max_depth': 17, 'learning_rate': 0.03461306969432192, 'subsample': 0.5799246570139402, 'colsample_bytree': 0.6102758000236177, 'gamma': 6}. Best is trial 3 with value: 0.7015786263252413.\u001b[0m\n"
     ]
    },
    {
     "name": "stdout",
     "output_type": "stream",
     "text": [
      "[06:50:25] WARNING: ../src/learner.cc:627: \n",
      "Parameters: { \"n_estimators\" } might not be used.\n",
      "\n",
      "  This could be a false alarm, with some parameters getting used by language bindings but\n",
      "  then being mistakenly passed down to XGBoost core, or some parameter actually being used\n",
      "  but getting flagged wrongly here. Please open an issue if you find any such cases.\n",
      "\n",
      "\n",
      "[06:50:25] WARNING: ../src/learner.cc:627: \n",
      "Parameters: { \"n_estimators\" } might not be used.\n",
      "\n",
      "  This could be a false alarm, with some parameters getting used by language bindings but\n",
      "  then being mistakenly passed down to XGBoost core, or some parameter actually being used\n",
      "  but getting flagged wrongly here. Please open an issue if you find any such cases.\n",
      "\n",
      "\n"
     ]
    },
    {
     "name": "stderr",
     "output_type": "stream",
     "text": [
      "\u001b[32m[I 2023-03-11 06:50:25,981]\u001b[0m Trial 4 finished with value: 0.7024952498869674 and parameters: {'n_estimators': 567, 'max_depth': 15, 'learning_rate': 0.02869155301555295, 'subsample': 0.9411788816549234, 'colsample_bytree': 0.6877206357728521, 'gamma': 6}. Best is trial 3 with value: 0.7015786263252413.\u001b[0m\n"
     ]
    }
   ],
   "source": [
    "study = optuna.create_study()\n",
    "study.optimize(objective,n_trials=5) \n",
    "#You can increase n_trials parameter"
   ]
  },
  {
   "cell_type": "code",
   "execution_count": 116,
   "metadata": {
    "execution": {
     "iopub.execute_input": "2023-03-11T06:51:13.904569Z",
     "iopub.status.busy": "2023-03-11T06:51:13.904189Z",
     "iopub.status.idle": "2023-03-11T06:51:13.911078Z",
     "shell.execute_reply": "2023-03-11T06:51:13.909944Z",
     "shell.execute_reply.started": "2023-03-11T06:51:13.904536Z"
    }
   },
   "outputs": [
    {
     "name": "stdout",
     "output_type": "stream",
     "text": [
      "Best trial: score 0.7015786263252413, params {'n_estimators': 413, 'max_depth': 17, 'learning_rate': 0.03461306969432192, 'subsample': 0.5799246570139402, 'colsample_bytree': 0.6102758000236177, 'gamma': 6}\n"
     ]
    }
   ],
   "source": [
    "print('Best trial: score {}, params {}'.format(study.best_trial.value, study.best_trial.params))"
   ]
  },
  {
   "cell_type": "code",
   "execution_count": 118,
   "metadata": {
    "execution": {
     "iopub.execute_input": "2023-03-11T06:52:09.734737Z",
     "iopub.status.busy": "2023-03-11T06:52:09.734301Z",
     "iopub.status.idle": "2023-03-11T06:52:09.740951Z",
     "shell.execute_reply": "2023-03-11T06:52:09.739850Z",
     "shell.execute_reply.started": "2023-03-11T06:52:09.734697Z"
    }
   },
   "outputs": [],
   "source": [
    "best_params = study.best_trial.params\n",
    "best_params['tree_method'] = 'gpu_hist'      #gpu_hist is really fast\n",
    "best_params['objective'] = 'binary:logistic'"
   ]
  },
  {
   "cell_type": "code",
   "execution_count": 119,
   "metadata": {
    "execution": {
     "iopub.execute_input": "2023-03-11T06:52:24.804453Z",
     "iopub.status.busy": "2023-03-11T06:52:24.803708Z",
     "iopub.status.idle": "2023-03-11T06:52:24.809122Z",
     "shell.execute_reply": "2023-03-11T06:52:24.807918Z",
     "shell.execute_reply.started": "2023-03-11T06:52:24.804401Z"
    }
   },
   "outputs": [],
   "source": [
    "# Fit the XGBoost classifier with optimal hyperparameters\n",
    "clf = xgb.XGBClassifier(**best_params)"
   ]
  },
  {
   "cell_type": "code",
   "execution_count": 120,
   "metadata": {
    "execution": {
     "iopub.execute_input": "2023-03-11T06:53:07.099720Z",
     "iopub.status.busy": "2023-03-11T06:53:07.098760Z",
     "iopub.status.idle": "2023-03-11T06:53:09.475088Z",
     "shell.execute_reply": "2023-03-11T06:53:09.474225Z",
     "shell.execute_reply.started": "2023-03-11T06:53:07.099684Z"
    }
   },
   "outputs": [
    {
     "name": "stdout",
     "output_type": "stream",
     "text": [
      "CPU times: user 2.48 s, sys: 38.6 ms, total: 2.52 s\n",
      "Wall time: 2.36 s\n"
     ]
    },
    {
     "data": {
      "text/plain": [
       "XGBClassifier(base_score=0.5, booster='gbtree', callbacks=None,\n",
       "              colsample_bylevel=1, colsample_bynode=1,\n",
       "              colsample_bytree=0.6102758000236177, early_stopping_rounds=None,\n",
       "              enable_categorical=False, eval_metric=None, gamma=6, gpu_id=0,\n",
       "              grow_policy='depthwise', importance_type=None,\n",
       "              interaction_constraints='', learning_rate=0.03461306969432192,\n",
       "              max_bin=256, max_cat_to_onehot=4, max_delta_step=0, max_depth=17,\n",
       "              max_leaves=0, min_child_weight=1, missing=nan,\n",
       "              monotone_constraints='()', n_estimators=413, n_jobs=0,\n",
       "              num_parallel_tree=1, predictor='auto', random_state=0,\n",
       "              reg_alpha=0, reg_lambda=1, ...)"
      ]
     },
     "execution_count": 120,
     "metadata": {},
     "output_type": "execute_result"
    }
   ],
   "source": [
    "%time clf.fit(full_concat, y)  #Used the whole training data"
   ]
  },
  {
   "cell_type": "code",
   "execution_count": 163,
   "metadata": {
    "execution": {
     "iopub.execute_input": "2023-03-11T07:06:58.558523Z",
     "iopub.status.busy": "2023-03-11T07:06:58.558118Z",
     "iopub.status.idle": "2023-03-11T07:06:58.851386Z",
     "shell.execute_reply": "2023-03-11T07:06:58.850504Z",
     "shell.execute_reply.started": "2023-03-11T07:06:58.558488Z"
    }
   },
   "outputs": [],
   "source": [
    "clfpred = clf.predict(test_concat)"
   ]
  },
  {
   "cell_type": "code",
   "execution_count": 164,
   "metadata": {
    "execution": {
     "iopub.execute_input": "2023-03-11T07:07:08.747463Z",
     "iopub.status.busy": "2023-03-11T07:07:08.747069Z",
     "iopub.status.idle": "2023-03-11T07:07:08.754046Z",
     "shell.execute_reply": "2023-03-11T07:07:08.752830Z",
     "shell.execute_reply.started": "2023-03-11T07:07:08.747428Z"
    }
   },
   "outputs": [],
   "source": [
    "submition['target'] = clfpred"
   ]
  },
  {
   "cell_type": "code",
   "execution_count": 165,
   "metadata": {
    "execution": {
     "iopub.execute_input": "2023-03-11T07:07:11.698890Z",
     "iopub.status.busy": "2023-03-11T07:07:11.698499Z",
     "iopub.status.idle": "2023-03-11T07:07:11.706091Z",
     "shell.execute_reply": "2023-03-11T07:07:11.704854Z",
     "shell.execute_reply.started": "2023-03-11T07:07:11.698854Z"
    }
   },
   "outputs": [
    {
     "data": {
      "text/plain": [
       "44943"
      ]
     },
     "execution_count": 165,
     "metadata": {},
     "output_type": "execute_result"
    }
   ],
   "source": [
    "(len(test_concat))"
   ]
  },
  {
   "cell_type": "code",
   "execution_count": 170,
   "metadata": {
    "execution": {
     "iopub.execute_input": "2023-03-11T07:09:04.492153Z",
     "iopub.status.busy": "2023-03-11T07:09:04.491687Z",
     "iopub.status.idle": "2023-03-11T07:09:04.542772Z",
     "shell.execute_reply": "2023-03-11T07:09:04.541628Z",
     "shell.execute_reply.started": "2023-03-11T07:09:04.492095Z"
    }
   },
   "outputs": [],
   "source": [
    "submition.to_csv('sub:9AM.csv',index=False)"
   ]
  },
  {
   "cell_type": "code",
   "execution_count": 169,
   "metadata": {
    "execution": {
     "iopub.execute_input": "2023-03-11T07:08:50.609592Z",
     "iopub.status.busy": "2023-03-11T07:08:50.608645Z",
     "iopub.status.idle": "2023-03-11T07:08:50.982288Z",
     "shell.execute_reply": "2023-03-11T07:08:50.981430Z",
     "shell.execute_reply.started": "2023-03-11T07:08:50.609550Z"
    }
   },
   "outputs": [
    {
     "data": {
      "text/plain": [
       "array([[0.18053663, 0.8194634 ],\n",
       "       [0.74901533, 0.2509847 ],\n",
       "       [0.5991913 , 0.40080866],\n",
       "       ...,\n",
       "       [0.31369203, 0.68630797],\n",
       "       [0.7704941 , 0.22950591],\n",
       "       [0.7217182 , 0.2782818 ]], dtype=float32)"
      ]
     },
     "execution_count": 169,
     "metadata": {},
     "output_type": "execute_result"
    }
   ],
   "source": [
    "clf.predict_proba(test_concat)"
   ]
  },
  {
   "cell_type": "code",
   "execution_count": 172,
   "metadata": {
    "execution": {
     "iopub.execute_input": "2023-03-11T07:12:50.211356Z",
     "iopub.status.busy": "2023-03-11T07:12:50.210943Z",
     "iopub.status.idle": "2023-03-11T07:12:50.582080Z",
     "shell.execute_reply": "2023-03-11T07:12:50.580366Z",
     "shell.execute_reply.started": "2023-03-11T07:12:50.211291Z"
    }
   },
   "outputs": [
    {
     "data": {
      "text/plain": [
       "array([0.18053663, 0.74901533, 0.5991913 , ..., 0.31369203, 0.7704941 ,\n",
       "       0.7217182 ], dtype=float32)"
      ]
     },
     "execution_count": 172,
     "metadata": {},
     "output_type": "execute_result"
    }
   ],
   "source": [
    "clf.predict_proba(test_concat)[:,0]"
   ]
  },
  {
   "cell_type": "code",
   "execution_count": 174,
   "metadata": {
    "execution": {
     "iopub.execute_input": "2023-03-11T07:13:35.507514Z",
     "iopub.status.busy": "2023-03-11T07:13:35.507031Z",
     "iopub.status.idle": "2023-03-11T07:13:36.083207Z",
     "shell.execute_reply": "2023-03-11T07:13:36.082008Z",
     "shell.execute_reply.started": "2023-03-11T07:13:35.507466Z"
    }
   },
   "outputs": [],
   "source": [
    "submition['target'] = clf.predict_proba(test_concat)[:,1]"
   ]
  },
  {
   "cell_type": "code",
   "execution_count": 175,
   "metadata": {
    "execution": {
     "iopub.execute_input": "2023-03-11T07:13:43.262907Z",
     "iopub.status.busy": "2023-03-11T07:13:43.262442Z",
     "iopub.status.idle": "2023-03-11T07:13:43.366441Z",
     "shell.execute_reply": "2023-03-11T07:13:43.365336Z",
     "shell.execute_reply.started": "2023-03-11T07:13:43.262865Z"
    }
   },
   "outputs": [],
   "source": [
    "submition.to_csv('sub:9Am.csv',index=False)"
   ]
  },
  {
   "cell_type": "code",
   "execution_count": 176,
   "metadata": {
    "execution": {
     "iopub.execute_input": "2023-03-11T07:14:21.018985Z",
     "iopub.status.busy": "2023-03-11T07:14:21.018620Z",
     "iopub.status.idle": "2023-03-11T07:14:21.378485Z",
     "shell.execute_reply": "2023-03-11T07:14:21.377415Z",
     "shell.execute_reply.started": "2023-03-11T07:14:21.018952Z"
    }
   },
   "outputs": [],
   "source": [
    "submition['target'] = clf.predict_proba(test_concat)[:,0]\n",
    "submition.to_csv('sub:9Am2.csv',index=False)"
   ]
  },
  {
   "cell_type": "code",
   "execution_count": 178,
   "metadata": {
    "execution": {
     "iopub.execute_input": "2023-03-11T07:18:37.082862Z",
     "iopub.status.busy": "2023-03-11T07:18:37.081818Z",
     "iopub.status.idle": "2023-03-11T07:18:37.138260Z",
     "shell.execute_reply": "2023-03-11T07:18:37.137189Z",
     "shell.execute_reply.started": "2023-03-11T07:18:37.082807Z"
    }
   },
   "outputs": [],
   "source": [
    "scaled_train_data=scaler.fit_transform(full_concat, y=y)\n",
    "scaled_test_data=scaler.transform(test_concat)"
   ]
  },
  {
   "cell_type": "markdown",
   "metadata": {},
   "source": [
    "# Lasso"
   ]
  },
  {
   "cell_type": "code",
   "execution_count": 181,
   "metadata": {
    "execution": {
     "iopub.execute_input": "2023-03-11T07:21:31.930256Z",
     "iopub.status.busy": "2023-03-11T07:21:31.929889Z",
     "iopub.status.idle": "2023-03-11T07:30:14.813049Z",
     "shell.execute_reply": "2023-03-11T07:30:14.811837Z",
     "shell.execute_reply.started": "2023-03-11T07:21:31.930223Z"
    }
   },
   "outputs": [
    {
     "name": "stdout",
     "output_type": "stream",
     "text": [
      "Best val auc:  0.7849\n",
      "Best val auc:  0.7757\n",
      "Best val auc:  0.7782\n",
      "Best val auc:  0.7764\n",
      "Best val auc:  0.7693\n",
      "Best val auc:  0.7868\n",
      "Best val auc:  0.7771\n",
      "Best val auc:  0.7717\n",
      "Best val auc:  0.7635\n",
      "Best val auc:  0.7716\n",
      "Best val auc:  0.7794\n",
      "Best val auc:  0.7838\n",
      "Best val auc:  0.7771\n",
      "Best val auc:  0.7833\n",
      "Best val auc:  0.7876\n",
      "Best val auc:  0.7859\n",
      "Best val auc:  0.7642\n",
      "Best val auc:  0.7793\n",
      "Best val auc:  0.7689\n",
      "Best val auc:  0.7802\n",
      "mean scores:  0.7772\n"
     ]
    }
   ],
   "source": [
    "seed = 7\n",
    "test_size = 0.33\n",
    "X_train, X_test, y_train, y_test = train_test_split(scaled_train_data, y, test_size=test_size, random_state=seed)\n",
    "preds = []\n",
    "scores = []\n",
    "\n",
    "skf = StratifiedKFold(n_splits=20, random_state=42, shuffle=True)\n",
    "\n",
    "model_params = {\n",
    "    'precompute': 'auto',\n",
    "    'fit_intercept': True,\n",
    "    'max_iter': 100000,\n",
    "    'verbose': False,\n",
    "    'eps': 1e-04, \n",
    "    'n_alphas': 1000,\n",
    "    'n_jobs': -1,\n",
    "}\n",
    "\n",
    "for train_index, test_index in skf.split(full_concat, y):\n",
    "    X_train, X_valid = full_concat.iloc[train_index], full_concat.iloc[test_index]\n",
    "    y_train, y_valid = y.iloc[train_index], y.iloc[test_index]\n",
    "    \n",
    "    model = LassoCV(**model_params)\n",
    "    \n",
    "    model.fit(X_train, y_train)\n",
    "    preds.append(model.predict(scaled_test_data))\n",
    "    s = roc_auc_score(y_valid, model.predict(X_valid))\n",
    "    print(f'Best val auc: {s: .4f}')\n",
    "    scores.append(s)\n",
    "    \n",
    "print(f'mean scores: {np.mean(scores): .4f}')"
   ]
  },
  {
   "cell_type": "code",
   "execution_count": 194,
   "metadata": {
    "execution": {
     "iopub.execute_input": "2023-03-11T07:34:20.690987Z",
     "iopub.status.busy": "2023-03-11T07:34:20.689752Z",
     "iopub.status.idle": "2023-03-11T07:34:20.698280Z",
     "shell.execute_reply": "2023-03-11T07:34:20.697078Z",
     "shell.execute_reply.started": "2023-03-11T07:34:20.690940Z"
    }
   },
   "outputs": [
    {
     "data": {
      "text/plain": [
       "array([0.2244621 , 0.54297332, 0.25117482, ..., 0.29967626, 0.57514741,\n",
       "       0.95313731])"
      ]
     },
     "execution_count": 194,
     "metadata": {},
     "output_type": "execute_result"
    }
   ],
   "source": [
    "finalrank"
   ]
  },
  {
   "cell_type": "code",
   "execution_count": 193,
   "metadata": {
    "execution": {
     "iopub.execute_input": "2023-03-11T07:34:16.917045Z",
     "iopub.status.busy": "2023-03-11T07:34:16.916287Z",
     "iopub.status.idle": "2023-03-11T07:34:17.020398Z",
     "shell.execute_reply": "2023-03-11T07:34:17.019422Z",
     "shell.execute_reply.started": "2023-03-11T07:34:16.917007Z"
    }
   },
   "outputs": [],
   "source": [
    "rankpreds = []\n",
    "\n",
    "for pred in preds:\n",
    "    rankpred = rankdata(pred)\n",
    "    rankpreds.append(rankpred)\n",
    "\n",
    "finalrank = np.average(np.array(rankpreds), axis=0) / len(scaled_test_data)"
   ]
  },
  {
   "cell_type": "code",
   "execution_count": 195,
   "metadata": {
    "execution": {
     "iopub.execute_input": "2023-03-11T07:34:25.234563Z",
     "iopub.status.busy": "2023-03-11T07:34:25.233625Z",
     "iopub.status.idle": "2023-03-11T07:34:25.331657Z",
     "shell.execute_reply": "2023-03-11T07:34:25.330694Z",
     "shell.execute_reply.started": "2023-03-11T07:34:25.234511Z"
    }
   },
   "outputs": [],
   "source": [
    "submition['target'] = finalrank\n",
    "submition.to_csv('sub:9:30Am.csv',index=False)"
   ]
  },
  {
   "cell_type": "code",
   "execution_count": 201,
   "metadata": {
    "execution": {
     "iopub.execute_input": "2023-03-11T07:40:06.929687Z",
     "iopub.status.busy": "2023-03-11T07:40:06.929182Z",
     "iopub.status.idle": "2023-03-11T07:40:06.990125Z",
     "shell.execute_reply": "2023-03-11T07:40:06.988765Z",
     "shell.execute_reply.started": "2023-03-11T07:40:06.929639Z"
    }
   },
   "outputs": [],
   "source": [
    "X_train, X_test, y_train, y_test = train_test_split(scaled_train_data, y, test_size=test_size, random_state=seed)"
   ]
  },
  {
   "cell_type": "code",
   "execution_count": 203,
   "metadata": {
    "execution": {
     "iopub.execute_input": "2023-03-11T07:40:17.168402Z",
     "iopub.status.busy": "2023-03-11T07:40:17.168048Z",
     "iopub.status.idle": "2023-03-11T07:40:17.265398Z",
     "shell.execute_reply": "2023-03-11T07:40:17.264465Z",
     "shell.execute_reply.started": "2023-03-11T07:40:17.168371Z"
    }
   },
   "outputs": [],
   "source": [
    "# Created the Xgboost specific DMatrix data format from the numpy array to optimise memory consumption\n",
    "dtrain = xgb.DMatrix(X_train, y_train)\n",
    "dvalid = xgb.DMatrix(X_test, label=y_test)\n",
    "\n",
    "def objective(trial):\n",
    "    \n",
    "# params specifies the XGBoost hyperparameters to be tuned\n",
    "    params = {\n",
    "        'n_estimators': trial.suggest_int('n_estimators', 400, 600),\n",
    "        'max_depth': trial.suggest_int('max_depth', 10, 20),\n",
    "        'learning_rate': trial.suggest_uniform('learning_rate', 0.01, .1),\n",
    "        'subsample': trial.suggest_uniform('subsample', 0.50, 1),\n",
    "        'colsample_bytree': trial.suggest_uniform('colsample_bytree', 0.50, 1),\n",
    "        'gamma': trial.suggest_int('gamma', 0, 10),\n",
    "        'tree_method': 'gpu_hist',  \n",
    "        'objective': 'binary:logistic'\n",
    "    }\n",
    "    \n",
    "    bst = xgb.train(params, dtrain)\n",
    "    preds = bst.predict(dvalid)\n",
    "    pred_labels = np.rint(preds)\n",
    "# trials will be evaluated based on their accuracy on the test set\n",
    "    accuracy = roc_auc_score(y_test, pred_labels)\n",
    "    return accuracy"
   ]
  },
  {
   "cell_type": "code",
   "execution_count": 204,
   "metadata": {
    "execution": {
     "iopub.execute_input": "2023-03-11T07:40:17.719101Z",
     "iopub.status.busy": "2023-03-11T07:40:17.717445Z",
     "iopub.status.idle": "2023-03-11T07:40:19.580023Z",
     "shell.execute_reply": "2023-03-11T07:40:19.579262Z",
     "shell.execute_reply.started": "2023-03-11T07:40:17.719050Z"
    }
   },
   "outputs": [
    {
     "name": "stderr",
     "output_type": "stream",
     "text": [
      "\u001b[32m[I 2023-03-11 07:40:17,721]\u001b[0m A new study created in memory with name: no-name-88d82ef8-4445-4a5e-bb90-a595722d2f08\u001b[0m\n"
     ]
    },
    {
     "name": "stdout",
     "output_type": "stream",
     "text": [
      "[07:40:17] WARNING: ../src/learner.cc:627: \n",
      "Parameters: { \"n_estimators\" } might not be used.\n",
      "\n",
      "  This could be a false alarm, with some parameters getting used by language bindings but\n",
      "  then being mistakenly passed down to XGBoost core, or some parameter actually being used\n",
      "  but getting flagged wrongly here. Please open an issue if you find any such cases.\n",
      "\n",
      "\n"
     ]
    },
    {
     "name": "stderr",
     "output_type": "stream",
     "text": [
      "\u001b[32m[I 2023-03-11 07:40:18,234]\u001b[0m Trial 0 finished with value: 0.7021419333431369 and parameters: {'n_estimators': 430, 'max_depth': 12, 'learning_rate': 0.06601862746773267, 'subsample': 0.7439172605211669, 'colsample_bytree': 0.9648586592472921, 'gamma': 5}. Best is trial 0 with value: 0.7021419333431369.\u001b[0m\n"
     ]
    },
    {
     "name": "stdout",
     "output_type": "stream",
     "text": [
      "[07:40:18] WARNING: ../src/learner.cc:627: \n",
      "Parameters: { \"n_estimators\" } might not be used.\n",
      "\n",
      "  This could be a false alarm, with some parameters getting used by language bindings but\n",
      "  then being mistakenly passed down to XGBoost core, or some parameter actually being used\n",
      "  but getting flagged wrongly here. Please open an issue if you find any such cases.\n",
      "\n",
      "\n"
     ]
    },
    {
     "name": "stderr",
     "output_type": "stream",
     "text": [
      "\u001b[32m[I 2023-03-11 07:40:19,098]\u001b[0m Trial 1 finished with value: 0.7032601440579112 and parameters: {'n_estimators': 585, 'max_depth': 13, 'learning_rate': 0.03775198260642926, 'subsample': 0.5303661887992503, 'colsample_bytree': 0.7186025315595326, 'gamma': 1}. Best is trial 0 with value: 0.7021419333431369.\u001b[0m\n"
     ]
    },
    {
     "name": "stdout",
     "output_type": "stream",
     "text": [
      "[07:40:19] WARNING: ../src/learner.cc:627: \n",
      "Parameters: { \"n_estimators\" } might not be used.\n",
      "\n",
      "  This could be a false alarm, with some parameters getting used by language bindings but\n",
      "  then being mistakenly passed down to XGBoost core, or some parameter actually being used\n",
      "  but getting flagged wrongly here. Please open an issue if you find any such cases.\n",
      "\n",
      "\n"
     ]
    },
    {
     "name": "stderr",
     "output_type": "stream",
     "text": [
      "\u001b[32m[I 2023-03-11 07:40:19,322]\u001b[0m Trial 2 finished with value: 0.7039562691379937 and parameters: {'n_estimators': 449, 'max_depth': 13, 'learning_rate': 0.08340263326501436, 'subsample': 0.669951942899752, 'colsample_bytree': 0.9713706256699897, 'gamma': 6}. Best is trial 0 with value: 0.7021419333431369.\u001b[0m\n",
      "\u001b[32m[I 2023-03-11 07:40:19,471]\u001b[0m Trial 3 finished with value: 0.7016484254784991 and parameters: {'n_estimators': 501, 'max_depth': 15, 'learning_rate': 0.09024743627244164, 'subsample': 0.8621185909886075, 'colsample_bytree': 0.7762445628567441, 'gamma': 9}. Best is trial 3 with value: 0.7016484254784991.\u001b[0m\n"
     ]
    },
    {
     "name": "stdout",
     "output_type": "stream",
     "text": [
      "[07:40:19] WARNING: ../src/learner.cc:627: \n",
      "Parameters: { \"n_estimators\" } might not be used.\n",
      "\n",
      "  This could be a false alarm, with some parameters getting used by language bindings but\n",
      "  then being mistakenly passed down to XGBoost core, or some parameter actually being used\n",
      "  but getting flagged wrongly here. Please open an issue if you find any such cases.\n",
      "\n",
      "\n",
      "[07:40:19] WARNING: ../src/learner.cc:627: \n",
      "Parameters: { \"n_estimators\" } might not be used.\n",
      "\n",
      "  This could be a false alarm, with some parameters getting used by language bindings but\n",
      "  then being mistakenly passed down to XGBoost core, or some parameter actually being used\n",
      "  but getting flagged wrongly here. Please open an issue if you find any such cases.\n",
      "\n",
      "\n"
     ]
    },
    {
     "name": "stderr",
     "output_type": "stream",
     "text": [
      "\u001b[32m[I 2023-03-11 07:40:19,575]\u001b[0m Trial 4 finished with value: 0.6968910797282006 and parameters: {'n_estimators': 596, 'max_depth': 10, 'learning_rate': 0.058783023024490504, 'subsample': 0.700108319733413, 'colsample_bytree': 0.580930847786134, 'gamma': 10}. Best is trial 4 with value: 0.6968910797282006.\u001b[0m\n"
     ]
    }
   ],
   "source": [
    "study = optuna.create_study()\n",
    "study.optimize(objective,n_trials=5) \n",
    "#You can increase n_trials parameter"
   ]
  },
  {
   "cell_type": "code",
   "execution_count": 205,
   "metadata": {
    "execution": {
     "iopub.execute_input": "2023-03-11T07:40:43.858948Z",
     "iopub.status.busy": "2023-03-11T07:40:43.857830Z",
     "iopub.status.idle": "2023-03-11T07:40:43.867357Z",
     "shell.execute_reply": "2023-03-11T07:40:43.865978Z",
     "shell.execute_reply.started": "2023-03-11T07:40:43.858892Z"
    }
   },
   "outputs": [
    {
     "name": "stdout",
     "output_type": "stream",
     "text": [
      "Best trial: score 0.6968910797282006, params {'n_estimators': 596, 'max_depth': 10, 'learning_rate': 0.058783023024490504, 'subsample': 0.700108319733413, 'colsample_bytree': 0.580930847786134, 'gamma': 10}\n"
     ]
    }
   ],
   "source": [
    "print('Best trial: score {}, params {}'.format(study.best_trial.value, study.best_trial.params))\n",
    "best_params = study.best_trial.params\n",
    "best_params['tree_method'] = 'gpu_hist'      #gpu_hist is really fast\n",
    "best_params['objective'] = 'binary:logistic'\n"
   ]
  },
  {
   "cell_type": "code",
   "execution_count": 206,
   "metadata": {
    "execution": {
     "iopub.execute_input": "2023-03-11T07:40:47.409871Z",
     "iopub.status.busy": "2023-03-11T07:40:47.408723Z",
     "iopub.status.idle": "2023-03-11T07:40:47.415368Z",
     "shell.execute_reply": "2023-03-11T07:40:47.413873Z",
     "shell.execute_reply.started": "2023-03-11T07:40:47.409814Z"
    }
   },
   "outputs": [],
   "source": [
    "# Fit the XGBoost classifier with optimal hyperparameters\n",
    "clf = xgb.XGBClassifier(**best_params)"
   ]
  },
  {
   "cell_type": "code",
   "execution_count": 207,
   "metadata": {
    "execution": {
     "iopub.execute_input": "2023-03-11T07:41:05.707572Z",
     "iopub.status.busy": "2023-03-11T07:41:05.707212Z",
     "iopub.status.idle": "2023-03-11T07:41:06.842225Z",
     "shell.execute_reply": "2023-03-11T07:41:06.841377Z",
     "shell.execute_reply.started": "2023-03-11T07:41:05.707540Z"
    }
   },
   "outputs": [
    {
     "name": "stdout",
     "output_type": "stream",
     "text": [
      "CPU times: user 1.24 s, sys: 26.8 ms, total: 1.27 s\n",
      "Wall time: 1.12 s\n"
     ]
    },
    {
     "data": {
      "text/plain": [
       "XGBClassifier(base_score=0.5, booster='gbtree', callbacks=None,\n",
       "              colsample_bylevel=1, colsample_bynode=1,\n",
       "              colsample_bytree=0.580930847786134, early_stopping_rounds=None,\n",
       "              enable_categorical=False, eval_metric=None, gamma=10, gpu_id=0,\n",
       "              grow_policy='depthwise', importance_type=None,\n",
       "              interaction_constraints='', learning_rate=0.058783023024490504,\n",
       "              max_bin=256, max_cat_to_onehot=4, max_delta_step=0, max_depth=10,\n",
       "              max_leaves=0, min_child_weight=1, missing=nan,\n",
       "              monotone_constraints='()', n_estimators=596, n_jobs=0,\n",
       "              num_parallel_tree=1, predictor='auto', random_state=0,\n",
       "              reg_alpha=0, reg_lambda=1, ...)"
      ]
     },
     "execution_count": 207,
     "metadata": {},
     "output_type": "execute_result"
    }
   ],
   "source": [
    "%time clf.fit(full_concat, y)  #Used the whole training data"
   ]
  },
  {
   "cell_type": "code",
   "execution_count": 212,
   "metadata": {
    "execution": {
     "iopub.execute_input": "2023-03-11T07:44:43.728578Z",
     "iopub.status.busy": "2023-03-11T07:44:43.727886Z",
     "iopub.status.idle": "2023-03-11T07:44:44.008295Z",
     "shell.execute_reply": "2023-03-11T07:44:44.007277Z",
     "shell.execute_reply.started": "2023-03-11T07:44:43.728542Z"
    }
   },
   "outputs": [],
   "source": [
    "clfpred = clf.predict_proba(scaled_test_data)[:,1]\n",
    "submition['target'] = clfpred\n",
    "submition.to_csv('sub:9:42AM.csv',index=False)"
   ]
  },
  {
   "cell_type": "code",
   "execution_count": 213,
   "metadata": {
    "execution": {
     "iopub.execute_input": "2023-03-11T07:45:18.780063Z",
     "iopub.status.busy": "2023-03-11T07:45:18.779267Z",
     "iopub.status.idle": "2023-03-11T07:45:18.968446Z",
     "shell.execute_reply": "2023-03-11T07:45:18.967434Z",
     "shell.execute_reply.started": "2023-03-11T07:45:18.780025Z"
    }
   },
   "outputs": [],
   "source": [
    "clfpred = clf.predict(scaled_test_data)\n",
    "submition['target'] = clfpred\n",
    "submition.to_csv('sub:9:45AM.csv',index=False)"
   ]
  },
  {
   "cell_type": "code",
   "execution_count": null,
   "metadata": {},
   "outputs": [],
   "source": [
    "kf = StratifiedKFold(n_splits=10, random_state=42, shuffle=True)\n",
    "\n",
    "cb_params = {\n",
    "    'depth': 3,\n",
    "    'learning_rate': 0.01,\n",
    "    'rsm': 0.5,\n",
    "    'subsample': 0.931,\n",
    "    'l2_leaf_reg': 69,\n",
    "    'min_data_in_leaf': 20,\n",
    "    'random_strength': 0.175,\n",
    "    'use_best_model': True,\n",
    "    'task_type': 'CPU',\n",
    "    'bootstrap_type': 'Bernoulli',\n",
    "    'grow_policy': 'SymmetricTree',\n",
    "    'loss_function': 'Logloss',\n",
    "    'eval_metric': 'AUC',\n",
    "    'scale_pos_weight': 5\n",
    "}\n",
    "\n",
    "for train_index, val_index in skf.split(X, y):\n",
    "    cb_train = cb.Pool(data=X.iloc[train_index], label=y.iloc[train_index])\n",
    "    cb_valid = cb.Pool(data=X.iloc[val_index], label=y.iloc[val_index])\n",
    "    \n",
    "    model = cb.train(\n",
    "        params=cb_params,\n",
    "        dtrain=cb_train,\n",
    "        num_boost_round=10000,\n",
    "        evals=cb_valid, \n",
    "        early_stopping_rounds=500,\n",
    "        verbose=False\n",
    "    )\n",
    "    \n",
    "    s = roc_auc_score(y[val_index], model.predict(cb_valid))\n",
    "    \n",
    "    print(f\"Best val auc: {s:.4f}\")\n",
    "    scores.append(s)\n",
    "    preds.append(sigmoid(model.predict(X_test)))\n",
    "\n",
    "print(f'mean scores: {np.mean(scores): .4f}')"
   ]
  },
  {
   "cell_type": "markdown",
   "metadata": {
    "execution": {
     "iopub.execute_input": "2023-03-11T08:00:39.343582Z",
     "iopub.status.busy": "2023-03-11T08:00:39.343217Z",
     "iopub.status.idle": "2023-03-11T08:00:39.380966Z",
     "shell.execute_reply": "2023-03-11T08:00:39.379182Z",
     "shell.execute_reply.started": "2023-03-11T08:00:39.343550Z"
    }
   },
   "source": [
    "# Feature Engigeering\n"
   ]
  },
  {
   "cell_type": "code",
   "execution_count": 218,
   "metadata": {
    "execution": {
     "iopub.execute_input": "2023-03-11T08:02:50.423219Z",
     "iopub.status.busy": "2023-03-11T08:02:50.422723Z",
     "iopub.status.idle": "2023-03-11T08:02:50.881839Z",
     "shell.execute_reply": "2023-03-11T08:02:50.880773Z",
     "shell.execute_reply.started": "2023-03-11T08:02:50.423172Z"
    }
   },
   "outputs": [],
   "source": [
    "df = pd.read_csv('/kaggle/input/financialresilience1234/Train.csv')\n",
    "var= pd.read_csv('/kaggle/input/financialresilience1234/VariableDefinitions.csv')"
   ]
  },
  {
   "cell_type": "code",
   "execution_count": 219,
   "metadata": {
    "execution": {
     "iopub.execute_input": "2023-03-11T08:02:55.591961Z",
     "iopub.status.busy": "2023-03-11T08:02:55.591055Z",
     "iopub.status.idle": "2023-03-11T08:02:55.606795Z",
     "shell.execute_reply": "2023-03-11T08:02:55.605531Z",
     "shell.execute_reply.started": "2023-03-11T08:02:55.591910Z"
    }
   },
   "outputs": [
    {
     "data": {
      "text/html": [
       "<div>\n",
       "<style scoped>\n",
       "    .dataframe tbody tr th:only-of-type {\n",
       "        vertical-align: middle;\n",
       "    }\n",
       "\n",
       "    .dataframe tbody tr th {\n",
       "        vertical-align: top;\n",
       "    }\n",
       "\n",
       "    .dataframe thead th {\n",
       "        text-align: right;\n",
       "    }\n",
       "</style>\n",
       "<table border=\"1\" class=\"dataframe\">\n",
       "  <thead>\n",
       "    <tr style=\"text-align: right;\">\n",
       "      <th></th>\n",
       "      <th>ID</th>\n",
       "      <th>Person unique/random identification</th>\n",
       "      <th>For columns(Q1 - Q28), Value 1 - Yes, 2 - No, 3-Don’t Know 4 - refused to answer</th>\n",
       "    </tr>\n",
       "  </thead>\n",
       "  <tbody>\n",
       "    <tr>\n",
       "      <th>0</th>\n",
       "      <td>country</td>\n",
       "      <td>The country</td>\n",
       "      <td>NaN</td>\n",
       "    </tr>\n",
       "    <tr>\n",
       "      <th>1</th>\n",
       "      <td>region</td>\n",
       "      <td>Region of a given country,.i.e., South Asia, E...</td>\n",
       "      <td>NaN</td>\n",
       "    </tr>\n",
       "    <tr>\n",
       "      <th>2</th>\n",
       "      <td>population</td>\n",
       "      <td>The population of the given country</td>\n",
       "      <td>NaN</td>\n",
       "    </tr>\n",
       "    <tr>\n",
       "      <th>3</th>\n",
       "      <td>age</td>\n",
       "      <td>Individual age</td>\n",
       "      <td>NaN</td>\n",
       "    </tr>\n",
       "    <tr>\n",
       "      <th>4</th>\n",
       "      <td>Q1</td>\n",
       "      <td>Has ATM/debit card</td>\n",
       "      <td>NaN</td>\n",
       "    </tr>\n",
       "    <tr>\n",
       "      <th>5</th>\n",
       "      <td>Q2</td>\n",
       "      <td>Is the ATM connect to an account with your name?</td>\n",
       "      <td>NaN</td>\n",
       "    </tr>\n",
       "    <tr>\n",
       "      <th>6</th>\n",
       "      <td>Q3</td>\n",
       "      <td>Purchased with the ATM</td>\n",
       "      <td>NaN</td>\n",
       "    </tr>\n",
       "    <tr>\n",
       "      <th>7</th>\n",
       "      <td>Q4</td>\n",
       "      <td>Use of mobile or internet to make payments or ...</td>\n",
       "      <td>NaN</td>\n",
       "    </tr>\n",
       "    <tr>\n",
       "      <th>8</th>\n",
       "      <td>Q5</td>\n",
       "      <td>Mobile/internet to check account balance</td>\n",
       "      <td>NaN</td>\n",
       "    </tr>\n",
       "    <tr>\n",
       "      <th>9</th>\n",
       "      <td>Q6</td>\n",
       "      <td>Has a credit card</td>\n",
       "      <td>NaN</td>\n",
       "    </tr>\n",
       "    <tr>\n",
       "      <th>10</th>\n",
       "      <td>Q7</td>\n",
       "      <td>Used the credit card in 12 months</td>\n",
       "      <td>NaN</td>\n",
       "    </tr>\n",
       "    <tr>\n",
       "      <th>11</th>\n",
       "      <td>Q8</td>\n",
       "      <td>Money deposits to a bank account in the last 1...</td>\n",
       "      <td>NaN</td>\n",
       "    </tr>\n",
       "    <tr>\n",
       "      <th>12</th>\n",
       "      <td>Q9</td>\n",
       "      <td>Money withdrawals from a bank account in the l...</td>\n",
       "      <td>NaN</td>\n",
       "    </tr>\n",
       "    <tr>\n",
       "      <th>13</th>\n",
       "      <td>Q10a</td>\n",
       "      <td>Used the Internet in the last 12 months;- to m...</td>\n",
       "      <td>NaN</td>\n",
       "    </tr>\n",
       "    <tr>\n",
       "      <th>14</th>\n",
       "      <td>Q10b</td>\n",
       "      <td>Used the Internet in the last 12 months;- to b...</td>\n",
       "      <td>NaN</td>\n",
       "    </tr>\n",
       "    <tr>\n",
       "      <th>15</th>\n",
       "      <td>Q11</td>\n",
       "      <td>Savings in the last 12 months to start a busin...</td>\n",
       "      <td>NaN</td>\n",
       "    </tr>\n",
       "    <tr>\n",
       "      <th>16</th>\n",
       "      <td>Q12</td>\n",
       "      <td>Savings in the last 12 months for old age</td>\n",
       "      <td>NaN</td>\n",
       "    </tr>\n",
       "    <tr>\n",
       "      <th>17</th>\n",
       "      <td>Q13a</td>\n",
       "      <td>Saved the money at a bank/financial institutions</td>\n",
       "      <td>NaN</td>\n",
       "    </tr>\n",
       "    <tr>\n",
       "      <th>18</th>\n",
       "      <td>Q13b</td>\n",
       "      <td>Save the money at groups/clubs of any informal...</td>\n",
       "      <td>NaN</td>\n",
       "    </tr>\n",
       "    <tr>\n",
       "      <th>19</th>\n",
       "      <td>Q14</td>\n",
       "      <td>Has a loan from formal financial institutions ...</td>\n",
       "      <td>NaN</td>\n",
       "    </tr>\n",
       "    <tr>\n",
       "      <th>20</th>\n",
       "      <td>Q15</td>\n",
       "      <td>Borrowed money for health/medical purposes in ...</td>\n",
       "      <td>NaN</td>\n",
       "    </tr>\n",
       "    <tr>\n",
       "      <th>21</th>\n",
       "      <td>Q16</td>\n",
       "      <td>Borrowed money to start/grow business or farm</td>\n",
       "      <td>NaN</td>\n",
       "    </tr>\n",
       "    <tr>\n",
       "      <th>22</th>\n",
       "      <td>Q17a</td>\n",
       "      <td>Borrowed money from formal financial instituti...</td>\n",
       "      <td>NaN</td>\n",
       "    </tr>\n",
       "    <tr>\n",
       "      <th>23</th>\n",
       "      <td>Q17b</td>\n",
       "      <td>Borrowed money from friends, relatives, or fam...</td>\n",
       "      <td>NaN</td>\n",
       "    </tr>\n",
       "    <tr>\n",
       "      <th>24</th>\n",
       "      <td>Q19</td>\n",
       "      <td>Sent/given money to friend/relative</td>\n",
       "      <td>NaN</td>\n",
       "    </tr>\n",
       "    <tr>\n",
       "      <th>25</th>\n",
       "      <td>Q20</td>\n",
       "      <td>Received money from friend or relative</td>\n",
       "      <td>NaN</td>\n",
       "    </tr>\n",
       "    <tr>\n",
       "      <th>26</th>\n",
       "      <td>Q21</td>\n",
       "      <td>Payments for electricity, water, or trash in t...</td>\n",
       "      <td>NaN</td>\n",
       "    </tr>\n",
       "    <tr>\n",
       "      <th>27</th>\n",
       "      <td>Q22</td>\n",
       "      <td>salary/wages in the last 12 months</td>\n",
       "      <td>NaN</td>\n",
       "    </tr>\n",
       "    <tr>\n",
       "      <th>28</th>\n",
       "      <td>Q23</td>\n",
       "      <td>Employed by government or public sector -12 mo...</td>\n",
       "      <td>NaN</td>\n",
       "    </tr>\n",
       "    <tr>\n",
       "      <th>29</th>\n",
       "      <td>Q24</td>\n",
       "      <td>Received any form of financial support from th...</td>\n",
       "      <td>NaN</td>\n",
       "    </tr>\n",
       "    <tr>\n",
       "      <th>30</th>\n",
       "      <td>Q25</td>\n",
       "      <td>Pension in the last 12 months</td>\n",
       "      <td>NaN</td>\n",
       "    </tr>\n",
       "    <tr>\n",
       "      <th>31</th>\n",
       "      <td>Q26</td>\n",
       "      <td>Received money for the sale of livestock, agri...</td>\n",
       "      <td>NaN</td>\n",
       "    </tr>\n",
       "    <tr>\n",
       "      <th>32</th>\n",
       "      <td>Q27</td>\n",
       "      <td>Received money from your business in last 12 m...</td>\n",
       "      <td>NaN</td>\n",
       "    </tr>\n",
       "    <tr>\n",
       "      <th>33</th>\n",
       "      <td>owns_mobile</td>\n",
       "      <td>Owns a mobile phone</td>\n",
       "      <td>NaN</td>\n",
       "    </tr>\n",
       "    <tr>\n",
       "      <th>34</th>\n",
       "      <td>Q28</td>\n",
       "      <td>Has national ID card</td>\n",
       "      <td>NaN</td>\n",
       "    </tr>\n",
       "    <tr>\n",
       "      <th>35</th>\n",
       "      <td>target</td>\n",
       "      <td>target class</td>\n",
       "      <td>NaN</td>\n",
       "    </tr>\n",
       "  </tbody>\n",
       "</table>\n",
       "</div>"
      ],
      "text/plain": [
       "             ID                Person unique/random identification  \\\n",
       "0       country                                        The country   \n",
       "1        region  Region of a given country,.i.e., South Asia, E...   \n",
       "2    population                The population of the given country   \n",
       "3           age                                     Individual age   \n",
       "4            Q1                                 Has ATM/debit card   \n",
       "5            Q2   Is the ATM connect to an account with your name?   \n",
       "6            Q3                             Purchased with the ATM   \n",
       "7            Q4  Use of mobile or internet to make payments or ...   \n",
       "8            Q5           Mobile/internet to check account balance   \n",
       "9            Q6                                  Has a credit card   \n",
       "10           Q7                  Used the credit card in 12 months   \n",
       "11           Q8  Money deposits to a bank account in the last 1...   \n",
       "12           Q9  Money withdrawals from a bank account in the l...   \n",
       "13         Q10a  Used the Internet in the last 12 months;- to m...   \n",
       "14         Q10b  Used the Internet in the last 12 months;- to b...   \n",
       "15          Q11  Savings in the last 12 months to start a busin...   \n",
       "16          Q12          Savings in the last 12 months for old age   \n",
       "17         Q13a   Saved the money at a bank/financial institutions   \n",
       "18         Q13b  Save the money at groups/clubs of any informal...   \n",
       "19          Q14  Has a loan from formal financial institutions ...   \n",
       "20          Q15  Borrowed money for health/medical purposes in ...   \n",
       "21          Q16      Borrowed money to start/grow business or farm   \n",
       "22         Q17a  Borrowed money from formal financial instituti...   \n",
       "23         Q17b  Borrowed money from friends, relatives, or fam...   \n",
       "24          Q19                Sent/given money to friend/relative   \n",
       "25          Q20             Received money from friend or relative   \n",
       "26          Q21  Payments for electricity, water, or trash in t...   \n",
       "27          Q22                 salary/wages in the last 12 months   \n",
       "28          Q23  Employed by government or public sector -12 mo...   \n",
       "29          Q24  Received any form of financial support from th...   \n",
       "30          Q25                      Pension in the last 12 months   \n",
       "31          Q26  Received money for the sale of livestock, agri...   \n",
       "32          Q27  Received money from your business in last 12 m...   \n",
       "33  owns_mobile                                Owns a mobile phone   \n",
       "34          Q28                               Has national ID card   \n",
       "35       target                                       target class   \n",
       "\n",
       "    For columns(Q1 - Q28), Value 1 - Yes, 2 - No, 3-Don’t Know 4 - refused to answer  \n",
       "0                                                 NaN                                 \n",
       "1                                                 NaN                                 \n",
       "2                                                 NaN                                 \n",
       "3                                                 NaN                                 \n",
       "4                                                 NaN                                 \n",
       "5                                                 NaN                                 \n",
       "6                                                 NaN                                 \n",
       "7                                                 NaN                                 \n",
       "8                                                 NaN                                 \n",
       "9                                                 NaN                                 \n",
       "10                                                NaN                                 \n",
       "11                                                NaN                                 \n",
       "12                                                NaN                                 \n",
       "13                                                NaN                                 \n",
       "14                                                NaN                                 \n",
       "15                                                NaN                                 \n",
       "16                                                NaN                                 \n",
       "17                                                NaN                                 \n",
       "18                                                NaN                                 \n",
       "19                                                NaN                                 \n",
       "20                                                NaN                                 \n",
       "21                                                NaN                                 \n",
       "22                                                NaN                                 \n",
       "23                                                NaN                                 \n",
       "24                                                NaN                                 \n",
       "25                                                NaN                                 \n",
       "26                                                NaN                                 \n",
       "27                                                NaN                                 \n",
       "28                                                NaN                                 \n",
       "29                                                NaN                                 \n",
       "30                                                NaN                                 \n",
       "31                                                NaN                                 \n",
       "32                                                NaN                                 \n",
       "33                                                NaN                                 \n",
       "34                                                NaN                                 \n",
       "35                                                NaN                                 "
      ]
     },
     "execution_count": 219,
     "metadata": {},
     "output_type": "execute_result"
    }
   ],
   "source": [
    "var"
   ]
  },
  {
   "cell_type": "code",
   "execution_count": 234,
   "metadata": {
    "execution": {
     "iopub.execute_input": "2023-03-11T08:08:42.073105Z",
     "iopub.status.busy": "2023-03-11T08:08:42.072118Z",
     "iopub.status.idle": "2023-03-11T08:08:42.100187Z",
     "shell.execute_reply": "2023-03-11T08:08:42.098843Z",
     "shell.execute_reply.started": "2023-03-11T08:08:42.073047Z"
    }
   },
   "outputs": [],
   "source": [
    "cols_with_missing = [col for col in df.columns\n",
    "                     if df[col].isnull().any()]\n",
    "\n",
    "cols_with_missing = ['Q2',\n",
    " 'Q3',\n",
    " 'Q4',\n",
    " 'Q5',\n",
    " 'Q8',\n",
    " 'Q9',\n",
    " 'Q19',\n",
    " 'Q20',\n",
    " 'Q23',\n",
    " 'Q26',\n",
    " 'Q27']"
   ]
  },
  {
   "cell_type": "code",
   "execution_count": 333,
   "metadata": {
    "execution": {
     "iopub.execute_input": "2023-03-11T09:06:30.785933Z",
     "iopub.status.busy": "2023-03-11T09:06:30.785529Z",
     "iopub.status.idle": "2023-03-11T09:06:30.791037Z",
     "shell.execute_reply": "2023-03-11T09:06:30.789952Z",
     "shell.execute_reply.started": "2023-03-11T09:06:30.785896Z"
    }
   },
   "outputs": [],
   "source": [
    "col_n_q=['country', 'population',\n",
    "       'age', 'debit_card', 'got_savings', 'borrowed', 'given', 'benefit',\n",
    "       'internet_access']"
   ]
  },
  {
   "cell_type": "code",
   "execution_count": 334,
   "metadata": {
    "execution": {
     "iopub.execute_input": "2023-03-11T09:06:48.316137Z",
     "iopub.status.busy": "2023-03-11T09:06:48.315182Z",
     "iopub.status.idle": "2023-03-11T09:06:48.332841Z",
     "shell.execute_reply": "2023-03-11T09:06:48.331815Z",
     "shell.execute_reply.started": "2023-03-11T09:06:48.316084Z"
    }
   },
   "outputs": [],
   "source": [
    "full_data = full_concat.drop(cols_with_missing,axis=1)\n",
    "full_test = test_concat.drop(cols_with_missing,axis=1)\n",
    "target = y\n",
    "\n",
    "full_data = full_data[col_n_q]\n",
    "full_test = full_test[col_n_q]"
   ]
  },
  {
   "cell_type": "code",
   "execution_count": 335,
   "metadata": {
    "execution": {
     "iopub.execute_input": "2023-03-11T09:06:50.255970Z",
     "iopub.status.busy": "2023-03-11T09:06:50.254853Z",
     "iopub.status.idle": "2023-03-11T09:06:50.277177Z",
     "shell.execute_reply": "2023-03-11T09:06:50.276101Z",
     "shell.execute_reply.started": "2023-03-11T09:06:50.255928Z"
    }
   },
   "outputs": [],
   "source": [
    "X = full_data\n",
    "y = target\n",
    "X_train, X_test, y_train, y_test = train_test_split(X, y, test_size = 0.3, random_state = 0)"
   ]
  },
  {
   "cell_type": "code",
   "execution_count": 246,
   "metadata": {
    "execution": {
     "iopub.execute_input": "2023-03-11T08:12:29.917318Z",
     "iopub.status.busy": "2023-03-11T08:12:29.916927Z",
     "iopub.status.idle": "2023-03-11T08:19:36.501066Z",
     "shell.execute_reply": "2023-03-11T08:19:36.500191Z",
     "shell.execute_reply.started": "2023-03-11T08:12:29.917282Z"
    }
   },
   "outputs": [
    {
     "name": "stdout",
     "output_type": "stream",
     "text": [
      "CPU times: user 7min 38s, sys: 2.57 s, total: 7min 41s\n",
      "Wall time: 7min 6s\n"
     ]
    },
    {
     "data": {
      "text/plain": [
       "GridSearchCV(cv=5,\n",
       "             estimator=XGBClassifier(base_score=None, booster=None,\n",
       "                                     callbacks=None, colsample_bylevel=None,\n",
       "                                     colsample_bynode=None,\n",
       "                                     colsample_bytree=None,\n",
       "                                     early_stopping_rounds=None,\n",
       "                                     enable_categorical=False, eval_metric=None,\n",
       "                                     gamma=None, gpu_id=None, grow_policy=None,\n",
       "                                     importance_type=None,\n",
       "                                     interaction_constraints=None,\n",
       "                                     learning_rate=None, max_bin=None,\n",
       "                                     max_ca...e,\n",
       "                                     max_delta_step=None, max_depth=None,\n",
       "                                     max_leaves=None, min_child_weight=None,\n",
       "                                     missing=nan, monotone_constraints=None,\n",
       "                                     n_estimators=100, n_jobs=None,\n",
       "                                     num_parallel_tree=None, predictor=None,\n",
       "                                     random_state=42, reg_alpha=None,\n",
       "                                     reg_lambda=None, ...),\n",
       "             param_grid={'learning_rate': [0.01, 0.05, 0.1],\n",
       "                         'max_depth': [3, 5, 7, 9],\n",
       "                         'n_estimators': [100, 200, 300, 400]},\n",
       "             scoring='roc_auc')"
      ]
     },
     "execution_count": 246,
     "metadata": {},
     "output_type": "execute_result"
    }
   ],
   "source": [
    "%%time\n",
    "parameters = {\n",
    "    'max_depth': [3, 5, 7, 9], \n",
    "    'n_estimators': [100,200,300,400],\n",
    "    'learning_rate': [0.01, 0.05, 0.1]\n",
    "}\n",
    "\n",
    "model_xgb = xgb.XGBClassifier(\n",
    "    random_state=42,\n",
    "    tree_method='gpu_hist'\n",
    ")\n",
    "\n",
    "model_xgb = GridSearchCV(\n",
    "    model_xgb, \n",
    "    parameters, \n",
    "    cv=5,\n",
    "    scoring='roc_auc'\n",
    ")\n",
    "\n",
    "model_xgb.fit(X_train, y_train)"
   ]
  },
  {
   "cell_type": "code",
   "execution_count": 247,
   "metadata": {
    "execution": {
     "iopub.execute_input": "2023-03-11T08:19:36.504223Z",
     "iopub.status.busy": "2023-03-11T08:19:36.503777Z",
     "iopub.status.idle": "2023-03-11T08:19:36.509024Z",
     "shell.execute_reply": "2023-03-11T08:19:36.507872Z",
     "shell.execute_reply.started": "2023-03-11T08:19:36.504178Z"
    }
   },
   "outputs": [],
   "source": [
    "cross_valid_scores = {}"
   ]
  },
  {
   "cell_type": "code",
   "execution_count": 248,
   "metadata": {
    "execution": {
     "iopub.execute_input": "2023-03-11T08:19:36.511557Z",
     "iopub.status.busy": "2023-03-11T08:19:36.510772Z",
     "iopub.status.idle": "2023-03-11T08:19:36.526356Z",
     "shell.execute_reply": "2023-03-11T08:19:36.525174Z",
     "shell.execute_reply.started": "2023-03-11T08:19:36.511517Z"
    }
   },
   "outputs": [
    {
     "name": "stdout",
     "output_type": "stream",
     "text": [
      "-----\n",
      "Best parameters {'learning_rate': 0.1, 'max_depth': 5, 'n_estimators': 300}\n",
      "Mean cross-validated accuracy score of the best_estimator: 0.791\n",
      "-----\n"
     ]
    }
   ],
   "source": [
    "print('-----')\n",
    "print(f'Best parameters {model_xgb.best_params_}')\n",
    "print(\n",
    "    f'Mean cross-validated accuracy score of the best_estimator: ' + \n",
    "    f'{model_xgb.best_score_:.3f}'\n",
    ")\n",
    "cross_valid_scores['xgboost'] = model_xgb.best_score_\n",
    "print('-----')"
   ]
  },
  {
   "cell_type": "code",
   "execution_count": null,
   "metadata": {},
   "outputs": [],
   "source": [
    "%%time\n",
    "parameters = {\n",
    "    'n_estimators': [5, 10, 15, 20, 25, 50, 100],\n",
    "    'learning_rate': [0.01, 0.05, 0.1],\n",
    "    'num_leaves': [7, 15, 31],\n",
    "}\n",
    "\n",
    "model_lgbm = lgbm.LGBMClassifier(\n",
    "    random_state=42,\n",
    "    device =  \"gpu\"\n",
    ")\n",
    "\n",
    "model_lgbm = GridSearchCV(\n",
    "    model_lgbm, \n",
    "    parameters, \n",
    "    cv=5,\n",
    "    scoring='roc_auc',\n",
    ")\n",
    "\n",
    "model_lgbm.fit(\n",
    "    X_train, \n",
    "    y_train\n",
    ")\n",
    "\n",
    "print('-----')\n",
    "print(f'Best parameters {model_lgbm.best_params_}')\n",
    "print(\n",
    "    f'Mean cross-validated accuracy score of the best_estimator: ' + \n",
    "    f'{model_lgbm.best_score_:.3f}'\n",
    ")\n",
    "cross_valid_scores['lightgbm'] = model_lgbm.best_score_\n",
    "print('-----')"
   ]
  },
  {
   "cell_type": "code",
   "execution_count": 280,
   "metadata": {
    "execution": {
     "iopub.execute_input": "2023-03-11T08:44:16.827714Z",
     "iopub.status.busy": "2023-03-11T08:44:16.826955Z",
     "iopub.status.idle": "2023-03-11T08:44:17.945465Z",
     "shell.execute_reply": "2023-03-11T08:44:17.944561Z",
     "shell.execute_reply.started": "2023-03-11T08:44:16.827674Z"
    }
   },
   "outputs": [
    {
     "data": {
      "text/plain": [
       "array([0.7449452 , 0.87914354, 0.32735634, ..., 0.40478253, 0.47349212,\n",
       "       0.83124715], dtype=float32)"
      ]
     },
     "execution_count": 280,
     "metadata": {},
     "output_type": "execute_result"
    }
   ],
   "source": [
    "xgb_model = xgb.XGBClassifier(\n",
    "    random_state=42,\n",
    "    learning_rate = 0.1,\n",
    "    max_depth = 5,\n",
    "    n_estimators = 300,\n",
    "    tree_method='gpu_hist')\n",
    "\n",
    "xgb_model.fit(full_data, target)\n",
    "xgb_model.predict_proba(X_test)[:,1]"
   ]
  },
  {
   "cell_type": "code",
   "execution_count": 284,
   "metadata": {
    "execution": {
     "iopub.execute_input": "2023-03-11T08:45:56.697342Z",
     "iopub.status.busy": "2023-03-11T08:45:56.696538Z",
     "iopub.status.idle": "2023-03-11T08:45:56.725394Z",
     "shell.execute_reply": "2023-03-11T08:45:56.723930Z",
     "shell.execute_reply.started": "2023-03-11T08:45:56.697293Z"
    }
   },
   "outputs": [
    {
     "data": {
      "text/plain": [
       "0.7871186929600013"
      ]
     },
     "execution_count": 284,
     "metadata": {},
     "output_type": "execute_result"
    }
   ],
   "source": [
    "roc_auc_score(y_test,pred)"
   ]
  },
  {
   "cell_type": "code",
   "execution_count": 282,
   "metadata": {
    "execution": {
     "iopub.execute_input": "2023-03-11T08:44:56.021637Z",
     "iopub.status.busy": "2023-03-11T08:44:56.020545Z",
     "iopub.status.idle": "2023-03-11T08:44:56.227682Z",
     "shell.execute_reply": "2023-03-11T08:44:56.226592Z",
     "shell.execute_reply.started": "2023-03-11T08:44:56.021597Z"
    }
   },
   "outputs": [],
   "source": [
    "submition['target'] = xgb_model.predict_proba(full_test)[:,1]"
   ]
  },
  {
   "cell_type": "code",
   "execution_count": 283,
   "metadata": {
    "execution": {
     "iopub.execute_input": "2023-03-11T08:45:03.426685Z",
     "iopub.status.busy": "2023-03-11T08:45:03.426222Z",
     "iopub.status.idle": "2023-03-11T08:45:03.563748Z",
     "shell.execute_reply": "2023-03-11T08:45:03.562580Z",
     "shell.execute_reply.started": "2023-03-11T08:45:03.426642Z"
    }
   },
   "outputs": [],
   "source": [
    "submition.to_csv('sub10:402AM.csv',index=False)"
   ]
  },
  {
   "cell_type": "code",
   "execution_count": 445,
   "metadata": {
    "execution": {
     "iopub.execute_input": "2023-03-11T09:43:51.019868Z",
     "iopub.status.busy": "2023-03-11T09:43:51.019380Z",
     "iopub.status.idle": "2023-03-11T09:43:52.857094Z",
     "shell.execute_reply": "2023-03-11T09:43:52.856278Z",
     "shell.execute_reply.started": "2023-03-11T09:43:51.019814Z"
    }
   },
   "outputs": [
    {
     "name": "stderr",
     "output_type": "stream",
     "text": [
      "\u001b[32m[I 2023-03-11 09:43:51,060]\u001b[0m A new study created in memory with name: no-name-510f04b7-c341-4ad2-a773-d2768bc5b7d9\u001b[0m\n"
     ]
    },
    {
     "name": "stdout",
     "output_type": "stream",
     "text": [
      "[09:43:51] WARNING: ../src/learner.cc:627: \n",
      "Parameters: { \"n_estimators\" } might not be used.\n",
      "\n",
      "  This could be a false alarm, with some parameters getting used by language bindings but\n",
      "  then being mistakenly passed down to XGBoost core, or some parameter actually being used\n",
      "  but getting flagged wrongly here. Please open an issue if you find any such cases.\n",
      "\n",
      "\n"
     ]
    },
    {
     "name": "stderr",
     "output_type": "stream",
     "text": [
      "\u001b[32m[I 2023-03-11 09:43:52,268]\u001b[0m Trial 0 finished with value: 0.6956941249216833 and parameters: {'n_estimators': 530, 'max_depth': 18, 'learning_rate': 0.07244574907073605, 'subsample': 0.6658750269485882, 'colsample_bytree': 0.9633861991674436, 'gamma': 1}. Best is trial 0 with value: 0.6956941249216833.\u001b[0m\n",
      "\u001b[32m[I 2023-03-11 09:43:52,401]\u001b[0m Trial 1 finished with value: 0.6968366345260121 and parameters: {'n_estimators': 510, 'max_depth': 14, 'learning_rate': 0.08134490138656023, 'subsample': 0.967941281944309, 'colsample_bytree': 0.8436012773186158, 'gamma': 6}. Best is trial 0 with value: 0.6956941249216833.\u001b[0m\n"
     ]
    },
    {
     "name": "stdout",
     "output_type": "stream",
     "text": [
      "[09:43:52] WARNING: ../src/learner.cc:627: \n",
      "Parameters: { \"n_estimators\" } might not be used.\n",
      "\n",
      "  This could be a false alarm, with some parameters getting used by language bindings but\n",
      "  then being mistakenly passed down to XGBoost core, or some parameter actually being used\n",
      "  but getting flagged wrongly here. Please open an issue if you find any such cases.\n",
      "\n",
      "\n",
      "[09:43:52] WARNING: ../src/learner.cc:627: \n",
      "Parameters: { \"n_estimators\" } might not be used.\n",
      "\n",
      "  This could be a false alarm, with some parameters getting used by language bindings but\n",
      "  then being mistakenly passed down to XGBoost core, or some parameter actually being used\n",
      "  but getting flagged wrongly here. Please open an issue if you find any such cases.\n",
      "\n",
      "\n"
     ]
    },
    {
     "name": "stderr",
     "output_type": "stream",
     "text": [
      "\u001b[32m[I 2023-03-11 09:43:52,533]\u001b[0m Trial 2 finished with value: 0.6933279980099776 and parameters: {'n_estimators': 525, 'max_depth': 15, 'learning_rate': 0.09946550353620924, 'subsample': 0.5367533979077161, 'colsample_bytree': 0.7288340783773415, 'gamma': 4}. Best is trial 2 with value: 0.6933279980099776.\u001b[0m\n",
      "\u001b[32m[I 2023-03-11 09:43:52,683]\u001b[0m Trial 3 finished with value: 0.6978425003755123 and parameters: {'n_estimators': 547, 'max_depth': 14, 'learning_rate': 0.09861435734890184, 'subsample': 0.8887157367646212, 'colsample_bytree': 0.7734318098734143, 'gamma': 5}. Best is trial 2 with value: 0.6933279980099776.\u001b[0m\n"
     ]
    },
    {
     "name": "stdout",
     "output_type": "stream",
     "text": [
      "[09:43:52] WARNING: ../src/learner.cc:627: \n",
      "Parameters: { \"n_estimators\" } might not be used.\n",
      "\n",
      "  This could be a false alarm, with some parameters getting used by language bindings but\n",
      "  then being mistakenly passed down to XGBoost core, or some parameter actually being used\n",
      "  but getting flagged wrongly here. Please open an issue if you find any such cases.\n",
      "\n",
      "\n",
      "[09:43:52] WARNING: ../src/learner.cc:627: \n",
      "Parameters: { \"n_estimators\" } might not be used.\n",
      "\n",
      "  This could be a false alarm, with some parameters getting used by language bindings but\n",
      "  then being mistakenly passed down to XGBoost core, or some parameter actually being used\n",
      "  but getting flagged wrongly here. Please open an issue if you find any such cases.\n",
      "\n",
      "\n"
     ]
    },
    {
     "name": "stderr",
     "output_type": "stream",
     "text": [
      "\u001b[32m[I 2023-03-11 09:43:52,852]\u001b[0m Trial 4 finished with value: 0.6937059028741689 and parameters: {'n_estimators': 543, 'max_depth': 11, 'learning_rate': 0.06610271399990804, 'subsample': 0.986163416845733, 'colsample_bytree': 0.5032660732743378, 'gamma': 3}. Best is trial 2 with value: 0.6933279980099776.\u001b[0m\n"
     ]
    }
   ],
   "source": [
    "# Created the Xgboost specific DMatrix data format from the numpy array to optimise memory consumption\n",
    "dtrain = xgb.DMatrix(X_train, y_train)\n",
    "dvalid = xgb.DMatrix(X_test, label=y_test)\n",
    "\n",
    "def objective(trial):\n",
    "    \n",
    "# params specifies the XGBoost hyperparameters to be tuned\n",
    "    params = {\n",
    "        'n_estimators': trial.suggest_int('n_estimators', 400, 600),\n",
    "        'max_depth': trial.suggest_int('max_depth', 10, 20),\n",
    "        'learning_rate': trial.suggest_uniform('learning_rate', 0.01, .1),\n",
    "        'subsample': trial.suggest_uniform('subsample', 0.50, 1),\n",
    "        'colsample_bytree': trial.suggest_uniform('colsample_bytree', 0.50, 1),\n",
    "        'gamma': trial.suggest_int('gamma', 0, 10),\n",
    "        'tree_method': 'gpu_hist',  \n",
    "        'objective': 'binary:logistic'\n",
    "    }\n",
    "    \n",
    "    bst = xgb.train(params, dtrain)\n",
    "    preds = bst.predict(dvalid)\n",
    "    pred_labels = np.rint(preds)\n",
    "# trials will be evaluated based on their accuracy on the test set\n",
    "    accuracy = roc_auc_score(y_test, pred_labels)\n",
    "    return accuracy\n",
    "\n",
    "study = optuna.create_study()\n",
    "study.optimize(objective,n_trials=5) \n",
    "#You can increase n_trials parameter"
   ]
  },
  {
   "cell_type": "code",
   "execution_count": 446,
   "metadata": {
    "execution": {
     "iopub.execute_input": "2023-03-11T09:43:56.352365Z",
     "iopub.status.busy": "2023-03-11T09:43:56.351993Z",
     "iopub.status.idle": "2023-03-11T09:43:56.358858Z",
     "shell.execute_reply": "2023-03-11T09:43:56.357567Z",
     "shell.execute_reply.started": "2023-03-11T09:43:56.352331Z"
    }
   },
   "outputs": [
    {
     "name": "stdout",
     "output_type": "stream",
     "text": [
      "Best trial: score 0.6933279980099776, params {'n_estimators': 525, 'max_depth': 15, 'learning_rate': 0.09946550353620924, 'subsample': 0.5367533979077161, 'colsample_bytree': 0.7288340783773415, 'gamma': 4}\n"
     ]
    }
   ],
   "source": [
    "print('Best trial: score {}, params {}'.format(study.best_trial.value, study.best_trial.params))"
   ]
  },
  {
   "cell_type": "code",
   "execution_count": 447,
   "metadata": {
    "execution": {
     "iopub.execute_input": "2023-03-11T09:43:58.220025Z",
     "iopub.status.busy": "2023-03-11T09:43:58.219267Z",
     "iopub.status.idle": "2023-03-11T09:43:58.225147Z",
     "shell.execute_reply": "2023-03-11T09:43:58.223704Z",
     "shell.execute_reply.started": "2023-03-11T09:43:58.219987Z"
    }
   },
   "outputs": [],
   "source": [
    "best_params = study.best_trial.params\n",
    "best_params['tree_method'] = 'gpu_hist'      #gpu_hist is really fast\n",
    "best_params['objective'] = 'binary:logistic'\n",
    "# Fit the XGBoost classifier with optimal hyperparameters"
   ]
  },
  {
   "cell_type": "code",
   "execution_count": 448,
   "metadata": {
    "execution": {
     "iopub.execute_input": "2023-03-11T09:43:59.949236Z",
     "iopub.status.busy": "2023-03-11T09:43:59.948881Z",
     "iopub.status.idle": "2023-03-11T09:43:59.955878Z",
     "shell.execute_reply": "2023-03-11T09:43:59.954858Z",
     "shell.execute_reply.started": "2023-03-11T09:43:59.949206Z"
    }
   },
   "outputs": [
    {
     "data": {
      "text/plain": [
       "{'n_estimators': 525,\n",
       " 'max_depth': 15,\n",
       " 'learning_rate': 0.09946550353620924,\n",
       " 'subsample': 0.5367533979077161,\n",
       " 'colsample_bytree': 0.7288340783773415,\n",
       " 'gamma': 4,\n",
       " 'tree_method': 'gpu_hist',\n",
       " 'objective': 'binary:logistic'}"
      ]
     },
     "execution_count": 448,
     "metadata": {},
     "output_type": "execute_result"
    }
   ],
   "source": [
    "best_params"
   ]
  },
  {
   "cell_type": "code",
   "execution_count": 449,
   "metadata": {
    "execution": {
     "iopub.execute_input": "2023-03-11T09:44:07.931016Z",
     "iopub.status.busy": "2023-03-11T09:44:07.929919Z",
     "iopub.status.idle": "2023-03-11T09:44:09.014613Z",
     "shell.execute_reply": "2023-03-11T09:44:09.013558Z",
     "shell.execute_reply.started": "2023-03-11T09:44:07.930974Z"
    }
   },
   "outputs": [
    {
     "name": "stdout",
     "output_type": "stream",
     "text": [
      "CPU times: user 1.1 s, sys: 16.6 ms, total: 1.12 s\n",
      "Wall time: 1.07 s\n"
     ]
    },
    {
     "data": {
      "text/plain": [
       "XGBClassifier(base_score=0.5, booster='gbtree', callbacks=None,\n",
       "              colsample_bylevel=1, colsample_bynode=1,\n",
       "              colsample_bytree=0.7288340783773415, early_stopping_rounds=None,\n",
       "              enable_categorical=False, eval_metric=None, gamma=4, gpu_id=0,\n",
       "              grow_policy='depthwise', importance_type=None,\n",
       "              interaction_constraints='', learning_rate=0.09946550353620924,\n",
       "              max_bin=256, max_cat_to_onehot=4, max_delta_step=0, max_depth=15,\n",
       "              max_leaves=0, min_child_weight=1, missing=nan,\n",
       "              monotone_constraints='()', n_estimators=525, n_jobs=0,\n",
       "              num_parallel_tree=1, predictor='auto', random_state=0,\n",
       "              reg_alpha=0, reg_lambda=1, ...)"
      ]
     },
     "execution_count": 449,
     "metadata": {},
     "output_type": "execute_result"
    }
   ],
   "source": [
    "clf = xgb.XGBClassifier(**best_params)\n",
    "%time clf.fit(full_data, y)  #Used the whole training data"
   ]
  },
  {
   "cell_type": "code",
   "execution_count": 450,
   "metadata": {
    "execution": {
     "iopub.execute_input": "2023-03-11T09:44:22.890452Z",
     "iopub.status.busy": "2023-03-11T09:44:22.890070Z",
     "iopub.status.idle": "2023-03-11T09:44:23.105870Z",
     "shell.execute_reply": "2023-03-11T09:44:23.104897Z",
     "shell.execute_reply.started": "2023-03-11T09:44:22.890409Z"
    }
   },
   "outputs": [],
   "source": [
    "clfpred = clf.predict_proba(full_test)[:,1]\n",
    "submition['target'] = clfpred\n",
    "submition.to_csv('sub:11:4444.csv',index=False)"
   ]
  },
  {
   "cell_type": "markdown",
   "metadata": {},
   "source": [
    "# Hyperparameter tuning of XGBoost¶\n"
   ]
  },
  {
   "cell_type": "code",
   "execution_count": 427,
   "metadata": {
    "execution": {
     "iopub.execute_input": "2023-03-11T09:40:28.659692Z",
     "iopub.status.busy": "2023-03-11T09:40:28.659307Z",
     "iopub.status.idle": "2023-03-11T09:40:28.683107Z",
     "shell.execute_reply": "2023-03-11T09:40:28.680742Z",
     "shell.execute_reply.started": "2023-03-11T09:40:28.659658Z"
    }
   },
   "outputs": [
    {
     "data": {
      "text/plain": [
       "0        0.893740\n",
       "1        1.043263\n",
       "2        1.043263\n",
       "3        1.626868\n",
       "4        1.043263\n",
       "           ...   \n",
       "44938    1.043263\n",
       "44939    1.043263\n",
       "44940    1.043263\n",
       "44941    1.043263\n",
       "44942    1.043263\n",
       "Name: internet_access, Length: 44943, dtype: float64"
      ]
     },
     "execution_count": 427,
     "metadata": {},
     "output_type": "execute_result"
    }
   ],
   "source": [
    "full_data = full_concat.drop(cols_with_missing,axis=1)\n",
    "full_test = test_concat.drop(cols_with_missing,axis=1)\n",
    "target = y\n",
    "\n",
    "full_data = full_data[col_n_q]\n",
    "full_test = full_test[col_n_q]\n",
    "full_data.pop('internet_access')\n",
    "full_test.pop('internet_access')"
   ]
  },
  {
   "cell_type": "code",
   "execution_count": 434,
   "metadata": {
    "execution": {
     "iopub.execute_input": "2023-03-11T09:41:16.579233Z",
     "iopub.status.busy": "2023-03-11T09:41:16.578866Z",
     "iopub.status.idle": "2023-03-11T09:41:16.598071Z",
     "shell.execute_reply": "2023-03-11T09:41:16.597028Z",
     "shell.execute_reply.started": "2023-03-11T09:41:16.579199Z"
    }
   },
   "outputs": [],
   "source": [
    "X = full_data\n",
    "y = target\n",
    "X_train, X_test, y_train, y_test = train_test_split(X, y, test_size = 0.3, random_state = 0)"
   ]
  },
  {
   "cell_type": "code",
   "execution_count": 435,
   "metadata": {
    "execution": {
     "iopub.execute_input": "2023-03-11T09:41:17.869104Z",
     "iopub.status.busy": "2023-03-11T09:41:17.868713Z",
     "iopub.status.idle": "2023-03-11T09:41:17.876096Z",
     "shell.execute_reply": "2023-03-11T09:41:17.874736Z",
     "shell.execute_reply.started": "2023-03-11T09:41:17.869068Z"
    }
   },
   "outputs": [],
   "source": [
    "params={\n",
    "    \"learning_rate\":[0.05,0.10,0.15,0.20,0.25,0.30],\n",
    "    \"max_depth\":[3,4,5,6,8,10,12,15],\n",
    "    \"min_child_weight\":[1,3,5,7],\n",
    "    \"gamma\":[0.0,0.1,0.2,0.3,0.4],\n",
    "    \"colsample_bytree\":[0.3,0.4,0.5,0.7],\n",
    "    \"n_estimators\":[10,20,30,50,100,200,300,400,600,1000]\n",
    "}"
   ]
  },
  {
   "cell_type": "code",
   "execution_count": 436,
   "metadata": {
    "execution": {
     "iopub.execute_input": "2023-03-11T09:41:18.492651Z",
     "iopub.status.busy": "2023-03-11T09:41:18.491916Z",
     "iopub.status.idle": "2023-03-11T09:41:18.497608Z",
     "shell.execute_reply": "2023-03-11T09:41:18.496380Z",
     "shell.execute_reply.started": "2023-03-11T09:41:18.492613Z"
    }
   },
   "outputs": [],
   "source": [
    "from sklearn.model_selection import RandomizedSearchCV\n",
    "import xgboost"
   ]
  },
  {
   "cell_type": "code",
   "execution_count": 437,
   "metadata": {
    "execution": {
     "iopub.execute_input": "2023-03-11T09:41:19.250355Z",
     "iopub.status.busy": "2023-03-11T09:41:19.249606Z",
     "iopub.status.idle": "2023-03-11T09:41:19.255424Z",
     "shell.execute_reply": "2023-03-11T09:41:19.254313Z",
     "shell.execute_reply.started": "2023-03-11T09:41:19.250312Z"
    }
   },
   "outputs": [],
   "source": [
    "classifier=xgboost.XGBClassifier(tree_method='gpu_hist',gpu_id=0)"
   ]
  },
  {
   "cell_type": "code",
   "execution_count": 438,
   "metadata": {
    "execution": {
     "iopub.execute_input": "2023-03-11T09:41:20.281473Z",
     "iopub.status.busy": "2023-03-11T09:41:20.280775Z",
     "iopub.status.idle": "2023-03-11T09:41:20.287395Z",
     "shell.execute_reply": "2023-03-11T09:41:20.286233Z",
     "shell.execute_reply.started": "2023-03-11T09:41:20.281436Z"
    }
   },
   "outputs": [],
   "source": [
    "def timer(start_time=None):\n",
    "    if not start_time:\n",
    "        start_time = datetime.now()\n",
    "        return start_time\n",
    "    elif start_time:\n",
    "        thour, temp_sec = divmod((datetime.now() - start_time).total_seconds(), 3600)\n",
    "        tmin, tsec = divmod(temp_sec, 60)\n",
    "        print('\\n Time taken: %i hours %i minutes and %s seconds.' % (thour, tmin, round(tsec, 2)))"
   ]
  },
  {
   "cell_type": "code",
   "execution_count": 439,
   "metadata": {
    "execution": {
     "iopub.execute_input": "2023-03-11T09:41:21.270349Z",
     "iopub.status.busy": "2023-03-11T09:41:21.268776Z",
     "iopub.status.idle": "2023-03-11T09:41:21.276114Z",
     "shell.execute_reply": "2023-03-11T09:41:21.274763Z",
     "shell.execute_reply.started": "2023-03-11T09:41:21.270293Z"
    }
   },
   "outputs": [],
   "source": [
    "random_search=RandomizedSearchCV(classifier,param_distributions=params,n_iter=5,scoring='roc_auc',cv=5,verbose=3)"
   ]
  },
  {
   "cell_type": "code",
   "execution_count": 440,
   "metadata": {
    "execution": {
     "iopub.execute_input": "2023-03-11T09:41:22.019340Z",
     "iopub.status.busy": "2023-03-11T09:41:22.018953Z",
     "iopub.status.idle": "2023-03-11T09:41:32.933479Z",
     "shell.execute_reply": "2023-03-11T09:41:32.932683Z",
     "shell.execute_reply.started": "2023-03-11T09:41:22.019301Z"
    }
   },
   "outputs": [
    {
     "name": "stdout",
     "output_type": "stream",
     "text": [
      "Fitting 5 folds for each of 5 candidates, totalling 25 fits\n",
      "[CV 1/5] END colsample_bytree=0.5, gamma=0.1, learning_rate=0.1, max_depth=12, min_child_weight=5, n_estimators=20;, score=0.789 total time=   0.7s\n",
      "[CV 2/5] END colsample_bytree=0.5, gamma=0.1, learning_rate=0.1, max_depth=12, min_child_weight=5, n_estimators=20;, score=0.787 total time=   0.6s\n",
      "[CV 3/5] END colsample_bytree=0.5, gamma=0.1, learning_rate=0.1, max_depth=12, min_child_weight=5, n_estimators=20;, score=0.777 total time=   0.6s\n",
      "[CV 4/5] END colsample_bytree=0.5, gamma=0.1, learning_rate=0.1, max_depth=12, min_child_weight=5, n_estimators=20;, score=0.785 total time=   0.6s\n",
      "[CV 5/5] END colsample_bytree=0.5, gamma=0.1, learning_rate=0.1, max_depth=12, min_child_weight=5, n_estimators=20;, score=0.787 total time=   0.6s\n",
      "[CV 1/5] END colsample_bytree=0.7, gamma=0.4, learning_rate=0.05, max_depth=5, min_child_weight=1, n_estimators=100;, score=0.787 total time=   0.2s\n",
      "[CV 2/5] END colsample_bytree=0.7, gamma=0.4, learning_rate=0.05, max_depth=5, min_child_weight=1, n_estimators=100;, score=0.785 total time=   0.2s\n",
      "[CV 3/5] END colsample_bytree=0.7, gamma=0.4, learning_rate=0.05, max_depth=5, min_child_weight=1, n_estimators=100;, score=0.774 total time=   0.2s\n",
      "[CV 4/5] END colsample_bytree=0.7, gamma=0.4, learning_rate=0.05, max_depth=5, min_child_weight=1, n_estimators=100;, score=0.783 total time=   0.2s\n",
      "[CV 5/5] END colsample_bytree=0.7, gamma=0.4, learning_rate=0.05, max_depth=5, min_child_weight=1, n_estimators=100;, score=0.785 total time=   0.2s\n",
      "[CV 1/5] END colsample_bytree=0.5, gamma=0.4, learning_rate=0.05, max_depth=6, min_child_weight=1, n_estimators=200;, score=0.792 total time=   0.6s\n",
      "[CV 2/5] END colsample_bytree=0.5, gamma=0.4, learning_rate=0.05, max_depth=6, min_child_weight=1, n_estimators=200;, score=0.789 total time=   0.6s\n",
      "[CV 3/5] END colsample_bytree=0.5, gamma=0.4, learning_rate=0.05, max_depth=6, min_child_weight=1, n_estimators=200;, score=0.780 total time=   0.6s\n",
      "[CV 4/5] END colsample_bytree=0.5, gamma=0.4, learning_rate=0.05, max_depth=6, min_child_weight=1, n_estimators=200;, score=0.787 total time=   0.7s\n",
      "[CV 5/5] END colsample_bytree=0.5, gamma=0.4, learning_rate=0.05, max_depth=6, min_child_weight=1, n_estimators=200;, score=0.790 total time=   0.6s\n",
      "[CV 1/5] END colsample_bytree=0.4, gamma=0.3, learning_rate=0.25, max_depth=12, min_child_weight=7, n_estimators=30;, score=0.789 total time=   0.5s\n",
      "[CV 2/5] END colsample_bytree=0.4, gamma=0.3, learning_rate=0.25, max_depth=12, min_child_weight=7, n_estimators=30;, score=0.787 total time=   0.5s\n",
      "[CV 3/5] END colsample_bytree=0.4, gamma=0.3, learning_rate=0.25, max_depth=12, min_child_weight=7, n_estimators=30;, score=0.779 total time=   0.5s\n",
      "[CV 4/5] END colsample_bytree=0.4, gamma=0.3, learning_rate=0.25, max_depth=12, min_child_weight=7, n_estimators=30;, score=0.783 total time=   0.5s\n",
      "[CV 5/5] END colsample_bytree=0.4, gamma=0.3, learning_rate=0.25, max_depth=12, min_child_weight=7, n_estimators=30;, score=0.787 total time=   0.5s\n",
      "[CV 1/5] END colsample_bytree=0.5, gamma=0.3, learning_rate=0.2, max_depth=8, min_child_weight=5, n_estimators=10;, score=0.784 total time=   0.1s\n",
      "[CV 2/5] END colsample_bytree=0.5, gamma=0.3, learning_rate=0.2, max_depth=8, min_child_weight=5, n_estimators=10;, score=0.783 total time=   0.1s\n",
      "[CV 3/5] END colsample_bytree=0.5, gamma=0.3, learning_rate=0.2, max_depth=8, min_child_weight=5, n_estimators=10;, score=0.771 total time=   0.1s\n",
      "[CV 4/5] END colsample_bytree=0.5, gamma=0.3, learning_rate=0.2, max_depth=8, min_child_weight=5, n_estimators=10;, score=0.782 total time=   0.1s\n",
      "[CV 5/5] END colsample_bytree=0.5, gamma=0.3, learning_rate=0.2, max_depth=8, min_child_weight=5, n_estimators=10;, score=0.782 total time=   0.1s\n",
      "\n",
      " Time taken: 0 hours 0 minutes and 10.91 seconds.\n"
     ]
    }
   ],
   "source": [
    "from datetime import datetime\n",
    "# Here we go\n",
    "start_time = timer(None) # timing starts from this point for \"start_time\" variable\n",
    "random_search.fit(X_train,y_train)\n",
    "timer(start_time) # timing ends here for \"start_time\" variable"
   ]
  },
  {
   "cell_type": "code",
   "execution_count": 441,
   "metadata": {
    "execution": {
     "iopub.execute_input": "2023-03-11T09:42:14.125522Z",
     "iopub.status.busy": "2023-03-11T09:42:14.125156Z",
     "iopub.status.idle": "2023-03-11T09:42:14.132415Z",
     "shell.execute_reply": "2023-03-11T09:42:14.131288Z",
     "shell.execute_reply.started": "2023-03-11T09:42:14.125489Z"
    }
   },
   "outputs": [
    {
     "data": {
      "text/plain": [
       "{'n_estimators': 200,\n",
       " 'min_child_weight': 1,\n",
       " 'max_depth': 6,\n",
       " 'learning_rate': 0.05,\n",
       " 'gamma': 0.4,\n",
       " 'colsample_bytree': 0.5}"
      ]
     },
     "execution_count": 441,
     "metadata": {},
     "output_type": "execute_result"
    }
   ],
   "source": [
    "random_search.best_params_"
   ]
  },
  {
   "cell_type": "code",
   "execution_count": 442,
   "metadata": {
    "execution": {
     "iopub.execute_input": "2023-03-11T09:42:17.709626Z",
     "iopub.status.busy": "2023-03-11T09:42:17.709181Z",
     "iopub.status.idle": "2023-03-11T09:42:17.714642Z",
     "shell.execute_reply": "2023-03-11T09:42:17.713604Z",
     "shell.execute_reply.started": "2023-03-11T09:42:17.709589Z"
    }
   },
   "outputs": [],
   "source": [
    "classifier=xgboost.XGBClassifier(**random_search.best_params_,tree_method='gpu_hist')"
   ]
  },
  {
   "cell_type": "code",
   "execution_count": 443,
   "metadata": {
    "execution": {
     "iopub.execute_input": "2023-03-11T09:42:17.972769Z",
     "iopub.status.busy": "2023-03-11T09:42:17.971786Z",
     "iopub.status.idle": "2023-03-11T09:42:18.759020Z",
     "shell.execute_reply": "2023-03-11T09:42:18.758182Z",
     "shell.execute_reply.started": "2023-03-11T09:42:17.972723Z"
    }
   },
   "outputs": [
    {
     "data": {
      "text/plain": [
       "XGBClassifier(base_score=0.5, booster='gbtree', callbacks=None,\n",
       "              colsample_bylevel=1, colsample_bynode=1, colsample_bytree=0.5,\n",
       "              early_stopping_rounds=None, enable_categorical=False,\n",
       "              eval_metric=None, gamma=0.4, gpu_id=0, grow_policy='depthwise',\n",
       "              importance_type=None, interaction_constraints='',\n",
       "              learning_rate=0.05, max_bin=256, max_cat_to_onehot=4,\n",
       "              max_delta_step=0, max_depth=6, max_leaves=0, min_child_weight=1,\n",
       "              missing=nan, monotone_constraints='()', n_estimators=200,\n",
       "              n_jobs=0, num_parallel_tree=1, predictor='auto', random_state=0,\n",
       "              reg_alpha=0, reg_lambda=1, ...)"
      ]
     },
     "execution_count": 443,
     "metadata": {},
     "output_type": "execute_result"
    }
   ],
   "source": [
    "classifier.fit(full_data,target)"
   ]
  },
  {
   "cell_type": "code",
   "execution_count": 444,
   "metadata": {
    "execution": {
     "iopub.execute_input": "2023-03-11T09:42:33.740724Z",
     "iopub.status.busy": "2023-03-11T09:42:33.740370Z",
     "iopub.status.idle": "2023-03-11T09:42:33.978699Z",
     "shell.execute_reply": "2023-03-11T09:42:33.977437Z",
     "shell.execute_reply.started": "2023-03-11T09:42:33.740693Z"
    }
   },
   "outputs": [],
   "source": [
    "clfpred = classifier.predict_proba(full_test)[:,1]\n",
    "submition['target'] = clfpred\n",
    "submition.to_csv('sub:11:42AM.csv',index=False)"
   ]
  },
  {
   "cell_type": "code",
   "execution_count": 319,
   "metadata": {
    "execution": {
     "iopub.execute_input": "2023-03-11T08:58:35.586886Z",
     "iopub.status.busy": "2023-03-11T08:58:35.586545Z",
     "iopub.status.idle": "2023-03-11T08:58:44.017037Z",
     "shell.execute_reply": "2023-03-11T08:58:44.014826Z",
     "shell.execute_reply.started": "2023-03-11T08:58:35.586842Z"
    }
   },
   "outputs": [],
   "source": [
    "from sklearn.model_selection import cross_val_score\n",
    "score=cross_val_score(classifier,X_train,y_train,cv=10)"
   ]
  },
  {
   "cell_type": "code",
   "execution_count": 320,
   "metadata": {
    "execution": {
     "iopub.execute_input": "2023-03-11T08:58:53.680940Z",
     "iopub.status.busy": "2023-03-11T08:58:53.679900Z",
     "iopub.status.idle": "2023-03-11T08:58:53.685531Z",
     "shell.execute_reply": "2023-03-11T08:58:53.684312Z",
     "shell.execute_reply.started": "2023-03-11T08:58:53.680902Z"
    }
   },
   "outputs": [],
   "source": [
    "from sklearn.metrics import accuracy_score"
   ]
  },
  {
   "cell_type": "code",
   "execution_count": 321,
   "metadata": {
    "execution": {
     "iopub.execute_input": "2023-03-11T08:58:53.881213Z",
     "iopub.status.busy": "2023-03-11T08:58:53.879413Z",
     "iopub.status.idle": "2023-03-11T08:59:03.612489Z",
     "shell.execute_reply": "2023-03-11T08:59:03.611648Z",
     "shell.execute_reply.started": "2023-03-11T08:58:53.881170Z"
    }
   },
   "outputs": [],
   "source": [
    "accuracy=[]\n",
    "skf=StratifiedKFold(n_splits=10,random_state=None)\n",
    "skf.get_n_splits(X,y)\n",
    "for train_index,test_index in skf.split(X,y):\n",
    "    X1_train,X1_test=X.iloc[train_index],X.iloc[test_index]\n",
    "    Y1_train,Y1_test=y.iloc[train_index],y.iloc[test_index]\n",
    "    \n",
    "    classifier.fit(X1_train,Y1_train)\n",
    "    prediction=classifier.predict(X1_test)\n",
    "    socre=accuracy_score(prediction,Y1_test)\n",
    "    accuracy.append(score)"
   ]
  },
  {
   "cell_type": "code",
   "execution_count": 322,
   "metadata": {
    "execution": {
     "iopub.execute_input": "2023-03-11T08:59:03.614698Z",
     "iopub.status.busy": "2023-03-11T08:59:03.614080Z",
     "iopub.status.idle": "2023-03-11T08:59:03.624205Z",
     "shell.execute_reply": "2023-03-11T08:59:03.623231Z",
     "shell.execute_reply.started": "2023-03-11T08:59:03.614661Z"
    }
   },
   "outputs": [
    {
     "name": "stdout",
     "output_type": "stream",
     "text": [
      "[array([0.72183626, 0.72537801, 0.7131181 , 0.71911184, 0.71407165,\n",
      "       0.7169323 , 0.72288828, 0.73106267, 0.71389646, 0.71989101]), array([0.72183626, 0.72537801, 0.7131181 , 0.71911184, 0.71407165,\n",
      "       0.7169323 , 0.72288828, 0.73106267, 0.71389646, 0.71989101]), array([0.72183626, 0.72537801, 0.7131181 , 0.71911184, 0.71407165,\n",
      "       0.7169323 , 0.72288828, 0.73106267, 0.71389646, 0.71989101]), array([0.72183626, 0.72537801, 0.7131181 , 0.71911184, 0.71407165,\n",
      "       0.7169323 , 0.72288828, 0.73106267, 0.71389646, 0.71989101]), array([0.72183626, 0.72537801, 0.7131181 , 0.71911184, 0.71407165,\n",
      "       0.7169323 , 0.72288828, 0.73106267, 0.71389646, 0.71989101]), array([0.72183626, 0.72537801, 0.7131181 , 0.71911184, 0.71407165,\n",
      "       0.7169323 , 0.72288828, 0.73106267, 0.71389646, 0.71989101]), array([0.72183626, 0.72537801, 0.7131181 , 0.71911184, 0.71407165,\n",
      "       0.7169323 , 0.72288828, 0.73106267, 0.71389646, 0.71989101]), array([0.72183626, 0.72537801, 0.7131181 , 0.71911184, 0.71407165,\n",
      "       0.7169323 , 0.72288828, 0.73106267, 0.71389646, 0.71989101]), array([0.72183626, 0.72537801, 0.7131181 , 0.71911184, 0.71407165,\n",
      "       0.7169323 , 0.72288828, 0.73106267, 0.71389646, 0.71989101]), array([0.72183626, 0.72537801, 0.7131181 , 0.71911184, 0.71407165,\n",
      "       0.7169323 , 0.72288828, 0.73106267, 0.71389646, 0.71989101])]\n"
     ]
    }
   ],
   "source": [
    "print(accuracy)"
   ]
  },
  {
   "cell_type": "code",
   "execution_count": 329,
   "metadata": {
    "execution": {
     "iopub.execute_input": "2023-03-11T09:03:38.082265Z",
     "iopub.status.busy": "2023-03-11T09:03:38.081873Z",
     "iopub.status.idle": "2023-03-11T09:03:38.094014Z",
     "shell.execute_reply": "2023-03-11T09:03:38.092777Z",
     "shell.execute_reply.started": "2023-03-11T09:03:38.082231Z"
    }
   },
   "outputs": [
    {
     "data": {
      "text/plain": [
       "Index(['Q1', 'Q6', 'Q10a', 'Q10b', 'Q11', 'Q12', 'Q13a', 'Q14', 'Q15', 'Q16',\n",
       "       'Q17a', 'Q17b', 'Q21', 'Q22', 'Q24', 'Q25', 'country', 'population',\n",
       "       'age', 'debit_card', 'got_savings', 'borrowed', 'given', 'benefit',\n",
       "       'internet_access'],\n",
       "      dtype='object')"
      ]
     },
     "execution_count": 329,
     "metadata": {},
     "output_type": "execute_result"
    }
   ],
   "source": [
    "full_data.columns"
   ]
  },
  {
   "cell_type": "code",
   "execution_count": 382,
   "metadata": {
    "execution": {
     "iopub.execute_input": "2023-03-11T09:29:43.550948Z",
     "iopub.status.busy": "2023-03-11T09:29:43.550551Z",
     "iopub.status.idle": "2023-03-11T09:29:43.559002Z",
     "shell.execute_reply": "2023-03-11T09:29:43.557704Z",
     "shell.execute_reply.started": "2023-03-11T09:29:43.550913Z"
    }
   },
   "outputs": [
    {
     "data": {
      "text/plain": [
       "Index(['country', 'population', 'age', 'debit_card', 'got_savings', 'borrowed',\n",
       "       'given', 'benefit'],\n",
       "      dtype='object')"
      ]
     },
     "execution_count": 382,
     "metadata": {},
     "output_type": "execute_result"
    }
   ],
   "source": [
    "full_data.columns"
   ]
  },
  {
   "cell_type": "code",
   "execution_count": 384,
   "metadata": {
    "execution": {
     "iopub.execute_input": "2023-03-11T09:30:51.922181Z",
     "iopub.status.busy": "2023-03-11T09:30:51.921825Z",
     "iopub.status.idle": "2023-03-11T09:30:52.266883Z",
     "shell.execute_reply": "2023-03-11T09:30:52.265744Z",
     "shell.execute_reply.started": "2023-03-11T09:30:51.922149Z"
    }
   },
   "outputs": [
    {
     "data": {
      "text/html": [
       "<div>\n",
       "<style scoped>\n",
       "    .dataframe tbody tr th:only-of-type {\n",
       "        vertical-align: middle;\n",
       "    }\n",
       "\n",
       "    .dataframe tbody tr th {\n",
       "        vertical-align: top;\n",
       "    }\n",
       "\n",
       "    .dataframe thead th {\n",
       "        text-align: right;\n",
       "    }\n",
       "</style>\n",
       "<table border=\"1\" class=\"dataframe\">\n",
       "  <thead>\n",
       "    <tr style=\"text-align: right;\">\n",
       "      <th></th>\n",
       "      <th>ID</th>\n",
       "      <th>country</th>\n",
       "      <th>region</th>\n",
       "      <th>population</th>\n",
       "      <th>age</th>\n",
       "      <th>Q1</th>\n",
       "      <th>Q2</th>\n",
       "      <th>Q3</th>\n",
       "      <th>Q4</th>\n",
       "      <th>Q5</th>\n",
       "      <th>...</th>\n",
       "      <th>Q21</th>\n",
       "      <th>Q22</th>\n",
       "      <th>Q23</th>\n",
       "      <th>Q24</th>\n",
       "      <th>Q25</th>\n",
       "      <th>Q26</th>\n",
       "      <th>Q27</th>\n",
       "      <th>owns_mobile</th>\n",
       "      <th>Q28</th>\n",
       "      <th>target</th>\n",
       "    </tr>\n",
       "  </thead>\n",
       "  <tbody>\n",
       "    <tr>\n",
       "      <th>0</th>\n",
       "      <td>ID_0000020532</td>\n",
       "      <td>Morocco</td>\n",
       "      <td>Middle East &amp; North Africa (excluding high inc...</td>\n",
       "      <td>2.555017e+07</td>\n",
       "      <td>66.0</td>\n",
       "      <td>2</td>\n",
       "      <td>NaN</td>\n",
       "      <td>NaN</td>\n",
       "      <td>NaN</td>\n",
       "      <td>NaN</td>\n",
       "      <td>...</td>\n",
       "      <td>1</td>\n",
       "      <td>2</td>\n",
       "      <td>NaN</td>\n",
       "      <td>1</td>\n",
       "      <td>2</td>\n",
       "      <td>2.0</td>\n",
       "      <td>2.0</td>\n",
       "      <td>1.0</td>\n",
       "      <td>1.0</td>\n",
       "      <td>0</td>\n",
       "    </tr>\n",
       "    <tr>\n",
       "      <th>1</th>\n",
       "      <td>ID_0000075765</td>\n",
       "      <td>Lebanon</td>\n",
       "      <td>Middle East &amp; North Africa (excluding high inc...</td>\n",
       "      <td>4.591023e+06</td>\n",
       "      <td>44.0</td>\n",
       "      <td>2</td>\n",
       "      <td>NaN</td>\n",
       "      <td>NaN</td>\n",
       "      <td>2.0</td>\n",
       "      <td>2.0</td>\n",
       "      <td>...</td>\n",
       "      <td>1</td>\n",
       "      <td>2</td>\n",
       "      <td>NaN</td>\n",
       "      <td>2</td>\n",
       "      <td>2</td>\n",
       "      <td>2.0</td>\n",
       "      <td>1.0</td>\n",
       "      <td>1.0</td>\n",
       "      <td>1.0</td>\n",
       "      <td>1</td>\n",
       "    </tr>\n",
       "    <tr>\n",
       "      <th>2</th>\n",
       "      <td>ID_0000085491</td>\n",
       "      <td>Morocco</td>\n",
       "      <td>Middle East &amp; North Africa (excluding high inc...</td>\n",
       "      <td>2.555017e+07</td>\n",
       "      <td>29.0</td>\n",
       "      <td>1</td>\n",
       "      <td>1.0</td>\n",
       "      <td>1.0</td>\n",
       "      <td>2.0</td>\n",
       "      <td>2.0</td>\n",
       "      <td>...</td>\n",
       "      <td>1</td>\n",
       "      <td>1</td>\n",
       "      <td>2.0</td>\n",
       "      <td>2</td>\n",
       "      <td>2</td>\n",
       "      <td>2.0</td>\n",
       "      <td>NaN</td>\n",
       "      <td>1.0</td>\n",
       "      <td>1.0</td>\n",
       "      <td>0</td>\n",
       "    </tr>\n",
       "    <tr>\n",
       "      <th>3</th>\n",
       "      <td>ID_0000144505</td>\n",
       "      <td>Canada</td>\n",
       "      <td>High income: OECD</td>\n",
       "      <td>3.049117e+07</td>\n",
       "      <td>44.0</td>\n",
       "      <td>1</td>\n",
       "      <td>1.0</td>\n",
       "      <td>1.0</td>\n",
       "      <td>1.0</td>\n",
       "      <td>1.0</td>\n",
       "      <td>...</td>\n",
       "      <td>1</td>\n",
       "      <td>1</td>\n",
       "      <td>2.0</td>\n",
       "      <td>1</td>\n",
       "      <td>2</td>\n",
       "      <td>NaN</td>\n",
       "      <td>NaN</td>\n",
       "      <td>1.0</td>\n",
       "      <td>NaN</td>\n",
       "      <td>1</td>\n",
       "    </tr>\n",
       "    <tr>\n",
       "      <th>4</th>\n",
       "      <td>ID_0000214184</td>\n",
       "      <td>Mexico</td>\n",
       "      <td>Latin America &amp; Caribbean (excluding high income)</td>\n",
       "      <td>9.300232e+07</td>\n",
       "      <td>36.0</td>\n",
       "      <td>2</td>\n",
       "      <td>NaN</td>\n",
       "      <td>NaN</td>\n",
       "      <td>NaN</td>\n",
       "      <td>NaN</td>\n",
       "      <td>...</td>\n",
       "      <td>1</td>\n",
       "      <td>2</td>\n",
       "      <td>NaN</td>\n",
       "      <td>1</td>\n",
       "      <td>2</td>\n",
       "      <td>2.0</td>\n",
       "      <td>2.0</td>\n",
       "      <td>1.0</td>\n",
       "      <td>1.0</td>\n",
       "      <td>1</td>\n",
       "    </tr>\n",
       "    <tr>\n",
       "      <th>...</th>\n",
       "      <td>...</td>\n",
       "      <td>...</td>\n",
       "      <td>...</td>\n",
       "      <td>...</td>\n",
       "      <td>...</td>\n",
       "      <td>...</td>\n",
       "      <td>...</td>\n",
       "      <td>...</td>\n",
       "      <td>...</td>\n",
       "      <td>...</td>\n",
       "      <td>...</td>\n",
       "      <td>...</td>\n",
       "      <td>...</td>\n",
       "      <td>...</td>\n",
       "      <td>...</td>\n",
       "      <td>...</td>\n",
       "      <td>...</td>\n",
       "      <td>...</td>\n",
       "      <td>...</td>\n",
       "      <td>...</td>\n",
       "      <td>...</td>\n",
       "    </tr>\n",
       "    <tr>\n",
       "      <th>104862</th>\n",
       "      <td>ID_9999251978</td>\n",
       "      <td>India</td>\n",
       "      <td>South Asia</td>\n",
       "      <td>9.508153e+08</td>\n",
       "      <td>48.0</td>\n",
       "      <td>2</td>\n",
       "      <td>NaN</td>\n",
       "      <td>NaN</td>\n",
       "      <td>NaN</td>\n",
       "      <td>NaN</td>\n",
       "      <td>...</td>\n",
       "      <td>1</td>\n",
       "      <td>2</td>\n",
       "      <td>NaN</td>\n",
       "      <td>2</td>\n",
       "      <td>2</td>\n",
       "      <td>2.0</td>\n",
       "      <td>2.0</td>\n",
       "      <td>2.0</td>\n",
       "      <td>1.0</td>\n",
       "      <td>0</td>\n",
       "    </tr>\n",
       "    <tr>\n",
       "      <th>104863</th>\n",
       "      <td>ID_9999305731</td>\n",
       "      <td>Hong Kong SAR, China</td>\n",
       "      <td>High income: nonOECD</td>\n",
       "      <td>6.522989e+06</td>\n",
       "      <td>16.0</td>\n",
       "      <td>1</td>\n",
       "      <td>1.0</td>\n",
       "      <td>2.0</td>\n",
       "      <td>2.0</td>\n",
       "      <td>2.0</td>\n",
       "      <td>...</td>\n",
       "      <td>2</td>\n",
       "      <td>1</td>\n",
       "      <td>2.0</td>\n",
       "      <td>1</td>\n",
       "      <td>2</td>\n",
       "      <td>NaN</td>\n",
       "      <td>NaN</td>\n",
       "      <td>1.0</td>\n",
       "      <td>NaN</td>\n",
       "      <td>1</td>\n",
       "    </tr>\n",
       "    <tr>\n",
       "      <th>104864</th>\n",
       "      <td>ID_9999406850</td>\n",
       "      <td>Mauritius</td>\n",
       "      <td>Sub-Saharan Africa (excluding high income)</td>\n",
       "      <td>1.024565e+06</td>\n",
       "      <td>53.0</td>\n",
       "      <td>1</td>\n",
       "      <td>1.0</td>\n",
       "      <td>2.0</td>\n",
       "      <td>2.0</td>\n",
       "      <td>2.0</td>\n",
       "      <td>...</td>\n",
       "      <td>2</td>\n",
       "      <td>2</td>\n",
       "      <td>NaN</td>\n",
       "      <td>2</td>\n",
       "      <td>2</td>\n",
       "      <td>NaN</td>\n",
       "      <td>2.0</td>\n",
       "      <td>2.0</td>\n",
       "      <td>NaN</td>\n",
       "      <td>0</td>\n",
       "    </tr>\n",
       "    <tr>\n",
       "      <th>104865</th>\n",
       "      <td>ID_9999627239</td>\n",
       "      <td>Germany</td>\n",
       "      <td>High income: OECD</td>\n",
       "      <td>7.184693e+07</td>\n",
       "      <td>50.0</td>\n",
       "      <td>2</td>\n",
       "      <td>NaN</td>\n",
       "      <td>NaN</td>\n",
       "      <td>NaN</td>\n",
       "      <td>NaN</td>\n",
       "      <td>...</td>\n",
       "      <td>1</td>\n",
       "      <td>2</td>\n",
       "      <td>NaN</td>\n",
       "      <td>2</td>\n",
       "      <td>2</td>\n",
       "      <td>NaN</td>\n",
       "      <td>1.0</td>\n",
       "      <td>1.0</td>\n",
       "      <td>NaN</td>\n",
       "      <td>1</td>\n",
       "    </tr>\n",
       "    <tr>\n",
       "      <th>104866</th>\n",
       "      <td>ID_9999859033</td>\n",
       "      <td>Vietnam</td>\n",
       "      <td>East Asia &amp; Pacific (excluding high income)</td>\n",
       "      <td>7.130859e+07</td>\n",
       "      <td>60.0</td>\n",
       "      <td>2</td>\n",
       "      <td>NaN</td>\n",
       "      <td>NaN</td>\n",
       "      <td>NaN</td>\n",
       "      <td>NaN</td>\n",
       "      <td>...</td>\n",
       "      <td>1</td>\n",
       "      <td>1</td>\n",
       "      <td>2.0</td>\n",
       "      <td>1</td>\n",
       "      <td>2</td>\n",
       "      <td>2.0</td>\n",
       "      <td>NaN</td>\n",
       "      <td>1.0</td>\n",
       "      <td>1.0</td>\n",
       "      <td>0</td>\n",
       "    </tr>\n",
       "  </tbody>\n",
       "</table>\n",
       "<p>98141 rows × 36 columns</p>\n",
       "</div>"
      ],
      "text/plain": [
       "                   ID               country  \\\n",
       "0       ID_0000020532               Morocco   \n",
       "1       ID_0000075765               Lebanon   \n",
       "2       ID_0000085491               Morocco   \n",
       "3       ID_0000144505                Canada   \n",
       "4       ID_0000214184                Mexico   \n",
       "...               ...                   ...   \n",
       "104862  ID_9999251978                 India   \n",
       "104863  ID_9999305731  Hong Kong SAR, China   \n",
       "104864  ID_9999406850             Mauritius   \n",
       "104865  ID_9999627239               Germany   \n",
       "104866  ID_9999859033               Vietnam   \n",
       "\n",
       "                                                   region    population   age  \\\n",
       "0       Middle East & North Africa (excluding high inc...  2.555017e+07  66.0   \n",
       "1       Middle East & North Africa (excluding high inc...  4.591023e+06  44.0   \n",
       "2       Middle East & North Africa (excluding high inc...  2.555017e+07  29.0   \n",
       "3                                       High income: OECD  3.049117e+07  44.0   \n",
       "4       Latin America & Caribbean (excluding high income)  9.300232e+07  36.0   \n",
       "...                                                   ...           ...   ...   \n",
       "104862                                         South Asia  9.508153e+08  48.0   \n",
       "104863                               High income: nonOECD  6.522989e+06  16.0   \n",
       "104864         Sub-Saharan Africa (excluding high income)  1.024565e+06  53.0   \n",
       "104865                                  High income: OECD  7.184693e+07  50.0   \n",
       "104866        East Asia & Pacific (excluding high income)  7.130859e+07  60.0   \n",
       "\n",
       "        Q1   Q2   Q3   Q4   Q5  ...  Q21  Q22  Q23  Q24  Q25  Q26  Q27  \\\n",
       "0        2  NaN  NaN  NaN  NaN  ...    1    2  NaN    1    2  2.0  2.0   \n",
       "1        2  NaN  NaN  2.0  2.0  ...    1    2  NaN    2    2  2.0  1.0   \n",
       "2        1  1.0  1.0  2.0  2.0  ...    1    1  2.0    2    2  2.0  NaN   \n",
       "3        1  1.0  1.0  1.0  1.0  ...    1    1  2.0    1    2  NaN  NaN   \n",
       "4        2  NaN  NaN  NaN  NaN  ...    1    2  NaN    1    2  2.0  2.0   \n",
       "...     ..  ...  ...  ...  ...  ...  ...  ...  ...  ...  ...  ...  ...   \n",
       "104862   2  NaN  NaN  NaN  NaN  ...    1    2  NaN    2    2  2.0  2.0   \n",
       "104863   1  1.0  2.0  2.0  2.0  ...    2    1  2.0    1    2  NaN  NaN   \n",
       "104864   1  1.0  2.0  2.0  2.0  ...    2    2  NaN    2    2  NaN  2.0   \n",
       "104865   2  NaN  NaN  NaN  NaN  ...    1    2  NaN    2    2  NaN  1.0   \n",
       "104866   2  NaN  NaN  NaN  NaN  ...    1    1  2.0    1    2  2.0  NaN   \n",
       "\n",
       "        owns_mobile  Q28  target  \n",
       "0               1.0  1.0       0  \n",
       "1               1.0  1.0       1  \n",
       "2               1.0  1.0       0  \n",
       "3               1.0  NaN       1  \n",
       "4               1.0  1.0       1  \n",
       "...             ...  ...     ...  \n",
       "104862          2.0  1.0       0  \n",
       "104863          1.0  NaN       1  \n",
       "104864          2.0  NaN       0  \n",
       "104865          1.0  NaN       1  \n",
       "104866          1.0  1.0       0  \n",
       "\n",
       "[98141 rows x 36 columns]"
      ]
     },
     "execution_count": 384,
     "metadata": {},
     "output_type": "execute_result"
    }
   ],
   "source": []
  },
  {
   "cell_type": "code",
   "execution_count": 419,
   "metadata": {
    "execution": {
     "iopub.execute_input": "2023-03-11T09:38:38.319696Z",
     "iopub.status.busy": "2023-03-11T09:38:38.319255Z",
     "iopub.status.idle": "2023-03-11T09:38:38.333383Z",
     "shell.execute_reply": "2023-03-11T09:38:38.332186Z",
     "shell.execute_reply.started": "2023-03-11T09:38:38.319656Z"
    }
   },
   "outputs": [
    {
     "data": {
      "text/plain": [
       "['Q1',\n",
       " 'Q2',\n",
       " 'Q3',\n",
       " 'Q4',\n",
       " 'Q5',\n",
       " 'Q6',\n",
       " 'Q8',\n",
       " 'Q9',\n",
       " 'Q10a',\n",
       " 'Q10b',\n",
       " 'Q11',\n",
       " 'Q12',\n",
       " 'Q13a',\n",
       " 'Q14',\n",
       " 'Q15',\n",
       " 'Q16',\n",
       " 'Q17a',\n",
       " 'Q17b',\n",
       " 'Q19',\n",
       " 'Q20',\n",
       " 'Q21',\n",
       " 'Q22',\n",
       " 'Q23',\n",
       " 'Q24',\n",
       " 'Q25',\n",
       " 'Q26',\n",
       " 'Q27',\n",
       " 'target']"
      ]
     },
     "execution_count": 419,
     "metadata": {},
     "output_type": "execute_result"
    }
   ],
   "source": [
    "q"
   ]
  },
  {
   "cell_type": "code",
   "execution_count": 428,
   "metadata": {
    "execution": {
     "iopub.execute_input": "2023-03-11T09:40:44.449438Z",
     "iopub.status.busy": "2023-03-11T09:40:44.448721Z",
     "iopub.status.idle": "2023-03-11T09:40:44.504737Z",
     "shell.execute_reply": "2023-03-11T09:40:44.503824Z",
     "shell.execute_reply.started": "2023-03-11T09:40:44.449402Z"
    }
   },
   "outputs": [
    {
     "data": {
      "text/html": [
       "<div>\n",
       "<style scoped>\n",
       "    .dataframe tbody tr th:only-of-type {\n",
       "        vertical-align: middle;\n",
       "    }\n",
       "\n",
       "    .dataframe tbody tr th {\n",
       "        vertical-align: top;\n",
       "    }\n",
       "\n",
       "    .dataframe thead th {\n",
       "        text-align: right;\n",
       "    }\n",
       "</style>\n",
       "<table border=\"1\" class=\"dataframe\">\n",
       "  <thead>\n",
       "    <tr style=\"text-align: right;\">\n",
       "      <th></th>\n",
       "      <th>Q1</th>\n",
       "      <th>Q2</th>\n",
       "      <th>Q3</th>\n",
       "      <th>Q4</th>\n",
       "      <th>Q5</th>\n",
       "      <th>Q6</th>\n",
       "      <th>Q8</th>\n",
       "      <th>Q9</th>\n",
       "      <th>Q10a</th>\n",
       "      <th>Q10b</th>\n",
       "      <th>...</th>\n",
       "      <th>Q19</th>\n",
       "      <th>Q20</th>\n",
       "      <th>Q21</th>\n",
       "      <th>Q22</th>\n",
       "      <th>Q23</th>\n",
       "      <th>Q24</th>\n",
       "      <th>Q25</th>\n",
       "      <th>Q26</th>\n",
       "      <th>Q27</th>\n",
       "      <th>target</th>\n",
       "    </tr>\n",
       "  </thead>\n",
       "  <tbody>\n",
       "    <tr>\n",
       "      <th>0</th>\n",
       "      <td>2</td>\n",
       "      <td>NaN</td>\n",
       "      <td>NaN</td>\n",
       "      <td>NaN</td>\n",
       "      <td>NaN</td>\n",
       "      <td>2</td>\n",
       "      <td>NaN</td>\n",
       "      <td>NaN</td>\n",
       "      <td>2</td>\n",
       "      <td>2</td>\n",
       "      <td>...</td>\n",
       "      <td>2.0</td>\n",
       "      <td>1.0</td>\n",
       "      <td>1</td>\n",
       "      <td>2</td>\n",
       "      <td>NaN</td>\n",
       "      <td>1</td>\n",
       "      <td>2</td>\n",
       "      <td>2.0</td>\n",
       "      <td>2.0</td>\n",
       "      <td>0</td>\n",
       "    </tr>\n",
       "    <tr>\n",
       "      <th>1</th>\n",
       "      <td>2</td>\n",
       "      <td>NaN</td>\n",
       "      <td>NaN</td>\n",
       "      <td>2.0</td>\n",
       "      <td>2.0</td>\n",
       "      <td>2</td>\n",
       "      <td>1.0</td>\n",
       "      <td>1.0</td>\n",
       "      <td>2</td>\n",
       "      <td>2</td>\n",
       "      <td>...</td>\n",
       "      <td>2.0</td>\n",
       "      <td>2.0</td>\n",
       "      <td>1</td>\n",
       "      <td>2</td>\n",
       "      <td>NaN</td>\n",
       "      <td>2</td>\n",
       "      <td>2</td>\n",
       "      <td>2.0</td>\n",
       "      <td>1.0</td>\n",
       "      <td>1</td>\n",
       "    </tr>\n",
       "    <tr>\n",
       "      <th>2</th>\n",
       "      <td>1</td>\n",
       "      <td>1.0</td>\n",
       "      <td>1.0</td>\n",
       "      <td>2.0</td>\n",
       "      <td>2.0</td>\n",
       "      <td>2</td>\n",
       "      <td>1.0</td>\n",
       "      <td>1.0</td>\n",
       "      <td>2</td>\n",
       "      <td>2</td>\n",
       "      <td>...</td>\n",
       "      <td>2.0</td>\n",
       "      <td>2.0</td>\n",
       "      <td>1</td>\n",
       "      <td>1</td>\n",
       "      <td>2.0</td>\n",
       "      <td>2</td>\n",
       "      <td>2</td>\n",
       "      <td>2.0</td>\n",
       "      <td>NaN</td>\n",
       "      <td>0</td>\n",
       "    </tr>\n",
       "    <tr>\n",
       "      <th>3</th>\n",
       "      <td>1</td>\n",
       "      <td>1.0</td>\n",
       "      <td>1.0</td>\n",
       "      <td>1.0</td>\n",
       "      <td>1.0</td>\n",
       "      <td>2</td>\n",
       "      <td>1.0</td>\n",
       "      <td>1.0</td>\n",
       "      <td>1</td>\n",
       "      <td>1</td>\n",
       "      <td>...</td>\n",
       "      <td>NaN</td>\n",
       "      <td>NaN</td>\n",
       "      <td>1</td>\n",
       "      <td>1</td>\n",
       "      <td>2.0</td>\n",
       "      <td>1</td>\n",
       "      <td>2</td>\n",
       "      <td>NaN</td>\n",
       "      <td>NaN</td>\n",
       "      <td>1</td>\n",
       "    </tr>\n",
       "    <tr>\n",
       "      <th>4</th>\n",
       "      <td>2</td>\n",
       "      <td>NaN</td>\n",
       "      <td>NaN</td>\n",
       "      <td>NaN</td>\n",
       "      <td>NaN</td>\n",
       "      <td>2</td>\n",
       "      <td>NaN</td>\n",
       "      <td>NaN</td>\n",
       "      <td>1</td>\n",
       "      <td>2</td>\n",
       "      <td>...</td>\n",
       "      <td>2.0</td>\n",
       "      <td>2.0</td>\n",
       "      <td>1</td>\n",
       "      <td>2</td>\n",
       "      <td>NaN</td>\n",
       "      <td>1</td>\n",
       "      <td>2</td>\n",
       "      <td>2.0</td>\n",
       "      <td>2.0</td>\n",
       "      <td>1</td>\n",
       "    </tr>\n",
       "    <tr>\n",
       "      <th>...</th>\n",
       "      <td>...</td>\n",
       "      <td>...</td>\n",
       "      <td>...</td>\n",
       "      <td>...</td>\n",
       "      <td>...</td>\n",
       "      <td>...</td>\n",
       "      <td>...</td>\n",
       "      <td>...</td>\n",
       "      <td>...</td>\n",
       "      <td>...</td>\n",
       "      <td>...</td>\n",
       "      <td>...</td>\n",
       "      <td>...</td>\n",
       "      <td>...</td>\n",
       "      <td>...</td>\n",
       "      <td>...</td>\n",
       "      <td>...</td>\n",
       "      <td>...</td>\n",
       "      <td>...</td>\n",
       "      <td>...</td>\n",
       "      <td>...</td>\n",
       "    </tr>\n",
       "    <tr>\n",
       "      <th>104862</th>\n",
       "      <td>2</td>\n",
       "      <td>NaN</td>\n",
       "      <td>NaN</td>\n",
       "      <td>NaN</td>\n",
       "      <td>NaN</td>\n",
       "      <td>2</td>\n",
       "      <td>NaN</td>\n",
       "      <td>NaN</td>\n",
       "      <td>2</td>\n",
       "      <td>2</td>\n",
       "      <td>...</td>\n",
       "      <td>2.0</td>\n",
       "      <td>2.0</td>\n",
       "      <td>1</td>\n",
       "      <td>2</td>\n",
       "      <td>NaN</td>\n",
       "      <td>2</td>\n",
       "      <td>2</td>\n",
       "      <td>2.0</td>\n",
       "      <td>2.0</td>\n",
       "      <td>0</td>\n",
       "    </tr>\n",
       "    <tr>\n",
       "      <th>104863</th>\n",
       "      <td>1</td>\n",
       "      <td>1.0</td>\n",
       "      <td>2.0</td>\n",
       "      <td>2.0</td>\n",
       "      <td>2.0</td>\n",
       "      <td>2</td>\n",
       "      <td>1.0</td>\n",
       "      <td>1.0</td>\n",
       "      <td>1</td>\n",
       "      <td>1</td>\n",
       "      <td>...</td>\n",
       "      <td>NaN</td>\n",
       "      <td>NaN</td>\n",
       "      <td>2</td>\n",
       "      <td>1</td>\n",
       "      <td>2.0</td>\n",
       "      <td>1</td>\n",
       "      <td>2</td>\n",
       "      <td>NaN</td>\n",
       "      <td>NaN</td>\n",
       "      <td>1</td>\n",
       "    </tr>\n",
       "    <tr>\n",
       "      <th>104864</th>\n",
       "      <td>1</td>\n",
       "      <td>1.0</td>\n",
       "      <td>2.0</td>\n",
       "      <td>2.0</td>\n",
       "      <td>2.0</td>\n",
       "      <td>2</td>\n",
       "      <td>2.0</td>\n",
       "      <td>1.0</td>\n",
       "      <td>2</td>\n",
       "      <td>2</td>\n",
       "      <td>...</td>\n",
       "      <td>NaN</td>\n",
       "      <td>NaN</td>\n",
       "      <td>2</td>\n",
       "      <td>2</td>\n",
       "      <td>NaN</td>\n",
       "      <td>2</td>\n",
       "      <td>2</td>\n",
       "      <td>NaN</td>\n",
       "      <td>2.0</td>\n",
       "      <td>0</td>\n",
       "    </tr>\n",
       "    <tr>\n",
       "      <th>104865</th>\n",
       "      <td>2</td>\n",
       "      <td>NaN</td>\n",
       "      <td>NaN</td>\n",
       "      <td>NaN</td>\n",
       "      <td>NaN</td>\n",
       "      <td>2</td>\n",
       "      <td>NaN</td>\n",
       "      <td>NaN</td>\n",
       "      <td>2</td>\n",
       "      <td>2</td>\n",
       "      <td>...</td>\n",
       "      <td>NaN</td>\n",
       "      <td>NaN</td>\n",
       "      <td>1</td>\n",
       "      <td>2</td>\n",
       "      <td>NaN</td>\n",
       "      <td>2</td>\n",
       "      <td>2</td>\n",
       "      <td>NaN</td>\n",
       "      <td>1.0</td>\n",
       "      <td>1</td>\n",
       "    </tr>\n",
       "    <tr>\n",
       "      <th>104866</th>\n",
       "      <td>2</td>\n",
       "      <td>NaN</td>\n",
       "      <td>NaN</td>\n",
       "      <td>NaN</td>\n",
       "      <td>NaN</td>\n",
       "      <td>2</td>\n",
       "      <td>NaN</td>\n",
       "      <td>NaN</td>\n",
       "      <td>2</td>\n",
       "      <td>2</td>\n",
       "      <td>...</td>\n",
       "      <td>2.0</td>\n",
       "      <td>2.0</td>\n",
       "      <td>1</td>\n",
       "      <td>1</td>\n",
       "      <td>2.0</td>\n",
       "      <td>1</td>\n",
       "      <td>2</td>\n",
       "      <td>2.0</td>\n",
       "      <td>NaN</td>\n",
       "      <td>0</td>\n",
       "    </tr>\n",
       "  </tbody>\n",
       "</table>\n",
       "<p>104867 rows × 28 columns</p>\n",
       "</div>"
      ],
      "text/plain": [
       "        Q1   Q2   Q3   Q4   Q5  Q6   Q8   Q9  Q10a  Q10b  ...  Q19  Q20  Q21  \\\n",
       "0        2  NaN  NaN  NaN  NaN   2  NaN  NaN     2     2  ...  2.0  1.0    1   \n",
       "1        2  NaN  NaN  2.0  2.0   2  1.0  1.0     2     2  ...  2.0  2.0    1   \n",
       "2        1  1.0  1.0  2.0  2.0   2  1.0  1.0     2     2  ...  2.0  2.0    1   \n",
       "3        1  1.0  1.0  1.0  1.0   2  1.0  1.0     1     1  ...  NaN  NaN    1   \n",
       "4        2  NaN  NaN  NaN  NaN   2  NaN  NaN     1     2  ...  2.0  2.0    1   \n",
       "...     ..  ...  ...  ...  ...  ..  ...  ...   ...   ...  ...  ...  ...  ...   \n",
       "104862   2  NaN  NaN  NaN  NaN   2  NaN  NaN     2     2  ...  2.0  2.0    1   \n",
       "104863   1  1.0  2.0  2.0  2.0   2  1.0  1.0     1     1  ...  NaN  NaN    2   \n",
       "104864   1  1.0  2.0  2.0  2.0   2  2.0  1.0     2     2  ...  NaN  NaN    2   \n",
       "104865   2  NaN  NaN  NaN  NaN   2  NaN  NaN     2     2  ...  NaN  NaN    1   \n",
       "104866   2  NaN  NaN  NaN  NaN   2  NaN  NaN     2     2  ...  2.0  2.0    1   \n",
       "\n",
       "        Q22  Q23  Q24  Q25  Q26  Q27  target  \n",
       "0         2  NaN    1    2  2.0  2.0       0  \n",
       "1         2  NaN    2    2  2.0  1.0       1  \n",
       "2         1  2.0    2    2  2.0  NaN       0  \n",
       "3         1  2.0    1    2  NaN  NaN       1  \n",
       "4         2  NaN    1    2  2.0  2.0       1  \n",
       "...     ...  ...  ...  ...  ...  ...     ...  \n",
       "104862    2  NaN    2    2  2.0  2.0       0  \n",
       "104863    1  2.0    1    2  NaN  NaN       1  \n",
       "104864    2  NaN    2    2  NaN  2.0       0  \n",
       "104865    2  NaN    2    2  NaN  1.0       1  \n",
       "104866    1  2.0    1    2  2.0  NaN       0  \n",
       "\n",
       "[104867 rows x 28 columns]"
      ]
     },
     "execution_count": 428,
     "metadata": {},
     "output_type": "execute_result"
    }
   ],
   "source": [
    "dr = df[q]\n",
    "dr"
   ]
  },
  {
   "cell_type": "code",
   "execution_count": 429,
   "metadata": {
    "execution": {
     "iopub.execute_input": "2023-03-11T09:40:52.185164Z",
     "iopub.status.busy": "2023-03-11T09:40:52.183800Z",
     "iopub.status.idle": "2023-03-11T09:40:52.215226Z",
     "shell.execute_reply": "2023-03-11T09:40:52.213922Z",
     "shell.execute_reply.started": "2023-03-11T09:40:52.185117Z"
    }
   },
   "outputs": [],
   "source": [
    "dt = pd.concat([full_data.reset_index(drop=True), dr.reset_index(drop=True)], axis=1)"
   ]
  },
  {
   "cell_type": "code",
   "execution_count": 426,
   "metadata": {
    "execution": {
     "iopub.execute_input": "2023-03-11T09:39:48.012359Z",
     "iopub.status.busy": "2023-03-11T09:39:48.011721Z",
     "iopub.status.idle": "2023-03-11T09:39:48.065541Z",
     "shell.execute_reply": "2023-03-11T09:39:48.064375Z",
     "shell.execute_reply.started": "2023-03-11T09:39:48.012310Z"
    }
   },
   "outputs": [
    {
     "data": {
      "text/html": [
       "<div>\n",
       "<style scoped>\n",
       "    .dataframe tbody tr th:only-of-type {\n",
       "        vertical-align: middle;\n",
       "    }\n",
       "\n",
       "    .dataframe tbody tr th {\n",
       "        vertical-align: top;\n",
       "    }\n",
       "\n",
       "    .dataframe thead th {\n",
       "        text-align: right;\n",
       "    }\n",
       "</style>\n",
       "<table border=\"1\" class=\"dataframe\">\n",
       "  <thead>\n",
       "    <tr style=\"text-align: right;\">\n",
       "      <th></th>\n",
       "      <th>country</th>\n",
       "      <th>country</th>\n",
       "      <th>population</th>\n",
       "      <th>population</th>\n",
       "      <th>age</th>\n",
       "      <th>age</th>\n",
       "      <th>debit_card</th>\n",
       "      <th>got_savings</th>\n",
       "      <th>borrowed</th>\n",
       "      <th>given</th>\n",
       "      <th>...</th>\n",
       "      <th>Q19</th>\n",
       "      <th>Q20</th>\n",
       "      <th>Q21</th>\n",
       "      <th>Q22</th>\n",
       "      <th>Q23</th>\n",
       "      <th>Q24</th>\n",
       "      <th>Q25</th>\n",
       "      <th>Q26</th>\n",
       "      <th>Q27</th>\n",
       "      <th>target</th>\n",
       "    </tr>\n",
       "  </thead>\n",
       "  <tbody>\n",
       "    <tr>\n",
       "      <th>0</th>\n",
       "      <td>0.478657</td>\n",
       "      <td>Morocco</td>\n",
       "      <td>2.836511</td>\n",
       "      <td>25550170.0</td>\n",
       "      <td>66.0</td>\n",
       "      <td>66.0</td>\n",
       "      <td>0.989621</td>\n",
       "      <td>2.079791</td>\n",
       "      <td>2.696864</td>\n",
       "      <td>0.485135</td>\n",
       "      <td>...</td>\n",
       "      <td>2.0</td>\n",
       "      <td>1.0</td>\n",
       "      <td>1</td>\n",
       "      <td>2</td>\n",
       "      <td>NaN</td>\n",
       "      <td>1</td>\n",
       "      <td>2</td>\n",
       "      <td>2.0</td>\n",
       "      <td>2.0</td>\n",
       "      <td>0</td>\n",
       "    </tr>\n",
       "    <tr>\n",
       "      <th>1</th>\n",
       "      <td>0.829662</td>\n",
       "      <td>Lebanon</td>\n",
       "      <td>2.730439</td>\n",
       "      <td>4591023.0</td>\n",
       "      <td>44.0</td>\n",
       "      <td>44.0</td>\n",
       "      <td>0.989621</td>\n",
       "      <td>2.408512</td>\n",
       "      <td>3.029042</td>\n",
       "      <td>0.485135</td>\n",
       "      <td>...</td>\n",
       "      <td>2.0</td>\n",
       "      <td>2.0</td>\n",
       "      <td>1</td>\n",
       "      <td>2</td>\n",
       "      <td>NaN</td>\n",
       "      <td>2</td>\n",
       "      <td>2</td>\n",
       "      <td>2.0</td>\n",
       "      <td>1.0</td>\n",
       "      <td>1</td>\n",
       "    </tr>\n",
       "    <tr>\n",
       "      <th>2</th>\n",
       "      <td>0.478657</td>\n",
       "      <td>Morocco</td>\n",
       "      <td>2.836511</td>\n",
       "      <td>25550170.0</td>\n",
       "      <td>29.0</td>\n",
       "      <td>29.0</td>\n",
       "      <td>1.250797</td>\n",
       "      <td>2.286197</td>\n",
       "      <td>2.890727</td>\n",
       "      <td>0.485135</td>\n",
       "      <td>...</td>\n",
       "      <td>2.0</td>\n",
       "      <td>2.0</td>\n",
       "      <td>1</td>\n",
       "      <td>1</td>\n",
       "      <td>2.0</td>\n",
       "      <td>2</td>\n",
       "      <td>2</td>\n",
       "      <td>2.0</td>\n",
       "      <td>NaN</td>\n",
       "      <td>0</td>\n",
       "    </tr>\n",
       "    <tr>\n",
       "      <th>3</th>\n",
       "      <td>0.871612</td>\n",
       "      <td>Canada</td>\n",
       "      <td>2.846823</td>\n",
       "      <td>30491168.0</td>\n",
       "      <td>44.0</td>\n",
       "      <td>44.0</td>\n",
       "      <td>1.250797</td>\n",
       "      <td>2.906658</td>\n",
       "      <td>3.029042</td>\n",
       "      <td>0.747652</td>\n",
       "      <td>...</td>\n",
       "      <td>NaN</td>\n",
       "      <td>NaN</td>\n",
       "      <td>1</td>\n",
       "      <td>1</td>\n",
       "      <td>2.0</td>\n",
       "      <td>1</td>\n",
       "      <td>2</td>\n",
       "      <td>NaN</td>\n",
       "      <td>NaN</td>\n",
       "      <td>1</td>\n",
       "    </tr>\n",
       "    <tr>\n",
       "      <th>4</th>\n",
       "      <td>0.216374</td>\n",
       "      <td>Mexico</td>\n",
       "      <td>2.909528</td>\n",
       "      <td>93002320.0</td>\n",
       "      <td>36.0</td>\n",
       "      <td>36.0</td>\n",
       "      <td>0.989621</td>\n",
       "      <td>2.079791</td>\n",
       "      <td>2.890727</td>\n",
       "      <td>0.485135</td>\n",
       "      <td>...</td>\n",
       "      <td>2.0</td>\n",
       "      <td>2.0</td>\n",
       "      <td>1</td>\n",
       "      <td>2</td>\n",
       "      <td>NaN</td>\n",
       "      <td>1</td>\n",
       "      <td>2</td>\n",
       "      <td>2.0</td>\n",
       "      <td>2.0</td>\n",
       "      <td>1</td>\n",
       "    </tr>\n",
       "    <tr>\n",
       "      <th>...</th>\n",
       "      <td>...</td>\n",
       "      <td>...</td>\n",
       "      <td>...</td>\n",
       "      <td>...</td>\n",
       "      <td>...</td>\n",
       "      <td>...</td>\n",
       "      <td>...</td>\n",
       "      <td>...</td>\n",
       "      <td>...</td>\n",
       "      <td>...</td>\n",
       "      <td>...</td>\n",
       "      <td>...</td>\n",
       "      <td>...</td>\n",
       "      <td>...</td>\n",
       "      <td>...</td>\n",
       "      <td>...</td>\n",
       "      <td>...</td>\n",
       "      <td>...</td>\n",
       "      <td>...</td>\n",
       "      <td>...</td>\n",
       "      <td>...</td>\n",
       "    </tr>\n",
       "    <tr>\n",
       "      <th>104862</th>\n",
       "      <td>NaN</td>\n",
       "      <td>NaN</td>\n",
       "      <td>NaN</td>\n",
       "      <td>NaN</td>\n",
       "      <td>NaN</td>\n",
       "      <td>NaN</td>\n",
       "      <td>NaN</td>\n",
       "      <td>NaN</td>\n",
       "      <td>NaN</td>\n",
       "      <td>NaN</td>\n",
       "      <td>...</td>\n",
       "      <td>2.0</td>\n",
       "      <td>2.0</td>\n",
       "      <td>1</td>\n",
       "      <td>2</td>\n",
       "      <td>NaN</td>\n",
       "      <td>2</td>\n",
       "      <td>2</td>\n",
       "      <td>2.0</td>\n",
       "      <td>2.0</td>\n",
       "      <td>0</td>\n",
       "    </tr>\n",
       "    <tr>\n",
       "      <th>104863</th>\n",
       "      <td>NaN</td>\n",
       "      <td>NaN</td>\n",
       "      <td>NaN</td>\n",
       "      <td>NaN</td>\n",
       "      <td>NaN</td>\n",
       "      <td>NaN</td>\n",
       "      <td>NaN</td>\n",
       "      <td>NaN</td>\n",
       "      <td>NaN</td>\n",
       "      <td>NaN</td>\n",
       "      <td>...</td>\n",
       "      <td>NaN</td>\n",
       "      <td>NaN</td>\n",
       "      <td>2</td>\n",
       "      <td>1</td>\n",
       "      <td>2.0</td>\n",
       "      <td>1</td>\n",
       "      <td>2</td>\n",
       "      <td>NaN</td>\n",
       "      <td>NaN</td>\n",
       "      <td>1</td>\n",
       "    </tr>\n",
       "    <tr>\n",
       "      <th>104864</th>\n",
       "      <td>NaN</td>\n",
       "      <td>NaN</td>\n",
       "      <td>NaN</td>\n",
       "      <td>NaN</td>\n",
       "      <td>NaN</td>\n",
       "      <td>NaN</td>\n",
       "      <td>NaN</td>\n",
       "      <td>NaN</td>\n",
       "      <td>NaN</td>\n",
       "      <td>NaN</td>\n",
       "      <td>...</td>\n",
       "      <td>NaN</td>\n",
       "      <td>NaN</td>\n",
       "      <td>2</td>\n",
       "      <td>2</td>\n",
       "      <td>NaN</td>\n",
       "      <td>2</td>\n",
       "      <td>2</td>\n",
       "      <td>NaN</td>\n",
       "      <td>2.0</td>\n",
       "      <td>0</td>\n",
       "    </tr>\n",
       "    <tr>\n",
       "      <th>104865</th>\n",
       "      <td>NaN</td>\n",
       "      <td>NaN</td>\n",
       "      <td>NaN</td>\n",
       "      <td>NaN</td>\n",
       "      <td>NaN</td>\n",
       "      <td>NaN</td>\n",
       "      <td>NaN</td>\n",
       "      <td>NaN</td>\n",
       "      <td>NaN</td>\n",
       "      <td>NaN</td>\n",
       "      <td>...</td>\n",
       "      <td>NaN</td>\n",
       "      <td>NaN</td>\n",
       "      <td>1</td>\n",
       "      <td>2</td>\n",
       "      <td>NaN</td>\n",
       "      <td>2</td>\n",
       "      <td>2</td>\n",
       "      <td>NaN</td>\n",
       "      <td>1.0</td>\n",
       "      <td>1</td>\n",
       "    </tr>\n",
       "    <tr>\n",
       "      <th>104866</th>\n",
       "      <td>NaN</td>\n",
       "      <td>NaN</td>\n",
       "      <td>NaN</td>\n",
       "      <td>NaN</td>\n",
       "      <td>NaN</td>\n",
       "      <td>NaN</td>\n",
       "      <td>NaN</td>\n",
       "      <td>NaN</td>\n",
       "      <td>NaN</td>\n",
       "      <td>NaN</td>\n",
       "      <td>...</td>\n",
       "      <td>2.0</td>\n",
       "      <td>2.0</td>\n",
       "      <td>1</td>\n",
       "      <td>1</td>\n",
       "      <td>2.0</td>\n",
       "      <td>1</td>\n",
       "      <td>2</td>\n",
       "      <td>2.0</td>\n",
       "      <td>NaN</td>\n",
       "      <td>0</td>\n",
       "    </tr>\n",
       "  </tbody>\n",
       "</table>\n",
       "<p>104867 rows × 66 columns</p>\n",
       "</div>"
      ],
      "text/plain": [
       "         country  country  population  population   age   age  debit_card  \\\n",
       "0       0.478657  Morocco    2.836511  25550170.0  66.0  66.0    0.989621   \n",
       "1       0.829662  Lebanon    2.730439   4591023.0  44.0  44.0    0.989621   \n",
       "2       0.478657  Morocco    2.836511  25550170.0  29.0  29.0    1.250797   \n",
       "3       0.871612   Canada    2.846823  30491168.0  44.0  44.0    1.250797   \n",
       "4       0.216374   Mexico    2.909528  93002320.0  36.0  36.0    0.989621   \n",
       "...          ...      ...         ...         ...   ...   ...         ...   \n",
       "104862       NaN      NaN         NaN         NaN   NaN   NaN         NaN   \n",
       "104863       NaN      NaN         NaN         NaN   NaN   NaN         NaN   \n",
       "104864       NaN      NaN         NaN         NaN   NaN   NaN         NaN   \n",
       "104865       NaN      NaN         NaN         NaN   NaN   NaN         NaN   \n",
       "104866       NaN      NaN         NaN         NaN   NaN   NaN         NaN   \n",
       "\n",
       "        got_savings  borrowed     given  ...  Q19  Q20  Q21  Q22  Q23  Q24  \\\n",
       "0          2.079791  2.696864  0.485135  ...  2.0  1.0    1    2  NaN    1   \n",
       "1          2.408512  3.029042  0.485135  ...  2.0  2.0    1    2  NaN    2   \n",
       "2          2.286197  2.890727  0.485135  ...  2.0  2.0    1    1  2.0    2   \n",
       "3          2.906658  3.029042  0.747652  ...  NaN  NaN    1    1  2.0    1   \n",
       "4          2.079791  2.890727  0.485135  ...  2.0  2.0    1    2  NaN    1   \n",
       "...             ...       ...       ...  ...  ...  ...  ...  ...  ...  ...   \n",
       "104862          NaN       NaN       NaN  ...  2.0  2.0    1    2  NaN    2   \n",
       "104863          NaN       NaN       NaN  ...  NaN  NaN    2    1  2.0    1   \n",
       "104864          NaN       NaN       NaN  ...  NaN  NaN    2    2  NaN    2   \n",
       "104865          NaN       NaN       NaN  ...  NaN  NaN    1    2  NaN    2   \n",
       "104866          NaN       NaN       NaN  ...  2.0  2.0    1    1  2.0    1   \n",
       "\n",
       "        Q25  Q26  Q27  target  \n",
       "0         2  2.0  2.0       0  \n",
       "1         2  2.0  1.0       1  \n",
       "2         2  2.0  NaN       0  \n",
       "3         2  NaN  NaN       1  \n",
       "4         2  2.0  2.0       1  \n",
       "...     ...  ...  ...     ...  \n",
       "104862    2  2.0  2.0       0  \n",
       "104863    2  NaN  NaN       1  \n",
       "104864    2  NaN  2.0       0  \n",
       "104865    2  NaN  1.0       1  \n",
       "104866    2  2.0  NaN       0  \n",
       "\n",
       "[104867 rows x 66 columns]"
      ]
     },
     "execution_count": 426,
     "metadata": {},
     "output_type": "execute_result"
    }
   ],
   "source": [
    "dt"
   ]
  },
  {
   "cell_type": "code",
   "execution_count": 430,
   "metadata": {
    "execution": {
     "iopub.execute_input": "2023-03-11T09:40:54.809160Z",
     "iopub.status.busy": "2023-03-11T09:40:54.808633Z",
     "iopub.status.idle": "2023-03-11T09:40:55.242413Z",
     "shell.execute_reply": "2023-03-11T09:40:55.241115Z",
     "shell.execute_reply.started": "2023-03-11T09:40:54.809121Z"
    }
   },
   "outputs": [],
   "source": [
    "full_data = dt.loc[dt.Q1.isin([2,1])].loc[dt.Q6.isin([2,1])].\\\n",
    "loc[dt.Q10a.isin([2,1])].loc[dt.Q10b.isin([2,1])].\\\n",
    "loc[dt.Q11.isin([2,1])].loc[dt.Q12.isin([2,1])].\\\n",
    "loc[dt.Q13a.isin([2,1])].loc[dt.Q14.isin([2,1])].\\\n",
    "loc[dt.Q15.isin([2,1])].loc[dt.Q16.isin([2,1])].\\\n",
    "loc[dt.Q17a.isin([2,1])].loc[dt.Q17b.isin([2,1])].\\\n",
    "loc[dt.Q21.isin([2,1])].loc[dt.Q22.isin([2,1])].\\\n",
    "loc[dt.Q24.isin([2,1])].loc[dt.Q25.isin([2,1])]"
   ]
  },
  {
   "cell_type": "code",
   "execution_count": 431,
   "metadata": {
    "execution": {
     "iopub.execute_input": "2023-03-11T09:40:58.778904Z",
     "iopub.status.busy": "2023-03-11T09:40:58.778287Z",
     "iopub.status.idle": "2023-03-11T09:40:58.787353Z",
     "shell.execute_reply": "2023-03-11T09:40:58.786257Z",
     "shell.execute_reply.started": "2023-03-11T09:40:58.778865Z"
    }
   },
   "outputs": [],
   "source": [
    "full_data = full_data[['country', 'population', 'age', 'debit_card', 'got_savings', 'borrowed',\n",
    "       'given', 'benefit','target']]"
   ]
  },
  {
   "cell_type": "code",
   "execution_count": 432,
   "metadata": {
    "execution": {
     "iopub.execute_input": "2023-03-11T09:41:01.450494Z",
     "iopub.status.busy": "2023-03-11T09:41:01.449691Z",
     "iopub.status.idle": "2023-03-11T09:41:01.467861Z",
     "shell.execute_reply": "2023-03-11T09:41:01.466840Z",
     "shell.execute_reply.started": "2023-03-11T09:41:01.450433Z"
    }
   },
   "outputs": [
    {
     "data": {
      "text/plain": [
       "0         0\n",
       "1         1\n",
       "2         0\n",
       "3         1\n",
       "4         1\n",
       "         ..\n",
       "104862    0\n",
       "104863    1\n",
       "104864    0\n",
       "104865    1\n",
       "104866    0\n",
       "Name: target, Length: 98141, dtype: int64"
      ]
     },
     "execution_count": 432,
     "metadata": {},
     "output_type": "execute_result"
    }
   ],
   "source": [
    "target = full_data.target\n",
    "full_data.pop('target')"
   ]
  },
  {
   "cell_type": "code",
   "execution_count": 433,
   "metadata": {
    "execution": {
     "iopub.execute_input": "2023-03-11T09:41:06.059191Z",
     "iopub.status.busy": "2023-03-11T09:41:06.058761Z",
     "iopub.status.idle": "2023-03-11T09:41:06.089428Z",
     "shell.execute_reply": "2023-03-11T09:41:06.088452Z",
     "shell.execute_reply.started": "2023-03-11T09:41:06.059157Z"
    }
   },
   "outputs": [
    {
     "data": {
      "text/html": [
       "<div>\n",
       "<style scoped>\n",
       "    .dataframe tbody tr th:only-of-type {\n",
       "        vertical-align: middle;\n",
       "    }\n",
       "\n",
       "    .dataframe tbody tr th {\n",
       "        vertical-align: top;\n",
       "    }\n",
       "\n",
       "    .dataframe thead th {\n",
       "        text-align: right;\n",
       "    }\n",
       "</style>\n",
       "<table border=\"1\" class=\"dataframe\">\n",
       "  <thead>\n",
       "    <tr style=\"text-align: right;\">\n",
       "      <th></th>\n",
       "      <th>country</th>\n",
       "      <th>population</th>\n",
       "      <th>age</th>\n",
       "      <th>debit_card</th>\n",
       "      <th>got_savings</th>\n",
       "      <th>borrowed</th>\n",
       "      <th>given</th>\n",
       "      <th>benefit</th>\n",
       "    </tr>\n",
       "  </thead>\n",
       "  <tbody>\n",
       "    <tr>\n",
       "      <th>0</th>\n",
       "      <td>0.478657</td>\n",
       "      <td>2.836511</td>\n",
       "      <td>66.0</td>\n",
       "      <td>0.989621</td>\n",
       "      <td>2.079791</td>\n",
       "      <td>2.696864</td>\n",
       "      <td>0.485135</td>\n",
       "      <td>1.700711</td>\n",
       "    </tr>\n",
       "    <tr>\n",
       "      <th>1</th>\n",
       "      <td>0.829662</td>\n",
       "      <td>2.730439</td>\n",
       "      <td>44.0</td>\n",
       "      <td>0.989621</td>\n",
       "      <td>2.408512</td>\n",
       "      <td>3.029042</td>\n",
       "      <td>0.485135</td>\n",
       "      <td>1.675943</td>\n",
       "    </tr>\n",
       "    <tr>\n",
       "      <th>2</th>\n",
       "      <td>0.478657</td>\n",
       "      <td>2.836511</td>\n",
       "      <td>29.0</td>\n",
       "      <td>1.250797</td>\n",
       "      <td>2.286197</td>\n",
       "      <td>2.890727</td>\n",
       "      <td>0.485135</td>\n",
       "      <td>1.675943</td>\n",
       "    </tr>\n",
       "    <tr>\n",
       "      <th>3</th>\n",
       "      <td>0.871612</td>\n",
       "      <td>2.846823</td>\n",
       "      <td>44.0</td>\n",
       "      <td>1.250797</td>\n",
       "      <td>2.906658</td>\n",
       "      <td>3.029042</td>\n",
       "      <td>0.747652</td>\n",
       "      <td>1.925770</td>\n",
       "    </tr>\n",
       "    <tr>\n",
       "      <th>4</th>\n",
       "      <td>0.216374</td>\n",
       "      <td>2.909528</td>\n",
       "      <td>36.0</td>\n",
       "      <td>0.989621</td>\n",
       "      <td>2.079791</td>\n",
       "      <td>2.890727</td>\n",
       "      <td>0.485135</td>\n",
       "      <td>1.700711</td>\n",
       "    </tr>\n",
       "    <tr>\n",
       "      <th>...</th>\n",
       "      <td>...</td>\n",
       "      <td>...</td>\n",
       "      <td>...</td>\n",
       "      <td>...</td>\n",
       "      <td>...</td>\n",
       "      <td>...</td>\n",
       "      <td>...</td>\n",
       "      <td>...</td>\n",
       "    </tr>\n",
       "    <tr>\n",
       "      <th>104862</th>\n",
       "      <td>0.452849</td>\n",
       "      <td>3.028820</td>\n",
       "      <td>48.0</td>\n",
       "      <td>0.989621</td>\n",
       "      <td>2.079791</td>\n",
       "      <td>2.890727</td>\n",
       "      <td>0.485135</td>\n",
       "      <td>1.675943</td>\n",
       "    </tr>\n",
       "    <tr>\n",
       "      <th>104863</th>\n",
       "      <td>0.753890</td>\n",
       "      <td>2.753077</td>\n",
       "      <td>16.0</td>\n",
       "      <td>1.250797</td>\n",
       "      <td>2.614918</td>\n",
       "      <td>2.890727</td>\n",
       "      <td>0.747652</td>\n",
       "      <td>1.925770</td>\n",
       "    </tr>\n",
       "    <tr>\n",
       "      <th>104864</th>\n",
       "      <td>0.455587</td>\n",
       "      <td>2.627547</td>\n",
       "      <td>53.0</td>\n",
       "      <td>1.250797</td>\n",
       "      <td>2.079791</td>\n",
       "      <td>2.890727</td>\n",
       "      <td>0.747652</td>\n",
       "      <td>1.901002</td>\n",
       "    </tr>\n",
       "    <tr>\n",
       "      <th>104865</th>\n",
       "      <td>0.889855</td>\n",
       "      <td>2.895362</td>\n",
       "      <td>50.0</td>\n",
       "      <td>0.989621</td>\n",
       "      <td>2.573029</td>\n",
       "      <td>2.890727</td>\n",
       "      <td>0.747652</td>\n",
       "      <td>1.901002</td>\n",
       "    </tr>\n",
       "    <tr>\n",
       "      <th>104866</th>\n",
       "      <td>0.750385</td>\n",
       "      <td>2.894946</td>\n",
       "      <td>60.0</td>\n",
       "      <td>0.989621</td>\n",
       "      <td>2.286197</td>\n",
       "      <td>2.890727</td>\n",
       "      <td>0.485135</td>\n",
       "      <td>1.700711</td>\n",
       "    </tr>\n",
       "  </tbody>\n",
       "</table>\n",
       "<p>98141 rows × 8 columns</p>\n",
       "</div>"
      ],
      "text/plain": [
       "         country  population   age  debit_card  got_savings  borrowed  \\\n",
       "0       0.478657    2.836511  66.0    0.989621     2.079791  2.696864   \n",
       "1       0.829662    2.730439  44.0    0.989621     2.408512  3.029042   \n",
       "2       0.478657    2.836511  29.0    1.250797     2.286197  2.890727   \n",
       "3       0.871612    2.846823  44.0    1.250797     2.906658  3.029042   \n",
       "4       0.216374    2.909528  36.0    0.989621     2.079791  2.890727   \n",
       "...          ...         ...   ...         ...          ...       ...   \n",
       "104862  0.452849    3.028820  48.0    0.989621     2.079791  2.890727   \n",
       "104863  0.753890    2.753077  16.0    1.250797     2.614918  2.890727   \n",
       "104864  0.455587    2.627547  53.0    1.250797     2.079791  2.890727   \n",
       "104865  0.889855    2.895362  50.0    0.989621     2.573029  2.890727   \n",
       "104866  0.750385    2.894946  60.0    0.989621     2.286197  2.890727   \n",
       "\n",
       "           given   benefit  \n",
       "0       0.485135  1.700711  \n",
       "1       0.485135  1.675943  \n",
       "2       0.485135  1.675943  \n",
       "3       0.747652  1.925770  \n",
       "4       0.485135  1.700711  \n",
       "...          ...       ...  \n",
       "104862  0.485135  1.675943  \n",
       "104863  0.747652  1.925770  \n",
       "104864  0.747652  1.901002  \n",
       "104865  0.747652  1.901002  \n",
       "104866  0.485135  1.700711  \n",
       "\n",
       "[98141 rows x 8 columns]"
      ]
     },
     "execution_count": 433,
     "metadata": {},
     "output_type": "execute_result"
    }
   ],
   "source": [
    "full_data"
   ]
  },
  {
   "cell_type": "code",
   "execution_count": 451,
   "metadata": {
    "execution": {
     "iopub.execute_input": "2023-03-11T09:46:57.556912Z",
     "iopub.status.busy": "2023-03-11T09:46:57.556504Z",
     "iopub.status.idle": "2023-03-11T09:46:57.574165Z",
     "shell.execute_reply": "2023-03-11T09:46:57.573106Z",
     "shell.execute_reply.started": "2023-03-11T09:46:57.556877Z"
    }
   },
   "outputs": [
    {
     "data": {
      "text/html": [
       "<div>\n",
       "<style scoped>\n",
       "    .dataframe tbody tr th:only-of-type {\n",
       "        vertical-align: middle;\n",
       "    }\n",
       "\n",
       "    .dataframe tbody tr th {\n",
       "        vertical-align: top;\n",
       "    }\n",
       "\n",
       "    .dataframe thead th {\n",
       "        text-align: right;\n",
       "    }\n",
       "</style>\n",
       "<table border=\"1\" class=\"dataframe\">\n",
       "  <thead>\n",
       "    <tr style=\"text-align: right;\">\n",
       "      <th></th>\n",
       "      <th>country</th>\n",
       "      <th>population</th>\n",
       "      <th>age</th>\n",
       "      <th>debit_card</th>\n",
       "      <th>got_savings</th>\n",
       "      <th>borrowed</th>\n",
       "      <th>given</th>\n",
       "      <th>benefit</th>\n",
       "    </tr>\n",
       "  </thead>\n",
       "  <tbody>\n",
       "    <tr>\n",
       "      <th>0</th>\n",
       "      <td>0.478657</td>\n",
       "      <td>2.836511</td>\n",
       "      <td>66.0</td>\n",
       "      <td>0.989621</td>\n",
       "      <td>2.079791</td>\n",
       "      <td>2.696864</td>\n",
       "      <td>0.485135</td>\n",
       "      <td>1.700711</td>\n",
       "    </tr>\n",
       "    <tr>\n",
       "      <th>1</th>\n",
       "      <td>0.829662</td>\n",
       "      <td>2.730439</td>\n",
       "      <td>44.0</td>\n",
       "      <td>0.989621</td>\n",
       "      <td>2.408512</td>\n",
       "      <td>3.029042</td>\n",
       "      <td>0.485135</td>\n",
       "      <td>1.675943</td>\n",
       "    </tr>\n",
       "    <tr>\n",
       "      <th>2</th>\n",
       "      <td>0.478657</td>\n",
       "      <td>2.836511</td>\n",
       "      <td>29.0</td>\n",
       "      <td>1.250797</td>\n",
       "      <td>2.286197</td>\n",
       "      <td>2.890727</td>\n",
       "      <td>0.485135</td>\n",
       "      <td>1.675943</td>\n",
       "    </tr>\n",
       "    <tr>\n",
       "      <th>3</th>\n",
       "      <td>0.871612</td>\n",
       "      <td>2.846823</td>\n",
       "      <td>44.0</td>\n",
       "      <td>1.250797</td>\n",
       "      <td>2.906658</td>\n",
       "      <td>3.029042</td>\n",
       "      <td>0.747652</td>\n",
       "      <td>1.925770</td>\n",
       "    </tr>\n",
       "    <tr>\n",
       "      <th>4</th>\n",
       "      <td>0.216374</td>\n",
       "      <td>2.909528</td>\n",
       "      <td>36.0</td>\n",
       "      <td>0.989621</td>\n",
       "      <td>2.079791</td>\n",
       "      <td>2.890727</td>\n",
       "      <td>0.485135</td>\n",
       "      <td>1.700711</td>\n",
       "    </tr>\n",
       "    <tr>\n",
       "      <th>...</th>\n",
       "      <td>...</td>\n",
       "      <td>...</td>\n",
       "      <td>...</td>\n",
       "      <td>...</td>\n",
       "      <td>...</td>\n",
       "      <td>...</td>\n",
       "      <td>...</td>\n",
       "      <td>...</td>\n",
       "    </tr>\n",
       "    <tr>\n",
       "      <th>104862</th>\n",
       "      <td>0.452849</td>\n",
       "      <td>3.028820</td>\n",
       "      <td>48.0</td>\n",
       "      <td>0.989621</td>\n",
       "      <td>2.079791</td>\n",
       "      <td>2.890727</td>\n",
       "      <td>0.485135</td>\n",
       "      <td>1.675943</td>\n",
       "    </tr>\n",
       "    <tr>\n",
       "      <th>104863</th>\n",
       "      <td>0.753890</td>\n",
       "      <td>2.753077</td>\n",
       "      <td>16.0</td>\n",
       "      <td>1.250797</td>\n",
       "      <td>2.614918</td>\n",
       "      <td>2.890727</td>\n",
       "      <td>0.747652</td>\n",
       "      <td>1.925770</td>\n",
       "    </tr>\n",
       "    <tr>\n",
       "      <th>104864</th>\n",
       "      <td>0.455587</td>\n",
       "      <td>2.627547</td>\n",
       "      <td>53.0</td>\n",
       "      <td>1.250797</td>\n",
       "      <td>2.079791</td>\n",
       "      <td>2.890727</td>\n",
       "      <td>0.747652</td>\n",
       "      <td>1.901002</td>\n",
       "    </tr>\n",
       "    <tr>\n",
       "      <th>104865</th>\n",
       "      <td>0.889855</td>\n",
       "      <td>2.895362</td>\n",
       "      <td>50.0</td>\n",
       "      <td>0.989621</td>\n",
       "      <td>2.573029</td>\n",
       "      <td>2.890727</td>\n",
       "      <td>0.747652</td>\n",
       "      <td>1.901002</td>\n",
       "    </tr>\n",
       "    <tr>\n",
       "      <th>104866</th>\n",
       "      <td>0.750385</td>\n",
       "      <td>2.894946</td>\n",
       "      <td>60.0</td>\n",
       "      <td>0.989621</td>\n",
       "      <td>2.286197</td>\n",
       "      <td>2.890727</td>\n",
       "      <td>0.485135</td>\n",
       "      <td>1.700711</td>\n",
       "    </tr>\n",
       "  </tbody>\n",
       "</table>\n",
       "<p>98141 rows × 8 columns</p>\n",
       "</div>"
      ],
      "text/plain": [
       "         country  population   age  debit_card  got_savings  borrowed  \\\n",
       "0       0.478657    2.836511  66.0    0.989621     2.079791  2.696864   \n",
       "1       0.829662    2.730439  44.0    0.989621     2.408512  3.029042   \n",
       "2       0.478657    2.836511  29.0    1.250797     2.286197  2.890727   \n",
       "3       0.871612    2.846823  44.0    1.250797     2.906658  3.029042   \n",
       "4       0.216374    2.909528  36.0    0.989621     2.079791  2.890727   \n",
       "...          ...         ...   ...         ...          ...       ...   \n",
       "104862  0.452849    3.028820  48.0    0.989621     2.079791  2.890727   \n",
       "104863  0.753890    2.753077  16.0    1.250797     2.614918  2.890727   \n",
       "104864  0.455587    2.627547  53.0    1.250797     2.079791  2.890727   \n",
       "104865  0.889855    2.895362  50.0    0.989621     2.573029  2.890727   \n",
       "104866  0.750385    2.894946  60.0    0.989621     2.286197  2.890727   \n",
       "\n",
       "           given   benefit  \n",
       "0       0.485135  1.700711  \n",
       "1       0.485135  1.675943  \n",
       "2       0.485135  1.675943  \n",
       "3       0.747652  1.925770  \n",
       "4       0.485135  1.700711  \n",
       "...          ...       ...  \n",
       "104862  0.485135  1.675943  \n",
       "104863  0.747652  1.925770  \n",
       "104864  0.747652  1.901002  \n",
       "104865  0.747652  1.901002  \n",
       "104866  0.485135  1.700711  \n",
       "\n",
       "[98141 rows x 8 columns]"
      ]
     },
     "execution_count": 451,
     "metadata": {},
     "output_type": "execute_result"
    }
   ],
   "source": [
    "full_data"
   ]
  },
  {
   "cell_type": "code",
   "execution_count": 452,
   "metadata": {
    "execution": {
     "iopub.execute_input": "2023-03-11T09:50:54.964254Z",
     "iopub.status.busy": "2023-03-11T09:50:54.963893Z",
     "iopub.status.idle": "2023-03-11T09:53:02.954893Z",
     "shell.execute_reply": "2023-03-11T09:53:02.953733Z",
     "shell.execute_reply.started": "2023-03-11T09:50:54.964224Z"
    }
   },
   "outputs": [
    {
     "name": "stdout",
     "output_type": "stream",
     "text": [
      "-----\n",
      "Best parameters {'learning_rate': 0.1, 'n_estimators': 100, 'num_leaves': 31}\n",
      "Mean cross-validated accuracy score of the best_estimator: 0.786\n",
      "-----\n",
      "CPU times: user 2min 44s, sys: 38.5 s, total: 3min 23s\n",
      "Wall time: 2min 7s\n"
     ]
    }
   ],
   "source": [
    "%%time\n",
    "parameters = {\n",
    "    'n_estimators': [5, 10, 15, 20, 25, 50, 100],\n",
    "    'learning_rate': [0.01, 0.05, 0.1],\n",
    "    'num_leaves': [7, 15, 31],\n",
    "}\n",
    "\n",
    "model_lgbm = lgbm.LGBMClassifier(\n",
    "    random_state=42,\n",
    "    device =  \"gpu\"\n",
    ")\n",
    "\n",
    "model_lgbm = GridSearchCV(\n",
    "    model_lgbm, \n",
    "    parameters, \n",
    "    cv=5,\n",
    "    scoring='roc_auc',\n",
    ")\n",
    "\n",
    "model_lgbm.fit(\n",
    "    X_train, \n",
    "    y_train\n",
    ")\n",
    "\n",
    "print('-----')\n",
    "print(f'Best parameters {model_lgbm.best_params_}')\n",
    "print(\n",
    "    f'Mean cross-validated accuracy score of the best_estimator: ' + \n",
    "    f'{model_lgbm.best_score_:.3f}'\n",
    ")\n",
    "cross_valid_scores['lightgbm'] = model_lgbm.best_score_\n",
    "print('-----')"
   ]
  },
  {
   "cell_type": "code",
   "execution_count": 462,
   "metadata": {
    "execution": {
     "iopub.execute_input": "2023-03-11T09:57:45.131603Z",
     "iopub.status.busy": "2023-03-11T09:57:45.131234Z",
     "iopub.status.idle": "2023-03-11T09:57:45.137036Z",
     "shell.execute_reply": "2023-03-11T09:57:45.135846Z",
     "shell.execute_reply.started": "2023-03-11T09:57:45.131569Z"
    }
   },
   "outputs": [],
   "source": [
    "model_lgbm = lgbm.LGBMClassifier(\n",
    "    learning_rate = .01,n_estimators=100,num_leaves=31,\n",
    "    random_state=42,\n",
    "    device =  \"gpu\"\n",
    ")"
   ]
  },
  {
   "cell_type": "code",
   "execution_count": 463,
   "metadata": {
    "execution": {
     "iopub.execute_input": "2023-03-11T09:58:05.524480Z",
     "iopub.status.busy": "2023-03-11T09:58:05.523762Z",
     "iopub.status.idle": "2023-03-11T09:58:06.837392Z",
     "shell.execute_reply": "2023-03-11T09:58:06.836621Z",
     "shell.execute_reply.started": "2023-03-11T09:58:05.524442Z"
    }
   },
   "outputs": [
    {
     "data": {
      "text/plain": [
       "LGBMClassifier(device='gpu', learning_rate=0.01, random_state=42)"
      ]
     },
     "execution_count": 463,
     "metadata": {},
     "output_type": "execute_result"
    }
   ],
   "source": [
    "model_lgbm.fit(full_data,target)"
   ]
  },
  {
   "cell_type": "code",
   "execution_count": 455,
   "metadata": {
    "execution": {
     "iopub.execute_input": "2023-03-11T09:54:51.865954Z",
     "iopub.status.busy": "2023-03-11T09:54:51.865278Z",
     "iopub.status.idle": "2023-03-11T09:54:51.872604Z",
     "shell.execute_reply": "2023-03-11T09:54:51.871345Z",
     "shell.execute_reply.started": "2023-03-11T09:54:51.865898Z"
    }
   },
   "outputs": [],
   "source": [
    "def create_submission(model, test, model_name):\n",
    "    y_pred_test = model.predict_proba(test.drop(['ID'],axis=1))[:, 1]\n",
    "    sub = pd.DataFrame(\n",
    "        {\n",
    "            'ID': submission.ID, \n",
    "            'target': y_pred_test,\n",
    "        }\n",
    "        \n",
    "    )\n",
    "    sub.to_csv(f\"submission_{model_name}.csv\", index=False)\n",
    "    \n",
    "    return y_pred_test"
   ]
  },
  {
   "cell_type": "code",
   "execution_count": 465,
   "metadata": {
    "execution": {
     "iopub.execute_input": "2023-03-11T09:59:35.241930Z",
     "iopub.status.busy": "2023-03-11T09:59:35.241547Z",
     "iopub.status.idle": "2023-03-11T09:59:35.389066Z",
     "shell.execute_reply": "2023-03-11T09:59:35.388228Z",
     "shell.execute_reply.started": "2023-03-11T09:59:35.241897Z"
    }
   },
   "outputs": [],
   "source": [
    "submition['target'] = model_lgbm.predict_proba(full_test)[:,1]"
   ]
  },
  {
   "cell_type": "code",
   "execution_count": 466,
   "metadata": {
    "execution": {
     "iopub.execute_input": "2023-03-11T09:59:36.281751Z",
     "iopub.status.busy": "2023-03-11T09:59:36.280847Z",
     "iopub.status.idle": "2023-03-11T09:59:36.378925Z",
     "shell.execute_reply": "2023-03-11T09:59:36.377833Z",
     "shell.execute_reply.started": "2023-03-11T09:59:36.281704Z"
    }
   },
   "outputs": [],
   "source": [
    "submition.to_csv('last.csv',index=False)"
   ]
  },
  {
   "cell_type": "code",
   "execution_count": null,
   "metadata": {},
   "outputs": [],
   "source": []
  }
 ],
 "metadata": {
  "kernelspec": {
   "display_name": "Python 3 (ipykernel)",
   "language": "python",
   "name": "python3"
  },
  "language_info": {
   "codemirror_mode": {
    "name": "ipython",
    "version": 3
   },
   "file_extension": ".py",
   "mimetype": "text/x-python",
   "name": "python",
   "nbconvert_exporter": "python",
   "pygments_lexer": "ipython3",
   "version": "3.10.9"
  }
 },
 "nbformat": 4,
 "nbformat_minor": 4
}
