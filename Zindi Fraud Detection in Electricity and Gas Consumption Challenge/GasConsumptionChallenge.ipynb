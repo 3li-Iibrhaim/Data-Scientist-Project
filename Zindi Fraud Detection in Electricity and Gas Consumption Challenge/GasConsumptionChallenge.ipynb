{
 "cells": [
  {
   "cell_type": "code",
   "execution_count": 360,
   "id": "1933bce4",
   "metadata": {},
   "outputs": [],
   "source": [
    "import pandas as pd\n",
    "import matplotlib.pyplot as plt\n",
    "import seaborn as sns\n",
    "import numpy as np"
   ]
  },
  {
   "cell_type": "code",
   "execution_count": 361,
   "id": "798307b1",
   "metadata": {},
   "outputs": [],
   "source": [
    "df = pd.read_csv('invoice_train.csv',low_memory=False)"
   ]
  },
  {
   "cell_type": "code",
   "execution_count": 362,
   "id": "e079823d",
   "metadata": {},
   "outputs": [
    {
     "data": {
      "text/html": [
       "<div>\n",
       "<style scoped>\n",
       "    .dataframe tbody tr th:only-of-type {\n",
       "        vertical-align: middle;\n",
       "    }\n",
       "\n",
       "    .dataframe tbody tr th {\n",
       "        vertical-align: top;\n",
       "    }\n",
       "\n",
       "    .dataframe thead th {\n",
       "        text-align: right;\n",
       "    }\n",
       "</style>\n",
       "<table border=\"1\" class=\"dataframe\">\n",
       "  <thead>\n",
       "    <tr style=\"text-align: right;\">\n",
       "      <th></th>\n",
       "      <th>client_id</th>\n",
       "      <th>invoice_date</th>\n",
       "      <th>tarif_type</th>\n",
       "      <th>counter_number</th>\n",
       "      <th>counter_statue</th>\n",
       "      <th>counter_code</th>\n",
       "      <th>reading_remarque</th>\n",
       "      <th>counter_coefficient</th>\n",
       "      <th>consommation_level_1</th>\n",
       "      <th>consommation_level_2</th>\n",
       "      <th>consommation_level_3</th>\n",
       "      <th>consommation_level_4</th>\n",
       "      <th>old_index</th>\n",
       "      <th>new_index</th>\n",
       "      <th>months_number</th>\n",
       "      <th>counter_type</th>\n",
       "    </tr>\n",
       "  </thead>\n",
       "  <tbody>\n",
       "    <tr>\n",
       "      <th>0</th>\n",
       "      <td>train_Client_0</td>\n",
       "      <td>2014-03-24</td>\n",
       "      <td>11</td>\n",
       "      <td>1335667</td>\n",
       "      <td>0</td>\n",
       "      <td>203</td>\n",
       "      <td>8</td>\n",
       "      <td>1</td>\n",
       "      <td>82</td>\n",
       "      <td>0</td>\n",
       "      <td>0</td>\n",
       "      <td>0</td>\n",
       "      <td>14302</td>\n",
       "      <td>14384</td>\n",
       "      <td>4</td>\n",
       "      <td>ELEC</td>\n",
       "    </tr>\n",
       "    <tr>\n",
       "      <th>1</th>\n",
       "      <td>train_Client_0</td>\n",
       "      <td>2013-03-29</td>\n",
       "      <td>11</td>\n",
       "      <td>1335667</td>\n",
       "      <td>0</td>\n",
       "      <td>203</td>\n",
       "      <td>6</td>\n",
       "      <td>1</td>\n",
       "      <td>1200</td>\n",
       "      <td>184</td>\n",
       "      <td>0</td>\n",
       "      <td>0</td>\n",
       "      <td>12294</td>\n",
       "      <td>13678</td>\n",
       "      <td>4</td>\n",
       "      <td>ELEC</td>\n",
       "    </tr>\n",
       "    <tr>\n",
       "      <th>2</th>\n",
       "      <td>train_Client_0</td>\n",
       "      <td>2015-03-23</td>\n",
       "      <td>11</td>\n",
       "      <td>1335667</td>\n",
       "      <td>0</td>\n",
       "      <td>203</td>\n",
       "      <td>8</td>\n",
       "      <td>1</td>\n",
       "      <td>123</td>\n",
       "      <td>0</td>\n",
       "      <td>0</td>\n",
       "      <td>0</td>\n",
       "      <td>14624</td>\n",
       "      <td>14747</td>\n",
       "      <td>4</td>\n",
       "      <td>ELEC</td>\n",
       "    </tr>\n",
       "    <tr>\n",
       "      <th>3</th>\n",
       "      <td>train_Client_0</td>\n",
       "      <td>2015-07-13</td>\n",
       "      <td>11</td>\n",
       "      <td>1335667</td>\n",
       "      <td>0</td>\n",
       "      <td>207</td>\n",
       "      <td>8</td>\n",
       "      <td>1</td>\n",
       "      <td>102</td>\n",
       "      <td>0</td>\n",
       "      <td>0</td>\n",
       "      <td>0</td>\n",
       "      <td>14747</td>\n",
       "      <td>14849</td>\n",
       "      <td>4</td>\n",
       "      <td>ELEC</td>\n",
       "    </tr>\n",
       "    <tr>\n",
       "      <th>4</th>\n",
       "      <td>train_Client_0</td>\n",
       "      <td>2016-11-17</td>\n",
       "      <td>11</td>\n",
       "      <td>1335667</td>\n",
       "      <td>0</td>\n",
       "      <td>207</td>\n",
       "      <td>9</td>\n",
       "      <td>1</td>\n",
       "      <td>572</td>\n",
       "      <td>0</td>\n",
       "      <td>0</td>\n",
       "      <td>0</td>\n",
       "      <td>15066</td>\n",
       "      <td>15638</td>\n",
       "      <td>12</td>\n",
       "      <td>ELEC</td>\n",
       "    </tr>\n",
       "  </tbody>\n",
       "</table>\n",
       "</div>"
      ],
      "text/plain": [
       "        client_id invoice_date  tarif_type  counter_number counter_statue  \\\n",
       "0  train_Client_0   2014-03-24          11         1335667              0   \n",
       "1  train_Client_0   2013-03-29          11         1335667              0   \n",
       "2  train_Client_0   2015-03-23          11         1335667              0   \n",
       "3  train_Client_0   2015-07-13          11         1335667              0   \n",
       "4  train_Client_0   2016-11-17          11         1335667              0   \n",
       "\n",
       "   counter_code  reading_remarque  counter_coefficient  consommation_level_1  \\\n",
       "0           203                 8                    1                    82   \n",
       "1           203                 6                    1                  1200   \n",
       "2           203                 8                    1                   123   \n",
       "3           207                 8                    1                   102   \n",
       "4           207                 9                    1                   572   \n",
       "\n",
       "   consommation_level_2  consommation_level_3  consommation_level_4  \\\n",
       "0                     0                     0                     0   \n",
       "1                   184                     0                     0   \n",
       "2                     0                     0                     0   \n",
       "3                     0                     0                     0   \n",
       "4                     0                     0                     0   \n",
       "\n",
       "   old_index  new_index  months_number counter_type  \n",
       "0      14302      14384              4         ELEC  \n",
       "1      12294      13678              4         ELEC  \n",
       "2      14624      14747              4         ELEC  \n",
       "3      14747      14849              4         ELEC  \n",
       "4      15066      15638             12         ELEC  "
      ]
     },
     "execution_count": 362,
     "metadata": {},
     "output_type": "execute_result"
    }
   ],
   "source": [
    "df.head()"
   ]
  },
  {
   "cell_type": "code",
   "execution_count": 363,
   "id": "9757defe",
   "metadata": {},
   "outputs": [
    {
     "name": "stdout",
     "output_type": "stream",
     "text": [
      "<class 'pandas.core.frame.DataFrame'>\n",
      "RangeIndex: 4476749 entries, 0 to 4476748\n",
      "Data columns (total 16 columns):\n",
      " #   Column                Dtype \n",
      "---  ------                ----- \n",
      " 0   client_id             object\n",
      " 1   invoice_date          object\n",
      " 2   tarif_type            int64 \n",
      " 3   counter_number        int64 \n",
      " 4   counter_statue        object\n",
      " 5   counter_code          int64 \n",
      " 6   reading_remarque      int64 \n",
      " 7   counter_coefficient   int64 \n",
      " 8   consommation_level_1  int64 \n",
      " 9   consommation_level_2  int64 \n",
      " 10  consommation_level_3  int64 \n",
      " 11  consommation_level_4  int64 \n",
      " 12  old_index             int64 \n",
      " 13  new_index             int64 \n",
      " 14  months_number         int64 \n",
      " 15  counter_type          object\n",
      "dtypes: int64(12), object(4)\n",
      "memory usage: 546.5+ MB\n"
     ]
    }
   ],
   "source": [
    "df.info()"
   ]
  },
  {
   "cell_type": "code",
   "execution_count": 364,
   "id": "879e8535",
   "metadata": {},
   "outputs": [
    {
     "data": {
      "text/plain": [
       "client_id               0\n",
       "invoice_date            0\n",
       "tarif_type              0\n",
       "counter_number          0\n",
       "counter_statue          0\n",
       "counter_code            0\n",
       "reading_remarque        0\n",
       "counter_coefficient     0\n",
       "consommation_level_1    0\n",
       "consommation_level_2    0\n",
       "consommation_level_3    0\n",
       "consommation_level_4    0\n",
       "old_index               0\n",
       "new_index               0\n",
       "months_number           0\n",
       "counter_type            0\n",
       "dtype: int64"
      ]
     },
     "execution_count": 364,
     "metadata": {},
     "output_type": "execute_result"
    }
   ],
   "source": [
    "df.isna().sum()"
   ]
  },
  {
   "cell_type": "code",
   "execution_count": 365,
   "id": "8887be27",
   "metadata": {},
   "outputs": [
    {
     "data": {
      "text/plain": [
       "client_id               135493\n",
       "invoice_date              8275\n",
       "tarif_type                  17\n",
       "counter_number          201893\n",
       "counter_statue              12\n",
       "counter_code                42\n",
       "reading_remarque             8\n",
       "counter_coefficient         16\n",
       "consommation_level_1      8295\n",
       "consommation_level_2     12576\n",
       "consommation_level_3      2253\n",
       "consommation_level_4     12075\n",
       "old_index               155648\n",
       "new_index               157980\n",
       "months_number             1370\n",
       "counter_type                 2\n",
       "dtype: int64"
      ]
     },
     "execution_count": 365,
     "metadata": {},
     "output_type": "execute_result"
    }
   ],
   "source": [
    "df.nunique()"
   ]
  },
  {
   "cell_type": "code",
   "execution_count": 366,
   "id": "bee6ceeb",
   "metadata": {},
   "outputs": [
    {
     "data": {
      "text/plain": [
       "Index(['client_id', 'invoice_date', 'tarif_type', 'counter_number',\n",
       "       'counter_statue', 'counter_code', 'reading_remarque',\n",
       "       'counter_coefficient', 'consommation_level_1', 'consommation_level_2',\n",
       "       'consommation_level_3', 'consommation_level_4', 'old_index',\n",
       "       'new_index', 'months_number', 'counter_type'],\n",
       "      dtype='object')"
      ]
     },
     "execution_count": 366,
     "metadata": {},
     "output_type": "execute_result"
    }
   ],
   "source": [
    "df.columns"
   ]
  },
  {
   "cell_type": "code",
   "execution_count": 367,
   "id": "ef5f41cd",
   "metadata": {},
   "outputs": [],
   "source": [
    "test = pd.read_csv('invoice_test.csv')"
   ]
  },
  {
   "cell_type": "code",
   "execution_count": 368,
   "id": "3aa4db0b",
   "metadata": {},
   "outputs": [
    {
     "data": {
      "text/html": [
       "<div>\n",
       "<style scoped>\n",
       "    .dataframe tbody tr th:only-of-type {\n",
       "        vertical-align: middle;\n",
       "    }\n",
       "\n",
       "    .dataframe tbody tr th {\n",
       "        vertical-align: top;\n",
       "    }\n",
       "\n",
       "    .dataframe thead th {\n",
       "        text-align: right;\n",
       "    }\n",
       "</style>\n",
       "<table border=\"1\" class=\"dataframe\">\n",
       "  <thead>\n",
       "    <tr style=\"text-align: right;\">\n",
       "      <th></th>\n",
       "      <th>client_id</th>\n",
       "      <th>invoice_date</th>\n",
       "      <th>tarif_type</th>\n",
       "      <th>counter_number</th>\n",
       "      <th>counter_statue</th>\n",
       "      <th>counter_code</th>\n",
       "      <th>reading_remarque</th>\n",
       "      <th>counter_coefficient</th>\n",
       "      <th>consommation_level_1</th>\n",
       "      <th>consommation_level_2</th>\n",
       "      <th>consommation_level_3</th>\n",
       "      <th>consommation_level_4</th>\n",
       "      <th>old_index</th>\n",
       "      <th>new_index</th>\n",
       "      <th>months_number</th>\n",
       "      <th>counter_type</th>\n",
       "    </tr>\n",
       "  </thead>\n",
       "  <tbody>\n",
       "    <tr>\n",
       "      <th>0</th>\n",
       "      <td>test_Client_0</td>\n",
       "      <td>2018-03-16</td>\n",
       "      <td>11</td>\n",
       "      <td>651208</td>\n",
       "      <td>0</td>\n",
       "      <td>203</td>\n",
       "      <td>8</td>\n",
       "      <td>1</td>\n",
       "      <td>755</td>\n",
       "      <td>0</td>\n",
       "      <td>0</td>\n",
       "      <td>0</td>\n",
       "      <td>19145</td>\n",
       "      <td>19900</td>\n",
       "      <td>8</td>\n",
       "      <td>ELEC</td>\n",
       "    </tr>\n",
       "    <tr>\n",
       "      <th>1</th>\n",
       "      <td>test_Client_0</td>\n",
       "      <td>2014-03-21</td>\n",
       "      <td>11</td>\n",
       "      <td>651208</td>\n",
       "      <td>0</td>\n",
       "      <td>203</td>\n",
       "      <td>8</td>\n",
       "      <td>1</td>\n",
       "      <td>1067</td>\n",
       "      <td>0</td>\n",
       "      <td>0</td>\n",
       "      <td>0</td>\n",
       "      <td>13725</td>\n",
       "      <td>14792</td>\n",
       "      <td>8</td>\n",
       "      <td>ELEC</td>\n",
       "    </tr>\n",
       "    <tr>\n",
       "      <th>2</th>\n",
       "      <td>test_Client_0</td>\n",
       "      <td>2014-07-17</td>\n",
       "      <td>11</td>\n",
       "      <td>651208</td>\n",
       "      <td>0</td>\n",
       "      <td>203</td>\n",
       "      <td>8</td>\n",
       "      <td>1</td>\n",
       "      <td>0</td>\n",
       "      <td>0</td>\n",
       "      <td>0</td>\n",
       "      <td>0</td>\n",
       "      <td>14792</td>\n",
       "      <td>14792</td>\n",
       "      <td>4</td>\n",
       "      <td>ELEC</td>\n",
       "    </tr>\n",
       "    <tr>\n",
       "      <th>3</th>\n",
       "      <td>test_Client_0</td>\n",
       "      <td>2015-07-13</td>\n",
       "      <td>11</td>\n",
       "      <td>651208</td>\n",
       "      <td>0</td>\n",
       "      <td>203</td>\n",
       "      <td>9</td>\n",
       "      <td>1</td>\n",
       "      <td>410</td>\n",
       "      <td>0</td>\n",
       "      <td>0</td>\n",
       "      <td>0</td>\n",
       "      <td>16122</td>\n",
       "      <td>16532</td>\n",
       "      <td>4</td>\n",
       "      <td>ELEC</td>\n",
       "    </tr>\n",
       "    <tr>\n",
       "      <th>4</th>\n",
       "      <td>test_Client_0</td>\n",
       "      <td>2016-07-19</td>\n",
       "      <td>11</td>\n",
       "      <td>651208</td>\n",
       "      <td>0</td>\n",
       "      <td>203</td>\n",
       "      <td>9</td>\n",
       "      <td>1</td>\n",
       "      <td>412</td>\n",
       "      <td>0</td>\n",
       "      <td>0</td>\n",
       "      <td>0</td>\n",
       "      <td>17471</td>\n",
       "      <td>17883</td>\n",
       "      <td>4</td>\n",
       "      <td>ELEC</td>\n",
       "    </tr>\n",
       "  </tbody>\n",
       "</table>\n",
       "</div>"
      ],
      "text/plain": [
       "       client_id invoice_date  tarif_type  counter_number  counter_statue  \\\n",
       "0  test_Client_0   2018-03-16          11          651208               0   \n",
       "1  test_Client_0   2014-03-21          11          651208               0   \n",
       "2  test_Client_0   2014-07-17          11          651208               0   \n",
       "3  test_Client_0   2015-07-13          11          651208               0   \n",
       "4  test_Client_0   2016-07-19          11          651208               0   \n",
       "\n",
       "   counter_code  reading_remarque  counter_coefficient  consommation_level_1  \\\n",
       "0           203                 8                    1                   755   \n",
       "1           203                 8                    1                  1067   \n",
       "2           203                 8                    1                     0   \n",
       "3           203                 9                    1                   410   \n",
       "4           203                 9                    1                   412   \n",
       "\n",
       "   consommation_level_2  consommation_level_3  consommation_level_4  \\\n",
       "0                     0                     0                     0   \n",
       "1                     0                     0                     0   \n",
       "2                     0                     0                     0   \n",
       "3                     0                     0                     0   \n",
       "4                     0                     0                     0   \n",
       "\n",
       "   old_index  new_index  months_number counter_type  \n",
       "0      19145      19900              8         ELEC  \n",
       "1      13725      14792              8         ELEC  \n",
       "2      14792      14792              4         ELEC  \n",
       "3      16122      16532              4         ELEC  \n",
       "4      17471      17883              4         ELEC  "
      ]
     },
     "execution_count": 368,
     "metadata": {},
     "output_type": "execute_result"
    }
   ],
   "source": [
    "test.head()"
   ]
  },
  {
   "cell_type": "code",
   "execution_count": 369,
   "id": "5725b827",
   "metadata": {},
   "outputs": [
    {
     "data": {
      "text/plain": [
       "(16, 16, 4476749, 1939730)"
      ]
     },
     "execution_count": 369,
     "metadata": {},
     "output_type": "execute_result"
    }
   ],
   "source": [
    "len(test.columns), len(df.columns) , len(df), len(test)"
   ]
  },
  {
   "cell_type": "code",
   "execution_count": 370,
   "id": "5e30e721",
   "metadata": {},
   "outputs": [],
   "source": [
    "ctrain = pd.read_csv('client_train.csv')"
   ]
  },
  {
   "cell_type": "code",
   "execution_count": 371,
   "id": "eb449505",
   "metadata": {},
   "outputs": [
    {
     "data": {
      "text/html": [
       "<div>\n",
       "<style scoped>\n",
       "    .dataframe tbody tr th:only-of-type {\n",
       "        vertical-align: middle;\n",
       "    }\n",
       "\n",
       "    .dataframe tbody tr th {\n",
       "        vertical-align: top;\n",
       "    }\n",
       "\n",
       "    .dataframe thead th {\n",
       "        text-align: right;\n",
       "    }\n",
       "</style>\n",
       "<table border=\"1\" class=\"dataframe\">\n",
       "  <thead>\n",
       "    <tr style=\"text-align: right;\">\n",
       "      <th></th>\n",
       "      <th>disrict</th>\n",
       "      <th>client_id</th>\n",
       "      <th>client_catg</th>\n",
       "      <th>region</th>\n",
       "      <th>creation_date</th>\n",
       "      <th>target</th>\n",
       "    </tr>\n",
       "  </thead>\n",
       "  <tbody>\n",
       "    <tr>\n",
       "      <th>0</th>\n",
       "      <td>60</td>\n",
       "      <td>train_Client_0</td>\n",
       "      <td>11</td>\n",
       "      <td>101</td>\n",
       "      <td>31/12/1994</td>\n",
       "      <td>0.0</td>\n",
       "    </tr>\n",
       "    <tr>\n",
       "      <th>1</th>\n",
       "      <td>69</td>\n",
       "      <td>train_Client_1</td>\n",
       "      <td>11</td>\n",
       "      <td>107</td>\n",
       "      <td>29/05/2002</td>\n",
       "      <td>0.0</td>\n",
       "    </tr>\n",
       "    <tr>\n",
       "      <th>2</th>\n",
       "      <td>62</td>\n",
       "      <td>train_Client_10</td>\n",
       "      <td>11</td>\n",
       "      <td>301</td>\n",
       "      <td>13/03/1986</td>\n",
       "      <td>0.0</td>\n",
       "    </tr>\n",
       "    <tr>\n",
       "      <th>3</th>\n",
       "      <td>69</td>\n",
       "      <td>train_Client_100</td>\n",
       "      <td>11</td>\n",
       "      <td>105</td>\n",
       "      <td>11/07/1996</td>\n",
       "      <td>0.0</td>\n",
       "    </tr>\n",
       "    <tr>\n",
       "      <th>4</th>\n",
       "      <td>62</td>\n",
       "      <td>train_Client_1000</td>\n",
       "      <td>11</td>\n",
       "      <td>303</td>\n",
       "      <td>14/10/2014</td>\n",
       "      <td>0.0</td>\n",
       "    </tr>\n",
       "  </tbody>\n",
       "</table>\n",
       "</div>"
      ],
      "text/plain": [
       "   disrict          client_id  client_catg  region creation_date  target\n",
       "0       60     train_Client_0           11     101    31/12/1994     0.0\n",
       "1       69     train_Client_1           11     107    29/05/2002     0.0\n",
       "2       62    train_Client_10           11     301    13/03/1986     0.0\n",
       "3       69   train_Client_100           11     105    11/07/1996     0.0\n",
       "4       62  train_Client_1000           11     303    14/10/2014     0.0"
      ]
     },
     "execution_count": 371,
     "metadata": {},
     "output_type": "execute_result"
    }
   ],
   "source": [
    "ctrain.head()"
   ]
  },
  {
   "cell_type": "code",
   "execution_count": 372,
   "id": "951ea4b9",
   "metadata": {},
   "outputs": [],
   "source": [
    "ctest = pd.read_csv('client_test.csv')"
   ]
  },
  {
   "cell_type": "code",
   "execution_count": 373,
   "id": "7c362527",
   "metadata": {},
   "outputs": [
    {
     "data": {
      "text/html": [
       "<div>\n",
       "<style scoped>\n",
       "    .dataframe tbody tr th:only-of-type {\n",
       "        vertical-align: middle;\n",
       "    }\n",
       "\n",
       "    .dataframe tbody tr th {\n",
       "        vertical-align: top;\n",
       "    }\n",
       "\n",
       "    .dataframe thead th {\n",
       "        text-align: right;\n",
       "    }\n",
       "</style>\n",
       "<table border=\"1\" class=\"dataframe\">\n",
       "  <thead>\n",
       "    <tr style=\"text-align: right;\">\n",
       "      <th></th>\n",
       "      <th>disrict</th>\n",
       "      <th>client_id</th>\n",
       "      <th>client_catg</th>\n",
       "      <th>region</th>\n",
       "      <th>creation_date</th>\n",
       "    </tr>\n",
       "  </thead>\n",
       "  <tbody>\n",
       "    <tr>\n",
       "      <th>0</th>\n",
       "      <td>62</td>\n",
       "      <td>test_Client_0</td>\n",
       "      <td>11</td>\n",
       "      <td>307</td>\n",
       "      <td>28/05/2002</td>\n",
       "    </tr>\n",
       "    <tr>\n",
       "      <th>1</th>\n",
       "      <td>69</td>\n",
       "      <td>test_Client_1</td>\n",
       "      <td>11</td>\n",
       "      <td>103</td>\n",
       "      <td>06/08/2009</td>\n",
       "    </tr>\n",
       "    <tr>\n",
       "      <th>2</th>\n",
       "      <td>62</td>\n",
       "      <td>test_Client_10</td>\n",
       "      <td>11</td>\n",
       "      <td>310</td>\n",
       "      <td>07/04/2004</td>\n",
       "    </tr>\n",
       "    <tr>\n",
       "      <th>3</th>\n",
       "      <td>60</td>\n",
       "      <td>test_Client_100</td>\n",
       "      <td>11</td>\n",
       "      <td>101</td>\n",
       "      <td>08/10/1992</td>\n",
       "    </tr>\n",
       "    <tr>\n",
       "      <th>4</th>\n",
       "      <td>62</td>\n",
       "      <td>test_Client_1000</td>\n",
       "      <td>11</td>\n",
       "      <td>301</td>\n",
       "      <td>21/07/1977</td>\n",
       "    </tr>\n",
       "  </tbody>\n",
       "</table>\n",
       "</div>"
      ],
      "text/plain": [
       "   disrict         client_id  client_catg  region creation_date\n",
       "0       62     test_Client_0           11     307    28/05/2002\n",
       "1       69     test_Client_1           11     103    06/08/2009\n",
       "2       62    test_Client_10           11     310    07/04/2004\n",
       "3       60   test_Client_100           11     101    08/10/1992\n",
       "4       62  test_Client_1000           11     301    21/07/1977"
      ]
     },
     "execution_count": 373,
     "metadata": {},
     "output_type": "execute_result"
    }
   ],
   "source": [
    "ctest.head()"
   ]
  },
  {
   "cell_type": "code",
   "execution_count": 374,
   "id": "ba1d5a63",
   "metadata": {},
   "outputs": [
    {
     "data": {
      "text/plain": [
       "(135493, 58069)"
      ]
     },
     "execution_count": 374,
     "metadata": {},
     "output_type": "execute_result"
    }
   ],
   "source": [
    "len(ctrain), len(ctest)"
   ]
  },
  {
   "cell_type": "code",
   "execution_count": 375,
   "id": "197f658a",
   "metadata": {},
   "outputs": [],
   "source": [
    "submission = pd.read_csv('SampleSubmission.csv')"
   ]
  },
  {
   "cell_type": "code",
   "execution_count": 376,
   "id": "aa774cae",
   "metadata": {},
   "outputs": [
    {
     "data": {
      "text/html": [
       "<div>\n",
       "<style scoped>\n",
       "    .dataframe tbody tr th:only-of-type {\n",
       "        vertical-align: middle;\n",
       "    }\n",
       "\n",
       "    .dataframe tbody tr th {\n",
       "        vertical-align: top;\n",
       "    }\n",
       "\n",
       "    .dataframe thead th {\n",
       "        text-align: right;\n",
       "    }\n",
       "</style>\n",
       "<table border=\"1\" class=\"dataframe\">\n",
       "  <thead>\n",
       "    <tr style=\"text-align: right;\">\n",
       "      <th></th>\n",
       "      <th>client_id</th>\n",
       "      <th>target</th>\n",
       "    </tr>\n",
       "  </thead>\n",
       "  <tbody>\n",
       "    <tr>\n",
       "      <th>0</th>\n",
       "      <td>test_Client_0</td>\n",
       "      <td>0.957281</td>\n",
       "    </tr>\n",
       "    <tr>\n",
       "      <th>1</th>\n",
       "      <td>test_Client_1</td>\n",
       "      <td>0.996425</td>\n",
       "    </tr>\n",
       "    <tr>\n",
       "      <th>2</th>\n",
       "      <td>test_Client_10</td>\n",
       "      <td>0.612359</td>\n",
       "    </tr>\n",
       "    <tr>\n",
       "      <th>3</th>\n",
       "      <td>test_Client_100</td>\n",
       "      <td>0.776933</td>\n",
       "    </tr>\n",
       "    <tr>\n",
       "      <th>4</th>\n",
       "      <td>test_Client_1000</td>\n",
       "      <td>0.571046</td>\n",
       "    </tr>\n",
       "  </tbody>\n",
       "</table>\n",
       "</div>"
      ],
      "text/plain": [
       "          client_id    target\n",
       "0     test_Client_0  0.957281\n",
       "1     test_Client_1  0.996425\n",
       "2    test_Client_10  0.612359\n",
       "3   test_Client_100  0.776933\n",
       "4  test_Client_1000  0.571046"
      ]
     },
     "execution_count": 376,
     "metadata": {},
     "output_type": "execute_result"
    }
   ],
   "source": [
    "submission.head()"
   ]
  },
  {
   "cell_type": "code",
   "execution_count": 377,
   "id": "8b45a1f8",
   "metadata": {
    "scrolled": true
   },
   "outputs": [
    {
     "data": {
      "text/plain": [
       "0    6\n",
       "dtype: int64"
      ]
     },
     "execution_count": 377,
     "metadata": {},
     "output_type": "execute_result"
    }
   ],
   "source": [
    "ctrain.isna().sum().value_counts()"
   ]
  },
  {
   "cell_type": "code",
   "execution_count": 378,
   "id": "4116f40e",
   "metadata": {},
   "outputs": [
    {
     "data": {
      "text/plain": [
       "0.0    127927\n",
       "1.0      7566\n",
       "Name: target, dtype: int64"
      ]
     },
     "execution_count": 378,
     "metadata": {},
     "output_type": "execute_result"
    }
   ],
   "source": [
    "ctrain.target.value_counts()"
   ]
  },
  {
   "cell_type": "code",
   "execution_count": 379,
   "id": "dbfb61b6",
   "metadata": {},
   "outputs": [
    {
     "name": "stdout",
     "output_type": "stream",
     "text": [
      "1: 5.91%\n",
      "0: 94.09%\n"
     ]
    }
   ],
   "source": [
    "dsa = str(round((ctrain.target.value_counts()[1]/ctrain.target.value_counts()[0]*100),2))\n",
    "dsb = str(100 - round((ctrain.target.value_counts()[1]/ctrain.target.value_counts()[0]*100),2))\n",
    "print(f\"1: {dsa}\"+\"%\")\n",
    "print(f\"0: {dsb}\"+\"%\")"
   ]
  },
  {
   "cell_type": "markdown",
   "id": "faf0aa50",
   "metadata": {},
   "source": [
    "# EDA"
   ]
  },
  {
   "cell_type": "code",
   "execution_count": 380,
   "id": "bca9ffe8",
   "metadata": {},
   "outputs": [
    {
     "data": {
      "text/plain": [
       "4"
      ]
     },
     "execution_count": 380,
     "metadata": {},
     "output_type": "execute_result"
    }
   ],
   "source": [
    "ctrain.disrict.nunique()"
   ]
  },
  {
   "cell_type": "code",
   "execution_count": 381,
   "id": "1a1aea36",
   "metadata": {},
   "outputs": [],
   "source": [
    "sns.set()"
   ]
  },
  {
   "cell_type": "code",
   "execution_count": 382,
   "id": "cebf153a",
   "metadata": {},
   "outputs": [
    {
     "data": {
      "text/plain": [
       "<AxesSubplot:xlabel='disrict', ylabel='count'>"
      ]
     },
     "execution_count": 382,
     "metadata": {},
     "output_type": "execute_result"
    },
    {
     "data": {
      "image/png": "[encoded data removed]",
      "text/plain": [
       "<Figure size 640x480 with 1 Axes>"
      ]
     },
     "metadata": {},
     "output_type": "display_data"
    }
   ],
   "source": [
    "sns.countplot(x=\"disrict\",\n",
    "data=ctrain,\n",
    "palette=\"Greens_d\")"
   ]
  },
  {
   "cell_type": "code",
   "execution_count": 383,
   "id": "221ea989",
   "metadata": {},
   "outputs": [
    {
     "data": {
      "text/plain": [
       "3"
      ]
     },
     "execution_count": 383,
     "metadata": {},
     "output_type": "execute_result"
    }
   ],
   "source": [
    "ctrain['client_catg'].nunique()"
   ]
  },
  {
   "cell_type": "code",
   "execution_count": 384,
   "id": "e951de0d",
   "metadata": {},
   "outputs": [
    {
     "data": {
      "image/png": "[encoded data removed]",
      "text/plain": [
       "<Figure size 640x480 with 1 Axes>"
      ]
     },
     "metadata": {},
     "output_type": "display_data"
    }
   ],
   "source": [
    "sns.countplot(x=\"client_catg\",\n",
    "data=ctrain);"
   ]
  },
  {
   "cell_type": "code",
   "execution_count": 385,
   "id": "dbd5f5a4",
   "metadata": {},
   "outputs": [
    {
     "data": {
      "image/png": "[encoded data removed]",
      "text/plain": [
       "<Figure size 1000x1000 with 1 Axes>"
      ]
     },
     "metadata": {},
     "output_type": "display_data"
    }
   ],
   "source": [
    "fig ,axis = plt.subplots(figsize=(10,10))\n",
    "sns.countplot(y='region',data=ctrain);"
   ]
  },
  {
   "cell_type": "code",
   "execution_count": 386,
   "id": "b7de015a",
   "metadata": {},
   "outputs": [
    {
     "data": {
      "text/plain": [
       "Index(['disrict', 'client_id', 'client_catg', 'region', 'creation_date',\n",
       "       'target'],\n",
       "      dtype='object')"
      ]
     },
     "execution_count": 386,
     "metadata": {},
     "output_type": "execute_result"
    }
   ],
   "source": [
    "ctrain.columns"
   ]
  },
  {
   "cell_type": "code",
   "execution_count": 387,
   "id": "6a559684",
   "metadata": {},
   "outputs": [
    {
     "data": {
      "text/plain": [
       "8088"
      ]
     },
     "execution_count": 387,
     "metadata": {},
     "output_type": "execute_result"
    }
   ],
   "source": [
    "ctrain['creation_date'].nunique()"
   ]
  },
  {
   "cell_type": "code",
   "execution_count": 388,
   "id": "c88067e6",
   "metadata": {},
   "outputs": [
    {
     "data": {
      "text/plain": [
       "count         135493\n",
       "unique          8088\n",
       "top       20/11/1997\n",
       "freq             214\n",
       "Name: creation_date, dtype: object"
      ]
     },
     "execution_count": 388,
     "metadata": {},
     "output_type": "execute_result"
    }
   ],
   "source": [
    "ctrain['creation_date'].describe()"
   ]
  },
  {
   "cell_type": "code",
   "execution_count": 389,
   "id": "95d24ffa",
   "metadata": {},
   "outputs": [
    {
     "data": {
      "text/plain": [
       "('01/01/1997',\n",
       " '31/12/2018',\n",
       " 0    20/11/1997\n",
       " Name: creation_date, dtype: object)"
      ]
     },
     "execution_count": 389,
     "metadata": {},
     "output_type": "execute_result"
    }
   ],
   "source": [
    "ctrain['creation_date'].min(), ctrain['creation_date'].max(), ctrain['creation_date'].mode()"
   ]
  },
  {
   "cell_type": "code",
   "execution_count": 390,
   "id": "a3575c45",
   "metadata": {},
   "outputs": [],
   "source": [
    "# sns.stripplot(x=\"creation_date\", #Scatterplot with one\n",
    "# y=\"target\",# categorical variable\n",
    "# data=ctrain);"
   ]
  },
  {
   "cell_type": "code",
   "execution_count": 391,
   "id": "db335152",
   "metadata": {},
   "outputs": [
    {
     "data": {
      "image/png": "[encoded data removed]",
      "text/plain": [
       "<Figure size 640x480 with 1 Axes>"
      ]
     },
     "metadata": {},
     "output_type": "display_data"
    }
   ],
   "source": [
    "sns.countplot(x=\"target\",# Show count of observations\n",
    "data=ctrain,\n",
    "palette=\"Reds_d\");"
   ]
  },
  {
   "cell_type": "code",
   "execution_count": 392,
   "id": "b5c410f8",
   "metadata": {},
   "outputs": [
    {
     "data": {
      "text/plain": [
       "client_id               135493\n",
       "invoice_date              8275\n",
       "tarif_type                  17\n",
       "counter_number          201893\n",
       "counter_statue              12\n",
       "counter_code                42\n",
       "reading_remarque             8\n",
       "counter_coefficient         16\n",
       "consommation_level_1      8295\n",
       "consommation_level_2     12576\n",
       "consommation_level_3      2253\n",
       "consommation_level_4     12075\n",
       "old_index               155648\n",
       "new_index               157980\n",
       "months_number             1370\n",
       "counter_type                 2\n",
       "dtype: int64"
      ]
     },
     "execution_count": 392,
     "metadata": {},
     "output_type": "execute_result"
    }
   ],
   "source": [
    "df.nunique()"
   ]
  },
  {
   "cell_type": "code",
   "execution_count": 393,
   "id": "3cead994",
   "metadata": {
    "scrolled": true
   },
   "outputs": [
    {
     "data": {
      "text/plain": [
       "3"
      ]
     },
     "execution_count": 393,
     "metadata": {},
     "output_type": "execute_result"
    }
   ],
   "source": [
    "ctrain['client_catg'].nunique()"
   ]
  },
  {
   "cell_type": "code",
   "execution_count": 394,
   "id": "b7e19b99",
   "metadata": {},
   "outputs": [
    {
     "data": {
      "text/plain": [
       "11    97.048556\n",
       "12     1.713004\n",
       "51     1.238440\n",
       "Name: client_catg, dtype: float64"
      ]
     },
     "execution_count": 394,
     "metadata": {},
     "output_type": "execute_result"
    }
   ],
   "source": [
    "ctrain.client_catg.value_counts()/ctrain.client_catg.value_counts().sum()*100"
   ]
  },
  {
   "cell_type": "code",
   "execution_count": 395,
   "id": "df10a6d8",
   "metadata": {},
   "outputs": [
    {
     "name": "stdout",
     "output_type": "stream",
     "text": [
      "11  :97.0%\n",
      "12  :2.0%\n",
      "51  :1.0%\n"
     ]
    }
   ],
   "source": [
    "(ctrain.client_catg.value_counts())\n",
    "s = ctrain.client_catg.value_counts().sum()\n",
    "print(f\"11  :{round(131494/s,2)*100}%\")\n",
    "print(f\"12  :{round(2321/s,2)*100}%\")\n",
    "print(f\"51  :{round(1678/s,2)*100}%\")"
   ]
  },
  {
   "cell_type": "code",
   "execution_count": 396,
   "id": "ded402db",
   "metadata": {},
   "outputs": [
    {
     "data": {
      "text/plain": [
       "4"
      ]
     },
     "execution_count": 396,
     "metadata": {},
     "output_type": "execute_result"
    }
   ],
   "source": [
    "ctrain['disrict'].nunique()"
   ]
  },
  {
   "cell_type": "code",
   "execution_count": 397,
   "id": "7f7f1e65",
   "metadata": {
    "scrolled": true
   },
   "outputs": [
    {
     "data": {
      "text/plain": [
       "62    40353\n",
       "69    34231\n",
       "60    31922\n",
       "63    28987\n",
       "Name: disrict, dtype: int64"
      ]
     },
     "execution_count": 397,
     "metadata": {},
     "output_type": "execute_result"
    }
   ],
   "source": [
    "ctrain['disrict'].value_counts()"
   ]
  },
  {
   "cell_type": "code",
   "execution_count": 398,
   "id": "e0431582",
   "metadata": {},
   "outputs": [
    {
     "data": {
      "text/plain": [
       "Index(['disrict', 'client_id', 'client_catg', 'region', 'creation_date',\n",
       "       'target'],\n",
       "      dtype='object')"
      ]
     },
     "execution_count": 398,
     "metadata": {},
     "output_type": "execute_result"
    }
   ],
   "source": [
    "ctrain.columns"
   ]
  },
  {
   "cell_type": "code",
   "execution_count": 399,
   "id": "2a99563f",
   "metadata": {},
   "outputs": [
    {
     "data": {
      "image/png": "[encoded data removed]",
      "text/plain": [
       "<Figure size 640x480 with 1 Axes>"
      ]
     },
     "metadata": {},
     "output_type": "display_data"
    }
   ],
   "source": [
    "sns.histplot(data=ctrain, x=\"region\", kde=True);\n",
    "# sns.histplot(data=ctrain, x=\"region\", log_scale=True)"
   ]
  },
  {
   "cell_type": "markdown",
   "id": "da22d842",
   "metadata": {},
   "source": [
    "# 2 EDA  DF"
   ]
  },
  {
   "cell_type": "code",
   "execution_count": 400,
   "id": "045fdbab",
   "metadata": {},
   "outputs": [
    {
     "data": {
      "text/plain": [
       "Index(['client_id', 'invoice_date', 'tarif_type', 'counter_number',\n",
       "       'counter_statue', 'counter_code', 'reading_remarque',\n",
       "       'counter_coefficient', 'consommation_level_1', 'consommation_level_2',\n",
       "       'consommation_level_3', 'consommation_level_4', 'old_index',\n",
       "       'new_index', 'months_number', 'counter_type'],\n",
       "      dtype='object')"
      ]
     },
     "execution_count": 400,
     "metadata": {},
     "output_type": "execute_result"
    }
   ],
   "source": [
    "df.columns"
   ]
  },
  {
   "cell_type": "code",
   "execution_count": 401,
   "id": "10a40ba1",
   "metadata": {},
   "outputs": [
    {
     "data": {
      "text/plain": [
       "('1977-06-09',\n",
       " '2019-12-07',\n",
       " 0    2019-03-09\n",
       " Name: invoice_date, dtype: object)"
      ]
     },
     "execution_count": 401,
     "metadata": {},
     "output_type": "execute_result"
    }
   ],
   "source": [
    "df['invoice_date'].min(), df['invoice_date'].max(), df['invoice_date'].mode()"
   ]
  },
  {
   "cell_type": "code",
   "execution_count": 402,
   "id": "eec148e6",
   "metadata": {},
   "outputs": [
    {
     "data": {
      "text/plain": [
       "count        4476749\n",
       "unique          8275\n",
       "top       2019-03-09\n",
       "freq            4127\n",
       "Name: invoice_date, dtype: object"
      ]
     },
     "execution_count": 402,
     "metadata": {},
     "output_type": "execute_result"
    }
   ],
   "source": [
    "df['invoice_date'].describe()"
   ]
  },
  {
   "cell_type": "markdown",
   "id": "ecb7cc0b",
   "metadata": {},
   "source": [
    "## Tax"
   ]
  },
  {
   "cell_type": "code",
   "execution_count": 403,
   "id": "161f7bea",
   "metadata": {},
   "outputs": [
    {
     "data": {
      "text/plain": [
       "11    2679872\n",
       "40    1379755\n",
       "10     276210\n",
       "15      72422\n",
       "45      17552\n",
       "13      11656\n",
       "14      11611\n",
       "12      11345\n",
       "29      10090\n",
       "9        6039\n",
       "21        104\n",
       "8          43\n",
       "30         35\n",
       "24          9\n",
       "18          4\n",
       "42          1\n",
       "27          1\n",
       "Name: tarif_type, dtype: int64"
      ]
     },
     "execution_count": 403,
     "metadata": {},
     "output_type": "execute_result"
    }
   ],
   "source": [
    "df['tarif_type'].value_counts()"
   ]
  },
  {
   "cell_type": "code",
   "execution_count": 404,
   "id": "15a3f4ad",
   "metadata": {},
   "outputs": [
    {
     "data": {
      "text/plain": [
       "<AxesSubplot:xlabel='tarif_type', ylabel='count'>"
      ]
     },
     "execution_count": 404,
     "metadata": {},
     "output_type": "execute_result"
    },
    {
     "data": {
      "image/png": "[encoded data removed]",
      "text/plain": [
       "<Figure size 1000x500 with 1 Axes>"
      ]
     },
     "metadata": {},
     "output_type": "display_data"
    }
   ],
   "source": [
    "fig ,axis = plt.subplots(figsize=(10,5))\n",
    "sns.countplot(x=\"tarif_type\",# Show count of observations\n",
    "data=df)"
   ]
  },
  {
   "cell_type": "markdown",
   "id": "f7701178",
   "metadata": {},
   "source": [
    "##  df['counter_number ']           "
   ]
  },
  {
   "cell_type": "code",
   "execution_count": 405,
   "id": "3f57f41d",
   "metadata": {
    "scrolled": false
   },
   "outputs": [
    {
     "data": {
      "text/plain": [
       "(0, 27981145458733)"
      ]
     },
     "execution_count": 405,
     "metadata": {},
     "output_type": "execute_result"
    }
   ],
   "source": [
    "df['counter_number'].min(), df['counter_number'].max()"
   ]
  },
  {
   "cell_type": "code",
   "execution_count": 406,
   "id": "b1002cff",
   "metadata": {},
   "outputs": [
    {
     "data": {
      "text/plain": [
       "count    4.476749e+06\n",
       "mean     1.230587e+11\n",
       "std      1.657267e+12\n",
       "min      0.000000e+00\n",
       "25%      1.211080e+05\n",
       "50%      4.945610e+05\n",
       "75%      1.115161e+06\n",
       "max      2.798115e+13\n",
       "Name: counter_number, dtype: float64"
      ]
     },
     "execution_count": 406,
     "metadata": {},
     "output_type": "execute_result"
    }
   ],
   "source": [
    "df['counter_number'].describe()"
   ]
  },
  {
   "cell_type": "markdown",
   "id": "0164f092",
   "metadata": {},
   "source": [
    "# Errore Here"
   ]
  },
  {
   "cell_type": "code",
   "execution_count": 407,
   "id": "8b828d5b",
   "metadata": {},
   "outputs": [
    {
     "name": "stdout",
     "output_type": "stream",
     "text": [
      "Number of Row with counter equal One\n"
     ]
    },
    {
     "data": {
      "text/plain": [
       "23"
      ]
     },
     "execution_count": 407,
     "metadata": {},
     "output_type": "execute_result"
    }
   ],
   "source": [
    "print(f\"Number of Row with counter equal One\")\n",
    "df[df['counter_number']==1]['counter_number'].count()"
   ]
  },
  {
   "cell_type": "code",
   "execution_count": 408,
   "id": "478b3167",
   "metadata": {},
   "outputs": [
    {
     "name": "stdout",
     "output_type": "stream",
     "text": [
      "Number of Row is Greater than One\n"
     ]
    },
    {
     "data": {
      "text/plain": [
       "4433565"
      ]
     },
     "execution_count": 408,
     "metadata": {},
     "output_type": "execute_result"
    }
   ],
   "source": [
    "print(f\"Number of Row is Greater than One\")\n",
    "df[df['counter_number']>1]['counter_number'].count()"
   ]
  },
  {
   "cell_type": "code",
   "execution_count": 409,
   "id": "2850a20d",
   "metadata": {},
   "outputs": [],
   "source": [
    "# # fig ,ax = plt.subplots(figsize=(10,5))\n",
    "# sns.regplot(x=\"counter_statue\", #Plot data and a linear regression\n",
    "# y=\"counter_number\",# model fit\n",
    "# data=df,\n",
    "# ax=ax)"
   ]
  },
  {
   "cell_type": "markdown",
   "id": "af26aab7",
   "metadata": {},
   "source": [
    "## df['counter status']"
   ]
  },
  {
   "cell_type": "code",
   "execution_count": 410,
   "id": "d2e4173b",
   "metadata": {},
   "outputs": [
    {
     "data": {
      "text/plain": [
       "count     4476749\n",
       "unique         12\n",
       "top             0\n",
       "freq      4379008\n",
       "Name: counter_statue, dtype: object"
      ]
     },
     "execution_count": 410,
     "metadata": {},
     "output_type": "execute_result"
    }
   ],
   "source": [
    "df['counter_statue'].describe()"
   ]
  },
  {
   "cell_type": "code",
   "execution_count": 411,
   "id": "1b528eee",
   "metadata": {},
   "outputs": [
    {
     "data": {
      "text/plain": [
       "('0', 'A')"
      ]
     },
     "execution_count": 411,
     "metadata": {},
     "output_type": "execute_result"
    }
   ],
   "source": [
    "df['counter_statue'].min(), df['counter_statue'].max()"
   ]
  },
  {
   "cell_type": "code",
   "execution_count": 412,
   "id": "25fd3246",
   "metadata": {
    "scrolled": true
   },
   "outputs": [
    {
     "data": {
      "text/plain": [
       "0         4379008\n",
       "1           74036\n",
       "5           20639\n",
       "4            2729\n",
       "3             258\n",
       "2              32\n",
       "46             14\n",
       "A              13\n",
       "618            12\n",
       "769             6\n",
       "269375          1\n",
       "420             1\n",
       "Name: counter_statue, dtype: int64"
      ]
     },
     "execution_count": 412,
     "metadata": {},
     "output_type": "execute_result"
    }
   ],
   "source": [
    "df['counter_statue'].value_counts()"
   ]
  },
  {
   "cell_type": "markdown",
   "id": "269a63cc",
   "metadata": {},
   "source": [
    "# df['Counter Code']"
   ]
  },
  {
   "cell_type": "code",
   "execution_count": 413,
   "id": "c8031b40",
   "metadata": {},
   "outputs": [
    {
     "data": {
      "text/plain": [
       "count    4.476749e+06\n",
       "mean     1.724884e+02\n",
       "std      1.338871e+02\n",
       "min      0.000000e+00\n",
       "25%      5.000000e+00\n",
       "50%      2.030000e+02\n",
       "75%      2.070000e+02\n",
       "max      6.000000e+02\n",
       "Name: counter_code, dtype: float64"
      ]
     },
     "execution_count": 413,
     "metadata": {},
     "output_type": "execute_result"
    }
   ],
   "source": [
    "df['counter_code'].describe()"
   ]
  },
  {
   "cell_type": "code",
   "execution_count": 414,
   "id": "fe9bd26f",
   "metadata": {
    "scrolled": true
   },
   "outputs": [
    {
     "data": {
      "text/plain": [
       "(0,\n",
       " 600,\n",
       " 0    203\n",
       " Name: counter_code, dtype: int64)"
      ]
     },
     "execution_count": 414,
     "metadata": {},
     "output_type": "execute_result"
    }
   ],
   "source": [
    "df['counter_code'].min(), df['counter_code'].max(), df['counter_code'].mode()"
   ]
  },
  {
   "cell_type": "code",
   "execution_count": 415,
   "id": "79e884ed",
   "metadata": {},
   "outputs": [
    {
     "data": {
      "text/plain": [
       "203    1516836\n",
       "5      1352035\n",
       "207     555628\n",
       "413     378917\n",
       "202     343251\n",
       "Name: counter_code, dtype: int64"
      ]
     },
     "execution_count": 415,
     "metadata": {},
     "output_type": "execute_result"
    }
   ],
   "source": [
    "df.counter_code.value_counts().head()"
   ]
  },
  {
   "cell_type": "markdown",
   "id": "46f54c96",
   "metadata": {},
   "source": [
    "## df['counter_type']"
   ]
  },
  {
   "cell_type": "code",
   "execution_count": 416,
   "id": "52171aff",
   "metadata": {},
   "outputs": [
    {
     "data": {
      "text/plain": [
       "ELEC    3079406\n",
       "GAZ     1397343\n",
       "Name: counter_type, dtype: int64"
      ]
     },
     "execution_count": 416,
     "metadata": {},
     "output_type": "execute_result"
    }
   ],
   "source": [
    "df['counter_type'].value_counts()"
   ]
  },
  {
   "cell_type": "markdown",
   "id": "c5c5df24",
   "metadata": {},
   "source": [
    "# df['months_number']"
   ]
  },
  {
   "cell_type": "code",
   "execution_count": 417,
   "id": "eb2ea714",
   "metadata": {},
   "outputs": [
    {
     "data": {
      "text/plain": [
       "(0, 636624)"
      ]
     },
     "execution_count": 417,
     "metadata": {},
     "output_type": "execute_result"
    }
   ],
   "source": [
    "df['months_number'].min(), df['months_number'].max()"
   ]
  },
  {
   "cell_type": "markdown",
   "id": "3fa532d3",
   "metadata": {},
   "source": [
    "# Date"
   ]
  },
  {
   "cell_type": "code",
   "execution_count": 418,
   "id": "5223e692",
   "metadata": {},
   "outputs": [
    {
     "name": "stdout",
     "output_type": "stream",
     "text": [
      "the Min of 0 Date: 01/01/1997\n",
      "the Max of 0 Date: 31/12/2018\n",
      "the Min of 1 Date: 01/01/1997\n",
      "the Max of 1 Date: 31/12/2014\n"
     ]
    }
   ],
   "source": [
    "print(f\"the Min of 0 Date: {ctrain[ctrain['target']==0]['creation_date'].min()}\")\n",
    "print(f\"the Max of 0 Date: {ctrain[ctrain['target']==0]['creation_date'].max()}\")\n",
    "\n",
    "print(f\"the Min of 1 Date: {ctrain[ctrain['target']==1]['creation_date'].min()}\")\n",
    "print(f\"the Max of 1 Date: {ctrain[ctrain['target']==1]['creation_date'].max()}\")"
   ]
  },
  {
   "cell_type": "code",
   "execution_count": 419,
   "id": "75606d00",
   "metadata": {},
   "outputs": [
    {
     "data": {
      "text/plain": [
       "count         135493\n",
       "unique          8088\n",
       "top       20/11/1997\n",
       "freq             214\n",
       "Name: creation_date, dtype: object"
      ]
     },
     "execution_count": 419,
     "metadata": {},
     "output_type": "execute_result"
    }
   ],
   "source": [
    "ctrain['creation_date'].describe()"
   ]
  },
  {
   "cell_type": "code",
   "execution_count": 420,
   "id": "9cbc86bf",
   "metadata": {},
   "outputs": [
    {
     "name": "stdout",
     "output_type": "stream",
     "text": [
      "Where a Target Equal 1\n"
     ]
    },
    {
     "data": {
      "text/plain": [
       "count           7566\n",
       "unique          3586\n",
       "top       31/12/2004\n",
       "freq              23\n",
       "Name: creation_date, dtype: object"
      ]
     },
     "execution_count": 420,
     "metadata": {},
     "output_type": "execute_result"
    }
   ],
   "source": [
    "print('Where a Target Equal 1')\n",
    "ctrain[ctrain['target']==1]['creation_date'].describe()"
   ]
  },
  {
   "cell_type": "code",
   "execution_count": 421,
   "id": "3c7df88c",
   "metadata": {
    "scrolled": true
   },
   "outputs": [
    {
     "name": "stdout",
     "output_type": "stream",
     "text": [
      "Where a Target Equal 0\n"
     ]
    },
    {
     "data": {
      "text/plain": [
       "count         127927\n",
       "unique          8056\n",
       "top       20/11/1997\n",
       "freq             199\n",
       "Name: creation_date, dtype: object"
      ]
     },
     "execution_count": 421,
     "metadata": {},
     "output_type": "execute_result"
    }
   ],
   "source": [
    "print('Where a Target Equal 0')\n",
    "ctrain[ctrain['target']==0]['creation_date'].describe()"
   ]
  },
  {
   "cell_type": "code",
   "execution_count": 422,
   "id": "b6308dc7",
   "metadata": {},
   "outputs": [
    {
     "data": {
      "text/plain": [
       "20/11/1997    214\n",
       "31/12/2004    207\n",
       "28/05/2002    191\n",
       "20/11/1996    188\n",
       "31/12/1996    186\n",
       "             ... \n",
       "27/12/2001      1\n",
       "21/01/1985      1\n",
       "15/02/1993      1\n",
       "21/04/1995      1\n",
       "25/05/1978      1\n",
       "Name: creation_date, Length: 8088, dtype: int64"
      ]
     },
     "execution_count": 422,
     "metadata": {},
     "output_type": "execute_result"
    }
   ],
   "source": [
    "ctrain['creation_date'].value_counts()"
   ]
  },
  {
   "cell_type": "code",
   "execution_count": 423,
   "id": "04b8602a",
   "metadata": {},
   "outputs": [
    {
     "data": {
      "text/plain": [
       "(214,\n",
       " 1,\n",
       " 0    1\n",
       " Name: creation_date, dtype: int64)"
      ]
     },
     "execution_count": 423,
     "metadata": {},
     "output_type": "execute_result"
    }
   ],
   "source": [
    "ctrain['creation_date'].value_counts().max(), ctrain['creation_date'].value_counts().min(), ctrain['creation_date'].value_counts().mode()"
   ]
  },
  {
   "cell_type": "code",
   "execution_count": 424,
   "id": "5ebf18fe",
   "metadata": {},
   "outputs": [
    {
     "name": "stdout",
     "output_type": "stream",
     "text": [
      "All Unique Date                     :8088\n",
      "'1' One Date is Frequenced          : 680\n",
      "'>1' More than One is  Frequenced   : 7408\n",
      "'>100' More than 100 is  Frequenced : 39\n"
     ]
    }
   ],
   "source": [
    "print(f\"All Unique Date                     :{ctrain['creation_date'].nunique()}\")\n",
    "print(f\"'1' One Date is Frequenced          : {(ctrain['creation_date'].value_counts()==1).sum()}\")\n",
    "print(f\"'>1' More than One is  Frequenced   : {(ctrain['creation_date'].value_counts()>1).sum()}\")\n",
    "print(f\"'>100' More than 100 is  Frequenced : {(ctrain['creation_date'].value_counts()>100).sum()}\")"
   ]
  },
  {
   "cell_type": "code",
   "execution_count": 425,
   "id": "de600ed8",
   "metadata": {},
   "outputs": [
    {
     "data": {
      "text/plain": [
       "count    8088.000000\n",
       "mean       16.752349\n",
       "std        17.464823\n",
       "min         1.000000\n",
       "25%         5.000000\n",
       "50%        12.000000\n",
       "75%        22.000000\n",
       "max       214.000000\n",
       "Name: creation_date, dtype: float64"
      ]
     },
     "execution_count": 425,
     "metadata": {},
     "output_type": "execute_result"
    }
   ],
   "source": [
    "ctrain['creation_date'].value_counts().describe()"
   ]
  },
  {
   "cell_type": "code",
   "execution_count": 426,
   "id": "b50c754c",
   "metadata": {},
   "outputs": [],
   "source": [
    "# ctrain['creation_date'] = pd.to_datetime(ctrain['creation_date'], format='%Y-%m-%d')\n",
    "ctrain['creation_date'] = pd.to_datetime(ctrain['creation_date'], format='%d/%m/%Y')"
   ]
  },
  {
   "cell_type": "code",
   "execution_count": 427,
   "id": "e29473bb",
   "metadata": {},
   "outputs": [
    {
     "data": {
      "text/plain": [
       "0         1994\n",
       "1         2002\n",
       "2         1986\n",
       "3         1996\n",
       "4         2014\n",
       "          ... \n",
       "135488    2004\n",
       "135489    2012\n",
       "135490    2011\n",
       "135491    1993\n",
       "135492    1986\n",
       "Name: creation_date, Length: 135493, dtype: int64"
      ]
     },
     "execution_count": 427,
     "metadata": {},
     "output_type": "execute_result"
    }
   ],
   "source": [
    "ctrain.creation_date.dt.year"
   ]
  },
  {
   "cell_type": "code",
   "execution_count": 428,
   "id": "a1eee07d",
   "metadata": {},
   "outputs": [],
   "source": [
    "df['invoice_date'] = pd.to_datetime(df['invoice_date'], format='%Y/%m/%d')"
   ]
  },
  {
   "cell_type": "code",
   "execution_count": 429,
   "id": "d5b803f0",
   "metadata": {},
   "outputs": [
    {
     "data": {
      "text/plain": [
       "5     418888\n",
       "2     417463\n",
       "4     409188\n",
       "3     402018\n",
       "1     380355\n",
       "6     366846\n",
       "11    359718\n",
       "7     354866\n",
       "8     352748\n",
       "10    348190\n",
       "9     336636\n",
       "12    329833\n",
       "Name: invoice_date, dtype: int64"
      ]
     },
     "execution_count": 429,
     "metadata": {},
     "output_type": "execute_result"
    }
   ],
   "source": [
    "df['invoice_date'].dt.month.value_counts()"
   ]
  },
  {
   "cell_type": "code",
   "execution_count": 430,
   "id": "fd7f85dc",
   "metadata": {},
   "outputs": [
    {
     "data": {
      "text/plain": [
       "2     183420\n",
       "6     178828\n",
       "5     168919\n",
       "1     166950\n",
       "4     164993\n",
       "9     164261\n",
       "3     162722\n",
       "12    160876\n",
       "10    160624\n",
       "8     159296\n",
       "7     157196\n",
       "16    154812\n",
       "18    151421\n",
       "23    149110\n",
       "11    148550\n",
       "15    148204\n",
       "27    147118\n",
       "24    146253\n",
       "22    146091\n",
       "19    145620\n",
       "17    144442\n",
       "26    142670\n",
       "21    139903\n",
       "28    139381\n",
       "14    139191\n",
       "13    138846\n",
       "25    134648\n",
       "20    129926\n",
       "29    111393\n",
       "30     76003\n",
       "31     15082\n",
       "Name: invoice_date, dtype: int64"
      ]
     },
     "execution_count": 430,
     "metadata": {},
     "output_type": "execute_result"
    }
   ],
   "source": [
    "df['invoice_date'].dt.day.value_counts()"
   ]
  },
  {
   "cell_type": "code",
   "execution_count": 431,
   "id": "9b51e12d",
   "metadata": {},
   "outputs": [
    {
     "data": {
      "text/plain": [
       "<bound method Series.sort_values of 5     418888\n",
       "2     417463\n",
       "4     409188\n",
       "3     402018\n",
       "1     380355\n",
       "6     366846\n",
       "11    359718\n",
       "7     354866\n",
       "8     352748\n",
       "10    348190\n",
       "9     336636\n",
       "12    329833\n",
       "Name: invoice_date, dtype: int64>"
      ]
     },
     "execution_count": 431,
     "metadata": {},
     "output_type": "execute_result"
    }
   ],
   "source": [
    "df['invoice_date'].dt.month.value_counts().sort_values"
   ]
  },
  {
   "cell_type": "code",
   "execution_count": 432,
   "id": "574c747f",
   "metadata": {},
   "outputs": [
    {
     "data": {
      "text/plain": [
       "<bound method Series.sort_values of 2     183420\n",
       "6     178828\n",
       "5     168919\n",
       "1     166950\n",
       "4     164993\n",
       "9     164261\n",
       "3     162722\n",
       "12    160876\n",
       "10    160624\n",
       "8     159296\n",
       "7     157196\n",
       "16    154812\n",
       "18    151421\n",
       "23    149110\n",
       "11    148550\n",
       "15    148204\n",
       "27    147118\n",
       "24    146253\n",
       "22    146091\n",
       "19    145620\n",
       "17    144442\n",
       "26    142670\n",
       "21    139903\n",
       "28    139381\n",
       "14    139191\n",
       "13    138846\n",
       "25    134648\n",
       "20    129926\n",
       "29    111393\n",
       "30     76003\n",
       "31     15082\n",
       "Name: invoice_date, dtype: int64>"
      ]
     },
     "execution_count": 432,
     "metadata": {},
     "output_type": "execute_result"
    }
   ],
   "source": [
    "df['invoice_date'].dt.day.value_counts().sort_values"
   ]
  },
  {
   "cell_type": "code",
   "execution_count": 433,
   "id": "b07db0f0",
   "metadata": {},
   "outputs": [
    {
     "data": {
      "text/plain": [
       "0         2014-03-24\n",
       "1         2013-03-29\n",
       "2         2015-03-23\n",
       "3         2015-07-13\n",
       "4         2016-11-17\n",
       "             ...    \n",
       "4476744   2005-08-19\n",
       "4476745   2005-12-19\n",
       "4476746   1996-09-25\n",
       "4476747   1996-05-28\n",
       "4476748   1996-01-25\n",
       "Name: invoice_date, Length: 4476749, dtype: datetime64[ns]"
      ]
     },
     "execution_count": 433,
     "metadata": {},
     "output_type": "execute_result"
    }
   ],
   "source": [
    "df['invoice_date']"
   ]
  },
  {
   "cell_type": "code",
   "execution_count": 434,
   "id": "e12120ba",
   "metadata": {},
   "outputs": [
    {
     "data": {
      "text/plain": [
       "count    4.476749e+06\n",
       "mean     6.273786e+00\n",
       "std      3.432981e+00\n",
       "min      1.000000e+00\n",
       "25%      3.000000e+00\n",
       "50%      6.000000e+00\n",
       "75%      9.000000e+00\n",
       "max      1.200000e+01\n",
       "Name: invoice_date, dtype: float64"
      ]
     },
     "execution_count": 434,
     "metadata": {},
     "output_type": "execute_result"
    }
   ],
   "source": [
    "(df['invoice_date'].dt.month).describe()"
   ]
  },
  {
   "cell_type": "code",
   "execution_count": 435,
   "id": "98824e0b",
   "metadata": {},
   "outputs": [
    {
     "data": {
      "text/plain": [
       "0    5\n",
       "Name: invoice_date, dtype: int64"
      ]
     },
     "execution_count": 435,
     "metadata": {},
     "output_type": "execute_result"
    }
   ],
   "source": [
    "df['invoice_date'].dt.month.mode()"
   ]
  },
  {
   "cell_type": "code",
   "execution_count": 436,
   "id": "b0a070fd",
   "metadata": {},
   "outputs": [
    {
     "data": {
      "text/plain": [
       "0.10226753478914988"
      ]
     },
     "execution_count": 436,
     "metadata": {},
     "output_type": "execute_result"
    }
   ],
   "source": [
    "(df['invoice_date'].dt.month).skew()"
   ]
  },
  {
   "cell_type": "code",
   "execution_count": 437,
   "id": "cb23029e",
   "metadata": {},
   "outputs": [
    {
     "data": {
      "text/plain": [
       "35"
      ]
     },
     "execution_count": 437,
     "metadata": {},
     "output_type": "execute_result"
    }
   ],
   "source": [
    "len(df[df['client_id']=='train_Client_0'])"
   ]
  },
  {
   "cell_type": "markdown",
   "id": "b3a2fcc0",
   "metadata": {},
   "source": [
    "# DF TEST"
   ]
  },
  {
   "cell_type": "code",
   "execution_count": 438,
   "id": "b205da35",
   "metadata": {},
   "outputs": [],
   "source": [
    "dftest = df[df['client_id']=='train_Client_0']"
   ]
  },
  {
   "cell_type": "code",
   "execution_count": 439,
   "id": "e5f95851",
   "metadata": {},
   "outputs": [
    {
     "name": "stdout",
     "output_type": "stream",
     "text": [
      "<class 'pandas.core.frame.DataFrame'>\n",
      "Int64Index: 35 entries, 0 to 34\n",
      "Data columns (total 16 columns):\n",
      " #   Column                Non-Null Count  Dtype         \n",
      "---  ------                --------------  -----         \n",
      " 0   client_id             35 non-null     object        \n",
      " 1   invoice_date          35 non-null     datetime64[ns]\n",
      " 2   tarif_type            35 non-null     int64         \n",
      " 3   counter_number        35 non-null     int64         \n",
      " 4   counter_statue        35 non-null     object        \n",
      " 5   counter_code          35 non-null     int64         \n",
      " 6   reading_remarque      35 non-null     int64         \n",
      " 7   counter_coefficient   35 non-null     int64         \n",
      " 8   consommation_level_1  35 non-null     int64         \n",
      " 9   consommation_level_2  35 non-null     int64         \n",
      " 10  consommation_level_3  35 non-null     int64         \n",
      " 11  consommation_level_4  35 non-null     int64         \n",
      " 12  old_index             35 non-null     int64         \n",
      " 13  new_index             35 non-null     int64         \n",
      " 14  months_number         35 non-null     int64         \n",
      " 15  counter_type          35 non-null     object        \n",
      "dtypes: datetime64[ns](1), int64(12), object(3)\n",
      "memory usage: 4.6+ KB\n"
     ]
    }
   ],
   "source": [
    "dftest.info()"
   ]
  },
  {
   "cell_type": "code",
   "execution_count": 440,
   "id": "d6ebaabb",
   "metadata": {},
   "outputs": [],
   "source": [
    "# dftest = ctrain[ctrain['client_id']=='train_Client_0']"
   ]
  },
  {
   "cell_type": "code",
   "execution_count": 441,
   "id": "cbb243b5",
   "metadata": {},
   "outputs": [
    {
     "data": {
      "text/html": [
       "<div>\n",
       "<style scoped>\n",
       "    .dataframe tbody tr th:only-of-type {\n",
       "        vertical-align: middle;\n",
       "    }\n",
       "\n",
       "    .dataframe tbody tr th {\n",
       "        vertical-align: top;\n",
       "    }\n",
       "\n",
       "    .dataframe thead th {\n",
       "        text-align: right;\n",
       "    }\n",
       "</style>\n",
       "<table border=\"1\" class=\"dataframe\">\n",
       "  <thead>\n",
       "    <tr style=\"text-align: right;\">\n",
       "      <th></th>\n",
       "      <th>client_id</th>\n",
       "      <th>invoice_date</th>\n",
       "      <th>tarif_type</th>\n",
       "      <th>counter_number</th>\n",
       "      <th>counter_statue</th>\n",
       "      <th>counter_code</th>\n",
       "      <th>reading_remarque</th>\n",
       "      <th>counter_coefficient</th>\n",
       "      <th>consommation_level_1</th>\n",
       "      <th>consommation_level_2</th>\n",
       "      <th>consommation_level_3</th>\n",
       "      <th>consommation_level_4</th>\n",
       "      <th>old_index</th>\n",
       "      <th>new_index</th>\n",
       "      <th>months_number</th>\n",
       "      <th>counter_type</th>\n",
       "    </tr>\n",
       "  </thead>\n",
       "  <tbody>\n",
       "    <tr>\n",
       "      <th>0</th>\n",
       "      <td>train_Client_0</td>\n",
       "      <td>2014-03-24</td>\n",
       "      <td>11</td>\n",
       "      <td>1335667</td>\n",
       "      <td>0</td>\n",
       "      <td>203</td>\n",
       "      <td>8</td>\n",
       "      <td>1</td>\n",
       "      <td>82</td>\n",
       "      <td>0</td>\n",
       "      <td>0</td>\n",
       "      <td>0</td>\n",
       "      <td>14302</td>\n",
       "      <td>14384</td>\n",
       "      <td>4</td>\n",
       "      <td>ELEC</td>\n",
       "    </tr>\n",
       "    <tr>\n",
       "      <th>1</th>\n",
       "      <td>train_Client_0</td>\n",
       "      <td>2013-03-29</td>\n",
       "      <td>11</td>\n",
       "      <td>1335667</td>\n",
       "      <td>0</td>\n",
       "      <td>203</td>\n",
       "      <td>6</td>\n",
       "      <td>1</td>\n",
       "      <td>1200</td>\n",
       "      <td>184</td>\n",
       "      <td>0</td>\n",
       "      <td>0</td>\n",
       "      <td>12294</td>\n",
       "      <td>13678</td>\n",
       "      <td>4</td>\n",
       "      <td>ELEC</td>\n",
       "    </tr>\n",
       "    <tr>\n",
       "      <th>2</th>\n",
       "      <td>train_Client_0</td>\n",
       "      <td>2015-03-23</td>\n",
       "      <td>11</td>\n",
       "      <td>1335667</td>\n",
       "      <td>0</td>\n",
       "      <td>203</td>\n",
       "      <td>8</td>\n",
       "      <td>1</td>\n",
       "      <td>123</td>\n",
       "      <td>0</td>\n",
       "      <td>0</td>\n",
       "      <td>0</td>\n",
       "      <td>14624</td>\n",
       "      <td>14747</td>\n",
       "      <td>4</td>\n",
       "      <td>ELEC</td>\n",
       "    </tr>\n",
       "    <tr>\n",
       "      <th>3</th>\n",
       "      <td>train_Client_0</td>\n",
       "      <td>2015-07-13</td>\n",
       "      <td>11</td>\n",
       "      <td>1335667</td>\n",
       "      <td>0</td>\n",
       "      <td>207</td>\n",
       "      <td>8</td>\n",
       "      <td>1</td>\n",
       "      <td>102</td>\n",
       "      <td>0</td>\n",
       "      <td>0</td>\n",
       "      <td>0</td>\n",
       "      <td>14747</td>\n",
       "      <td>14849</td>\n",
       "      <td>4</td>\n",
       "      <td>ELEC</td>\n",
       "    </tr>\n",
       "    <tr>\n",
       "      <th>4</th>\n",
       "      <td>train_Client_0</td>\n",
       "      <td>2016-11-17</td>\n",
       "      <td>11</td>\n",
       "      <td>1335667</td>\n",
       "      <td>0</td>\n",
       "      <td>207</td>\n",
       "      <td>9</td>\n",
       "      <td>1</td>\n",
       "      <td>572</td>\n",
       "      <td>0</td>\n",
       "      <td>0</td>\n",
       "      <td>0</td>\n",
       "      <td>15066</td>\n",
       "      <td>15638</td>\n",
       "      <td>12</td>\n",
       "      <td>ELEC</td>\n",
       "    </tr>\n",
       "  </tbody>\n",
       "</table>\n",
       "</div>"
      ],
      "text/plain": [
       "        client_id invoice_date  tarif_type  counter_number counter_statue  \\\n",
       "0  train_Client_0   2014-03-24          11         1335667              0   \n",
       "1  train_Client_0   2013-03-29          11         1335667              0   \n",
       "2  train_Client_0   2015-03-23          11         1335667              0   \n",
       "3  train_Client_0   2015-07-13          11         1335667              0   \n",
       "4  train_Client_0   2016-11-17          11         1335667              0   \n",
       "\n",
       "   counter_code  reading_remarque  counter_coefficient  consommation_level_1  \\\n",
       "0           203                 8                    1                    82   \n",
       "1           203                 6                    1                  1200   \n",
       "2           203                 8                    1                   123   \n",
       "3           207                 8                    1                   102   \n",
       "4           207                 9                    1                   572   \n",
       "\n",
       "   consommation_level_2  consommation_level_3  consommation_level_4  \\\n",
       "0                     0                     0                     0   \n",
       "1                   184                     0                     0   \n",
       "2                     0                     0                     0   \n",
       "3                     0                     0                     0   \n",
       "4                     0                     0                     0   \n",
       "\n",
       "   old_index  new_index  months_number counter_type  \n",
       "0      14302      14384              4         ELEC  \n",
       "1      12294      13678              4         ELEC  \n",
       "2      14624      14747              4         ELEC  \n",
       "3      14747      14849              4         ELEC  \n",
       "4      15066      15638             12         ELEC  "
      ]
     },
     "execution_count": 441,
     "metadata": {},
     "output_type": "execute_result"
    }
   ],
   "source": [
    "dftest.head()"
   ]
  },
  {
   "cell_type": "code",
   "execution_count": 442,
   "id": "175f10f6",
   "metadata": {},
   "outputs": [
    {
     "data": {
      "text/html": [
       "<div>\n",
       "<style scoped>\n",
       "    .dataframe tbody tr th:only-of-type {\n",
       "        vertical-align: middle;\n",
       "    }\n",
       "\n",
       "    .dataframe tbody tr th {\n",
       "        vertical-align: top;\n",
       "    }\n",
       "\n",
       "    .dataframe thead th {\n",
       "        text-align: right;\n",
       "    }\n",
       "</style>\n",
       "<table border=\"1\" class=\"dataframe\">\n",
       "  <thead>\n",
       "    <tr style=\"text-align: right;\">\n",
       "      <th></th>\n",
       "      <th>disrict</th>\n",
       "      <th>client_id</th>\n",
       "      <th>client_catg</th>\n",
       "      <th>region</th>\n",
       "      <th>creation_date</th>\n",
       "      <th>target</th>\n",
       "    </tr>\n",
       "  </thead>\n",
       "  <tbody>\n",
       "    <tr>\n",
       "      <th>0</th>\n",
       "      <td>60</td>\n",
       "      <td>train_Client_0</td>\n",
       "      <td>11</td>\n",
       "      <td>101</td>\n",
       "      <td>1994-12-31</td>\n",
       "      <td>0.0</td>\n",
       "    </tr>\n",
       "  </tbody>\n",
       "</table>\n",
       "</div>"
      ],
      "text/plain": [
       "   disrict       client_id  client_catg  region creation_date  target\n",
       "0       60  train_Client_0           11     101    1994-12-31     0.0"
      ]
     },
     "execution_count": 442,
     "metadata": {},
     "output_type": "execute_result"
    }
   ],
   "source": [
    "ctrain[ctrain['client_id']=='train_Client_0']"
   ]
  },
  {
   "cell_type": "markdown",
   "id": "15260be4",
   "metadata": {},
   "source": [
    "# Concatinate the Data se in one data"
   ]
  },
  {
   "cell_type": "code",
   "execution_count": 443,
   "id": "f1579cd4",
   "metadata": {},
   "outputs": [
    {
     "data": {
      "text/plain": [
       "client_id                1\n",
       "invoice_date            35\n",
       "tarif_type               1\n",
       "counter_number           1\n",
       "counter_statue           1\n",
       "counter_code             2\n",
       "reading_remarque         3\n",
       "counter_coefficient      1\n",
       "consommation_level_1    32\n",
       "consommation_level_2     3\n",
       "consommation_level_3     1\n",
       "consommation_level_4     1\n",
       "old_index               35\n",
       "new_index               35\n",
       "months_number            4\n",
       "counter_type             1\n",
       "dtype: int64"
      ]
     },
     "execution_count": 443,
     "metadata": {},
     "output_type": "execute_result"
    }
   ],
   "source": [
    "dftest.nunique()"
   ]
  },
  {
   "cell_type": "code",
   "execution_count": 444,
   "id": "e06615c5",
   "metadata": {
    "scrolled": false
   },
   "outputs": [
    {
     "data": {
      "text/html": [
       "<div>\n",
       "<style scoped>\n",
       "    .dataframe tbody tr th:only-of-type {\n",
       "        vertical-align: middle;\n",
       "    }\n",
       "\n",
       "    .dataframe tbody tr th {\n",
       "        vertical-align: top;\n",
       "    }\n",
       "\n",
       "    .dataframe thead th {\n",
       "        text-align: right;\n",
       "    }\n",
       "</style>\n",
       "<table border=\"1\" class=\"dataframe\">\n",
       "  <thead>\n",
       "    <tr style=\"text-align: right;\">\n",
       "      <th></th>\n",
       "      <th>disrict</th>\n",
       "      <th>client_id</th>\n",
       "      <th>client_catg</th>\n",
       "      <th>region</th>\n",
       "      <th>creation_date</th>\n",
       "      <th>target</th>\n",
       "    </tr>\n",
       "  </thead>\n",
       "  <tbody>\n",
       "    <tr>\n",
       "      <th>41</th>\n",
       "      <td>63</td>\n",
       "      <td>train_Client_100032</td>\n",
       "      <td>11</td>\n",
       "      <td>308</td>\n",
       "      <td>2012-11-07</td>\n",
       "      <td>1.0</td>\n",
       "    </tr>\n",
       "    <tr>\n",
       "      <th>46</th>\n",
       "      <td>62</td>\n",
       "      <td>train_Client_100037</td>\n",
       "      <td>11</td>\n",
       "      <td>307</td>\n",
       "      <td>2009-09-16</td>\n",
       "      <td>1.0</td>\n",
       "    </tr>\n",
       "    <tr>\n",
       "      <th>97</th>\n",
       "      <td>69</td>\n",
       "      <td>train_Client_100083</td>\n",
       "      <td>11</td>\n",
       "      <td>107</td>\n",
       "      <td>1982-10-26</td>\n",
       "      <td>1.0</td>\n",
       "    </tr>\n",
       "    <tr>\n",
       "      <th>106</th>\n",
       "      <td>60</td>\n",
       "      <td>train_Client_100091</td>\n",
       "      <td>11</td>\n",
       "      <td>101</td>\n",
       "      <td>2011-02-22</td>\n",
       "      <td>1.0</td>\n",
       "    </tr>\n",
       "    <tr>\n",
       "      <th>126</th>\n",
       "      <td>63</td>\n",
       "      <td>train_Client_100109</td>\n",
       "      <td>11</td>\n",
       "      <td>312</td>\n",
       "      <td>1990-12-27</td>\n",
       "      <td>1.0</td>\n",
       "    </tr>\n",
       "    <tr>\n",
       "      <th>...</th>\n",
       "      <td>...</td>\n",
       "      <td>...</td>\n",
       "      <td>...</td>\n",
       "      <td>...</td>\n",
       "      <td>...</td>\n",
       "      <td>...</td>\n",
       "    </tr>\n",
       "    <tr>\n",
       "      <th>135407</th>\n",
       "      <td>69</td>\n",
       "      <td>train_Client_99921</td>\n",
       "      <td>11</td>\n",
       "      <td>103</td>\n",
       "      <td>2016-05-06</td>\n",
       "      <td>1.0</td>\n",
       "    </tr>\n",
       "    <tr>\n",
       "      <th>135435</th>\n",
       "      <td>69</td>\n",
       "      <td>train_Client_99947</td>\n",
       "      <td>12</td>\n",
       "      <td>103</td>\n",
       "      <td>2006-11-17</td>\n",
       "      <td>1.0</td>\n",
       "    </tr>\n",
       "    <tr>\n",
       "      <th>135443</th>\n",
       "      <td>62</td>\n",
       "      <td>train_Client_99954</td>\n",
       "      <td>11</td>\n",
       "      <td>310</td>\n",
       "      <td>1987-06-23</td>\n",
       "      <td>1.0</td>\n",
       "    </tr>\n",
       "    <tr>\n",
       "      <th>135472</th>\n",
       "      <td>69</td>\n",
       "      <td>train_Client_99980</td>\n",
       "      <td>11</td>\n",
       "      <td>103</td>\n",
       "      <td>2013-06-03</td>\n",
       "      <td>1.0</td>\n",
       "    </tr>\n",
       "    <tr>\n",
       "      <th>135474</th>\n",
       "      <td>63</td>\n",
       "      <td>train_Client_99982</td>\n",
       "      <td>11</td>\n",
       "      <td>379</td>\n",
       "      <td>1995-11-21</td>\n",
       "      <td>1.0</td>\n",
       "    </tr>\n",
       "  </tbody>\n",
       "</table>\n",
       "<p>7566 rows × 6 columns</p>\n",
       "</div>"
      ],
      "text/plain": [
       "        disrict            client_id  client_catg  region creation_date  \\\n",
       "41           63  train_Client_100032           11     308    2012-11-07   \n",
       "46           62  train_Client_100037           11     307    2009-09-16   \n",
       "97           69  train_Client_100083           11     107    1982-10-26   \n",
       "106          60  train_Client_100091           11     101    2011-02-22   \n",
       "126          63  train_Client_100109           11     312    1990-12-27   \n",
       "...         ...                  ...          ...     ...           ...   \n",
       "135407       69   train_Client_99921           11     103    2016-05-06   \n",
       "135435       69   train_Client_99947           12     103    2006-11-17   \n",
       "135443       62   train_Client_99954           11     310    1987-06-23   \n",
       "135472       69   train_Client_99980           11     103    2013-06-03   \n",
       "135474       63   train_Client_99982           11     379    1995-11-21   \n",
       "\n",
       "        target  \n",
       "41         1.0  \n",
       "46         1.0  \n",
       "97         1.0  \n",
       "106        1.0  \n",
       "126        1.0  \n",
       "...        ...  \n",
       "135407     1.0  \n",
       "135435     1.0  \n",
       "135443     1.0  \n",
       "135472     1.0  \n",
       "135474     1.0  \n",
       "\n",
       "[7566 rows x 6 columns]"
      ]
     },
     "execution_count": 444,
     "metadata": {},
     "output_type": "execute_result"
    }
   ],
   "source": [
    "ctrain[ctrain['target']==1]"
   ]
  },
  {
   "cell_type": "code",
   "execution_count": 445,
   "id": "4ac4b0e9",
   "metadata": {},
   "outputs": [
    {
     "data": {
      "text/html": [
       "<div>\n",
       "<style scoped>\n",
       "    .dataframe tbody tr th:only-of-type {\n",
       "        vertical-align: middle;\n",
       "    }\n",
       "\n",
       "    .dataframe tbody tr th {\n",
       "        vertical-align: top;\n",
       "    }\n",
       "\n",
       "    .dataframe thead th {\n",
       "        text-align: right;\n",
       "    }\n",
       "</style>\n",
       "<table border=\"1\" class=\"dataframe\">\n",
       "  <thead>\n",
       "    <tr style=\"text-align: right;\">\n",
       "      <th></th>\n",
       "      <th>disrict</th>\n",
       "      <th>client_id</th>\n",
       "      <th>client_catg</th>\n",
       "      <th>region</th>\n",
       "      <th>creation_date</th>\n",
       "      <th>target</th>\n",
       "    </tr>\n",
       "  </thead>\n",
       "  <tbody>\n",
       "    <tr>\n",
       "      <th>0</th>\n",
       "      <td>60</td>\n",
       "      <td>train_Client_0</td>\n",
       "      <td>11</td>\n",
       "      <td>101</td>\n",
       "      <td>1994-12-31</td>\n",
       "      <td>0.0</td>\n",
       "    </tr>\n",
       "    <tr>\n",
       "      <th>1</th>\n",
       "      <td>69</td>\n",
       "      <td>train_Client_1</td>\n",
       "      <td>11</td>\n",
       "      <td>107</td>\n",
       "      <td>2002-05-29</td>\n",
       "      <td>0.0</td>\n",
       "    </tr>\n",
       "    <tr>\n",
       "      <th>2</th>\n",
       "      <td>62</td>\n",
       "      <td>train_Client_10</td>\n",
       "      <td>11</td>\n",
       "      <td>301</td>\n",
       "      <td>1986-03-13</td>\n",
       "      <td>0.0</td>\n",
       "    </tr>\n",
       "    <tr>\n",
       "      <th>3</th>\n",
       "      <td>69</td>\n",
       "      <td>train_Client_100</td>\n",
       "      <td>11</td>\n",
       "      <td>105</td>\n",
       "      <td>1996-07-11</td>\n",
       "      <td>0.0</td>\n",
       "    </tr>\n",
       "    <tr>\n",
       "      <th>4</th>\n",
       "      <td>62</td>\n",
       "      <td>train_Client_1000</td>\n",
       "      <td>11</td>\n",
       "      <td>303</td>\n",
       "      <td>2014-10-14</td>\n",
       "      <td>0.0</td>\n",
       "    </tr>\n",
       "    <tr>\n",
       "      <th>...</th>\n",
       "      <td>...</td>\n",
       "      <td>...</td>\n",
       "      <td>...</td>\n",
       "      <td>...</td>\n",
       "      <td>...</td>\n",
       "      <td>...</td>\n",
       "    </tr>\n",
       "    <tr>\n",
       "      <th>135488</th>\n",
       "      <td>62</td>\n",
       "      <td>train_Client_99995</td>\n",
       "      <td>11</td>\n",
       "      <td>304</td>\n",
       "      <td>2004-07-26</td>\n",
       "      <td>0.0</td>\n",
       "    </tr>\n",
       "    <tr>\n",
       "      <th>135489</th>\n",
       "      <td>63</td>\n",
       "      <td>train_Client_99996</td>\n",
       "      <td>11</td>\n",
       "      <td>311</td>\n",
       "      <td>2012-10-25</td>\n",
       "      <td>0.0</td>\n",
       "    </tr>\n",
       "    <tr>\n",
       "      <th>135490</th>\n",
       "      <td>63</td>\n",
       "      <td>train_Client_99997</td>\n",
       "      <td>11</td>\n",
       "      <td>311</td>\n",
       "      <td>2011-11-22</td>\n",
       "      <td>0.0</td>\n",
       "    </tr>\n",
       "    <tr>\n",
       "      <th>135491</th>\n",
       "      <td>60</td>\n",
       "      <td>train_Client_99998</td>\n",
       "      <td>11</td>\n",
       "      <td>101</td>\n",
       "      <td>1993-12-22</td>\n",
       "      <td>0.0</td>\n",
       "    </tr>\n",
       "    <tr>\n",
       "      <th>135492</th>\n",
       "      <td>60</td>\n",
       "      <td>train_Client_99999</td>\n",
       "      <td>11</td>\n",
       "      <td>101</td>\n",
       "      <td>1986-02-18</td>\n",
       "      <td>0.0</td>\n",
       "    </tr>\n",
       "  </tbody>\n",
       "</table>\n",
       "<p>127927 rows × 6 columns</p>\n",
       "</div>"
      ],
      "text/plain": [
       "        disrict           client_id  client_catg  region creation_date  target\n",
       "0            60      train_Client_0           11     101    1994-12-31     0.0\n",
       "1            69      train_Client_1           11     107    2002-05-29     0.0\n",
       "2            62     train_Client_10           11     301    1986-03-13     0.0\n",
       "3            69    train_Client_100           11     105    1996-07-11     0.0\n",
       "4            62   train_Client_1000           11     303    2014-10-14     0.0\n",
       "...         ...                 ...          ...     ...           ...     ...\n",
       "135488       62  train_Client_99995           11     304    2004-07-26     0.0\n",
       "135489       63  train_Client_99996           11     311    2012-10-25     0.0\n",
       "135490       63  train_Client_99997           11     311    2011-11-22     0.0\n",
       "135491       60  train_Client_99998           11     101    1993-12-22     0.0\n",
       "135492       60  train_Client_99999           11     101    1986-02-18     0.0\n",
       "\n",
       "[127927 rows x 6 columns]"
      ]
     },
     "execution_count": 445,
     "metadata": {},
     "output_type": "execute_result"
    }
   ],
   "source": [
    "ctrain[ctrain['target']==0]"
   ]
  },
  {
   "cell_type": "code",
   "execution_count": 446,
   "id": "60b2b803",
   "metadata": {},
   "outputs": [
    {
     "data": {
      "text/html": [
       "<div>\n",
       "<style scoped>\n",
       "    .dataframe tbody tr th:only-of-type {\n",
       "        vertical-align: middle;\n",
       "    }\n",
       "\n",
       "    .dataframe tbody tr th {\n",
       "        vertical-align: top;\n",
       "    }\n",
       "\n",
       "    .dataframe thead th {\n",
       "        text-align: right;\n",
       "    }\n",
       "</style>\n",
       "<table border=\"1\" class=\"dataframe\">\n",
       "  <thead>\n",
       "    <tr style=\"text-align: right;\">\n",
       "      <th></th>\n",
       "      <th>disrict</th>\n",
       "      <th>client_id</th>\n",
       "      <th>client_catg</th>\n",
       "      <th>region</th>\n",
       "      <th>creation_date</th>\n",
       "      <th>target</th>\n",
       "    </tr>\n",
       "  </thead>\n",
       "  <tbody>\n",
       "    <tr>\n",
       "      <th>41</th>\n",
       "      <td>63</td>\n",
       "      <td>train_Client_100032</td>\n",
       "      <td>11</td>\n",
       "      <td>308</td>\n",
       "      <td>2012-11-07</td>\n",
       "      <td>1.0</td>\n",
       "    </tr>\n",
       "  </tbody>\n",
       "</table>\n",
       "</div>"
      ],
      "text/plain": [
       "    disrict            client_id  client_catg  region creation_date  target\n",
       "41       63  train_Client_100032           11     308    2012-11-07     1.0"
      ]
     },
     "execution_count": 446,
     "metadata": {},
     "output_type": "execute_result"
    }
   ],
   "source": [
    "ctrain[ctrain['client_id']=='train_Client_100032']"
   ]
  },
  {
   "cell_type": "code",
   "execution_count": 447,
   "id": "0dad9b03",
   "metadata": {},
   "outputs": [
    {
     "data": {
      "text/html": [
       "<div>\n",
       "<style scoped>\n",
       "    .dataframe tbody tr th:only-of-type {\n",
       "        vertical-align: middle;\n",
       "    }\n",
       "\n",
       "    .dataframe tbody tr th {\n",
       "        vertical-align: top;\n",
       "    }\n",
       "\n",
       "    .dataframe thead th {\n",
       "        text-align: right;\n",
       "    }\n",
       "</style>\n",
       "<table border=\"1\" class=\"dataframe\">\n",
       "  <thead>\n",
       "    <tr style=\"text-align: right;\">\n",
       "      <th></th>\n",
       "      <th>disrict</th>\n",
       "      <th>client_id</th>\n",
       "      <th>client_catg</th>\n",
       "      <th>region</th>\n",
       "      <th>creation_date</th>\n",
       "      <th>target</th>\n",
       "    </tr>\n",
       "  </thead>\n",
       "  <tbody>\n",
       "    <tr>\n",
       "      <th>0</th>\n",
       "      <td>60</td>\n",
       "      <td>train_Client_0</td>\n",
       "      <td>11</td>\n",
       "      <td>101</td>\n",
       "      <td>1994-12-31</td>\n",
       "      <td>0.0</td>\n",
       "    </tr>\n",
       "  </tbody>\n",
       "</table>\n",
       "</div>"
      ],
      "text/plain": [
       "   disrict       client_id  client_catg  region creation_date  target\n",
       "0       60  train_Client_0           11     101    1994-12-31     0.0"
      ]
     },
     "execution_count": 447,
     "metadata": {},
     "output_type": "execute_result"
    }
   ],
   "source": [
    "ctrain[ctrain['client_id']=='train_Client_0']"
   ]
  },
  {
   "cell_type": "code",
   "execution_count": 448,
   "id": "bd553141",
   "metadata": {},
   "outputs": [
    {
     "data": {
      "text/plain": [
       "(Timestamp('1977-02-05 00:00:00'), Timestamp('2019-09-10 00:00:00'))"
      ]
     },
     "execution_count": 448,
     "metadata": {},
     "output_type": "execute_result"
    }
   ],
   "source": [
    "ctrain[ctrain['target']==0]['creation_date'].min(), ctrain[ctrain['target']==0]['creation_date'].max()"
   ]
  },
  {
   "cell_type": "code",
   "execution_count": 449,
   "id": "b87ff367",
   "metadata": {},
   "outputs": [
    {
     "data": {
      "text/plain": [
       "(Timestamp('1977-02-05 00:00:00'), Timestamp('2019-05-30 00:00:00'))"
      ]
     },
     "execution_count": 449,
     "metadata": {},
     "output_type": "execute_result"
    }
   ],
   "source": [
    "ctrain[ctrain['target']==1]['creation_date'].min(), ctrain[ctrain['target']==1]['creation_date'].max()"
   ]
  },
  {
   "cell_type": "code",
   "execution_count": 450,
   "id": "b347e1bb",
   "metadata": {},
   "outputs": [
    {
     "data": {
      "text/plain": [
       "(0   1997-11-20\n",
       " Name: creation_date, dtype: datetime64[ns],\n",
       " 0   2004-12-31\n",
       " Name: creation_date, dtype: datetime64[ns])"
      ]
     },
     "execution_count": 450,
     "metadata": {},
     "output_type": "execute_result"
    }
   ],
   "source": [
    "ctrain[ctrain['target']==0]['creation_date'].mode(), ctrain[ctrain['target']==1]['creation_date'].mode()"
   ]
  },
  {
   "cell_type": "code",
   "execution_count": 451,
   "id": "8ae4712c",
   "metadata": {},
   "outputs": [
    {
     "data": {
      "text/html": [
       "<div>\n",
       "<style scoped>\n",
       "    .dataframe tbody tr th:only-of-type {\n",
       "        vertical-align: middle;\n",
       "    }\n",
       "\n",
       "    .dataframe tbody tr th {\n",
       "        vertical-align: top;\n",
       "    }\n",
       "\n",
       "    .dataframe thead th {\n",
       "        text-align: right;\n",
       "    }\n",
       "</style>\n",
       "<table border=\"1\" class=\"dataframe\">\n",
       "  <thead>\n",
       "    <tr style=\"text-align: right;\">\n",
       "      <th></th>\n",
       "      <th>disrict</th>\n",
       "      <th>client_id</th>\n",
       "      <th>client_catg</th>\n",
       "      <th>region</th>\n",
       "      <th>creation_date</th>\n",
       "      <th>target</th>\n",
       "    </tr>\n",
       "  </thead>\n",
       "  <tbody>\n",
       "    <tr>\n",
       "      <th>27</th>\n",
       "      <td>63</td>\n",
       "      <td>train_Client_10002</td>\n",
       "      <td>11</td>\n",
       "      <td>311</td>\n",
       "      <td>1997-11-20</td>\n",
       "      <td>0.0</td>\n",
       "    </tr>\n",
       "    <tr>\n",
       "      <th>696</th>\n",
       "      <td>63</td>\n",
       "      <td>train_Client_100622</td>\n",
       "      <td>51</td>\n",
       "      <td>312</td>\n",
       "      <td>1997-11-20</td>\n",
       "      <td>0.0</td>\n",
       "    </tr>\n",
       "    <tr>\n",
       "      <th>1287</th>\n",
       "      <td>62</td>\n",
       "      <td>train_Client_101154</td>\n",
       "      <td>11</td>\n",
       "      <td>302</td>\n",
       "      <td>1997-11-20</td>\n",
       "      <td>0.0</td>\n",
       "    </tr>\n",
       "    <tr>\n",
       "      <th>1894</th>\n",
       "      <td>62</td>\n",
       "      <td>train_Client_101700</td>\n",
       "      <td>11</td>\n",
       "      <td>304</td>\n",
       "      <td>1997-11-20</td>\n",
       "      <td>0.0</td>\n",
       "    </tr>\n",
       "    <tr>\n",
       "      <th>2222</th>\n",
       "      <td>63</td>\n",
       "      <td>train_Client_101997</td>\n",
       "      <td>11</td>\n",
       "      <td>372</td>\n",
       "      <td>1997-11-20</td>\n",
       "      <td>0.0</td>\n",
       "    </tr>\n",
       "    <tr>\n",
       "      <th>...</th>\n",
       "      <td>...</td>\n",
       "      <td>...</td>\n",
       "      <td>...</td>\n",
       "      <td>...</td>\n",
       "      <td>...</td>\n",
       "      <td>...</td>\n",
       "    </tr>\n",
       "    <tr>\n",
       "      <th>133033</th>\n",
       "      <td>62</td>\n",
       "      <td>train_Client_97785</td>\n",
       "      <td>11</td>\n",
       "      <td>301</td>\n",
       "      <td>1997-11-20</td>\n",
       "      <td>0.0</td>\n",
       "    </tr>\n",
       "    <tr>\n",
       "      <th>133607</th>\n",
       "      <td>63</td>\n",
       "      <td>train_Client_98300</td>\n",
       "      <td>11</td>\n",
       "      <td>311</td>\n",
       "      <td>1997-11-20</td>\n",
       "      <td>0.0</td>\n",
       "    </tr>\n",
       "    <tr>\n",
       "      <th>134015</th>\n",
       "      <td>63</td>\n",
       "      <td>train_Client_98669</td>\n",
       "      <td>11</td>\n",
       "      <td>311</td>\n",
       "      <td>1997-11-20</td>\n",
       "      <td>0.0</td>\n",
       "    </tr>\n",
       "    <tr>\n",
       "      <th>134526</th>\n",
       "      <td>62</td>\n",
       "      <td>train_Client_99128</td>\n",
       "      <td>11</td>\n",
       "      <td>304</td>\n",
       "      <td>1997-11-20</td>\n",
       "      <td>0.0</td>\n",
       "    </tr>\n",
       "    <tr>\n",
       "      <th>134690</th>\n",
       "      <td>63</td>\n",
       "      <td>train_Client_99276</td>\n",
       "      <td>11</td>\n",
       "      <td>311</td>\n",
       "      <td>1997-11-20</td>\n",
       "      <td>1.0</td>\n",
       "    </tr>\n",
       "  </tbody>\n",
       "</table>\n",
       "<p>214 rows × 6 columns</p>\n",
       "</div>"
      ],
      "text/plain": [
       "        disrict            client_id  client_catg  region creation_date  \\\n",
       "27           63   train_Client_10002           11     311    1997-11-20   \n",
       "696          63  train_Client_100622           51     312    1997-11-20   \n",
       "1287         62  train_Client_101154           11     302    1997-11-20   \n",
       "1894         62  train_Client_101700           11     304    1997-11-20   \n",
       "2222         63  train_Client_101997           11     372    1997-11-20   \n",
       "...         ...                  ...          ...     ...           ...   \n",
       "133033       62   train_Client_97785           11     301    1997-11-20   \n",
       "133607       63   train_Client_98300           11     311    1997-11-20   \n",
       "134015       63   train_Client_98669           11     311    1997-11-20   \n",
       "134526       62   train_Client_99128           11     304    1997-11-20   \n",
       "134690       63   train_Client_99276           11     311    1997-11-20   \n",
       "\n",
       "        target  \n",
       "27         0.0  \n",
       "696        0.0  \n",
       "1287       0.0  \n",
       "1894       0.0  \n",
       "2222       0.0  \n",
       "...        ...  \n",
       "133033     0.0  \n",
       "133607     0.0  \n",
       "134015     0.0  \n",
       "134526     0.0  \n",
       "134690     1.0  \n",
       "\n",
       "[214 rows x 6 columns]"
      ]
     },
     "execution_count": 451,
     "metadata": {},
     "output_type": "execute_result"
    }
   ],
   "source": [
    "ctrain[ctrain['creation_date']=='1997-11-20']"
   ]
  },
  {
   "cell_type": "code",
   "execution_count": 452,
   "id": "26da2d25",
   "metadata": {},
   "outputs": [
    {
     "data": {
      "text/html": [
       "<div>\n",
       "<style scoped>\n",
       "    .dataframe tbody tr th:only-of-type {\n",
       "        vertical-align: middle;\n",
       "    }\n",
       "\n",
       "    .dataframe tbody tr th {\n",
       "        vertical-align: top;\n",
       "    }\n",
       "\n",
       "    .dataframe thead th {\n",
       "        text-align: right;\n",
       "    }\n",
       "</style>\n",
       "<table border=\"1\" class=\"dataframe\">\n",
       "  <thead>\n",
       "    <tr style=\"text-align: right;\">\n",
       "      <th></th>\n",
       "      <th>disrict</th>\n",
       "      <th>client_id</th>\n",
       "      <th>client_catg</th>\n",
       "      <th>region</th>\n",
       "      <th>creation_date</th>\n",
       "      <th>target</th>\n",
       "    </tr>\n",
       "  </thead>\n",
       "  <tbody>\n",
       "    <tr>\n",
       "      <th>13737</th>\n",
       "      <td>63</td>\n",
       "      <td>train_Client_11236</td>\n",
       "      <td>11</td>\n",
       "      <td>311</td>\n",
       "      <td>1997-11-20</td>\n",
       "      <td>1.0</td>\n",
       "    </tr>\n",
       "    <tr>\n",
       "      <th>26580</th>\n",
       "      <td>62</td>\n",
       "      <td>train_Client_123919</td>\n",
       "      <td>11</td>\n",
       "      <td>310</td>\n",
       "      <td>1997-11-20</td>\n",
       "      <td>1.0</td>\n",
       "    </tr>\n",
       "    <tr>\n",
       "      <th>32297</th>\n",
       "      <td>62</td>\n",
       "      <td>train_Client_129064</td>\n",
       "      <td>11</td>\n",
       "      <td>304</td>\n",
       "      <td>1997-11-20</td>\n",
       "      <td>1.0</td>\n",
       "    </tr>\n",
       "    <tr>\n",
       "      <th>32837</th>\n",
       "      <td>63</td>\n",
       "      <td>train_Client_129550</td>\n",
       "      <td>11</td>\n",
       "      <td>312</td>\n",
       "      <td>1997-11-20</td>\n",
       "      <td>1.0</td>\n",
       "    </tr>\n",
       "    <tr>\n",
       "      <th>40704</th>\n",
       "      <td>63</td>\n",
       "      <td>train_Client_14688</td>\n",
       "      <td>11</td>\n",
       "      <td>306</td>\n",
       "      <td>1997-11-20</td>\n",
       "      <td>1.0</td>\n",
       "    </tr>\n",
       "    <tr>\n",
       "      <th>51021</th>\n",
       "      <td>63</td>\n",
       "      <td>train_Client_23973</td>\n",
       "      <td>11</td>\n",
       "      <td>311</td>\n",
       "      <td>1997-11-20</td>\n",
       "      <td>1.0</td>\n",
       "    </tr>\n",
       "    <tr>\n",
       "      <th>60363</th>\n",
       "      <td>63</td>\n",
       "      <td>train_Client_32380</td>\n",
       "      <td>11</td>\n",
       "      <td>311</td>\n",
       "      <td>1997-11-20</td>\n",
       "      <td>1.0</td>\n",
       "    </tr>\n",
       "    <tr>\n",
       "      <th>65013</th>\n",
       "      <td>63</td>\n",
       "      <td>train_Client_36566</td>\n",
       "      <td>11</td>\n",
       "      <td>311</td>\n",
       "      <td>1997-11-20</td>\n",
       "      <td>1.0</td>\n",
       "    </tr>\n",
       "    <tr>\n",
       "      <th>70691</th>\n",
       "      <td>63</td>\n",
       "      <td>train_Client_41676</td>\n",
       "      <td>51</td>\n",
       "      <td>313</td>\n",
       "      <td>1997-11-20</td>\n",
       "      <td>1.0</td>\n",
       "    </tr>\n",
       "    <tr>\n",
       "      <th>72551</th>\n",
       "      <td>63</td>\n",
       "      <td>train_Client_4335</td>\n",
       "      <td>11</td>\n",
       "      <td>311</td>\n",
       "      <td>1997-11-20</td>\n",
       "      <td>1.0</td>\n",
       "    </tr>\n",
       "    <tr>\n",
       "      <th>87608</th>\n",
       "      <td>62</td>\n",
       "      <td>train_Client_56901</td>\n",
       "      <td>11</td>\n",
       "      <td>304</td>\n",
       "      <td>1997-11-20</td>\n",
       "      <td>1.0</td>\n",
       "    </tr>\n",
       "    <tr>\n",
       "      <th>98527</th>\n",
       "      <td>63</td>\n",
       "      <td>train_Client_66729</td>\n",
       "      <td>11</td>\n",
       "      <td>312</td>\n",
       "      <td>1997-11-20</td>\n",
       "      <td>1.0</td>\n",
       "    </tr>\n",
       "    <tr>\n",
       "      <th>102541</th>\n",
       "      <td>63</td>\n",
       "      <td>train_Client_70340</td>\n",
       "      <td>11</td>\n",
       "      <td>311</td>\n",
       "      <td>1997-11-20</td>\n",
       "      <td>1.0</td>\n",
       "    </tr>\n",
       "    <tr>\n",
       "      <th>110545</th>\n",
       "      <td>62</td>\n",
       "      <td>train_Client_77545</td>\n",
       "      <td>11</td>\n",
       "      <td>304</td>\n",
       "      <td>1997-11-20</td>\n",
       "      <td>1.0</td>\n",
       "    </tr>\n",
       "    <tr>\n",
       "      <th>134690</th>\n",
       "      <td>63</td>\n",
       "      <td>train_Client_99276</td>\n",
       "      <td>11</td>\n",
       "      <td>311</td>\n",
       "      <td>1997-11-20</td>\n",
       "      <td>1.0</td>\n",
       "    </tr>\n",
       "  </tbody>\n",
       "</table>\n",
       "</div>"
      ],
      "text/plain": [
       "        disrict            client_id  client_catg  region creation_date  \\\n",
       "13737        63   train_Client_11236           11     311    1997-11-20   \n",
       "26580        62  train_Client_123919           11     310    1997-11-20   \n",
       "32297        62  train_Client_129064           11     304    1997-11-20   \n",
       "32837        63  train_Client_129550           11     312    1997-11-20   \n",
       "40704        63   train_Client_14688           11     306    1997-11-20   \n",
       "51021        63   train_Client_23973           11     311    1997-11-20   \n",
       "60363        63   train_Client_32380           11     311    1997-11-20   \n",
       "65013        63   train_Client_36566           11     311    1997-11-20   \n",
       "70691        63   train_Client_41676           51     313    1997-11-20   \n",
       "72551        63    train_Client_4335           11     311    1997-11-20   \n",
       "87608        62   train_Client_56901           11     304    1997-11-20   \n",
       "98527        63   train_Client_66729           11     312    1997-11-20   \n",
       "102541       63   train_Client_70340           11     311    1997-11-20   \n",
       "110545       62   train_Client_77545           11     304    1997-11-20   \n",
       "134690       63   train_Client_99276           11     311    1997-11-20   \n",
       "\n",
       "        target  \n",
       "13737      1.0  \n",
       "26580      1.0  \n",
       "32297      1.0  \n",
       "32837      1.0  \n",
       "40704      1.0  \n",
       "51021      1.0  \n",
       "60363      1.0  \n",
       "65013      1.0  \n",
       "70691      1.0  \n",
       "72551      1.0  \n",
       "87608      1.0  \n",
       "98527      1.0  \n",
       "102541     1.0  \n",
       "110545     1.0  \n",
       "134690     1.0  "
      ]
     },
     "execution_count": 452,
     "metadata": {},
     "output_type": "execute_result"
    }
   ],
   "source": [
    "ctrain[(ctrain['creation_date']=='1997-11-20')& (ctrain['target']==1)]"
   ]
  },
  {
   "cell_type": "code",
   "execution_count": 453,
   "id": "8f5f0058",
   "metadata": {},
   "outputs": [
    {
     "data": {
      "text/html": [
       "<div>\n",
       "<style scoped>\n",
       "    .dataframe tbody tr th:only-of-type {\n",
       "        vertical-align: middle;\n",
       "    }\n",
       "\n",
       "    .dataframe tbody tr th {\n",
       "        vertical-align: top;\n",
       "    }\n",
       "\n",
       "    .dataframe thead th {\n",
       "        text-align: right;\n",
       "    }\n",
       "</style>\n",
       "<table border=\"1\" class=\"dataframe\">\n",
       "  <thead>\n",
       "    <tr style=\"text-align: right;\">\n",
       "      <th></th>\n",
       "      <th>disrict</th>\n",
       "      <th>client_id</th>\n",
       "      <th>client_catg</th>\n",
       "      <th>region</th>\n",
       "      <th>creation_date</th>\n",
       "      <th>target</th>\n",
       "    </tr>\n",
       "  </thead>\n",
       "  <tbody>\n",
       "    <tr>\n",
       "      <th>65</th>\n",
       "      <td>63</td>\n",
       "      <td>train_Client_100054</td>\n",
       "      <td>11</td>\n",
       "      <td>312</td>\n",
       "      <td>2004-12-31</td>\n",
       "      <td>0.0</td>\n",
       "    </tr>\n",
       "    <tr>\n",
       "      <th>543</th>\n",
       "      <td>63</td>\n",
       "      <td>train_Client_100485</td>\n",
       "      <td>11</td>\n",
       "      <td>306</td>\n",
       "      <td>2004-12-31</td>\n",
       "      <td>0.0</td>\n",
       "    </tr>\n",
       "    <tr>\n",
       "      <th>656</th>\n",
       "      <td>63</td>\n",
       "      <td>train_Client_100587</td>\n",
       "      <td>11</td>\n",
       "      <td>311</td>\n",
       "      <td>2004-12-31</td>\n",
       "      <td>0.0</td>\n",
       "    </tr>\n",
       "    <tr>\n",
       "      <th>700</th>\n",
       "      <td>63</td>\n",
       "      <td>train_Client_100626</td>\n",
       "      <td>11</td>\n",
       "      <td>312</td>\n",
       "      <td>2004-12-31</td>\n",
       "      <td>0.0</td>\n",
       "    </tr>\n",
       "    <tr>\n",
       "      <th>956</th>\n",
       "      <td>63</td>\n",
       "      <td>train_Client_100857</td>\n",
       "      <td>11</td>\n",
       "      <td>312</td>\n",
       "      <td>2004-12-31</td>\n",
       "      <td>0.0</td>\n",
       "    </tr>\n",
       "    <tr>\n",
       "      <th>...</th>\n",
       "      <td>...</td>\n",
       "      <td>...</td>\n",
       "      <td>...</td>\n",
       "      <td>...</td>\n",
       "      <td>...</td>\n",
       "      <td>...</td>\n",
       "    </tr>\n",
       "    <tr>\n",
       "      <th>127375</th>\n",
       "      <td>63</td>\n",
       "      <td>train_Client_92692</td>\n",
       "      <td>11</td>\n",
       "      <td>311</td>\n",
       "      <td>2004-12-31</td>\n",
       "      <td>0.0</td>\n",
       "    </tr>\n",
       "    <tr>\n",
       "      <th>129645</th>\n",
       "      <td>63</td>\n",
       "      <td>train_Client_94735</td>\n",
       "      <td>11</td>\n",
       "      <td>311</td>\n",
       "      <td>2004-12-31</td>\n",
       "      <td>0.0</td>\n",
       "    </tr>\n",
       "    <tr>\n",
       "      <th>132439</th>\n",
       "      <td>63</td>\n",
       "      <td>train_Client_9725</td>\n",
       "      <td>11</td>\n",
       "      <td>311</td>\n",
       "      <td>2004-12-31</td>\n",
       "      <td>0.0</td>\n",
       "    </tr>\n",
       "    <tr>\n",
       "      <th>134164</th>\n",
       "      <td>63</td>\n",
       "      <td>train_Client_98802</td>\n",
       "      <td>11</td>\n",
       "      <td>306</td>\n",
       "      <td>2004-12-31</td>\n",
       "      <td>0.0</td>\n",
       "    </tr>\n",
       "    <tr>\n",
       "      <th>134283</th>\n",
       "      <td>60</td>\n",
       "      <td>train_Client_9891</td>\n",
       "      <td>11</td>\n",
       "      <td>101</td>\n",
       "      <td>2004-12-31</td>\n",
       "      <td>0.0</td>\n",
       "    </tr>\n",
       "  </tbody>\n",
       "</table>\n",
       "<p>184 rows × 6 columns</p>\n",
       "</div>"
      ],
      "text/plain": [
       "        disrict            client_id  client_catg  region creation_date  \\\n",
       "65           63  train_Client_100054           11     312    2004-12-31   \n",
       "543          63  train_Client_100485           11     306    2004-12-31   \n",
       "656          63  train_Client_100587           11     311    2004-12-31   \n",
       "700          63  train_Client_100626           11     312    2004-12-31   \n",
       "956          63  train_Client_100857           11     312    2004-12-31   \n",
       "...         ...                  ...          ...     ...           ...   \n",
       "127375       63   train_Client_92692           11     311    2004-12-31   \n",
       "129645       63   train_Client_94735           11     311    2004-12-31   \n",
       "132439       63    train_Client_9725           11     311    2004-12-31   \n",
       "134164       63   train_Client_98802           11     306    2004-12-31   \n",
       "134283       60    train_Client_9891           11     101    2004-12-31   \n",
       "\n",
       "        target  \n",
       "65         0.0  \n",
       "543        0.0  \n",
       "656        0.0  \n",
       "700        0.0  \n",
       "956        0.0  \n",
       "...        ...  \n",
       "127375     0.0  \n",
       "129645     0.0  \n",
       "132439     0.0  \n",
       "134164     0.0  \n",
       "134283     0.0  \n",
       "\n",
       "[184 rows x 6 columns]"
      ]
     },
     "execution_count": 453,
     "metadata": {},
     "output_type": "execute_result"
    }
   ],
   "source": [
    "ctrain[(ctrain['creation_date']=='2004-12-31')& (ctrain['target']==0)]"
   ]
  },
  {
   "cell_type": "code",
   "execution_count": 454,
   "id": "2b56dc83",
   "metadata": {},
   "outputs": [],
   "source": [
    "dftest = df[df['client_id']=='train_Client_0']"
   ]
  },
  {
   "cell_type": "code",
   "execution_count": 455,
   "id": "8b18d01f",
   "metadata": {},
   "outputs": [
    {
     "data": {
      "text/html": [
       "<div>\n",
       "<style scoped>\n",
       "    .dataframe tbody tr th:only-of-type {\n",
       "        vertical-align: middle;\n",
       "    }\n",
       "\n",
       "    .dataframe tbody tr th {\n",
       "        vertical-align: top;\n",
       "    }\n",
       "\n",
       "    .dataframe thead th {\n",
       "        text-align: right;\n",
       "    }\n",
       "</style>\n",
       "<table border=\"1\" class=\"dataframe\">\n",
       "  <thead>\n",
       "    <tr style=\"text-align: right;\">\n",
       "      <th></th>\n",
       "      <th>client_id</th>\n",
       "      <th>invoice_date</th>\n",
       "      <th>tarif_type</th>\n",
       "      <th>counter_number</th>\n",
       "      <th>counter_statue</th>\n",
       "      <th>counter_code</th>\n",
       "      <th>reading_remarque</th>\n",
       "      <th>counter_coefficient</th>\n",
       "      <th>consommation_level_1</th>\n",
       "      <th>consommation_level_2</th>\n",
       "      <th>consommation_level_3</th>\n",
       "      <th>consommation_level_4</th>\n",
       "      <th>old_index</th>\n",
       "      <th>new_index</th>\n",
       "      <th>months_number</th>\n",
       "      <th>counter_type</th>\n",
       "    </tr>\n",
       "  </thead>\n",
       "  <tbody>\n",
       "    <tr>\n",
       "      <th>0</th>\n",
       "      <td>train_Client_0</td>\n",
       "      <td>2014-03-24</td>\n",
       "      <td>11</td>\n",
       "      <td>1335667</td>\n",
       "      <td>0</td>\n",
       "      <td>203</td>\n",
       "      <td>8</td>\n",
       "      <td>1</td>\n",
       "      <td>82</td>\n",
       "      <td>0</td>\n",
       "      <td>0</td>\n",
       "      <td>0</td>\n",
       "      <td>14302</td>\n",
       "      <td>14384</td>\n",
       "      <td>4</td>\n",
       "      <td>ELEC</td>\n",
       "    </tr>\n",
       "    <tr>\n",
       "      <th>1</th>\n",
       "      <td>train_Client_0</td>\n",
       "      <td>2013-03-29</td>\n",
       "      <td>11</td>\n",
       "      <td>1335667</td>\n",
       "      <td>0</td>\n",
       "      <td>203</td>\n",
       "      <td>6</td>\n",
       "      <td>1</td>\n",
       "      <td>1200</td>\n",
       "      <td>184</td>\n",
       "      <td>0</td>\n",
       "      <td>0</td>\n",
       "      <td>12294</td>\n",
       "      <td>13678</td>\n",
       "      <td>4</td>\n",
       "      <td>ELEC</td>\n",
       "    </tr>\n",
       "    <tr>\n",
       "      <th>2</th>\n",
       "      <td>train_Client_0</td>\n",
       "      <td>2015-03-23</td>\n",
       "      <td>11</td>\n",
       "      <td>1335667</td>\n",
       "      <td>0</td>\n",
       "      <td>203</td>\n",
       "      <td>8</td>\n",
       "      <td>1</td>\n",
       "      <td>123</td>\n",
       "      <td>0</td>\n",
       "      <td>0</td>\n",
       "      <td>0</td>\n",
       "      <td>14624</td>\n",
       "      <td>14747</td>\n",
       "      <td>4</td>\n",
       "      <td>ELEC</td>\n",
       "    </tr>\n",
       "    <tr>\n",
       "      <th>3</th>\n",
       "      <td>train_Client_0</td>\n",
       "      <td>2015-07-13</td>\n",
       "      <td>11</td>\n",
       "      <td>1335667</td>\n",
       "      <td>0</td>\n",
       "      <td>207</td>\n",
       "      <td>8</td>\n",
       "      <td>1</td>\n",
       "      <td>102</td>\n",
       "      <td>0</td>\n",
       "      <td>0</td>\n",
       "      <td>0</td>\n",
       "      <td>14747</td>\n",
       "      <td>14849</td>\n",
       "      <td>4</td>\n",
       "      <td>ELEC</td>\n",
       "    </tr>\n",
       "    <tr>\n",
       "      <th>4</th>\n",
       "      <td>train_Client_0</td>\n",
       "      <td>2016-11-17</td>\n",
       "      <td>11</td>\n",
       "      <td>1335667</td>\n",
       "      <td>0</td>\n",
       "      <td>207</td>\n",
       "      <td>9</td>\n",
       "      <td>1</td>\n",
       "      <td>572</td>\n",
       "      <td>0</td>\n",
       "      <td>0</td>\n",
       "      <td>0</td>\n",
       "      <td>15066</td>\n",
       "      <td>15638</td>\n",
       "      <td>12</td>\n",
       "      <td>ELEC</td>\n",
       "    </tr>\n",
       "  </tbody>\n",
       "</table>\n",
       "</div>"
      ],
      "text/plain": [
       "        client_id invoice_date  tarif_type  counter_number counter_statue  \\\n",
       "0  train_Client_0   2014-03-24          11         1335667              0   \n",
       "1  train_Client_0   2013-03-29          11         1335667              0   \n",
       "2  train_Client_0   2015-03-23          11         1335667              0   \n",
       "3  train_Client_0   2015-07-13          11         1335667              0   \n",
       "4  train_Client_0   2016-11-17          11         1335667              0   \n",
       "\n",
       "   counter_code  reading_remarque  counter_coefficient  consommation_level_1  \\\n",
       "0           203                 8                    1                    82   \n",
       "1           203                 6                    1                  1200   \n",
       "2           203                 8                    1                   123   \n",
       "3           207                 8                    1                   102   \n",
       "4           207                 9                    1                   572   \n",
       "\n",
       "   consommation_level_2  consommation_level_3  consommation_level_4  \\\n",
       "0                     0                     0                     0   \n",
       "1                   184                     0                     0   \n",
       "2                     0                     0                     0   \n",
       "3                     0                     0                     0   \n",
       "4                     0                     0                     0   \n",
       "\n",
       "   old_index  new_index  months_number counter_type  \n",
       "0      14302      14384              4         ELEC  \n",
       "1      12294      13678              4         ELEC  \n",
       "2      14624      14747              4         ELEC  \n",
       "3      14747      14849              4         ELEC  \n",
       "4      15066      15638             12         ELEC  "
      ]
     },
     "execution_count": 455,
     "metadata": {},
     "output_type": "execute_result"
    }
   ],
   "source": [
    "dftest.head()"
   ]
  },
  {
   "cell_type": "code",
   "execution_count": 456,
   "id": "c78ff76b",
   "metadata": {
    "scrolled": true
   },
   "outputs": [
    {
     "data": {
      "text/plain": [
       "client_id                1\n",
       "invoice_date            35\n",
       "tarif_type               1\n",
       "counter_number           1\n",
       "counter_statue           1\n",
       "counter_code             2\n",
       "reading_remarque         3\n",
       "counter_coefficient      1\n",
       "consommation_level_1    32\n",
       "consommation_level_2     3\n",
       "consommation_level_3     1\n",
       "consommation_level_4     1\n",
       "old_index               35\n",
       "new_index               35\n",
       "months_number            4\n",
       "counter_type             1\n",
       "dtype: int64"
      ]
     },
     "execution_count": 456,
     "metadata": {},
     "output_type": "execute_result"
    }
   ],
   "source": [
    "dftest.nunique()"
   ]
  },
  {
   "cell_type": "code",
   "execution_count": 457,
   "id": "7f10361b",
   "metadata": {},
   "outputs": [
    {
     "data": {
      "text/html": [
       "<div>\n",
       "<style scoped>\n",
       "    .dataframe tbody tr th:only-of-type {\n",
       "        vertical-align: middle;\n",
       "    }\n",
       "\n",
       "    .dataframe tbody tr th {\n",
       "        vertical-align: top;\n",
       "    }\n",
       "\n",
       "    .dataframe thead th {\n",
       "        text-align: right;\n",
       "    }\n",
       "</style>\n",
       "<table border=\"1\" class=\"dataframe\">\n",
       "  <thead>\n",
       "    <tr style=\"text-align: right;\">\n",
       "      <th></th>\n",
       "      <th>disrict</th>\n",
       "      <th>client_id</th>\n",
       "      <th>client_catg</th>\n",
       "      <th>region</th>\n",
       "      <th>creation_date</th>\n",
       "      <th>target</th>\n",
       "    </tr>\n",
       "  </thead>\n",
       "  <tbody>\n",
       "    <tr>\n",
       "      <th>0</th>\n",
       "      <td>60</td>\n",
       "      <td>train_Client_0</td>\n",
       "      <td>11</td>\n",
       "      <td>101</td>\n",
       "      <td>1994-12-31</td>\n",
       "      <td>0.0</td>\n",
       "    </tr>\n",
       "  </tbody>\n",
       "</table>\n",
       "</div>"
      ],
      "text/plain": [
       "   disrict       client_id  client_catg  region creation_date  target\n",
       "0       60  train_Client_0           11     101    1994-12-31     0.0"
      ]
     },
     "execution_count": 457,
     "metadata": {},
     "output_type": "execute_result"
    }
   ],
   "source": [
    "ctraintest= ctrain[ctrain['client_id']=='train_Client_0']\n",
    "ctraintest"
   ]
  },
  {
   "cell_type": "markdown",
   "id": "72a5a4a6",
   "metadata": {},
   "source": [
    "# Prerprocessing"
   ]
  },
  {
   "cell_type": "code",
   "execution_count": 458,
   "id": "0c754f35",
   "metadata": {},
   "outputs": [
    {
     "data": {
      "text/plain": [
       "(4476749, 135493)"
      ]
     },
     "execution_count": 458,
     "metadata": {},
     "output_type": "execute_result"
    }
   ],
   "source": [
    "len(df),len(ctrain)"
   ]
  },
  {
   "cell_type": "code",
   "execution_count": 459,
   "id": "67ffb50e",
   "metadata": {},
   "outputs": [
    {
     "data": {
      "text/plain": [
       "(1939730, 58069)"
      ]
     },
     "execution_count": 459,
     "metadata": {},
     "output_type": "execute_result"
    }
   ],
   "source": [
    "len(test),len(ctest)"
   ]
  },
  {
   "cell_type": "markdown",
   "id": "f7328aa7",
   "metadata": {},
   "source": [
    "## 1- Sum Invoice Data "
   ]
  },
  {
   "cell_type": "code",
   "execution_count": 460,
   "id": "bd1b4cc4",
   "metadata": {},
   "outputs": [
    {
     "data": {
      "text/plain": [
       "array(['2014-03-24T00:00:00.000000000', '2013-03-29T00:00:00.000000000',\n",
       "       '2015-03-23T00:00:00.000000000', '2015-07-13T00:00:00.000000000',\n",
       "       '2016-11-17T00:00:00.000000000', '2017-07-17T00:00:00.000000000',\n",
       "       '2018-12-07T00:00:00.000000000', '2019-03-19T00:00:00.000000000',\n",
       "       '2011-07-22T00:00:00.000000000', '2011-11-22T00:00:00.000000000',\n",
       "       '2008-11-25T00:00:00.000000000', '2012-07-23T00:00:00.000000000',\n",
       "       '2012-11-29T00:00:00.000000000', '2013-07-22T00:00:00.000000000',\n",
       "       '2014-07-18T00:00:00.000000000', '2014-11-24T00:00:00.000000000',\n",
       "       '2015-11-18T00:00:00.000000000', '2012-03-27T00:00:00.000000000',\n",
       "       '2011-03-30T00:00:00.000000000', '2013-02-12T00:00:00.000000000',\n",
       "       '2010-07-22T00:00:00.000000000', '2010-11-24T00:00:00.000000000',\n",
       "       '2005-10-17T00:00:00.000000000', '2006-02-24T00:00:00.000000000',\n",
       "       '2006-06-23T00:00:00.000000000', '2006-10-18T00:00:00.000000000',\n",
       "       '2007-06-27T00:00:00.000000000', '2007-10-25T00:00:00.000000000',\n",
       "       '2007-02-26T00:00:00.000000000', '2008-07-28T00:00:00.000000000',\n",
       "       '2009-01-04T00:00:00.000000000', '2009-07-27T00:00:00.000000000',\n",
       "       '2009-11-24T00:00:00.000000000', '2010-03-29T00:00:00.000000000',\n",
       "       '2008-01-04T00:00:00.000000000'], dtype='datetime64[ns]')"
      ]
     },
     "execution_count": 460,
     "metadata": {},
     "output_type": "execute_result"
    }
   ],
   "source": [
    "np.array(dftest['invoice_date'])"
   ]
  },
  {
   "cell_type": "code",
   "execution_count": 461,
   "id": "bbd8d5f3",
   "metadata": {},
   "outputs": [],
   "source": [
    "dsaf = np.array(dftest['invoice_date'])"
   ]
  },
  {
   "cell_type": "code",
   "execution_count": 462,
   "id": "092fe8b6",
   "metadata": {},
   "outputs": [
    {
     "data": {
      "text/plain": [
       "35"
      ]
     },
     "execution_count": 462,
     "metadata": {},
     "output_type": "execute_result"
    }
   ],
   "source": [
    "len(dsaf)"
   ]
  },
  {
   "cell_type": "code",
   "execution_count": 463,
   "id": "7b3c0bf3",
   "metadata": {},
   "outputs": [
    {
     "data": {
      "text/plain": [
       "35"
      ]
     },
     "execution_count": 463,
     "metadata": {},
     "output_type": "execute_result"
    }
   ],
   "source": [
    "np.count_nonzero(dsaf)"
   ]
  },
  {
   "cell_type": "code",
   "execution_count": 464,
   "id": "e2cca90a",
   "metadata": {},
   "outputs": [
    {
     "name": "stderr",
     "output_type": "stream",
     "text": [
      "C:\\Users\\ali\\AppData\\Local\\Temp\\ipykernel_10136\\3020259716.py:1: SettingWithCopyWarning: \n",
      "A value is trying to be set on a copy of a slice from a DataFrame.\n",
      "Try using .loc[row_indexer,col_indexer] = value instead\n",
      "\n",
      "See the caveats in the documentation: https://pandas.pydata.org/pandas-docs/stable/user_guide/indexing.html#returning-a-view-versus-a-copy\n",
      "  ctraintest['invoice_count'] = np.count_nonzero(dsaf)\n"
     ]
    }
   ],
   "source": [
    "ctraintest['invoice_count'] = np.count_nonzero(dsaf)"
   ]
  },
  {
   "cell_type": "code",
   "execution_count": 465,
   "id": "50f102eb",
   "metadata": {},
   "outputs": [
    {
     "data": {
      "text/html": [
       "<div>\n",
       "<style scoped>\n",
       "    .dataframe tbody tr th:only-of-type {\n",
       "        vertical-align: middle;\n",
       "    }\n",
       "\n",
       "    .dataframe tbody tr th {\n",
       "        vertical-align: top;\n",
       "    }\n",
       "\n",
       "    .dataframe thead th {\n",
       "        text-align: right;\n",
       "    }\n",
       "</style>\n",
       "<table border=\"1\" class=\"dataframe\">\n",
       "  <thead>\n",
       "    <tr style=\"text-align: right;\">\n",
       "      <th></th>\n",
       "      <th>disrict</th>\n",
       "      <th>client_id</th>\n",
       "      <th>client_catg</th>\n",
       "      <th>region</th>\n",
       "      <th>creation_date</th>\n",
       "      <th>target</th>\n",
       "      <th>invoice_count</th>\n",
       "    </tr>\n",
       "  </thead>\n",
       "  <tbody>\n",
       "    <tr>\n",
       "      <th>0</th>\n",
       "      <td>60</td>\n",
       "      <td>train_Client_0</td>\n",
       "      <td>11</td>\n",
       "      <td>101</td>\n",
       "      <td>1994-12-31</td>\n",
       "      <td>0.0</td>\n",
       "      <td>35</td>\n",
       "    </tr>\n",
       "  </tbody>\n",
       "</table>\n",
       "</div>"
      ],
      "text/plain": [
       "   disrict       client_id  client_catg  region creation_date  target  \\\n",
       "0       60  train_Client_0           11     101    1994-12-31     0.0   \n",
       "\n",
       "   invoice_count  \n",
       "0             35  "
      ]
     },
     "execution_count": 465,
     "metadata": {},
     "output_type": "execute_result"
    }
   ],
   "source": [
    "ctraintest"
   ]
  },
  {
   "cell_type": "markdown",
   "id": "c2d87e86",
   "metadata": {},
   "source": [
    "## 2-  \tConsommation level"
   ]
  },
  {
   "cell_type": "markdown",
   "id": "b2106644",
   "metadata": {},
   "source": [
    "Look Ali every feautre is greater than number of client id delet it Now"
   ]
  },
  {
   "cell_type": "code",
   "execution_count": 466,
   "id": "9efe4cff",
   "metadata": {},
   "outputs": [
    {
     "data": {
      "text/plain": [
       "count    4.476749e+06\n",
       "mean     4.109795e+02\n",
       "std      7.573080e+02\n",
       "min      0.000000e+00\n",
       "25%      7.900000e+01\n",
       "50%      2.740000e+02\n",
       "75%      6.000000e+02\n",
       "max      9.999100e+05\n",
       "Name: consommation_level_1, dtype: float64"
      ]
     },
     "execution_count": 466,
     "metadata": {},
     "output_type": "execute_result"
    }
   ],
   "source": [
    "df['consommation_level_1'].describe()"
   ]
  },
  {
   "cell_type": "code",
   "execution_count": 467,
   "id": "fd978c2b",
   "metadata": {},
   "outputs": [
    {
     "data": {
      "text/plain": [
       "count    4.476749e+06\n",
       "mean     1.093225e+02\n",
       "std      1.220123e+03\n",
       "min      0.000000e+00\n",
       "25%      0.000000e+00\n",
       "50%      0.000000e+00\n",
       "75%      0.000000e+00\n",
       "max      9.990730e+05\n",
       "Name: consommation_level_2, dtype: float64"
      ]
     },
     "execution_count": 467,
     "metadata": {},
     "output_type": "execute_result"
    }
   ],
   "source": [
    "df['consommation_level_2'].describe()"
   ]
  },
  {
   "cell_type": "code",
   "execution_count": 468,
   "id": "54064874",
   "metadata": {},
   "outputs": [
    {
     "data": {
      "text/plain": [
       "count    4.476749e+06\n",
       "mean     2.030620e+01\n",
       "std      1.574239e+02\n",
       "min      0.000000e+00\n",
       "25%      0.000000e+00\n",
       "50%      0.000000e+00\n",
       "75%      0.000000e+00\n",
       "max      6.449200e+04\n",
       "Name: consommation_level_3, dtype: float64"
      ]
     },
     "execution_count": 468,
     "metadata": {},
     "output_type": "execute_result"
    }
   ],
   "source": [
    "df['consommation_level_3'].describe()"
   ]
  },
  {
   "cell_type": "code",
   "execution_count": 469,
   "id": "0c3f2bb5",
   "metadata": {},
   "outputs": [
    {
     "data": {
      "text/plain": [
       "count    4.476749e+06\n",
       "mean     5.292588e+01\n",
       "std      8.754725e+02\n",
       "min      0.000000e+00\n",
       "25%      0.000000e+00\n",
       "50%      0.000000e+00\n",
       "75%      0.000000e+00\n",
       "max      5.479460e+05\n",
       "Name: consommation_level_4, dtype: float64"
      ]
     },
     "execution_count": 469,
     "metadata": {},
     "output_type": "execute_result"
    }
   ],
   "source": [
    "df['consommation_level_4'].describe()"
   ]
  },
  {
   "cell_type": "code",
   "execution_count": 470,
   "id": "e80edbaf",
   "metadata": {},
   "outputs": [
    {
     "name": "stdout",
     "output_type": "stream",
     "text": [
      "(min, max, mode)\n",
      "(0, 999910, 0    0\n",
      "Name: consommation_level_1, dtype: int64)\n",
      "(0, 999073, 0    0\n",
      "Name: consommation_level_2, dtype: int64)\n",
      "(0, 64492, 0    0\n",
      "Name: consommation_level_3, dtype: int64)\n",
      "(0, 547946, 0    0\n",
      "Name: consommation_level_4, dtype: int64)\n"
     ]
    }
   ],
   "source": [
    "print('(min, max, mode)')\n",
    "print(f\"{df['consommation_level_1'].min(), df['consommation_level_1'].max(), df['consommation_level_1'].mode()}\")\n",
    "print(f\"{df['consommation_level_2'].min(), df['consommation_level_2'].max(), df['consommation_level_2'].mode()}\")\n",
    "print(f\"{df['consommation_level_3'].min(), df['consommation_level_3'].max(), df['consommation_level_3'].mode()}\")\n",
    "print(f\"{df['consommation_level_4'].min(), df['consommation_level_4'].max(), df['consommation_level_4'].mode()}\")\n",
    "\n",
    "# df['consommation_level_4'].max()\n",
    "# df['consommation_level_4'].mode() "
   ]
  },
  {
   "cell_type": "markdown",
   "id": "36d87a4c",
   "metadata": {},
   "source": [
    "aaa level 3 "
   ]
  },
  {
   "cell_type": "code",
   "execution_count": 471,
   "id": "88007c20",
   "metadata": {},
   "outputs": [
    {
     "data": {
      "text/plain": [
       "array([  82, 1200,  123,  102,  572,  314,  541,  585, 1200, 1082,  174,\n",
       "        628,  886,  147,   99,  141,  217,  292,  497,   38,  278,  234,\n",
       "        124,  141,  162,  159,  240,  276,  182,  171,  315,  312,  267,\n",
       "        276,  277], dtype=int64)"
      ]
     },
     "execution_count": 471,
     "metadata": {},
     "output_type": "execute_result"
    }
   ],
   "source": [
    "np.array(dftest['consommation_level_1'])"
   ]
  },
  {
   "cell_type": "code",
   "execution_count": 472,
   "id": "384b1192",
   "metadata": {},
   "outputs": [],
   "source": [
    "dec = np.count_nonzero(np.array(dftest['consommation_level_1']))"
   ]
  },
  {
   "cell_type": "code",
   "execution_count": 473,
   "id": "58d4ab61",
   "metadata": {},
   "outputs": [],
   "source": [
    "jow =np.sum(np.array(dftest['consommation_level_1']))"
   ]
  },
  {
   "cell_type": "code",
   "execution_count": 474,
   "id": "4c84b6fc",
   "metadata": {},
   "outputs": [
    {
     "name": "stderr",
     "output_type": "stream",
     "text": [
      "C:\\Users\\ali\\AppData\\Local\\Temp\\ipykernel_10136\\3787770615.py:1: SettingWithCopyWarning: \n",
      "A value is trying to be set on a copy of a slice from a DataFrame.\n",
      "Try using .loc[row_indexer,col_indexer] = value instead\n",
      "\n",
      "See the caveats in the documentation: https://pandas.pydata.org/pandas-docs/stable/user_guide/indexing.html#returning-a-view-versus-a-copy\n",
      "  ctraintest['consommation_level_1_count'] = dec\n",
      "C:\\Users\\ali\\AppData\\Local\\Temp\\ipykernel_10136\\3787770615.py:2: SettingWithCopyWarning: \n",
      "A value is trying to be set on a copy of a slice from a DataFrame.\n",
      "Try using .loc[row_indexer,col_indexer] = value instead\n",
      "\n",
      "See the caveats in the documentation: https://pandas.pydata.org/pandas-docs/stable/user_guide/indexing.html#returning-a-view-versus-a-copy\n",
      "  ctraintest['consommation_level_1_sum'] = jow\n"
     ]
    }
   ],
   "source": [
    "ctraintest['consommation_level_1_count'] = dec\n",
    "ctraintest['consommation_level_1_sum'] = jow"
   ]
  },
  {
   "cell_type": "code",
   "execution_count": 475,
   "id": "31f135d5",
   "metadata": {},
   "outputs": [
    {
     "name": "stderr",
     "output_type": "stream",
     "text": [
      "C:\\Users\\ali\\AppData\\Local\\Temp\\ipykernel_10136\\1070891881.py:1: SettingWithCopyWarning: \n",
      "A value is trying to be set on a copy of a slice from a DataFrame.\n",
      "Try using .loc[row_indexer,col_indexer] = value instead\n",
      "\n",
      "See the caveats in the documentation: https://pandas.pydata.org/pandas-docs/stable/user_guide/indexing.html#returning-a-view-versus-a-copy\n",
      "  ctraintest['consommation_level_2_count'] = np.count_nonzero(np.array(dftest['consommation_level_2']))\n",
      "C:\\Users\\ali\\AppData\\Local\\Temp\\ipykernel_10136\\1070891881.py:2: SettingWithCopyWarning: \n",
      "A value is trying to be set on a copy of a slice from a DataFrame.\n",
      "Try using .loc[row_indexer,col_indexer] = value instead\n",
      "\n",
      "See the caveats in the documentation: https://pandas.pydata.org/pandas-docs/stable/user_guide/indexing.html#returning-a-view-versus-a-copy\n",
      "  ctraintest['consommation_level_2_sum'] = np.sum(np.array(dftest['consommation_level_2']))\n"
     ]
    }
   ],
   "source": [
    "ctraintest['consommation_level_2_count'] = np.count_nonzero(np.array(dftest['consommation_level_2']))\n",
    "ctraintest['consommation_level_2_sum'] = np.sum(np.array(dftest['consommation_level_2']))"
   ]
  },
  {
   "cell_type": "code",
   "execution_count": 476,
   "id": "3c0eec27",
   "metadata": {},
   "outputs": [
    {
     "name": "stderr",
     "output_type": "stream",
     "text": [
      "C:\\Users\\ali\\AppData\\Local\\Temp\\ipykernel_10136\\3109214408.py:1: SettingWithCopyWarning: \n",
      "A value is trying to be set on a copy of a slice from a DataFrame.\n",
      "Try using .loc[row_indexer,col_indexer] = value instead\n",
      "\n",
      "See the caveats in the documentation: https://pandas.pydata.org/pandas-docs/stable/user_guide/indexing.html#returning-a-view-versus-a-copy\n",
      "  ctraintest['consommation_level_3_count'] = np.count_nonzero(np.array(dftest['consommation_level_3']))\n",
      "C:\\Users\\ali\\AppData\\Local\\Temp\\ipykernel_10136\\3109214408.py:2: SettingWithCopyWarning: \n",
      "A value is trying to be set on a copy of a slice from a DataFrame.\n",
      "Try using .loc[row_indexer,col_indexer] = value instead\n",
      "\n",
      "See the caveats in the documentation: https://pandas.pydata.org/pandas-docs/stable/user_guide/indexing.html#returning-a-view-versus-a-copy\n",
      "  ctraintest['consommation_level_3_sum'] = np.sum(np.array(dftest['consommation_level_3']))\n"
     ]
    }
   ],
   "source": [
    "ctraintest['consommation_level_3_count'] = np.count_nonzero(np.array(dftest['consommation_level_3']))\n",
    "ctraintest['consommation_level_3_sum'] = np.sum(np.array(dftest['consommation_level_3']))"
   ]
  },
  {
   "cell_type": "code",
   "execution_count": 477,
   "id": "7a8390aa",
   "metadata": {},
   "outputs": [
    {
     "name": "stderr",
     "output_type": "stream",
     "text": [
      "C:\\Users\\ali\\AppData\\Local\\Temp\\ipykernel_10136\\2816928838.py:1: SettingWithCopyWarning: \n",
      "A value is trying to be set on a copy of a slice from a DataFrame.\n",
      "Try using .loc[row_indexer,col_indexer] = value instead\n",
      "\n",
      "See the caveats in the documentation: https://pandas.pydata.org/pandas-docs/stable/user_guide/indexing.html#returning-a-view-versus-a-copy\n",
      "  ctraintest['consommation_level_4_count'] = np.count_nonzero(np.array(dftest['consommation_level_4']))\n",
      "C:\\Users\\ali\\AppData\\Local\\Temp\\ipykernel_10136\\2816928838.py:2: SettingWithCopyWarning: \n",
      "A value is trying to be set on a copy of a slice from a DataFrame.\n",
      "Try using .loc[row_indexer,col_indexer] = value instead\n",
      "\n",
      "See the caveats in the documentation: https://pandas.pydata.org/pandas-docs/stable/user_guide/indexing.html#returning-a-view-versus-a-copy\n",
      "  ctraintest['consommation_level_4_sum'] = np.sum(np.array(dftest['consommation_level_4']))\n"
     ]
    }
   ],
   "source": [
    "ctraintest['consommation_level_4_count'] = np.count_nonzero(np.array(dftest['consommation_level_4']))\n",
    "ctraintest['consommation_level_4_sum'] = np.sum(np.array(dftest['consommation_level_4']))"
   ]
  },
  {
   "cell_type": "code",
   "execution_count": 478,
   "id": "fbe83c9c",
   "metadata": {},
   "outputs": [
    {
     "data": {
      "text/html": [
       "<div>\n",
       "<style scoped>\n",
       "    .dataframe tbody tr th:only-of-type {\n",
       "        vertical-align: middle;\n",
       "    }\n",
       "\n",
       "    .dataframe tbody tr th {\n",
       "        vertical-align: top;\n",
       "    }\n",
       "\n",
       "    .dataframe thead th {\n",
       "        text-align: right;\n",
       "    }\n",
       "</style>\n",
       "<table border=\"1\" class=\"dataframe\">\n",
       "  <thead>\n",
       "    <tr style=\"text-align: right;\">\n",
       "      <th></th>\n",
       "      <th>disrict</th>\n",
       "      <th>client_id</th>\n",
       "      <th>client_catg</th>\n",
       "      <th>region</th>\n",
       "      <th>creation_date</th>\n",
       "      <th>target</th>\n",
       "      <th>invoice_count</th>\n",
       "      <th>consommation_level_1_count</th>\n",
       "      <th>consommation_level_1_sum</th>\n",
       "      <th>consommation_level_2_count</th>\n",
       "      <th>consommation_level_2_sum</th>\n",
       "      <th>consommation_level_3_count</th>\n",
       "      <th>consommation_level_3_sum</th>\n",
       "      <th>consommation_level_4_count</th>\n",
       "      <th>consommation_level_4_sum</th>\n",
       "    </tr>\n",
       "  </thead>\n",
       "  <tbody>\n",
       "    <tr>\n",
       "      <th>0</th>\n",
       "      <td>60</td>\n",
       "      <td>train_Client_0</td>\n",
       "      <td>11</td>\n",
       "      <td>101</td>\n",
       "      <td>1994-12-31</td>\n",
       "      <td>0.0</td>\n",
       "      <td>35</td>\n",
       "      <td>35</td>\n",
       "      <td>12334</td>\n",
       "      <td>2</td>\n",
       "      <td>370</td>\n",
       "      <td>0</td>\n",
       "      <td>0</td>\n",
       "      <td>0</td>\n",
       "      <td>0</td>\n",
       "    </tr>\n",
       "  </tbody>\n",
       "</table>\n",
       "</div>"
      ],
      "text/plain": [
       "   disrict       client_id  client_catg  region creation_date  target  \\\n",
       "0       60  train_Client_0           11     101    1994-12-31     0.0   \n",
       "\n",
       "   invoice_count  consommation_level_1_count  consommation_level_1_sum  \\\n",
       "0             35                          35                     12334   \n",
       "\n",
       "   consommation_level_2_count  consommation_level_2_sum  \\\n",
       "0                           2                       370   \n",
       "\n",
       "   consommation_level_3_count  consommation_level_3_sum  \\\n",
       "0                           0                         0   \n",
       "\n",
       "   consommation_level_4_count  consommation_level_4_sum  \n",
       "0                           0                         0  "
      ]
     },
     "execution_count": 478,
     "metadata": {},
     "output_type": "execute_result"
    }
   ],
   "source": [
    "ctraintest"
   ]
  },
  {
   "cell_type": "markdown",
   "id": "0d0a6779",
   "metadata": {},
   "source": [
    "## 3-  \tMonth Number"
   ]
  },
  {
   "cell_type": "code",
   "execution_count": 479,
   "id": "c9fe2ef4",
   "metadata": {},
   "outputs": [
    {
     "data": {
      "text/plain": [
       "array([ 4,  4,  4,  4, 12,  8, 12,  8,  4,  4,  4,  4,  4,  4,  4,  4,  4,\n",
       "        4,  4,  2,  4,  4,  4,  4,  4,  4,  4,  4,  4,  4,  4,  4,  4,  4,\n",
       "        4], dtype=int64)"
      ]
     },
     "execution_count": 479,
     "metadata": {},
     "output_type": "execute_result"
    }
   ],
   "source": [
    "(np.array(dftest['months_number']))"
   ]
  },
  {
   "cell_type": "code",
   "execution_count": 480,
   "id": "113ff784",
   "metadata": {},
   "outputs": [
    {
     "data": {
      "text/plain": [
       "162"
      ]
     },
     "execution_count": 480,
     "metadata": {},
     "output_type": "execute_result"
    }
   ],
   "source": [
    "np.sum(np.array(dftest['months_number']))"
   ]
  },
  {
   "cell_type": "code",
   "execution_count": 481,
   "id": "512e9e5d",
   "metadata": {},
   "outputs": [
    {
     "name": "stderr",
     "output_type": "stream",
     "text": [
      "C:\\Users\\ali\\AppData\\Local\\Temp\\ipykernel_10136\\1451740835.py:1: SettingWithCopyWarning: \n",
      "A value is trying to be set on a copy of a slice from a DataFrame.\n",
      "Try using .loc[row_indexer,col_indexer] = value instead\n",
      "\n",
      "See the caveats in the documentation: https://pandas.pydata.org/pandas-docs/stable/user_guide/indexing.html#returning-a-view-versus-a-copy\n",
      "  ctraintest['month_sum'] = np.sum(np.array(dftest['months_number']))\n"
     ]
    }
   ],
   "source": [
    "ctraintest['month_sum'] = np.sum(np.array(dftest['months_number']))"
   ]
  },
  {
   "cell_type": "code",
   "execution_count": 482,
   "id": "750697b2",
   "metadata": {},
   "outputs": [
    {
     "data": {
      "text/html": [
       "<div>\n",
       "<style scoped>\n",
       "    .dataframe tbody tr th:only-of-type {\n",
       "        vertical-align: middle;\n",
       "    }\n",
       "\n",
       "    .dataframe tbody tr th {\n",
       "        vertical-align: top;\n",
       "    }\n",
       "\n",
       "    .dataframe thead th {\n",
       "        text-align: right;\n",
       "    }\n",
       "</style>\n",
       "<table border=\"1\" class=\"dataframe\">\n",
       "  <thead>\n",
       "    <tr style=\"text-align: right;\">\n",
       "      <th></th>\n",
       "      <th>disrict</th>\n",
       "      <th>client_id</th>\n",
       "      <th>client_catg</th>\n",
       "      <th>region</th>\n",
       "      <th>creation_date</th>\n",
       "      <th>target</th>\n",
       "      <th>invoice_count</th>\n",
       "      <th>consommation_level_1_count</th>\n",
       "      <th>consommation_level_1_sum</th>\n",
       "      <th>consommation_level_2_count</th>\n",
       "      <th>consommation_level_2_sum</th>\n",
       "      <th>consommation_level_3_count</th>\n",
       "      <th>consommation_level_3_sum</th>\n",
       "      <th>consommation_level_4_count</th>\n",
       "      <th>consommation_level_4_sum</th>\n",
       "      <th>month_sum</th>\n",
       "    </tr>\n",
       "  </thead>\n",
       "  <tbody>\n",
       "    <tr>\n",
       "      <th>0</th>\n",
       "      <td>60</td>\n",
       "      <td>train_Client_0</td>\n",
       "      <td>11</td>\n",
       "      <td>101</td>\n",
       "      <td>1994-12-31</td>\n",
       "      <td>0.0</td>\n",
       "      <td>35</td>\n",
       "      <td>35</td>\n",
       "      <td>12334</td>\n",
       "      <td>2</td>\n",
       "      <td>370</td>\n",
       "      <td>0</td>\n",
       "      <td>0</td>\n",
       "      <td>0</td>\n",
       "      <td>0</td>\n",
       "      <td>162</td>\n",
       "    </tr>\n",
       "  </tbody>\n",
       "</table>\n",
       "</div>"
      ],
      "text/plain": [
       "   disrict       client_id  client_catg  region creation_date  target  \\\n",
       "0       60  train_Client_0           11     101    1994-12-31     0.0   \n",
       "\n",
       "   invoice_count  consommation_level_1_count  consommation_level_1_sum  \\\n",
       "0             35                          35                     12334   \n",
       "\n",
       "   consommation_level_2_count  consommation_level_2_sum  \\\n",
       "0                           2                       370   \n",
       "\n",
       "   consommation_level_3_count  consommation_level_3_sum  \\\n",
       "0                           0                         0   \n",
       "\n",
       "   consommation_level_4_count  consommation_level_4_sum  month_sum  \n",
       "0                           0                         0        162  "
      ]
     },
     "execution_count": 482,
     "metadata": {},
     "output_type": "execute_result"
    }
   ],
   "source": [
    "ctraintest"
   ]
  },
  {
   "cell_type": "code",
   "execution_count": 483,
   "id": "20d3f44c",
   "metadata": {},
   "outputs": [
    {
     "data": {
      "text/plain": [
       "6      2230939\n",
       "9      1416992\n",
       "8       828123\n",
       "7          661\n",
       "203         15\n",
       "413         12\n",
       "207          6\n",
       "5            1\n",
       "Name: reading_remarque, dtype: int64"
      ]
     },
     "execution_count": 483,
     "metadata": {},
     "output_type": "execute_result"
    }
   ],
   "source": [
    "df['reading_remarque'].value_counts()"
   ]
  },
  {
   "cell_type": "code",
   "execution_count": 484,
   "id": "76bb0008",
   "metadata": {},
   "outputs": [
    {
     "data": {
      "text/html": [
       "<div>\n",
       "<style scoped>\n",
       "    .dataframe tbody tr th:only-of-type {\n",
       "        vertical-align: middle;\n",
       "    }\n",
       "\n",
       "    .dataframe tbody tr th {\n",
       "        vertical-align: top;\n",
       "    }\n",
       "\n",
       "    .dataframe thead th {\n",
       "        text-align: right;\n",
       "    }\n",
       "</style>\n",
       "<table border=\"1\" class=\"dataframe\">\n",
       "  <thead>\n",
       "    <tr style=\"text-align: right;\">\n",
       "      <th></th>\n",
       "      <th>disrict</th>\n",
       "      <th>client_id</th>\n",
       "      <th>client_catg</th>\n",
       "      <th>region</th>\n",
       "      <th>creation_date</th>\n",
       "      <th>target</th>\n",
       "    </tr>\n",
       "  </thead>\n",
       "  <tbody>\n",
       "    <tr>\n",
       "      <th>112245</th>\n",
       "      <td>69</td>\n",
       "      <td>train_Client_79075</td>\n",
       "      <td>11</td>\n",
       "      <td>107</td>\n",
       "      <td>2011-11-28</td>\n",
       "      <td>0.0</td>\n",
       "    </tr>\n",
       "  </tbody>\n",
       "</table>\n",
       "</div>"
      ],
      "text/plain": [
       "        disrict           client_id  client_catg  region creation_date  target\n",
       "112245       69  train_Client_79075           11     107    2011-11-28     0.0"
      ]
     },
     "execution_count": 484,
     "metadata": {},
     "output_type": "execute_result"
    }
   ],
   "source": [
    "df[df['reading_remarque']==7]['client_id']\n",
    "ctrain[ctrain['client_id']=='train_Client_79075']"
   ]
  },
  {
   "cell_type": "code",
   "execution_count": 485,
   "id": "089f0274",
   "metadata": {},
   "outputs": [
    {
     "data": {
      "text/plain": [
       "6    21\n",
       "8     8\n",
       "9     6\n",
       "Name: reading_remarque, dtype: int64"
      ]
     },
     "execution_count": 485,
     "metadata": {},
     "output_type": "execute_result"
    }
   ],
   "source": [
    "dftest['reading_remarque'].value_counts()"
   ]
  },
  {
   "cell_type": "code",
   "execution_count": 486,
   "id": "6ca953a7",
   "metadata": {},
   "outputs": [],
   "source": [
    "rempa6= np.count_nonzero(np.array(dftest[dftest['reading_remarque']==6]['reading_remarque']))\n",
    "rempa8= np.count_nonzero(np.array(dftest[dftest['reading_remarque']==8]['reading_remarque']))\n",
    "rempa9= np.count_nonzero(np.array(dftest[dftest['reading_remarque']==9]['reading_remarque']))"
   ]
  },
  {
   "cell_type": "code",
   "execution_count": 487,
   "id": "600308aa",
   "metadata": {},
   "outputs": [
    {
     "data": {
      "text/plain": [
       "(21, 8, 6)"
      ]
     },
     "execution_count": 487,
     "metadata": {},
     "output_type": "execute_result"
    }
   ],
   "source": [
    "rempa6,rempa8,rempa9"
   ]
  },
  {
   "cell_type": "code",
   "execution_count": 488,
   "id": "c7aabcd7",
   "metadata": {},
   "outputs": [
    {
     "name": "stderr",
     "output_type": "stream",
     "text": [
      "C:\\Users\\ali\\AppData\\Local\\Temp\\ipykernel_10136\\1279810178.py:1: SettingWithCopyWarning: \n",
      "A value is trying to be set on a copy of a slice from a DataFrame.\n",
      "Try using .loc[row_indexer,col_indexer] = value instead\n",
      "\n",
      "See the caveats in the documentation: https://pandas.pydata.org/pandas-docs/stable/user_guide/indexing.html#returning-a-view-versus-a-copy\n",
      "  ctraintest['reading_remarque_6'] = rempa6\n",
      "C:\\Users\\ali\\AppData\\Local\\Temp\\ipykernel_10136\\1279810178.py:2: SettingWithCopyWarning: \n",
      "A value is trying to be set on a copy of a slice from a DataFrame.\n",
      "Try using .loc[row_indexer,col_indexer] = value instead\n",
      "\n",
      "See the caveats in the documentation: https://pandas.pydata.org/pandas-docs/stable/user_guide/indexing.html#returning-a-view-versus-a-copy\n",
      "  ctraintest['reading_remarque_8'] = rempa8\n",
      "C:\\Users\\ali\\AppData\\Local\\Temp\\ipykernel_10136\\1279810178.py:3: SettingWithCopyWarning: \n",
      "A value is trying to be set on a copy of a slice from a DataFrame.\n",
      "Try using .loc[row_indexer,col_indexer] = value instead\n",
      "\n",
      "See the caveats in the documentation: https://pandas.pydata.org/pandas-docs/stable/user_guide/indexing.html#returning-a-view-versus-a-copy\n",
      "  ctraintest['reading_remarque_9'] = rempa9\n"
     ]
    }
   ],
   "source": [
    "ctraintest['reading_remarque_6'] = rempa6\n",
    "ctraintest['reading_remarque_8'] = rempa8\n",
    "ctraintest['reading_remarque_9'] = rempa9"
   ]
  },
  {
   "cell_type": "code",
   "execution_count": 489,
   "id": "1d5c53a3",
   "metadata": {},
   "outputs": [
    {
     "data": {
      "text/html": [
       "<div>\n",
       "<style scoped>\n",
       "    .dataframe tbody tr th:only-of-type {\n",
       "        vertical-align: middle;\n",
       "    }\n",
       "\n",
       "    .dataframe tbody tr th {\n",
       "        vertical-align: top;\n",
       "    }\n",
       "\n",
       "    .dataframe thead th {\n",
       "        text-align: right;\n",
       "    }\n",
       "</style>\n",
       "<table border=\"1\" class=\"dataframe\">\n",
       "  <thead>\n",
       "    <tr style=\"text-align: right;\">\n",
       "      <th></th>\n",
       "      <th>disrict</th>\n",
       "      <th>client_id</th>\n",
       "      <th>client_catg</th>\n",
       "      <th>region</th>\n",
       "      <th>creation_date</th>\n",
       "      <th>target</th>\n",
       "      <th>invoice_count</th>\n",
       "      <th>consommation_level_1_count</th>\n",
       "      <th>consommation_level_1_sum</th>\n",
       "      <th>consommation_level_2_count</th>\n",
       "      <th>consommation_level_2_sum</th>\n",
       "      <th>consommation_level_3_count</th>\n",
       "      <th>consommation_level_3_sum</th>\n",
       "      <th>consommation_level_4_count</th>\n",
       "      <th>consommation_level_4_sum</th>\n",
       "      <th>month_sum</th>\n",
       "      <th>reading_remarque_6</th>\n",
       "      <th>reading_remarque_8</th>\n",
       "      <th>reading_remarque_9</th>\n",
       "    </tr>\n",
       "  </thead>\n",
       "  <tbody>\n",
       "    <tr>\n",
       "      <th>0</th>\n",
       "      <td>60</td>\n",
       "      <td>train_Client_0</td>\n",
       "      <td>11</td>\n",
       "      <td>101</td>\n",
       "      <td>1994-12-31</td>\n",
       "      <td>0.0</td>\n",
       "      <td>35</td>\n",
       "      <td>35</td>\n",
       "      <td>12334</td>\n",
       "      <td>2</td>\n",
       "      <td>370</td>\n",
       "      <td>0</td>\n",
       "      <td>0</td>\n",
       "      <td>0</td>\n",
       "      <td>0</td>\n",
       "      <td>162</td>\n",
       "      <td>21</td>\n",
       "      <td>8</td>\n",
       "      <td>6</td>\n",
       "    </tr>\n",
       "  </tbody>\n",
       "</table>\n",
       "</div>"
      ],
      "text/plain": [
       "   disrict       client_id  client_catg  region creation_date  target  \\\n",
       "0       60  train_Client_0           11     101    1994-12-31     0.0   \n",
       "\n",
       "   invoice_count  consommation_level_1_count  consommation_level_1_sum  \\\n",
       "0             35                          35                     12334   \n",
       "\n",
       "   consommation_level_2_count  consommation_level_2_sum  \\\n",
       "0                           2                       370   \n",
       "\n",
       "   consommation_level_3_count  consommation_level_3_sum  \\\n",
       "0                           0                         0   \n",
       "\n",
       "   consommation_level_4_count  consommation_level_4_sum  month_sum  \\\n",
       "0                           0                         0        162   \n",
       "\n",
       "   reading_remarque_6  reading_remarque_8  reading_remarque_9  \n",
       "0                  21                   8                   6  "
      ]
     },
     "execution_count": 489,
     "metadata": {},
     "output_type": "execute_result"
    }
   ],
   "source": [
    "ctraintest"
   ]
  },
  {
   "cell_type": "code",
   "execution_count": 490,
   "id": "7aa76209",
   "metadata": {
    "scrolled": true
   },
   "outputs": [
    {
     "data": {
      "text/plain": [
       "client_id                1\n",
       "invoice_date            35\n",
       "tarif_type               1\n",
       "counter_number           1\n",
       "counter_statue           1\n",
       "counter_code             2\n",
       "reading_remarque         3\n",
       "counter_coefficient      1\n",
       "consommation_level_1    32\n",
       "consommation_level_2     3\n",
       "consommation_level_3     1\n",
       "consommation_level_4     1\n",
       "old_index               35\n",
       "new_index               35\n",
       "months_number            4\n",
       "counter_type             1\n",
       "dtype: int64"
      ]
     },
     "execution_count": 490,
     "metadata": {},
     "output_type": "execute_result"
    }
   ],
   "source": [
    "dftest.nunique()"
   ]
  },
  {
   "cell_type": "code",
   "execution_count": 491,
   "id": "683f5eb0",
   "metadata": {},
   "outputs": [
    {
     "data": {
      "text/plain": [
       "client_id               135493\n",
       "invoice_date              8275\n",
       "tarif_type                  17\n",
       "counter_number          201893\n",
       "counter_statue              12\n",
       "counter_code                42\n",
       "reading_remarque             8\n",
       "counter_coefficient         16\n",
       "consommation_level_1      8295\n",
       "consommation_level_2     12576\n",
       "consommation_level_3      2253\n",
       "consommation_level_4     12075\n",
       "old_index               155648\n",
       "new_index               157980\n",
       "months_number             1370\n",
       "counter_type                 2\n",
       "dtype: int64"
      ]
     },
     "execution_count": 491,
     "metadata": {},
     "output_type": "execute_result"
    }
   ],
   "source": [
    "df.nunique()"
   ]
  },
  {
   "cell_type": "code",
   "execution_count": 492,
   "id": "85a3b84e",
   "metadata": {},
   "outputs": [],
   "source": [
    "df = df.drop(['counter_number','old_index','new_index'],axis=1)"
   ]
  },
  {
   "cell_type": "code",
   "execution_count": 493,
   "id": "f4be8cca",
   "metadata": {},
   "outputs": [],
   "source": [
    "dftest = df[df['client_id']=='train_Client_0']"
   ]
  },
  {
   "cell_type": "code",
   "execution_count": 494,
   "id": "5a6f7945",
   "metadata": {},
   "outputs": [
    {
     "data": {
      "text/plain": [
       "Index(['client_id', 'invoice_date', 'tarif_type', 'counter_statue',\n",
       "       'counter_code', 'reading_remarque', 'counter_coefficient',\n",
       "       'consommation_level_1', 'consommation_level_2', 'consommation_level_3',\n",
       "       'consommation_level_4', 'months_number', 'counter_type'],\n",
       "      dtype='object')"
      ]
     },
     "execution_count": 494,
     "metadata": {},
     "output_type": "execute_result"
    }
   ],
   "source": [
    "df.columns"
   ]
  },
  {
   "cell_type": "code",
   "execution_count": 495,
   "id": "89eaf647",
   "metadata": {},
   "outputs": [
    {
     "data": {
      "text/plain": [
       "client_id                1\n",
       "invoice_date            35\n",
       "tarif_type               1\n",
       "counter_statue           1\n",
       "counter_code             2\n",
       "reading_remarque         3\n",
       "counter_coefficient      1\n",
       "consommation_level_1    32\n",
       "consommation_level_2     3\n",
       "consommation_level_3     1\n",
       "consommation_level_4     1\n",
       "months_number            4\n",
       "counter_type             1\n",
       "dtype: int64"
      ]
     },
     "execution_count": 495,
     "metadata": {},
     "output_type": "execute_result"
    }
   ],
   "source": [
    "dftest.nunique()"
   ]
  },
  {
   "cell_type": "code",
   "execution_count": 496,
   "id": "02be30de",
   "metadata": {},
   "outputs": [],
   "source": [
    "# ctraintest['tarif_type']\n",
    "# ctraintest['counter_statue']\n",
    "# ctraintest['counter_coefficient']\n",
    "# ctraintest['counter_type']\n",
    "\n",
    "# ctraintest['tarif_type']"
   ]
  },
  {
   "cell_type": "code",
   "execution_count": null,
   "id": "de1df13b",
   "metadata": {},
   "outputs": [],
   "source": []
  },
  {
   "cell_type": "markdown",
   "id": "32f12b31",
   "metadata": {},
   "source": [
    "## 4 Counter Code unique"
   ]
  },
  {
   "cell_type": "code",
   "execution_count": 497,
   "id": "f6072f59",
   "metadata": {},
   "outputs": [],
   "source": [
    "dfakls = np.size(np.unique(np.array(dftest['counter_code'])))"
   ]
  },
  {
   "cell_type": "code",
   "execution_count": 498,
   "id": "42ac61d2",
   "metadata": {},
   "outputs": [
    {
     "name": "stderr",
     "output_type": "stream",
     "text": [
      "C:\\Users\\ali\\AppData\\Local\\Temp\\ipykernel_10136\\3583563263.py:1: SettingWithCopyWarning: \n",
      "A value is trying to be set on a copy of a slice from a DataFrame.\n",
      "Try using .loc[row_indexer,col_indexer] = value instead\n",
      "\n",
      "See the caveats in the documentation: https://pandas.pydata.org/pandas-docs/stable/user_guide/indexing.html#returning-a-view-versus-a-copy\n",
      "  ctraintest['counter_code_len'] = dfakls\n"
     ]
    }
   ],
   "source": [
    "ctraintest['counter_code_len'] = dfakls"
   ]
  },
  {
   "cell_type": "code",
   "execution_count": 499,
   "id": "1d049615",
   "metadata": {},
   "outputs": [
    {
     "data": {
      "text/plain": [
       "client_id                1\n",
       "invoice_date            35\n",
       "tarif_type               1\n",
       "counter_statue           1\n",
       "counter_code             2\n",
       "reading_remarque         3\n",
       "counter_coefficient      1\n",
       "consommation_level_1    32\n",
       "consommation_level_2     3\n",
       "consommation_level_3     1\n",
       "consommation_level_4     1\n",
       "months_number            4\n",
       "counter_type             1\n",
       "dtype: int64"
      ]
     },
     "execution_count": 499,
     "metadata": {},
     "output_type": "execute_result"
    }
   ],
   "source": [
    "dftest.nunique()"
   ]
  },
  {
   "cell_type": "code",
   "execution_count": 500,
   "id": "66d80ba9",
   "metadata": {},
   "outputs": [
    {
     "name": "stderr",
     "output_type": "stream",
     "text": [
      "C:\\Users\\ali\\AppData\\Local\\Temp\\ipykernel_10136\\696115714.py:1: SettingWithCopyWarning: \n",
      "A value is trying to be set on a copy of a slice from a DataFrame.\n",
      "Try using .loc[row_indexer,col_indexer] = value instead\n",
      "\n",
      "See the caveats in the documentation: https://pandas.pydata.org/pandas-docs/stable/user_guide/indexing.html#returning-a-view-versus-a-copy\n",
      "  ctraintest['tarif_type'] = dftest['tarif_type']\n"
     ]
    }
   ],
   "source": [
    "ctraintest['tarif_type'] = dftest['tarif_type']"
   ]
  },
  {
   "cell_type": "code",
   "execution_count": 501,
   "id": "41f0ab29",
   "metadata": {},
   "outputs": [
    {
     "name": "stderr",
     "output_type": "stream",
     "text": [
      "C:\\Users\\ali\\AppData\\Local\\Temp\\ipykernel_10136\\916215525.py:1: SettingWithCopyWarning: \n",
      "A value is trying to be set on a copy of a slice from a DataFrame.\n",
      "Try using .loc[row_indexer,col_indexer] = value instead\n",
      "\n",
      "See the caveats in the documentation: https://pandas.pydata.org/pandas-docs/stable/user_guide/indexing.html#returning-a-view-versus-a-copy\n",
      "  ctraintest['counter_coefficient'] = dftest['counter_coefficient']\n"
     ]
    }
   ],
   "source": [
    "ctraintest['counter_coefficient'] = dftest['counter_coefficient']"
   ]
  },
  {
   "cell_type": "code",
   "execution_count": 502,
   "id": "d8a950c8",
   "metadata": {},
   "outputs": [
    {
     "name": "stderr",
     "output_type": "stream",
     "text": [
      "C:\\Users\\ali\\AppData\\Local\\Temp\\ipykernel_10136\\1996302142.py:1: SettingWithCopyWarning: \n",
      "A value is trying to be set on a copy of a slice from a DataFrame.\n",
      "Try using .loc[row_indexer,col_indexer] = value instead\n",
      "\n",
      "See the caveats in the documentation: https://pandas.pydata.org/pandas-docs/stable/user_guide/indexing.html#returning-a-view-versus-a-copy\n",
      "  ctraintest['counter_type'] = dftest['counter_type']\n"
     ]
    }
   ],
   "source": [
    "ctraintest['counter_type'] = dftest['counter_type']"
   ]
  },
  {
   "cell_type": "code",
   "execution_count": 503,
   "id": "9dd925cd",
   "metadata": {},
   "outputs": [
    {
     "data": {
      "text/html": [
       "<div>\n",
       "<style scoped>\n",
       "    .dataframe tbody tr th:only-of-type {\n",
       "        vertical-align: middle;\n",
       "    }\n",
       "\n",
       "    .dataframe tbody tr th {\n",
       "        vertical-align: top;\n",
       "    }\n",
       "\n",
       "    .dataframe thead th {\n",
       "        text-align: right;\n",
       "    }\n",
       "</style>\n",
       "<table border=\"1\" class=\"dataframe\">\n",
       "  <thead>\n",
       "    <tr style=\"text-align: right;\">\n",
       "      <th></th>\n",
       "      <th>disrict</th>\n",
       "      <th>client_id</th>\n",
       "      <th>client_catg</th>\n",
       "      <th>region</th>\n",
       "      <th>creation_date</th>\n",
       "      <th>target</th>\n",
       "      <th>invoice_count</th>\n",
       "      <th>consommation_level_1_count</th>\n",
       "      <th>consommation_level_1_sum</th>\n",
       "      <th>consommation_level_2_count</th>\n",
       "      <th>...</th>\n",
       "      <th>consommation_level_4_count</th>\n",
       "      <th>consommation_level_4_sum</th>\n",
       "      <th>month_sum</th>\n",
       "      <th>reading_remarque_6</th>\n",
       "      <th>reading_remarque_8</th>\n",
       "      <th>reading_remarque_9</th>\n",
       "      <th>counter_code_len</th>\n",
       "      <th>tarif_type</th>\n",
       "      <th>counter_coefficient</th>\n",
       "      <th>counter_type</th>\n",
       "    </tr>\n",
       "  </thead>\n",
       "  <tbody>\n",
       "    <tr>\n",
       "      <th>0</th>\n",
       "      <td>60</td>\n",
       "      <td>train_Client_0</td>\n",
       "      <td>11</td>\n",
       "      <td>101</td>\n",
       "      <td>1994-12-31</td>\n",
       "      <td>0.0</td>\n",
       "      <td>35</td>\n",
       "      <td>35</td>\n",
       "      <td>12334</td>\n",
       "      <td>2</td>\n",
       "      <td>...</td>\n",
       "      <td>0</td>\n",
       "      <td>0</td>\n",
       "      <td>162</td>\n",
       "      <td>21</td>\n",
       "      <td>8</td>\n",
       "      <td>6</td>\n",
       "      <td>2</td>\n",
       "      <td>11</td>\n",
       "      <td>1</td>\n",
       "      <td>ELEC</td>\n",
       "    </tr>\n",
       "  </tbody>\n",
       "</table>\n",
       "<p>1 rows × 23 columns</p>\n",
       "</div>"
      ],
      "text/plain": [
       "   disrict       client_id  client_catg  region creation_date  target  \\\n",
       "0       60  train_Client_0           11     101    1994-12-31     0.0   \n",
       "\n",
       "   invoice_count  consommation_level_1_count  consommation_level_1_sum  \\\n",
       "0             35                          35                     12334   \n",
       "\n",
       "   consommation_level_2_count  ...  consommation_level_4_count  \\\n",
       "0                           2  ...                           0   \n",
       "\n",
       "   consommation_level_4_sum  month_sum  reading_remarque_6  \\\n",
       "0                         0        162                  21   \n",
       "\n",
       "   reading_remarque_8  reading_remarque_9  counter_code_len  tarif_type  \\\n",
       "0                   8                   6                 2          11   \n",
       "\n",
       "   counter_coefficient  counter_type  \n",
       "0                    1          ELEC  \n",
       "\n",
       "[1 rows x 23 columns]"
      ]
     },
     "execution_count": 503,
     "metadata": {},
     "output_type": "execute_result"
    }
   ],
   "source": [
    "ctraintest"
   ]
  },
  {
   "cell_type": "markdown",
   "id": "438fa31e",
   "metadata": {},
   "source": [
    "# Full Data Set Preprocessing"
   ]
  },
  {
   "cell_type": "markdown",
   "id": "2408b35d",
   "metadata": {},
   "source": [
    "## df & ctrain"
   ]
  },
  {
   "cell_type": "markdown",
   "id": "82c712aa",
   "metadata": {},
   "source": [
    "### 1-invoice Date"
   ]
  },
  {
   "cell_type": "code",
   "execution_count": 504,
   "id": "89c2d8a8",
   "metadata": {},
   "outputs": [
    {
     "data": {
      "text/plain": [
       "4476749"
      ]
     },
     "execution_count": 504,
     "metadata": {},
     "output_type": "execute_result"
    }
   ],
   "source": [
    "np.count_nonzero(np.array(df['invoice_date']))"
   ]
  },
  {
   "cell_type": "code",
   "execution_count": 505,
   "id": "a400100d",
   "metadata": {},
   "outputs": [],
   "source": [
    "invoicedate = df.groupby(['client_id']).count()['invoice_date']"
   ]
  },
  {
   "cell_type": "markdown",
   "id": "69221bb4",
   "metadata": {},
   "source": [
    "### 2- Consommation level"
   ]
  },
  {
   "cell_type": "markdown",
   "id": "57835f22",
   "metadata": {},
   "source": [
    "#### count"
   ]
  },
  {
   "cell_type": "code",
   "execution_count": 506,
   "id": "e3d33bbb",
   "metadata": {},
   "outputs": [],
   "source": [
    "consommation_level1_count = df.groupby(['client_id']).count()['consommation_level_1']\n",
    "consommation_level2_count = df.groupby(['client_id']).count()['consommation_level_2']\n",
    "consommation_level3_count = df.groupby(['client_id']).count()['consommation_level_3']\n",
    "consommation_level4_count = df.groupby(['client_id']).count()['consommation_level_4']"
   ]
  },
  {
   "cell_type": "markdown",
   "id": "378469a2",
   "metadata": {},
   "source": [
    "#### sum"
   ]
  },
  {
   "cell_type": "code",
   "execution_count": 507,
   "id": "985afb1f",
   "metadata": {},
   "outputs": [
    {
     "name": "stderr",
     "output_type": "stream",
     "text": [
      "C:\\Users\\ali\\AppData\\Local\\Temp\\ipykernel_10136\\3014804396.py:1: FutureWarning: The default value of numeric_only in DataFrameGroupBy.sum is deprecated. In a future version, numeric_only will default to False. Either specify numeric_only or select only columns which should be valid for the function.\n",
      "  consommation_level1_sum = df.groupby(['client_id']).sum()['consommation_level_1']\n",
      "C:\\Users\\ali\\AppData\\Local\\Temp\\ipykernel_10136\\3014804396.py:2: FutureWarning: The default value of numeric_only in DataFrameGroupBy.sum is deprecated. In a future version, numeric_only will default to False. Either specify numeric_only or select only columns which should be valid for the function.\n",
      "  consommation_level2_sum = df.groupby(['client_id']).sum()['consommation_level_2']\n",
      "C:\\Users\\ali\\AppData\\Local\\Temp\\ipykernel_10136\\3014804396.py:3: FutureWarning: The default value of numeric_only in DataFrameGroupBy.sum is deprecated. In a future version, numeric_only will default to False. Either specify numeric_only or select only columns which should be valid for the function.\n",
      "  consommation_level3_sum = df.groupby(['client_id']).sum()['consommation_level_3']\n",
      "C:\\Users\\ali\\AppData\\Local\\Temp\\ipykernel_10136\\3014804396.py:4: FutureWarning: The default value of numeric_only in DataFrameGroupBy.sum is deprecated. In a future version, numeric_only will default to False. Either specify numeric_only or select only columns which should be valid for the function.\n",
      "  consommation_level4_sum = df.groupby(['client_id']).sum()['consommation_level_4']\n"
     ]
    }
   ],
   "source": [
    "consommation_level1_sum = df.groupby(['client_id']).sum()['consommation_level_1']\n",
    "consommation_level2_sum = df.groupby(['client_id']).sum()['consommation_level_2']\n",
    "consommation_level3_sum = df.groupby(['client_id']).sum()['consommation_level_3']\n",
    "consommation_level4_sum = df.groupby(['client_id']).sum()['consommation_level_4']"
   ]
  },
  {
   "cell_type": "markdown",
   "id": "4f58f630",
   "metadata": {},
   "source": [
    "### 3-  Month Number"
   ]
  },
  {
   "cell_type": "code",
   "execution_count": 508,
   "id": "30aa4c23",
   "metadata": {
    "scrolled": true
   },
   "outputs": [
    {
     "name": "stderr",
     "output_type": "stream",
     "text": [
      "C:\\Users\\ali\\AppData\\Local\\Temp\\ipykernel_10136\\3743967899.py:1: FutureWarning: The default value of numeric_only in DataFrameGroupBy.sum is deprecated. In a future version, numeric_only will default to False. Either specify numeric_only or select only columns which should be valid for the function.\n",
      "  monthnumber = df.groupby(['client_id']).sum()['months_number']\n"
     ]
    }
   ],
   "source": [
    "monthnumber = df.groupby(['client_id']).sum()['months_number']"
   ]
  },
  {
   "cell_type": "markdown",
   "id": "40da0bdd",
   "metadata": {},
   "source": [
    "### 4- reading_remarque"
   ]
  },
  {
   "cell_type": "code",
   "execution_count": 509,
   "id": "390c6c1b",
   "metadata": {},
   "outputs": [],
   "source": [
    "# df = df[(df['reading_remarque']==6) | (df['reading_remarque']==9) | (df['reading_remarque']==8)]"
   ]
  },
  {
   "cell_type": "code",
   "execution_count": 510,
   "id": "6da95e6c",
   "metadata": {},
   "outputs": [
    {
     "data": {
      "text/plain": [
       "6      2230939\n",
       "9      1416992\n",
       "8       828123\n",
       "7          661\n",
       "203         15\n",
       "413         12\n",
       "207          6\n",
       "5            1\n",
       "Name: reading_remarque, dtype: int64"
      ]
     },
     "execution_count": 510,
     "metadata": {},
     "output_type": "execute_result"
    }
   ],
   "source": [
    "df['reading_remarque'].value_counts()"
   ]
  },
  {
   "cell_type": "code",
   "execution_count": 511,
   "id": "df3cb4d3",
   "metadata": {},
   "outputs": [],
   "source": [
    "# rempa6= np.count_nonzero(np.array(dftest[dftest['reading_remarque']==6]['reading_remarque']))"
   ]
  },
  {
   "cell_type": "code",
   "execution_count": 512,
   "id": "4797aab6",
   "metadata": {},
   "outputs": [],
   "source": [
    "reading_remarque6 = df[df['reading_remarque']==6].groupby(['client_id']).count()\n",
    "reading_remarque9 = df[df['reading_remarque']==9].groupby(['client_id']).count()\n",
    "reading_remarque8 = df[df['reading_remarque']==8].groupby(['client_id']).count()"
   ]
  },
  {
   "cell_type": "markdown",
   "id": "d416998a",
   "metadata": {},
   "source": [
    "### 5- Counter Code unique"
   ]
  },
  {
   "cell_type": "code",
   "execution_count": 513,
   "id": "5817bc2f",
   "metadata": {},
   "outputs": [],
   "source": [
    "CounterCode = df.groupby(['client_id']).nunique()['counter_code']"
   ]
  },
  {
   "cell_type": "code",
   "execution_count": 514,
   "id": "14c49f22",
   "metadata": {
    "scrolled": true
   },
   "outputs": [
    {
     "data": {
      "text/plain": [
       "(1, 6)"
      ]
     },
     "execution_count": 514,
     "metadata": {},
     "output_type": "execute_result"
    }
   ],
   "source": [
    "CounterCode.min(),CounterCode.max()"
   ]
  },
  {
   "cell_type": "code",
   "execution_count": 515,
   "id": "67a2d388",
   "metadata": {},
   "outputs": [],
   "source": [
    "# df['counter_code'].value_counts()"
   ]
  },
  {
   "cell_type": "code",
   "execution_count": 516,
   "id": "6fca71bd",
   "metadata": {},
   "outputs": [
    {
     "data": {
      "text/plain": [
       "1    69356\n",
       "2    59734\n",
       "3     5852\n",
       "4      512\n",
       "5       32\n",
       "6        7\n",
       "Name: counter_code, dtype: int64"
      ]
     },
     "execution_count": 516,
     "metadata": {},
     "output_type": "execute_result"
    }
   ],
   "source": [
    "CounterCode.value_counts()"
   ]
  },
  {
   "cell_type": "code",
   "execution_count": 517,
   "id": "3368b25b",
   "metadata": {},
   "outputs": [
    {
     "data": {
      "text/plain": [
       "135493"
      ]
     },
     "execution_count": 517,
     "metadata": {},
     "output_type": "execute_result"
    }
   ],
   "source": [
    "len(CounterCode)"
   ]
  },
  {
   "cell_type": "code",
   "execution_count": 518,
   "id": "4793306c",
   "metadata": {},
   "outputs": [],
   "source": [
    "# CounterCode1 = df[df['counter_code']==1].groupby(['client_id']).count()\n",
    "# CounterCode2 = df[df['counter_code']==2].groupby(['client_id']).count()\n",
    "# CounterCode3 = df[df['counter_code']==3].groupby(['client_id']).count()\n",
    "# CounterCode4 = df[df['counter_code']==5].groupby(['client_id']).count()\n",
    "# CounterCode5 = df[df['counter_code']==5].groupby(['client_id']).count()\n",
    "# CounterCode6 = df[df['counter_code']==6].groupby(['client_id']).count()"
   ]
  },
  {
   "cell_type": "markdown",
   "id": "2b8adca1",
   "metadata": {},
   "source": [
    "### 6- distinice value"
   ]
  },
  {
   "cell_type": "code",
   "execution_count": 519,
   "id": "08e312fa",
   "metadata": {},
   "outputs": [
    {
     "data": {
      "text/plain": [
       "client_id               135493\n",
       "invoice_date              8275\n",
       "tarif_type                  17\n",
       "counter_statue              12\n",
       "counter_code                42\n",
       "reading_remarque             8\n",
       "counter_coefficient         16\n",
       "consommation_level_1      8295\n",
       "consommation_level_2     12576\n",
       "consommation_level_3      2253\n",
       "consommation_level_4     12075\n",
       "months_number             1370\n",
       "counter_type                 2\n",
       "dtype: int64"
      ]
     },
     "execution_count": 519,
     "metadata": {},
     "output_type": "execute_result"
    }
   ],
   "source": [
    "df.nunique()"
   ]
  },
  {
   "cell_type": "markdown",
   "id": "82422ada",
   "metadata": {},
   "source": [
    "#### tarif_type"
   ]
  },
  {
   "cell_type": "code",
   "execution_count": 520,
   "id": "e3a079ca",
   "metadata": {
    "scrolled": true
   },
   "outputs": [
    {
     "data": {
      "text/plain": [
       "(1, 6)"
      ]
     },
     "execution_count": 520,
     "metadata": {},
     "output_type": "execute_result"
    }
   ],
   "source": [
    "er = df.groupby(['client_id']).nunique()['tarif_type']\n",
    "er.min(), er.max()"
   ]
  },
  {
   "cell_type": "code",
   "execution_count": 521,
   "id": "a7b7eb30",
   "metadata": {},
   "outputs": [
    {
     "data": {
      "text/plain": [
       "client_id\n",
       "train_Client_0        1\n",
       "train_Client_1        1\n",
       "train_Client_10       1\n",
       "train_Client_100      1\n",
       "train_Client_1000     1\n",
       "                     ..\n",
       "train_Client_99995    2\n",
       "train_Client_99996    2\n",
       "train_Client_99997    2\n",
       "train_Client_99998    1\n",
       "train_Client_99999    1\n",
       "Name: tarif_type, Length: 135493, dtype: int64"
      ]
     },
     "execution_count": 521,
     "metadata": {},
     "output_type": "execute_result"
    }
   ],
   "source": [
    "er"
   ]
  },
  {
   "cell_type": "code",
   "execution_count": 522,
   "id": "1c4c5fcb",
   "metadata": {},
   "outputs": [
    {
     "data": {
      "text/plain": [
       "1    70837\n",
       "2    60466\n",
       "3     3701\n",
       "4      424\n",
       "5       56\n",
       "6        9\n",
       "Name: tarif_type, dtype: int64"
      ]
     },
     "execution_count": 522,
     "metadata": {},
     "output_type": "execute_result"
    }
   ],
   "source": [
    "er.value_counts()"
   ]
  },
  {
   "cell_type": "markdown",
   "id": "3c9bffe9",
   "metadata": {},
   "source": [
    "#### counter_coefficient"
   ]
  },
  {
   "cell_type": "code",
   "execution_count": 523,
   "id": "7b61a076",
   "metadata": {},
   "outputs": [],
   "source": [
    "iu = df.groupby(['client_id']).nunique()['counter_coefficient']"
   ]
  },
  {
   "cell_type": "code",
   "execution_count": 524,
   "id": "9775d857",
   "metadata": {},
   "outputs": [
    {
     "data": {
      "text/plain": [
       "(1, 4)"
      ]
     },
     "execution_count": 524,
     "metadata": {},
     "output_type": "execute_result"
    }
   ],
   "source": [
    "iu.min(), iu.max()"
   ]
  },
  {
   "cell_type": "code",
   "execution_count": 525,
   "id": "18f470fc",
   "metadata": {},
   "outputs": [
    {
     "data": {
      "text/plain": [
       "1    135449\n",
       "2        43\n",
       "4         1\n",
       "Name: counter_coefficient, dtype: int64"
      ]
     },
     "execution_count": 525,
     "metadata": {},
     "output_type": "execute_result"
    }
   ],
   "source": [
    "iu.value_counts()"
   ]
  },
  {
   "cell_type": "markdown",
   "id": "77832d5b",
   "metadata": {},
   "source": [
    "#### counter_statue"
   ]
  },
  {
   "cell_type": "code",
   "execution_count": 526,
   "id": "f9aa8517",
   "metadata": {},
   "outputs": [],
   "source": [
    "eww = df.groupby(['client_id']).nunique()['counter_statue']"
   ]
  },
  {
   "cell_type": "code",
   "execution_count": 527,
   "id": "6cc61433",
   "metadata": {},
   "outputs": [
    {
     "data": {
      "text/plain": [
       "(1, 4)"
      ]
     },
     "execution_count": 527,
     "metadata": {},
     "output_type": "execute_result"
    }
   ],
   "source": [
    "eww.min(),eww.max()"
   ]
  },
  {
   "cell_type": "code",
   "execution_count": 528,
   "id": "4be43a81",
   "metadata": {},
   "outputs": [
    {
     "data": {
      "text/plain": [
       "1    92532\n",
       "2    34753\n",
       "3     8161\n",
       "4       47\n",
       "Name: counter_statue, dtype: int64"
      ]
     },
     "execution_count": 528,
     "metadata": {},
     "output_type": "execute_result"
    }
   ],
   "source": [
    "eww.value_counts()"
   ]
  },
  {
   "cell_type": "markdown",
   "id": "fbed65dc",
   "metadata": {},
   "source": [
    "#### counter_type"
   ]
  },
  {
   "cell_type": "code",
   "execution_count": 529,
   "id": "fb69c0c6",
   "metadata": {},
   "outputs": [],
   "source": [
    "nsj = df.groupby(['client_id']).nunique()['counter_statue']"
   ]
  },
  {
   "cell_type": "code",
   "execution_count": 530,
   "id": "6883054b",
   "metadata": {},
   "outputs": [
    {
     "data": {
      "text/plain": [
       "(1, 4)"
      ]
     },
     "execution_count": 530,
     "metadata": {},
     "output_type": "execute_result"
    }
   ],
   "source": [
    "nsj.min(), nsj.max()"
   ]
  },
  {
   "cell_type": "code",
   "execution_count": 531,
   "id": "c180c04c",
   "metadata": {},
   "outputs": [
    {
     "data": {
      "text/plain": [
       "1    92532\n",
       "2    34753\n",
       "3     8161\n",
       "4       47\n",
       "Name: counter_statue, dtype: int64"
      ]
     },
     "execution_count": 531,
     "metadata": {},
     "output_type": "execute_result"
    }
   ],
   "source": [
    "nsj.value_counts()"
   ]
  },
  {
   "cell_type": "code",
   "execution_count": 532,
   "id": "1d0f13ec",
   "metadata": {},
   "outputs": [
    {
     "data": {
      "text/plain": [
       "Index(['disrict', 'client_id', 'client_catg', 'region', 'creation_date',\n",
       "       'target', 'invoice_count', 'consommation_level_1_count',\n",
       "       'consommation_level_1_sum', 'consommation_level_2_count',\n",
       "       'consommation_level_2_sum', 'consommation_level_3_count',\n",
       "       'consommation_level_3_sum', 'consommation_level_4_count',\n",
       "       'consommation_level_4_sum', 'month_sum', 'reading_remarque_6',\n",
       "       'reading_remarque_8', 'reading_remarque_9', 'counter_code_len',\n",
       "       'tarif_type', 'counter_coefficient', 'counter_type'],\n",
       "      dtype='object')"
      ]
     },
     "execution_count": 532,
     "metadata": {},
     "output_type": "execute_result"
    }
   ],
   "source": [
    "ctraintest.columns"
   ]
  },
  {
   "cell_type": "markdown",
   "id": "6ea575ee",
   "metadata": {},
   "source": [
    " why you most known all dataset"
   ]
  },
  {
   "cell_type": "code",
   "execution_count": 533,
   "id": "5f3d9387",
   "metadata": {},
   "outputs": [
    {
     "data": {
      "text/plain": [
       "(1939730, 58069)"
      ]
     },
     "execution_count": 533,
     "metadata": {},
     "output_type": "execute_result"
    }
   ],
   "source": [
    "len(test), len(ctest)"
   ]
  },
  {
   "cell_type": "markdown",
   "id": "828e2853",
   "metadata": {},
   "source": [
    "# Data Set"
   ]
  },
  {
   "cell_type": "code",
   "execution_count": 534,
   "id": "ee22130d",
   "metadata": {},
   "outputs": [],
   "source": [
    "# 1- invoicedate"
   ]
  },
  {
   "cell_type": "code",
   "execution_count": 535,
   "id": "f76085ac",
   "metadata": {},
   "outputs": [
    {
     "data": {
      "text/plain": [
       "client_id\n",
       "train_Client_99995    71\n",
       "train_Client_99996    41\n",
       "train_Client_99997    36\n",
       "train_Client_99998     2\n",
       "train_Client_99999     3\n",
       "Name: invoice_date, dtype: int64"
      ]
     },
     "execution_count": 535,
     "metadata": {},
     "output_type": "execute_result"
    }
   ],
   "source": [
    "invoicedate.tail()"
   ]
  },
  {
   "cell_type": "code",
   "execution_count": 536,
   "id": "d3ddbe6f",
   "metadata": {},
   "outputs": [
    {
     "data": {
      "text/plain": [
       "True"
      ]
     },
     "execution_count": 536,
     "metadata": {},
     "output_type": "execute_result"
    }
   ],
   "source": [
    "len(ctrain) == len(invoicedate)"
   ]
  },
  {
   "cell_type": "code",
   "execution_count": 537,
   "id": "b1c88bee",
   "metadata": {},
   "outputs": [],
   "source": [
    "ctrain['invoicedate'] = invoicedate.values"
   ]
  },
  {
   "cell_type": "code",
   "execution_count": 538,
   "id": "f4face56",
   "metadata": {},
   "outputs": [],
   "source": [
    "# 2- Consommation level"
   ]
  },
  {
   "cell_type": "code",
   "execution_count": 539,
   "id": "ab8d5c7e",
   "metadata": {},
   "outputs": [
    {
     "data": {
      "text/plain": [
       "True"
      ]
     },
     "execution_count": 539,
     "metadata": {},
     "output_type": "execute_result"
    }
   ],
   "source": [
    "# 2.1 count\n",
    "len(ctrain)==len(consommation_level1_count) ==len(consommation_level2_count) ==len(consommation_level3_count)==len(consommation_level4_count)"
   ]
  },
  {
   "cell_type": "code",
   "execution_count": 540,
   "id": "aeb409ef",
   "metadata": {},
   "outputs": [
    {
     "data": {
      "text/plain": [
       "0"
      ]
     },
     "execution_count": 540,
     "metadata": {},
     "output_type": "execute_result"
    }
   ],
   "source": [
    "len(ctrain) - len(consommation_level1_count)"
   ]
  },
  {
   "cell_type": "code",
   "execution_count": 577,
   "id": "4d337f3e",
   "metadata": {},
   "outputs": [],
   "source": [
    "ctrain['consommation_level1_count']  = np.array(consommation_level1_count)\n",
    "ctrain['consommation_level2_count']  = np.array(consommation_level2_count)\n",
    "ctrain['consommation_level3_count']  = np.array(consommation_level3_count)\n",
    "ctrain['consommation_level4_count']  = np.array(consommation_level4_count)"
   ]
  },
  {
   "cell_type": "code",
   "execution_count": 601,
   "id": "ff166ae6",
   "metadata": {},
   "outputs": [
    {
     "data": {
      "text/plain": [
       "0"
      ]
     },
     "execution_count": 601,
     "metadata": {},
     "output_type": "execute_result"
    }
   ],
   "source": [
    "(consommation_level1_count != consommation_level4_count).sum()"
   ]
  },
  {
   "cell_type": "code",
   "execution_count": 593,
   "id": "2bd0594a",
   "metadata": {},
   "outputs": [
    {
     "data": {
      "text/plain": [
       "3524"
      ]
     },
     "execution_count": 593,
     "metadata": {},
     "output_type": "execute_result"
    }
   ],
   "source": [
    "# 2.2 consommation sum\n",
    "(consommation_level4_sum==consommation_level1_sum).sum()"
   ]
  },
  {
   "cell_type": "code",
   "execution_count": 596,
   "id": "18ad3981",
   "metadata": {},
   "outputs": [
    {
     "data": {
      "text/plain": [
       "(135493,)"
      ]
     },
     "execution_count": 596,
     "metadata": {},
     "output_type": "execute_result"
    }
   ],
   "source": [
    "consommation_level1_sum.shape"
   ]
  },
  {
   "cell_type": "code",
   "execution_count": 597,
   "id": "ff309144",
   "metadata": {},
   "outputs": [],
   "source": [
    "ctrain['consommation_level1_sum']  = np.array(consommation_level1_sum)\n",
    "ctrain['consommation_level2_sum']  = np.array(consommation_level2_sum)\n",
    "ctrain['consommation_level3_sum']  = np.array(consommation_level3_sum)\n",
    "ctrain['consommation_level4_sum']  = np.array(consommation_level4_sum)"
   ]
  },
  {
   "cell_type": "code",
   "execution_count": 598,
   "id": "4eefb9b8",
   "metadata": {},
   "outputs": [
    {
     "data": {
      "text/html": [
       "<div>\n",
       "<style scoped>\n",
       "    .dataframe tbody tr th:only-of-type {\n",
       "        vertical-align: middle;\n",
       "    }\n",
       "\n",
       "    .dataframe tbody tr th {\n",
       "        vertical-align: top;\n",
       "    }\n",
       "\n",
       "    .dataframe thead th {\n",
       "        text-align: right;\n",
       "    }\n",
       "</style>\n",
       "<table border=\"1\" class=\"dataframe\">\n",
       "  <thead>\n",
       "    <tr style=\"text-align: right;\">\n",
       "      <th></th>\n",
       "      <th>disrict</th>\n",
       "      <th>client_id</th>\n",
       "      <th>client_catg</th>\n",
       "      <th>region</th>\n",
       "      <th>creation_date</th>\n",
       "      <th>target</th>\n",
       "      <th>invoicedate</th>\n",
       "      <th>consommation_level1_count</th>\n",
       "      <th>consommation_level2_count</th>\n",
       "      <th>consommation_level3_count</th>\n",
       "      <th>consommation_level4_count</th>\n",
       "      <th>consommation_level1_sum</th>\n",
       "      <th>consommation_level2_sum</th>\n",
       "      <th>consommation_level3_sum</th>\n",
       "      <th>consommation_level4_sum</th>\n",
       "    </tr>\n",
       "  </thead>\n",
       "  <tbody>\n",
       "    <tr>\n",
       "      <th>0</th>\n",
       "      <td>60</td>\n",
       "      <td>train_Client_0</td>\n",
       "      <td>11</td>\n",
       "      <td>101</td>\n",
       "      <td>1994-12-31</td>\n",
       "      <td>0.0</td>\n",
       "      <td>35</td>\n",
       "      <td>35</td>\n",
       "      <td>35</td>\n",
       "      <td>35</td>\n",
       "      <td>35</td>\n",
       "      <td>12334</td>\n",
       "      <td>370</td>\n",
       "      <td>0</td>\n",
       "      <td>0</td>\n",
       "    </tr>\n",
       "    <tr>\n",
       "      <th>1</th>\n",
       "      <td>69</td>\n",
       "      <td>train_Client_1</td>\n",
       "      <td>11</td>\n",
       "      <td>107</td>\n",
       "      <td>2002-05-29</td>\n",
       "      <td>0.0</td>\n",
       "      <td>37</td>\n",
       "      <td>37</td>\n",
       "      <td>37</td>\n",
       "      <td>37</td>\n",
       "      <td>37</td>\n",
       "      <td>20629</td>\n",
       "      <td>0</td>\n",
       "      <td>0</td>\n",
       "      <td>0</td>\n",
       "    </tr>\n",
       "    <tr>\n",
       "      <th>2</th>\n",
       "      <td>62</td>\n",
       "      <td>train_Client_10</td>\n",
       "      <td>11</td>\n",
       "      <td>301</td>\n",
       "      <td>1986-03-13</td>\n",
       "      <td>0.0</td>\n",
       "      <td>18</td>\n",
       "      <td>18</td>\n",
       "      <td>18</td>\n",
       "      <td>18</td>\n",
       "      <td>18</td>\n",
       "      <td>14375</td>\n",
       "      <td>682</td>\n",
       "      <td>0</td>\n",
       "      <td>0</td>\n",
       "    </tr>\n",
       "    <tr>\n",
       "      <th>3</th>\n",
       "      <td>69</td>\n",
       "      <td>train_Client_100</td>\n",
       "      <td>11</td>\n",
       "      <td>105</td>\n",
       "      <td>1996-07-11</td>\n",
       "      <td>0.0</td>\n",
       "      <td>20</td>\n",
       "      <td>20</td>\n",
       "      <td>20</td>\n",
       "      <td>20</td>\n",
       "      <td>20</td>\n",
       "      <td>24</td>\n",
       "      <td>0</td>\n",
       "      <td>0</td>\n",
       "      <td>0</td>\n",
       "    </tr>\n",
       "    <tr>\n",
       "      <th>4</th>\n",
       "      <td>62</td>\n",
       "      <td>train_Client_1000</td>\n",
       "      <td>11</td>\n",
       "      <td>303</td>\n",
       "      <td>2014-10-14</td>\n",
       "      <td>0.0</td>\n",
       "      <td>14</td>\n",
       "      <td>14</td>\n",
       "      <td>14</td>\n",
       "      <td>14</td>\n",
       "      <td>14</td>\n",
       "      <td>9292</td>\n",
       "      <td>1468</td>\n",
       "      <td>1643</td>\n",
       "      <td>514</td>\n",
       "    </tr>\n",
       "    <tr>\n",
       "      <th>...</th>\n",
       "      <td>...</td>\n",
       "      <td>...</td>\n",
       "      <td>...</td>\n",
       "      <td>...</td>\n",
       "      <td>...</td>\n",
       "      <td>...</td>\n",
       "      <td>...</td>\n",
       "      <td>...</td>\n",
       "      <td>...</td>\n",
       "      <td>...</td>\n",
       "      <td>...</td>\n",
       "      <td>...</td>\n",
       "      <td>...</td>\n",
       "      <td>...</td>\n",
       "      <td>...</td>\n",
       "    </tr>\n",
       "    <tr>\n",
       "      <th>135488</th>\n",
       "      <td>62</td>\n",
       "      <td>train_Client_99995</td>\n",
       "      <td>11</td>\n",
       "      <td>304</td>\n",
       "      <td>2004-07-26</td>\n",
       "      <td>0.0</td>\n",
       "      <td>71</td>\n",
       "      <td>71</td>\n",
       "      <td>71</td>\n",
       "      <td>71</td>\n",
       "      <td>71</td>\n",
       "      <td>139</td>\n",
       "      <td>0</td>\n",
       "      <td>0</td>\n",
       "      <td>0</td>\n",
       "    </tr>\n",
       "    <tr>\n",
       "      <th>135489</th>\n",
       "      <td>63</td>\n",
       "      <td>train_Client_99996</td>\n",
       "      <td>11</td>\n",
       "      <td>311</td>\n",
       "      <td>2012-10-25</td>\n",
       "      <td>0.0</td>\n",
       "      <td>41</td>\n",
       "      <td>41</td>\n",
       "      <td>41</td>\n",
       "      <td>41</td>\n",
       "      <td>41</td>\n",
       "      <td>7620</td>\n",
       "      <td>31</td>\n",
       "      <td>0</td>\n",
       "      <td>0</td>\n",
       "    </tr>\n",
       "    <tr>\n",
       "      <th>135490</th>\n",
       "      <td>63</td>\n",
       "      <td>train_Client_99997</td>\n",
       "      <td>11</td>\n",
       "      <td>311</td>\n",
       "      <td>2011-11-22</td>\n",
       "      <td>0.0</td>\n",
       "      <td>36</td>\n",
       "      <td>36</td>\n",
       "      <td>36</td>\n",
       "      <td>36</td>\n",
       "      <td>36</td>\n",
       "      <td>9831</td>\n",
       "      <td>0</td>\n",
       "      <td>0</td>\n",
       "      <td>0</td>\n",
       "    </tr>\n",
       "    <tr>\n",
       "      <th>135491</th>\n",
       "      <td>60</td>\n",
       "      <td>train_Client_99998</td>\n",
       "      <td>11</td>\n",
       "      <td>101</td>\n",
       "      <td>1993-12-22</td>\n",
       "      <td>0.0</td>\n",
       "      <td>2</td>\n",
       "      <td>2</td>\n",
       "      <td>2</td>\n",
       "      <td>2</td>\n",
       "      <td>2</td>\n",
       "      <td>600</td>\n",
       "      <td>141</td>\n",
       "      <td>0</td>\n",
       "      <td>0</td>\n",
       "    </tr>\n",
       "    <tr>\n",
       "      <th>135492</th>\n",
       "      <td>60</td>\n",
       "      <td>train_Client_99999</td>\n",
       "      <td>11</td>\n",
       "      <td>101</td>\n",
       "      <td>1986-02-18</td>\n",
       "      <td>0.0</td>\n",
       "      <td>3</td>\n",
       "      <td>3</td>\n",
       "      <td>3</td>\n",
       "      <td>3</td>\n",
       "      <td>3</td>\n",
       "      <td>1378</td>\n",
       "      <td>0</td>\n",
       "      <td>0</td>\n",
       "      <td>0</td>\n",
       "    </tr>\n",
       "  </tbody>\n",
       "</table>\n",
       "<p>135493 rows × 15 columns</p>\n",
       "</div>"
      ],
      "text/plain": [
       "        disrict           client_id  client_catg  region creation_date  \\\n",
       "0            60      train_Client_0           11     101    1994-12-31   \n",
       "1            69      train_Client_1           11     107    2002-05-29   \n",
       "2            62     train_Client_10           11     301    1986-03-13   \n",
       "3            69    train_Client_100           11     105    1996-07-11   \n",
       "4            62   train_Client_1000           11     303    2014-10-14   \n",
       "...         ...                 ...          ...     ...           ...   \n",
       "135488       62  train_Client_99995           11     304    2004-07-26   \n",
       "135489       63  train_Client_99996           11     311    2012-10-25   \n",
       "135490       63  train_Client_99997           11     311    2011-11-22   \n",
       "135491       60  train_Client_99998           11     101    1993-12-22   \n",
       "135492       60  train_Client_99999           11     101    1986-02-18   \n",
       "\n",
       "        target  invoicedate  consommation_level1_count  \\\n",
       "0          0.0           35                         35   \n",
       "1          0.0           37                         37   \n",
       "2          0.0           18                         18   \n",
       "3          0.0           20                         20   \n",
       "4          0.0           14                         14   \n",
       "...        ...          ...                        ...   \n",
       "135488     0.0           71                         71   \n",
       "135489     0.0           41                         41   \n",
       "135490     0.0           36                         36   \n",
       "135491     0.0            2                          2   \n",
       "135492     0.0            3                          3   \n",
       "\n",
       "        consommation_level2_count  consommation_level3_count  \\\n",
       "0                              35                         35   \n",
       "1                              37                         37   \n",
       "2                              18                         18   \n",
       "3                              20                         20   \n",
       "4                              14                         14   \n",
       "...                           ...                        ...   \n",
       "135488                         71                         71   \n",
       "135489                         41                         41   \n",
       "135490                         36                         36   \n",
       "135491                          2                          2   \n",
       "135492                          3                          3   \n",
       "\n",
       "        consommation_level4_count  consommation_level1_sum  \\\n",
       "0                              35                    12334   \n",
       "1                              37                    20629   \n",
       "2                              18                    14375   \n",
       "3                              20                       24   \n",
       "4                              14                     9292   \n",
       "...                           ...                      ...   \n",
       "135488                         71                      139   \n",
       "135489                         41                     7620   \n",
       "135490                         36                     9831   \n",
       "135491                          2                      600   \n",
       "135492                          3                     1378   \n",
       "\n",
       "        consommation_level2_sum  consommation_level3_sum  \\\n",
       "0                           370                        0   \n",
       "1                             0                        0   \n",
       "2                           682                        0   \n",
       "3                             0                        0   \n",
       "4                          1468                     1643   \n",
       "...                         ...                      ...   \n",
       "135488                        0                        0   \n",
       "135489                       31                        0   \n",
       "135490                        0                        0   \n",
       "135491                      141                        0   \n",
       "135492                        0                        0   \n",
       "\n",
       "        consommation_level4_sum  \n",
       "0                             0  \n",
       "1                             0  \n",
       "2                             0  \n",
       "3                             0  \n",
       "4                           514  \n",
       "...                         ...  \n",
       "135488                        0  \n",
       "135489                        0  \n",
       "135490                        0  \n",
       "135491                        0  \n",
       "135492                        0  \n",
       "\n",
       "[135493 rows x 15 columns]"
      ]
     },
     "execution_count": 598,
     "metadata": {},
     "output_type": "execute_result"
    }
   ],
   "source": [
    "ctrain"
   ]
  },
  {
   "cell_type": "code",
   "execution_count": 602,
   "id": "8de3d768",
   "metadata": {},
   "outputs": [
    {
     "data": {
      "text/html": [
       "<div>\n",
       "<style scoped>\n",
       "    .dataframe tbody tr th:only-of-type {\n",
       "        vertical-align: middle;\n",
       "    }\n",
       "\n",
       "    .dataframe tbody tr th {\n",
       "        vertical-align: top;\n",
       "    }\n",
       "\n",
       "    .dataframe thead th {\n",
       "        text-align: right;\n",
       "    }\n",
       "</style>\n",
       "<table border=\"1\" class=\"dataframe\">\n",
       "  <thead>\n",
       "    <tr style=\"text-align: right;\">\n",
       "      <th></th>\n",
       "      <th>disrict</th>\n",
       "      <th>client_id</th>\n",
       "      <th>client_catg</th>\n",
       "      <th>region</th>\n",
       "      <th>creation_date</th>\n",
       "      <th>target</th>\n",
       "      <th>invoicedate</th>\n",
       "      <th>consommation_level1_count</th>\n",
       "      <th>consommation_level1_sum</th>\n",
       "      <th>consommation_level2_sum</th>\n",
       "      <th>consommation_level3_sum</th>\n",
       "      <th>consommation_level4_sum</th>\n",
       "    </tr>\n",
       "  </thead>\n",
       "  <tbody>\n",
       "    <tr>\n",
       "      <th>0</th>\n",
       "      <td>60</td>\n",
       "      <td>train_Client_0</td>\n",
       "      <td>11</td>\n",
       "      <td>101</td>\n",
       "      <td>1994-12-31</td>\n",
       "      <td>0.0</td>\n",
       "      <td>35</td>\n",
       "      <td>35</td>\n",
       "      <td>12334</td>\n",
       "      <td>370</td>\n",
       "      <td>0</td>\n",
       "      <td>0</td>\n",
       "    </tr>\n",
       "    <tr>\n",
       "      <th>1</th>\n",
       "      <td>69</td>\n",
       "      <td>train_Client_1</td>\n",
       "      <td>11</td>\n",
       "      <td>107</td>\n",
       "      <td>2002-05-29</td>\n",
       "      <td>0.0</td>\n",
       "      <td>37</td>\n",
       "      <td>37</td>\n",
       "      <td>20629</td>\n",
       "      <td>0</td>\n",
       "      <td>0</td>\n",
       "      <td>0</td>\n",
       "    </tr>\n",
       "    <tr>\n",
       "      <th>2</th>\n",
       "      <td>62</td>\n",
       "      <td>train_Client_10</td>\n",
       "      <td>11</td>\n",
       "      <td>301</td>\n",
       "      <td>1986-03-13</td>\n",
       "      <td>0.0</td>\n",
       "      <td>18</td>\n",
       "      <td>18</td>\n",
       "      <td>14375</td>\n",
       "      <td>682</td>\n",
       "      <td>0</td>\n",
       "      <td>0</td>\n",
       "    </tr>\n",
       "    <tr>\n",
       "      <th>3</th>\n",
       "      <td>69</td>\n",
       "      <td>train_Client_100</td>\n",
       "      <td>11</td>\n",
       "      <td>105</td>\n",
       "      <td>1996-07-11</td>\n",
       "      <td>0.0</td>\n",
       "      <td>20</td>\n",
       "      <td>20</td>\n",
       "      <td>24</td>\n",
       "      <td>0</td>\n",
       "      <td>0</td>\n",
       "      <td>0</td>\n",
       "    </tr>\n",
       "    <tr>\n",
       "      <th>4</th>\n",
       "      <td>62</td>\n",
       "      <td>train_Client_1000</td>\n",
       "      <td>11</td>\n",
       "      <td>303</td>\n",
       "      <td>2014-10-14</td>\n",
       "      <td>0.0</td>\n",
       "      <td>14</td>\n",
       "      <td>14</td>\n",
       "      <td>9292</td>\n",
       "      <td>1468</td>\n",
       "      <td>1643</td>\n",
       "      <td>514</td>\n",
       "    </tr>\n",
       "    <tr>\n",
       "      <th>...</th>\n",
       "      <td>...</td>\n",
       "      <td>...</td>\n",
       "      <td>...</td>\n",
       "      <td>...</td>\n",
       "      <td>...</td>\n",
       "      <td>...</td>\n",
       "      <td>...</td>\n",
       "      <td>...</td>\n",
       "      <td>...</td>\n",
       "      <td>...</td>\n",
       "      <td>...</td>\n",
       "      <td>...</td>\n",
       "    </tr>\n",
       "    <tr>\n",
       "      <th>135488</th>\n",
       "      <td>62</td>\n",
       "      <td>train_Client_99995</td>\n",
       "      <td>11</td>\n",
       "      <td>304</td>\n",
       "      <td>2004-07-26</td>\n",
       "      <td>0.0</td>\n",
       "      <td>71</td>\n",
       "      <td>71</td>\n",
       "      <td>139</td>\n",
       "      <td>0</td>\n",
       "      <td>0</td>\n",
       "      <td>0</td>\n",
       "    </tr>\n",
       "    <tr>\n",
       "      <th>135489</th>\n",
       "      <td>63</td>\n",
       "      <td>train_Client_99996</td>\n",
       "      <td>11</td>\n",
       "      <td>311</td>\n",
       "      <td>2012-10-25</td>\n",
       "      <td>0.0</td>\n",
       "      <td>41</td>\n",
       "      <td>41</td>\n",
       "      <td>7620</td>\n",
       "      <td>31</td>\n",
       "      <td>0</td>\n",
       "      <td>0</td>\n",
       "    </tr>\n",
       "    <tr>\n",
       "      <th>135490</th>\n",
       "      <td>63</td>\n",
       "      <td>train_Client_99997</td>\n",
       "      <td>11</td>\n",
       "      <td>311</td>\n",
       "      <td>2011-11-22</td>\n",
       "      <td>0.0</td>\n",
       "      <td>36</td>\n",
       "      <td>36</td>\n",
       "      <td>9831</td>\n",
       "      <td>0</td>\n",
       "      <td>0</td>\n",
       "      <td>0</td>\n",
       "    </tr>\n",
       "    <tr>\n",
       "      <th>135491</th>\n",
       "      <td>60</td>\n",
       "      <td>train_Client_99998</td>\n",
       "      <td>11</td>\n",
       "      <td>101</td>\n",
       "      <td>1993-12-22</td>\n",
       "      <td>0.0</td>\n",
       "      <td>2</td>\n",
       "      <td>2</td>\n",
       "      <td>600</td>\n",
       "      <td>141</td>\n",
       "      <td>0</td>\n",
       "      <td>0</td>\n",
       "    </tr>\n",
       "    <tr>\n",
       "      <th>135492</th>\n",
       "      <td>60</td>\n",
       "      <td>train_Client_99999</td>\n",
       "      <td>11</td>\n",
       "      <td>101</td>\n",
       "      <td>1986-02-18</td>\n",
       "      <td>0.0</td>\n",
       "      <td>3</td>\n",
       "      <td>3</td>\n",
       "      <td>1378</td>\n",
       "      <td>0</td>\n",
       "      <td>0</td>\n",
       "      <td>0</td>\n",
       "    </tr>\n",
       "  </tbody>\n",
       "</table>\n",
       "<p>135493 rows × 12 columns</p>\n",
       "</div>"
      ],
      "text/plain": [
       "        disrict           client_id  client_catg  region creation_date  \\\n",
       "0            60      train_Client_0           11     101    1994-12-31   \n",
       "1            69      train_Client_1           11     107    2002-05-29   \n",
       "2            62     train_Client_10           11     301    1986-03-13   \n",
       "3            69    train_Client_100           11     105    1996-07-11   \n",
       "4            62   train_Client_1000           11     303    2014-10-14   \n",
       "...         ...                 ...          ...     ...           ...   \n",
       "135488       62  train_Client_99995           11     304    2004-07-26   \n",
       "135489       63  train_Client_99996           11     311    2012-10-25   \n",
       "135490       63  train_Client_99997           11     311    2011-11-22   \n",
       "135491       60  train_Client_99998           11     101    1993-12-22   \n",
       "135492       60  train_Client_99999           11     101    1986-02-18   \n",
       "\n",
       "        target  invoicedate  consommation_level1_count  \\\n",
       "0          0.0           35                         35   \n",
       "1          0.0           37                         37   \n",
       "2          0.0           18                         18   \n",
       "3          0.0           20                         20   \n",
       "4          0.0           14                         14   \n",
       "...        ...          ...                        ...   \n",
       "135488     0.0           71                         71   \n",
       "135489     0.0           41                         41   \n",
       "135490     0.0           36                         36   \n",
       "135491     0.0            2                          2   \n",
       "135492     0.0            3                          3   \n",
       "\n",
       "        consommation_level1_sum  consommation_level2_sum  \\\n",
       "0                         12334                      370   \n",
       "1                         20629                        0   \n",
       "2                         14375                      682   \n",
       "3                            24                        0   \n",
       "4                          9292                     1468   \n",
       "...                         ...                      ...   \n",
       "135488                      139                        0   \n",
       "135489                     7620                       31   \n",
       "135490                     9831                        0   \n",
       "135491                      600                      141   \n",
       "135492                     1378                        0   \n",
       "\n",
       "        consommation_level3_sum  consommation_level4_sum  \n",
       "0                             0                        0  \n",
       "1                             0                        0  \n",
       "2                             0                        0  \n",
       "3                             0                        0  \n",
       "4                          1643                      514  \n",
       "...                         ...                      ...  \n",
       "135488                        0                        0  \n",
       "135489                        0                        0  \n",
       "135490                        0                        0  \n",
       "135491                        0                        0  \n",
       "135492                        0                        0  \n",
       "\n",
       "[135493 rows x 12 columns]"
      ]
     },
     "execution_count": 602,
     "metadata": {},
     "output_type": "execute_result"
    }
   ],
   "source": [
    "ctrain.drop(['consommation_level2_count','consommation_level3_count','consommation_level4_count'],axis=1)"
   ]
  },
  {
   "cell_type": "code",
   "execution_count": 603,
   "id": "82feb72a",
   "metadata": {},
   "outputs": [],
   "source": [
    "ctrain = ctrain.drop(['consommation_level2_count','consommation_level3_count','consommation_level4_count'],axis=1)"
   ]
  },
  {
   "cell_type": "code",
   "execution_count": 604,
   "id": "ab3fcc24",
   "metadata": {},
   "outputs": [],
   "source": [
    "# 3.reading_remarque6"
   ]
  },
  {
   "cell_type": "code",
   "execution_count": 607,
   "id": "559742bf",
   "metadata": {
    "scrolled": true
   },
   "outputs": [
    {
     "data": {
      "text/plain": [
       "6      2230939\n",
       "9      1416992\n",
       "8       828123\n",
       "7          661\n",
       "203         15\n",
       "413         12\n",
       "207          6\n",
       "5            1\n",
       "Name: reading_remarque, dtype: int64"
      ]
     },
     "execution_count": 607,
     "metadata": {},
     "output_type": "execute_result"
    }
   ],
   "source": [
    "df['reading_remarque'].value_counts()"
   ]
  },
  {
   "cell_type": "code",
   "execution_count": 612,
   "id": "dbf6c3f7",
   "metadata": {},
   "outputs": [
    {
     "data": {
      "text/plain": [
       "2230939"
      ]
     },
     "execution_count": 612,
     "metadata": {},
     "output_type": "execute_result"
    }
   ],
   "source": [
    "len(df[df['reading_remarque']==6])"
   ]
  },
  {
   "cell_type": "code",
   "execution_count": 613,
   "id": "179e7be9",
   "metadata": {},
   "outputs": [
    {
     "data": {
      "text/plain": [
       "119781"
      ]
     },
     "execution_count": 613,
     "metadata": {},
     "output_type": "execute_result"
    }
   ],
   "source": [
    "len(reading_remarque6)"
   ]
  },
  {
   "cell_type": "code",
   "execution_count": 620,
   "id": "422a7d4e",
   "metadata": {},
   "outputs": [
    {
     "data": {
      "text/plain": [
       "7566.0"
      ]
     },
     "execution_count": 620,
     "metadata": {},
     "output_type": "execute_result"
    }
   ],
   "source": [
    "ctrain['target'].sum()"
   ]
  },
  {
   "cell_type": "code",
   "execution_count": null,
   "id": "7a64ee28",
   "metadata": {},
   "outputs": [],
   "source": [
    ">>>>>>>>>>>>>>>>>>>>>>>>>>>>>>>>>>>>to be countinue..>>>>>>>>>>>>>>>>>>>>>>>>>>>>>>>>>>>>>>>"
   ]
  }
 ],
 "metadata": {
  "kernelspec": {
   "display_name": "Python 3 (ipykernel)",
   "language": "python",
   "name": "python3"
  },
  "language_info": {
   "codemirror_mode": {
    "name": "ipython",
    "version": 3
   },
   "file_extension": ".py",
   "mimetype": "text/x-python",
   "name": "python",
   "nbconvert_exporter": "python",
   "pygments_lexer": "ipython3",
   "version": "3.10.8"
  }
 },
 "nbformat": 4,
 "nbformat_minor": 5
}
